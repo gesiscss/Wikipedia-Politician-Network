{
 "cells": [
  {
   "cell_type": "code",
   "execution_count": 102,
   "metadata": {
    "collapsed": false
   },
   "outputs": [],
   "source": [
    "import pandas as pd\n",
    "import numpy as np\n",
    "from datetime import datetime\n",
    "from matplotlib import pyplot as plt\n",
    "from itertools import groupby\n",
    "from collections import Counter\n",
    "import seaborn as sns\n",
    "%matplotlib inline"
   ]
  },
  {
   "cell_type": "code",
   "execution_count": 47,
   "metadata": {
    "collapsed": false
   },
   "outputs": [],
   "source": [
    "df = pd.read_pickle(\"../data/connected_sources/2016\")"
   ]
  },
  {
   "cell_type": "code",
   "execution_count": 48,
   "metadata": {
    "collapsed": false
   },
   "outputs": [
    {
     "data": {
      "text/html": [
       "<div>\n",
       "<style scoped>\n",
       "    .dataframe tbody tr th:only-of-type {\n",
       "        vertical-align: middle;\n",
       "    }\n",
       "\n",
       "    .dataframe tbody tr th {\n",
       "        vertical-align: top;\n",
       "    }\n",
       "\n",
       "    .dataframe thead th {\n",
       "        text-align: right;\n",
       "    }\n",
       "</style>\n",
       "<table border=\"1\" class=\"dataframe\">\n",
       "  <thead>\n",
       "    <tr style=\"text-align: right;\">\n",
       "      <th></th>\n",
       "      <th>#DBpURL</th>\n",
       "      <th>ID</th>\n",
       "      <th>WikiURL</th>\n",
       "      <th>birthDate</th>\n",
       "      <th>deathDate</th>\n",
       "      <th>first_name</th>\n",
       "      <th>full_name</th>\n",
       "      <th>gender</th>\n",
       "      <th>name</th>\n",
       "      <th>nationality</th>\n",
       "      <th>...</th>\n",
       "      <th>party</th>\n",
       "      <th>entered</th>\n",
       "      <th>efficiency</th>\n",
       "      <th>eig_central</th>\n",
       "      <th>id</th>\n",
       "      <th>in_degree</th>\n",
       "      <th>k_core</th>\n",
       "      <th>out_degree</th>\n",
       "      <th>name_u</th>\n",
       "      <th>views</th>\n",
       "    </tr>\n",
       "  </thead>\n",
       "  <tbody>\n",
       "    <tr>\n",
       "      <th>0</th>\n",
       "      <td>http://dbpedia.org/resource/Nizamettin_Erkmen</td>\n",
       "      <td>144</td>\n",
       "      <td>http://en.wikipedia.org/wiki/Nizamettin_Erkmen</td>\n",
       "      <td>None</td>\n",
       "      <td>1990-10-24 00:00:00</td>\n",
       "      <td>nizamettin</td>\n",
       "      <td>Nizamettin+Erkmen</td>\n",
       "      <td>male</td>\n",
       "      <td>[ erkmen nizamettin ]</td>\n",
       "      <td>[turkish]</td>\n",
       "      <td>...</td>\n",
       "      <td>[]</td>\n",
       "      <td>2007</td>\n",
       "      <td>0.760000</td>\n",
       "      <td>0.000046</td>\n",
       "      <td>144</td>\n",
       "      <td>2</td>\n",
       "      <td>4</td>\n",
       "      <td>3</td>\n",
       "      <td>Nizamettin_Erkmen</td>\n",
       "      <td>916.0</td>\n",
       "    </tr>\n",
       "    <tr>\n",
       "      <th>1</th>\n",
       "      <td>http://dbpedia.org/resource/Claudio_Scajola</td>\n",
       "      <td>183</td>\n",
       "      <td>http://en.wikipedia.org/wiki/Claudio_Scajola</td>\n",
       "      <td>1948-01-15 00:00:00</td>\n",
       "      <td>None</td>\n",
       "      <td>claudio</td>\n",
       "      <td>Claudio+Scajola</td>\n",
       "      <td>male</td>\n",
       "      <td>[ claudio scajola ]</td>\n",
       "      <td>[italian]</td>\n",
       "      <td>...</td>\n",
       "      <td>[ forza italia (2013) ]</td>\n",
       "      <td>2005</td>\n",
       "      <td>0.899654</td>\n",
       "      <td>0.000801</td>\n",
       "      <td>183</td>\n",
       "      <td>9</td>\n",
       "      <td>10</td>\n",
       "      <td>8</td>\n",
       "      <td>Claudio_Scajola</td>\n",
       "      <td>4100.0</td>\n",
       "    </tr>\n",
       "    <tr>\n",
       "      <th>2</th>\n",
       "      <td>http://dbpedia.org/resource/Thomas_Clausen_(Lo...</td>\n",
       "      <td>246</td>\n",
       "      <td>http://en.wikipedia.org/wiki/Thomas_Clausen_(L...</td>\n",
       "      <td>1939-12-22 00:00:00</td>\n",
       "      <td>2002-02-20 00:00:00</td>\n",
       "      <td>thomas</td>\n",
       "      <td>Thomas+Clausen+(Louisiana)</td>\n",
       "      <td>male</td>\n",
       "      <td>[ thomas greenwood clausen ,  clausen thomas g...</td>\n",
       "      <td>[american]</td>\n",
       "      <td>...</td>\n",
       "      <td>[ democratic party (united states) ]</td>\n",
       "      <td>2013</td>\n",
       "      <td>0.734694</td>\n",
       "      <td>0.000040</td>\n",
       "      <td>246</td>\n",
       "      <td>2</td>\n",
       "      <td>7</td>\n",
       "      <td>5</td>\n",
       "      <td>Thomas_Clausen_(Louisiana)</td>\n",
       "      <td>1651.0</td>\n",
       "    </tr>\n",
       "    <tr>\n",
       "      <th>3</th>\n",
       "      <td>http://dbpedia.org/resource/Yang_Ti-liang</td>\n",
       "      <td>248</td>\n",
       "      <td>http://en.wikipedia.org/wiki/Yang_Ti-liang</td>\n",
       "      <td>1929-06-30 00:00:00</td>\n",
       "      <td>None</td>\n",
       "      <td>yang</td>\n",
       "      <td>Yang+Ti-liang</td>\n",
       "      <td>male</td>\n",
       "      <td>[ ti-liang yang ]</td>\n",
       "      <td>[]</td>\n",
       "      <td>...</td>\n",
       "      <td>[]</td>\n",
       "      <td>2007</td>\n",
       "      <td>1.000000</td>\n",
       "      <td>0.000007</td>\n",
       "      <td>248</td>\n",
       "      <td>2</td>\n",
       "      <td>5</td>\n",
       "      <td>4</td>\n",
       "      <td>Yang_Ti-liang</td>\n",
       "      <td>6671.0</td>\n",
       "    </tr>\n",
       "    <tr>\n",
       "      <th>4</th>\n",
       "      <td>http://dbpedia.org/resource/Mohammad_Natsir</td>\n",
       "      <td>259</td>\n",
       "      <td>http://en.wikipedia.org/wiki/Mohammad_Natsir</td>\n",
       "      <td>1908-07-17 00:00:00</td>\n",
       "      <td>1993-03-14 00:00:00</td>\n",
       "      <td>mohammad</td>\n",
       "      <td>Mohammad+Natsir</td>\n",
       "      <td>male</td>\n",
       "      <td>[ mohammad natsir ,  natsir mohammad ]</td>\n",
       "      <td>[indonesian]</td>\n",
       "      <td>...</td>\n",
       "      <td>[ masyumi party ]</td>\n",
       "      <td>2007</td>\n",
       "      <td>0.814815</td>\n",
       "      <td>0.000068</td>\n",
       "      <td>259</td>\n",
       "      <td>4</td>\n",
       "      <td>4</td>\n",
       "      <td>5</td>\n",
       "      <td>Mohammad_Natsir</td>\n",
       "      <td>7825.0</td>\n",
       "    </tr>\n",
       "  </tbody>\n",
       "</table>\n",
       "<p>5 rows × 21 columns</p>\n",
       "</div>"
      ],
      "text/plain": [
       "                                             #DBpURL   ID  \\\n",
       "0      http://dbpedia.org/resource/Nizamettin_Erkmen  144   \n",
       "1        http://dbpedia.org/resource/Claudio_Scajola  183   \n",
       "2  http://dbpedia.org/resource/Thomas_Clausen_(Lo...  246   \n",
       "3          http://dbpedia.org/resource/Yang_Ti-liang  248   \n",
       "4        http://dbpedia.org/resource/Mohammad_Natsir  259   \n",
       "\n",
       "                                             WikiURL            birthDate  \\\n",
       "0     http://en.wikipedia.org/wiki/Nizamettin_Erkmen                 None   \n",
       "1       http://en.wikipedia.org/wiki/Claudio_Scajola  1948-01-15 00:00:00   \n",
       "2  http://en.wikipedia.org/wiki/Thomas_Clausen_(L...  1939-12-22 00:00:00   \n",
       "3         http://en.wikipedia.org/wiki/Yang_Ti-liang  1929-06-30 00:00:00   \n",
       "4       http://en.wikipedia.org/wiki/Mohammad_Natsir  1908-07-17 00:00:00   \n",
       "\n",
       "             deathDate  first_name                   full_name gender  \\\n",
       "0  1990-10-24 00:00:00  nizamettin           Nizamettin+Erkmen   male   \n",
       "1                 None     claudio             Claudio+Scajola   male   \n",
       "2  2002-02-20 00:00:00      thomas  Thomas+Clausen+(Louisiana)   male   \n",
       "3                 None        yang               Yang+Ti-liang   male   \n",
       "4  1993-03-14 00:00:00    mohammad             Mohammad+Natsir   male   \n",
       "\n",
       "                                                name   nationality   ...    \\\n",
       "0                              [ erkmen nizamettin ]     [turkish]   ...     \n",
       "1                                [ claudio scajola ]     [italian]   ...     \n",
       "2  [ thomas greenwood clausen ,  clausen thomas g...    [american]   ...     \n",
       "3                                  [ ti-liang yang ]            []   ...     \n",
       "4             [ mohammad natsir ,  natsir mohammad ]  [indonesian]   ...     \n",
       "\n",
       "                                  party entered  efficiency  eig_central   id  \\\n",
       "0                                    []    2007    0.760000     0.000046  144   \n",
       "1               [ forza italia (2013) ]    2005    0.899654     0.000801  183   \n",
       "2  [ democratic party (united states) ]    2013    0.734694     0.000040  246   \n",
       "3                                    []    2007    1.000000     0.000007  248   \n",
       "4                     [ masyumi party ]    2007    0.814815     0.000068  259   \n",
       "\n",
       "   in_degree  k_core  out_degree                      name_u   views  \n",
       "0          2       4           3           Nizamettin_Erkmen   916.0  \n",
       "1          9      10           8             Claudio_Scajola  4100.0  \n",
       "2          2       7           5  Thomas_Clausen_(Louisiana)  1651.0  \n",
       "3          2       5           4               Yang_Ti-liang  6671.0  \n",
       "4          4       4           5             Mohammad_Natsir  7825.0  \n",
       "\n",
       "[5 rows x 21 columns]"
      ]
     },
     "execution_count": 48,
     "metadata": {},
     "output_type": "execute_result"
    }
   ],
   "source": [
    "df.head()"
   ]
  },
  {
   "cell_type": "code",
   "execution_count": 49,
   "metadata": {
    "collapsed": true
   },
   "outputs": [],
   "source": [
    "def drop_columns(df, lst):\n",
    "    \"\"\" Removes dataframe columns specified in lst\n",
    "    \"\"\"\n",
    "    df = df.drop(lst, axis=1)\n",
    "    return df "
   ]
  },
  {
   "cell_type": "code",
   "execution_count": 50,
   "metadata": {
    "collapsed": false
   },
   "outputs": [],
   "source": [
    "# def get_age(x, thres=110):\n",
    "#     \"\"\" Calculates age of politicians, if birth unknown age is by default=0\n",
    "#     \"\"\"\n",
    "#     birth = x[\"birthDate\"]\n",
    "#     death = x[\"deathDate\"]\n",
    "#     if birth == None:\n",
    "#         return 0 # we don't know age of birt\n",
    "#     if death == None:\n",
    "#         delta = datetime.now() - birth\n",
    "#         age = int(delta.days/365)\n",
    "#         if age < thres and age > 17.5:\n",
    "#             return age\n",
    "#         return -1 # we are not sure when and if the person died \n",
    "#     elif death != None and birth!= None:\n",
    "#         delta = death - birth\n",
    "#         if death < birth:\n",
    "# #             age = abs(int(delta.days/365))\n",
    "# #             if age < thres:\n",
    "# #                 return age\n",
    "# #             else:\n",
    "#             return -1 # we are not sure when and if the person died\n",
    "#         age = abs(int(delta.days/365))\n",
    "#         if age < thres and age > 17.5:\n",
    "#             return int(delta.days/365)\n",
    "#         else:\n",
    "#             return -1"
   ]
  },
  {
   "cell_type": "code",
   "execution_count": 51,
   "metadata": {
    "collapsed": true
   },
   "outputs": [],
   "source": [
    "def get_age(x, thres=110):\n",
    "    \"\"\" Calculates age of politicians, if birth unknown age is by default=0\n",
    "    \"\"\"\n",
    "    birth = x[\"birthDate\"]\n",
    "    death = x[\"deathDate\"]\n",
    "    \n",
    "    if birth == None and death == None:\n",
    "        return 0\n",
    "    if birth != None and death == None:\n",
    "        delta = datetime.now() - birth\n",
    "        age = int(delta.days/365)\n",
    "        if age < 18:\n",
    "            return 0\n",
    "        if age < thres:\n",
    "            return age\n",
    "        else:\n",
    "            return 0\n",
    "    if birth != None and death != None:\n",
    "        # it might happen that death is before birth.. \n",
    "        delta = death - birth\n",
    "        if death < birth:\n",
    "            return -1\n",
    "        else: \n",
    "            age = abs(int(delta.days/365))    \n",
    "            if age < thres and age >= 18:\n",
    "                return int(delta.days/365)\n",
    "            else:\n",
    "                return 0\n",
    "    if birth == None and death != None:\n",
    "        return 0 "
   ]
  },
  {
   "cell_type": "code",
   "execution_count": 52,
   "metadata": {
    "collapsed": false
   },
   "outputs": [],
   "source": [
    "def is_alive(x, thres=110):\n",
    "    \"\"\" Returns yes / no / unknown depending on if the politician is alive/dead\n",
    "    \"\"\"\n",
    "    birth = x[\"birthDate\"]\n",
    "    death = x[\"deathDate\"]\n",
    "    age = x[\"age\"]\n",
    "    \n",
    "    if birth != None and death != None:\n",
    "        if age != -1:\n",
    "            return \"no\"\n",
    "        else:\n",
    "            return \"unknown\"        \n",
    "    if birth == None and death != None:\n",
    "        return \"no\"\n",
    "    if birth != None and death == None:\n",
    "        if age > 0:\n",
    "            return \"yes\"\n",
    "        elif age == 0 and int((datetime.now() - birth).days/365) < thres:\n",
    "            return \"unknown\"\n",
    "        elif age == 0 and int((datetime.now() - birth).days/365) >= thres:\n",
    "            return \"no\"\n",
    "    if birth == None and death == None:\n",
    "        return \"unknown\"\n",
    "#     if birth != None and death != None:\n",
    "#         if age != -1:\n",
    "#             return \"no\"\n",
    "#         else:\n",
    "#             return \"unknown\"\n",
    "#     if age == -1 and int((datetime.now() - birth).days/365) < 110:\n",
    "#         return \"unknown\"\n",
    "#     elif age == -1 and int((datetime.now() - birth).days/365) > 110:\n",
    "#         return \"no\"\n",
    "#     elif death != None:\n",
    "#         return \"no\"\n",
    "#     elif death == None and birth == None:\n",
    "#         return \"unknown\"\n",
    "#     elif age > 0:\n",
    "#         return \"yes\"\n",
    "        \n",
    "        "
   ]
  },
  {
   "cell_type": "code",
   "execution_count": 53,
   "metadata": {
    "collapsed": true
   },
   "outputs": [],
   "source": [
    "def add_age(df):\n",
    "    \"\"\" Adds age column to dataframe\n",
    "    \"\"\"\n",
    "    df[\"age\"] = df.apply(lambda x: get_age(x), axis=1)\n",
    "    return df"
   ]
  },
  {
   "cell_type": "code",
   "execution_count": 54,
   "metadata": {
    "collapsed": true
   },
   "outputs": [],
   "source": [
    "def add_alive_status(df):\n",
    "    df[\"is_alive\"] = df.apply(lambda x: is_alive(x), axis=1)\n",
    "    return df"
   ]
  },
  {
   "cell_type": "code",
   "execution_count": 55,
   "metadata": {
    "collapsed": true
   },
   "outputs": [],
   "source": [
    "def age_distance(date):\n",
    "    \"\"\" Calculates distance from given date to present, if the distance is negative\n",
    "    it results as a default value -1 \n",
    "    \"\"\"\n",
    "#     print(date)\n",
    "    if date == None:\n",
    "        return -1\n",
    "    else:\n",
    "        delta = datetime.now() - date\n",
    "        distance = int(delta.days/365)\n",
    "        if distance > 0:\n",
    "            return int(delta.days/365)\n",
    "        else:\n",
    "            return -1"
   ]
  },
  {
   "cell_type": "code",
   "execution_count": 56,
   "metadata": {
    "collapsed": false
   },
   "outputs": [],
   "source": [
    "def add_distance(df):\n",
    "    \"\"\" Adds 2 columns [\"distance_birth\"] and [\"distance_death\"] \n",
    "    \"\"\"\n",
    "#     if birth_death == \"birth\":\n",
    "    df[\"distance_birth\"] = df.apply(lambda x: age_distance(x[\"birthDate\"]),axis=1)\n",
    "#     elif birth_death == \"death\":\n",
    "    df[\"distance_death\"] = df.apply(lambda x: age_distance(x[\"deathDate\"]),axis=1)\n",
    "    return df"
   ]
  },
  {
   "cell_type": "code",
   "execution_count": 57,
   "metadata": {
    "collapsed": true
   },
   "outputs": [],
   "source": [
    "def delta_birth_death(x):\n",
    "    birth = x[\"distance_birth\"]\n",
    "    death = x[\"distance_death\"]\n",
    "    return birth - death"
   ]
  },
  {
   "cell_type": "code",
   "execution_count": 58,
   "metadata": {
    "collapsed": false
   },
   "outputs": [],
   "source": [
    "def add_delta(df):\n",
    "    df[\"distance_delta\"] = df.apply(lambda x: delta_birth_death(x), axis=1)\n",
    "    return df"
   ]
  },
  {
   "cell_type": "code",
   "execution_count": 59,
   "metadata": {
    "collapsed": true
   },
   "outputs": [],
   "source": [
    "def add_lst_size(df,col):\n",
    "    df[col+\"_num\"] = df[col].apply(lambda x: len(x))\n",
    "    return df "
   ]
  },
  {
   "cell_type": "markdown",
   "metadata": {},
   "source": [
    "# Exploration of variables"
   ]
  },
  {
   "cell_type": "code",
   "execution_count": 60,
   "metadata": {
    "collapsed": false
   },
   "outputs": [],
   "source": [
    "def get_bar_categorical(column_name, title=\"Politician nationality values distribution\", dir_save=\"../plots/variables\"):\n",
    "    SMALL_SIZE = 26\n",
    "    MEDIUM_SIZE = 30\n",
    "    BIGGER_SIZE = 40\n",
    "\n",
    "    plt.rc('font', size=SMALL_SIZE)          # controls default text sizes\n",
    "    plt.rc('axes', titlesize=BIGGER_SIZE)     # fontsize of the axes title\n",
    "    plt.rc('axes', labelsize=MEDIUM_SIZE)    # fontsize of the x and y labels\n",
    "    plt.rc('xtick', labelsize=SMALL_SIZE)    # fontsize of the tick labels\n",
    "    plt.rc('ytick', labelsize=SMALL_SIZE)    # fontsize of the tick labels\n",
    "    plt.rc('legend', fontsize=SMALL_SIZE)    # legend fontsize\n",
    "#     plt.rc('figure', titlesize=BIGGER_SIZE)\n",
    "#     plt.rc(\"title\", titlesize = BIGGER_SIZE)\n",
    "    num = sorted([len(i) for i in df[column_name].values.flatten()])\n",
    "    num = [len(list(group)) for key, group in groupby(num)]\n",
    "    print(num)\n",
    "    label = range(0, len(num))\n",
    "    plt.figure(figsize=(15,10))\n",
    "    plt.bar(label, num)\n",
    "    plt.xlabel(\"Number of {} values\".format(column_name))\n",
    "    plt.xticks(np.arange(min(label), max(label)+1, 1.0))\n",
    "    plt.ylabel(\"Frequency\")\n",
    "    plt.title(title)\n",
    "    path_save = dir_save+\"/\"+column_name+\".jpg\"\n",
    "    plt.savefig(path_save)\n",
    "    plt.show()"
   ]
  },
  {
   "cell_type": "code",
   "execution_count": 61,
   "metadata": {
    "collapsed": false
   },
   "outputs": [],
   "source": [
    "def get_unique_values_multilevel_categorical(df, column_name):\n",
    "    flat = [i for i in df[column_name].values if len(i)>0]\n",
    "    flat = sum(flat, [])\n",
    "    keys = Counter(flat).keys()\n",
    "    return keys, len(keys)"
   ]
  },
  {
   "cell_type": "code",
   "execution_count": 95,
   "metadata": {
    "collapsed": true
   },
   "outputs": [],
   "source": [
    "def get_most_frequent(df, column_name, n):\n",
    "    flat = [i for i in df[column_name].values if len(i)>0]\n",
    "    flat = sum(flat, [])\n",
    "    c = Counter(flat)\n",
    "    if column_name == \"occupation\":\n",
    "        return c.most_common(n+1)[1:]\n",
    "    return pd.DataFrame(c.most_common(n))"
   ]
  },
  {
   "cell_type": "code",
   "execution_count": 63,
   "metadata": {
    "collapsed": true
   },
   "outputs": [],
   "source": [
    "def get_counts(df, column_name, reverse=True):\n",
    "    flat = [i for i in df[column_name].values if len(i)>0]\n",
    "    flat = sum(flat, [])\n",
    "    return sorted(Counter(flat).values(), reverse=reverse)"
   ]
  },
  {
   "cell_type": "code",
   "execution_count": 64,
   "metadata": {
    "collapsed": false
   },
   "outputs": [],
   "source": [
    "def get_percentiles(df, col, percentile = [.95]):\n",
    "    counts = get_counts(df, col, reverse=False)\n",
    "    c = pd.DataFrame(counts)\n",
    "#     print(c)\n",
    "    c.columns = [\"count\"]\n",
    "    if col == \"occupation\":\n",
    "        c = c[c[\"count\"] != c[\"count\"].max()]\n",
    "#     c[\"cumulative\"] = c.cumsum()\n",
    "    return c[\"count\"].describe(percentiles = percentile)"
   ]
  },
  {
   "cell_type": "code",
   "execution_count": 97,
   "metadata": {
    "collapsed": true
   },
   "outputs": [],
   "source": [
    "def plot_correlation_map( df , annot=True):\n",
    "    corr = df.corr()\n",
    "    _ , ax = plt.subplots( figsize =( 12 , 10 ) )\n",
    "    cmap = sns.diverging_palette( 220 , 10 , as_cmap = True )\n",
    "    _ = sns.heatmap(\n",
    "        corr, \n",
    "        cmap = cmap,\n",
    "        square=True, \n",
    "        cbar_kws={ 'shrink' : .9 }, \n",
    "        ax=ax, \n",
    "        annot = annot, \n",
    "        annot_kws = { 'fontsize' : 12 }\n",
    "    )"
   ]
  },
  {
   "cell_type": "code",
   "execution_count": 65,
   "metadata": {
    "collapsed": false
   },
   "outputs": [
    {
     "name": "stdout",
     "output_type": "stream",
     "text": [
      "occupation has 3020 unique values\n",
      "party has 3661 unique values\n",
      "nationality has 342 unique values\n"
     ]
    }
   ],
   "source": [
    "lst = [\"occupation\", \"party\", \"nationality\"]\n",
    "for col in lst:\n",
    "    keys, num = get_unique_values_multilevel_categorical(df, col)\n",
    "    print(\"{} has {} unique values\".format(col,num))"
   ]
  },
  {
   "cell_type": "code",
   "execution_count": 96,
   "metadata": {
    "collapsed": false
   },
   "outputs": [
    {
     "name": "stdout",
     "output_type": "stream",
     "text": [
      "[('writer', 3188), ('scientist', 2164), ('journalist', 1357), ('economist', 779), ('lawyer', 721), ('historian', 599), ('sportsperson', 596), ('physician', 528), ('player', 404), ('actor', 384), ('novelist', 214), ('teacher', 166), ('businessperson', 157), ('business', 143), ('civil service', 137), ('diplomat', 131), ('footballer', 124), ('author', 108), ('actress', 103), ('activism', 95), ('professor', 86), ('politics', 68), ('mathematician', 65), ('coach', 64), ('judge', 64), ('poet', 63), ('farmer', 61), ('jurist', 54), ('physicist', 51), ('member of parliament', 49)]\n",
      "                                          0     1\n",
      "0         democratic party (united states)   3071\n",
      "1         republican party (united states)   1767\n",
      "2                   independent politician    737\n",
      "3                 indian national congress    731\n",
      "4                 communist party of china    444\n",
      "5                   bharatiya janata party    334\n",
      "6                        labour party (uk)    298\n",
      "7                  liberal party of canada    273\n",
      "8                   australian labor party    240\n",
      "9                  conservative party (uk)    234\n",
      "10      social democratic party of germany    188\n",
      "11            union for a popular movement    175\n",
      "12                             fianna fáil    159\n",
      "13              liberal party of australia    149\n",
      "14                socialist party (france)    149\n",
      "15     communist party of the soviet union    144\n",
      "16                   united national party    142\n",
      "17   christian democratic union of germany    142\n",
      "18       institutional revolutionary party    141\n",
      "19     united malays national organisation    141\n",
      "20                                  fidesz    122\n",
      "21      communist party of india (marxist)    121\n",
      "22                              kuomintang    118\n",
      "23             liberal party (philippines)    116\n",
      "24                 sri lanka freedom party    115\n",
      "25        liberal democratic party (japan)    113\n",
      "26                   people's action party    113\n",
      "27                   ulster unionist party    108\n",
      "28                      justicialist party    105\n",
      "29            conservative party of canada    105\n",
      "             0     1\n",
      "0     american  4788\n",
      "1       indian  1926\n",
      "2       french  1507\n",
      "3       german  1325\n",
      "4     canadian  1090\n",
      "5    norwegian  1024\n",
      "6        irish   905\n",
      "7   australian   884\n",
      "8      italian   681\n",
      "9    pakistani   677\n",
      "10     russian   571\n",
      "11     mexican   550\n",
      "12    macanese   538\n",
      "13      polish   505\n",
      "14     spanish   483\n",
      "15   malaysian   473\n",
      "16     british   470\n",
      "17     israeli   438\n",
      "18     turkish   368\n",
      "19   argentine   364\n",
      "20     belgian   330\n",
      "21    nigerian   327\n",
      "22    romanian   318\n",
      "23   ukrainian   311\n",
      "24     swedish   305\n",
      "25    croatian   256\n",
      "26       dutch   246\n",
      "27   brazilian   246\n",
      "28   colombian   229\n",
      "29    albanian   226\n"
     ]
    }
   ],
   "source": [
    "lst = [\"occupation\", \"party\", \"nationality\"]\n",
    "for col in lst:\n",
    "    print(get_most_frequent(df,col,30))"
   ]
  },
  {
   "cell_type": "code",
   "execution_count": 67,
   "metadata": {
    "collapsed": false
   },
   "outputs": [
    {
     "data": {
      "text/plain": [
       "count    3661.000000\n",
       "mean        7.940727\n",
       "std        63.680731\n",
       "min         1.000000\n",
       "50%         2.000000\n",
       "95%        24.000000\n",
       "max      3071.000000\n",
       "Name: count, dtype: float64"
      ]
     },
     "execution_count": 67,
     "metadata": {},
     "output_type": "execute_result"
    }
   ],
   "source": [
    "get_percentiles(df, \"party\")"
   ]
  },
  {
   "cell_type": "code",
   "execution_count": 68,
   "metadata": {
    "collapsed": false
   },
   "outputs": [
    {
     "data": {
      "text/plain": [
       "count    3019.000000\n",
       "mean        6.164624\n",
       "std        79.972562\n",
       "min         1.000000\n",
       "50%         1.000000\n",
       "95%         7.000000\n",
       "max      3188.000000\n",
       "Name: count, dtype: float64"
      ]
     },
     "execution_count": 68,
     "metadata": {},
     "output_type": "execute_result"
    }
   ],
   "source": [
    "get_percentiles(df, \"occupation\")"
   ]
  },
  {
   "cell_type": "code",
   "execution_count": 69,
   "metadata": {
    "collapsed": false
   },
   "outputs": [
    {
     "data": {
      "text/plain": [
       "count     342.000000\n",
       "mean       92.666667\n",
       "std       327.391047\n",
       "min         1.000000\n",
       "50%         9.000000\n",
       "95%       434.500000\n",
       "max      4788.000000\n",
       "Name: count, dtype: float64"
      ]
     },
     "execution_count": 69,
     "metadata": {},
     "output_type": "execute_result"
    }
   ],
   "source": [
    "get_percentiles(df, \"nationality\")"
   ]
  },
  {
   "cell_type": "code",
   "execution_count": 99,
   "metadata": {
    "collapsed": false
   },
   "outputs": [
    {
     "data": {
      "text/plain": [
       "Index(['entered', 'efficiency', 'eig_central', 'in_degree', 'k_core',\n",
       "       'out_degree', 'views', 'age', 'distance_birth', 'distance_death',\n",
       "       'distance_delta', 'nationality_num', 'party_num', 'occupation_num'],\n",
       "      dtype='object')"
      ]
     },
     "execution_count": 99,
     "metadata": {},
     "output_type": "execute_result"
    }
   ],
   "source": [
    "numerics = ['int16', 'int32', 'int64', 'float16', 'float32', 'float64']\n",
    "\n",
    "num_df = df.select_dtypes(include=numerics)\n",
    "num_df.columns"
   ]
  },
  {
   "cell_type": "code",
   "execution_count": 103,
   "metadata": {
    "collapsed": false
   },
   "outputs": [
    {
     "data": {
      "image/png": "[encoded data removed]",
      "text/plain": [
       "<Figure size 864x720 with 2 Axes>"
      ]
     },
     "metadata": {},
     "output_type": "display_data"
    }
   ],
   "source": [
    "plot_correlation_map(num_df)"
   ]
  },
  {
   "cell_type": "code",
   "execution_count": 70,
   "metadata": {
    "collapsed": false
   },
   "outputs": [],
   "source": [
    "# get_bar_categorical(\"nationality\")"
   ]
  },
  {
   "cell_type": "code",
   "execution_count": 71,
   "metadata": {
    "collapsed": false
   },
   "outputs": [],
   "source": [
    "# get_bar_categorical(\"party\", title=\"Politician party values distribution\")"
   ]
  },
  {
   "cell_type": "code",
   "execution_count": 72,
   "metadata": {
    "collapsed": false
   },
   "outputs": [],
   "source": [
    "# get_bar_categorical(\"occupation\", title=\"Politician occupation values distribution\") # 0 is for polititian "
   ]
  },
  {
   "cell_type": "markdown",
   "metadata": {},
   "source": [
    "# Remove redundant columns"
   ]
  },
  {
   "cell_type": "code",
   "execution_count": 73,
   "metadata": {
    "collapsed": false
   },
   "outputs": [
    {
     "data": {
      "text/plain": [
       "Index(['#DBpURL', 'ID', 'WikiURL', 'birthDate', 'deathDate', 'first_name',\n",
       "       'full_name', 'gender', 'name', 'nationality', 'occupation', 'party',\n",
       "       'entered', 'efficiency', 'eig_central', 'id', 'in_degree', 'k_core',\n",
       "       'out_degree', 'name_u', 'views'],\n",
       "      dtype='object')"
      ]
     },
     "execution_count": 73,
     "metadata": {},
     "output_type": "execute_result"
    }
   ],
   "source": [
    "df.columns"
   ]
  },
  {
   "cell_type": "code",
   "execution_count": 74,
   "metadata": {
    "collapsed": false
   },
   "outputs": [],
   "source": [
    "df = drop_columns(df, [\"first_name\", \"full_name\",\"name\", \"id\"])"
   ]
  },
  {
   "cell_type": "code",
   "execution_count": 75,
   "metadata": {
    "collapsed": false
   },
   "outputs": [],
   "source": [
    "df = add_age(df)\n",
    "# df[\"age\"].describe()"
   ]
  },
  {
   "cell_type": "code",
   "execution_count": 76,
   "metadata": {
    "collapsed": false
   },
   "outputs": [],
   "source": [
    "df = add_alive_status(df)\n",
    "# df[\"is_alive\"].value_counts()"
   ]
  },
  {
   "cell_type": "code",
   "execution_count": 77,
   "metadata": {
    "collapsed": false
   },
   "outputs": [],
   "source": [
    "df = add_distance(df)"
   ]
  },
  {
   "cell_type": "code",
   "execution_count": 78,
   "metadata": {
    "collapsed": false
   },
   "outputs": [],
   "source": [
    "df = add_delta(df)"
   ]
  },
  {
   "cell_type": "code",
   "execution_count": 79,
   "metadata": {
    "collapsed": false
   },
   "outputs": [],
   "source": [
    "df = add_lst_size(df,\"nationality\")\n",
    "df = add_lst_size(df,\"party\")\n",
    "df = add_lst_size(df,\"occupation\")"
   ]
  },
  {
   "cell_type": "code",
   "execution_count": 80,
   "metadata": {
    "collapsed": false
   },
   "outputs": [
    {
     "data": {
      "text/plain": [
       "Index(['#DBpURL', 'ID', 'WikiURL', 'birthDate', 'deathDate', 'gender',\n",
       "       'nationality', 'occupation', 'party', 'entered', 'efficiency',\n",
       "       'eig_central', 'in_degree', 'k_core', 'out_degree', 'name_u', 'views',\n",
       "       'age', 'is_alive', 'distance_birth', 'distance_death', 'distance_delta',\n",
       "       'nationality_num', 'party_num', 'occupation_num'],\n",
       "      dtype='object')"
      ]
     },
     "execution_count": 80,
     "metadata": {},
     "output_type": "execute_result"
    }
   ],
   "source": [
    "df.columns"
   ]
  },
  {
   "cell_type": "code",
   "execution_count": 81,
   "metadata": {
    "collapsed": false
   },
   "outputs": [],
   "source": [
    "df = drop_columns(df, ['#DBpURL', 'ID', 'WikiURL', 'birthDate', 'deathDate',\"name_u\"])"
   ]
  },
  {
   "cell_type": "code",
   "execution_count": 82,
   "metadata": {
    "collapsed": false
   },
   "outputs": [
    {
     "data": {
      "text/plain": [
       "Index(['gender', 'nationality', 'occupation', 'party', 'entered', 'efficiency',\n",
       "       'eig_central', 'in_degree', 'k_core', 'out_degree', 'views', 'age',\n",
       "       'is_alive', 'distance_birth', 'distance_death', 'distance_delta',\n",
       "       'nationality_num', 'party_num', 'occupation_num'],\n",
       "      dtype='object')"
      ]
     },
     "execution_count": 82,
     "metadata": {},
     "output_type": "execute_result"
    }
   ],
   "source": [
    "df.columns"
   ]
  },
  {
   "cell_type": "code",
   "execution_count": 83,
   "metadata": {
    "collapsed": false
   },
   "outputs": [],
   "source": [
    "# df[(df[\"is_alive\"] == \"no\")][\"distance_delta\"].describe()"
   ]
  },
  {
   "cell_type": "code",
   "execution_count": 84,
   "metadata": {
    "collapsed": false
   },
   "outputs": [],
   "source": [
    "# df[\"age\"].describe()"
   ]
  },
  {
   "cell_type": "code",
   "execution_count": 85,
   "metadata": {
    "collapsed": false
   },
   "outputs": [],
   "source": [
    "# datetime.now() - datetime(1,1,1,1,0,0)"
   ]
  },
  {
   "cell_type": "code",
   "execution_count": 86,
   "metadata": {
    "collapsed": true
   },
   "outputs": [],
   "source": [
    "### TODO: Prepare categorical data \n",
    "# categorical variables handling\n",
    "# save "
   ]
  },
  {
   "cell_type": "code",
   "execution_count": 88,
   "metadata": {
    "collapsed": false
   },
   "outputs": [],
   "source": [
    "# df"
   ]
  },
  {
   "cell_type": "code",
   "execution_count": null,
   "metadata": {
    "collapsed": true
   },
   "outputs": [],
   "source": []
  }
 ],
 "metadata": {
  "kernelspec": {
   "display_name": "Python 3",
   "language": "python",
   "name": "python3"
  },
  "language_info": {
   "codemirror_mode": {
    "name": "ipython",
    "version": 3
   },
   "file_extension": ".py",
   "mimetype": "text/x-python",
   "name": "python",
   "nbconvert_exporter": "python",
   "pygments_lexer": "ipython3",
   "version": "3.5.2"
  }
 },
 "nbformat": 4,
 "nbformat_minor": 2
}
