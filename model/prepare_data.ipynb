{
 "cells": [
  {
   "cell_type": "code",
   "execution_count": 1,
   "metadata": {
    "collapsed": true
   },
   "outputs": [],
   "source": [
    "import pandas as pd\n",
    "import numpy as np\n",
    "from datetime import datetime\n",
    "from matplotlib import pyplot as plt\n",
    "from itertools import groupby\n",
    "from collections import Counter\n",
    "%matplotlib inline"
   ]
  },
  {
   "cell_type": "code",
   "execution_count": 2,
   "metadata": {
    "collapsed": false
   },
   "outputs": [],
   "source": [
    "df = pd.read_pickle(\"../data/connected_sources/2016\")"
   ]
  },
  {
   "cell_type": "code",
   "execution_count": 3,
   "metadata": {
    "collapsed": false
   },
   "outputs": [
    {
     "data": {
      "text/html": [
       "<div>\n",
       "<table border=\"1\" class=\"dataframe\">\n",
       "  <thead>\n",
       "    <tr style=\"text-align: right;\">\n",
       "      <th></th>\n",
       "      <th>#DBpURL</th>\n",
       "      <th>ID</th>\n",
       "      <th>WikiURL</th>\n",
       "      <th>birthDate</th>\n",
       "      <th>deathDate</th>\n",
       "      <th>first_name</th>\n",
       "      <th>full_name</th>\n",
       "      <th>gender</th>\n",
       "      <th>name</th>\n",
       "      <th>nationality</th>\n",
       "      <th>...</th>\n",
       "      <th>party</th>\n",
       "      <th>entered</th>\n",
       "      <th>efficiency</th>\n",
       "      <th>eig_central</th>\n",
       "      <th>id</th>\n",
       "      <th>in_degree</th>\n",
       "      <th>k_core</th>\n",
       "      <th>out_degree</th>\n",
       "      <th>name_u</th>\n",
       "      <th>views</th>\n",
       "    </tr>\n",
       "  </thead>\n",
       "  <tbody>\n",
       "    <tr>\n",
       "      <th>0</th>\n",
       "      <td>http://dbpedia.org/resource/Nizamettin_Erkmen</td>\n",
       "      <td>144</td>\n",
       "      <td>http://en.wikipedia.org/wiki/Nizamettin_Erkmen</td>\n",
       "      <td>None</td>\n",
       "      <td>1990-10-24 00:00:00</td>\n",
       "      <td>nizamettin</td>\n",
       "      <td>Nizamettin+Erkmen</td>\n",
       "      <td>male</td>\n",
       "      <td>[ erkmen nizamettin ]</td>\n",
       "      <td>[turkish]</td>\n",
       "      <td>...</td>\n",
       "      <td>[]</td>\n",
       "      <td>2007</td>\n",
       "      <td>0.760000</td>\n",
       "      <td>0.000046</td>\n",
       "      <td>144</td>\n",
       "      <td>2</td>\n",
       "      <td>4</td>\n",
       "      <td>3</td>\n",
       "      <td>Nizamettin_Erkmen</td>\n",
       "      <td>916.0</td>\n",
       "    </tr>\n",
       "    <tr>\n",
       "      <th>1</th>\n",
       "      <td>http://dbpedia.org/resource/Claudio_Scajola</td>\n",
       "      <td>183</td>\n",
       "      <td>http://en.wikipedia.org/wiki/Claudio_Scajola</td>\n",
       "      <td>1948-01-15 00:00:00</td>\n",
       "      <td>None</td>\n",
       "      <td>claudio</td>\n",
       "      <td>Claudio+Scajola</td>\n",
       "      <td>male</td>\n",
       "      <td>[ claudio scajola ]</td>\n",
       "      <td>[italian]</td>\n",
       "      <td>...</td>\n",
       "      <td>[ forza italia (2013) ]</td>\n",
       "      <td>2005</td>\n",
       "      <td>0.899654</td>\n",
       "      <td>0.000801</td>\n",
       "      <td>183</td>\n",
       "      <td>9</td>\n",
       "      <td>10</td>\n",
       "      <td>8</td>\n",
       "      <td>Claudio_Scajola</td>\n",
       "      <td>4100.0</td>\n",
       "    </tr>\n",
       "    <tr>\n",
       "      <th>2</th>\n",
       "      <td>http://dbpedia.org/resource/Thomas_Clausen_(Lo...</td>\n",
       "      <td>246</td>\n",
       "      <td>http://en.wikipedia.org/wiki/Thomas_Clausen_(L...</td>\n",
       "      <td>1939-12-22 00:00:00</td>\n",
       "      <td>2002-02-20 00:00:00</td>\n",
       "      <td>thomas</td>\n",
       "      <td>Thomas+Clausen+(Louisiana)</td>\n",
       "      <td>male</td>\n",
       "      <td>[ thomas greenwood clausen ,  clausen thomas g...</td>\n",
       "      <td>[american]</td>\n",
       "      <td>...</td>\n",
       "      <td>[ democratic party (united states) ]</td>\n",
       "      <td>2013</td>\n",
       "      <td>0.734694</td>\n",
       "      <td>0.000040</td>\n",
       "      <td>246</td>\n",
       "      <td>2</td>\n",
       "      <td>7</td>\n",
       "      <td>5</td>\n",
       "      <td>Thomas_Clausen_(Louisiana)</td>\n",
       "      <td>1651.0</td>\n",
       "    </tr>\n",
       "    <tr>\n",
       "      <th>3</th>\n",
       "      <td>http://dbpedia.org/resource/Yang_Ti-liang</td>\n",
       "      <td>248</td>\n",
       "      <td>http://en.wikipedia.org/wiki/Yang_Ti-liang</td>\n",
       "      <td>1929-06-30 00:00:00</td>\n",
       "      <td>None</td>\n",
       "      <td>yang</td>\n",
       "      <td>Yang+Ti-liang</td>\n",
       "      <td>male</td>\n",
       "      <td>[ ti-liang yang ]</td>\n",
       "      <td>[]</td>\n",
       "      <td>...</td>\n",
       "      <td>[]</td>\n",
       "      <td>2007</td>\n",
       "      <td>1.000000</td>\n",
       "      <td>0.000007</td>\n",
       "      <td>248</td>\n",
       "      <td>2</td>\n",
       "      <td>5</td>\n",
       "      <td>4</td>\n",
       "      <td>Yang_Ti-liang</td>\n",
       "      <td>6671.0</td>\n",
       "    </tr>\n",
       "    <tr>\n",
       "      <th>4</th>\n",
       "      <td>http://dbpedia.org/resource/Mohammad_Natsir</td>\n",
       "      <td>259</td>\n",
       "      <td>http://en.wikipedia.org/wiki/Mohammad_Natsir</td>\n",
       "      <td>1908-07-17 00:00:00</td>\n",
       "      <td>1993-03-14 00:00:00</td>\n",
       "      <td>mohammad</td>\n",
       "      <td>Mohammad+Natsir</td>\n",
       "      <td>male</td>\n",
       "      <td>[ mohammad natsir ,  natsir mohammad ]</td>\n",
       "      <td>[indonesian]</td>\n",
       "      <td>...</td>\n",
       "      <td>[ masyumi party ]</td>\n",
       "      <td>2007</td>\n",
       "      <td>0.814815</td>\n",
       "      <td>0.000068</td>\n",
       "      <td>259</td>\n",
       "      <td>4</td>\n",
       "      <td>4</td>\n",
       "      <td>5</td>\n",
       "      <td>Mohammad_Natsir</td>\n",
       "      <td>7825.0</td>\n",
       "    </tr>\n",
       "  </tbody>\n",
       "</table>\n",
       "<p>5 rows × 21 columns</p>\n",
       "</div>"
      ],
      "text/plain": [
       "                                             #DBpURL   ID  \\\n",
       "0      http://dbpedia.org/resource/Nizamettin_Erkmen  144   \n",
       "1        http://dbpedia.org/resource/Claudio_Scajola  183   \n",
       "2  http://dbpedia.org/resource/Thomas_Clausen_(Lo...  246   \n",
       "3          http://dbpedia.org/resource/Yang_Ti-liang  248   \n",
       "4        http://dbpedia.org/resource/Mohammad_Natsir  259   \n",
       "\n",
       "                                             WikiURL            birthDate  \\\n",
       "0     http://en.wikipedia.org/wiki/Nizamettin_Erkmen                 None   \n",
       "1       http://en.wikipedia.org/wiki/Claudio_Scajola  1948-01-15 00:00:00   \n",
       "2  http://en.wikipedia.org/wiki/Thomas_Clausen_(L...  1939-12-22 00:00:00   \n",
       "3         http://en.wikipedia.org/wiki/Yang_Ti-liang  1929-06-30 00:00:00   \n",
       "4       http://en.wikipedia.org/wiki/Mohammad_Natsir  1908-07-17 00:00:00   \n",
       "\n",
       "             deathDate  first_name                   full_name gender  \\\n",
       "0  1990-10-24 00:00:00  nizamettin           Nizamettin+Erkmen   male   \n",
       "1                 None     claudio             Claudio+Scajola   male   \n",
       "2  2002-02-20 00:00:00      thomas  Thomas+Clausen+(Louisiana)   male   \n",
       "3                 None        yang               Yang+Ti-liang   male   \n",
       "4  1993-03-14 00:00:00    mohammad             Mohammad+Natsir   male   \n",
       "\n",
       "                                                name   nationality   ...    \\\n",
       "0                              [ erkmen nizamettin ]     [turkish]   ...     \n",
       "1                                [ claudio scajola ]     [italian]   ...     \n",
       "2  [ thomas greenwood clausen ,  clausen thomas g...    [american]   ...     \n",
       "3                                  [ ti-liang yang ]            []   ...     \n",
       "4             [ mohammad natsir ,  natsir mohammad ]  [indonesian]   ...     \n",
       "\n",
       "                                  party entered  efficiency  eig_central   id  \\\n",
       "0                                    []    2007    0.760000     0.000046  144   \n",
       "1               [ forza italia (2013) ]    2005    0.899654     0.000801  183   \n",
       "2  [ democratic party (united states) ]    2013    0.734694     0.000040  246   \n",
       "3                                    []    2007    1.000000     0.000007  248   \n",
       "4                     [ masyumi party ]    2007    0.814815     0.000068  259   \n",
       "\n",
       "   in_degree  k_core  out_degree                      name_u   views  \n",
       "0          2       4           3           Nizamettin_Erkmen   916.0  \n",
       "1          9      10           8             Claudio_Scajola  4100.0  \n",
       "2          2       7           5  Thomas_Clausen_(Louisiana)  1651.0  \n",
       "3          2       5           4               Yang_Ti-liang  6671.0  \n",
       "4          4       4           5             Mohammad_Natsir  7825.0  \n",
       "\n",
       "[5 rows x 21 columns]"
      ]
     },
     "execution_count": 3,
     "metadata": {},
     "output_type": "execute_result"
    }
   ],
   "source": [
    "df.head()"
   ]
  },
  {
   "cell_type": "code",
   "execution_count": 4,
   "metadata": {
    "collapsed": true
   },
   "outputs": [],
   "source": [
    "def drop_columns(df, lst):\n",
    "    \"\"\" Removes dataframe columns specified in lst\n",
    "    \"\"\"\n",
    "    df = df.drop(lst, axis=1)\n",
    "    return df "
   ]
  },
  {
   "cell_type": "code",
   "execution_count": 5,
   "metadata": {
    "collapsed": false
   },
   "outputs": [],
   "source": [
    "# def get_age(x, thres=110):\n",
    "#     \"\"\" Calculates age of politicians, if birth unknown age is by default=0\n",
    "#     \"\"\"\n",
    "#     birth = x[\"birthDate\"]\n",
    "#     death = x[\"deathDate\"]\n",
    "#     if birth == None:\n",
    "#         return 0 # we don't know age of birt\n",
    "#     if death == None:\n",
    "#         delta = datetime.now() - birth\n",
    "#         age = int(delta.days/365)\n",
    "#         if age < thres and age > 17.5:\n",
    "#             return age\n",
    "#         return -1 # we are not sure when and if the person died \n",
    "#     elif death != None and birth!= None:\n",
    "#         delta = death - birth\n",
    "#         if death < birth:\n",
    "# #             age = abs(int(delta.days/365))\n",
    "# #             if age < thres:\n",
    "# #                 return age\n",
    "# #             else:\n",
    "#             return -1 # we are not sure when and if the person died\n",
    "#         age = abs(int(delta.days/365))\n",
    "#         if age < thres and age > 17.5:\n",
    "#             return int(delta.days/365)\n",
    "#         else:\n",
    "#             return -1"
   ]
  },
  {
   "cell_type": "code",
   "execution_count": 6,
   "metadata": {
    "collapsed": true
   },
   "outputs": [],
   "source": [
    "def get_age(x, thres=110):\n",
    "    \"\"\" Calculates age of politicians, if birth unknown age is by default=0\n",
    "    \"\"\"\n",
    "    birth = x[\"birthDate\"]\n",
    "    death = x[\"deathDate\"]\n",
    "    \n",
    "    if birth == None and death == None:\n",
    "        return 0\n",
    "    if birth != None and death == None:\n",
    "        delta = datetime.now() - birth\n",
    "        age = int(delta.days/365)\n",
    "        if age < 18:\n",
    "            return 0\n",
    "        if age < thres:\n",
    "            return age\n",
    "        else:\n",
    "            return 0\n",
    "    if birth != None and death != None:\n",
    "        # it might happen that death is before birth.. \n",
    "        delta = death - birth\n",
    "        if death < birth:\n",
    "            return -1\n",
    "        else: \n",
    "            age = abs(int(delta.days/365))    \n",
    "            if age < thres and age >= 18:\n",
    "                return int(delta.days/365)\n",
    "            else:\n",
    "                return 0\n",
    "    if birth == None and death != None:\n",
    "        return 0 "
   ]
  },
  {
   "cell_type": "code",
   "execution_count": 7,
   "metadata": {
    "collapsed": false
   },
   "outputs": [],
   "source": [
    "def is_alive(x, thres=110):\n",
    "    \"\"\" Returns yes / no / unknown depending on if the politician is alive/dead\n",
    "    \"\"\"\n",
    "    birth = x[\"birthDate\"]\n",
    "    death = x[\"deathDate\"]\n",
    "    age = x[\"age\"]\n",
    "    \n",
    "    if birth != None and death != None:\n",
    "        if age != -1:\n",
    "            return \"no\"\n",
    "        else:\n",
    "            return \"unknown\"        \n",
    "    if birth == None and death != None:\n",
    "        return \"no\"\n",
    "    if birth != None and death == None:\n",
    "        if age > 0:\n",
    "            return \"yes\"\n",
    "        elif age == 0 and int((datetime.now() - birth).days/365) < thres:\n",
    "            return \"unknown\"\n",
    "        elif age == 0 and int((datetime.now() - birth).days/365) >= thres:\n",
    "            return \"no\"\n",
    "    if birth == None and death == None:\n",
    "        return \"unknown\"\n",
    "#     if birth != None and death != None:\n",
    "#         if age != -1:\n",
    "#             return \"no\"\n",
    "#         else:\n",
    "#             return \"unknown\"\n",
    "#     if age == -1 and int((datetime.now() - birth).days/365) < 110:\n",
    "#         return \"unknown\"\n",
    "#     elif age == -1 and int((datetime.now() - birth).days/365) > 110:\n",
    "#         return \"no\"\n",
    "#     elif death != None:\n",
    "#         return \"no\"\n",
    "#     elif death == None and birth == None:\n",
    "#         return \"unknown\"\n",
    "#     elif age > 0:\n",
    "#         return \"yes\"\n",
    "        \n",
    "        "
   ]
  },
  {
   "cell_type": "code",
   "execution_count": 8,
   "metadata": {
    "collapsed": true
   },
   "outputs": [],
   "source": [
    "def add_age(df):\n",
    "    \"\"\" Adds age column to dataframe\n",
    "    \"\"\"\n",
    "    df[\"age\"] = df.apply(lambda x: get_age(x), axis=1)\n",
    "    return df"
   ]
  },
  {
   "cell_type": "code",
   "execution_count": 9,
   "metadata": {
    "collapsed": true
   },
   "outputs": [],
   "source": [
    "def add_alive_status(df):\n",
    "    df[\"is_alive\"] = df.apply(lambda x: is_alive(x), axis=1)\n",
    "    return df"
   ]
  },
  {
   "cell_type": "code",
   "execution_count": 10,
   "metadata": {
    "collapsed": true
   },
   "outputs": [],
   "source": [
    "def age_distance(date):\n",
    "    \"\"\" Calculates distance from given date to present, if the distance is negative\n",
    "    it results as a default value -1 \n",
    "    \"\"\"\n",
    "#     print(date)\n",
    "    if date == None:\n",
    "        return -1\n",
    "    else:\n",
    "        delta = datetime.now() - date\n",
    "        distance = int(delta.days/365)\n",
    "        if distance > 0:\n",
    "            return int(delta.days/365)\n",
    "        else:\n",
    "            return -1"
   ]
  },
  {
   "cell_type": "code",
   "execution_count": 11,
   "metadata": {
    "collapsed": false
   },
   "outputs": [],
   "source": [
    "def add_distance(df):\n",
    "    \"\"\" Adds 2 columns [\"distance_birth\"] and [\"distance_death\"] \n",
    "    \"\"\"\n",
    "#     if birth_death == \"birth\":\n",
    "    df[\"distance_birth\"] = df.apply(lambda x: age_distance(x[\"birthDate\"]),axis=1)\n",
    "#     elif birth_death == \"death\":\n",
    "    df[\"distance_death\"] = df.apply(lambda x: age_distance(x[\"deathDate\"]),axis=1)\n",
    "    return df"
   ]
  },
  {
   "cell_type": "code",
   "execution_count": 12,
   "metadata": {
    "collapsed": true
   },
   "outputs": [],
   "source": [
    "def delta_birth_death(x):\n",
    "    birth = x[\"distance_birth\"]\n",
    "    death = x[\"distance_death\"]\n",
    "    return birth - death"
   ]
  },
  {
   "cell_type": "code",
   "execution_count": 13,
   "metadata": {
    "collapsed": false
   },
   "outputs": [],
   "source": [
    "def add_delta(df):\n",
    "    df[\"distance_delta\"] = df.apply(lambda x: delta_birth_death(x), axis=1)\n",
    "    return df"
   ]
  },
  {
   "cell_type": "code",
   "execution_count": 14,
   "metadata": {
    "collapsed": true
   },
   "outputs": [],
   "source": [
    "def add_lst_size(df,col):\n",
    "    df[col+\"_num\"] = df[col].apply(lambda x: len(x))\n",
    "    return df "
   ]
  },
  {
   "cell_type": "markdown",
   "metadata": {},
   "source": [
    "# Exploration of variables"
   ]
  },
  {
   "cell_type": "code",
   "execution_count": 15,
   "metadata": {
    "collapsed": false
   },
   "outputs": [],
   "source": [
    "def get_bar_categorical(column_name, title=\"Politician nationality values distribution\", dir_save=\"../plots/variables\"):\n",
    "    SMALL_SIZE = 26\n",
    "    MEDIUM_SIZE = 30\n",
    "    BIGGER_SIZE = 40\n",
    "\n",
    "    plt.rc('font', size=SMALL_SIZE)          # controls default text sizes\n",
    "    plt.rc('axes', titlesize=BIGGER_SIZE)     # fontsize of the axes title\n",
    "    plt.rc('axes', labelsize=MEDIUM_SIZE)    # fontsize of the x and y labels\n",
    "    plt.rc('xtick', labelsize=SMALL_SIZE)    # fontsize of the tick labels\n",
    "    plt.rc('ytick', labelsize=SMALL_SIZE)    # fontsize of the tick labels\n",
    "    plt.rc('legend', fontsize=SMALL_SIZE)    # legend fontsize\n",
    "#     plt.rc('figure', titlesize=BIGGER_SIZE)\n",
    "#     plt.rc(\"title\", titlesize = BIGGER_SIZE)\n",
    "    num = sorted([len(i) for i in df[column_name].values.flatten()])\n",
    "    num = [len(list(group)) for key, group in groupby(num)]\n",
    "    print(num)\n",
    "    label = range(0, len(num))\n",
    "    plt.figure(figsize=(15,10))\n",
    "    plt.bar(label, num)\n",
    "    plt.xlabel(\"Number of {} values\".format(column_name))\n",
    "    plt.xticks(np.arange(min(label), max(label)+1, 1.0))\n",
    "    plt.ylabel(\"Frequency\")\n",
    "    plt.title(title)\n",
    "    path_save = dir_save+\"/\"+column_name+\".jpg\"\n",
    "    plt.savefig(path_save)\n",
    "    plt.show()"
   ]
  },
  {
   "cell_type": "code",
   "execution_count": 16,
   "metadata": {
    "collapsed": false
   },
   "outputs": [],
   "source": [
    "def get_unique_values_multilevel_categorical(df, column_name):\n",
    "    flat = [i for i in df[column_name].values if len(i)>0]\n",
    "    flat = sum(flat, [])\n",
    "    keys = Counter(flat).keys()\n",
    "    return keys, len(keys)"
   ]
  },
  {
   "cell_type": "code",
   "execution_count": 17,
   "metadata": {
    "collapsed": true
   },
   "outputs": [],
   "source": [
    "def get_most_frequent(df, column_name, n):\n",
    "    flat = [i for i in df[column_name].values if len(i)>0]\n",
    "    flat = sum(flat, [])\n",
    "    c = Counter(flat)\n",
    "    return c.most_common(n)"
   ]
  },
  {
   "cell_type": "code",
   "execution_count": 18,
   "metadata": {
    "collapsed": true
   },
   "outputs": [],
   "source": [
    "def get_counts(df, column_name):\n",
    "    flat = [i for i in df[column_name].values if len(i)>0]\n",
    "    flat = sum(flat, [])\n",
    "    return sorted(Counter(flat).values(), reverse=True)"
   ]
  },
  {
   "cell_type": "code",
   "execution_count": 19,
   "metadata": {
    "collapsed": false
   },
   "outputs": [
    {
     "name": "stdout",
     "output_type": "stream",
     "text": [
      "occupation has 3020 unique values\n",
      "party has 3661 unique values\n",
      "nationality has 342 unique values\n"
     ]
    }
   ],
   "source": [
    "lst = [\"occupation\", \"party\", \"nationality\"]\n",
    "for col in lst:\n",
    "    keys, num = get_unique_values_multilevel_categorical(df, col)\n",
    "    print(\"{} has {} unique values\".format(col,num))"
   ]
  },
  {
   "cell_type": "code",
   "execution_count": 26,
   "metadata": {
    "collapsed": false
   },
   "outputs": [
    {
     "ename": "AttributeError",
     "evalue": "'str' object has no attribute 'cumsum'",
     "output_type": "error",
     "traceback": [
      "\u001b[0;31m---------------------------------------------------------------------------\u001b[0m",
      "\u001b[0;31mAttributeError\u001b[0m                            Traceback (most recent call last)",
      "\u001b[0;32m<ipython-input-26-4a7f351acb87>\u001b[0m in \u001b[0;36m<module>\u001b[0;34m()\u001b[0m\n\u001b[1;32m      4\u001b[0m \u001b[0mc\u001b[0m\u001b[1;33m.\u001b[0m\u001b[0mcolumns\u001b[0m \u001b[1;33m=\u001b[0m \u001b[1;33m[\u001b[0m\u001b[1;34m\"count\"\u001b[0m\u001b[1;33m]\u001b[0m\u001b[1;33m\u001b[0m\u001b[0m\n\u001b[1;32m      5\u001b[0m \u001b[1;31m# c[\"cumulative\"] = df[\"count\"].cumsum()\u001b[0m\u001b[1;33m\u001b[0m\u001b[1;33m\u001b[0m\u001b[0m\n\u001b[0;32m----> 6\u001b[0;31m \u001b[0mc\u001b[0m\u001b[1;33m.\u001b[0m\u001b[0mhead\u001b[0m\u001b[1;33m(\u001b[0m\u001b[1;33m)\u001b[0m\u001b[1;33m[\u001b[0m\u001b[1;34m\"count\"\u001b[0m\u001b[1;33m.\u001b[0m\u001b[0mcumsum\u001b[0m\u001b[1;33m(\u001b[0m\u001b[1;33m)\u001b[0m\u001b[1;33m]\u001b[0m\u001b[1;33m\u001b[0m\u001b[0m\n\u001b[0m\u001b[1;32m      7\u001b[0m \u001b[1;31m# c[\"count\"].describe(percentiles = [.95])\u001b[0m\u001b[1;33m\u001b[0m\u001b[1;33m\u001b[0m\u001b[0m\n\u001b[1;32m      8\u001b[0m \u001b[1;31m# plt.show()\u001b[0m\u001b[1;33m\u001b[0m\u001b[1;33m\u001b[0m\u001b[0m\n",
      "\u001b[0;31mAttributeError\u001b[0m: 'str' object has no attribute 'cumsum'"
     ]
    }
   ],
   "source": [
    "# lst = [\"occupation\", \"party\", \"nationality\"]\n",
    "# for col in lst:\n",
    "c = pd.DataFrame(get_counts(df, \"nationality\"))\n",
    "c.columns = [\"count\"]\n",
    "# c[\"cumulative\"] = df[\"count\"].cumsum()\n",
    "c.head()[\"count\".cumsum()]\n",
    "# c[\"count\"].describe(percentiles = [.95])\n",
    "# plt.show()"
   ]
  },
  {
   "cell_type": "code",
   "execution_count": null,
   "metadata": {
    "collapsed": false
   },
   "outputs": [],
   "source": [
    "get_bar_categorical(\"nationality\")"
   ]
  },
  {
   "cell_type": "code",
   "execution_count": null,
   "metadata": {
    "collapsed": false
   },
   "outputs": [],
   "source": [
    "get_bar_categorical(\"party\", title=\"Politician party values distribution\")"
   ]
  },
  {
   "cell_type": "code",
   "execution_count": null,
   "metadata": {
    "collapsed": false
   },
   "outputs": [],
   "source": [
    "get_bar_categorical(\"occupation\", title=\"Politician occupation values distribution\") # 0 is for polititian "
   ]
  },
  {
   "cell_type": "markdown",
   "metadata": {},
   "source": [
    "# Remove redundant columns"
   ]
  },
  {
   "cell_type": "code",
   "execution_count": null,
   "metadata": {
    "collapsed": false
   },
   "outputs": [],
   "source": [
    "df.columns"
   ]
  },
  {
   "cell_type": "code",
   "execution_count": null,
   "metadata": {
    "collapsed": false
   },
   "outputs": [],
   "source": [
    "df = drop_columns(df, [\"first_name\", \"full_name\",\"name\", \"id\"])"
   ]
  },
  {
   "cell_type": "code",
   "execution_count": null,
   "metadata": {
    "collapsed": false
   },
   "outputs": [],
   "source": [
    "df = add_age(df)\n",
    "# df[\"age\"].describe()"
   ]
  },
  {
   "cell_type": "code",
   "execution_count": null,
   "metadata": {
    "collapsed": false
   },
   "outputs": [],
   "source": [
    "df = add_alive_status(df)\n",
    "# df[\"is_alive\"].value_counts()"
   ]
  },
  {
   "cell_type": "code",
   "execution_count": null,
   "metadata": {
    "collapsed": false
   },
   "outputs": [],
   "source": [
    "df = add_distance(df)"
   ]
  },
  {
   "cell_type": "code",
   "execution_count": null,
   "metadata": {
    "collapsed": false
   },
   "outputs": [],
   "source": [
    "df = add_delta(df)"
   ]
  },
  {
   "cell_type": "code",
   "execution_count": null,
   "metadata": {
    "collapsed": false
   },
   "outputs": [],
   "source": [
    "df = add_lst_size(df,\"nationality\")\n",
    "df = add_lst_size(df,\"party\")\n",
    "df = add_lst_size(df,\"occupation\")"
   ]
  },
  {
   "cell_type": "code",
   "execution_count": null,
   "metadata": {
    "collapsed": false
   },
   "outputs": [],
   "source": [
    "df.columns"
   ]
  },
  {
   "cell_type": "code",
   "execution_count": null,
   "metadata": {
    "collapsed": false
   },
   "outputs": [],
   "source": [
    "df = drop_columns(df, ['#DBpURL', 'ID', 'WikiURL', 'birthDate', 'deathDate',\"name_u\"])"
   ]
  },
  {
   "cell_type": "code",
   "execution_count": null,
   "metadata": {
    "collapsed": false
   },
   "outputs": [],
   "source": [
    "df.columns"
   ]
  },
  {
   "cell_type": "code",
   "execution_count": null,
   "metadata": {
    "collapsed": false
   },
   "outputs": [],
   "source": [
    "# df[(df[\"is_alive\"] == \"no\")][\"distance_delta\"].describe()"
   ]
  },
  {
   "cell_type": "code",
   "execution_count": null,
   "metadata": {
    "collapsed": false
   },
   "outputs": [],
   "source": [
    "# df[\"age\"].describe()"
   ]
  },
  {
   "cell_type": "code",
   "execution_count": null,
   "metadata": {
    "collapsed": false
   },
   "outputs": [],
   "source": [
    "# datetime.now() - datetime(1,1,1,1,0,0)"
   ]
  },
  {
   "cell_type": "code",
   "execution_count": null,
   "metadata": {
    "collapsed": true
   },
   "outputs": [],
   "source": [
    "### TODO: Prepare categorical data \n",
    "# categorical variables handling\n",
    "# save "
   ]
  },
  {
   "cell_type": "code",
   "execution_count": null,
   "metadata": {
    "collapsed": false
   },
   "outputs": [],
   "source": [
    "df"
   ]
  },
  {
   "cell_type": "code",
   "execution_count": null,
   "metadata": {
    "collapsed": true
   },
   "outputs": [],
   "source": []
  }
 ],
 "metadata": {
  "kernelspec": {
   "display_name": "Python 3",
   "language": "python",
   "name": "python3"
  },
  "language_info": {
   "codemirror_mode": {
    "name": "ipython",
    "version": 3
   },
   "file_extension": ".py",
   "mimetype": "text/x-python",
   "name": "python",
   "nbconvert_exporter": "python",
   "pygments_lexer": "ipython3",
   "version": "3.6.0"
  }
 },
 "nbformat": 4,
 "nbformat_minor": 2
}
