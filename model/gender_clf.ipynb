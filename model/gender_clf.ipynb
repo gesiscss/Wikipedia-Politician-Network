{
 "cells": [
  {
   "cell_type": "code",
   "execution_count": 2,
   "metadata": {},
   "outputs": [],
   "source": [
    "import normalize\n",
    "import sklearn\n",
    "from sklearn.model_selection import train_test_split, cross_val_score\n",
    "from sklearn.feature_extraction import DictVectorizer\n",
    "from sklearn import tree\n",
    "from sklearn.linear_model import LogisticRegression\n",
    "from sklearn import svm\n",
    "from sklearn.ensemble import RandomForestClassifier\n",
    "from sklearn.metrics import confusion_matrix, accuracy_score, classification_report, f1_score, recall_score, precision_score\n",
    "from sklearn.ensemble import ExtraTreesClassifier, RandomForestClassifier\n",
    "from sklearn.feature_selection import RFE\n",
    "from sklearn.feature_selection import f_classif, mutual_info_classif, SelectKBest, RFE, VarianceThreshold\n",
    "from imblearn.under_sampling import RandomUnderSampler, ClusterCentroids\n",
    "from imblearn.over_sampling import SMOTE\n",
    "import pandas as pd \n",
    "import numpy as np \n",
    "from numpy import inf\n",
    "import matplotlib.pyplot as plt\n",
    "import seaborn as sns\n",
    "import warnings\n",
    "import statsmodels.formula.api as sm\n",
    "from collections import Counter\n",
    "warnings.filterwarnings(\"ignore\")\n",
    "%matplotlib inline"
   ]
  },
  {
   "cell_type": "markdown",
   "metadata": {},
   "source": [
    "# Methods"
   ]
  },
  {
   "cell_type": "code",
   "execution_count": 3,
   "metadata": {},
   "outputs": [],
   "source": [
    "def show_kbest(data_frame, target, linear_rel=True, k=4):\n",
    "    \"\"\"\n",
    "    Selecting K-Best features for classification\n",
    "    :param data_frame: A pandas dataFrame with the training data\n",
    "    :param target: target variable name in DataFrame\n",
    "    :param k: desired number of features from the data\n",
    "    :returns feature_scores: scores for each feature in the data as \n",
    "    pandas DataFrame\n",
    "    \"\"\"\n",
    "    scores = []\n",
    "    if linear_rel == True: \n",
    "        feat_selector = SelectKBest(f_classif, k=k)\n",
    "        _ = feat_selector.fit(data_frame.drop(target, axis=1), data_frame[target])\n",
    "        col_name = \"F Score\"\n",
    "    else:\n",
    "        feat_selector = SelectKBest(mutual_info_classif, k=k)\n",
    "        _ = feat_selector.fit(data_frame.drop(target, axis=1), data_frame[target])\n",
    "        col_name = \"Mutual Information\"\n",
    "    \n",
    "    feat_scores = pd.DataFrame()\n",
    "    feat_scores[col_name] = feat_selector.scores_\n",
    "    feat_scores[\"P Value\"] = feat_selector.pvalues_\n",
    "    feat_scores[\"Support\"] = feat_selector.get_support()\n",
    "    feat_scores[\"Attribute\"] = data_frame.drop(target, axis=1).columns\n",
    "    \n",
    "    return feat_scores \n",
    "\n",
    "def preprocess_data_frame(data_frame, columns):\n",
    "    \"\"\"\n",
    "    Dummifying and encoding variables of dataframe, droping rows with NAN values\n",
    "    :param data_frame: A pandas DataFrame to be processed\n",
    "    pandas DataFrame\n",
    "    :param columns: List of column names of categorical variables \n",
    "    :returns data_frame: encoded variable DataFrame\n",
    "    \"\"\"\n",
    "    data_frame = data_frame.dropna()\n",
    "    data_frame = data_frame.reset_index(drop=True)\n",
    "    \n",
    "    for col in columns:\n",
    "#         print(data_frame[col])\n",
    "        data_frame[col] = encode_variable(data_frame[col])\n",
    "#         print(data_frame[col])\n",
    "    data_frame = pd.get_dummies(data_frame)\n",
    "    return data_frame\n",
    "    \n",
    "def encode_variable(series):\n",
    "    \"\"\"\n",
    "    Encoding categorical variables to numericial values\n",
    "    :param series: A pandas Series with categorical values\n",
    "    pandas DataFrame\n",
    "    :returns data_frame: encoded variable DataFrame\n",
    "    \"\"\"\n",
    "    le = sklearn.preprocessing.LabelEncoder()\n",
    "    le.fit(series)\n",
    "    print(list(le.classes_))\n",
    "    print(set(le.transform(series))) \n",
    "    data_frame = pd.DataFrame({\n",
    "        series.name: le.transform(series)\n",
    "    })\n",
    "    return data_frame\n",
    "    \n",
    "def split_dataframe(data_frame, target):\n",
    "    \"\"\"\n",
    "    Split dataframe to predictors and target\n",
    "    :param data_frame: A pandas dataFrame with the training data\n",
    "    :param target: target variable name in DataFrame\n",
    "    :returns DataFrames: X (predictors) and y (target) dataframes \n",
    "    \"\"\"\n",
    "    X = data_frame.drop([target], axis=1)\n",
    "    y = encode_variable(data_frame[target])\n",
    "    return X, y \n",
    "\n",
    "def get_features_variance_threshold(data_frame,target=\"gender\", threshold=0.2):\n",
    "    \"\"\"\n",
    "    Returns list of features with a variance above the specified threshold\n",
    "    :param data_frame: A pandas dataFrame with the training data\n",
    "    :param threshold: float value between 0 and 1 \n",
    "    :returns feature_scores: list of features\n",
    "    \"\"\"\n",
    "    if target in data_frame.columns:\n",
    "        data_frame = data_frame.drop([target], axis=1)\n",
    "    selector = VarianceThreshold(threshold=threshold)\n",
    "    selector.fit(data_frame)\n",
    "    # Get the indices of zero variance feats\n",
    "    feat_ix_keep = selector.get_support(indices=True)\n",
    "#     print(feat_ix_keep)\n",
    "    return data_frame.columns[feat_ix_keep]\n",
    "\n",
    "def get_features_univariate(data_frame, k=5, linear=True, target=\"gender\"):\n",
    "    \"\"\"\n",
    "    Returns list of features selected using the specified univariate method\n",
    "    :param data_frame: A pandas dataFrame with the training data\n",
    "    :param k: top k features to select  \n",
    "    :returns data_frame: with selected features\n",
    "    \"\"\"\n",
    "    df = show_kbest(data_frame,target=target,linear_rel=linear, k=k)\n",
    "    df = df[df[\"Support\"] == True]\n",
    "    columns = df[\"Attribute\"].values\n",
    "    return columns\n",
    "\n",
    "def get_features_rfe(data_frame,model,k=5):\n",
    "    \"\"\"\n",
    "    Returns list of features (k specified) selected using RFE for\n",
    "    :param data_frame: A pandas dataFrame with features and labels\n",
    "    :param k: top k features to select  \n",
    "    :returns list: most relevant features \n",
    "    \"\"\"\n",
    "    X = data_frame.drop(\"gender\", axis=1)\n",
    "    y = data_frame[\"gender\"]\n",
    "    selector = RFE(model, k, step=1)\n",
    "    selector = selector.fit(X, y)\n",
    "#     print(selector.support_)\n",
    "    df = pd.DataFrame({\n",
    "        \"feature\": X.columns,\n",
    "        \"support\": selector.support_\n",
    "    })\n",
    "    return list(df[df[\"support\"] == True][\"feature\"])\n",
    "\n",
    "    \n",
    "    \n",
    "def under_sample(X,y):\n",
    "    \"\"\" Returns resampled features and labels\n",
    "    :param X: Features data frame\n",
    "    :param y: Label data frame\n",
    "    :return X_resampled, y_resampled: Numpy features array and corresponding lable array\n",
    "    \"\"\"\n",
    "    rus = RandomUnderSampler(random_state=0)\n",
    "    X_resampled, y_resampled = rus.fit_sample(X, y)\n",
    "    print(sorted(Counter(y_resampled).items()))\n",
    "    return X_resampled, y_resampled\n",
    "\n",
    "def generate_classification_report(X_train, X_test, y_train, y_test, model):\n",
    "    \"\"\" Prints classification report\n",
    "    :param X: Features data frame\n",
    "    :param y: Label data frame\n",
    "    :param model: Sklearn model object\n",
    "    \"\"\"\n",
    "#     X_train, X_test, y_train, y_test = train_test_split(X, y, test_size=0.2)\n",
    "#     y_test = list(np.array(y_test).flatten())\n",
    "#     y_train = list(np.array(y_train).flatten())\n",
    "    model.fit(X_train, y_train)\n",
    "    pred = model.predict(X_test)\n",
    "    target_names = ['female', 'male']\n",
    "    mean = cross_val_score(model, X_test, y_test, cv=10, scoring=\"accuracy\").mean()\n",
    "    var = cross_val_score(model, X_test, y_test, cv=10, scoring=\"accuracy\").var()\n",
    "#     print(\"Cross Validated Accuracy: mean - {}, var - {}\".format(mean, var))\n",
    "    print(\"Accuracy Score: {} Var: {}\".format(mean, var))\n",
    "    print(\"\\nConfusion Matrix:\\n\")\n",
    "    print(confusion_matrix(y_test, pred))\n",
    "    print(\"\\nClassification Report:\\n\")\n",
    "    print(classification_report(y_test, pred, target_names=target_names))\n",
    "    \n",
    "def change_of_evaluation_rfe(X_train, X_test,y_train,y_test,model, metric=\"precision\"):\n",
    "    \"\"\"\n",
    "    Plots accuracy with respect to the number of features left, and prints the names of features\n",
    "    :param X_train: A pandas dataFrame with train features\n",
    "    :param X_test: A pandas dataFrame with test features\n",
    "    :param y_train: A pandas dataFrame with train labels\n",
    "    :param y_test: A pandas dataFrame with test labels\n",
    "    :param model: Sklearn classification model object\n",
    "    :param metric: Metric to show: precision, recall, accuracy\n",
    "    :return num_features: Returns the top k features to be selected\n",
    "    \"\"\"\n",
    "    base = pd.concat([pd.concat([X_train,X_test]), pd.concat([y_train,y_test])], axis=1)\n",
    "    X = pd.concat([X_train,X_test])\n",
    "    y = pd.concat([y_train,y_test])\n",
    "    score = []\n",
    "    for k in range(len(X.columns),0,-1):\n",
    "        columns = get_features_rfe(base,model,k)\n",
    "        X_tr = X_train[columns]\n",
    "        X_te = X_test[columns]\n",
    "\n",
    "        model.fit(X_tr, y_train)\n",
    "        mean = cross_val_score(model, X_te, y_test, cv=10, scoring=metric).mean()\n",
    "        variance = cross_val_score(model, X_te, y_test, cv=10).var()\n",
    "\n",
    "        score.append([k, mean, variance])\n",
    "\n",
    "    df = pd.DataFrame(score, columns=[\"num_features\", \"mean\",\"variance\"])\n",
    "    sns.pointplot(df[\"num_features\"], df[\"mean\"])\n",
    "    plt.show()\n",
    "    return df.sort_values(\"mean\", ascending=False)[[\"num_features\"]].values[0][0]\n",
    "\n",
    "def change_of_evaluation_univariate_feature_selection(X_train, X_test, y_train, y_test,model, metric=\"precision\", linear=True):\n",
    "    \"\"\"\n",
    "    Plots accuracy with respect to the number of features left, and prints the names of features\n",
    "    :param X_train: A pandas dataFrame with train features\n",
    "    :param X_test: A pandas dataFrame with test features\n",
    "    :param y_train: A pandas dataFrame with train labels\n",
    "    :param y_test: A pandas dataFrame with test labels\n",
    "    :param linear: If true > F-score if false > mutual information\n",
    "    :param model: Sklearn classification model object\n",
    "    :param metric: Metric to show: precision, recall, accuracy\n",
    "    :return num_features: Returns the top k features to be selected\n",
    "    \"\"\"\n",
    "    X = pd.concat([X_train,X_test])\n",
    "    y = pd.concat([y_train,y_test])\n",
    "    data = pd.concat([X,y], axis=1)\n",
    "    score = []\n",
    "    for k in range(len(X.columns),0,-1):\n",
    "        df = show_kbest(data,\"gender\",linear_rel=linear, k=k)\n",
    "        df = df[df[\"Support\"] == True]\n",
    "        columns = df[\"Attribute\"].values\n",
    "        X_tr = X_train[columns]\n",
    "        X_ts = X_test[columns]\n",
    "\n",
    "        model.fit(X_tr, y_train)\n",
    "        mean = cross_val_score(model, X_ts, y_test, cv=10, scoring=metric).mean()\n",
    "        variance = cross_val_score(model, X_ts, y_test, cv=10).var()\n",
    "\n",
    "        score.append([k, mean, variance])\n",
    "\n",
    "    df = pd.DataFrame(score, columns=[\"num_features\", \"mean\",\"variance\"])\n",
    "    sns.pointplot(df[\"num_features\"], df[\"mean\"])\n",
    "    plt.show()\n",
    "    return df.sort_values(\"mean\", ascending=False)[[\"num_features\"]].values[0][0]\n",
    "\n",
    "def change_of_evaluation_variance_threshold(X_train, X_test, y_train, y_test,model,metric=\"precision\"):\n",
    "    \"\"\"\n",
    "    Plots accuracy with respect to the number of features left, and prints the names of features\n",
    "    :param X_train: A pandas dataFrame with train features\n",
    "    :param X_test: A pandas dataFrame with test features\n",
    "    :param y_train: A pandas dataFrame with train labels\n",
    "    :param y_test: A pandas dataFrame with test labels\n",
    "    :param model: Sklearn classification model object\n",
    "    :param metric: Metric to show: precision, recall, accuracy\n",
    "    \"\"\"\n",
    "    lst = list(np.arange(0.0, 1.0, 0.1))\n",
    "    X = pd.concat([X_train,X_test])\n",
    "    y = pd.concat([y_train,y_test])\n",
    "    score = []\n",
    "    for k in lst:\n",
    "        features = get_features_variance_threshold(X, threshold=k)\n",
    "        \n",
    "        X_train = X_train[features]\n",
    "        X_test = X_test[features]\n",
    "        \n",
    "#         print(\"Variance: {} - features: {}\".format(k,features))\n",
    "\n",
    "        model.fit(X_train, y_train)\n",
    "        mean = cross_val_score(model, X_test, y_test, cv=10).mean()\n",
    "        variance = cross_val_score(model, X_test, y_test, cv=10).var()\n",
    "        score.append([k, mean, variance])\n",
    "#     print(score)\n",
    "    df = pd.DataFrame(score, columns=[\"variance\", \"mean\", \"std\"])\n",
    "    sns.pointplot(df[\"variance\"], df[\"mean\"])\n",
    "    plt.show()\n",
    "    return df.sort_values(\"mean\", ascending=False)[[\"variance\"]].values[0][0]\n",
    "    \n",
    "def full_report(X_train, X_test, y_train, y_test, model):\n",
    "    \"\"\" Prints classification report for model over different feature selection models\n",
    "    :param X_train: A pandas dataFrame with train features\n",
    "    :param X_test: A pandas dataFrame with test features\n",
    "    :param y_train: A pandas dataFrame with train labels\n",
    "    :param y_test: A pandas dataFrame with test labels\n",
    "    :param model: Sklearn object\n",
    "    \"\"\"\n",
    "    X = pd.concat([X_train, X_test])\n",
    "    y = pd.concat([y_train, y_test])\n",
    "    \n",
    "    base = pd.concat([X,y], axis=1)\n",
    "    print(\"\"\"###############################################################\"\"\")\n",
    "    print(\"\"\"Feature Selection: F-SCORE: \\n\"\"\")\n",
    "    k = change_of_evaluation_univariate_feature_selection(X_train, X_test, y_train, y_test,\n",
    "                                                              model, metric=\"accuracy\")\n",
    "    features = get_features_univariate(base, k=k, linear=True)\n",
    "    print(\"Number of features: \", len(features))\n",
    "    print(\"Features: \", features)\n",
    "    generate_classification_report(X_train, X_test, y_train, y_test, r_forest)\n",
    "    print(\"\"\"###############################################################\"\"\")\n",
    "    print(\"\"\"Feature Selection: MUTUAL INFORMATION: \\n\"\"\")\n",
    "\n",
    "    k = change_of_evaluation_univariate_feature_selection(X_train, X_test, y_train, y_test,\n",
    "                                                              model,linear=False, metric=\"accuracy\")\n",
    "    features = get_features_univariate(base, k=k, linear=False)\n",
    "    print(\"Number of features: \", len(features))\n",
    "    print(\"Features: \", features)\n",
    "    generate_classification_report(X_train, X_test, y_train, y_test, r_forest)\n",
    "    print(\"\"\"###############################################################\"\"\")\n",
    "    print(\"\"\"Feature Selection: Variance Threshold: \\n\"\"\")\n",
    "    v = change_of_evaluation_variance_threshold(X_train, X_test, y_train, y_test,model, metric=\"accuracy\")\n",
    "#     print(v)\n",
    "    features = get_features_variance_threshold(base,threshold=v)\n",
    "    print(\"Number of features: \", len(features))\n",
    "    print(\"Features: \", features)\n",
    "    generate_classification_report(X_train, X_test, y_train, y_test, r_forest)\n",
    "    \n",
    "    print(\"\"\"###############################################################\"\"\")\n",
    "    print(\"\"\"Feature Selection: RFE: \\n\"\"\")\n",
    "    k = change_of_evaluation_rfe(X_train, X_test, y_train, y_test,\n",
    "                                 model,metric='accuracy')\n",
    "    features = get_features_rfe(base,model, k=k)\n",
    "    print(\"Number of features: \", len(features))\n",
    "    print(\"Features: \", features)\n",
    "    generate_classification_report(X_train, X_test, y_train, y_test, model)\n",
    "\n"
   ]
  },
  {
   "cell_type": "code",
   "execution_count": 4,
   "metadata": {},
   "outputs": [],
   "source": [
    "def over_sample(X,y):\n",
    "    \"\"\"\n",
    "    Does the hybrid oversampling with SMOTE\n",
    "    :param X: Dataframe with predictor atributes\n",
    "    :param y: Dataframe with labels\n",
    "    :return X_resampled, y_resampled:\n",
    "    \"\"\"\n",
    "    sm = SMOTE(random_state=42)\n",
    "    X,y = sm.fit_sample(X, y)\n",
    "    print(X.shape, y.shape)\n",
    "    return X,y\n",
    "\n",
    "def train_test_dfs(X,y,test_size=0.2):\n",
    "    \"\"\"\n",
    "    Returns train, test dataframees\n",
    "    :parma X: data frame with predictor atributes \n",
    "    :parma y: data frame with labels \n",
    "    :parma test_size: fraction of data set to be assigned to the test set\n",
    "    :return X_train, X_test, y_train, y_test:\n",
    "    \"\"\"\n",
    "    X_train, X_test, y_train, y_test = train_test_split(X, y, test_size=test_size)\n",
    "    X_train = pd.DataFrame(X_train, columns=X.columns)\n",
    "    X_test = pd.DataFrame(X_test, columns=X.columns)\n",
    "    y_train = pd.DataFrame(y_train, columns=y.columns)\n",
    "    y_test = pd.DataFrame(y_test, columns=y.columns)\n",
    "    return X_train, X_test, y_train, y_test\n",
    "\n",
    "def evaluate_model(estimator, X_train, X_test, y_train, y_test): \n",
    "    \"\"\"\n",
    "    Prints accuracy, confusion matrix and classification report\n",
    "    \"\"\"\n",
    "    target_names = ['female', 'male']\n",
    "    estimator.fit(X_train,y_train)\n",
    "    print(accuracy_score(y_test, estimator.predict(X_test)))\n",
    "    print(confusion_matrix(y_test, estimator.predict(X_test)))\n",
    "    print(classification_report(y_test, estimator.predict(X_test), target_names=target_names))\n",
    "    \n",
    "def get_ac_pr_re_f1(estimator, X,y):\n",
    "    \"\"\"\n",
    "    Returns:\n",
    "    Accuracy, Precission, Recall, F1-Score\n",
    "    \"\"\"\n",
    "    estimator.fit(X_train,y_train)\n",
    "    predict = estimator.predict(X_test)\n",
    "    acc = cross_val_score(estimator, X,y,scoring=\"accuracy\", cv=10).mean()\n",
    "    re = cross_val_score(estimator, X,y,scoring=\"recall\", cv=10).mean()\n",
    "    pr = cross_val_score(estimator, X,y,scoring=\"precision\", cv=10).mean()\n",
    "    f1 = cross_val_score(estimator, X,y,scoring=\"f1\", cv=10).mean()\n",
    "    return acc,pr,re,f1\n",
    "\n",
    "def model_comparison_df(estimator_dict, X,y):\n",
    "    \"\"\"\n",
    "    Returns table with model performance comparisson\n",
    "    \"\"\"\n",
    "    lst = []\n",
    "    for k,v in estimator_dict.items():\n",
    "        acc, pr, re, f1 = get_ac_pr_re_f1(v, X,y)\n",
    "        lst.append([k, acc, pr, re, f1])\n",
    "    return pd.DataFrame(lst, columns=[\"Algorithm\", \"Accuracy\", \"Precision\", \"Recall\", \"F1\"])\n",
    "\n",
    "def print_latex(df, col_format=\"|c|c|c|c|c|\"):\n",
    "    \"\"\" Prints the latex syntax equivalent to the passed dataframe\n",
    "    :param df: Pandas dataframe \n",
    "    :col_format : String indicating the format of columns\n",
    "    \"\"\"\n",
    "    df = df.round(2)\n",
    "    latex = df.to_latex(column_format=col_format, index=False).replace('toprule',\n",
    "                                            \"hline\").replace('midrule',\n",
    "                                            \"hline\").replace('bottomrule',\n",
    "                                            \"hline\").replace(\"\\\\\\\\\\n\",\n",
    "                                            \"\\\\\\\\\\n\\\\hline\").replace(\"\\hline\\hline\",\"\\hline\")\n",
    "    print(latex)"
   ]
  },
  {
   "cell_type": "code",
   "execution_count": 5,
   "metadata": {},
   "outputs": [],
   "source": [
    "# get_ac_pr_re_f1(r_forest,X_over,y_over)"
   ]
  },
  {
   "cell_type": "markdown",
   "metadata": {},
   "source": [
    "# Load the data"
   ]
  },
  {
   "cell_type": "code",
   "execution_count": 6,
   "metadata": {},
   "outputs": [],
   "source": [
    "data = pd.read_pickle(\"../data/final_sets/countries/model_large/2016_german\")"
   ]
  },
  {
   "cell_type": "markdown",
   "metadata": {},
   "source": [
    "# Preprocess and Normalize"
   ]
  },
  {
   "cell_type": "code",
   "execution_count": 7,
   "metadata": {},
   "outputs": [
    {
     "name": "stdout",
     "output_type": "stream",
     "text": [
      "['female', 'male']\n",
      "{0, 1}\n"
     ]
    },
    {
     "data": {
      "text/plain": [
       "1    1136\n",
       "0     171\n",
       "Name: gender, dtype: int64"
      ]
     },
     "execution_count": 7,
     "metadata": {},
     "output_type": "execute_result"
    }
   ],
   "source": [
    "data = preprocess_data_frame(data, [\"gender\"])\n",
    "data.gender.value_counts()"
   ]
  },
  {
   "cell_type": "code",
   "execution_count": 8,
   "metadata": {},
   "outputs": [
    {
     "name": "stdout",
     "output_type": "stream",
     "text": [
      "   index  gender  entered  efficiency  eig_central  in_degree    k_core  \\\n",
      "0      0       1     2011     0.72752    -0.293665  -0.716639 -0.957751   \n",
      "\n",
      "   out_degree     views  age       ...         party1  party2  party3  \\\n",
      "0    -0.69084 -0.360073   70       ...              0       0       0   \n",
      "\n",
      "   other_p  is_alive_no  is_alive_unknown  is_alive_yes  year_interval_1  \\\n",
      "0        1            1                 0             0                0   \n",
      "\n",
      "   year_interval_2  year_interval_3  \n",
      "0                0                1  \n",
      "\n",
      "[1 rows x 37 columns]\n"
     ]
    },
    {
     "data": {
      "text/plain": [
       "<matplotlib.axes._subplots.AxesSubplot at 0xbc2e7b8>"
      ]
     },
     "execution_count": 8,
     "metadata": {},
     "output_type": "execute_result"
    },
    {
     "data": {
      "image/png": "[encoded data removed]",
      "text/plain": [
       "<Figure size 432x288 with 1 Axes>"
      ]
     },
     "metadata": {},
     "output_type": "display_data"
    }
   ],
   "source": [
    "data = normalize.zscore_wikipedia_entered(data, [\"views\", \"eig_central\",\"in_degree\",\"k_core\",\"out_degree\",\"efficiency\"])\n",
    "print(data.head(1))\n",
    "data.head()\n",
    "\n",
    "sns.distplot(data.eig_central, color=\"grey\")\n",
    "sns.distplot(data[data[\"gender\"]==0].eig_central, color=\"red\")\n",
    "sns.distplot(data[data[\"gender\"]==1].eig_central, color=\"blue\")\n",
    "\n"
   ]
  },
  {
   "cell_type": "code",
   "execution_count": 9,
   "metadata": {},
   "outputs": [
    {
     "data": {
      "text/plain": [
       "<matplotlib.axes._subplots.AxesSubplot at 0xc13ddd8>"
      ]
     },
     "execution_count": 9,
     "metadata": {},
     "output_type": "execute_result"
    },
    {
     "data": {
      "image/png": "[encoded data removed]",
      "text/plain": [
       "<Figure size 432x288 with 1 Axes>"
      ]
     },
     "metadata": {},
     "output_type": "display_data"
    }
   ],
   "source": [
    "sns.distplot(data.views, color=\"grey\")\n",
    "sns.distplot(data[data[\"gender\"]==0].views, color=\"red\")\n",
    "sns.distplot(data[data[\"gender\"]==1].views, color=\"blue\")\n",
    "\n"
   ]
  },
  {
   "cell_type": "code",
   "execution_count": 10,
   "metadata": {},
   "outputs": [
    {
     "data": {
      "text/plain": [
       "<matplotlib.axes._subplots.AxesSubplot at 0xc7359b0>"
      ]
     },
     "execution_count": 10,
     "metadata": {},
     "output_type": "execute_result"
    },
    {
     "data": {
      "image/png": "[encoded data removed]",
      "text/plain": [
       "<Figure size 432x288 with 1 Axes>"
      ]
     },
     "metadata": {},
     "output_type": "display_data"
    }
   ],
   "source": [
    "sns.distplot(data.in_degree, color=\"grey\")\n",
    "sns.distplot(data[data[\"gender\"]==0].in_degree, color=\"red\")\n",
    "sns.distplot(data[data[\"gender\"]==1].in_degree, color=\"blue\")\n"
   ]
  },
  {
   "cell_type": "code",
   "execution_count": 11,
   "metadata": {},
   "outputs": [
    {
     "data": {
      "text/plain": [
       "<matplotlib.axes._subplots.AxesSubplot at 0xc8a9f28>"
      ]
     },
     "execution_count": 11,
     "metadata": {},
     "output_type": "execute_result"
    },
    {
     "data": {
      "image/png": "[encoded data removed]",
      "text/plain": [
       "<Figure size 432x288 with 1 Axes>"
      ]
     },
     "metadata": {},
     "output_type": "display_data"
    }
   ],
   "source": [
    "sns.distplot(data[\"distance_birth\"])"
   ]
  },
  {
   "cell_type": "code",
   "execution_count": 12,
   "metadata": {},
   "outputs": [
    {
     "data": {
      "text/plain": [
       "<matplotlib.axes._subplots.AxesSubplot at 0xc862a20>"
      ]
     },
     "execution_count": 12,
     "metadata": {},
     "output_type": "execute_result"
    },
    {
     "data": {
      "image/png": "[encoded data removed]",
      "text/plain": [
       "<Figure size 432x288 with 1 Axes>"
      ]
     },
     "metadata": {},
     "output_type": "display_data"
    }
   ],
   "source": [
    "data = normalize.normalize(data, [\"eig_central\",\"in_degree\",\"k_core\",\"out_degree\",\"efficiency\",\"views\"])\n",
    "\n",
    "sns.distplot(data.views, color=\"grey\")\n",
    "sns.distplot(data[data[\"gender\"]==0].views, color=\"red\")\n",
    "sns.distplot(data[data[\"gender\"]==1].views, color=\"blue\")\n",
    "#data[\"views\"].hist()"
   ]
  },
  {
   "cell_type": "code",
   "execution_count": 13,
   "metadata": {},
   "outputs": [
    {
     "data": {
      "text/plain": [
       "<matplotlib.axes._subplots.AxesSubplot at 0xbc79f28>"
      ]
     },
     "execution_count": 13,
     "metadata": {},
     "output_type": "execute_result"
    },
    {
     "data": {
      "image/png": "[encoded data removed]",
      "text/plain": [
       "<Figure size 432x288 with 1 Axes>"
      ]
     },
     "metadata": {},
     "output_type": "display_data"
    }
   ],
   "source": [
    "sns.distplot(data.eig_central, color=\"grey\")\n",
    "sns.distplot(data[data[\"gender\"]==0].eig_central, color=\"red\")\n",
    "sns.distplot(data[data[\"gender\"]==1].eig_central, color=\"blue\")"
   ]
  },
  {
   "cell_type": "code",
   "execution_count": 14,
   "metadata": {},
   "outputs": [
    {
     "data": {
      "text/plain": [
       "<matplotlib.axes._subplots.AxesSubplot at 0xccb1a90>"
      ]
     },
     "execution_count": 14,
     "metadata": {},
     "output_type": "execute_result"
    },
    {
     "data": {
      "image/png": "[encoded data removed]",
      "text/plain": [
       "<Figure size 432x288 with 1 Axes>"
      ]
     },
     "metadata": {},
     "output_type": "display_data"
    }
   ],
   "source": [
    "sns.distplot(data.in_degree, color=\"grey\")\n",
    "sns.distplot(data[data[\"gender\"]==0].in_degree, color=\"red\")\n",
    "sns.distplot(data[data[\"gender\"]==1].in_degree, color=\"blue\")"
   ]
  },
  {
   "cell_type": "code",
   "execution_count": 15,
   "metadata": {},
   "outputs": [
    {
     "data": {
      "text/plain": [
       "(1307, 37)"
      ]
     },
     "execution_count": 15,
     "metadata": {},
     "output_type": "execute_result"
    }
   ],
   "source": [
    "data.shape"
   ]
  },
  {
   "cell_type": "code",
   "execution_count": 16,
   "metadata": {},
   "outputs": [
    {
     "data": {
      "text/plain": [
       "1    1136\n",
       "0     171\n",
       "Name: gender, dtype: int64"
      ]
     },
     "execution_count": 16,
     "metadata": {},
     "output_type": "execute_result"
    }
   ],
   "source": [
    "data.gender.value_counts()"
   ]
  },
  {
   "cell_type": "markdown",
   "metadata": {},
   "source": [
    "# Machine Learning"
   ]
  },
  {
   "cell_type": "code",
   "execution_count": 17,
   "metadata": {},
   "outputs": [
    {
     "name": "stdout",
     "output_type": "stream",
     "text": [
      "[0, 1]\n",
      "{0, 1}\n"
     ]
    }
   ],
   "source": [
    "X,y=split_dataframe(data,\"gender\")"
   ]
  },
  {
   "cell_type": "code",
   "execution_count": 18,
   "metadata": {},
   "outputs": [
    {
     "data": {
      "text/html": [
       "<div>\n",
       "<style scoped>\n",
       "    .dataframe tbody tr th:only-of-type {\n",
       "        vertical-align: middle;\n",
       "    }\n",
       "\n",
       "    .dataframe tbody tr th {\n",
       "        vertical-align: top;\n",
       "    }\n",
       "\n",
       "    .dataframe thead th {\n",
       "        text-align: right;\n",
       "    }\n",
       "</style>\n",
       "<table border=\"1\" class=\"dataframe\">\n",
       "  <thead>\n",
       "    <tr style=\"text-align: right;\">\n",
       "      <th></th>\n",
       "      <th>index</th>\n",
       "      <th>entered</th>\n",
       "      <th>efficiency</th>\n",
       "      <th>eig_central</th>\n",
       "      <th>in_degree</th>\n",
       "      <th>k_core</th>\n",
       "      <th>out_degree</th>\n",
       "      <th>views</th>\n",
       "      <th>age</th>\n",
       "      <th>distance_birth</th>\n",
       "      <th>...</th>\n",
       "      <th>party1</th>\n",
       "      <th>party2</th>\n",
       "      <th>party3</th>\n",
       "      <th>other_p</th>\n",
       "      <th>is_alive_no</th>\n",
       "      <th>is_alive_unknown</th>\n",
       "      <th>is_alive_yes</th>\n",
       "      <th>year_interval_1</th>\n",
       "      <th>year_interval_2</th>\n",
       "      <th>year_interval_3</th>\n",
       "    </tr>\n",
       "  </thead>\n",
       "  <tbody>\n",
       "    <tr>\n",
       "      <th>0</th>\n",
       "      <td>0</td>\n",
       "      <td>2011</td>\n",
       "      <td>1.731900</td>\n",
       "      <td>0.505491</td>\n",
       "      <td>0.433983</td>\n",
       "      <td>0.729934</td>\n",
       "      <td>0.511861</td>\n",
       "      <td>0.400914</td>\n",
       "      <td>70</td>\n",
       "      <td>142</td>\n",
       "      <td>...</td>\n",
       "      <td>0</td>\n",
       "      <td>0</td>\n",
       "      <td>0</td>\n",
       "      <td>1</td>\n",
       "      <td>1</td>\n",
       "      <td>0</td>\n",
       "      <td>0</td>\n",
       "      <td>0</td>\n",
       "      <td>0</td>\n",
       "      <td>1</td>\n",
       "    </tr>\n",
       "    <tr>\n",
       "      <th>1</th>\n",
       "      <td>1</td>\n",
       "      <td>2012</td>\n",
       "      <td>1.644144</td>\n",
       "      <td>0.531275</td>\n",
       "      <td>1.127265</td>\n",
       "      <td>1.385309</td>\n",
       "      <td>0.941523</td>\n",
       "      <td>0.371223</td>\n",
       "      <td>73</td>\n",
       "      <td>128</td>\n",
       "      <td>...</td>\n",
       "      <td>0</td>\n",
       "      <td>0</td>\n",
       "      <td>0</td>\n",
       "      <td>1</td>\n",
       "      <td>1</td>\n",
       "      <td>0</td>\n",
       "      <td>0</td>\n",
       "      <td>0</td>\n",
       "      <td>0</td>\n",
       "      <td>1</td>\n",
       "    </tr>\n",
       "    <tr>\n",
       "      <th>2</th>\n",
       "      <td>2</td>\n",
       "      <td>2009</td>\n",
       "      <td>1.253683</td>\n",
       "      <td>0.526813</td>\n",
       "      <td>0.405586</td>\n",
       "      <td>1.212989</td>\n",
       "      <td>1.070414</td>\n",
       "      <td>1.895638</td>\n",
       "      <td>60</td>\n",
       "      <td>114</td>\n",
       "      <td>...</td>\n",
       "      <td>0</td>\n",
       "      <td>0</td>\n",
       "      <td>0</td>\n",
       "      <td>1</td>\n",
       "      <td>1</td>\n",
       "      <td>0</td>\n",
       "      <td>0</td>\n",
       "      <td>0</td>\n",
       "      <td>1</td>\n",
       "      <td>0</td>\n",
       "    </tr>\n",
       "    <tr>\n",
       "      <th>3</th>\n",
       "      <td>3</td>\n",
       "      <td>2009</td>\n",
       "      <td>1.731099</td>\n",
       "      <td>0.526968</td>\n",
       "      <td>0.695952</td>\n",
       "      <td>0.945783</td>\n",
       "      <td>0.581808</td>\n",
       "      <td>0.403154</td>\n",
       "      <td>71</td>\n",
       "      <td>103</td>\n",
       "      <td>...</td>\n",
       "      <td>0</td>\n",
       "      <td>0</td>\n",
       "      <td>0</td>\n",
       "      <td>1</td>\n",
       "      <td>1</td>\n",
       "      <td>0</td>\n",
       "      <td>0</td>\n",
       "      <td>0</td>\n",
       "      <td>1</td>\n",
       "      <td>0</td>\n",
       "    </tr>\n",
       "    <tr>\n",
       "      <th>4</th>\n",
       "      <td>4</td>\n",
       "      <td>2011</td>\n",
       "      <td>1.419928</td>\n",
       "      <td>2.031013</td>\n",
       "      <td>1.000702</td>\n",
       "      <td>1.269519</td>\n",
       "      <td>0.784610</td>\n",
       "      <td>1.693024</td>\n",
       "      <td>48</td>\n",
       "      <td>166</td>\n",
       "      <td>...</td>\n",
       "      <td>0</td>\n",
       "      <td>0</td>\n",
       "      <td>0</td>\n",
       "      <td>1</td>\n",
       "      <td>1</td>\n",
       "      <td>0</td>\n",
       "      <td>0</td>\n",
       "      <td>0</td>\n",
       "      <td>0</td>\n",
       "      <td>1</td>\n",
       "    </tr>\n",
       "  </tbody>\n",
       "</table>\n",
       "<p>5 rows × 36 columns</p>\n",
       "</div>"
      ],
      "text/plain": [
       "   index  entered  efficiency  eig_central  in_degree    k_core  out_degree  \\\n",
       "0      0     2011    1.731900     0.505491   0.433983  0.729934    0.511861   \n",
       "1      1     2012    1.644144     0.531275   1.127265  1.385309    0.941523   \n",
       "2      2     2009    1.253683     0.526813   0.405586  1.212989    1.070414   \n",
       "3      3     2009    1.731099     0.526968   0.695952  0.945783    0.581808   \n",
       "4      4     2011    1.419928     2.031013   1.000702  1.269519    0.784610   \n",
       "\n",
       "      views  age  distance_birth       ...         party1  party2  party3  \\\n",
       "0  0.400914   70             142       ...              0       0       0   \n",
       "1  0.371223   73             128       ...              0       0       0   \n",
       "2  1.895638   60             114       ...              0       0       0   \n",
       "3  0.403154   71             103       ...              0       0       0   \n",
       "4  1.693024   48             166       ...              0       0       0   \n",
       "\n",
       "   other_p  is_alive_no  is_alive_unknown  is_alive_yes  year_interval_1  \\\n",
       "0        1            1                 0             0                0   \n",
       "1        1            1                 0             0                0   \n",
       "2        1            1                 0             0                0   \n",
       "3        1            1                 0             0                0   \n",
       "4        1            1                 0             0                0   \n",
       "\n",
       "   year_interval_2  year_interval_3  \n",
       "0                0                1  \n",
       "1                0                1  \n",
       "2                1                0  \n",
       "3                1                0  \n",
       "4                0                1  \n",
       "\n",
       "[5 rows x 36 columns]"
      ]
     },
     "execution_count": 18,
     "metadata": {},
     "output_type": "execute_result"
    }
   ],
   "source": [
    "X.head()"
   ]
  },
  {
   "cell_type": "code",
   "execution_count": 19,
   "metadata": {},
   "outputs": [],
   "source": [
    "# X_train, X_test, y_train, y_test = train_test_split(X, y, test_size=0.3, random_state=42)\n",
    "# y_test = list(np.array(y_test.values).flatten())\n",
    "# y_train = list(np.array(y_train.values).flatten())"
   ]
  },
  {
   "cell_type": "code",
   "execution_count": 20,
   "metadata": {},
   "outputs": [
    {
     "data": {
      "image/png": "[encoded data removed]",
      "text/plain": [
       "<Figure size 432x288 with 1 Axes>"
      ]
     },
     "metadata": {},
     "output_type": "display_data"
    }
   ],
   "source": [
    "#data.boxplot(column=\"views\", by=\"gender\")\n",
    "\n",
    "# plot boxplot with seaborn\n",
    "bplot=sns.boxplot(y='views', x='gender', \n",
    "                 data=data, \n",
    "                 width=0.5,\n",
    "                 palette=\"colorblind\")\n",
    " \n",
    "# add swarmplot\n",
    "bplot=sns.swarmplot(y='views', x='gender',\n",
    "              data=data, \n",
    "              color='black',\n",
    "              alpha=0.75)\n"
   ]
  },
  {
   "cell_type": "code",
   "execution_count": null,
   "metadata": {},
   "outputs": [],
   "source": []
  },
  {
   "cell_type": "markdown",
   "metadata": {},
   "source": [
    "# Algorithms"
   ]
  },
  {
   "cell_type": "code",
   "execution_count": 21,
   "metadata": {},
   "outputs": [],
   "source": [
    "# SVM\n",
    "s_vm = svm.SVC()\n",
    "# Logistic regression\n",
    "log_reg = LogisticRegression()\n",
    "# Decision Tree\n",
    "d_tree = tree.DecisionTreeClassifier()\n",
    "# Random Forest\n",
    "r_forest = RandomForestClassifier()\n",
    "\n",
    "estimator_dict = {\n",
    "    \"SVM\": s_vm,\n",
    "    \"Logistic Regression\": log_reg,\n",
    "    \"Decision Tree\": d_tree,\n",
    "    \"Random Forest\": r_forest\n",
    "}"
   ]
  },
  {
   "cell_type": "markdown",
   "metadata": {},
   "source": [
    "# Oversampling "
   ]
  },
  {
   "cell_type": "code",
   "execution_count": 22,
   "metadata": {},
   "outputs": [
    {
     "name": "stdout",
     "output_type": "stream",
     "text": [
      "(2272, 36) (2272,)\n"
     ]
    },
    {
     "data": {
      "text/plain": [
       "1    1136\n",
       "0    1136\n",
       "Name: gender, dtype: int64"
      ]
     },
     "execution_count": 22,
     "metadata": {},
     "output_type": "execute_result"
    }
   ],
   "source": [
    "X_over, y_over = over_sample(X,y)\n",
    "X_over = pd.DataFrame(X_over, columns=X.columns)\n",
    "y_over = pd.DataFrame(y_over, columns=[\"gender\"])\n",
    "y_over[\"gender\"].value_counts()"
   ]
  },
  {
   "cell_type": "code",
   "execution_count": 23,
   "metadata": {},
   "outputs": [
    {
     "name": "stdout",
     "output_type": "stream",
     "text": [
      "0    909\n",
      "1    908\n",
      "Name: gender, dtype: int64\n",
      "1    228\n",
      "0    227\n",
      "Name: gender, dtype: int64\n"
     ]
    }
   ],
   "source": [
    "X_train, X_test, y_train, y_test = train_test_dfs(X_over,y_over)\n",
    "\n",
    "print(y_train[\"gender\"].value_counts())\n",
    "print(y_test[\"gender\"].value_counts())"
   ]
  },
  {
   "cell_type": "code",
   "execution_count": 24,
   "metadata": {},
   "outputs": [],
   "source": [
    "# y_train[\"gender\"].value_counts()"
   ]
  },
  {
   "cell_type": "code",
   "execution_count": 25,
   "metadata": {},
   "outputs": [],
   "source": [
    "#this was never used!!!\n",
    "\n",
    "#X_train_norm = normalize.zscore_wikipedia_entered(X_train, columns=[\"eig_central\",\"in_degree\",\"k_core\",\"out_degree\",\"views\"])\n",
    "#X_test_norm = normalize.zscore_wikipedia_entered(X_test, columns=[\"eig_central\",\"in_degree\",\"k_core\",\"out_degree\",\"views\"])\n",
    "\n",
    "#X_train_norm = normalize.normalize(X_train_norm, columns=[\"eig_central\",\"in_degree\",\"k_core\",\"out_degree\",\"views\"])\n",
    "#X_test_norm = normalize.normalize(X_test_norm, columns=[\"eig_central\",\"in_degree\",\"k_core\",\"out_degree\",\"views\"])"
   ]
  },
  {
   "cell_type": "markdown",
   "metadata": {},
   "source": [
    "## SVM"
   ]
  },
  {
   "cell_type": "code",
   "execution_count": 26,
   "metadata": {},
   "outputs": [
    {
     "data": {
      "text/plain": [
       "array([0.85526316, 0.87280702, 0.86842105, 0.83333333, 0.84649123,\n",
       "       0.85526316, 0.85840708, 0.85840708, 0.8539823 , 0.88053097])"
      ]
     },
     "execution_count": 26,
     "metadata": {},
     "output_type": "execute_result"
    }
   ],
   "source": [
    "cross_val_score(s_vm,X_over,y_over,scoring='accuracy',cv=10)"
   ]
  },
  {
   "cell_type": "markdown",
   "metadata": {},
   "source": [
    "## Logistic Regression"
   ]
  },
  {
   "cell_type": "code",
   "execution_count": 27,
   "metadata": {},
   "outputs": [
    {
     "data": {
      "text/plain": [
       "array([0.6754386 , 0.64035088, 0.81140351, 0.71491228, 0.8245614 ,\n",
       "       0.80263158, 0.80973451, 0.80973451, 0.75221239, 0.72123894])"
      ]
     },
     "execution_count": 27,
     "metadata": {},
     "output_type": "execute_result"
    }
   ],
   "source": [
    "cross_val_score(log_reg,X_over,y_over,scoring='accuracy',cv=10)"
   ]
  },
  {
   "cell_type": "code",
   "execution_count": 28,
   "metadata": {},
   "outputs": [
    {
     "name": "stdout",
     "output_type": "stream",
     "text": [
      "0.7648351648351648\n",
      "[[187  40]\n",
      " [ 67 161]]\n",
      "             precision    recall  f1-score   support\n",
      "\n",
      "     female       0.74      0.82      0.78       227\n",
      "       male       0.80      0.71      0.75       228\n",
      "\n",
      "avg / total       0.77      0.76      0.76       455\n",
      "\n"
     ]
    }
   ],
   "source": [
    "evaluate_model(log_reg, X_train, X_test, y_train, y_test)"
   ]
  },
  {
   "cell_type": "markdown",
   "metadata": {},
   "source": [
    "## Decision Tree "
   ]
  },
  {
   "cell_type": "code",
   "execution_count": 29,
   "metadata": {},
   "outputs": [
    {
     "data": {
      "text/plain": [
       "array([0.45175439, 0.65789474, 0.85526316, 0.69298246, 0.89473684,\n",
       "       0.93421053, 0.89380531, 0.87168142, 0.90707965, 0.89823009])"
      ]
     },
     "execution_count": 29,
     "metadata": {},
     "output_type": "execute_result"
    }
   ],
   "source": [
    "cross_val_score(d_tree,X_over,y_over,scoring='accuracy',cv=10)"
   ]
  },
  {
   "cell_type": "code",
   "execution_count": 30,
   "metadata": {},
   "outputs": [
    {
     "name": "stdout",
     "output_type": "stream",
     "text": [
      "0.8835164835164835\n",
      "[[205  22]\n",
      " [ 31 197]]\n",
      "             precision    recall  f1-score   support\n",
      "\n",
      "     female       0.87      0.90      0.89       227\n",
      "       male       0.90      0.86      0.88       228\n",
      "\n",
      "avg / total       0.88      0.88      0.88       455\n",
      "\n"
     ]
    }
   ],
   "source": [
    "evaluate_model(d_tree, X_train, X_test, y_train, y_test)"
   ]
  },
  {
   "cell_type": "markdown",
   "metadata": {},
   "source": [
    "## Random Forest"
   ]
  },
  {
   "cell_type": "code",
   "execution_count": 31,
   "metadata": {},
   "outputs": [
    {
     "data": {
      "text/plain": [
       "array([0.63596491, 0.79385965, 0.93421053, 0.90350877, 0.95614035,\n",
       "       0.96052632, 0.94690265, 0.92920354, 0.90265487, 0.84955752])"
      ]
     },
     "execution_count": 31,
     "metadata": {},
     "output_type": "execute_result"
    }
   ],
   "source": [
    "cross_val_score(r_forest,X_over,y_over,scoring='accuracy',cv=10)"
   ]
  },
  {
   "cell_type": "code",
   "execution_count": 32,
   "metadata": {},
   "outputs": [
    {
     "name": "stdout",
     "output_type": "stream",
     "text": [
      "0.9054945054945055\n",
      "[[209  18]\n",
      " [ 25 203]]\n",
      "             precision    recall  f1-score   support\n",
      "\n",
      "     female       0.89      0.92      0.91       227\n",
      "       male       0.92      0.89      0.90       228\n",
      "\n",
      "avg / total       0.91      0.91      0.91       455\n",
      "\n"
     ]
    }
   ],
   "source": [
    "evaluate_model(r_forest, X_train, X_test, y_train, y_test)"
   ]
  },
  {
   "cell_type": "markdown",
   "metadata": {},
   "source": [
    "## Comparison"
   ]
  },
  {
   "cell_type": "code",
   "execution_count": 33,
   "metadata": {},
   "outputs": [],
   "source": [
    "df = model_comparison_df(estimator_dict, X_over,y_over)"
   ]
  },
  {
   "cell_type": "code",
   "execution_count": 34,
   "metadata": {},
   "outputs": [
    {
     "data": {
      "text/html": [
       "<div>\n",
       "<style scoped>\n",
       "    .dataframe tbody tr th:only-of-type {\n",
       "        vertical-align: middle;\n",
       "    }\n",
       "\n",
       "    .dataframe tbody tr th {\n",
       "        vertical-align: top;\n",
       "    }\n",
       "\n",
       "    .dataframe thead th {\n",
       "        text-align: right;\n",
       "    }\n",
       "</style>\n",
       "<table border=\"1\" class=\"dataframe\">\n",
       "  <thead>\n",
       "    <tr style=\"text-align: right;\">\n",
       "      <th></th>\n",
       "      <th>Algorithm</th>\n",
       "      <th>Accuracy</th>\n",
       "      <th>Precision</th>\n",
       "      <th>Recall</th>\n",
       "      <th>F1</th>\n",
       "    </tr>\n",
       "  </thead>\n",
       "  <tbody>\n",
       "    <tr>\n",
       "      <th>0</th>\n",
       "      <td>SVM</td>\n",
       "      <td>0.858291</td>\n",
       "      <td>0.798367</td>\n",
       "      <td>0.960402</td>\n",
       "      <td>0.871481</td>\n",
       "    </tr>\n",
       "    <tr>\n",
       "      <th>1</th>\n",
       "      <td>Logistic Regression</td>\n",
       "      <td>0.756222</td>\n",
       "      <td>0.786582</td>\n",
       "      <td>0.698152</td>\n",
       "      <td>0.736387</td>\n",
       "    </tr>\n",
       "    <tr>\n",
       "      <th>2</th>\n",
       "      <td>Decision Tree</td>\n",
       "      <td>0.813255</td>\n",
       "      <td>0.873266</td>\n",
       "      <td>0.746825</td>\n",
       "      <td>0.791276</td>\n",
       "    </tr>\n",
       "    <tr>\n",
       "      <th>3</th>\n",
       "      <td>Random Forest</td>\n",
       "      <td>0.859595</td>\n",
       "      <td>0.922949</td>\n",
       "      <td>0.847687</td>\n",
       "      <td>0.879889</td>\n",
       "    </tr>\n",
       "  </tbody>\n",
       "</table>\n",
       "</div>"
      ],
      "text/plain": [
       "             Algorithm  Accuracy  Precision    Recall        F1\n",
       "0                  SVM  0.858291   0.798367  0.960402  0.871481\n",
       "1  Logistic Regression  0.756222   0.786582  0.698152  0.736387\n",
       "2        Decision Tree  0.813255   0.873266  0.746825  0.791276\n",
       "3        Random Forest  0.859595   0.922949  0.847687  0.879889"
      ]
     },
     "execution_count": 34,
     "metadata": {},
     "output_type": "execute_result"
    }
   ],
   "source": [
    "df"
   ]
  },
  {
   "cell_type": "code",
   "execution_count": 35,
   "metadata": {},
   "outputs": [
    {
     "name": "stdout",
     "output_type": "stream",
     "text": [
      "\\begin{tabular}{|c|c|c|c|c|}\n",
      "\\hline\n",
      "           Algorithm &  Accuracy &  Precision &  Recall &    F1 \\\\\n",
      "\\hline\n",
      "                 SVM &      0.86 &       0.80 &    0.96 &  0.87 \\\\\n",
      "\\hline Logistic Regression &      0.76 &       0.79 &    0.70 &  0.74 \\\\\n",
      "\\hline       Decision Tree &      0.81 &       0.87 &    0.75 &  0.79 \\\\\n",
      "\\hline       Random Forest &      0.86 &       0.92 &    0.85 &  0.88 \\\\\n",
      "\\hline\n",
      "\\end{tabular}\n",
      "\n"
     ]
    }
   ],
   "source": [
    "print_latex(df, col_format=\"|c|c|c|c|c|\")"
   ]
  },
  {
   "cell_type": "markdown",
   "metadata": {},
   "source": [
    "# Undersampling"
   ]
  },
  {
   "cell_type": "code",
   "execution_count": 36,
   "metadata": {},
   "outputs": [
    {
     "name": "stdout",
     "output_type": "stream",
     "text": [
      "[(0, 171), (1, 171)]\n"
     ]
    }
   ],
   "source": [
    "X_under, y_under = under_sample(X,y)\n",
    "X_under = pd.DataFrame(X_under, columns=X.columns)\n",
    "y_under = pd.DataFrame(y_under, columns=[\"gender\"])\n",
    "# base = pd.concat([X_resampled, y_resampled], axis=1)\n",
    "# base.head()"
   ]
  },
  {
   "cell_type": "code",
   "execution_count": 37,
   "metadata": {},
   "outputs": [],
   "source": [
    "X_train, X_test, y_train, y_test = train_test_dfs(X_under,y_under)"
   ]
  },
  {
   "cell_type": "code",
   "execution_count": 38,
   "metadata": {},
   "outputs": [],
   "source": [
    "X_train_norm = normalize.zscore_wikipedia_entered(X_train, columns=[\"eig_central\",\"in_degree\",\"k_core\",\"out_degree\",\"views\"])\n",
    "X_test_norm = normalize.zscore_wikipedia_entered(X_test, columns=[\"eig_central\",\"in_degree\",\"k_core\",\"out_degree\",\"views\"])\n",
    "\n",
    "#X_train_norm = normalize.normalize(X_train_norm, columns=[\"eig_central\",\"in_degree\",\"k_core\",\"out_degree\",\"views\"])\n",
    "#X_test_norm = normalizenormalize(X_test_norm, columns=[\"eig_central\",\"in_degree\",\"k_core\",\"out_degree\",\"views\"])"
   ]
  },
  {
   "cell_type": "markdown",
   "metadata": {},
   "source": [
    "## SVM"
   ]
  },
  {
   "cell_type": "code",
   "execution_count": 39,
   "metadata": {},
   "outputs": [
    {
     "name": "stdout",
     "output_type": "stream",
     "text": [
      "0.34782608695652173\n",
      "[[ 1 45]\n",
      " [ 0 23]]\n",
      "             precision    recall  f1-score   support\n",
      "\n",
      "     female       1.00      0.02      0.04        46\n",
      "       male       0.34      1.00      0.51        23\n",
      "\n",
      "avg / total       0.78      0.35      0.20        69\n",
      "\n"
     ]
    }
   ],
   "source": [
    "evaluate_model(s_vm, X_train, X_test, y_train, y_test)"
   ]
  },
  {
   "cell_type": "markdown",
   "metadata": {},
   "source": [
    "## Logistic Regression"
   ]
  },
  {
   "cell_type": "code",
   "execution_count": 40,
   "metadata": {},
   "outputs": [
    {
     "name": "stdout",
     "output_type": "stream",
     "text": [
      "0.7681159420289855\n",
      "[[34 12]\n",
      " [ 4 19]]\n",
      "             precision    recall  f1-score   support\n",
      "\n",
      "     female       0.89      0.74      0.81        46\n",
      "       male       0.61      0.83      0.70        23\n",
      "\n",
      "avg / total       0.80      0.77      0.77        69\n",
      "\n"
     ]
    }
   ],
   "source": [
    "evaluate_model(log_reg, X_train, X_test, y_train, y_test)"
   ]
  },
  {
   "cell_type": "markdown",
   "metadata": {},
   "source": [
    "## Decision Tree "
   ]
  },
  {
   "cell_type": "code",
   "execution_count": 41,
   "metadata": {},
   "outputs": [
    {
     "name": "stdout",
     "output_type": "stream",
     "text": [
      "0.6811594202898551\n",
      "[[31 15]\n",
      " [ 7 16]]\n",
      "             precision    recall  f1-score   support\n",
      "\n",
      "     female       0.82      0.67      0.74        46\n",
      "       male       0.52      0.70      0.59        23\n",
      "\n",
      "avg / total       0.72      0.68      0.69        69\n",
      "\n"
     ]
    }
   ],
   "source": [
    "evaluate_model(d_tree, X_train, X_test, y_train, y_test)"
   ]
  },
  {
   "cell_type": "markdown",
   "metadata": {},
   "source": [
    "## Random Forest"
   ]
  },
  {
   "cell_type": "code",
   "execution_count": 42,
   "metadata": {},
   "outputs": [
    {
     "name": "stdout",
     "output_type": "stream",
     "text": [
      "0.782608695652174\n",
      "[[36 10]\n",
      " [ 5 18]]\n",
      "             precision    recall  f1-score   support\n",
      "\n",
      "     female       0.88      0.78      0.83        46\n",
      "       male       0.64      0.78      0.71        23\n",
      "\n",
      "avg / total       0.80      0.78      0.79        69\n",
      "\n"
     ]
    }
   ],
   "source": [
    "evaluate_model(r_forest, X_train, X_test, y_train, y_test)"
   ]
  },
  {
   "cell_type": "markdown",
   "metadata": {},
   "source": [
    "## Comparison"
   ]
  },
  {
   "cell_type": "code",
   "execution_count": 43,
   "metadata": {},
   "outputs": [],
   "source": [
    "df = model_comparison_df(estimator_dict, X_under,y_under)"
   ]
  },
  {
   "cell_type": "code",
   "execution_count": 44,
   "metadata": {},
   "outputs": [
    {
     "data": {
      "text/html": [
       "<div>\n",
       "<style scoped>\n",
       "    .dataframe tbody tr th:only-of-type {\n",
       "        vertical-align: middle;\n",
       "    }\n",
       "\n",
       "    .dataframe tbody tr th {\n",
       "        vertical-align: top;\n",
       "    }\n",
       "\n",
       "    .dataframe thead th {\n",
       "        text-align: right;\n",
       "    }\n",
       "</style>\n",
       "<table border=\"1\" class=\"dataframe\">\n",
       "  <thead>\n",
       "    <tr style=\"text-align: right;\">\n",
       "      <th></th>\n",
       "      <th>Algorithm</th>\n",
       "      <th>Accuracy</th>\n",
       "      <th>Precision</th>\n",
       "      <th>Recall</th>\n",
       "      <th>F1</th>\n",
       "    </tr>\n",
       "  </thead>\n",
       "  <tbody>\n",
       "    <tr>\n",
       "      <th>0</th>\n",
       "      <td>SVM</td>\n",
       "      <td>0.488399</td>\n",
       "      <td>0.493928</td>\n",
       "      <td>0.947386</td>\n",
       "      <td>0.649236</td>\n",
       "    </tr>\n",
       "    <tr>\n",
       "      <th>1</th>\n",
       "      <td>Logistic Regression</td>\n",
       "      <td>0.730392</td>\n",
       "      <td>0.744634</td>\n",
       "      <td>0.724510</td>\n",
       "      <td>0.728797</td>\n",
       "    </tr>\n",
       "    <tr>\n",
       "      <th>2</th>\n",
       "      <td>Decision Tree</td>\n",
       "      <td>0.586275</td>\n",
       "      <td>0.572007</td>\n",
       "      <td>0.643791</td>\n",
       "      <td>0.598370</td>\n",
       "    </tr>\n",
       "    <tr>\n",
       "      <th>3</th>\n",
       "      <td>Random Forest</td>\n",
       "      <td>0.649346</td>\n",
       "      <td>0.739298</td>\n",
       "      <td>0.690196</td>\n",
       "      <td>0.637337</td>\n",
       "    </tr>\n",
       "  </tbody>\n",
       "</table>\n",
       "</div>"
      ],
      "text/plain": [
       "             Algorithm  Accuracy  Precision    Recall        F1\n",
       "0                  SVM  0.488399   0.493928  0.947386  0.649236\n",
       "1  Logistic Regression  0.730392   0.744634  0.724510  0.728797\n",
       "2        Decision Tree  0.586275   0.572007  0.643791  0.598370\n",
       "3        Random Forest  0.649346   0.739298  0.690196  0.637337"
      ]
     },
     "execution_count": 44,
     "metadata": {},
     "output_type": "execute_result"
    }
   ],
   "source": [
    "df"
   ]
  },
  {
   "cell_type": "code",
   "execution_count": 45,
   "metadata": {},
   "outputs": [
    {
     "name": "stdout",
     "output_type": "stream",
     "text": [
      "\\begin{tabular}{|c|c|c|c|c|}\n",
      "\\hline\n",
      "           Algorithm &  Accuracy &  Precision &  Recall &    F1 \\\\\n",
      "\\hline\n",
      "                 SVM &      0.49 &       0.49 &    0.95 &  0.65 \\\\\n",
      "\\hline Logistic Regression &      0.73 &       0.74 &    0.72 &  0.73 \\\\\n",
      "\\hline       Decision Tree &      0.59 &       0.57 &    0.64 &  0.60 \\\\\n",
      "\\hline       Random Forest &      0.65 &       0.74 &    0.69 &  0.64 \\\\\n",
      "\\hline\n",
      "\\end{tabular}\n",
      "\n"
     ]
    }
   ],
   "source": [
    "print_latex(df, col_format=\"|c|c|c|c|c|\")"
   ]
  },
  {
   "cell_type": "markdown",
   "metadata": {},
   "source": [
    "# Countries"
   ]
  },
  {
   "cell_type": "code",
   "execution_count": 46,
   "metadata": {},
   "outputs": [],
   "source": [
    "country_dict = {\n",
    "    \"USA\": \"american\",\n",
    "    \"Germany\": \"german\",\n",
    "    \"France\": \"french\",\n",
    "    \"Great Britain\": \"british\",\n",
    "    \"Russia\": \"russian\"\n",
    "} "
   ]
  },
  {
   "cell_type": "code",
   "execution_count": 47,
   "metadata": {},
   "outputs": [],
   "source": [
    "def compare_countries_df(country_dict, path, year, estimator):\n",
    "    lst = []\n",
    "    for k,v in country_dict.items():\n",
    "        df = pd.read_pickle(path+str(year)+\"_\"+v)\n",
    "        df = normalize.zscore_wikipedia_entered(df, [\"views\", \"eig_central\",\"in_degree\",\"k_core\",\"out_degree\",\"efficiency\"])\n",
    "        df = normalize.normalize(df, [\"views\", \"eig_central\",\"in_degree\",\"k_core\",\"out_degree\",\"efficiency\"])\n",
    "        df = preprocess_data_frame(df, [\"gender\"])\n",
    "        if \"is_alive_no\" in df.columns and \"distance_delta\" in df.columns and \"other_p\" in df.columns:\n",
    "            df = df.drop([\"is_alive_no\",\"distance_delta\",\"other_p\"],axis=1)\n",
    "        X,y=split_dataframe(df,\"gender\")\n",
    "        X_over, y_over = over_sample(X,y)\n",
    "        X_over = pd.DataFrame(X_over, columns=X.columns)\n",
    "        y_over = pd.DataFrame(y_over, columns=[\"gender\"])\n",
    "        y_over[\"gender\"].value_counts()\n",
    "        acc, pr, re, f1 = get_ac_pr_re_f1(estimator, X_over,y_over)\n",
    "        lst.append([k, acc, pr, re, f1])\n",
    "    return pd.DataFrame(lst, columns=[\"Country\", \"Accuracy\", \"Precision\", \"Recall\", \"F1\"])"
   ]
  },
  {
   "cell_type": "code",
   "execution_count": 48,
   "metadata": {},
   "outputs": [
    {
     "name": "stdout",
     "output_type": "stream",
     "text": [
      "['female', 'male']\n",
      "{0, 1}\n",
      "[0, 1]\n",
      "{0, 1}\n",
      "(8030, 33) (8030,)\n",
      "['female', 'male']\n",
      "{0, 1}\n",
      "[0, 1]\n",
      "{0, 1}\n",
      "(2272, 33) (2272,)\n",
      "['female', 'male']\n",
      "{0, 1}\n",
      "[0, 1]\n",
      "{0, 1}\n",
      "(2422, 33) (2422,)\n",
      "['female', 'male']\n",
      "{0, 1}\n",
      "[0, 1]\n",
      "{0, 1}\n",
      "(792, 33) (792,)\n",
      "['female', 'male']\n",
      "{0, 1}\n",
      "[0, 1]\n",
      "{0, 1}\n",
      "(1032, 33) (1032,)\n"
     ]
    }
   ],
   "source": [
    "df = compare_countries_df(country_dict, \"../data/final_sets/countries/model_large/\", 2016, r_forest)"
   ]
  },
  {
   "cell_type": "code",
   "execution_count": 49,
   "metadata": {},
   "outputs": [
    {
     "data": {
      "text/html": [
       "<div>\n",
       "<style scoped>\n",
       "    .dataframe tbody tr th:only-of-type {\n",
       "        vertical-align: middle;\n",
       "    }\n",
       "\n",
       "    .dataframe tbody tr th {\n",
       "        vertical-align: top;\n",
       "    }\n",
       "\n",
       "    .dataframe thead th {\n",
       "        text-align: right;\n",
       "    }\n",
       "</style>\n",
       "<table border=\"1\" class=\"dataframe\">\n",
       "  <thead>\n",
       "    <tr style=\"text-align: right;\">\n",
       "      <th></th>\n",
       "      <th>Country</th>\n",
       "      <th>Accuracy</th>\n",
       "      <th>Precision</th>\n",
       "      <th>Recall</th>\n",
       "      <th>F1</th>\n",
       "    </tr>\n",
       "  </thead>\n",
       "  <tbody>\n",
       "    <tr>\n",
       "      <th>0</th>\n",
       "      <td>USA</td>\n",
       "      <td>0.834589</td>\n",
       "      <td>0.891813</td>\n",
       "      <td>0.809463</td>\n",
       "      <td>0.832162</td>\n",
       "    </tr>\n",
       "    <tr>\n",
       "      <th>1</th>\n",
       "      <td>Germany</td>\n",
       "      <td>0.876875</td>\n",
       "      <td>0.920453</td>\n",
       "      <td>0.845979</td>\n",
       "      <td>0.870133</td>\n",
       "    </tr>\n",
       "    <tr>\n",
       "      <th>2</th>\n",
       "      <td>France</td>\n",
       "      <td>0.871914</td>\n",
       "      <td>0.917470</td>\n",
       "      <td>0.818527</td>\n",
       "      <td>0.883218</td>\n",
       "    </tr>\n",
       "    <tr>\n",
       "      <th>3</th>\n",
       "      <td>Great Britain</td>\n",
       "      <td>0.871667</td>\n",
       "      <td>0.933155</td>\n",
       "      <td>0.851603</td>\n",
       "      <td>0.883920</td>\n",
       "    </tr>\n",
       "    <tr>\n",
       "      <th>4</th>\n",
       "      <td>Russia</td>\n",
       "      <td>0.923775</td>\n",
       "      <td>0.951955</td>\n",
       "      <td>0.897097</td>\n",
       "      <td>0.928449</td>\n",
       "    </tr>\n",
       "  </tbody>\n",
       "</table>\n",
       "</div>"
      ],
      "text/plain": [
       "         Country  Accuracy  Precision    Recall        F1\n",
       "0            USA  0.834589   0.891813  0.809463  0.832162\n",
       "1        Germany  0.876875   0.920453  0.845979  0.870133\n",
       "2         France  0.871914   0.917470  0.818527  0.883218\n",
       "3  Great Britain  0.871667   0.933155  0.851603  0.883920\n",
       "4         Russia  0.923775   0.951955  0.897097  0.928449"
      ]
     },
     "execution_count": 49,
     "metadata": {},
     "output_type": "execute_result"
    }
   ],
   "source": [
    "df"
   ]
  },
  {
   "cell_type": "code",
   "execution_count": 50,
   "metadata": {},
   "outputs": [
    {
     "name": "stdout",
     "output_type": "stream",
     "text": [
      "\\begin{tabular}{|c|c|c|c|c|}\n",
      "\\hline\n",
      "       Country &  Accuracy &  Precision &  Recall &    F1 \\\\\n",
      "\\hline\n",
      "           USA &      0.83 &       0.89 &    0.81 &  0.83 \\\\\n",
      "\\hline       Germany &      0.88 &       0.92 &    0.85 &  0.87 \\\\\n",
      "\\hline        France &      0.87 &       0.92 &    0.82 &  0.88 \\\\\n",
      "\\hline Great Britain &      0.87 &       0.93 &    0.85 &  0.88 \\\\\n",
      "\\hline        Russia &      0.92 &       0.95 &    0.90 &  0.93 \\\\\n",
      "\\hline\n",
      "\\end{tabular}\n",
      "\n"
     ]
    }
   ],
   "source": [
    "print_latex(df, col_format=\"|c|c|c|c|c|\")"
   ]
  },
  {
   "cell_type": "code",
   "execution_count": 51,
   "metadata": {},
   "outputs": [
    {
     "name": "stdout",
     "output_type": "stream",
     "text": [
      "['female', 'male']\n",
      "{0, 1}\n",
      "[0, 1]\n",
      "{0, 1}\n",
      "(8030, 19) (8030,)\n",
      "['female', 'male']\n",
      "{0, 1}\n",
      "[0, 1]\n",
      "{0, 1}\n",
      "(2272, 19) (2272,)\n",
      "['female', 'male']\n",
      "{0, 1}\n",
      "[0, 1]\n",
      "{0, 1}\n",
      "(2422, 19) (2422,)\n",
      "['female', 'male']\n",
      "{0, 1}\n",
      "[0, 1]\n",
      "{0, 1}\n",
      "(792, 19) (792,)\n",
      "['female', 'male']\n",
      "{0, 1}\n",
      "[0, 1]\n",
      "{0, 1}\n",
      "(1032, 19) (1032,)\n"
     ]
    }
   ],
   "source": [
    "df = compare_countries_df(country_dict, \"../data/final_sets/countries/model/\", 2016, r_forest)"
   ]
  },
  {
   "cell_type": "code",
   "execution_count": 52,
   "metadata": {},
   "outputs": [
    {
     "data": {
      "text/html": [
       "<div>\n",
       "<style scoped>\n",
       "    .dataframe tbody tr th:only-of-type {\n",
       "        vertical-align: middle;\n",
       "    }\n",
       "\n",
       "    .dataframe tbody tr th {\n",
       "        vertical-align: top;\n",
       "    }\n",
       "\n",
       "    .dataframe thead th {\n",
       "        text-align: right;\n",
       "    }\n",
       "</style>\n",
       "<table border=\"1\" class=\"dataframe\">\n",
       "  <thead>\n",
       "    <tr style=\"text-align: right;\">\n",
       "      <th></th>\n",
       "      <th>Country</th>\n",
       "      <th>Accuracy</th>\n",
       "      <th>Precision</th>\n",
       "      <th>Recall</th>\n",
       "      <th>F1</th>\n",
       "    </tr>\n",
       "  </thead>\n",
       "  <tbody>\n",
       "    <tr>\n",
       "      <th>0</th>\n",
       "      <td>USA</td>\n",
       "      <td>0.814040</td>\n",
       "      <td>0.885412</td>\n",
       "      <td>0.761663</td>\n",
       "      <td>0.794768</td>\n",
       "    </tr>\n",
       "    <tr>\n",
       "      <th>1</th>\n",
       "      <td>Germany</td>\n",
       "      <td>0.850466</td>\n",
       "      <td>0.911847</td>\n",
       "      <td>0.811605</td>\n",
       "      <td>0.861542</td>\n",
       "    </tr>\n",
       "    <tr>\n",
       "      <th>2</th>\n",
       "      <td>France</td>\n",
       "      <td>0.863213</td>\n",
       "      <td>0.921274</td>\n",
       "      <td>0.815167</td>\n",
       "      <td>0.834681</td>\n",
       "    </tr>\n",
       "    <tr>\n",
       "      <th>3</th>\n",
       "      <td>Great Britain</td>\n",
       "      <td>0.844006</td>\n",
       "      <td>0.926672</td>\n",
       "      <td>0.873974</td>\n",
       "      <td>0.847265</td>\n",
       "    </tr>\n",
       "    <tr>\n",
       "      <th>4</th>\n",
       "      <td>Russia</td>\n",
       "      <td>0.914989</td>\n",
       "      <td>0.956269</td>\n",
       "      <td>0.904827</td>\n",
       "      <td>0.902657</td>\n",
       "    </tr>\n",
       "  </tbody>\n",
       "</table>\n",
       "</div>"
      ],
      "text/plain": [
       "         Country  Accuracy  Precision    Recall        F1\n",
       "0            USA  0.814040   0.885412  0.761663  0.794768\n",
       "1        Germany  0.850466   0.911847  0.811605  0.861542\n",
       "2         France  0.863213   0.921274  0.815167  0.834681\n",
       "3  Great Britain  0.844006   0.926672  0.873974  0.847265\n",
       "4         Russia  0.914989   0.956269  0.904827  0.902657"
      ]
     },
     "execution_count": 52,
     "metadata": {},
     "output_type": "execute_result"
    }
   ],
   "source": [
    "df"
   ]
  },
  {
   "cell_type": "code",
   "execution_count": 53,
   "metadata": {},
   "outputs": [
    {
     "name": "stdout",
     "output_type": "stream",
     "text": [
      "\\begin{tabular}{|c|c|c|c|c|}\n",
      "\\hline\n",
      "       Country &  Accuracy &  Precision &  Recall &    F1 \\\\\n",
      "\\hline\n",
      "           USA &      0.81 &       0.89 &    0.76 &  0.79 \\\\\n",
      "\\hline       Germany &      0.85 &       0.91 &    0.81 &  0.86 \\\\\n",
      "\\hline        France &      0.86 &       0.92 &    0.82 &  0.83 \\\\\n",
      "\\hline Great Britain &      0.84 &       0.93 &    0.87 &  0.85 \\\\\n",
      "\\hline        Russia &      0.91 &       0.96 &    0.90 &  0.90 \\\\\n",
      "\\hline\n",
      "\\end{tabular}\n",
      "\n"
     ]
    }
   ],
   "source": [
    "print_latex(df, col_format=\"|c|c|c|c|c|\")"
   ]
  },
  {
   "cell_type": "code",
   "execution_count": 54,
   "metadata": {},
   "outputs": [],
   "source": [
    "def important_features(X,y, estimator):\n",
    "    estimator.fit(X,y)\n",
    "    df = pd.DataFrame({\n",
    "        \"Feature\": X.columns,\n",
    "        \"Importance\": estimator.feature_importances_\n",
    "    })\n",
    "    return df.sort_values(by=\"Importance\",ascending=False)\n",
    "\n",
    "def compare_features_df(country_dict, path, year, estimator):\n",
    "    lst = []\n",
    "    for k,v in country_dict.items():\n",
    "        df = pd.read_pickle(path+str(year)+\"_\"+v)\n",
    "        df = preprocess_data_frame(df, [\"gender\"])\n",
    "        if \"is_alive_no\" in df.columns and \"distance_delta\" in df.columns and \"other_p\" in df.columns:\n",
    "            df = df.drop([\"is_alive_no\",\"distance_delta\",\"other_p\"],axis=1)\n",
    "        X,y=split_dataframe(df,\"gender\")\n",
    "        X_over, y_over = over_sample(X,y)\n",
    "        X_over = pd.DataFrame(X_over, columns=X.columns)\n",
    "        y_over = pd.DataFrame(y_over, columns=[\"gender\"])\n",
    "        y_over[\"gender\"].value_counts()\n",
    "        lst.append([k,important_features(X_over, y_over, estimator)])\n",
    "    return lst"
   ]
  },
  {
   "cell_type": "code",
   "execution_count": 55,
   "metadata": {},
   "outputs": [
    {
     "name": "stdout",
     "output_type": "stream",
     "text": [
      "['female', 'male']\n",
      "{0, 1}\n",
      "[0, 1]\n",
      "{0, 1}\n",
      "(8030, 32) (8030,)\n",
      "['female', 'male']\n",
      "{0, 1}\n",
      "[0, 1]\n",
      "{0, 1}\n",
      "(2272, 32) (2272,)\n",
      "['female', 'male']\n",
      "{0, 1}\n",
      "[0, 1]\n",
      "{0, 1}\n",
      "(2422, 32) (2422,)\n",
      "['female', 'male']\n",
      "{0, 1}\n",
      "[0, 1]\n",
      "{0, 1}\n",
      "(792, 32) (792,)\n",
      "['female', 'male']\n",
      "{0, 1}\n",
      "[0, 1]\n",
      "{0, 1}\n",
      "(1032, 32) (1032,)\n"
     ]
    }
   ],
   "source": [
    "x = compare_features_df(country_dict, \"../data/final_sets/countries/model_large/\", 2016, r_forest)"
   ]
  },
  {
   "cell_type": "code",
   "execution_count": 56,
   "metadata": {},
   "outputs": [],
   "source": [
    "# x[1][1].reset_index(drop=True)"
   ]
  },
  {
   "cell_type": "code",
   "execution_count": 57,
   "metadata": {},
   "outputs": [],
   "source": [
    "# lst = [x[1][1].reset_index(drop=True),x[2][1].reset_index(drop=True),x[3][1].reset_index(drop=True),x[4][1].reset_index(drop=True)]\n",
    "# ,x[3][1],x[4][1]/\n",
    "lst = [x[0][1],x[1][1],x[2][1],x[3][1],x[4][1]]"
   ]
  },
  {
   "cell_type": "code",
   "execution_count": 58,
   "metadata": {},
   "outputs": [],
   "source": [
    "# df.columns"
   ]
  },
  {
   "cell_type": "code",
   "execution_count": 59,
   "metadata": {},
   "outputs": [
    {
     "data": {
      "text/html": [
       "<div>\n",
       "<style scoped>\n",
       "    .dataframe tbody tr th:only-of-type {\n",
       "        vertical-align: middle;\n",
       "    }\n",
       "\n",
       "    .dataframe tbody tr th {\n",
       "        vertical-align: top;\n",
       "    }\n",
       "\n",
       "    .dataframe thead th {\n",
       "        text-align: right;\n",
       "    }\n",
       "</style>\n",
       "<table border=\"1\" class=\"dataframe\">\n",
       "  <thead>\n",
       "    <tr style=\"text-align: right;\">\n",
       "      <th></th>\n",
       "      <th>Feature</th>\n",
       "      <th>Importance</th>\n",
       "      <th>Importance</th>\n",
       "      <th>Importance</th>\n",
       "      <th>Importance</th>\n",
       "      <th>Importance</th>\n",
       "    </tr>\n",
       "  </thead>\n",
       "  <tbody>\n",
       "    <tr>\n",
       "      <th>0</th>\n",
       "      <td>entered</td>\n",
       "      <td>0.064559</td>\n",
       "      <td>0.052355</td>\n",
       "      <td>0.061346</td>\n",
       "      <td>0.052065</td>\n",
       "      <td>0.065936</td>\n",
       "    </tr>\n",
       "    <tr>\n",
       "      <th>1</th>\n",
       "      <td>efficiency</td>\n",
       "      <td>0.040117</td>\n",
       "      <td>0.030346</td>\n",
       "      <td>0.036820</td>\n",
       "      <td>0.048492</td>\n",
       "      <td>0.047931</td>\n",
       "    </tr>\n",
       "    <tr>\n",
       "      <th>2</th>\n",
       "      <td>eig_central</td>\n",
       "      <td>0.037118</td>\n",
       "      <td>0.038880</td>\n",
       "      <td>0.026586</td>\n",
       "      <td>0.066689</td>\n",
       "      <td>0.040755</td>\n",
       "    </tr>\n",
       "    <tr>\n",
       "      <th>3</th>\n",
       "      <td>in_degree</td>\n",
       "      <td>0.036719</td>\n",
       "      <td>0.023830</td>\n",
       "      <td>0.041447</td>\n",
       "      <td>0.044353</td>\n",
       "      <td>0.062145</td>\n",
       "    </tr>\n",
       "    <tr>\n",
       "      <th>4</th>\n",
       "      <td>k_core</td>\n",
       "      <td>0.036233</td>\n",
       "      <td>0.024561</td>\n",
       "      <td>0.033912</td>\n",
       "      <td>0.053267</td>\n",
       "      <td>0.068058</td>\n",
       "    </tr>\n",
       "    <tr>\n",
       "      <th>5</th>\n",
       "      <td>out_degree</td>\n",
       "      <td>0.039695</td>\n",
       "      <td>0.032261</td>\n",
       "      <td>0.041122</td>\n",
       "      <td>0.040098</td>\n",
       "      <td>0.029964</td>\n",
       "    </tr>\n",
       "    <tr>\n",
       "      <th>6</th>\n",
       "      <td>views</td>\n",
       "      <td>0.073780</td>\n",
       "      <td>0.055747</td>\n",
       "      <td>0.061886</td>\n",
       "      <td>0.078363</td>\n",
       "      <td>0.079047</td>\n",
       "    </tr>\n",
       "    <tr>\n",
       "      <th>7</th>\n",
       "      <td>age</td>\n",
       "      <td>0.048518</td>\n",
       "      <td>0.053349</td>\n",
       "      <td>0.053995</td>\n",
       "      <td>0.047836</td>\n",
       "      <td>0.066120</td>\n",
       "    </tr>\n",
       "    <tr>\n",
       "      <th>8</th>\n",
       "      <td>d_birth</td>\n",
       "      <td>0.087955</td>\n",
       "      <td>0.089432</td>\n",
       "      <td>0.063130</td>\n",
       "      <td>0.077574</td>\n",
       "      <td>0.050394</td>\n",
       "    </tr>\n",
       "    <tr>\n",
       "      <th>9</th>\n",
       "      <td>d_death</td>\n",
       "      <td>0.045045</td>\n",
       "      <td>0.067337</td>\n",
       "      <td>0.082955</td>\n",
       "      <td>0.035720</td>\n",
       "      <td>0.023843</td>\n",
       "    </tr>\n",
       "    <tr>\n",
       "      <th>10</th>\n",
       "      <td>nationalities</td>\n",
       "      <td>0.016783</td>\n",
       "      <td>0.011689</td>\n",
       "      <td>0.028433</td>\n",
       "      <td>0.018922</td>\n",
       "      <td>0.046005</td>\n",
       "    </tr>\n",
       "    <tr>\n",
       "      <th>11</th>\n",
       "      <td>party_num</td>\n",
       "      <td>0.048950</td>\n",
       "      <td>0.082573</td>\n",
       "      <td>0.120117</td>\n",
       "      <td>0.023430</td>\n",
       "      <td>0.024395</td>\n",
       "    </tr>\n",
       "    <tr>\n",
       "      <th>12</th>\n",
       "      <td>occupations</td>\n",
       "      <td>0.025436</td>\n",
       "      <td>0.020178</td>\n",
       "      <td>0.014616</td>\n",
       "      <td>0.025365</td>\n",
       "      <td>0.034538</td>\n",
       "    </tr>\n",
       "    <tr>\n",
       "      <th>13</th>\n",
       "      <td>writer</td>\n",
       "      <td>0.007863</td>\n",
       "      <td>0.012471</td>\n",
       "      <td>0.013457</td>\n",
       "      <td>0.007808</td>\n",
       "      <td>0.018967</td>\n",
       "    </tr>\n",
       "    <tr>\n",
       "      <th>14</th>\n",
       "      <td>scientist</td>\n",
       "      <td>0.002132</td>\n",
       "      <td>0.003195</td>\n",
       "      <td>0.003382</td>\n",
       "      <td>0.001623</td>\n",
       "      <td>0.019436</td>\n",
       "    </tr>\n",
       "    <tr>\n",
       "      <th>15</th>\n",
       "      <td>journalist</td>\n",
       "      <td>0.002741</td>\n",
       "      <td>0.005125</td>\n",
       "      <td>0.003372</td>\n",
       "      <td>0.004346</td>\n",
       "      <td>0.013402</td>\n",
       "    </tr>\n",
       "    <tr>\n",
       "      <th>16</th>\n",
       "      <td>economist</td>\n",
       "      <td>0.000316</td>\n",
       "      <td>0.003878</td>\n",
       "      <td>0.001638</td>\n",
       "      <td>0.000000</td>\n",
       "      <td>0.001219</td>\n",
       "    </tr>\n",
       "    <tr>\n",
       "      <th>17</th>\n",
       "      <td>historian</td>\n",
       "      <td>0.000345</td>\n",
       "      <td>0.000534</td>\n",
       "      <td>0.000079</td>\n",
       "      <td>0.003820</td>\n",
       "      <td>0.000503</td>\n",
       "    </tr>\n",
       "    <tr>\n",
       "      <th>18</th>\n",
       "      <td>athleate</td>\n",
       "      <td>0.002935</td>\n",
       "      <td>0.000463</td>\n",
       "      <td>0.000523</td>\n",
       "      <td>0.001434</td>\n",
       "      <td>0.006049</td>\n",
       "    </tr>\n",
       "    <tr>\n",
       "      <th>19</th>\n",
       "      <td>lawyer</td>\n",
       "      <td>0.002362</td>\n",
       "      <td>0.004384</td>\n",
       "      <td>0.002145</td>\n",
       "      <td>0.004285</td>\n",
       "      <td>0.001277</td>\n",
       "    </tr>\n",
       "    <tr>\n",
       "      <th>20</th>\n",
       "      <td>physician</td>\n",
       "      <td>0.001630</td>\n",
       "      <td>0.000245</td>\n",
       "      <td>0.001226</td>\n",
       "      <td>0.001317</td>\n",
       "      <td>0.000000</td>\n",
       "    </tr>\n",
       "    <tr>\n",
       "      <th>21</th>\n",
       "      <td>actor</td>\n",
       "      <td>0.001959</td>\n",
       "      <td>0.000841</td>\n",
       "      <td>0.000538</td>\n",
       "      <td>0.000471</td>\n",
       "      <td>0.001825</td>\n",
       "    </tr>\n",
       "    <tr>\n",
       "      <th>22</th>\n",
       "      <td>ply</td>\n",
       "      <td>0.002144</td>\n",
       "      <td>0.000379</td>\n",
       "      <td>0.000435</td>\n",
       "      <td>0.000338</td>\n",
       "      <td>0.000000</td>\n",
       "    </tr>\n",
       "    <tr>\n",
       "      <th>23</th>\n",
       "      <td>other_o</td>\n",
       "      <td>0.022999</td>\n",
       "      <td>0.031192</td>\n",
       "      <td>0.008976</td>\n",
       "      <td>0.023065</td>\n",
       "      <td>0.030714</td>\n",
       "    </tr>\n",
       "    <tr>\n",
       "      <th>24</th>\n",
       "      <td>party1</td>\n",
       "      <td>0.084194</td>\n",
       "      <td>0.021736</td>\n",
       "      <td>0.027185</td>\n",
       "      <td>0.078594</td>\n",
       "      <td>0.021239</td>\n",
       "    </tr>\n",
       "    <tr>\n",
       "      <th>25</th>\n",
       "      <td>party2</td>\n",
       "      <td>0.045098</td>\n",
       "      <td>0.036880</td>\n",
       "      <td>0.017811</td>\n",
       "      <td>0.042250</td>\n",
       "      <td>0.010626</td>\n",
       "    </tr>\n",
       "    <tr>\n",
       "      <th>26</th>\n",
       "      <td>party3</td>\n",
       "      <td>0.002307</td>\n",
       "      <td>0.001247</td>\n",
       "      <td>0.007946</td>\n",
       "      <td>0.023993</td>\n",
       "      <td>0.001096</td>\n",
       "    </tr>\n",
       "    <tr>\n",
       "      <th>27</th>\n",
       "      <td>alive_unknown</td>\n",
       "      <td>0.010718</td>\n",
       "      <td>0.011359</td>\n",
       "      <td>0.008704</td>\n",
       "      <td>0.021179</td>\n",
       "      <td>0.014697</td>\n",
       "    </tr>\n",
       "    <tr>\n",
       "      <th>28</th>\n",
       "      <td>is_alive</td>\n",
       "      <td>0.090094</td>\n",
       "      <td>0.160741</td>\n",
       "      <td>0.139347</td>\n",
       "      <td>0.071207</td>\n",
       "      <td>0.049775</td>\n",
       "    </tr>\n",
       "    <tr>\n",
       "      <th>29</th>\n",
       "      <td>interval_1</td>\n",
       "      <td>0.011765</td>\n",
       "      <td>0.031709</td>\n",
       "      <td>0.046615</td>\n",
       "      <td>0.025770</td>\n",
       "      <td>0.047055</td>\n",
       "    </tr>\n",
       "    <tr>\n",
       "      <th>30</th>\n",
       "      <td>interval_2</td>\n",
       "      <td>0.059004</td>\n",
       "      <td>0.022190</td>\n",
       "      <td>0.028196</td>\n",
       "      <td>0.037561</td>\n",
       "      <td>0.056140</td>\n",
       "    </tr>\n",
       "    <tr>\n",
       "      <th>31</th>\n",
       "      <td>interval_3</td>\n",
       "      <td>0.048486</td>\n",
       "      <td>0.068894</td>\n",
       "      <td>0.022059</td>\n",
       "      <td>0.038763</td>\n",
       "      <td>0.066849</td>\n",
       "    </tr>\n",
       "  </tbody>\n",
       "</table>\n",
       "</div>"
      ],
      "text/plain": [
       "          Feature  Importance  Importance  Importance  Importance  Importance\n",
       "0         entered    0.064559    0.052355    0.061346    0.052065    0.065936\n",
       "1      efficiency    0.040117    0.030346    0.036820    0.048492    0.047931\n",
       "2     eig_central    0.037118    0.038880    0.026586    0.066689    0.040755\n",
       "3       in_degree    0.036719    0.023830    0.041447    0.044353    0.062145\n",
       "4          k_core    0.036233    0.024561    0.033912    0.053267    0.068058\n",
       "5      out_degree    0.039695    0.032261    0.041122    0.040098    0.029964\n",
       "6           views    0.073780    0.055747    0.061886    0.078363    0.079047\n",
       "7             age    0.048518    0.053349    0.053995    0.047836    0.066120\n",
       "8         d_birth    0.087955    0.089432    0.063130    0.077574    0.050394\n",
       "9         d_death    0.045045    0.067337    0.082955    0.035720    0.023843\n",
       "10  nationalities    0.016783    0.011689    0.028433    0.018922    0.046005\n",
       "11      party_num    0.048950    0.082573    0.120117    0.023430    0.024395\n",
       "12    occupations    0.025436    0.020178    0.014616    0.025365    0.034538\n",
       "13         writer    0.007863    0.012471    0.013457    0.007808    0.018967\n",
       "14      scientist    0.002132    0.003195    0.003382    0.001623    0.019436\n",
       "15     journalist    0.002741    0.005125    0.003372    0.004346    0.013402\n",
       "16      economist    0.000316    0.003878    0.001638    0.000000    0.001219\n",
       "17      historian    0.000345    0.000534    0.000079    0.003820    0.000503\n",
       "18       athleate    0.002935    0.000463    0.000523    0.001434    0.006049\n",
       "19         lawyer    0.002362    0.004384    0.002145    0.004285    0.001277\n",
       "20      physician    0.001630    0.000245    0.001226    0.001317    0.000000\n",
       "21          actor    0.001959    0.000841    0.000538    0.000471    0.001825\n",
       "22            ply    0.002144    0.000379    0.000435    0.000338    0.000000\n",
       "23        other_o    0.022999    0.031192    0.008976    0.023065    0.030714\n",
       "24         party1    0.084194    0.021736    0.027185    0.078594    0.021239\n",
       "25         party2    0.045098    0.036880    0.017811    0.042250    0.010626\n",
       "26         party3    0.002307    0.001247    0.007946    0.023993    0.001096\n",
       "27  alive_unknown    0.010718    0.011359    0.008704    0.021179    0.014697\n",
       "28       is_alive    0.090094    0.160741    0.139347    0.071207    0.049775\n",
       "29     interval_1    0.011765    0.031709    0.046615    0.025770    0.047055\n",
       "30     interval_2    0.059004    0.022190    0.028196    0.037561    0.056140\n",
       "31     interval_3    0.048486    0.068894    0.022059    0.038763    0.066849"
      ]
     },
     "execution_count": 59,
     "metadata": {},
     "output_type": "execute_result"
    }
   ],
   "source": [
    "df = pd.concat(lst, axis=1)\n",
    "# atrs = df.Feature\n",
    "atrs = df.take([0], axis=1)\n",
    "atrs = atrs.replace({\n",
    "    \"wrt\":\"writer\",\n",
    "    \"sci\":\"scientist\",\n",
    "    \"jur\":\"journalist\",\n",
    "    \"eco\":\"economist\",\n",
    "    \"hst\":\"historian\",\n",
    "    \"spo\":\"athleate\",\n",
    "    \"lyr\":\"lawyer\",\n",
    "    \"phs\":\"physician\",\n",
    "    \"act\":\"actor\",\n",
    "    \"distance_birth\":\"d_birth\",\n",
    "    \"distance_death\":\"d_death\",\n",
    "    \"nationality_num\":\"nationalities\",\n",
    "    \"occupation_num\":\"occupations\",\n",
    "    \"year_interval_1\":\"interval_1\",\n",
    "    \"year_interval_2\":\"interval_2\",\n",
    "    \"year_interval_3\":\"interval_3\",\n",
    "    \"is_alive_unknown\":\"alive_unknown\",\n",
    "    \"is_alive_yes\":\"is_alive\"\n",
    "})\n",
    "us = df.take([1], axis=1)\n",
    "de = df.take([3], axis=1)\n",
    "fr = df.take([5], axis=1)\n",
    "gb = df.take([7], axis=1)\n",
    "ru = df.take([9], axis=1)\n",
    "\n",
    "# df = df.drop(df.columns[2],axis=1)\n",
    "# table = pd.DataFrame({\n",
    "#     \"Attribute\": atrs,\n",
    "#     \"USA\": us,\n",
    "#     \"Germany\": de,\n",
    "#     \"France\":fr,\n",
    "#     \"Great Britain\": gb,\n",
    "#     \"Russia\": ru\n",
    "# })\n",
    "# table[\"Attribute\"] = atrs\n",
    "# table[\"USA\"] = us\n",
    "# table[\"Germany\"] = de\n",
    "# table[\"France\"] = fr\n",
    "# table[\"Great Britain\"] = gb\n",
    "# table[\"Russia\"] = ru\n",
    "table = pd.concat([atrs, us,de,fr,gb,ru],axis=1)\n",
    "table"
   ]
  },
  {
   "cell_type": "code",
   "execution_count": 60,
   "metadata": {},
   "outputs": [],
   "source": [
    "# pd.concat(lst, axis=1).head(10)"
   ]
  },
  {
   "cell_type": "code",
   "execution_count": 61,
   "metadata": {},
   "outputs": [],
   "source": [
    "# print_latex(pd.concat(lst, axis=1).head(10))"
   ]
  },
  {
   "cell_type": "code",
   "execution_count": 62,
   "metadata": {},
   "outputs": [],
   "source": [
    "# us = x[0][1][\"USA\"] = x[0][1].apply(lambda x:x[\"Feature\"]+\" \"+\"({})\".format(round(x[\"Importance\"],3)), axis=1).reset_index(drop=True)\n",
    "# de = x[1][1][\"Germany\"] = x[1][1].apply(lambda x:x[\"Feature\"]+\" \"+\"({})\".format(round(x[\"Importance\"],3)), axis=1).reset_index(drop=True)\n",
    "# fr = x[2][1][\"France\"] = x[2][1].apply(lambda x:x[\"Feature\"]+\" \"+\"({})\".format(round(x[\"Importance\"],3)), axis=1).reset_index(drop=True)\n",
    "# gb = x[3][1][\"Great Britain\"] = x[3][1].apply(lambda x:x[\"Feature\"]+\" \"+\"({})\".format(round(x[\"Importance\"],3)), axis=1).reset_index(drop=True)\n",
    "# ru = x[4][1][\"Russia\"] = x[4][1].apply(lambda x:x[\"Feature\"]+\" \"+\"({})\".format(round(x[\"Importance\"],3)), axis=1).reset_index(drop=True)\n",
    "# lst = [us,de,fr,gb,ru]"
   ]
  },
  {
   "cell_type": "code",
   "execution_count": 63,
   "metadata": {},
   "outputs": [],
   "source": [
    "# us = x[0][1][\"USA\"] = x[0][1].apply(lambda x:x[\"Feature\"], axis=1).reset_index(drop=True)\n",
    "# de = x[1][1][\"Germany\"] = x[1][1].apply(lambda x:x[\"Feature\"], axis=1).reset_index(drop=True)\n",
    "# fr = x[2][1][\"France\"] = x[2][1].apply(lambda x:x[\"Feature\"], axis=1).reset_index(drop=True)\n",
    "# gb = x[3][1][\"Great Britain\"] = x[3][1].apply(lambda x:x[\"Feature\"], axis=1).reset_index(drop=True)\n",
    "# ru = x[4][1][\"Russia\"] = x[4][1].apply(lambda x:x[\"Feature\"], axis=1).reset_index(drop=True)\n",
    "# lst = [us,de,fr,gb,ru]"
   ]
  },
  {
   "cell_type": "code",
   "execution_count": 64,
   "metadata": {},
   "outputs": [],
   "source": [
    "# df = pd.concat(lst,axis=1)\n",
    "# df.columns = [\"USA\", \"Germany\", \"France\", \"Great Britain\", \"Russia\"]\n",
    "# print_latex(df.head(10))"
   ]
  },
  {
   "cell_type": "code",
   "execution_count": 65,
   "metadata": {},
   "outputs": [
    {
     "name": "stdout",
     "output_type": "stream",
     "text": [
      "\\begin{tabular}{|c|c|c|c|c|}\n",
      "\\hline\n",
      "       Feature &  Importance &  Importance &  Importance &  Importance &  Importance \\\\\n",
      "\\hline\n",
      "       entered &        0.06 &        0.05 &        0.06 &        0.05 &        0.07 \\\\\n",
      "\\hline    efficiency &        0.04 &        0.03 &        0.04 &        0.05 &        0.05 \\\\\n",
      "\\hline   eig\\_central &        0.04 &        0.04 &        0.03 &        0.07 &        0.04 \\\\\n",
      "\\hline     in\\_degree &        0.04 &        0.02 &        0.04 &        0.04 &        0.06 \\\\\n",
      "\\hline        k\\_core &        0.04 &        0.02 &        0.03 &        0.05 &        0.07 \\\\\n",
      "\\hline    out\\_degree &        0.04 &        0.03 &        0.04 &        0.04 &        0.03 \\\\\n",
      "\\hline         views &        0.07 &        0.06 &        0.06 &        0.08 &        0.08 \\\\\n",
      "\\hline           age &        0.05 &        0.05 &        0.05 &        0.05 &        0.07 \\\\\n",
      "\\hline       d\\_birth &        0.09 &        0.09 &        0.06 &        0.08 &        0.05 \\\\\n",
      "\\hline       d\\_death &        0.05 &        0.07 &        0.08 &        0.04 &        0.02 \\\\\n",
      "\\hline nationalities &        0.02 &        0.01 &        0.03 &        0.02 &        0.05 \\\\\n",
      "\\hline     party\\_num &        0.05 &        0.08 &        0.12 &        0.02 &        0.02 \\\\\n",
      "\\hline   occupations &        0.03 &        0.02 &        0.01 &        0.03 &        0.03 \\\\\n",
      "\\hline        writer &        0.01 &        0.01 &        0.01 &        0.01 &        0.02 \\\\\n",
      "\\hline     scientist &        0.00 &        0.00 &        0.00 &        0.00 &        0.02 \\\\\n",
      "\\hline    journalist &        0.00 &        0.01 &        0.00 &        0.00 &        0.01 \\\\\n",
      "\\hline     economist &        0.00 &        0.00 &        0.00 &        0.00 &        0.00 \\\\\n",
      "\\hline     historian &        0.00 &        0.00 &        0.00 &        0.00 &        0.00 \\\\\n",
      "\\hline      athleate &        0.00 &        0.00 &        0.00 &        0.00 &        0.01 \\\\\n",
      "\\hline        lawyer &        0.00 &        0.00 &        0.00 &        0.00 &        0.00 \\\\\n",
      "\\hline     physician &        0.00 &        0.00 &        0.00 &        0.00 &        0.00 \\\\\n",
      "\\hline         actor &        0.00 &        0.00 &        0.00 &        0.00 &        0.00 \\\\\n",
      "\\hline           ply &        0.00 &        0.00 &        0.00 &        0.00 &        0.00 \\\\\n",
      "\\hline       other\\_o &        0.02 &        0.03 &        0.01 &        0.02 &        0.03 \\\\\n",
      "\\hline        party1 &        0.08 &        0.02 &        0.03 &        0.08 &        0.02 \\\\\n",
      "\\hline        party2 &        0.05 &        0.04 &        0.02 &        0.04 &        0.01 \\\\\n",
      "\\hline        party3 &        0.00 &        0.00 &        0.01 &        0.02 &        0.00 \\\\\n",
      "\\hline alive\\_unknown &        0.01 &        0.01 &        0.01 &        0.02 &        0.01 \\\\\n",
      "\\hline      is\\_alive &        0.09 &        0.16 &        0.14 &        0.07 &        0.05 \\\\\n",
      "\\hline    interval\\_1 &        0.01 &        0.03 &        0.05 &        0.03 &        0.05 \\\\\n",
      "\\hline    interval\\_2 &        0.06 &        0.02 &        0.03 &        0.04 &        0.06 \\\\\n",
      "\\hline    interval\\_3 &        0.05 &        0.07 &        0.02 &        0.04 &        0.07 \\\\\n",
      "\\hline\n",
      "\\end{tabular}\n",
      "\n"
     ]
    }
   ],
   "source": [
    "print_latex(table)"
   ]
  },
  {
   "cell_type": "code",
   "execution_count": 66,
   "metadata": {},
   "outputs": [
    {
     "data": {
      "text/plain": [
       "array([[ 1.19987535e-03, -5.63779641e-04,  9.42330329e-02,\n",
       "         6.92677425e-01,  2.67072459e-01, -2.85859332e-01,\n",
       "        -2.20018359e-01,  2.65664575e-02, -2.09713951e-02,\n",
       "         1.52953109e-02,  8.12037593e-03,  7.17493498e-03,\n",
       "         8.19015893e-02,  1.51916535e-01, -3.02106315e-01,\n",
       "        -5.65154904e-01,  1.03420814e+00,  1.86682441e+00,\n",
       "        -2.49699953e-01,  6.00744420e-01, -1.01970256e-01,\n",
       "         4.79244553e-01, -3.57707488e-01,  0.00000000e+00,\n",
       "        -1.01970256e-01,  6.62696008e-02, -5.92408348e-01,\n",
       "         1.96469452e-01,  8.78958762e-01, -8.24069127e-02,\n",
       "         9.00377137e-02,  6.72924025e-01, -7.59927476e-01,\n",
       "         3.06332454e-01, -1.53098331e-01, -1.50199861e-01]])"
      ]
     },
     "execution_count": 66,
     "metadata": {},
     "output_type": "execute_result"
    }
   ],
   "source": [
    "log_reg.coef_"
   ]
  },
  {
   "cell_type": "code",
   "execution_count": 67,
   "metadata": {},
   "outputs": [
    {
     "name": "stdout",
     "output_type": "stream",
     "text": [
      "Warning: Maximum number of iterations has been exceeded.\n",
      "         Current function value: 0.295302\n",
      "         Iterations: 35\n"
     ]
    }
   ],
   "source": [
    "# X = X.drop([\"is_alive_no\"], axis=1)\n",
    "# print(X)\n",
    "model = sm.Logit(y, X)\n",
    " \n",
    "result = model.fit()"
   ]
  },
  {
   "cell_type": "code",
   "execution_count": 68,
   "metadata": {},
   "outputs": [],
   "source": [
    "def p_to_star(p_value):\n",
    "    if p_value <= 0.001:\n",
    "        return \"***\"\n",
    "    if p_value <= 0.01:\n",
    "        return \"**\"\n",
    "    if p_value <= 0.05:\n",
    "        return \"*\"\n",
    "    return \"\"\n",
    "\n",
    "def get_coefs_log_reg(X,y):\n",
    "    # X = X.drop([\"is_alive_no\"], axis=1)\n",
    "    # print(X)\n",
    "    model = sm.Logit(y, X)\n",
    "    result = model.fit(method='bfgs')\n",
    "    df = pd.DataFrame({\n",
    "        \"Atribute\": X.columns,\n",
    "        \"coef\": result.params,\n",
    "        \"P-Value\": result.pvalues,\n",
    "    })\n",
    "    df[\"p_value\"] = df[\"P-Value\"].apply(lambda x: p_to_star(x))\n",
    "    df[\"Coefficient\"] = df.apply(lambda x: str(round(x[\"coef\"],3))+x[\"p_value\"], axis=1)\n",
    "    return df.round(2).drop([\"coef\", \"p_value\", \"P-Value\"], axis=1)"
   ]
  },
  {
   "cell_type": "code",
   "execution_count": 69,
   "metadata": {},
   "outputs": [
    {
     "name": "stdout",
     "output_type": "stream",
     "text": [
      "Warning: Maximum number of iterations has been exceeded.\n",
      "         Current function value: 0.306232\n",
      "         Iterations: 35\n",
      "         Function evaluations: 47\n",
      "         Gradient evaluations: 40\n",
      "\\begin{tabular}{|c|c|c|c|c|}\n",
      "\\hline\n",
      "         Atribute & Coefficient \\\\\n",
      "\\hline\n",
      "            index &       0.001 \\\\\n",
      "\\hline          entered &       0.001 \\\\\n",
      "\\hline       efficiency &       0.162 \\\\\n",
      "\\hline      eig\\_central &        0.83 \\\\\n",
      "\\hline        in\\_degree &       0.141 \\\\\n",
      "\\hline           k\\_core &       0.096 \\\\\n",
      "\\hline       out\\_degree &      -0.401 \\\\\n",
      "\\hline            views &      -0.376 \\\\\n",
      "\\hline              age &      -0.004 \\\\\n",
      "\\hline   distance\\_birth &       0.014 \\\\\n",
      "\\hline   distance\\_death &       0.011 \\\\\n",
      "\\hline   distance\\_delta &       0.003 \\\\\n",
      "\\hline  nationality\\_num &      -0.645 \\\\\n",
      "\\hline        party\\_num &      -0.109 \\\\\n",
      "\\hline   occupation\\_num &      -0.134 \\\\\n",
      "\\hline              wrt &      -0.346 \\\\\n",
      "\\hline              sci &        1.07 \\\\\n",
      "\\hline              jur &       0.506 \\\\\n",
      "\\hline              eco &       0.571 \\\\\n",
      "\\hline              hst &       0.644 \\\\\n",
      "\\hline              spo &      -0.015 \\\\\n",
      "\\hline              lyr &        0.16 \\\\\n",
      "\\hline              phs &      -0.076 \\\\\n",
      "\\hline              act &       0.409 \\\\\n",
      "\\hline              ply &      -0.118 \\\\\n",
      "\\hline          other\\_o &      -0.028 \\\\\n",
      "\\hline           party1 &      -0.671 \\\\\n",
      "\\hline           party2 &       0.334 \\\\\n",
      "\\hline           party3 &       0.836 \\\\\n",
      "\\hline          other\\_p &      -0.371 \\\\\n",
      "\\hline      is\\_alive\\_no &      -0.313 \\\\\n",
      "\\hline is\\_alive\\_unknown &       1.502 \\\\\n",
      "\\hline     is\\_alive\\_yes &      -1.182 \\\\\n",
      "\\hline  year\\_interval\\_1 &       0.113 \\\\\n",
      "\\hline  year\\_interval\\_2 &       0.063 \\\\\n",
      "\\hline  year\\_interval\\_3 &      -0.169 \\\\\n",
      "\\hline\n",
      "\\end{tabular}\n",
      "\n"
     ]
    }
   ],
   "source": [
    "print_latex(get_coefs_log_reg(X,y))"
   ]
  },
  {
   "cell_type": "code",
   "execution_count": 70,
   "metadata": {},
   "outputs": [],
   "source": [
    "def generate_coef_plot(country_dict,path):\n",
    "    lst = []\n",
    "    for k,v in country_dict.items():\n",
    "        data = pd.read_pickle(\"{}/2016_{}\".format(path, v))\n",
    "        data = preprocess_data_frame(data,[\"gender\"])\n",
    "        data = normalize.zscore_wikipedia_entered(data, [\"eig_central\",\"in_degree\",\"k_core\",\"out_degree\",\"efficiency\",\"views\"])\n",
    "        data = data.drop([\"is_alive_unknown\", \"is_alive_no\",\"index\"],axis=1)\n",
    "        X,y = split_dataframe(data,\"gender\")\n",
    "        model = sm.Logit(y, X)\n",
    "        try:\n",
    "            result = model.fit(method='bfgs')\n",
    "        except:\n",
    "            print(\"Jbg\")\n",
    "        p_v = pd.DataFrame(round(result.pvalues,5), columns=[\"p_value\"])\n",
    "        coef = pd.DataFrame(round(result.params,4),columns=[\"coef\"])\n",
    "        df = pd.concat([coef,p_v],axis=1)\n",
    "        df[\"p_value\"] = df[\"p_value\"].apply(lambda x: p_to_star(x))\n",
    "        df[k] = df.apply(lambda x: str(x[\"coef\"])+x[\"p_value\"], axis=1)\n",
    "        lst.append(df[k])\n",
    "        df = pd.concat(lst,axis=1)\n",
    "        x = df.index.values\n",
    "        x = pd.Series(x, index=df.index)\n",
    "        x = x.replace({\n",
    "            \"wrt\":\"writer\",\n",
    "            \"sci\":\"scientist\",\n",
    "            \"jur\":\"journalist\",\n",
    "            \"eco\":\"economist\",\n",
    "            \"hst\":\"historian\",\n",
    "            \"spo\":\"athleate\",\n",
    "            \"lyr\":\"lawyer\",\n",
    "            \"phs\":\"physician\",\n",
    "            \"act\":\"actor\",\n",
    "            \"distance_birth\":\"d_birth\",\n",
    "            \"distance_death\":\"d_death\",\n",
    "            \"nationality_num\":\"nationalities\",\n",
    "            \"occupation_num\":\"occupations\",\n",
    "            \"year_interval_1\":\"interval_1\",\n",
    "            \"year_interval_2\":\"interval_2\",\n",
    "            \"year_interval_3\":\"interval_3\",\n",
    "            \"is_alive_unknown\":\"alive_unknown\",\n",
    "            \"is_alive_yes\":\"is_alive\"\n",
    "        })\n",
    "        df[\"Attribute\"] = x\n",
    "    return df"
   ]
  },
  {
   "cell_type": "code",
   "execution_count": 71,
   "metadata": {},
   "outputs": [
    {
     "name": "stdout",
     "output_type": "stream",
     "text": [
      "['female', 'male']\n",
      "{0, 1}\n",
      "[0, 1]\n",
      "{0, 1}\n",
      "Warning: Maximum number of iterations has been exceeded.\n",
      "         Current function value: 0.380404\n",
      "         Iterations: 35\n",
      "         Function evaluations: 49\n",
      "         Gradient evaluations: 42\n",
      "['female', 'male']\n",
      "{0, 1}\n",
      "[0, 1]\n",
      "{0, 1}\n",
      "Warning: Maximum number of iterations has been exceeded.\n",
      "         Current function value: 0.312851\n",
      "         Iterations: 35\n",
      "         Function evaluations: 49\n",
      "         Gradient evaluations: 42\n",
      "['female', 'male']\n",
      "{0, 1}\n",
      "[0, 1]\n",
      "{0, 1}\n",
      "Warning: Maximum number of iterations has been exceeded.\n",
      "         Current function value: 0.302452\n",
      "         Iterations: 35\n",
      "         Function evaluations: 49\n",
      "         Gradient evaluations: 42\n",
      "['female', 'male']\n",
      "{0, 1}\n",
      "[0, 1]\n",
      "{0, 1}\n",
      "Warning: Maximum number of iterations has been exceeded.\n",
      "         Current function value: 0.357229\n",
      "         Iterations: 35\n",
      "         Function evaluations: 49\n",
      "         Gradient evaluations: 42\n",
      "['female', 'male']\n",
      "{0, 1}\n",
      "[0, 1]\n",
      "{0, 1}\n",
      "Warning: Maximum number of iterations has been exceeded.\n",
      "         Current function value: 0.257151\n",
      "         Iterations: 35\n",
      "         Function evaluations: 50\n",
      "         Gradient evaluations: 43\n"
     ]
    }
   ],
   "source": [
    "path = \"../data/final_sets/countries/model_large/\"\n",
    "table = generate_coef_plot(country_dict, path)"
   ]
  },
  {
   "cell_type": "code",
   "execution_count": 72,
   "metadata": {},
   "outputs": [
    {
     "data": {
      "text/html": [
       "<div>\n",
       "<style scoped>\n",
       "    .dataframe tbody tr th:only-of-type {\n",
       "        vertical-align: middle;\n",
       "    }\n",
       "\n",
       "    .dataframe tbody tr th {\n",
       "        vertical-align: top;\n",
       "    }\n",
       "\n",
       "    .dataframe thead th {\n",
       "        text-align: right;\n",
       "    }\n",
       "</style>\n",
       "<table border=\"1\" class=\"dataframe\">\n",
       "  <thead>\n",
       "    <tr style=\"text-align: right;\">\n",
       "      <th></th>\n",
       "      <th>Attribute</th>\n",
       "      <th>USA</th>\n",
       "      <th>Germany</th>\n",
       "      <th>France</th>\n",
       "      <th>Great Britain</th>\n",
       "      <th>Russia</th>\n",
       "    </tr>\n",
       "  </thead>\n",
       "  <tbody>\n",
       "    <tr>\n",
       "      <th>entered</th>\n",
       "      <td>entered</td>\n",
       "      <td>0.0008</td>\n",
       "      <td>0.0016</td>\n",
       "      <td>0.0017</td>\n",
       "      <td>0.0008</td>\n",
       "      <td>0.0007</td>\n",
       "    </tr>\n",
       "    <tr>\n",
       "      <th>efficiency</th>\n",
       "      <td>efficiency</td>\n",
       "      <td>0.0348</td>\n",
       "      <td>0.0883</td>\n",
       "      <td>-0.0251</td>\n",
       "      <td>-0.1616</td>\n",
       "      <td>0.063</td>\n",
       "    </tr>\n",
       "    <tr>\n",
       "      <th>eig_central</th>\n",
       "      <td>eig_central</td>\n",
       "      <td>-0.0043</td>\n",
       "      <td>0.36</td>\n",
       "      <td>0.1208</td>\n",
       "      <td>-0.0487</td>\n",
       "      <td>-0.1102</td>\n",
       "    </tr>\n",
       "    <tr>\n",
       "      <th>in_degree</th>\n",
       "      <td>in_degree</td>\n",
       "      <td>0.1814*</td>\n",
       "      <td>-0.0684</td>\n",
       "      <td>0.1076</td>\n",
       "      <td>0.0185</td>\n",
       "      <td>0.0951</td>\n",
       "    </tr>\n",
       "    <tr>\n",
       "      <th>k_core</th>\n",
       "      <td>k_core</td>\n",
       "      <td>-0.0809</td>\n",
       "      <td>0.2831</td>\n",
       "      <td>-0.1166</td>\n",
       "      <td>0.8006</td>\n",
       "      <td>0.2537</td>\n",
       "    </tr>\n",
       "    <tr>\n",
       "      <th>out_degree</th>\n",
       "      <td>out_degree</td>\n",
       "      <td>0.108</td>\n",
       "      <td>-0.3142</td>\n",
       "      <td>-0.1546</td>\n",
       "      <td>-0.6224*</td>\n",
       "      <td>-0.4143</td>\n",
       "    </tr>\n",
       "    <tr>\n",
       "      <th>views</th>\n",
       "      <td>views</td>\n",
       "      <td>-0.1052**</td>\n",
       "      <td>-0.1064</td>\n",
       "      <td>-0.0521</td>\n",
       "      <td>-0.2085</td>\n",
       "      <td>-0.2804</td>\n",
       "    </tr>\n",
       "    <tr>\n",
       "      <th>age</th>\n",
       "      <td>age</td>\n",
       "      <td>-0.0017</td>\n",
       "      <td>-0.0104</td>\n",
       "      <td>0.0116</td>\n",
       "      <td>-0.0013</td>\n",
       "      <td>0.0183</td>\n",
       "    </tr>\n",
       "    <tr>\n",
       "      <th>distance_birth</th>\n",
       "      <td>d_birth</td>\n",
       "      <td>0.0089</td>\n",
       "      <td>0.0089</td>\n",
       "      <td>0.0026</td>\n",
       "      <td>0.0045</td>\n",
       "      <td>-0.005</td>\n",
       "    </tr>\n",
       "    <tr>\n",
       "      <th>distance_death</th>\n",
       "      <td>d_death</td>\n",
       "      <td>0.0079</td>\n",
       "      <td>0.0049</td>\n",
       "      <td>0.0075</td>\n",
       "      <td>0.0101</td>\n",
       "      <td>0.0015</td>\n",
       "    </tr>\n",
       "    <tr>\n",
       "      <th>distance_delta</th>\n",
       "      <td>distance_delta</td>\n",
       "      <td>0.001</td>\n",
       "      <td>0.004</td>\n",
       "      <td>-0.005</td>\n",
       "      <td>-0.0056</td>\n",
       "      <td>-0.0066</td>\n",
       "    </tr>\n",
       "    <tr>\n",
       "      <th>nationality_num</th>\n",
       "      <td>nationalities</td>\n",
       "      <td>0.1639</td>\n",
       "      <td>-0.6137</td>\n",
       "      <td>-0.5634</td>\n",
       "      <td>0.3023</td>\n",
       "      <td>-0.1886</td>\n",
       "    </tr>\n",
       "    <tr>\n",
       "      <th>party_num</th>\n",
       "      <td>party_num</td>\n",
       "      <td>-0.0508</td>\n",
       "      <td>-0.1434</td>\n",
       "      <td>0.1108</td>\n",
       "      <td>0.0573</td>\n",
       "      <td>0.4333</td>\n",
       "    </tr>\n",
       "    <tr>\n",
       "      <th>occupation_num</th>\n",
       "      <td>occupations</td>\n",
       "      <td>0.0205</td>\n",
       "      <td>-0.1496</td>\n",
       "      <td>-0.08</td>\n",
       "      <td>-0.2061</td>\n",
       "      <td>0.2719</td>\n",
       "    </tr>\n",
       "    <tr>\n",
       "      <th>wrt</th>\n",
       "      <td>writer</td>\n",
       "      <td>-0.5772</td>\n",
       "      <td>-0.4996</td>\n",
       "      <td>0.888</td>\n",
       "      <td>0.1797</td>\n",
       "      <td>-0.4222</td>\n",
       "    </tr>\n",
       "    <tr>\n",
       "      <th>sci</th>\n",
       "      <td>scientist</td>\n",
       "      <td>0.0178</td>\n",
       "      <td>0.9688</td>\n",
       "      <td>0.1848</td>\n",
       "      <td>1.4145</td>\n",
       "      <td>0.8486</td>\n",
       "    </tr>\n",
       "    <tr>\n",
       "      <th>jur</th>\n",
       "      <td>journalist</td>\n",
       "      <td>-0.0161</td>\n",
       "      <td>0.5228</td>\n",
       "      <td>0.0883</td>\n",
       "      <td>0.447</td>\n",
       "      <td>-0.2167</td>\n",
       "    </tr>\n",
       "    <tr>\n",
       "      <th>eco</th>\n",
       "      <td>economist</td>\n",
       "      <td>0.0337</td>\n",
       "      <td>0.5713</td>\n",
       "      <td>0.1716</td>\n",
       "      <td>0.2595</td>\n",
       "      <td>0.1515</td>\n",
       "    </tr>\n",
       "    <tr>\n",
       "      <th>hst</th>\n",
       "      <td>historian</td>\n",
       "      <td>0.1132</td>\n",
       "      <td>0.7944</td>\n",
       "      <td>0.2336</td>\n",
       "      <td>-0.189</td>\n",
       "      <td>0.4513</td>\n",
       "    </tr>\n",
       "    <tr>\n",
       "      <th>spo</th>\n",
       "      <td>athleate</td>\n",
       "      <td>0.5448</td>\n",
       "      <td>-0.0256</td>\n",
       "      <td>0.1158</td>\n",
       "      <td>0.3344</td>\n",
       "      <td>0.1852</td>\n",
       "    </tr>\n",
       "    <tr>\n",
       "      <th>lyr</th>\n",
       "      <td>lawyer</td>\n",
       "      <td>0.7472</td>\n",
       "      <td>0.2261</td>\n",
       "      <td>-0.1555</td>\n",
       "      <td>-2.0356</td>\n",
       "      <td>-0.3499</td>\n",
       "    </tr>\n",
       "    <tr>\n",
       "      <th>phs</th>\n",
       "      <td>physician</td>\n",
       "      <td>-0.0278</td>\n",
       "      <td>-0.1063</td>\n",
       "      <td>-0.272</td>\n",
       "      <td>0.4772</td>\n",
       "      <td>0.1266</td>\n",
       "    </tr>\n",
       "    <tr>\n",
       "      <th>act</th>\n",
       "      <td>actor</td>\n",
       "      <td>-0.2238</td>\n",
       "      <td>0.4666</td>\n",
       "      <td>-0.1501</td>\n",
       "      <td>-0.6115</td>\n",
       "      <td>-0.269</td>\n",
       "    </tr>\n",
       "    <tr>\n",
       "      <th>ply</th>\n",
       "      <td>ply</td>\n",
       "      <td>0.5025</td>\n",
       "      <td>-0.1238</td>\n",
       "      <td>0.1696</td>\n",
       "      <td>0.1436</td>\n",
       "      <td>0.5148</td>\n",
       "    </tr>\n",
       "    <tr>\n",
       "      <th>other_o</th>\n",
       "      <td>other_o</td>\n",
       "      <td>-0.2677</td>\n",
       "      <td>0.1396</td>\n",
       "      <td>-0.4434</td>\n",
       "      <td>0.5931</td>\n",
       "      <td>0.9172</td>\n",
       "    </tr>\n",
       "    <tr>\n",
       "      <th>party1</th>\n",
       "      <td>party1</td>\n",
       "      <td>-0.2667</td>\n",
       "      <td>-0.5498</td>\n",
       "      <td>0.3023</td>\n",
       "      <td>-1.1207</td>\n",
       "      <td>0.6411</td>\n",
       "    </tr>\n",
       "    <tr>\n",
       "      <th>party2</th>\n",
       "      <td>party2</td>\n",
       "      <td>0.195</td>\n",
       "      <td>0.1925</td>\n",
       "      <td>-0.0664</td>\n",
       "      <td>0.5358</td>\n",
       "      <td>-0.4089</td>\n",
       "    </tr>\n",
       "    <tr>\n",
       "      <th>party3</th>\n",
       "      <td>party3</td>\n",
       "      <td>0.2085</td>\n",
       "      <td>0.8984</td>\n",
       "      <td>0.1978</td>\n",
       "      <td>0.1825</td>\n",
       "      <td>-0.1278</td>\n",
       "    </tr>\n",
       "    <tr>\n",
       "      <th>other_p</th>\n",
       "      <td>other_p</td>\n",
       "      <td>-0.2341</td>\n",
       "      <td>-0.4055</td>\n",
       "      <td>-0.13</td>\n",
       "      <td>-0.547</td>\n",
       "      <td>0.2309</td>\n",
       "    </tr>\n",
       "    <tr>\n",
       "      <th>is_alive_yes</th>\n",
       "      <td>is_alive</td>\n",
       "      <td>-0.6566***</td>\n",
       "      <td>-1.5774</td>\n",
       "      <td>-1.6277</td>\n",
       "      <td>0.0536</td>\n",
       "      <td>-0.3305</td>\n",
       "    </tr>\n",
       "    <tr>\n",
       "      <th>year_interval_1</th>\n",
       "      <td>interval_1</td>\n",
       "      <td>-0.0248</td>\n",
       "      <td>0.0832</td>\n",
       "      <td>0.5013</td>\n",
       "      <td>0.2099</td>\n",
       "      <td>0.337</td>\n",
       "    </tr>\n",
       "    <tr>\n",
       "      <th>year_interval_2</th>\n",
       "      <td>interval_2</td>\n",
       "      <td>0.123</td>\n",
       "      <td>0.0908</td>\n",
       "      <td>-0.305</td>\n",
       "      <td>-0.0418</td>\n",
       "      <td>-0.2469</td>\n",
       "    </tr>\n",
       "    <tr>\n",
       "      <th>year_interval_3</th>\n",
       "      <td>interval_3</td>\n",
       "      <td>-0.0958</td>\n",
       "      <td>-0.1673</td>\n",
       "      <td>-0.1959</td>\n",
       "      <td>-0.1698</td>\n",
       "      <td>-0.0859</td>\n",
       "    </tr>\n",
       "  </tbody>\n",
       "</table>\n",
       "</div>"
      ],
      "text/plain": [
       "                      Attribute         USA  Germany   France Great Britain  \\\n",
       "entered                 entered      0.0008   0.0016   0.0017        0.0008   \n",
       "efficiency           efficiency      0.0348   0.0883  -0.0251       -0.1616   \n",
       "eig_central         eig_central     -0.0043     0.36   0.1208       -0.0487   \n",
       "in_degree             in_degree     0.1814*  -0.0684   0.1076        0.0185   \n",
       "k_core                   k_core     -0.0809   0.2831  -0.1166        0.8006   \n",
       "out_degree           out_degree       0.108  -0.3142  -0.1546      -0.6224*   \n",
       "views                     views   -0.1052**  -0.1064  -0.0521       -0.2085   \n",
       "age                         age     -0.0017  -0.0104   0.0116       -0.0013   \n",
       "distance_birth          d_birth      0.0089   0.0089   0.0026        0.0045   \n",
       "distance_death          d_death      0.0079   0.0049   0.0075        0.0101   \n",
       "distance_delta   distance_delta       0.001    0.004   -0.005       -0.0056   \n",
       "nationality_num   nationalities      0.1639  -0.6137  -0.5634        0.3023   \n",
       "party_num             party_num     -0.0508  -0.1434   0.1108        0.0573   \n",
       "occupation_num      occupations      0.0205  -0.1496    -0.08       -0.2061   \n",
       "wrt                      writer     -0.5772  -0.4996    0.888        0.1797   \n",
       "sci                   scientist      0.0178   0.9688   0.1848        1.4145   \n",
       "jur                  journalist     -0.0161   0.5228   0.0883         0.447   \n",
       "eco                   economist      0.0337   0.5713   0.1716        0.2595   \n",
       "hst                   historian      0.1132   0.7944   0.2336        -0.189   \n",
       "spo                    athleate      0.5448  -0.0256   0.1158        0.3344   \n",
       "lyr                      lawyer      0.7472   0.2261  -0.1555       -2.0356   \n",
       "phs                   physician     -0.0278  -0.1063   -0.272        0.4772   \n",
       "act                       actor     -0.2238   0.4666  -0.1501       -0.6115   \n",
       "ply                         ply      0.5025  -0.1238   0.1696        0.1436   \n",
       "other_o                 other_o     -0.2677   0.1396  -0.4434        0.5931   \n",
       "party1                   party1     -0.2667  -0.5498   0.3023       -1.1207   \n",
       "party2                   party2       0.195   0.1925  -0.0664        0.5358   \n",
       "party3                   party3      0.2085   0.8984   0.1978        0.1825   \n",
       "other_p                 other_p     -0.2341  -0.4055    -0.13        -0.547   \n",
       "is_alive_yes           is_alive  -0.6566***  -1.5774  -1.6277        0.0536   \n",
       "year_interval_1      interval_1     -0.0248   0.0832   0.5013        0.2099   \n",
       "year_interval_2      interval_2       0.123   0.0908   -0.305       -0.0418   \n",
       "year_interval_3      interval_3     -0.0958  -0.1673  -0.1959       -0.1698   \n",
       "\n",
       "                  Russia  \n",
       "entered           0.0007  \n",
       "efficiency         0.063  \n",
       "eig_central      -0.1102  \n",
       "in_degree         0.0951  \n",
       "k_core            0.2537  \n",
       "out_degree       -0.4143  \n",
       "views            -0.2804  \n",
       "age               0.0183  \n",
       "distance_birth    -0.005  \n",
       "distance_death    0.0015  \n",
       "distance_delta   -0.0066  \n",
       "nationality_num  -0.1886  \n",
       "party_num         0.4333  \n",
       "occupation_num    0.2719  \n",
       "wrt              -0.4222  \n",
       "sci               0.8486  \n",
       "jur              -0.2167  \n",
       "eco               0.1515  \n",
       "hst               0.4513  \n",
       "spo               0.1852  \n",
       "lyr              -0.3499  \n",
       "phs               0.1266  \n",
       "act               -0.269  \n",
       "ply               0.5148  \n",
       "other_o           0.9172  \n",
       "party1            0.6411  \n",
       "party2           -0.4089  \n",
       "party3           -0.1278  \n",
       "other_p           0.2309  \n",
       "is_alive_yes     -0.3305  \n",
       "year_interval_1    0.337  \n",
       "year_interval_2  -0.2469  \n",
       "year_interval_3  -0.0859  "
      ]
     },
     "execution_count": 72,
     "metadata": {},
     "output_type": "execute_result"
    }
   ],
   "source": [
    "cols = table.columns.tolist()\n",
    "cols = cols[-1:] + cols[:-1]\n",
    "table = table[cols]\n",
    "table"
   ]
  },
  {
   "cell_type": "code",
   "execution_count": 73,
   "metadata": {},
   "outputs": [
    {
     "name": "stdout",
     "output_type": "stream",
     "text": [
      "\\begin{tabular}{|c|c|c|c|c|}\n",
      "\\hline\n",
      "      Attribute &         USA &  Germany &   France & Great Britain &   Russia \\\\\n",
      "\\hline\n",
      "        entered &      0.0008 &   0.0016 &   0.0017 &        0.0008 &   0.0007 \\\\\n",
      "\\hline     efficiency &      0.0348 &   0.0883 &  -0.0251 &       -0.1616 &    0.063 \\\\\n",
      "\\hline    eig\\_central &     -0.0043 &     0.36 &   0.1208 &       -0.0487 &  -0.1102 \\\\\n",
      "\\hline      in\\_degree &     0.1814* &  -0.0684 &   0.1076 &        0.0185 &   0.0951 \\\\\n",
      "\\hline         k\\_core &     -0.0809 &   0.2831 &  -0.1166 &        0.8006 &   0.2537 \\\\\n",
      "\\hline     out\\_degree &       0.108 &  -0.3142 &  -0.1546 &      -0.6224* &  -0.4143 \\\\\n",
      "\\hline          views &   -0.1052** &  -0.1064 &  -0.0521 &       -0.2085 &  -0.2804 \\\\\n",
      "\\hline            age &     -0.0017 &  -0.0104 &   0.0116 &       -0.0013 &   0.0183 \\\\\n",
      "\\hline        d\\_birth &      0.0089 &   0.0089 &   0.0026 &        0.0045 &   -0.005 \\\\\n",
      "\\hline        d\\_death &      0.0079 &   0.0049 &   0.0075 &        0.0101 &   0.0015 \\\\\n",
      "\\hline distance\\_delta &       0.001 &    0.004 &   -0.005 &       -0.0056 &  -0.0066 \\\\\n",
      "\\hline  nationalities &      0.1639 &  -0.6137 &  -0.5634 &        0.3023 &  -0.1886 \\\\\n",
      "\\hline      party\\_num &     -0.0508 &  -0.1434 &   0.1108 &        0.0573 &   0.4333 \\\\\n",
      "\\hline    occupations &      0.0205 &  -0.1496 &    -0.08 &       -0.2061 &   0.2719 \\\\\n",
      "\\hline         writer &     -0.5772 &  -0.4996 &    0.888 &        0.1797 &  -0.4222 \\\\\n",
      "\\hline      scientist &      0.0178 &   0.9688 &   0.1848 &        1.4145 &   0.8486 \\\\\n",
      "\\hline     journalist &     -0.0161 &   0.5228 &   0.0883 &         0.447 &  -0.2167 \\\\\n",
      "\\hline      economist &      0.0337 &   0.5713 &   0.1716 &        0.2595 &   0.1515 \\\\\n",
      "\\hline      historian &      0.1132 &   0.7944 &   0.2336 &        -0.189 &   0.4513 \\\\\n",
      "\\hline       athleate &      0.5448 &  -0.0256 &   0.1158 &        0.3344 &   0.1852 \\\\\n",
      "\\hline         lawyer &      0.7472 &   0.2261 &  -0.1555 &       -2.0356 &  -0.3499 \\\\\n",
      "\\hline      physician &     -0.0278 &  -0.1063 &   -0.272 &        0.4772 &   0.1266 \\\\\n",
      "\\hline          actor &     -0.2238 &   0.4666 &  -0.1501 &       -0.6115 &   -0.269 \\\\\n",
      "\\hline            ply &      0.5025 &  -0.1238 &   0.1696 &        0.1436 &   0.5148 \\\\\n",
      "\\hline        other\\_o &     -0.2677 &   0.1396 &  -0.4434 &        0.5931 &   0.9172 \\\\\n",
      "\\hline         party1 &     -0.2667 &  -0.5498 &   0.3023 &       -1.1207 &   0.6411 \\\\\n",
      "\\hline         party2 &       0.195 &   0.1925 &  -0.0664 &        0.5358 &  -0.4089 \\\\\n",
      "\\hline         party3 &      0.2085 &   0.8984 &   0.1978 &        0.1825 &  -0.1278 \\\\\n",
      "\\hline        other\\_p &     -0.2341 &  -0.4055 &    -0.13 &        -0.547 &   0.2309 \\\\\n",
      "\\hline       is\\_alive &  -0.6566*** &  -1.5774 &  -1.6277 &        0.0536 &  -0.3305 \\\\\n",
      "\\hline     interval\\_1 &     -0.0248 &   0.0832 &   0.5013 &        0.2099 &    0.337 \\\\\n",
      "\\hline     interval\\_2 &       0.123 &   0.0908 &   -0.305 &       -0.0418 &  -0.2469 \\\\\n",
      "\\hline     interval\\_3 &     -0.0958 &  -0.1673 &  -0.1959 &       -0.1698 &  -0.0859 \\\\\n",
      "\\hline\n",
      "\\end{tabular}\n",
      "\n"
     ]
    }
   ],
   "source": [
    "print_latex(table)"
   ]
  },
  {
   "cell_type": "code",
   "execution_count": 74,
   "metadata": {},
   "outputs": [],
   "source": [
    "def generate_coef_table_global(X,y):\n",
    "#     lst = []\n",
    "#         data = pd.read_pickle(\"{}/{}\".format(path, v))\n",
    "#         data = preprocess_data_frame(data,[\"gender\"])\n",
    "#         data = normalize.zscore_wikipedia_entered(data, [\"eig_central\",\"in_degree\",\"k_core\",\"out_degree\",\"efficiency\",\"views\"])\n",
    "#         data = data.drop([\"is_alive_unknown\", \"is_alive_no\",\"index\", \"year_interval_1\",\"year_interval_2\",\"year_interval_3\", \"ply\"],axis=1)\n",
    "#         X,y = split_dataframe(data,\"views\")\n",
    "    X = X.drop([\"index\"],axis=1)\n",
    "    X2 = sm.add_constant(X)\n",
    "    est = sm.OLS(y, X)\n",
    "    est2 = est.fit()\n",
    "    p_v = pd.DataFrame(round(est2.pvalues,5), columns=[\"p_value\"])\n",
    "    coef = pd.DataFrame(round(est2.params,4),columns=[\"coef\"])\n",
    "    df = pd.concat([coef,p_v],axis=1)\n",
    "    df[\"p_value\"] = df[\"p_value\"].apply(lambda x: p_to_star(x))\n",
    "    df[\"Coefficient\"] = df.apply(lambda x: str(x[\"coef\"])+x[\"p_value\"], axis=1)\n",
    "#     lst.append(df[k])\n",
    "#     df = pd.concat(lst,axis=1)\n",
    "    x = df.index.values\n",
    "    x = pd.Series(x, index=df.index)\n",
    "    x = x.replace({\n",
    "        \"wrt\":\"writer\",\n",
    "        \"sci\":\"scientist\",\n",
    "        \"jur\":\"journalist\",\n",
    "        \"eco\":\"economist\",\n",
    "        \"hst\":\"historian\",\n",
    "        \"spo\":\"athleate\",\n",
    "        \"lyr\":\"lawyer\",\n",
    "        \"phs\":\"physician\",\n",
    "        \"act\":\"actor\",\n",
    "        \"distance_birth\":\"d_birth\",\n",
    "        \"distance_death\":\"d_death\",\n",
    "        \"nationality_num\":\"nationalities\",\n",
    "        \"occupation_num\":\"occupations\",\n",
    "#             \"year_interval_1\":\"interval_1\",\n",
    "#             \"year_interval_2\":\"interval_2\",\n",
    "#             \"year_interval_3\":\"interval_3\",\n",
    "        \"is_alive_unknown\":\"alive_unknown\",\n",
    "        \"is_alive_yes\":\"is_alive\"\n",
    "    })\n",
    "    df[\"Attribute\"] = x\n",
    "    df = df.drop([\"p_value\",\"coef\"],axis=1)\n",
    "    return df"
   ]
  },
  {
   "cell_type": "code",
   "execution_count": 100,
   "metadata": {},
   "outputs": [],
   "source": [
    "def generate_coef_tab_all(path):\n",
    "    data = pd.read_pickle(\"{}/2016\".format(path))\n",
    "    data = preprocess_data_frame(data,[\"gender\"])\n",
    "    data = normalize.zscore_wikipedia_entered(data, [\"eig_central\",\"in_degree\",\"k_core\",\"out_degree\",\"efficiency\",\"views\"])\n",
    "    data = data.drop([\"is_alive_unknown\", \"is_alive_no\",\"index\",\"ply\", 'us', 'de', 'fr', 'in', 'cd', 'no', 'ru', 'gb', 'other_n', 'dem', 'rep',\n",
    "       'indi', 'inc', 'cpc', 'bjp', 'other_p',\"year_interval_3\",\"year_interval_2\",\"year_interval_1\"],axis=1)\n",
    "    X,y = split_dataframe(data,\"gender\")\n",
    "#     print(X.head())\n",
    "#     print(y.head())\n",
    "    model = sm.Logit(y, X)\n",
    "    try:\n",
    "        result = model.fit()\n",
    "    except:\n",
    "        print(\"Jbg\")\n",
    "    p_v = pd.DataFrame(round(result.pvalues,5), columns=[\"p_value\"])\n",
    "#     print(result.pvalues)\n",
    "    coef = pd.DataFrame(round(result.params,4),columns=[\"coef\"])\n",
    "    df = pd.concat([coef,p_v],axis=1)\n",
    "    df[\"p_value\"] = df[\"p_value\"].apply(lambda x: p_to_star(x))\n",
    "    df[\"Coefficient\"] = df.apply(lambda x: str(x[\"coef\"])+x[\"p_value\"], axis=1)\n",
    "    x = df.index.values\n",
    "    x = pd.Series(x, index=df.index)\n",
    "    x = x.replace({\n",
    "        \"wrt\":\"writer\",\n",
    "        \"sci\":\"scientist\",\n",
    "        \"jur\":\"journalist\",\n",
    "        \"eco\":\"economist\",\n",
    "        \"hst\":\"historian\",\n",
    "        \"spo\":\"athleate\",\n",
    "        \"lyr\":\"lawyer\",\n",
    "        \"phs\":\"physician\",\n",
    "        \"act\":\"actor\",\n",
    "        \"distance_birth\":\"d_birth\",\n",
    "        \"distance_death\":\"d_death\",\n",
    "        \"nationality_num\":\"nationalities\",\n",
    "        \"occupation_num\":\"occupations\",\n",
    "        \"year_interval_1\":\"interval_1\",\n",
    "        \"year_interval_2\":\"interval_2\",\n",
    "        \"year_interval_3\":\"interval_3\",\n",
    "        \"is_alive_unknown\":\"alive_unknown\",\n",
    "        \"is_alive_yes\":\"is_alive\"\n",
    "    })\n",
    "    df[\"Attribute\"] = x\n",
    "    df = df.drop([\"p_value\",\"coef\"],axis=1)\n",
    "    return df"
   ]
  },
  {
   "cell_type": "code",
   "execution_count": 101,
   "metadata": {},
   "outputs": [
    {
     "name": "stdout",
     "output_type": "stream",
     "text": [
      "['female', 'male']\n",
      "{0, 1}\n",
      "[0, 1]\n",
      "{0, 1}\n",
      "Optimization terminated successfully.\n",
      "         Current function value: 0.364657\n",
      "         Iterations 10\n"
     ]
    }
   ],
   "source": [
    "table = generate_coef_tab_all(\"../data/final_sets/model_large/\")"
   ]
  },
  {
   "cell_type": "code",
   "execution_count": 102,
   "metadata": {},
   "outputs": [
    {
     "name": "stdout",
     "output_type": "stream",
     "text": [
      "\\begin{tabular}{|c|c|c|c|c|}\n",
      "\\hline\n",
      "Coefficient &       Attribute \\\\\n",
      "\\hline\n",
      "  0.0009*** &         entered \\\\\n",
      "\\hline   -0.048** &      efficiency \\\\\n",
      "\\hline     0.0166 &     eig\\_central \\\\\n",
      "\\hline  0.1045*** &       in\\_degree \\\\\n",
      "\\hline    -0.0056 &          k\\_core \\\\\n",
      "\\hline    -0.0157 &      out\\_degree \\\\\n",
      "\\hline  -0.051*** &           views \\\\\n",
      "\\hline    -0.0003 &             age \\\\\n",
      "\\hline      0.007 &         d\\_birth \\\\\n",
      "\\hline     0.0054 &         d\\_death \\\\\n",
      "\\hline     0.0017 &  distance\\_delta \\\\\n",
      "\\hline -0.2229*** &   nationalities \\\\\n",
      "\\hline     0.0125 &       party\\_num \\\\\n",
      "\\hline   -0.0547* &     occupations \\\\\n",
      "\\hline    -0.1559 &          writer \\\\\n",
      "\\hline    0.2661* &       scientist \\\\\n",
      "\\hline    -0.0483 &             jor \\\\\n",
      "\\hline    0.3379* &       economist \\\\\n",
      "\\hline   0.5982** &       historian \\\\\n",
      "\\hline  1.2225*** &        athleate \\\\\n",
      "\\hline  0.7426*** &          lawyer \\\\\n",
      "\\hline     0.0039 &       physician \\\\\n",
      "\\hline -0.4813*** &           actor \\\\\n",
      "\\hline  0.2715*** &         other\\_o \\\\\n",
      "\\hline -0.9502*** &        is\\_alive \\\\\n",
      "\\hline\n",
      "\\end{tabular}\n",
      "\n"
     ]
    }
   ],
   "source": [
    "print_latex(table)"
   ]
  },
  {
   "cell_type": "code",
   "execution_count": null,
   "metadata": {},
   "outputs": [],
   "source": []
  }
 ],
 "metadata": {
  "kernelspec": {
   "display_name": "Python 3",
   "language": "python",
   "name": "python3"
  },
  "language_info": {
   "codemirror_mode": {
    "name": "ipython",
    "version": 3
   },
   "file_extension": ".py",
   "mimetype": "text/x-python",
   "name": "python",
   "nbconvert_exporter": "python",
   "pygments_lexer": "ipython3",
   "version": "3.6.5"
  }
 },
 "nbformat": 4,
 "nbformat_minor": 2
}
