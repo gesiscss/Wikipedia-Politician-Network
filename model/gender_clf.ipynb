{
 "cells": [
  {
   "cell_type": "code",
   "execution_count": 1,
   "metadata": {
    "collapsed": false
   },
   "outputs": [],
   "source": [
    "import normalize\n",
    "import sklearn\n",
    "from sklearn.model_selection import train_test_split, cross_val_score\n",
    "from sklearn.feature_extraction import DictVectorizer\n",
    "from sklearn import tree\n",
    "from sklearn.linear_model import LogisticRegression\n",
    "from sklearn import svm\n",
    "from sklearn.ensemble import RandomForestClassifier\n",
    "from sklearn.metrics import confusion_matrix, accuracy_score, classification_report, f1_score, recall_score, precision_score\n",
    "from sklearn.ensemble import ExtraTreesClassifier, RandomForestClassifier\n",
    "from sklearn.feature_selection import RFE\n",
    "from sklearn.feature_selection import f_classif, mutual_info_classif, SelectKBest, RFE, VarianceThreshold\n",
    "from imblearn.under_sampling import RandomUnderSampler, ClusterCentroids\n",
    "from imblearn.over_sampling import SMOTE\n",
    "import pandas as pd \n",
    "import numpy as np \n",
    "from numpy import inf\n",
    "import matplotlib.pyplot as plt\n",
    "import seaborn as sns\n",
    "import warnings\n",
    "import statsmodels.formula.api as sm\n",
    "from collections import Counter\n",
    "# import lime\n",
    "# import lime.lime_tabular\n",
    "import math\n",
    "warnings.filterwarnings(\"ignore\")\n",
    "%matplotlib inline"
   ]
  },
  {
   "cell_type": "markdown",
   "metadata": {},
   "source": [
    "# Methods"
   ]
  },
  {
   "cell_type": "code",
   "execution_count": 2,
   "metadata": {
    "collapsed": true
   },
   "outputs": [],
   "source": [
    "def show_kbest(data_frame, target, linear_rel=True, k=4):\n",
    "    \"\"\"\n",
    "    Selecting K-Best features for classification\n",
    "    :param data_frame: A pandas dataFrame with the training data\n",
    "    :param target: target variable name in DataFrame\n",
    "    :param k: desired number of features from the data\n",
    "    :returns feature_scores: scores for each feature in the data as \n",
    "    pandas DataFrame\n",
    "    \"\"\"\n",
    "    scores = []\n",
    "    if linear_rel == True: \n",
    "        feat_selector = SelectKBest(f_classif, k=k)\n",
    "        _ = feat_selector.fit(data_frame.drop(target, axis=1), data_frame[target])\n",
    "        col_name = \"F Score\"\n",
    "    else:\n",
    "        feat_selector = SelectKBest(mutual_info_classif, k=k)\n",
    "        _ = feat_selector.fit(data_frame.drop(target, axis=1), data_frame[target])\n",
    "        col_name = \"Mutual Information\"\n",
    "    \n",
    "    feat_scores = pd.DataFrame()\n",
    "    feat_scores[col_name] = feat_selector.scores_\n",
    "    feat_scores[\"P Value\"] = feat_selector.pvalues_\n",
    "    feat_scores[\"Support\"] = feat_selector.get_support()\n",
    "    feat_scores[\"Attribute\"] = data_frame.drop(target, axis=1).columns\n",
    "    \n",
    "    return feat_scores \n",
    "\n",
    "def preprocess_data_frame(data_frame, columns):\n",
    "    \"\"\"\n",
    "    Dummifying and encoding variables of dataframe, droping rows with NAN values\n",
    "    :param data_frame: A pandas DataFrame to be processed\n",
    "    pandas DataFrame\n",
    "    :param columns: List of column names of categorical variables \n",
    "    :returns data_frame: encoded variable DataFrame\n",
    "    \"\"\"\n",
    "    data_frame = data_frame.dropna()\n",
    "    data_frame = data_frame.reset_index(drop=True)\n",
    "    \n",
    "    for col in columns:\n",
    "#         print(data_frame[col])\n",
    "        data_frame[col] = encode_variable(data_frame[col])\n",
    "#         print(data_frame[col])\n",
    "    data_frame = pd.get_dummies(data_frame)\n",
    "    return data_frame\n",
    "    \n",
    "def encode_variable(series):\n",
    "    \"\"\"\n",
    "    Encoding categorical variables to numericial values\n",
    "    :param series: A pandas Series with categorical values\n",
    "    pandas DataFrame\n",
    "    :returns data_frame: encoded variable DataFrame\n",
    "    \"\"\"\n",
    "    le = sklearn.preprocessing.LabelEncoder()\n",
    "    le.fit(series)\n",
    "    print(list(le.classes_))\n",
    "    print(set(le.transform(series))) \n",
    "    data_frame = pd.DataFrame({\n",
    "        series.name: le.transform(series)\n",
    "    })\n",
    "    return data_frame\n",
    "    \n",
    "def split_dataframe(data_frame, target):\n",
    "    \"\"\"\n",
    "    Split dataframe to predictors and target\n",
    "    :param data_frame: A pandas dataFrame with the training data\n",
    "    :param target: target variable name in DataFrame\n",
    "    :returns DataFrames: X (predictors) and y (target) dataframes \n",
    "    \"\"\"\n",
    "    X = data_frame.drop([target], axis=1)\n",
    "    y = encode_variable(data_frame[target])\n",
    "    return X, y \n",
    "\n",
    "def get_features_variance_threshold(data_frame,target=\"gender\", threshold=0.2):\n",
    "    \"\"\"\n",
    "    Returns list of features with a variance above the specified threshold\n",
    "    :param data_frame: A pandas dataFrame with the training data\n",
    "    :param threshold: float value between 0 and 1 \n",
    "    :returns feature_scores: list of features\n",
    "    \"\"\"\n",
    "    if target in data_frame.columns:\n",
    "        data_frame = data_frame.drop([target], axis=1)\n",
    "    selector = VarianceThreshold(threshold=threshold)\n",
    "    selector.fit(data_frame)\n",
    "    # Get the indices of zero variance feats\n",
    "    feat_ix_keep = selector.get_support(indices=True)\n",
    "#     print(feat_ix_keep)\n",
    "    return data_frame.columns[feat_ix_keep]\n",
    "\n",
    "def get_features_univariate(data_frame, k=5, linear=True, target=\"gender\"):\n",
    "    \"\"\"\n",
    "    Returns list of features selected using the specified univariate method\n",
    "    :param data_frame: A pandas dataFrame with the training data\n",
    "    :param k: top k features to select  \n",
    "    :returns data_frame: with selected features\n",
    "    \"\"\"\n",
    "    df = show_kbest(data_frame,target=target,linear_rel=linear, k=k)\n",
    "    df = df[df[\"Support\"] == True]\n",
    "    columns = df[\"Attribute\"].values\n",
    "    return columns\n",
    "\n",
    "def get_features_rfe(data_frame,model,k=5):\n",
    "    \"\"\"\n",
    "    Returns list of features (k specified) selected using RFE for\n",
    "    :param data_frame: A pandas dataFrame with features and labels\n",
    "    :param k: top k features to select  \n",
    "    :returns list: most relevant features \n",
    "    \"\"\"\n",
    "    X = data_frame.drop(\"gender\", axis=1)\n",
    "    y = data_frame[\"gender\"]\n",
    "    selector = RFE(model, k, step=1)\n",
    "    selector = selector.fit(X, y)\n",
    "#     print(selector.support_)\n",
    "    df = pd.DataFrame({\n",
    "        \"feature\": X.columns,\n",
    "        \"support\": selector.support_\n",
    "    })\n",
    "    return list(df[df[\"support\"] == True][\"feature\"])\n",
    "\n",
    "    \n",
    "    \n",
    "def under_sample(X,y):\n",
    "    \"\"\" Returns resampled features and labels\n",
    "    :param X: Features data frame\n",
    "    :param y: Label data frame\n",
    "    :return X_resampled, y_resampled: Numpy features array and corresponding lable array\n",
    "    \"\"\"\n",
    "    rus = RandomUnderSampler(random_state=0)\n",
    "    X_resampled, y_resampled = rus.fit_sample(X, y)\n",
    "    print(sorted(Counter(y_resampled).items()))\n",
    "    return X_resampled, y_resampled\n",
    "\n",
    "def generate_classification_report(X_train, X_test, y_train, y_test, model):\n",
    "    \"\"\" Prints classification report\n",
    "    :param X: Features data frame\n",
    "    :param y: Label data frame\n",
    "    :param model: Sklearn model object\n",
    "    \"\"\"\n",
    "#     X_train, X_test, y_train, y_test = train_test_split(X, y, test_size=0.2)\n",
    "#     y_test = list(np.array(y_test).flatten())\n",
    "#     y_train = list(np.array(y_train).flatten())\n",
    "    model.fit(X_train, y_train)\n",
    "    pred = model.predict(X_test)\n",
    "    target_names = ['female', 'male']\n",
    "    mean = cross_val_score(model, X_test, y_test, cv=10, scoring=\"accuracy\").mean()\n",
    "    var = cross_val_score(model, X_test, y_test, cv=10, scoring=\"accuracy\").var()\n",
    "#     print(\"Cross Validated Accuracy: mean - {}, var - {}\".format(mean, var))\n",
    "    print(\"Accuracy Score: {} Var: {}\".format(mean, var))\n",
    "    print(\"\\nConfusion Matrix:\\n\")\n",
    "    print(confusion_matrix(y_test, pred))\n",
    "    print(\"\\nClassification Report:\\n\")\n",
    "    print(classification_report(y_test, pred, target_names=target_names))\n",
    "    \n",
    "def change_of_evaluation_rfe(X_train, X_test,y_train,y_test,model, metric=\"precision\"):\n",
    "    \"\"\"\n",
    "    Plots accuracy with respect to the number of features left, and prints the names of features\n",
    "    :param X_train: A pandas dataFrame with train features\n",
    "    :param X_test: A pandas dataFrame with test features\n",
    "    :param y_train: A pandas dataFrame with train labels\n",
    "    :param y_test: A pandas dataFrame with test labels\n",
    "    :param model: Sklearn classification model object\n",
    "    :param metric: Metric to show: precision, recall, accuracy\n",
    "    :return num_features: Returns the top k features to be selected\n",
    "    \"\"\"\n",
    "    base = pd.concat([pd.concat([X_train,X_test]), pd.concat([y_train,y_test])], axis=1)\n",
    "    X = pd.concat([X_train,X_test])\n",
    "    y = pd.concat([y_train,y_test])\n",
    "    score = []\n",
    "    for k in range(len(X.columns),0,-1):\n",
    "        columns = get_features_rfe(base,model,k)\n",
    "        X_tr = X_train[columns]\n",
    "        X_te = X_test[columns]\n",
    "\n",
    "        model.fit(X_tr, y_train)\n",
    "        mean = cross_val_score(model, X_te, y_test, cv=10, scoring=metric).mean()\n",
    "        variance = cross_val_score(model, X_te, y_test, cv=10).var()\n",
    "\n",
    "        score.append([k, mean, variance])\n",
    "\n",
    "    df = pd.DataFrame(score, columns=[\"num_features\", \"mean\",\"variance\"])\n",
    "    sns.pointplot(df[\"num_features\"], df[\"mean\"])\n",
    "    plt.show()\n",
    "    return df.sort_values(\"mean\", ascending=False)[[\"num_features\"]].values[0][0]\n",
    "\n",
    "def change_of_evaluation_univariate_feature_selection(X_train, X_test, y_train, y_test,model, metric=\"precision\", linear=True):\n",
    "    \"\"\"\n",
    "    Plots accuracy with respect to the number of features left, and prints the names of features\n",
    "    :param X_train: A pandas dataFrame with train features\n",
    "    :param X_test: A pandas dataFrame with test features\n",
    "    :param y_train: A pandas dataFrame with train labels\n",
    "    :param y_test: A pandas dataFrame with test labels\n",
    "    :param linear: If true > F-score if false > mutual information\n",
    "    :param model: Sklearn classification model object\n",
    "    :param metric: Metric to show: precision, recall, accuracy\n",
    "    :return num_features: Returns the top k features to be selected\n",
    "    \"\"\"\n",
    "    X = pd.concat([X_train,X_test])\n",
    "    y = pd.concat([y_train,y_test])\n",
    "    data = pd.concat([X,y], axis=1)\n",
    "    score = []\n",
    "    for k in range(len(X.columns),0,-1):\n",
    "        df = show_kbest(data,\"gender\",linear_rel=linear, k=k)\n",
    "        df = df[df[\"Support\"] == True]\n",
    "        columns = df[\"Attribute\"].values\n",
    "        X_tr = X_train[columns]\n",
    "        X_ts = X_test[columns]\n",
    "\n",
    "        model.fit(X_tr, y_train)\n",
    "        mean = cross_val_score(model, X_ts, y_test, cv=10, scoring=metric).mean()\n",
    "        variance = cross_val_score(model, X_ts, y_test, cv=10).var()\n",
    "\n",
    "        score.append([k, mean, variance])\n",
    "\n",
    "    df = pd.DataFrame(score, columns=[\"num_features\", \"mean\",\"variance\"])\n",
    "    sns.pointplot(df[\"num_features\"], df[\"mean\"])\n",
    "    plt.show()\n",
    "    return df.sort_values(\"mean\", ascending=False)[[\"num_features\"]].values[0][0]\n",
    "\n",
    "def change_of_evaluation_variance_threshold(X_train, X_test, y_train, y_test,model,metric=\"precision\"):\n",
    "    \"\"\"\n",
    "    Plots accuracy with respect to the number of features left, and prints the names of features\n",
    "    :param X_train: A pandas dataFrame with train features\n",
    "    :param X_test: A pandas dataFrame with test features\n",
    "    :param y_train: A pandas dataFrame with train labels\n",
    "    :param y_test: A pandas dataFrame with test labels\n",
    "    :param model: Sklearn classification model object\n",
    "    :param metric: Metric to show: precision, recall, accuracy\n",
    "    \"\"\"\n",
    "    lst = list(np.arange(0.0, 1.0, 0.1))\n",
    "    X = pd.concat([X_train,X_test])\n",
    "    y = pd.concat([y_train,y_test])\n",
    "    score = []\n",
    "    for k in lst:\n",
    "        features = get_features_variance_threshold(X, threshold=k)\n",
    "        \n",
    "        X_train = X_train[features]\n",
    "        X_test = X_test[features]\n",
    "        \n",
    "#         print(\"Variance: {} - features: {}\".format(k,features))\n",
    "\n",
    "        model.fit(X_train, y_train)\n",
    "        mean = cross_val_score(model, X_test, y_test, cv=10).mean()\n",
    "        variance = cross_val_score(model, X_test, y_test, cv=10).var()\n",
    "        score.append([k, mean, variance])\n",
    "#     print(score)\n",
    "    df = pd.DataFrame(score, columns=[\"variance\", \"mean\", \"std\"])\n",
    "    sns.pointplot(df[\"variance\"], df[\"mean\"])\n",
    "    plt.show()\n",
    "    return df.sort_values(\"mean\", ascending=False)[[\"variance\"]].values[0][0]\n",
    "    \n",
    "def full_report(X_train, X_test, y_train, y_test, model):\n",
    "    \"\"\" Prints classification report for model over different feature selection models\n",
    "    :param X_train: A pandas dataFrame with train features\n",
    "    :param X_test: A pandas dataFrame with test features\n",
    "    :param y_train: A pandas dataFrame with train labels\n",
    "    :param y_test: A pandas dataFrame with test labels\n",
    "    :param model: Sklearn object\n",
    "    \"\"\"\n",
    "    X = pd.concat([X_train, X_test])\n",
    "    y = pd.concat([y_train, y_test])\n",
    "    \n",
    "    base = pd.concat([X,y], axis=1)\n",
    "    print(\"\"\"###############################################################\"\"\")\n",
    "    print(\"\"\"Feature Selection: F-SCORE: \\n\"\"\")\n",
    "    k = change_of_evaluation_univariate_feature_selection(X_train, X_test, y_train, y_test,\n",
    "                                                              model, metric=\"accuracy\")\n",
    "    features = get_features_univariate(base, k=k, linear=True)\n",
    "    print(\"Number of features: \", len(features))\n",
    "    print(\"Features: \", features)\n",
    "    generate_classification_report(X_train, X_test, y_train, y_test, r_forest)\n",
    "    print(\"\"\"###############################################################\"\"\")\n",
    "    print(\"\"\"Feature Selection: MUTUAL INFORMATION: \\n\"\"\")\n",
    "\n",
    "    k = change_of_evaluation_univariate_feature_selection(X_train, X_test, y_train, y_test,\n",
    "                                                              model,linear=False, metric=\"accuracy\")\n",
    "    features = get_features_univariate(base, k=k, linear=False)\n",
    "    print(\"Number of features: \", len(features))\n",
    "    print(\"Features: \", features)\n",
    "    generate_classification_report(X_train, X_test, y_train, y_test, r_forest)\n",
    "    print(\"\"\"###############################################################\"\"\")\n",
    "    print(\"\"\"Feature Selection: Variance Threshold: \\n\"\"\")\n",
    "    v = change_of_evaluation_variance_threshold(X_train, X_test, y_train, y_test,model, metric=\"accuracy\")\n",
    "#     print(v)\n",
    "    features = get_features_variance_threshold(base,threshold=v)\n",
    "    print(\"Number of features: \", len(features))\n",
    "    print(\"Features: \", features)\n",
    "    generate_classification_report(X_train, X_test, y_train, y_test, r_forest)\n",
    "    \n",
    "    print(\"\"\"###############################################################\"\"\")\n",
    "    print(\"\"\"Feature Selection: RFE: \\n\"\"\")\n",
    "    k = change_of_evaluation_rfe(X_train, X_test, y_train, y_test,\n",
    "                                 model,metric='accuracy')\n",
    "    features = get_features_rfe(base,model, k=k)\n",
    "    print(\"Number of features: \", len(features))\n",
    "    print(\"Features: \", features)\n",
    "    generate_classification_report(X_train, X_test, y_train, y_test, model)\n",
    "\n"
   ]
  },
  {
   "cell_type": "code",
   "execution_count": 3,
   "metadata": {
    "collapsed": true
   },
   "outputs": [],
   "source": [
    "def over_sample(X,y):\n",
    "    \"\"\"\n",
    "    Does the hybrid oversampling with SMOTE\n",
    "    :param X: Dataframe with predictor atributes\n",
    "    :param y: Dataframe with labels\n",
    "    :return X_resampled, y_resampled:\n",
    "    \"\"\"\n",
    "    sm = SMOTE(random_state=42)\n",
    "    X,y = sm.fit_sample(X, y)\n",
    "    print(X.shape, y.shape)\n",
    "    return X,y\n",
    "\n",
    "def train_test_dfs(X,y,test_size=0.2):\n",
    "    \"\"\"\n",
    "    Returns train, test dataframees\n",
    "    :parma X: data frame with predictor atributes \n",
    "    :parma y: data frame with labels \n",
    "    :parma test_size: fraction of data set to be assigned to the test set\n",
    "    :return X_train, X_test, y_train, y_test:\n",
    "    \"\"\"\n",
    "    X_train, X_test, y_train, y_test = train_test_split(X, y, test_size=test_size)\n",
    "    X_train = pd.DataFrame(X_train, columns=X.columns)\n",
    "    X_test = pd.DataFrame(X_test, columns=X.columns)\n",
    "    y_train = pd.DataFrame(y_train, columns=y.columns)\n",
    "    y_test = pd.DataFrame(y_test, columns=y.columns)\n",
    "    return X_train, X_test, y_train, y_test\n",
    "\n",
    "def evaluate_model(estimator, X_train, X_test, y_train, y_test): \n",
    "    \"\"\"\n",
    "    Prints accuracy, confusion matrix and classification report\n",
    "    \"\"\"\n",
    "    target_names = ['female', 'male']\n",
    "    estimator.fit(X_train,y_train)\n",
    "    print(accuracy_score(y_test, estimator.predict(X_test)))\n",
    "    print(confusion_matrix(y_test, estimator.predict(X_test)))\n",
    "    print(classification_report(y_test, estimator.predict(X_test), target_names=target_names))\n",
    "    \n",
    "def get_ac_pr_re_f1(estimator, X,y):\n",
    "    \"\"\"\n",
    "    Returns:\n",
    "    Accuracy, Precission, Recall, F1-Score\n",
    "    \"\"\"\n",
    "    estimator.fit(X_train,y_train)\n",
    "    predict = estimator.predict(X_test)\n",
    "    acc = cross_val_score(estimator, X,y,scoring=\"accuracy\", cv=10).mean()\n",
    "    re = cross_val_score(estimator, X,y,scoring=\"recall\", cv=10).mean()\n",
    "    pr = cross_val_score(estimator, X,y,scoring=\"precision\", cv=10).mean()\n",
    "    f1 = cross_val_score(estimator, X,y,scoring=\"f1\", cv=10).mean()\n",
    "    return acc,pr,re,f1\n",
    "\n",
    "def model_comparison_df(estimator_dict, X,y):\n",
    "    \"\"\"\n",
    "    Returns table with model performance comparisson\n",
    "    \"\"\"\n",
    "    lst = []\n",
    "    for k,v in estimator_dict.items():\n",
    "        acc, pr, re, f1 = get_ac_pr_re_f1(v, X,y)\n",
    "        lst.append([k, acc, pr, re, f1])\n",
    "    return pd.DataFrame(lst, columns=[\"Algorithm\", \"Accuracy\", \"Precision\", \"Recall\", \"F1\"])\n",
    "\n",
    "def print_latex(df, col_format=\"|c|c|c|c|c|\"):\n",
    "    \"\"\" Prints the latex syntax equivalent to the passed dataframe\n",
    "    :param df: Pandas dataframe \n",
    "    :col_format : String indicating the format of columns\n",
    "    \"\"\"\n",
    "    df = df.round(2)\n",
    "    latex = df.to_latex(column_format=col_format, index=False).replace('toprule',\n",
    "                                            \"hline\").replace('midrule',\n",
    "                                            \"hline\").replace('bottomrule',\n",
    "                                            \"hline\").replace(\"\\\\\\\\\\n\",\n",
    "                                            \"\\\\\\\\\\n\\\\hline\").replace(\"\\hline\\hline\",\"\\hline\")\n",
    "    print(latex)"
   ]
  },
  {
   "cell_type": "code",
   "execution_count": 4,
   "metadata": {
    "collapsed": true
   },
   "outputs": [],
   "source": [
    "# get_ac_pr_re_f1(r_forest,X_over,y_over)"
   ]
  },
  {
   "cell_type": "markdown",
   "metadata": {},
   "source": [
    "# Load the data"
   ]
  },
  {
   "cell_type": "code",
   "execution_count": 41,
   "metadata": {
    "collapsed": true
   },
   "outputs": [],
   "source": [
    "data = pd.read_pickle(\"../data/final_sets/model_large/2016\")"
   ]
  },
  {
   "cell_type": "markdown",
   "metadata": {},
   "source": [
    "# Preprocess and Normalize"
   ]
  },
  {
   "cell_type": "code",
   "execution_count": 42,
   "metadata": {
    "collapsed": false
   },
   "outputs": [
    {
     "name": "stdout",
     "output_type": "stream",
     "text": [
      "['female', 'male']\n",
      "{0, 1}\n"
     ]
    },
    {
     "data": {
      "text/plain": [
       "1    36340\n",
       "0     5594\n",
       "Name: gender, dtype: int64"
      ]
     },
     "execution_count": 42,
     "metadata": {},
     "output_type": "execute_result"
    }
   ],
   "source": [
    "data = preprocess_data_frame(data, [\"gender\"])\n",
    "data.gender.value_counts()"
   ]
  },
  {
   "cell_type": "code",
   "execution_count": 43,
   "metadata": {
    "collapsed": false
   },
   "outputs": [
    {
     "name": "stdout",
     "output_type": "stream",
     "text": [
      "   index  gender  entered  efficiency  eig_central  in_degree    k_core  \\\n",
      "0      0       1     2007   -0.696407    -0.160213  -0.131467 -0.001965   \n",
      "\n",
      "   out_degree     views  age       ...         phs  act  ply  other_o  \\\n",
      "0    0.001985 -0.118879    0       ...           0    0    0        1   \n",
      "\n",
      "   is_alive_no  is_alive_unknown  is_alive_yes  year_interval_1  \\\n",
      "0            1                 0             0                0   \n",
      "\n",
      "   year_interval_2  year_interval_3  \n",
      "0                1                0  \n",
      "\n",
      "[1 rows x 49 columns]\n"
     ]
    },
    {
     "name": "stderr",
     "output_type": "stream",
     "text": [
      "C:\\Users\\Latitude E7450\\Anaconda3\\lib\\site-packages\\statsmodels\\nonparametric\\kde.py:475: DeprecationWarning: object of type <class 'numpy.float64'> cannot be safely interpreted as an integer.\n",
      "  grid,delta = np.linspace(a,b,gridsize,retstep=True)\n",
      "C:\\Users\\Latitude E7450\\Anaconda3\\lib\\site-packages\\statsmodels\\nonparametric\\kde.py:475: DeprecationWarning: object of type <class 'numpy.float64'> cannot be safely interpreted as an integer.\n",
      "  grid,delta = np.linspace(a,b,gridsize,retstep=True)\n",
      "C:\\Users\\Latitude E7450\\Anaconda3\\lib\\site-packages\\statsmodels\\nonparametric\\kde.py:475: DeprecationWarning: object of type <class 'numpy.float64'> cannot be safely interpreted as an integer.\n",
      "  grid,delta = np.linspace(a,b,gridsize,retstep=True)\n"
     ]
    },
    {
     "data": {
      "text/plain": [
       "<matplotlib.axes._subplots.AxesSubplot at 0x1dc342f5ef0>"
      ]
     },
     "execution_count": 43,
     "metadata": {},
     "output_type": "execute_result"
    },
    {
     "data": {
      "image/png": "[encoded data removed]",
      "text/plain": [
       "<Figure size 432x288 with 1 Axes>"
      ]
     },
     "metadata": {},
     "output_type": "display_data"
    }
   ],
   "source": [
    "data = normalize.zscore_wikipedia_entered(data, [\"views\", \"eig_central\",\"in_degree\",\"k_core\",\"out_degree\",\"efficiency\"])\n",
    "print(data.head(1))\n",
    "data.head()\n",
    "\n",
    "sns.distplot(data.eig_central, color=\"grey\")\n",
    "sns.distplot(data[data[\"gender\"]==0].eig_central, color=\"red\")\n",
    "sns.distplot(data[data[\"gender\"]==1].eig_central, color=\"blue\")\n",
    "\n"
   ]
  },
  {
   "cell_type": "code",
   "execution_count": 8,
   "metadata": {
    "collapsed": false
   },
   "outputs": [
    {
     "data": {
      "text/plain": [
       "<matplotlib.axes._subplots.AxesSubplot at 0x1dc33192240>"
      ]
     },
     "execution_count": 8,
     "metadata": {},
     "output_type": "execute_result"
    },
    {
     "data": {
      "image/png": "[encoded data removed]",
      "text/plain": [
       "<Figure size 432x288 with 1 Axes>"
      ]
     },
     "metadata": {},
     "output_type": "display_data"
    }
   ],
   "source": [
    "sns.distplot(data.views, color=\"grey\")\n",
    "sns.distplot(data[data[\"gender\"]==0].views, color=\"red\")\n",
    "sns.distplot(data[data[\"gender\"]==1].views, color=\"blue\")\n",
    "\n"
   ]
  },
  {
   "cell_type": "code",
   "execution_count": 9,
   "metadata": {
    "collapsed": false
   },
   "outputs": [
    {
     "data": {
      "text/plain": [
       "<matplotlib.axes._subplots.AxesSubplot at 0x1dc33b1e4e0>"
      ]
     },
     "execution_count": 9,
     "metadata": {},
     "output_type": "execute_result"
    },
    {
     "data": {
      "image/png": "[encoded data removed]",
      "text/plain": [
       "<Figure size 432x288 with 1 Axes>"
      ]
     },
     "metadata": {},
     "output_type": "display_data"
    }
   ],
   "source": [
    "sns.distplot(data.in_degree, color=\"grey\")\n",
    "sns.distplot(data[data[\"gender\"]==0].in_degree, color=\"red\")\n",
    "sns.distplot(data[data[\"gender\"]==1].in_degree, color=\"blue\")\n"
   ]
  },
  {
   "cell_type": "code",
   "execution_count": 10,
   "metadata": {
    "collapsed": false
   },
   "outputs": [
    {
     "data": {
      "text/plain": [
       "<matplotlib.axes._subplots.AxesSubplot at 0x1dc33b145c0>"
      ]
     },
     "execution_count": 10,
     "metadata": {},
     "output_type": "execute_result"
    },
    {
     "data": {
      "image/png": "[encoded data removed]",
      "text/plain": [
       "<Figure size 432x288 with 1 Axes>"
      ]
     },
     "metadata": {},
     "output_type": "display_data"
    }
   ],
   "source": [
    "sns.distplot(data[\"distance_birth\"])"
   ]
  },
  {
   "cell_type": "code",
   "execution_count": 44,
   "metadata": {
    "collapsed": false
   },
   "outputs": [
    {
     "name": "stderr",
     "output_type": "stream",
     "text": [
      "C:\\Users\\Latitude E7450\\Anaconda3\\lib\\site-packages\\statsmodels\\nonparametric\\kde.py:475: DeprecationWarning: object of type <class 'numpy.float64'> cannot be safely interpreted as an integer.\n",
      "  grid,delta = np.linspace(a,b,gridsize,retstep=True)\n",
      "C:\\Users\\Latitude E7450\\Anaconda3\\lib\\site-packages\\statsmodels\\nonparametric\\kde.py:475: DeprecationWarning: object of type <class 'numpy.float64'> cannot be safely interpreted as an integer.\n",
      "  grid,delta = np.linspace(a,b,gridsize,retstep=True)\n",
      "C:\\Users\\Latitude E7450\\Anaconda3\\lib\\site-packages\\statsmodels\\nonparametric\\kde.py:475: DeprecationWarning: object of type <class 'numpy.float64'> cannot be safely interpreted as an integer.\n",
      "  grid,delta = np.linspace(a,b,gridsize,retstep=True)\n"
     ]
    },
    {
     "data": {
      "text/plain": [
       "<matplotlib.axes._subplots.AxesSubplot at 0x1dc3403b630>"
      ]
     },
     "execution_count": 44,
     "metadata": {},
     "output_type": "execute_result"
    },
    {
     "data": {
      "image/png": "[encoded data removed]",
      "text/plain": [
       "<Figure size 432x288 with 1 Axes>"
      ]
     },
     "metadata": {},
     "output_type": "display_data"
    }
   ],
   "source": [
    "data = normalize.normalize(data, [\"eig_central\",\"in_degree\",\"k_core\",\"out_degree\",\"efficiency\",\"views\"])\n",
    "\n",
    "sns.distplot(data.views, color=\"grey\")\n",
    "sns.distplot(data[data[\"gender\"]==0].views, color=\"red\")\n",
    "sns.distplot(data[data[\"gender\"]==1].views, color=\"blue\")\n",
    "#data[\"views\"].hist()"
   ]
  },
  {
   "cell_type": "code",
   "execution_count": 12,
   "metadata": {
    "collapsed": false
   },
   "outputs": [
    {
     "data": {
      "text/plain": [
       "<matplotlib.axes._subplots.AxesSubplot at 0x1dc33c54be0>"
      ]
     },
     "execution_count": 12,
     "metadata": {},
     "output_type": "execute_result"
    },
    {
     "data": {
      "image/png": "[encoded data removed]",
      "text/plain": [
       "<Figure size 432x288 with 1 Axes>"
      ]
     },
     "metadata": {},
     "output_type": "display_data"
    }
   ],
   "source": [
    "sns.distplot(data.eig_central, color=\"grey\")\n",
    "sns.distplot(data[data[\"gender\"]==0].eig_central, color=\"red\")\n",
    "sns.distplot(data[data[\"gender\"]==1].eig_central, color=\"blue\")"
   ]
  },
  {
   "cell_type": "code",
   "execution_count": 13,
   "metadata": {
    "collapsed": false
   },
   "outputs": [
    {
     "data": {
      "text/plain": [
       "<matplotlib.axes._subplots.AxesSubplot at 0x1dc33df5c50>"
      ]
     },
     "execution_count": 13,
     "metadata": {},
     "output_type": "execute_result"
    },
    {
     "data": {
      "image/png": "[encoded data removed]",
      "text/plain": [
       "<Figure size 432x288 with 1 Axes>"
      ]
     },
     "metadata": {},
     "output_type": "display_data"
    }
   ],
   "source": [
    "sns.distplot(data.in_degree, color=\"grey\")\n",
    "sns.distplot(data[data[\"gender\"]==0].in_degree, color=\"red\")\n",
    "sns.distplot(data[data[\"gender\"]==1].in_degree, color=\"blue\")"
   ]
  },
  {
   "cell_type": "code",
   "execution_count": 14,
   "metadata": {
    "collapsed": false
   },
   "outputs": [
    {
     "data": {
      "text/plain": [
       "(41934, 49)"
      ]
     },
     "execution_count": 14,
     "metadata": {},
     "output_type": "execute_result"
    }
   ],
   "source": [
    "data.shape"
   ]
  },
  {
   "cell_type": "code",
   "execution_count": 15,
   "metadata": {
    "collapsed": false
   },
   "outputs": [
    {
     "data": {
      "text/plain": [
       "1    36340\n",
       "0     5594\n",
       "Name: gender, dtype: int64"
      ]
     },
     "execution_count": 15,
     "metadata": {},
     "output_type": "execute_result"
    }
   ],
   "source": [
    "data.gender.value_counts()"
   ]
  },
  {
   "cell_type": "code",
   "execution_count": 45,
   "metadata": {
    "collapsed": false
   },
   "outputs": [
    {
     "data": {
      "text/plain": [
       "Index(['gender', 'entered', 'efficiency', 'eig_central', 'in_degree', 'k_core',\n",
       "       'out_degree', 'views', 'age', 'distance_birth', 'distance_death',\n",
       "       'nationality_num', 'party_num', 'occupation_num', 'wrt', 'sci', 'jor',\n",
       "       'eco', 'hst', 'spo', 'lyr', 'phs', 'act', 'ply', 'other_o',\n",
       "       'is_alive_yes'],\n",
       "      dtype='object')"
      ]
     },
     "execution_count": 45,
     "metadata": {},
     "output_type": "execute_result"
    }
   ],
   "source": [
    "data = data.drop(['index', 'distance_delta','us', 'de', 'fr', 'in', 'cd', 'no', \n",
    "                 'ru', 'gb','other_n', 'dem', 'rep', 'indi', 'inc', 'cpc', 'bjp', 'other_p',\n",
    "                'year_interval_1', 'year_interval_2', 'year_interval_3','is_alive_no','is_alive_unknown'], axis=1)\n",
    "data.columns"
   ]
  },
  {
   "cell_type": "markdown",
   "metadata": {},
   "source": [
    "# Machine Learning"
   ]
  },
  {
   "cell_type": "code",
   "execution_count": 46,
   "metadata": {
    "collapsed": false
   },
   "outputs": [
    {
     "name": "stdout",
     "output_type": "stream",
     "text": [
      "[0, 1]\n",
      "{0, 1}\n"
     ]
    }
   ],
   "source": [
    "X,y=split_dataframe(data,\"gender\")"
   ]
  },
  {
   "cell_type": "code",
   "execution_count": 47,
   "metadata": {
    "collapsed": false
   },
   "outputs": [
    {
     "data": {
      "text/html": [
       "<div>\n",
       "<style scoped>\n",
       "    .dataframe tbody tr th:only-of-type {\n",
       "        vertical-align: middle;\n",
       "    }\n",
       "\n",
       "    .dataframe tbody tr th {\n",
       "        vertical-align: top;\n",
       "    }\n",
       "\n",
       "    .dataframe thead th {\n",
       "        text-align: right;\n",
       "    }\n",
       "</style>\n",
       "<table border=\"1\" class=\"dataframe\">\n",
       "  <thead>\n",
       "    <tr style=\"text-align: right;\">\n",
       "      <th></th>\n",
       "      <th>entered</th>\n",
       "      <th>efficiency</th>\n",
       "      <th>eig_central</th>\n",
       "      <th>in_degree</th>\n",
       "      <th>k_core</th>\n",
       "      <th>out_degree</th>\n",
       "      <th>views</th>\n",
       "      <th>age</th>\n",
       "      <th>distance_birth</th>\n",
       "      <th>distance_death</th>\n",
       "      <th>...</th>\n",
       "      <th>jor</th>\n",
       "      <th>eco</th>\n",
       "      <th>hst</th>\n",
       "      <th>spo</th>\n",
       "      <th>lyr</th>\n",
       "      <th>phs</th>\n",
       "      <th>act</th>\n",
       "      <th>ply</th>\n",
       "      <th>other_o</th>\n",
       "      <th>is_alive_yes</th>\n",
       "    </tr>\n",
       "  </thead>\n",
       "  <tbody>\n",
       "    <tr>\n",
       "      <th>0</th>\n",
       "      <td>2007</td>\n",
       "      <td>1.755516</td>\n",
       "      <td>0.465410</td>\n",
       "      <td>0.555589</td>\n",
       "      <td>1.064854</td>\n",
       "      <td>0.927400</td>\n",
       "      <td>0.483139</td>\n",
       "      <td>0</td>\n",
       "      <td>-1</td>\n",
       "      <td>27</td>\n",
       "      <td>...</td>\n",
       "      <td>0</td>\n",
       "      <td>0</td>\n",
       "      <td>0</td>\n",
       "      <td>0</td>\n",
       "      <td>0</td>\n",
       "      <td>0</td>\n",
       "      <td>0</td>\n",
       "      <td>0</td>\n",
       "      <td>1</td>\n",
       "      <td>0</td>\n",
       "    </tr>\n",
       "    <tr>\n",
       "      <th>1</th>\n",
       "      <td>2005</td>\n",
       "      <td>1.925485</td>\n",
       "      <td>0.613149</td>\n",
       "      <td>0.874756</td>\n",
       "      <td>1.326586</td>\n",
       "      <td>1.136243</td>\n",
       "      <td>0.471704</td>\n",
       "      <td>70</td>\n",
       "      <td>70</td>\n",
       "      <td>-1</td>\n",
       "      <td>...</td>\n",
       "      <td>0</td>\n",
       "      <td>0</td>\n",
       "      <td>0</td>\n",
       "      <td>0</td>\n",
       "      <td>0</td>\n",
       "      <td>0</td>\n",
       "      <td>0</td>\n",
       "      <td>0</td>\n",
       "      <td>1</td>\n",
       "      <td>1</td>\n",
       "    </tr>\n",
       "    <tr>\n",
       "      <th>2</th>\n",
       "      <td>2013</td>\n",
       "      <td>1.699453</td>\n",
       "      <td>0.556920</td>\n",
       "      <td>0.813674</td>\n",
       "      <td>1.578767</td>\n",
       "      <td>1.367655</td>\n",
       "      <td>0.417380</td>\n",
       "      <td>62</td>\n",
       "      <td>78</td>\n",
       "      <td>16</td>\n",
       "      <td>...</td>\n",
       "      <td>0</td>\n",
       "      <td>0</td>\n",
       "      <td>0</td>\n",
       "      <td>0</td>\n",
       "      <td>0</td>\n",
       "      <td>0</td>\n",
       "      <td>0</td>\n",
       "      <td>0</td>\n",
       "      <td>0</td>\n",
       "      <td>0</td>\n",
       "    </tr>\n",
       "    <tr>\n",
       "      <th>3</th>\n",
       "      <td>2007</td>\n",
       "      <td>1.985118</td>\n",
       "      <td>0.434374</td>\n",
       "      <td>0.555589</td>\n",
       "      <td>1.177634</td>\n",
       "      <td>1.052672</td>\n",
       "      <td>0.520954</td>\n",
       "      <td>88</td>\n",
       "      <td>88</td>\n",
       "      <td>-1</td>\n",
       "      <td>...</td>\n",
       "      <td>0</td>\n",
       "      <td>0</td>\n",
       "      <td>0</td>\n",
       "      <td>0</td>\n",
       "      <td>0</td>\n",
       "      <td>0</td>\n",
       "      <td>0</td>\n",
       "      <td>0</td>\n",
       "      <td>1</td>\n",
       "      <td>1</td>\n",
       "    </tr>\n",
       "    <tr>\n",
       "      <th>4</th>\n",
       "      <td>2007</td>\n",
       "      <td>1.812793</td>\n",
       "      <td>0.482515</td>\n",
       "      <td>0.871223</td>\n",
       "      <td>1.064854</td>\n",
       "      <td>1.163983</td>\n",
       "      <td>0.528368</td>\n",
       "      <td>84</td>\n",
       "      <td>109</td>\n",
       "      <td>25</td>\n",
       "      <td>...</td>\n",
       "      <td>0</td>\n",
       "      <td>0</td>\n",
       "      <td>0</td>\n",
       "      <td>0</td>\n",
       "      <td>0</td>\n",
       "      <td>0</td>\n",
       "      <td>0</td>\n",
       "      <td>0</td>\n",
       "      <td>1</td>\n",
       "      <td>0</td>\n",
       "    </tr>\n",
       "  </tbody>\n",
       "</table>\n",
       "<p>5 rows × 25 columns</p>\n",
       "</div>"
      ],
      "text/plain": [
       "   entered  efficiency  eig_central  in_degree    k_core  out_degree  \\\n",
       "0     2007    1.755516     0.465410   0.555589  1.064854    0.927400   \n",
       "1     2005    1.925485     0.613149   0.874756  1.326586    1.136243   \n",
       "2     2013    1.699453     0.556920   0.813674  1.578767    1.367655   \n",
       "3     2007    1.985118     0.434374   0.555589  1.177634    1.052672   \n",
       "4     2007    1.812793     0.482515   0.871223  1.064854    1.163983   \n",
       "\n",
       "      views  age  distance_birth  distance_death      ...       jor  eco  hst  \\\n",
       "0  0.483139    0              -1              27      ...         0    0    0   \n",
       "1  0.471704   70              70              -1      ...         0    0    0   \n",
       "2  0.417380   62              78              16      ...         0    0    0   \n",
       "3  0.520954   88              88              -1      ...         0    0    0   \n",
       "4  0.528368   84             109              25      ...         0    0    0   \n",
       "\n",
       "   spo  lyr  phs  act  ply  other_o  is_alive_yes  \n",
       "0    0    0    0    0    0        1             0  \n",
       "1    0    0    0    0    0        1             1  \n",
       "2    0    0    0    0    0        0             0  \n",
       "3    0    0    0    0    0        1             1  \n",
       "4    0    0    0    0    0        1             0  \n",
       "\n",
       "[5 rows x 25 columns]"
      ]
     },
     "execution_count": 47,
     "metadata": {},
     "output_type": "execute_result"
    }
   ],
   "source": [
    "X.head()"
   ]
  },
  {
   "cell_type": "code",
   "execution_count": 48,
   "metadata": {
    "collapsed": false
   },
   "outputs": [],
   "source": [
    "# y.head()"
   ]
  },
  {
   "cell_type": "code",
   "execution_count": 49,
   "metadata": {
    "collapsed": true
   },
   "outputs": [],
   "source": [
    "# X_train, X_test, y_train, y_test = train_test_split(X, y, test_size=0.3, random_state=42)\n",
    "# y_test = list(np.array(y_test.values).flatten())\n",
    "# y_train = list(np.array(y_train.values).flatten())"
   ]
  },
  {
   "cell_type": "code",
   "execution_count": 50,
   "metadata": {
    "collapsed": false
   },
   "outputs": [],
   "source": [
    "# #data.boxplot(column=\"views\", by=\"gender\")\n",
    "\n",
    "# # plot boxplot with seaborn\n",
    "# bplot=sns.boxplot(y='views', x='gender', \n",
    "#                  data=data, \n",
    "#                  width=0.5,\n",
    "#                  palette=\"colorblind\")\n",
    " \n",
    "# # add swarmplot\n",
    "# bplot=sns.swarmplot(y='views', x='gender',\n",
    "#               data=data, \n",
    "#               color='black',\n",
    "#               alpha=0.75)\n"
   ]
  },
  {
   "cell_type": "markdown",
   "metadata": {},
   "source": [
    "# Algorithms"
   ]
  },
  {
   "cell_type": "code",
   "execution_count": 51,
   "metadata": {
    "collapsed": true
   },
   "outputs": [],
   "source": [
    "# SVM\n",
    "s_vm = svm.SVC()\n",
    "# Logistic regression\n",
    "log_reg = LogisticRegression()\n",
    "# Decision Tree\n",
    "d_tree = tree.DecisionTreeClassifier()\n",
    "# Random Forest\n",
    "r_forest = RandomForestClassifier()\n",
    "\n",
    "estimator_dict = {\n",
    "    \"SVM\": s_vm,\n",
    "    \"Logistic Regression\": log_reg,\n",
    "    \"Decision Tree\": d_tree,\n",
    "    \"Random Forest\": r_forest\n",
    "}"
   ]
  },
  {
   "cell_type": "markdown",
   "metadata": {},
   "source": [
    "# Oversampling "
   ]
  },
  {
   "cell_type": "code",
   "execution_count": 23,
   "metadata": {
    "collapsed": false
   },
   "outputs": [
    {
     "name": "stdout",
     "output_type": "stream",
     "text": [
      "(72680, 24) (72680,)\n"
     ]
    },
    {
     "data": {
      "text/plain": [
       "1    36340\n",
       "0    36340\n",
       "Name: gender, dtype: int64"
      ]
     },
     "execution_count": 23,
     "metadata": {},
     "output_type": "execute_result"
    }
   ],
   "source": [
    "X_over, y_over = over_sample(X,y)\n",
    "X_over = pd.DataFrame(X_over, columns=X.columns)\n",
    "y_over = pd.DataFrame(y_over, columns=[\"gender\"])\n",
    "y_over[\"gender\"].value_counts()"
   ]
  },
  {
   "cell_type": "code",
   "execution_count": 24,
   "metadata": {
    "collapsed": false
   },
   "outputs": [
    {
     "name": "stdout",
     "output_type": "stream",
     "text": [
      "0    29092\n",
      "1    29052\n",
      "Name: gender, dtype: int64\n",
      "1    7288\n",
      "0    7248\n",
      "Name: gender, dtype: int64\n"
     ]
    }
   ],
   "source": [
    "X_train, X_test, y_train, y_test = train_test_dfs(X_over,y_over)\n",
    "\n",
    "print(y_train[\"gender\"].value_counts())\n",
    "print(y_test[\"gender\"].value_counts())"
   ]
  },
  {
   "cell_type": "code",
   "execution_count": 25,
   "metadata": {
    "collapsed": true
   },
   "outputs": [],
   "source": [
    "# y_train[\"gender\"].value_counts()"
   ]
  },
  {
   "cell_type": "code",
   "execution_count": 26,
   "metadata": {
    "collapsed": true
   },
   "outputs": [],
   "source": [
    "#this was never used!!!\n",
    "\n",
    "#X_train_norm = normalize.zscore_wikipedia_entered(X_train, columns=[\"eig_central\",\"in_degree\",\"k_core\",\"out_degree\",\"views\"])\n",
    "#X_test_norm = normalize.zscore_wikipedia_entered(X_test, columns=[\"eig_central\",\"in_degree\",\"k_core\",\"out_degree\",\"views\"])\n",
    "\n",
    "#X_train_norm = normalize.normalize(X_train_norm, columns=[\"eig_central\",\"in_degree\",\"k_core\",\"out_degree\",\"views\"])\n",
    "#X_test_norm = normalize.normalize(X_test_norm, columns=[\"eig_central\",\"in_degree\",\"k_core\",\"out_degree\",\"views\"])"
   ]
  },
  {
   "cell_type": "code",
   "execution_count": 27,
   "metadata": {
    "collapsed": false
   },
   "outputs": [
    {
     "data": {
      "text/html": [
       "<div>\n",
       "<style scoped>\n",
       "    .dataframe tbody tr th:only-of-type {\n",
       "        vertical-align: middle;\n",
       "    }\n",
       "\n",
       "    .dataframe tbody tr th {\n",
       "        vertical-align: top;\n",
       "    }\n",
       "\n",
       "    .dataframe thead th {\n",
       "        text-align: right;\n",
       "    }\n",
       "</style>\n",
       "<table border=\"1\" class=\"dataframe\">\n",
       "  <thead>\n",
       "    <tr style=\"text-align: right;\">\n",
       "      <th></th>\n",
       "      <th>efficiency</th>\n",
       "      <th>eig_central</th>\n",
       "      <th>in_degree</th>\n",
       "      <th>k_core</th>\n",
       "      <th>out_degree</th>\n",
       "      <th>views</th>\n",
       "      <th>age</th>\n",
       "      <th>distance_birth</th>\n",
       "      <th>distance_death</th>\n",
       "      <th>nationality_num</th>\n",
       "      <th>...</th>\n",
       "      <th>jor</th>\n",
       "      <th>eco</th>\n",
       "      <th>hst</th>\n",
       "      <th>spo</th>\n",
       "      <th>lyr</th>\n",
       "      <th>phs</th>\n",
       "      <th>act</th>\n",
       "      <th>ply</th>\n",
       "      <th>other_o</th>\n",
       "      <th>is_alive_yes</th>\n",
       "    </tr>\n",
       "  </thead>\n",
       "  <tbody>\n",
       "    <tr>\n",
       "      <th>0</th>\n",
       "      <td>1.755516</td>\n",
       "      <td>0.465410</td>\n",
       "      <td>0.555589</td>\n",
       "      <td>1.064854</td>\n",
       "      <td>0.927400</td>\n",
       "      <td>0.483139</td>\n",
       "      <td>0.0</td>\n",
       "      <td>-1.0</td>\n",
       "      <td>27.0</td>\n",
       "      <td>1.0</td>\n",
       "      <td>...</td>\n",
       "      <td>0.0</td>\n",
       "      <td>0.0</td>\n",
       "      <td>0.0</td>\n",
       "      <td>0.0</td>\n",
       "      <td>0.0</td>\n",
       "      <td>0.0</td>\n",
       "      <td>0.0</td>\n",
       "      <td>0.0</td>\n",
       "      <td>1.0</td>\n",
       "      <td>0.0</td>\n",
       "    </tr>\n",
       "    <tr>\n",
       "      <th>1</th>\n",
       "      <td>1.925485</td>\n",
       "      <td>0.613149</td>\n",
       "      <td>0.874756</td>\n",
       "      <td>1.326586</td>\n",
       "      <td>1.136243</td>\n",
       "      <td>0.471704</td>\n",
       "      <td>70.0</td>\n",
       "      <td>70.0</td>\n",
       "      <td>-1.0</td>\n",
       "      <td>1.0</td>\n",
       "      <td>...</td>\n",
       "      <td>0.0</td>\n",
       "      <td>0.0</td>\n",
       "      <td>0.0</td>\n",
       "      <td>0.0</td>\n",
       "      <td>0.0</td>\n",
       "      <td>0.0</td>\n",
       "      <td>0.0</td>\n",
       "      <td>0.0</td>\n",
       "      <td>1.0</td>\n",
       "      <td>1.0</td>\n",
       "    </tr>\n",
       "    <tr>\n",
       "      <th>2</th>\n",
       "      <td>1.699453</td>\n",
       "      <td>0.556920</td>\n",
       "      <td>0.813674</td>\n",
       "      <td>1.578767</td>\n",
       "      <td>1.367655</td>\n",
       "      <td>0.417380</td>\n",
       "      <td>62.0</td>\n",
       "      <td>78.0</td>\n",
       "      <td>16.0</td>\n",
       "      <td>1.0</td>\n",
       "      <td>...</td>\n",
       "      <td>0.0</td>\n",
       "      <td>0.0</td>\n",
       "      <td>0.0</td>\n",
       "      <td>0.0</td>\n",
       "      <td>0.0</td>\n",
       "      <td>0.0</td>\n",
       "      <td>0.0</td>\n",
       "      <td>0.0</td>\n",
       "      <td>0.0</td>\n",
       "      <td>0.0</td>\n",
       "    </tr>\n",
       "    <tr>\n",
       "      <th>3</th>\n",
       "      <td>1.985118</td>\n",
       "      <td>0.434374</td>\n",
       "      <td>0.555589</td>\n",
       "      <td>1.177634</td>\n",
       "      <td>1.052672</td>\n",
       "      <td>0.520954</td>\n",
       "      <td>88.0</td>\n",
       "      <td>88.0</td>\n",
       "      <td>-1.0</td>\n",
       "      <td>0.0</td>\n",
       "      <td>...</td>\n",
       "      <td>0.0</td>\n",
       "      <td>0.0</td>\n",
       "      <td>0.0</td>\n",
       "      <td>0.0</td>\n",
       "      <td>0.0</td>\n",
       "      <td>0.0</td>\n",
       "      <td>0.0</td>\n",
       "      <td>0.0</td>\n",
       "      <td>1.0</td>\n",
       "      <td>1.0</td>\n",
       "    </tr>\n",
       "    <tr>\n",
       "      <th>4</th>\n",
       "      <td>1.812793</td>\n",
       "      <td>0.482515</td>\n",
       "      <td>0.871223</td>\n",
       "      <td>1.064854</td>\n",
       "      <td>1.163983</td>\n",
       "      <td>0.528368</td>\n",
       "      <td>84.0</td>\n",
       "      <td>109.0</td>\n",
       "      <td>25.0</td>\n",
       "      <td>1.0</td>\n",
       "      <td>...</td>\n",
       "      <td>0.0</td>\n",
       "      <td>0.0</td>\n",
       "      <td>0.0</td>\n",
       "      <td>0.0</td>\n",
       "      <td>0.0</td>\n",
       "      <td>0.0</td>\n",
       "      <td>0.0</td>\n",
       "      <td>0.0</td>\n",
       "      <td>1.0</td>\n",
       "      <td>0.0</td>\n",
       "    </tr>\n",
       "  </tbody>\n",
       "</table>\n",
       "<p>5 rows × 24 columns</p>\n",
       "</div>"
      ],
      "text/plain": [
       "   efficiency  eig_central  in_degree    k_core  out_degree     views   age  \\\n",
       "0    1.755516     0.465410   0.555589  1.064854    0.927400  0.483139   0.0   \n",
       "1    1.925485     0.613149   0.874756  1.326586    1.136243  0.471704  70.0   \n",
       "2    1.699453     0.556920   0.813674  1.578767    1.367655  0.417380  62.0   \n",
       "3    1.985118     0.434374   0.555589  1.177634    1.052672  0.520954  88.0   \n",
       "4    1.812793     0.482515   0.871223  1.064854    1.163983  0.528368  84.0   \n",
       "\n",
       "   distance_birth  distance_death  nationality_num      ...       jor  eco  \\\n",
       "0            -1.0            27.0              1.0      ...       0.0  0.0   \n",
       "1            70.0            -1.0              1.0      ...       0.0  0.0   \n",
       "2            78.0            16.0              1.0      ...       0.0  0.0   \n",
       "3            88.0            -1.0              0.0      ...       0.0  0.0   \n",
       "4           109.0            25.0              1.0      ...       0.0  0.0   \n",
       "\n",
       "   hst  spo  lyr  phs  act  ply  other_o  is_alive_yes  \n",
       "0  0.0  0.0  0.0  0.0  0.0  0.0      1.0           0.0  \n",
       "1  0.0  0.0  0.0  0.0  0.0  0.0      1.0           1.0  \n",
       "2  0.0  0.0  0.0  0.0  0.0  0.0      0.0           0.0  \n",
       "3  0.0  0.0  0.0  0.0  0.0  0.0      1.0           1.0  \n",
       "4  0.0  0.0  0.0  0.0  0.0  0.0      1.0           0.0  \n",
       "\n",
       "[5 rows x 24 columns]"
      ]
     },
     "execution_count": 27,
     "metadata": {},
     "output_type": "execute_result"
    }
   ],
   "source": [
    "X_over.head()"
   ]
  },
  {
   "cell_type": "markdown",
   "metadata": {},
   "source": [
    "## SVM"
   ]
  },
  {
   "cell_type": "code",
   "execution_count": 28,
   "metadata": {
    "collapsed": false
   },
   "outputs": [
    {
     "data": {
      "text/plain": [
       "array([0.69523941, 0.68175564, 0.69964227, 0.69413869, 0.70005504,\n",
       "       0.69056136, 0.70088057, 0.68822234, 0.68024216, 0.67294992])"
      ]
     },
     "execution_count": 28,
     "metadata": {},
     "output_type": "execute_result"
    }
   ],
   "source": [
    "cross_val_score(s_vm,X_over,y_over,scoring='accuracy',cv=10)"
   ]
  },
  {
   "cell_type": "markdown",
   "metadata": {},
   "source": [
    "## Logistic Regression"
   ]
  },
  {
   "cell_type": "code",
   "execution_count": 29,
   "metadata": {
    "collapsed": false
   },
   "outputs": [
    {
     "data": {
      "text/plain": [
       "array([0.64900936, 0.63126032, 0.65561365, 0.64364337, 0.65093561,\n",
       "       0.64419373, 0.6575399 , 0.65478811, 0.64116676, 0.64047881])"
      ]
     },
     "execution_count": 29,
     "metadata": {},
     "output_type": "execute_result"
    }
   ],
   "source": [
    "cross_val_score(log_reg,X_over,y_over,scoring='accuracy',cv=10)"
   ]
  },
  {
   "cell_type": "code",
   "execution_count": 30,
   "metadata": {
    "collapsed": false
   },
   "outputs": [
    {
     "name": "stdout",
     "output_type": "stream",
     "text": [
      "0.6472894881673088\n",
      "[[5461 1787]\n",
      " [3340 3948]]\n",
      "              precision    recall  f1-score   support\n",
      "\n",
      "      female       0.62      0.75      0.68      7248\n",
      "        male       0.69      0.54      0.61      7288\n",
      "\n",
      "   micro avg       0.65      0.65      0.65     14536\n",
      "   macro avg       0.65      0.65      0.64     14536\n",
      "weighted avg       0.65      0.65      0.64     14536\n",
      "\n"
     ]
    }
   ],
   "source": [
    "evaluate_model(log_reg, X_train, X_test, y_train, y_test)"
   ]
  },
  {
   "cell_type": "markdown",
   "metadata": {},
   "source": [
    "## Decision Tree "
   ]
  },
  {
   "cell_type": "code",
   "execution_count": 31,
   "metadata": {
    "collapsed": false
   },
   "outputs": [
    {
     "data": {
      "text/plain": [
       "array([0.63635113, 0.72014309, 0.85167859, 0.84975234, 0.84975234,\n",
       "       0.84204733, 0.8503027 , 0.84686296, 0.84548707, 0.830765  ])"
      ]
     },
     "execution_count": 31,
     "metadata": {},
     "output_type": "execute_result"
    }
   ],
   "source": [
    "cross_val_score(d_tree,X_over,y_over,scoring='accuracy',cv=10)"
   ]
  },
  {
   "cell_type": "code",
   "execution_count": 32,
   "metadata": {
    "collapsed": false
   },
   "outputs": [
    {
     "name": "stdout",
     "output_type": "stream",
     "text": [
      "0.8106769400110072\n",
      "[[5991 1257]\n",
      " [1495 5793]]\n",
      "              precision    recall  f1-score   support\n",
      "\n",
      "      female       0.80      0.83      0.81      7248\n",
      "        male       0.82      0.79      0.81      7288\n",
      "\n",
      "   micro avg       0.81      0.81      0.81     14536\n",
      "   macro avg       0.81      0.81      0.81     14536\n",
      "weighted avg       0.81      0.81      0.81     14536\n",
      "\n"
     ]
    }
   ],
   "source": [
    "evaluate_model(d_tree, X_train, X_test, y_train, y_test)"
   ]
  },
  {
   "cell_type": "markdown",
   "metadata": {},
   "source": [
    "## Random Forest"
   ]
  },
  {
   "cell_type": "code",
   "execution_count": 33,
   "metadata": {
    "collapsed": false
   },
   "outputs": [
    {
     "data": {
      "text/plain": [
       "array([0.69441387, 0.7747661 , 0.89763346, 0.90451293, 0.89735828,\n",
       "       0.89694551, 0.89955971, 0.89419373, 0.88951569, 0.88428729])"
      ]
     },
     "execution_count": 33,
     "metadata": {},
     "output_type": "execute_result"
    }
   ],
   "source": [
    "cross_val_score(r_forest,X_over,y_over,scoring='accuracy',cv=10)"
   ]
  },
  {
   "cell_type": "code",
   "execution_count": 34,
   "metadata": {
    "collapsed": false
   },
   "outputs": [
    {
     "name": "stdout",
     "output_type": "stream",
     "text": [
      "0.8600027517886626\n",
      "[[6459  789]\n",
      " [1246 6042]]\n",
      "              precision    recall  f1-score   support\n",
      "\n",
      "      female       0.84      0.89      0.86      7248\n",
      "        male       0.88      0.83      0.86      7288\n",
      "\n",
      "   micro avg       0.86      0.86      0.86     14536\n",
      "   macro avg       0.86      0.86      0.86     14536\n",
      "weighted avg       0.86      0.86      0.86     14536\n",
      "\n"
     ]
    }
   ],
   "source": [
    "evaluate_model(r_forest, X_train, X_test, y_train, y_test)"
   ]
  },
  {
   "cell_type": "markdown",
   "metadata": {},
   "source": [
    "## Comparison"
   ]
  },
  {
   "cell_type": "code",
   "execution_count": 35,
   "metadata": {
    "collapsed": false
   },
   "outputs": [],
   "source": [
    "df = model_comparison_df(estimator_dict, X_over,y_over)"
   ]
  },
  {
   "cell_type": "code",
   "execution_count": 36,
   "metadata": {
    "collapsed": false
   },
   "outputs": [
    {
     "data": {
      "text/html": [
       "<div>\n",
       "<style scoped>\n",
       "    .dataframe tbody tr th:only-of-type {\n",
       "        vertical-align: middle;\n",
       "    }\n",
       "\n",
       "    .dataframe tbody tr th {\n",
       "        vertical-align: top;\n",
       "    }\n",
       "\n",
       "    .dataframe thead th {\n",
       "        text-align: right;\n",
       "    }\n",
       "</style>\n",
       "<table border=\"1\" class=\"dataframe\">\n",
       "  <thead>\n",
       "    <tr style=\"text-align: right;\">\n",
       "      <th></th>\n",
       "      <th>Algorithm</th>\n",
       "      <th>Accuracy</th>\n",
       "      <th>Precision</th>\n",
       "      <th>Recall</th>\n",
       "      <th>F1</th>\n",
       "    </tr>\n",
       "  </thead>\n",
       "  <tbody>\n",
       "    <tr>\n",
       "      <th>0</th>\n",
       "      <td>SVM</td>\n",
       "      <td>0.690369</td>\n",
       "      <td>0.740522</td>\n",
       "      <td>0.586186</td>\n",
       "      <td>0.654264</td>\n",
       "    </tr>\n",
       "    <tr>\n",
       "      <th>1</th>\n",
       "      <td>Logistic Regression</td>\n",
       "      <td>0.646863</td>\n",
       "      <td>0.690077</td>\n",
       "      <td>0.533489</td>\n",
       "      <td>0.601621</td>\n",
       "    </tr>\n",
       "    <tr>\n",
       "      <th>2</th>\n",
       "      <td>Decision Tree</td>\n",
       "      <td>0.812452</td>\n",
       "      <td>0.838212</td>\n",
       "      <td>0.800633</td>\n",
       "      <td>0.814534</td>\n",
       "    </tr>\n",
       "    <tr>\n",
       "      <th>3</th>\n",
       "      <td>Random Forest</td>\n",
       "      <td>0.864447</td>\n",
       "      <td>0.908194</td>\n",
       "      <td>0.832031</td>\n",
       "      <td>0.863559</td>\n",
       "    </tr>\n",
       "  </tbody>\n",
       "</table>\n",
       "</div>"
      ],
      "text/plain": [
       "             Algorithm  Accuracy  Precision    Recall        F1\n",
       "0                  SVM  0.690369   0.740522  0.586186  0.654264\n",
       "1  Logistic Regression  0.646863   0.690077  0.533489  0.601621\n",
       "2        Decision Tree  0.812452   0.838212  0.800633  0.814534\n",
       "3        Random Forest  0.864447   0.908194  0.832031  0.863559"
      ]
     },
     "execution_count": 36,
     "metadata": {},
     "output_type": "execute_result"
    }
   ],
   "source": [
    "df"
   ]
  },
  {
   "cell_type": "code",
   "execution_count": 37,
   "metadata": {
    "collapsed": false
   },
   "outputs": [
    {
     "name": "stdout",
     "output_type": "stream",
     "text": [
      "\\begin{tabular}{|c|c|c|c|c|}\n",
      "\\hline\n",
      "           Algorithm &  Accuracy &  Precision &  Recall &    F1 \\\\\n",
      "\\hline\n",
      "                 SVM &      0.69 &       0.74 &    0.59 &  0.65 \\\\\n",
      "\\hline Logistic Regression &      0.65 &       0.69 &    0.53 &  0.60 \\\\\n",
      "\\hline       Decision Tree &      0.81 &       0.84 &    0.80 &  0.81 \\\\\n",
      "\\hline       Random Forest &      0.86 &       0.91 &    0.83 &  0.86 \\\\\n",
      "\\hline\n",
      "\\end{tabular}\n",
      "\n"
     ]
    }
   ],
   "source": [
    "print_latex(df, col_format=\"|c|c|c|c|c|\")"
   ]
  },
  {
   "cell_type": "markdown",
   "metadata": {},
   "source": [
    "# Undersampling"
   ]
  },
  {
   "cell_type": "code",
   "execution_count": 52,
   "metadata": {
    "collapsed": false
   },
   "outputs": [
    {
     "name": "stdout",
     "output_type": "stream",
     "text": [
      "[(0, 5594), (1, 5594)]\n"
     ]
    }
   ],
   "source": [
    "X_under, y_under = under_sample(X,y)\n",
    "X_under = pd.DataFrame(X_under, columns=X.columns)\n",
    "y_under = pd.DataFrame(y_under, columns=[\"gender\"])\n",
    "# base = pd.concat([X_resampled, y_resampled], axis=1)\n",
    "# base.head()"
   ]
  },
  {
   "cell_type": "code",
   "execution_count": 53,
   "metadata": {
    "collapsed": true
   },
   "outputs": [],
   "source": [
    "X_train, X_test, y_train, y_test = train_test_dfs(X_under,y_under)"
   ]
  },
  {
   "cell_type": "code",
   "execution_count": 55,
   "metadata": {
    "collapsed": false
   },
   "outputs": [],
   "source": [
    "# X_train_norm = normalize.zscore_wikipedia_entered(X_train, columns=[\"eig_central\",\"in_degree\",\"k_core\",\"out_degree\",\"views\"])\n",
    "# X_test_norm = normalize.zscore_wikipedia_entered(X_test, columns=[\"eig_central\",\"in_degree\",\"k_core\",\"out_degree\",\"views\"])\n",
    "\n",
    "#X_train_norm = normalize.normalize(X_train_norm, columns=[\"eig_central\",\"in_degree\",\"k_core\",\"out_degree\",\"views\"])\n",
    "#X_test_norm = normalizenormalize(X_test_norm, columns=[\"eig_central\",\"in_degree\",\"k_core\",\"out_degree\",\"views\"])"
   ]
  },
  {
   "cell_type": "markdown",
   "metadata": {},
   "source": [
    "## SVM"
   ]
  },
  {
   "cell_type": "code",
   "execution_count": 56,
   "metadata": {
    "collapsed": false
   },
   "outputs": [
    {
     "name": "stdout",
     "output_type": "stream",
     "text": [
      "0.6340482573726541\n",
      "[[828 292]\n",
      " [527 591]]\n",
      "              precision    recall  f1-score   support\n",
      "\n",
      "      female       0.61      0.74      0.67      1120\n",
      "        male       0.67      0.53      0.59      1118\n",
      "\n",
      "   micro avg       0.63      0.63      0.63      2238\n",
      "   macro avg       0.64      0.63      0.63      2238\n",
      "weighted avg       0.64      0.63      0.63      2238\n",
      "\n"
     ]
    }
   ],
   "source": [
    "evaluate_model(s_vm, X_train, X_test, y_train, y_test)"
   ]
  },
  {
   "cell_type": "markdown",
   "metadata": {},
   "source": [
    "## Logistic Regression"
   ]
  },
  {
   "cell_type": "code",
   "execution_count": 57,
   "metadata": {
    "collapsed": false
   },
   "outputs": [
    {
     "name": "stdout",
     "output_type": "stream",
     "text": [
      "0.6309204647006256\n",
      "[[838 282]\n",
      " [544 574]]\n",
      "              precision    recall  f1-score   support\n",
      "\n",
      "      female       0.61      0.75      0.67      1120\n",
      "        male       0.67      0.51      0.58      1118\n",
      "\n",
      "   micro avg       0.63      0.63      0.63      2238\n",
      "   macro avg       0.64      0.63      0.63      2238\n",
      "weighted avg       0.64      0.63      0.63      2238\n",
      "\n"
     ]
    }
   ],
   "source": [
    "evaluate_model(log_reg, X_train, X_test, y_train, y_test)"
   ]
  },
  {
   "cell_type": "markdown",
   "metadata": {},
   "source": [
    "## Decision Tree "
   ]
  },
  {
   "cell_type": "code",
   "execution_count": 58,
   "metadata": {
    "collapsed": false
   },
   "outputs": [
    {
     "name": "stdout",
     "output_type": "stream",
     "text": [
      "0.5755138516532619\n",
      "[[636 484]\n",
      " [466 652]]\n",
      "              precision    recall  f1-score   support\n",
      "\n",
      "      female       0.58      0.57      0.57      1120\n",
      "        male       0.57      0.58      0.58      1118\n",
      "\n",
      "   micro avg       0.58      0.58      0.58      2238\n",
      "   macro avg       0.58      0.58      0.58      2238\n",
      "weighted avg       0.58      0.58      0.58      2238\n",
      "\n"
     ]
    }
   ],
   "source": [
    "evaluate_model(d_tree, X_train, X_test, y_train, y_test)"
   ]
  },
  {
   "cell_type": "markdown",
   "metadata": {},
   "source": [
    "## Random Forest"
   ]
  },
  {
   "cell_type": "code",
   "execution_count": 59,
   "metadata": {
    "collapsed": false
   },
   "outputs": [
    {
     "name": "stdout",
     "output_type": "stream",
     "text": [
      "0.6206434316353887\n",
      "[[773 347]\n",
      " [502 616]]\n",
      "              precision    recall  f1-score   support\n",
      "\n",
      "      female       0.61      0.69      0.65      1120\n",
      "        male       0.64      0.55      0.59      1118\n",
      "\n",
      "   micro avg       0.62      0.62      0.62      2238\n",
      "   macro avg       0.62      0.62      0.62      2238\n",
      "weighted avg       0.62      0.62      0.62      2238\n",
      "\n"
     ]
    }
   ],
   "source": [
    "evaluate_model(r_forest, X_train, X_test, y_train, y_test)"
   ]
  },
  {
   "cell_type": "markdown",
   "metadata": {},
   "source": [
    "## Comparison"
   ]
  },
  {
   "cell_type": "code",
   "execution_count": 60,
   "metadata": {
    "collapsed": true
   },
   "outputs": [],
   "source": [
    "df = model_comparison_df(estimator_dict, X_under,y_under)"
   ]
  },
  {
   "cell_type": "code",
   "execution_count": 61,
   "metadata": {
    "collapsed": false
   },
   "outputs": [
    {
     "data": {
      "text/html": [
       "<div>\n",
       "<style scoped>\n",
       "    .dataframe tbody tr th:only-of-type {\n",
       "        vertical-align: middle;\n",
       "    }\n",
       "\n",
       "    .dataframe tbody tr th {\n",
       "        vertical-align: top;\n",
       "    }\n",
       "\n",
       "    .dataframe thead th {\n",
       "        text-align: right;\n",
       "    }\n",
       "</style>\n",
       "<table border=\"1\" class=\"dataframe\">\n",
       "  <thead>\n",
       "    <tr style=\"text-align: right;\">\n",
       "      <th></th>\n",
       "      <th>Algorithm</th>\n",
       "      <th>Accuracy</th>\n",
       "      <th>Precision</th>\n",
       "      <th>Recall</th>\n",
       "      <th>F1</th>\n",
       "    </tr>\n",
       "  </thead>\n",
       "  <tbody>\n",
       "    <tr>\n",
       "      <th>0</th>\n",
       "      <td>SVM</td>\n",
       "      <td>0.642644</td>\n",
       "      <td>0.684207</td>\n",
       "      <td>0.533423</td>\n",
       "      <td>0.599068</td>\n",
       "    </tr>\n",
       "    <tr>\n",
       "      <th>1</th>\n",
       "      <td>Logistic Regression</td>\n",
       "      <td>0.639865</td>\n",
       "      <td>0.689259</td>\n",
       "      <td>0.517871</td>\n",
       "      <td>0.590306</td>\n",
       "    </tr>\n",
       "    <tr>\n",
       "      <th>2</th>\n",
       "      <td>Decision Tree</td>\n",
       "      <td>0.574904</td>\n",
       "      <td>0.575492</td>\n",
       "      <td>0.581528</td>\n",
       "      <td>0.579542</td>\n",
       "    </tr>\n",
       "    <tr>\n",
       "      <th>3</th>\n",
       "      <td>Random Forest</td>\n",
       "      <td>0.613512</td>\n",
       "      <td>0.649333</td>\n",
       "      <td>0.538072</td>\n",
       "      <td>0.576807</td>\n",
       "    </tr>\n",
       "  </tbody>\n",
       "</table>\n",
       "</div>"
      ],
      "text/plain": [
       "             Algorithm  Accuracy  Precision    Recall        F1\n",
       "0                  SVM  0.642644   0.684207  0.533423  0.599068\n",
       "1  Logistic Regression  0.639865   0.689259  0.517871  0.590306\n",
       "2        Decision Tree  0.574904   0.575492  0.581528  0.579542\n",
       "3        Random Forest  0.613512   0.649333  0.538072  0.576807"
      ]
     },
     "execution_count": 61,
     "metadata": {},
     "output_type": "execute_result"
    }
   ],
   "source": [
    "df"
   ]
  },
  {
   "cell_type": "code",
   "execution_count": 62,
   "metadata": {
    "collapsed": false
   },
   "outputs": [
    {
     "name": "stdout",
     "output_type": "stream",
     "text": [
      "\\begin{tabular}{|c|c|c|c|c|}\n",
      "\\hline\n",
      "           Algorithm &  Accuracy &  Precision &  Recall &    F1 \\\\\n",
      "\\hline\n",
      "                 SVM &      0.64 &       0.68 &    0.53 &  0.60 \\\\\n",
      "\\hline Logistic Regression &      0.64 &       0.69 &    0.52 &  0.59 \\\\\n",
      "\\hline       Decision Tree &      0.57 &       0.58 &    0.58 &  0.58 \\\\\n",
      "\\hline       Random Forest &      0.61 &       0.65 &    0.54 &  0.58 \\\\\n",
      "\\hline\n",
      "\\end{tabular}\n",
      "\n"
     ]
    }
   ],
   "source": [
    "print_latex(df, col_format=\"|c|c|c|c|c|\")"
   ]
  },
  {
   "cell_type": "markdown",
   "metadata": {},
   "source": [
    "# Countries"
   ]
  },
  {
   "cell_type": "code",
   "execution_count": 63,
   "metadata": {
    "collapsed": true
   },
   "outputs": [],
   "source": [
    "country_dict = {\n",
    "    \"USA\": \"american\",\n",
    "    \"Germany\": \"german\",\n",
    "    \"France\": \"french\",\n",
    "    \"Great Britain\": \"british\",\n",
    "    \"Russia\": \"russian\"\n",
    "} "
   ]
  },
  {
   "cell_type": "code",
   "execution_count": 64,
   "metadata": {
    "collapsed": true
   },
   "outputs": [],
   "source": [
    "def compare_countries_df(country_dict, path, year, estimator):\n",
    "    lst = []\n",
    "    for k,v in country_dict.items():\n",
    "        df = pd.read_pickle(path+str(year)+\"_\"+v)\n",
    "        df = normalize.zscore_wikipedia_entered(df, [\"views\", \"eig_central\",\"in_degree\",\"k_core\",\"out_degree\",\"efficiency\"])\n",
    "        df = normalize.normalize(df, [\"views\", \"eig_central\",\"in_degree\",\"k_core\",\"out_degree\",\"efficiency\"])\n",
    "        df = preprocess_data_frame(df, [\"gender\"])\n",
    "        if \"is_alive_no\" in df.columns and \"distance_delta\" in df.columns and \"other_p\" in df.columns:\n",
    "            df = df.drop([\"entered\",\"is_alive_no\",\"distance_delta\",\"other_p\"],axis=1)\n",
    "        X,y=split_dataframe(df,\"gender\")\n",
    "        X_over, y_over = over_sample(X,y)\n",
    "        X_over = pd.DataFrame(X_over, columns=X.columns)\n",
    "        y_over = pd.DataFrame(y_over, columns=[\"gender\"])\n",
    "        y_over[\"gender\"].value_counts()\n",
    "        acc, pr, re, f1 = get_ac_pr_re_f1(estimator, X_over,y_over)\n",
    "        lst.append([k, acc, pr, re, f1])\n",
    "    return pd.DataFrame(lst, columns=[\"Country\", \"Accuracy\", \"Precision\", \"Recall\", \"F1\"])"
   ]
  },
  {
   "cell_type": "code",
   "execution_count": 65,
   "metadata": {
    "collapsed": false
   },
   "outputs": [
    {
     "name": "stdout",
     "output_type": "stream",
     "text": [
      "['female', 'male']\n",
      "{0, 1}\n",
      "[0, 1]\n",
      "{0, 1}\n",
      "(8030, 32) (8030,)\n",
      "['female', 'male']\n",
      "{0, 1}\n",
      "[0, 1]\n",
      "{0, 1}\n",
      "(2272, 32) (2272,)\n",
      "['female', 'male']\n",
      "{0, 1}\n",
      "[0, 1]\n",
      "{0, 1}\n",
      "(2422, 32) (2422,)\n",
      "['female', 'male']\n",
      "{0, 1}\n",
      "[0, 1]\n",
      "{0, 1}\n",
      "(792, 32) (792,)\n",
      "['female', 'male']\n",
      "{0, 1}\n",
      "[0, 1]\n",
      "{0, 1}\n",
      "(1032, 32) (1032,)\n"
     ]
    }
   ],
   "source": [
    "df = compare_countries_df(country_dict, \"../data/final_sets/countries/model_large/\", 2016, r_forest)"
   ]
  },
  {
   "cell_type": "code",
   "execution_count": 66,
   "metadata": {
    "collapsed": false
   },
   "outputs": [
    {
     "data": {
      "text/html": [
       "<div>\n",
       "<style scoped>\n",
       "    .dataframe tbody tr th:only-of-type {\n",
       "        vertical-align: middle;\n",
       "    }\n",
       "\n",
       "    .dataframe tbody tr th {\n",
       "        vertical-align: top;\n",
       "    }\n",
       "\n",
       "    .dataframe thead th {\n",
       "        text-align: right;\n",
       "    }\n",
       "</style>\n",
       "<table border=\"1\" class=\"dataframe\">\n",
       "  <thead>\n",
       "    <tr style=\"text-align: right;\">\n",
       "      <th></th>\n",
       "      <th>Country</th>\n",
       "      <th>Accuracy</th>\n",
       "      <th>Precision</th>\n",
       "      <th>Recall</th>\n",
       "      <th>F1</th>\n",
       "    </tr>\n",
       "  </thead>\n",
       "  <tbody>\n",
       "    <tr>\n",
       "      <th>0</th>\n",
       "      <td>USA</td>\n",
       "      <td>0.825002</td>\n",
       "      <td>0.893300</td>\n",
       "      <td>0.774140</td>\n",
       "      <td>0.836818</td>\n",
       "    </tr>\n",
       "    <tr>\n",
       "      <th>1</th>\n",
       "      <td>Germany</td>\n",
       "      <td>0.884385</td>\n",
       "      <td>0.928972</td>\n",
       "      <td>0.828225</td>\n",
       "      <td>0.882944</td>\n",
       "    </tr>\n",
       "    <tr>\n",
       "      <th>2</th>\n",
       "      <td>France</td>\n",
       "      <td>0.863992</td>\n",
       "      <td>0.915566</td>\n",
       "      <td>0.837461</td>\n",
       "      <td>0.864161</td>\n",
       "    </tr>\n",
       "    <tr>\n",
       "      <th>3</th>\n",
       "      <td>Great Britain</td>\n",
       "      <td>0.854167</td>\n",
       "      <td>0.926044</td>\n",
       "      <td>0.846538</td>\n",
       "      <td>0.899402</td>\n",
       "    </tr>\n",
       "    <tr>\n",
       "      <th>4</th>\n",
       "      <td>Russia</td>\n",
       "      <td>0.932428</td>\n",
       "      <td>0.957770</td>\n",
       "      <td>0.937971</td>\n",
       "      <td>0.922759</td>\n",
       "    </tr>\n",
       "  </tbody>\n",
       "</table>\n",
       "</div>"
      ],
      "text/plain": [
       "         Country  Accuracy  Precision    Recall        F1\n",
       "0            USA  0.825002   0.893300  0.774140  0.836818\n",
       "1        Germany  0.884385   0.928972  0.828225  0.882944\n",
       "2         France  0.863992   0.915566  0.837461  0.864161\n",
       "3  Great Britain  0.854167   0.926044  0.846538  0.899402\n",
       "4         Russia  0.932428   0.957770  0.937971  0.922759"
      ]
     },
     "execution_count": 66,
     "metadata": {},
     "output_type": "execute_result"
    }
   ],
   "source": [
    "df"
   ]
  },
  {
   "cell_type": "code",
   "execution_count": 67,
   "metadata": {
    "collapsed": false
   },
   "outputs": [
    {
     "name": "stdout",
     "output_type": "stream",
     "text": [
      "\\begin{tabular}{|c|c|c|c|c|}\n",
      "\\hline\n",
      "       Country &  Accuracy &  Precision &  Recall &    F1 \\\\\n",
      "\\hline\n",
      "           USA &      0.83 &       0.89 &    0.77 &  0.84 \\\\\n",
      "\\hline       Germany &      0.88 &       0.93 &    0.83 &  0.88 \\\\\n",
      "\\hline        France &      0.86 &       0.92 &    0.84 &  0.86 \\\\\n",
      "\\hline Great Britain &      0.85 &       0.93 &    0.85 &  0.90 \\\\\n",
      "\\hline        Russia &      0.93 &       0.96 &    0.94 &  0.92 \\\\\n",
      "\\hline\n",
      "\\end{tabular}\n",
      "\n"
     ]
    }
   ],
   "source": [
    "print_latex(df, col_format=\"|c|c|c|c|c|\")"
   ]
  },
  {
   "cell_type": "code",
   "execution_count": 68,
   "metadata": {
    "collapsed": false
   },
   "outputs": [
    {
     "name": "stdout",
     "output_type": "stream",
     "text": [
      "['female', 'male']\n",
      "{0, 1}\n",
      "[0, 1]\n",
      "{0, 1}\n",
      "(8030, 18) (8030,)\n",
      "['female', 'male']\n",
      "{0, 1}\n",
      "[0, 1]\n",
      "{0, 1}\n",
      "(2272, 18) (2272,)\n",
      "['female', 'male']\n",
      "{0, 1}\n",
      "[0, 1]\n",
      "{0, 1}\n",
      "(2422, 18) (2422,)\n",
      "['female', 'male']\n",
      "{0, 1}\n",
      "[0, 1]\n",
      "{0, 1}\n",
      "(792, 18) (792,)\n",
      "['female', 'male']\n",
      "{0, 1}\n",
      "[0, 1]\n",
      "{0, 1}\n",
      "(1032, 18) (1032,)\n"
     ]
    }
   ],
   "source": [
    "df = compare_countries_df(country_dict, \"../data/final_sets/countries/model/\", 2016, r_forest)"
   ]
  },
  {
   "cell_type": "code",
   "execution_count": 69,
   "metadata": {
    "collapsed": false
   },
   "outputs": [
    {
     "data": {
      "text/html": [
       "<div>\n",
       "<style scoped>\n",
       "    .dataframe tbody tr th:only-of-type {\n",
       "        vertical-align: middle;\n",
       "    }\n",
       "\n",
       "    .dataframe tbody tr th {\n",
       "        vertical-align: top;\n",
       "    }\n",
       "\n",
       "    .dataframe thead th {\n",
       "        text-align: right;\n",
       "    }\n",
       "</style>\n",
       "<table border=\"1\" class=\"dataframe\">\n",
       "  <thead>\n",
       "    <tr style=\"text-align: right;\">\n",
       "      <th></th>\n",
       "      <th>Country</th>\n",
       "      <th>Accuracy</th>\n",
       "      <th>Precision</th>\n",
       "      <th>Recall</th>\n",
       "      <th>F1</th>\n",
       "    </tr>\n",
       "  </thead>\n",
       "  <tbody>\n",
       "    <tr>\n",
       "      <th>0</th>\n",
       "      <td>USA</td>\n",
       "      <td>0.794247</td>\n",
       "      <td>0.882120</td>\n",
       "      <td>0.745990</td>\n",
       "      <td>0.769538</td>\n",
       "    </tr>\n",
       "    <tr>\n",
       "      <th>1</th>\n",
       "      <td>Germany</td>\n",
       "      <td>0.866282</td>\n",
       "      <td>0.919035</td>\n",
       "      <td>0.808081</td>\n",
       "      <td>0.850499</td>\n",
       "    </tr>\n",
       "    <tr>\n",
       "      <th>2</th>\n",
       "      <td>France</td>\n",
       "      <td>0.851572</td>\n",
       "      <td>0.902394</td>\n",
       "      <td>0.799384</td>\n",
       "      <td>0.800067</td>\n",
       "    </tr>\n",
       "    <tr>\n",
       "      <th>3</th>\n",
       "      <td>Great Britain</td>\n",
       "      <td>0.847949</td>\n",
       "      <td>0.915637</td>\n",
       "      <td>0.823782</td>\n",
       "      <td>0.845433</td>\n",
       "    </tr>\n",
       "    <tr>\n",
       "      <th>4</th>\n",
       "      <td>Russia</td>\n",
       "      <td>0.924623</td>\n",
       "      <td>0.954996</td>\n",
       "      <td>0.904789</td>\n",
       "      <td>0.920610</td>\n",
       "    </tr>\n",
       "  </tbody>\n",
       "</table>\n",
       "</div>"
      ],
      "text/plain": [
       "         Country  Accuracy  Precision    Recall        F1\n",
       "0            USA  0.794247   0.882120  0.745990  0.769538\n",
       "1        Germany  0.866282   0.919035  0.808081  0.850499\n",
       "2         France  0.851572   0.902394  0.799384  0.800067\n",
       "3  Great Britain  0.847949   0.915637  0.823782  0.845433\n",
       "4         Russia  0.924623   0.954996  0.904789  0.920610"
      ]
     },
     "execution_count": 69,
     "metadata": {},
     "output_type": "execute_result"
    }
   ],
   "source": [
    "df"
   ]
  },
  {
   "cell_type": "code",
   "execution_count": 70,
   "metadata": {
    "collapsed": false
   },
   "outputs": [
    {
     "name": "stdout",
     "output_type": "stream",
     "text": [
      "\\begin{tabular}{|c|c|c|c|c|}\n",
      "\\hline\n",
      "       Country &  Accuracy &  Precision &  Recall &    F1 \\\\\n",
      "\\hline\n",
      "           USA &      0.79 &       0.88 &    0.75 &  0.77 \\\\\n",
      "\\hline       Germany &      0.87 &       0.92 &    0.81 &  0.85 \\\\\n",
      "\\hline        France &      0.85 &       0.90 &    0.80 &  0.80 \\\\\n",
      "\\hline Great Britain &      0.85 &       0.92 &    0.82 &  0.85 \\\\\n",
      "\\hline        Russia &      0.92 &       0.95 &    0.90 &  0.92 \\\\\n",
      "\\hline\n",
      "\\end{tabular}\n",
      "\n"
     ]
    }
   ],
   "source": [
    "print_latex(df, col_format=\"|c|c|c|c|c|\")"
   ]
  },
  {
   "cell_type": "markdown",
   "metadata": {},
   "source": [
    "# Gini Impurity - Feature importance per country"
   ]
  },
  {
   "cell_type": "code",
   "execution_count": 71,
   "metadata": {
    "collapsed": true
   },
   "outputs": [],
   "source": [
    "def important_features(X,y, estimator):\n",
    "    estimator.fit(X,y)\n",
    "    df = pd.DataFrame({\n",
    "        \"Feature\": X.columns,\n",
    "        \"Importance\": estimator.feature_importances_\n",
    "    })\n",
    "    return df.sort_values(by=\"Importance\",ascending=False)\n",
    "\n",
    "def compare_features_df(country_dict, path, year, estimator):\n",
    "    lst = []\n",
    "    for k,v in country_dict.items():\n",
    "        df = pd.read_pickle(path+str(year)+\"_\"+v)\n",
    "        df = preprocess_data_frame(df, [\"gender\"])\n",
    "        if \"is_alive_no\" in df.columns and \"distance_delta\" in df.columns and \"other_p\" in df.columns:\n",
    "            df = df.drop([\"entered\",\"is_alive_no\",\"is_alive_unknown\",\"ply\",\"distance_delta\",\"other_p\",\"year_interval_1\",\n",
    "                          \"year_interval_2\",\"year_interval_3\",\"party1\",\"party2\",\"party3\"],axis=1)\n",
    "        X,y=split_dataframe(df,\"gender\")\n",
    "        X_over, y_over = over_sample(X,y)\n",
    "        X_over = pd.DataFrame(X_over, columns=X.columns)\n",
    "        y_over = pd.DataFrame(y_over, columns=[\"gender\"])\n",
    "        y_over[\"gender\"].value_counts()\n",
    "        lst.append([k,important_features(X_over, y_over, estimator)])\n",
    "    return lst"
   ]
  },
  {
   "cell_type": "code",
   "execution_count": 72,
   "metadata": {
    "collapsed": false
   },
   "outputs": [
    {
     "name": "stdout",
     "output_type": "stream",
     "text": [
      "['female', 'male']\n",
      "{0, 1}\n",
      "[0, 1]\n",
      "{0, 1}\n",
      "(8030, 23) (8030,)\n",
      "['female', 'male']\n",
      "{0, 1}\n",
      "[0, 1]\n",
      "{0, 1}\n",
      "(2272, 23) (2272,)\n",
      "['female', 'male']\n",
      "{0, 1}\n",
      "[0, 1]\n",
      "{0, 1}\n",
      "(2422, 23) (2422,)\n",
      "['female', 'male']\n",
      "{0, 1}\n",
      "[0, 1]\n",
      "{0, 1}\n",
      "(792, 23) (792,)\n",
      "['female', 'male']\n",
      "{0, 1}\n",
      "[0, 1]\n",
      "{0, 1}\n",
      "(1032, 23) (1032,)\n"
     ]
    }
   ],
   "source": [
    "x = compare_features_df(country_dict, \"../data/final_sets/countries/model_large/\", 2016, r_forest)"
   ]
  },
  {
   "cell_type": "code",
   "execution_count": 73,
   "metadata": {
    "collapsed": true
   },
   "outputs": [],
   "source": [
    "# x[1][1].reset_index(drop=True)"
   ]
  },
  {
   "cell_type": "code",
   "execution_count": 74,
   "metadata": {
    "collapsed": true
   },
   "outputs": [],
   "source": [
    "# lst = [x[1][1].reset_index(drop=True),x[2][1].reset_index(drop=True),x[3][1].reset_index(drop=True),x[4][1].reset_index(drop=True)]\n",
    "# ,x[3][1],x[4][1]/\n",
    "lst = [x[0][1],x[1][1],x[2][1],x[3][1],x[4][1]]"
   ]
  },
  {
   "cell_type": "code",
   "execution_count": 75,
   "metadata": {
    "collapsed": true
   },
   "outputs": [],
   "source": [
    "# df.columns"
   ]
  },
  {
   "cell_type": "code",
   "execution_count": 76,
   "metadata": {
    "collapsed": false
   },
   "outputs": [
    {
     "data": {
      "text/html": [
       "<div>\n",
       "<style scoped>\n",
       "    .dataframe tbody tr th:only-of-type {\n",
       "        vertical-align: middle;\n",
       "    }\n",
       "\n",
       "    .dataframe tbody tr th {\n",
       "        vertical-align: top;\n",
       "    }\n",
       "\n",
       "    .dataframe thead th {\n",
       "        text-align: right;\n",
       "    }\n",
       "</style>\n",
       "<table border=\"1\" class=\"dataframe\">\n",
       "  <thead>\n",
       "    <tr style=\"text-align: right;\">\n",
       "      <th></th>\n",
       "      <th>Feature</th>\n",
       "      <th>Importance</th>\n",
       "      <th>Importance</th>\n",
       "      <th>Importance</th>\n",
       "      <th>Importance</th>\n",
       "      <th>Importance</th>\n",
       "    </tr>\n",
       "  </thead>\n",
       "  <tbody>\n",
       "    <tr>\n",
       "      <th>0</th>\n",
       "      <td>efficiency</td>\n",
       "      <td>0.060863</td>\n",
       "      <td>0.044895</td>\n",
       "      <td>0.053143</td>\n",
       "      <td>0.061173</td>\n",
       "      <td>0.075704</td>\n",
       "    </tr>\n",
       "    <tr>\n",
       "      <th>1</th>\n",
       "      <td>eig_central</td>\n",
       "      <td>0.051632</td>\n",
       "      <td>0.035542</td>\n",
       "      <td>0.054961</td>\n",
       "      <td>0.084400</td>\n",
       "      <td>0.044850</td>\n",
       "    </tr>\n",
       "    <tr>\n",
       "      <th>2</th>\n",
       "      <td>in_degree</td>\n",
       "      <td>0.058045</td>\n",
       "      <td>0.050601</td>\n",
       "      <td>0.072728</td>\n",
       "      <td>0.073312</td>\n",
       "      <td>0.092546</td>\n",
       "    </tr>\n",
       "    <tr>\n",
       "      <th>3</th>\n",
       "      <td>k_core</td>\n",
       "      <td>0.068062</td>\n",
       "      <td>0.039039</td>\n",
       "      <td>0.052569</td>\n",
       "      <td>0.069650</td>\n",
       "      <td>0.084118</td>\n",
       "    </tr>\n",
       "    <tr>\n",
       "      <th>4</th>\n",
       "      <td>out_degree</td>\n",
       "      <td>0.063317</td>\n",
       "      <td>0.044327</td>\n",
       "      <td>0.057244</td>\n",
       "      <td>0.081927</td>\n",
       "      <td>0.045419</td>\n",
       "    </tr>\n",
       "    <tr>\n",
       "      <th>5</th>\n",
       "      <td>views</td>\n",
       "      <td>0.110404</td>\n",
       "      <td>0.074521</td>\n",
       "      <td>0.096531</td>\n",
       "      <td>0.120972</td>\n",
       "      <td>0.117022</td>\n",
       "    </tr>\n",
       "    <tr>\n",
       "      <th>6</th>\n",
       "      <td>age</td>\n",
       "      <td>0.061193</td>\n",
       "      <td>0.085025</td>\n",
       "      <td>0.083309</td>\n",
       "      <td>0.077443</td>\n",
       "      <td>0.068109</td>\n",
       "    </tr>\n",
       "    <tr>\n",
       "      <th>7</th>\n",
       "      <td>d_birth</td>\n",
       "      <td>0.116025</td>\n",
       "      <td>0.125613</td>\n",
       "      <td>0.077692</td>\n",
       "      <td>0.082416</td>\n",
       "      <td>0.066683</td>\n",
       "    </tr>\n",
       "    <tr>\n",
       "      <th>8</th>\n",
       "      <td>d_death</td>\n",
       "      <td>0.051848</td>\n",
       "      <td>0.058075</td>\n",
       "      <td>0.079549</td>\n",
       "      <td>0.031079</td>\n",
       "      <td>0.037706</td>\n",
       "    </tr>\n",
       "    <tr>\n",
       "      <th>9</th>\n",
       "      <td>nationalities</td>\n",
       "      <td>0.025871</td>\n",
       "      <td>0.011096</td>\n",
       "      <td>0.033611</td>\n",
       "      <td>0.037052</td>\n",
       "      <td>0.081519</td>\n",
       "    </tr>\n",
       "    <tr>\n",
       "      <th>10</th>\n",
       "      <td>party_num</td>\n",
       "      <td>0.059204</td>\n",
       "      <td>0.089512</td>\n",
       "      <td>0.174566</td>\n",
       "      <td>0.051571</td>\n",
       "      <td>0.056588</td>\n",
       "    </tr>\n",
       "    <tr>\n",
       "      <th>11</th>\n",
       "      <td>occupations</td>\n",
       "      <td>0.046058</td>\n",
       "      <td>0.040586</td>\n",
       "      <td>0.022289</td>\n",
       "      <td>0.028804</td>\n",
       "      <td>0.036982</td>\n",
       "    </tr>\n",
       "    <tr>\n",
       "      <th>12</th>\n",
       "      <td>writer</td>\n",
       "      <td>0.020341</td>\n",
       "      <td>0.023773</td>\n",
       "      <td>0.014113</td>\n",
       "      <td>0.012211</td>\n",
       "      <td>0.018187</td>\n",
       "    </tr>\n",
       "    <tr>\n",
       "      <th>13</th>\n",
       "      <td>scientist</td>\n",
       "      <td>0.004941</td>\n",
       "      <td>0.006263</td>\n",
       "      <td>0.005279</td>\n",
       "      <td>0.003118</td>\n",
       "      <td>0.037675</td>\n",
       "    </tr>\n",
       "    <tr>\n",
       "      <th>14</th>\n",
       "      <td>journalist</td>\n",
       "      <td>0.001849</td>\n",
       "      <td>0.004740</td>\n",
       "      <td>0.001594</td>\n",
       "      <td>0.012710</td>\n",
       "      <td>0.013492</td>\n",
       "    </tr>\n",
       "    <tr>\n",
       "      <th>15</th>\n",
       "      <td>economist</td>\n",
       "      <td>0.000583</td>\n",
       "      <td>0.005025</td>\n",
       "      <td>0.001395</td>\n",
       "      <td>0.000000</td>\n",
       "      <td>0.002083</td>\n",
       "    </tr>\n",
       "    <tr>\n",
       "      <th>16</th>\n",
       "      <td>historian</td>\n",
       "      <td>0.000222</td>\n",
       "      <td>0.000869</td>\n",
       "      <td>0.000611</td>\n",
       "      <td>0.004710</td>\n",
       "      <td>0.002796</td>\n",
       "    </tr>\n",
       "    <tr>\n",
       "      <th>17</th>\n",
       "      <td>athleate</td>\n",
       "      <td>0.005707</td>\n",
       "      <td>0.000770</td>\n",
       "      <td>0.000765</td>\n",
       "      <td>0.001473</td>\n",
       "      <td>0.006722</td>\n",
       "    </tr>\n",
       "    <tr>\n",
       "      <th>18</th>\n",
       "      <td>lawyer</td>\n",
       "      <td>0.007751</td>\n",
       "      <td>0.002338</td>\n",
       "      <td>0.002829</td>\n",
       "      <td>0.018256</td>\n",
       "      <td>0.001450</td>\n",
       "    </tr>\n",
       "    <tr>\n",
       "      <th>19</th>\n",
       "      <td>physician</td>\n",
       "      <td>0.000950</td>\n",
       "      <td>0.000753</td>\n",
       "      <td>0.001108</td>\n",
       "      <td>0.000975</td>\n",
       "      <td>0.000000</td>\n",
       "    </tr>\n",
       "    <tr>\n",
       "      <th>20</th>\n",
       "      <td>actor</td>\n",
       "      <td>0.005680</td>\n",
       "      <td>0.001911</td>\n",
       "      <td>0.001427</td>\n",
       "      <td>0.001838</td>\n",
       "      <td>0.005219</td>\n",
       "    </tr>\n",
       "    <tr>\n",
       "      <th>21</th>\n",
       "      <td>other_o</td>\n",
       "      <td>0.037662</td>\n",
       "      <td>0.031373</td>\n",
       "      <td>0.019293</td>\n",
       "      <td>0.030253</td>\n",
       "      <td>0.029057</td>\n",
       "    </tr>\n",
       "    <tr>\n",
       "      <th>22</th>\n",
       "      <td>is_alive</td>\n",
       "      <td>0.141793</td>\n",
       "      <td>0.223354</td>\n",
       "      <td>0.093395</td>\n",
       "      <td>0.114656</td>\n",
       "      <td>0.076074</td>\n",
       "    </tr>\n",
       "  </tbody>\n",
       "</table>\n",
       "</div>"
      ],
      "text/plain": [
       "          Feature  Importance  Importance  Importance  Importance  Importance\n",
       "0      efficiency    0.060863    0.044895    0.053143    0.061173    0.075704\n",
       "1     eig_central    0.051632    0.035542    0.054961    0.084400    0.044850\n",
       "2       in_degree    0.058045    0.050601    0.072728    0.073312    0.092546\n",
       "3          k_core    0.068062    0.039039    0.052569    0.069650    0.084118\n",
       "4      out_degree    0.063317    0.044327    0.057244    0.081927    0.045419\n",
       "5           views    0.110404    0.074521    0.096531    0.120972    0.117022\n",
       "6             age    0.061193    0.085025    0.083309    0.077443    0.068109\n",
       "7         d_birth    0.116025    0.125613    0.077692    0.082416    0.066683\n",
       "8         d_death    0.051848    0.058075    0.079549    0.031079    0.037706\n",
       "9   nationalities    0.025871    0.011096    0.033611    0.037052    0.081519\n",
       "10      party_num    0.059204    0.089512    0.174566    0.051571    0.056588\n",
       "11    occupations    0.046058    0.040586    0.022289    0.028804    0.036982\n",
       "12         writer    0.020341    0.023773    0.014113    0.012211    0.018187\n",
       "13      scientist    0.004941    0.006263    0.005279    0.003118    0.037675\n",
       "14     journalist    0.001849    0.004740    0.001594    0.012710    0.013492\n",
       "15      economist    0.000583    0.005025    0.001395    0.000000    0.002083\n",
       "16      historian    0.000222    0.000869    0.000611    0.004710    0.002796\n",
       "17       athleate    0.005707    0.000770    0.000765    0.001473    0.006722\n",
       "18         lawyer    0.007751    0.002338    0.002829    0.018256    0.001450\n",
       "19      physician    0.000950    0.000753    0.001108    0.000975    0.000000\n",
       "20          actor    0.005680    0.001911    0.001427    0.001838    0.005219\n",
       "21        other_o    0.037662    0.031373    0.019293    0.030253    0.029057\n",
       "22       is_alive    0.141793    0.223354    0.093395    0.114656    0.076074"
      ]
     },
     "execution_count": 76,
     "metadata": {},
     "output_type": "execute_result"
    }
   ],
   "source": [
    "df = pd.concat(lst, axis=1)\n",
    "# atrs = df.Feature\n",
    "atrs = df.take([0], axis=1)\n",
    "atrs = atrs.replace({\n",
    "    \"wrt\":\"writer\",\n",
    "    \"sci\":\"scientist\",\n",
    "    \"jur\":\"journalist\",\n",
    "    \"eco\":\"economist\",\n",
    "    \"hst\":\"historian\",\n",
    "    \"spo\":\"athleate\",\n",
    "    \"lyr\":\"lawyer\",\n",
    "    \"phs\":\"physician\",\n",
    "    \"act\":\"actor\",\n",
    "    \"distance_birth\":\"d_birth\",\n",
    "    \"distance_death\":\"d_death\",\n",
    "    \"nationality_num\":\"nationalities\",\n",
    "    \"occupation_num\":\"occupations\",\n",
    "    \"year_interval_1\":\"interval_1\",\n",
    "    \"year_interval_2\":\"interval_2\",\n",
    "    \"year_interval_3\":\"interval_3\",\n",
    "    \"is_alive_unknown\":\"alive_unknown\",\n",
    "    \"is_alive_yes\":\"is_alive\"\n",
    "})\n",
    "us = df.take([1], axis=1)\n",
    "de = df.take([3], axis=1)\n",
    "fr = df.take([5], axis=1)\n",
    "gb = df.take([7], axis=1)\n",
    "ru = df.take([9], axis=1)\n",
    "\n",
    "# df = df.drop(df.columns[2],axis=1)\n",
    "# table = pd.DataFrame({\n",
    "#     \"Attribute\": atrs,\n",
    "#     \"USA\": us,\n",
    "#     \"Germany\": de,\n",
    "#     \"France\":fr,\n",
    "#     \"Great Britain\": gb,\n",
    "#     \"Russia\": ru\n",
    "# })\n",
    "# table[\"Attribute\"] = atrs\n",
    "# table[\"USA\"] = us\n",
    "# table[\"Germany\"] = de\n",
    "# table[\"France\"] = fr\n",
    "# table[\"Great Britain\"] = gb\n",
    "# table[\"Russia\"] = ru\n",
    "table = pd.concat([atrs, us,de,fr,gb,ru],axis=1)\n",
    "table"
   ]
  },
  {
   "cell_type": "code",
   "execution_count": 77,
   "metadata": {
    "collapsed": false
   },
   "outputs": [
    {
     "name": "stdout",
     "output_type": "stream",
     "text": [
      "\\begin{tabular}{|c|c|c|c|c|}\n",
      "\\hline\n",
      "       Feature &  Importance &  Importance &  Importance &  Importance &  Importance \\\\\n",
      "\\hline\n",
      "    efficiency &        0.06 &        0.04 &        0.05 &        0.06 &        0.08 \\\\\n",
      "\\hline   eig\\_central &        0.05 &        0.04 &        0.05 &        0.08 &        0.04 \\\\\n",
      "\\hline     in\\_degree &        0.06 &        0.05 &        0.07 &        0.07 &        0.09 \\\\\n",
      "\\hline        k\\_core &        0.07 &        0.04 &        0.05 &        0.07 &        0.08 \\\\\n",
      "\\hline    out\\_degree &        0.06 &        0.04 &        0.06 &        0.08 &        0.05 \\\\\n",
      "\\hline         views &        0.11 &        0.07 &        0.10 &        0.12 &        0.12 \\\\\n",
      "\\hline           age &        0.06 &        0.09 &        0.08 &        0.08 &        0.07 \\\\\n",
      "\\hline       d\\_birth &        0.12 &        0.13 &        0.08 &        0.08 &        0.07 \\\\\n",
      "\\hline       d\\_death &        0.05 &        0.06 &        0.08 &        0.03 &        0.04 \\\\\n",
      "\\hline nationalities &        0.03 &        0.01 &        0.03 &        0.04 &        0.08 \\\\\n",
      "\\hline     party\\_num &        0.06 &        0.09 &        0.17 &        0.05 &        0.06 \\\\\n",
      "\\hline   occupations &        0.05 &        0.04 &        0.02 &        0.03 &        0.04 \\\\\n",
      "\\hline        writer &        0.02 &        0.02 &        0.01 &        0.01 &        0.02 \\\\\n",
      "\\hline     scientist &        0.00 &        0.01 &        0.01 &        0.00 &        0.04 \\\\\n",
      "\\hline    journalist &        0.00 &        0.00 &        0.00 &        0.01 &        0.01 \\\\\n",
      "\\hline     economist &        0.00 &        0.01 &        0.00 &        0.00 &        0.00 \\\\\n",
      "\\hline     historian &        0.00 &        0.00 &        0.00 &        0.00 &        0.00 \\\\\n",
      "\\hline      athleate &        0.01 &        0.00 &        0.00 &        0.00 &        0.01 \\\\\n",
      "\\hline        lawyer &        0.01 &        0.00 &        0.00 &        0.02 &        0.00 \\\\\n",
      "\\hline     physician &        0.00 &        0.00 &        0.00 &        0.00 &        0.00 \\\\\n",
      "\\hline         actor &        0.01 &        0.00 &        0.00 &        0.00 &        0.01 \\\\\n",
      "\\hline       other\\_o &        0.04 &        0.03 &        0.02 &        0.03 &        0.03 \\\\\n",
      "\\hline      is\\_alive &        0.14 &        0.22 &        0.09 &        0.11 &        0.08 \\\\\n",
      "\\hline\n",
      "\\end{tabular}\n",
      "\n"
     ]
    }
   ],
   "source": [
    "print_latex(table)"
   ]
  },
  {
   "cell_type": "code",
   "execution_count": 78,
   "metadata": {
    "collapsed": true
   },
   "outputs": [],
   "source": [
    "# us = x[0][1][\"USA\"] = x[0][1].apply(lambda x:x[\"Feature\"], axis=1).reset_index(drop=True)\n",
    "# de = x[1][1][\"Germany\"] = x[1][1].apply(lambda x:x[\"Feature\"], axis=1).reset_index(drop=True)\n",
    "# fr = x[2][1][\"France\"] = x[2][1].apply(lambda x:x[\"Feature\"], axis=1).reset_index(drop=True)\n",
    "# gb = x[3][1][\"Great Britain\"] = x[3][1].apply(lambda x:x[\"Feature\"], axis=1).reset_index(drop=True)\n",
    "# ru = x[4][1][\"Russia\"] = x[4][1].apply(lambda x:x[\"Feature\"], axis=1).reset_index(drop=True)\n",
    "# lst = [us,de,fr,gb,ru]"
   ]
  },
  {
   "cell_type": "code",
   "execution_count": 79,
   "metadata": {
    "collapsed": true
   },
   "outputs": [],
   "source": [
    "# df = pd.concat(lst,axis=1)\n",
    "# df.columns = [\"USA\", \"Germany\", \"France\", \"Great Britain\", \"Russia\"]\n",
    "# print_latex(df.head(10))"
   ]
  },
  {
   "cell_type": "code",
   "execution_count": 80,
   "metadata": {
    "collapsed": true
   },
   "outputs": [],
   "source": [
    "# log_reg.coef_"
   ]
  },
  {
   "cell_type": "code",
   "execution_count": 81,
   "metadata": {
    "collapsed": true
   },
   "outputs": [],
   "source": [
    "# X = X.drop([\"is_alive_no\"], axis=1)\n",
    "# print(X)\n",
    "# model = sm.Logit(y, X)\n",
    " \n",
    "# result = model.fit()"
   ]
  },
  {
   "cell_type": "markdown",
   "metadata": {},
   "source": [
    "# Logistic regression coefficients - Feature Omportance for Countries"
   ]
  },
  {
   "cell_type": "code",
   "execution_count": 82,
   "metadata": {
    "collapsed": true
   },
   "outputs": [],
   "source": [
    "def p_to_star(p_value):\n",
    "    if p_value <= 0.001:\n",
    "        return \"***\"\n",
    "    if p_value <= 0.01:\n",
    "        return \"**\"\n",
    "    if p_value <= 0.05:\n",
    "        return \"*\"\n",
    "    return \"\"\n",
    "\n",
    "def get_coefs_log_reg(X,y):\n",
    "    # X = X.drop([\"is_alive_no\"], axis=1)\n",
    "    # print(X)\n",
    "    model = sm.Logit(y, X)\n",
    "    result = model.fit(method='bfgs')\n",
    "    df = pd.DataFrame({\n",
    "        \"Atribute\": X.columns,\n",
    "        \"coef\": result.params,\n",
    "        \"P-Value\": result.pvalues,\n",
    "    })\n",
    "    df[\"p_value\"] = df[\"P-Value\"].apply(lambda x: p_to_star(x))\n",
    "    df[\"Coefficient\"] = df.apply(lambda x: str(round(x[\"coef\"],3))+x[\"p_value\"], axis=1)\n",
    "    return df.round(2).drop([\"coef\", \"p_value\", \"P-Value\"], axis=1)"
   ]
  },
  {
   "cell_type": "code",
   "execution_count": 83,
   "metadata": {
    "collapsed": true
   },
   "outputs": [],
   "source": [
    "# print_latex(get_coefs_log_reg(X,y))"
   ]
  },
  {
   "cell_type": "code",
   "execution_count": 112,
   "metadata": {
    "collapsed": true
   },
   "outputs": [],
   "source": [
    "def generate_coef_plot(country_dict,path):\n",
    "    lst = []\n",
    "    for k,v in country_dict.items():\n",
    "        data = pd.read_pickle(\"{}/2016_{}\".format(path, v))\n",
    "        data = preprocess_data_frame(data,[\"gender\"])\n",
    "        data = normalize.zscore_wikipedia_entered(data, [\"eig_central\",\"in_degree\",\"k_core\",\"out_degree\",\"efficiency\",\"views\"])\n",
    "        data = data.drop([\"entered\",\"index\",\"is_alive_no\",\"is_alive_unknown\",\"ply\",\"distance_delta\",\"other_p\",\"year_interval_1\",\n",
    "                          \"year_interval_2\",\"year_interval_3\",\"party1\",\"party2\",\"party3\"],axis=1)\n",
    "        X,y = split_dataframe(data,\"gender\")\n",
    "        model = sm.Logit(y, X)\n",
    "        try:\n",
    "            result = model.fit(method='bfgs')\n",
    "        except:\n",
    "            print(\"Jbg\")\n",
    "        p_v = pd.DataFrame(round(result.pvalues,5), columns=[\"p_value\"])\n",
    "        coef = pd.DataFrame(np.exp(result.params),columns=[\"coef\"])\n",
    "        df = pd.concat([coef,p_v],axis=1)\n",
    "        df[\"p_value\"] = df[\"p_value\"].apply(lambda x: p_to_star(x))\n",
    "        \n",
    "        # todo\n",
    "        # math.exp(x[\"coef\"])\n",
    "        \n",
    "        df[k] = df.apply(lambda x: str(round(x[\"coef\"],4))+x[\"p_value\"], axis=1)\n",
    "        lst.append(df[k])\n",
    "        df = pd.concat(lst,axis=1)\n",
    "        x = df.index.values\n",
    "        x = pd.Series(x, index=df.index)\n",
    "        x = x.replace({\n",
    "            \"wrt\":\"writer\",\n",
    "            \"sci\":\"scientist\",\n",
    "            \"jur\":\"journalist\",\n",
    "            \"eco\":\"economist\",\n",
    "            \"hst\":\"historian\",\n",
    "            \"spo\":\"athleate\",\n",
    "            \"lyr\":\"lawyer\",\n",
    "            \"phs\":\"physician\",\n",
    "            \"act\":\"actor\",\n",
    "            \"distance_birth\":\"d_birth\",\n",
    "            \"distance_death\":\"d_death\",\n",
    "            \"nationality_num\":\"nationalities\",\n",
    "            \"occupation_num\":\"occupations\",\n",
    "            \"year_interval_1\":\"interval_1\",\n",
    "            \"year_interval_2\":\"interval_2\",\n",
    "            \"year_interval_3\":\"interval_3\",\n",
    "            \"is_alive_unknown\":\"alive_unknown\",\n",
    "            \"is_alive_yes\":\"is_alive\"\n",
    "        })\n",
    "        df[\"Attribute\"] = x\n",
    "    return df"
   ]
  },
  {
   "cell_type": "code",
   "execution_count": 113,
   "metadata": {
    "collapsed": false
   },
   "outputs": [
    {
     "name": "stdout",
     "output_type": "stream",
     "text": [
      "['female', 'male']\n",
      "{0, 1}\n",
      "[0, 1]\n",
      "{0, 1}\n",
      "Warning: Maximum number of iterations has been exceeded.\n",
      "         Current function value: 0.385150\n",
      "         Iterations: 35\n",
      "         Function evaluations: 41\n",
      "         Gradient evaluations: 41\n",
      "['female', 'male']\n",
      "{0, 1}\n",
      "[0, 1]\n",
      "{0, 1}\n",
      "Warning: Maximum number of iterations has been exceeded.\n",
      "         Current function value: 0.324599\n",
      "         Iterations: 35\n",
      "         Function evaluations: 41\n",
      "         Gradient evaluations: 41\n",
      "['female', 'male']\n",
      "{0, 1}\n",
      "[0, 1]\n",
      "{0, 1}\n",
      "Warning: Maximum number of iterations has been exceeded.\n",
      "         Current function value: 0.312641\n",
      "         Iterations: 35\n",
      "         Function evaluations: 41\n",
      "         Gradient evaluations: 41\n",
      "['female', 'male']\n",
      "{0, 1}\n",
      "[0, 1]\n",
      "{0, 1}\n",
      "Warning: Maximum number of iterations has been exceeded.\n",
      "         Current function value: 0.368935\n",
      "         Iterations: 35\n",
      "         Function evaluations: 41\n",
      "         Gradient evaluations: 41\n",
      "['female', 'male']\n",
      "{0, 1}\n",
      "[0, 1]\n",
      "{0, 1}\n",
      "Warning: Maximum number of iterations has been exceeded.\n",
      "         Current function value: 0.260878\n",
      "         Iterations: 35\n",
      "         Function evaluations: 40\n",
      "         Gradient evaluations: 40\n"
     ]
    }
   ],
   "source": [
    "path = \"../data/final_sets/countries/model_large/\"\n",
    "table = generate_coef_plot(country_dict, path)"
   ]
  },
  {
   "cell_type": "code",
   "execution_count": 114,
   "metadata": {
    "collapsed": false
   },
   "outputs": [
    {
     "data": {
      "text/html": [
       "<div>\n",
       "<style scoped>\n",
       "    .dataframe tbody tr th:only-of-type {\n",
       "        vertical-align: middle;\n",
       "    }\n",
       "\n",
       "    .dataframe tbody tr th {\n",
       "        vertical-align: top;\n",
       "    }\n",
       "\n",
       "    .dataframe thead th {\n",
       "        text-align: right;\n",
       "    }\n",
       "</style>\n",
       "<table border=\"1\" class=\"dataframe\">\n",
       "  <thead>\n",
       "    <tr style=\"text-align: right;\">\n",
       "      <th></th>\n",
       "      <th>Attribute</th>\n",
       "      <th>USA</th>\n",
       "      <th>Germany</th>\n",
       "      <th>France</th>\n",
       "      <th>Great Britain</th>\n",
       "      <th>Russia</th>\n",
       "    </tr>\n",
       "  </thead>\n",
       "  <tbody>\n",
       "    <tr>\n",
       "      <th>efficiency</th>\n",
       "      <td>efficiency</td>\n",
       "      <td>1.0166</td>\n",
       "      <td>1.1081</td>\n",
       "      <td>0.9304</td>\n",
       "      <td>0.9554</td>\n",
       "      <td>1.0473</td>\n",
       "    </tr>\n",
       "    <tr>\n",
       "      <th>eig_central</th>\n",
       "      <td>eig_central</td>\n",
       "      <td>0.9919</td>\n",
       "      <td>1.2763</td>\n",
       "      <td>1.2512</td>\n",
       "      <td>0.908</td>\n",
       "      <td>0.9338</td>\n",
       "    </tr>\n",
       "    <tr>\n",
       "      <th>in_degree</th>\n",
       "      <td>in_degree</td>\n",
       "      <td>1.1254</td>\n",
       "      <td>0.915</td>\n",
       "      <td>1.1027</td>\n",
       "      <td>0.9023</td>\n",
       "      <td>1.0563</td>\n",
       "    </tr>\n",
       "    <tr>\n",
       "      <th>k_core</th>\n",
       "      <td>k_core</td>\n",
       "      <td>0.8553</td>\n",
       "      <td>1.4524</td>\n",
       "      <td>0.7988</td>\n",
       "      <td>2.3656*</td>\n",
       "      <td>1.2941</td>\n",
       "    </tr>\n",
       "    <tr>\n",
       "      <th>out_degree</th>\n",
       "      <td>out_degree</td>\n",
       "      <td>1.1621</td>\n",
       "      <td>0.6529*</td>\n",
       "      <td>0.8547</td>\n",
       "      <td>0.5714</td>\n",
       "      <td>0.652</td>\n",
       "    </tr>\n",
       "    <tr>\n",
       "      <th>views</th>\n",
       "      <td>views</td>\n",
       "      <td>0.9115*</td>\n",
       "      <td>0.8921</td>\n",
       "      <td>0.9527</td>\n",
       "      <td>0.8192</td>\n",
       "      <td>0.7614</td>\n",
       "    </tr>\n",
       "    <tr>\n",
       "      <th>age</th>\n",
       "      <td>age</td>\n",
       "      <td>0.999</td>\n",
       "      <td>0.9926</td>\n",
       "      <td>1.0167**</td>\n",
       "      <td>0.9962</td>\n",
       "      <td>1.0209*</td>\n",
       "    </tr>\n",
       "    <tr>\n",
       "      <th>distance_birth</th>\n",
       "      <td>d_birth</td>\n",
       "      <td>1.01***</td>\n",
       "      <td>1.0147*</td>\n",
       "      <td>0.9987</td>\n",
       "      <td>1.0028</td>\n",
       "      <td>0.9882</td>\n",
       "    </tr>\n",
       "    <tr>\n",
       "      <th>distance_death</th>\n",
       "      <td>d_death</td>\n",
       "      <td>1.0072**</td>\n",
       "      <td>1.0015</td>\n",
       "      <td>1.0111*</td>\n",
       "      <td>1.0135</td>\n",
       "      <td>1.0105</td>\n",
       "    </tr>\n",
       "    <tr>\n",
       "      <th>nationality_num</th>\n",
       "      <td>nationalities</td>\n",
       "      <td>1.6129***</td>\n",
       "      <td>0.8633</td>\n",
       "      <td>0.7818</td>\n",
       "      <td>1.2205</td>\n",
       "      <td>0.9345</td>\n",
       "    </tr>\n",
       "    <tr>\n",
       "      <th>party_num</th>\n",
       "      <td>party_num</td>\n",
       "      <td>1.2786**</td>\n",
       "      <td>0.8765</td>\n",
       "      <td>1.5286**</td>\n",
       "      <td>1.4574</td>\n",
       "      <td>1.4546</td>\n",
       "    </tr>\n",
       "    <tr>\n",
       "      <th>occupation_num</th>\n",
       "      <td>occupations</td>\n",
       "      <td>1.1937**</td>\n",
       "      <td>1.1966</td>\n",
       "      <td>1.6484*</td>\n",
       "      <td>0.8894</td>\n",
       "      <td>1.6984</td>\n",
       "    </tr>\n",
       "    <tr>\n",
       "      <th>wrt</th>\n",
       "      <td>writer</td>\n",
       "      <td>0.6959</td>\n",
       "      <td>1.2621</td>\n",
       "      <td>4.4967*</td>\n",
       "      <td>1.7746</td>\n",
       "      <td>0.8657</td>\n",
       "    </tr>\n",
       "    <tr>\n",
       "      <th>sci</th>\n",
       "      <td>scientist</td>\n",
       "      <td>1.066</td>\n",
       "      <td>4.5525*</td>\n",
       "      <td>1.5494</td>\n",
       "      <td>8.0954</td>\n",
       "      <td>2.4427</td>\n",
       "    </tr>\n",
       "    <tr>\n",
       "      <th>jur</th>\n",
       "      <td>journalist</td>\n",
       "      <td>1.0101</td>\n",
       "      <td>2.2006</td>\n",
       "      <td>0.9165</td>\n",
       "      <td>2.1095</td>\n",
       "      <td>0.874</td>\n",
       "    </tr>\n",
       "    <tr>\n",
       "      <th>eco</th>\n",
       "      <td>economist</td>\n",
       "      <td>1.0173</td>\n",
       "      <td>2.2234</td>\n",
       "      <td>1.3689</td>\n",
       "      <td>1.7966</td>\n",
       "      <td>1.2565</td>\n",
       "    </tr>\n",
       "    <tr>\n",
       "      <th>hst</th>\n",
       "      <td>historian</td>\n",
       "      <td>1.1131</td>\n",
       "      <td>1.8661</td>\n",
       "      <td>1.2754</td>\n",
       "      <td>0.99</td>\n",
       "      <td>1.3832</td>\n",
       "    </tr>\n",
       "    <tr>\n",
       "      <th>spo</th>\n",
       "      <td>athleate</td>\n",
       "      <td>2.4562*</td>\n",
       "      <td>1.0096</td>\n",
       "      <td>1.2724</td>\n",
       "      <td>2.3027</td>\n",
       "      <td>1.3299</td>\n",
       "    </tr>\n",
       "    <tr>\n",
       "      <th>lyr</th>\n",
       "      <td>lawyer</td>\n",
       "      <td>3.2285***</td>\n",
       "      <td>1.7719</td>\n",
       "      <td>0.8255</td>\n",
       "      <td>0.0786</td>\n",
       "      <td>0.7446</td>\n",
       "    </tr>\n",
       "    <tr>\n",
       "      <th>phs</th>\n",
       "      <td>physician</td>\n",
       "      <td>1.057</td>\n",
       "      <td>1.1055</td>\n",
       "      <td>0.771</td>\n",
       "      <td>1.6904</td>\n",
       "      <td>1.1197</td>\n",
       "    </tr>\n",
       "    <tr>\n",
       "      <th>act</th>\n",
       "      <td>actor</td>\n",
       "      <td>0.7934</td>\n",
       "      <td>2.0798</td>\n",
       "      <td>0.7853</td>\n",
       "      <td>0.4674</td>\n",
       "      <td>0.9178</td>\n",
       "    </tr>\n",
       "    <tr>\n",
       "      <th>other_o</th>\n",
       "      <td>other_o</td>\n",
       "      <td>1.3216</td>\n",
       "      <td>6.051***</td>\n",
       "      <td>3.2846**</td>\n",
       "      <td>3.7159*</td>\n",
       "      <td>5.7867**</td>\n",
       "    </tr>\n",
       "    <tr>\n",
       "      <th>is_alive_yes</th>\n",
       "      <td>is_alive</td>\n",
       "      <td>0.55***</td>\n",
       "      <td>0.2488***</td>\n",
       "      <td>0.1909***</td>\n",
       "      <td>0.9869</td>\n",
       "      <td>0.7092</td>\n",
       "    </tr>\n",
       "  </tbody>\n",
       "</table>\n",
       "</div>"
      ],
      "text/plain": [
       "                     Attribute        USA    Germany     France Great Britain  \\\n",
       "efficiency          efficiency     1.0166     1.1081     0.9304        0.9554   \n",
       "eig_central        eig_central     0.9919     1.2763     1.2512         0.908   \n",
       "in_degree            in_degree     1.1254      0.915     1.1027        0.9023   \n",
       "k_core                  k_core     0.8553     1.4524     0.7988       2.3656*   \n",
       "out_degree          out_degree     1.1621    0.6529*     0.8547        0.5714   \n",
       "views                    views    0.9115*     0.8921     0.9527        0.8192   \n",
       "age                        age      0.999     0.9926   1.0167**        0.9962   \n",
       "distance_birth         d_birth    1.01***    1.0147*     0.9987        1.0028   \n",
       "distance_death         d_death   1.0072**     1.0015    1.0111*        1.0135   \n",
       "nationality_num  nationalities  1.6129***     0.8633     0.7818        1.2205   \n",
       "party_num            party_num   1.2786**     0.8765   1.5286**        1.4574   \n",
       "occupation_num     occupations   1.1937**     1.1966    1.6484*        0.8894   \n",
       "wrt                     writer     0.6959     1.2621    4.4967*        1.7746   \n",
       "sci                  scientist      1.066    4.5525*     1.5494        8.0954   \n",
       "jur                 journalist     1.0101     2.2006     0.9165        2.1095   \n",
       "eco                  economist     1.0173     2.2234     1.3689        1.7966   \n",
       "hst                  historian     1.1131     1.8661     1.2754          0.99   \n",
       "spo                   athleate    2.4562*     1.0096     1.2724        2.3027   \n",
       "lyr                     lawyer  3.2285***     1.7719     0.8255        0.0786   \n",
       "phs                  physician      1.057     1.1055      0.771        1.6904   \n",
       "act                      actor     0.7934     2.0798     0.7853        0.4674   \n",
       "other_o                other_o     1.3216   6.051***   3.2846**       3.7159*   \n",
       "is_alive_yes          is_alive    0.55***  0.2488***  0.1909***        0.9869   \n",
       "\n",
       "                   Russia  \n",
       "efficiency         1.0473  \n",
       "eig_central        0.9338  \n",
       "in_degree          1.0563  \n",
       "k_core             1.2941  \n",
       "out_degree          0.652  \n",
       "views              0.7614  \n",
       "age               1.0209*  \n",
       "distance_birth     0.9882  \n",
       "distance_death     1.0105  \n",
       "nationality_num    0.9345  \n",
       "party_num          1.4546  \n",
       "occupation_num     1.6984  \n",
       "wrt                0.8657  \n",
       "sci                2.4427  \n",
       "jur                 0.874  \n",
       "eco                1.2565  \n",
       "hst                1.3832  \n",
       "spo                1.3299  \n",
       "lyr                0.7446  \n",
       "phs                1.1197  \n",
       "act                0.9178  \n",
       "other_o          5.7867**  \n",
       "is_alive_yes       0.7092  "
      ]
     },
     "execution_count": 114,
     "metadata": {},
     "output_type": "execute_result"
    }
   ],
   "source": [
    "cols = table.columns.tolist()\n",
    "cols = cols[-1:] + cols[:-1]\n",
    "table = table[cols]\n",
    "table"
   ]
  },
  {
   "cell_type": "code",
   "execution_count": 115,
   "metadata": {
    "collapsed": false
   },
   "outputs": [
    {
     "name": "stdout",
     "output_type": "stream",
     "text": [
      "\\begin{tabular}{|c|c|c|c|c|}\n",
      "\\hline\n",
      "     Attribute &        USA &    Germany &     France & Great Britain &    Russia \\\\\n",
      "\\hline\n",
      "    efficiency &     1.0166 &     1.1081 &     0.9304 &        0.9554 &    1.0473 \\\\\n",
      "\\hline   eig\\_central &     0.9919 &     1.2763 &     1.2512 &         0.908 &    0.9338 \\\\\n",
      "\\hline     in\\_degree &     1.1254 &      0.915 &     1.1027 &        0.9023 &    1.0563 \\\\\n",
      "\\hline        k\\_core &     0.8553 &     1.4524 &     0.7988 &       2.3656* &    1.2941 \\\\\n",
      "\\hline    out\\_degree &     1.1621 &    0.6529* &     0.8547 &        0.5714 &     0.652 \\\\\n",
      "\\hline         views &    0.9115* &     0.8921 &     0.9527 &        0.8192 &    0.7614 \\\\\n",
      "\\hline           age &      0.999 &     0.9926 &   1.0167** &        0.9962 &   1.0209* \\\\\n",
      "\\hline       d\\_birth &    1.01*** &    1.0147* &     0.9987 &        1.0028 &    0.9882 \\\\\n",
      "\\hline       d\\_death &   1.0072** &     1.0015 &    1.0111* &        1.0135 &    1.0105 \\\\\n",
      "\\hline nationalities &  1.6129*** &     0.8633 &     0.7818 &        1.2205 &    0.9345 \\\\\n",
      "\\hline     party\\_num &   1.2786** &     0.8765 &   1.5286** &        1.4574 &    1.4546 \\\\\n",
      "\\hline   occupations &   1.1937** &     1.1966 &    1.6484* &        0.8894 &    1.6984 \\\\\n",
      "\\hline        writer &     0.6959 &     1.2621 &    4.4967* &        1.7746 &    0.8657 \\\\\n",
      "\\hline     scientist &      1.066 &    4.5525* &     1.5494 &        8.0954 &    2.4427 \\\\\n",
      "\\hline    journalist &     1.0101 &     2.2006 &     0.9165 &        2.1095 &     0.874 \\\\\n",
      "\\hline     economist &     1.0173 &     2.2234 &     1.3689 &        1.7966 &    1.2565 \\\\\n",
      "\\hline     historian &     1.1131 &     1.8661 &     1.2754 &          0.99 &    1.3832 \\\\\n",
      "\\hline      athleate &    2.4562* &     1.0096 &     1.2724 &        2.3027 &    1.3299 \\\\\n",
      "\\hline        lawyer &  3.2285*** &     1.7719 &     0.8255 &        0.0786 &    0.7446 \\\\\n",
      "\\hline     physician &      1.057 &     1.1055 &      0.771 &        1.6904 &    1.1197 \\\\\n",
      "\\hline         actor &     0.7934 &     2.0798 &     0.7853 &        0.4674 &    0.9178 \\\\\n",
      "\\hline       other\\_o &     1.3216 &   6.051*** &   3.2846** &       3.7159* &  5.7867** \\\\\n",
      "\\hline      is\\_alive &    0.55*** &  0.2488*** &  0.1909*** &        0.9869 &    0.7092 \\\\\n",
      "\\hline\n",
      "\\end{tabular}\n",
      "\n"
     ]
    }
   ],
   "source": [
    "print_latex(table)"
   ]
  },
  {
   "cell_type": "code",
   "execution_count": 88,
   "metadata": {
    "collapsed": true
   },
   "outputs": [],
   "source": [
    "def generate_coef_table_global(X,y):\n",
    "#     lst = []\n",
    "#         data = pd.read_pickle(\"{}/{}\".format(path, v))\n",
    "#         data = preprocess_data_frame(data,[\"gender\"])\n",
    "#         data = normalize.zscore_wikipedia_entered(data, [\"eig_central\",\"in_degree\",\"k_core\",\"out_degree\",\"efficiency\",\"views\"])\n",
    "#         data = data.drop([\"is_alive_unknown\", \"is_alive_no\",\"index\", \"year_interval_1\",\"year_interval_2\",\"year_interval_3\", \"ply\"],axis=1)\n",
    "#         X,y = split_dataframe(data,\"views\")\n",
    "    X = X.drop([\"index\",\"entered\"],axis=1)\n",
    "    X2 = sm.add_constant(X)\n",
    "    est = sm.OLS(y, X)\n",
    "    est2 = est.fit()\n",
    "    p_v = pd.DataFrame(round(est2.pvalues,5), columns=[\"p_value\"])\n",
    "    coef = pd.DataFrame(round(est2.params,4),columns=[\"coef\"])\n",
    "    df = pd.concat([coef,p_v],axis=1)\n",
    "    df[\"p_value\"] = df[\"p_value\"].apply(lambda x: p_to_star(x))\n",
    "    df[\"Coefficient\"] = df.apply(lambda x: str(x[\"coef\"])+x[\"p_value\"], axis=1)\n",
    "#     lst.append(df[k])\n",
    "#     df = pd.concat(lst,axis=1)\n",
    "    x = df.index.values\n",
    "    x = pd.Series(x, index=df.index)\n",
    "    x = x.replace({\n",
    "        \"wrt\":\"writer\",\n",
    "        \"sci\":\"scientist\",\n",
    "        \"jur\":\"journalist\",\n",
    "        \"eco\":\"economist\",\n",
    "        \"hst\":\"historian\",\n",
    "        \"spo\":\"athleate\",\n",
    "        \"lyr\":\"lawyer\",\n",
    "        \"phs\":\"physician\",\n",
    "        \"act\":\"actor\",\n",
    "        \"distance_birth\":\"d_birth\",\n",
    "        \"distance_death\":\"d_death\",\n",
    "        \"nationality_num\":\"nationalities\",\n",
    "        \"occupation_num\":\"occupations\",\n",
    "#             \"year_interval_1\":\"interval_1\",\n",
    "#             \"year_interval_2\":\"interval_2\",\n",
    "#             \"year_interval_3\":\"interval_3\",\n",
    "        \"is_alive_unknown\":\"alive_unknown\",\n",
    "        \"is_alive_yes\":\"is_alive\"\n",
    "    })\n",
    "    df[\"Attribute\"] = x\n",
    "    df = df.drop([\"p_value\",\"coef\"],axis=1)\n",
    "    return df"
   ]
  },
  {
   "cell_type": "code",
   "execution_count": 120,
   "metadata": {
    "collapsed": true
   },
   "outputs": [],
   "source": [
    "def generate_coef_tab_all(path):\n",
    "    data = pd.read_pickle(\"{}/2016\".format(path))\n",
    "    data = preprocess_data_frame(data,[\"gender\"])\n",
    "    data = normalize.zscore_wikipedia_entered(data, [\"eig_central\",\"in_degree\",\"k_core\",\"out_degree\",\"efficiency\",\"views\"])\n",
    "    data = data.drop([\"entered\",\"is_alive_unknown\", \"is_alive_no\",\"index\",\"ply\", 'us', 'de', 'fr', 'in', 'cd', 'no', 'ru', 'gb', 'other_n', 'dem', 'rep',\n",
    "       'indi', 'inc', 'cpc', 'bjp', 'other_p',\"year_interval_3\",\"year_interval_2\",\"year_interval_1\"],axis=1)\n",
    "    X,y = split_dataframe(data,\"gender\")\n",
    "#     print(X.head())\n",
    "#     print(y.head())\n",
    "    model = sm.Logit(y, X)\n",
    "    try:\n",
    "        result = model.fit()\n",
    "    except:\n",
    "        print(\"Jbg\")\n",
    "    p_v = pd.DataFrame(round(result.pvalues,5), columns=[\"p_value\"])\n",
    "#     print(result.pvalues)\n",
    "    coef = pd.DataFrame(np.exp(result.params),columns=[\"coef\"])\n",
    "    df = pd.concat([coef,p_v],axis=1)\n",
    "    df[\"p_value\"] = df[\"p_value\"].apply(lambda x: p_to_star(x))\n",
    "    df[\"All\"] = df.apply(lambda x: str(round(x[\"coef\"],4))+x[\"p_value\"], axis=1)\n",
    "    x = df.index.values\n",
    "    x = pd.Series(x, index=df.index)\n",
    "    x = x.replace({\n",
    "        \"wrt\":\"writer\",\n",
    "        \"sci\":\"scientist\",\n",
    "        \"jur\":\"journalist\",\n",
    "        \"eco\":\"economist\",\n",
    "        \"hst\":\"historian\",\n",
    "        \"spo\":\"athleate\",\n",
    "        \"lyr\":\"lawyer\",\n",
    "        \"phs\":\"physician\",\n",
    "        \"act\":\"actor\",\n",
    "        \"distance_birth\":\"d_birth\",\n",
    "        \"distance_death\":\"d_death\",\n",
    "        \"nationality_num\":\"nationalities\",\n",
    "        \"occupation_num\":\"occupations\",\n",
    "        \"year_interval_1\":\"interval_1\",\n",
    "        \"year_interval_2\":\"interval_2\",\n",
    "        \"year_interval_3\":\"interval_3\",\n",
    "        \"is_alive_unknown\":\"alive_unknown\",\n",
    "        \"is_alive_yes\":\"is_alive\"\n",
    "    })\n",
    "    df[\"Attribute\"] = x\n",
    "    df = df.drop([\"p_value\",\"coef\"],axis=1)\n",
    "    return df"
   ]
  },
  {
   "cell_type": "markdown",
   "metadata": {},
   "source": [
    "# Logistic Regressions Coefficients - Feature Importance Global"
   ]
  },
  {
   "cell_type": "code",
   "execution_count": 121,
   "metadata": {
    "collapsed": false
   },
   "outputs": [
    {
     "name": "stdout",
     "output_type": "stream",
     "text": [
      "['female', 'male']\n",
      "{0, 1}\n",
      "[0, 1]\n",
      "{0, 1}\n",
      "Warning: Maximum number of iterations has been exceeded.\n",
      "         Current function value: 0.375405\n",
      "         Iterations: 35\n"
     ]
    }
   ],
   "source": [
    "table2 = generate_coef_tab_all(\"../data/final_sets/model_large/\")"
   ]
  },
  {
   "cell_type": "code",
   "execution_count": 122,
   "metadata": {
    "collapsed": false
   },
   "outputs": [],
   "source": [
    "t = table.merge(table2)"
   ]
  },
  {
   "cell_type": "code",
   "execution_count": 123,
   "metadata": {
    "collapsed": false
   },
   "outputs": [
    {
     "name": "stdout",
     "output_type": "stream",
     "text": [
      "\\begin{tabular}{|c|c|c|c|c|}\n",
      "\\hline\n",
      "     Attribute &        USA &    Germany &     France & Great Britain &    Russia &        All \\\\\n",
      "\\hline\n",
      "    efficiency &     1.0166 &     1.1081 &     0.9304 &        0.9554 &    1.0473 &     0.963* \\\\\n",
      "\\hline   eig\\_central &     0.9919 &     1.2763 &     1.2512 &         0.908 &    0.9338 &      1.029 \\\\\n",
      "\\hline     in\\_degree &     1.1254 &      0.915 &     1.1027 &        0.9023 &    1.0563 &  1.1098*** \\\\\n",
      "\\hline        k\\_core &     0.8553 &     1.4524 &     0.7988 &       2.3656* &    1.2941 &     0.9741 \\\\\n",
      "\\hline    out\\_degree &     1.1621 &    0.6529* &     0.8547 &        0.5714 &     0.652 &     0.9684 \\\\\n",
      "\\hline         views &    0.9115* &     0.8921 &     0.9527 &        0.8192 &    0.7614 &  0.9526*** \\\\\n",
      "\\hline           age &      0.999 &     0.9926 &   1.0167** &        0.9962 &   1.0209* &     1.0026 \\\\\n",
      "\\hline       d\\_birth &    1.01*** &    1.0147* &     0.9987 &        1.0028 &    0.9882 &     1.0076 \\\\\n",
      "\\hline       d\\_death &   1.0072** &     1.0015 &    1.0111* &        1.0135 &    1.0105 &     1.0064 \\\\\n",
      "\\hline nationalities &  1.6129*** &     0.8633 &     0.7818 &        1.2205 &    0.9345 &    0.9376* \\\\\n",
      "\\hline     party\\_num &   1.2786** &     0.8765 &   1.5286** &        1.4574 &    1.4546 &   1.299*** \\\\\n",
      "\\hline   occupations &   1.1937** &     1.1966 &    1.6484* &        0.8894 &    1.6984 &  1.5134*** \\\\\n",
      "\\hline        writer &     0.6959 &     1.2621 &    4.4967* &        1.7746 &    0.8657 &  0.5147*** \\\\\n",
      "\\hline     scientist &      1.066 &    4.5525* &     1.5494 &        8.0954 &    2.4427 &     0.718* \\\\\n",
      "\\hline     economist &     1.0173 &     2.2234 &     1.3689 &        1.7966 &    1.2565 &      0.939 \\\\\n",
      "\\hline     historian &     1.1131 &     1.8661 &     1.2754 &          0.99 &    1.3832 &      1.211 \\\\\n",
      "\\hline      athleate &    2.4562* &     1.0096 &     1.2724 &        2.3027 &    1.3299 &     1.4343 \\\\\n",
      "\\hline        lawyer &  3.2285*** &     1.7719 &     0.8255 &        0.0786 &    0.7446 &     1.3682 \\\\\n",
      "\\hline     physician &      1.057 &     1.1055 &      0.771 &        1.6904 &    1.1197 &    0.6808* \\\\\n",
      "\\hline         actor &     0.7934 &     2.0798 &     0.7853 &        0.4674 &    0.9178 &  0.2665*** \\\\\n",
      "\\hline       other\\_o &     1.3216 &   6.051*** &   3.2846** &       3.7159* &  5.7867** &   2.893*** \\\\\n",
      "\\hline      is\\_alive &    0.55*** &  0.2488*** &  0.1909*** &        0.9869 &    0.7092 &  0.4344*** \\\\\n",
      "\\hline\n",
      "\\end{tabular}\n",
      "\n"
     ]
    }
   ],
   "source": [
    "print_latex(t)"
   ]
  },
  {
   "cell_type": "markdown",
   "metadata": {},
   "source": [
    "# Gini Impurity - Feature importance Global"
   ]
  },
  {
   "cell_type": "code",
   "execution_count": 92,
   "metadata": {
    "collapsed": true
   },
   "outputs": [],
   "source": [
    "def compare_features_df_all(path, estimator):\n",
    "    lst = []\n",
    "    df = pd.read_pickle(path)\n",
    "    df = preprocess_data_frame(df, [\"gender\"])\n",
    "    if \"is_alive_no\" in df.columns and \"distance_delta\" in df.columns and \"other_p\" in df.columns:\n",
    "        df = df.drop([\"entered\",\"is_alive_unknown\", \"is_alive_no\",\"ply\", 'us', 'de', 'fr', 'in', 'cd', 'no', 'ru', 'gb', 'other_n', 'dem', 'rep',\n",
    "   'indi', 'inc', 'cpc', 'bjp', 'other_p',\"year_interval_3\",\"year_interval_2\",\"year_interval_1\"],axis=1)\n",
    "    X,y=split_dataframe(df,\"gender\")\n",
    "    X_over, y_over = over_sample(X,y)\n",
    "    X_over = pd.DataFrame(X_over, columns=X.columns)\n",
    "    y_over = pd.DataFrame(y_over, columns=[\"gender\"])\n",
    "    y_over[\"gender\"].value_counts()\n",
    "    df =  important_features(X_over, y_over, estimator)\n",
    "    dic = {\n",
    "        \"wrt\":\"writer\",\n",
    "        \"sci\":\"scientist\",\n",
    "        \"jor\":\"journalist\",\n",
    "        \"eco\":\"economist\",\n",
    "        \"hst\":\"historian\",\n",
    "        \"spo\":\"athleate\",\n",
    "        \"lyr\":\"lawyer\",\n",
    "        \"phs\":\"physician\",\n",
    "        \"act\":\"actor\",\n",
    "        \"distance_birth\":\"d_birth\",\n",
    "        \"distance_death\":\"d_death\",\n",
    "        \"nationality_num\":\"nationalities\",\n",
    "        \"occupation_num\":\"occupations\",\n",
    "        \"year_interval_1\":\"interval_1\",\n",
    "        \"year_interval_2\":\"interval_2\",\n",
    "        \"year_interval_3\":\"interval_3\",\n",
    "        \"is_alive_unknown\":\"alive_unknown\",\n",
    "        \"is_alive_yes\":\"is_alive\"\n",
    "    }\n",
    "    df = df.replace(dic.keys(),dic.values())\n",
    "    return df"
   ]
  },
  {
   "cell_type": "code",
   "execution_count": 93,
   "metadata": {
    "collapsed": false
   },
   "outputs": [
    {
     "name": "stdout",
     "output_type": "stream",
     "text": [
      "['female', 'male']\n",
      "{0, 1}\n",
      "[0, 1]\n",
      "{0, 1}\n",
      "(72680, 24) (72680,)\n"
     ]
    }
   ],
   "source": [
    "df = compare_features_df_all(\"../data/final_sets/model_large/2016\",d_tree)"
   ]
  },
  {
   "cell_type": "code",
   "execution_count": 94,
   "metadata": {
    "collapsed": false
   },
   "outputs": [
    {
     "name": "stdout",
     "output_type": "stream",
     "text": [
      "\\begin{tabular}{|c|c|c|c|c|}\n",
      "\\hline\n",
      "        Feature &  Importance \\\\\n",
      "\\hline\n",
      "  nationalities &        0.15 \\\\\n",
      "\\hline       is\\_alive &        0.14 \\\\\n",
      "\\hline      party\\_num &        0.14 \\\\\n",
      "\\hline          views &        0.13 \\\\\n",
      "\\hline     out\\_degree &        0.07 \\\\\n",
      "\\hline      in\\_degree &        0.06 \\\\\n",
      "\\hline        d\\_death &        0.06 \\\\\n",
      "\\hline        other\\_o &        0.05 \\\\\n",
      "\\hline         k\\_core &        0.04 \\\\\n",
      "\\hline    eig\\_central &        0.03 \\\\\n",
      "\\hline distance\\_delta &        0.03 \\\\\n",
      "\\hline     efficiency &        0.03 \\\\\n",
      "\\hline        d\\_birth &        0.02 \\\\\n",
      "\\hline            age &        0.02 \\\\\n",
      "\\hline    occupations &        0.01 \\\\\n",
      "\\hline         writer &        0.01 \\\\\n",
      "\\hline          actor &        0.00 \\\\\n",
      "\\hline     journalist &        0.00 \\\\\n",
      "\\hline      scientist &        0.00 \\\\\n",
      "\\hline      economist &        0.00 \\\\\n",
      "\\hline         lawyer &        0.00 \\\\\n",
      "\\hline       athleate &        0.00 \\\\\n",
      "\\hline      physician &        0.00 \\\\\n",
      "\\hline      historian &        0.00 \\\\\n",
      "\\hline\n",
      "\\end{tabular}\n",
      "\n"
     ]
    }
   ],
   "source": [
    "print_latex(df)"
   ]
  },
  {
   "cell_type": "code",
   "execution_count": null,
   "metadata": {
    "collapsed": true
   },
   "outputs": [],
   "source": []
  }
 ],
 "metadata": {
  "kernelspec": {
   "display_name": "Python 3",
   "language": "python",
   "name": "python3"
  },
  "language_info": {
   "codemirror_mode": {
    "name": "ipython",
    "version": 3
   },
   "file_extension": ".py",
   "mimetype": "text/x-python",
   "name": "python",
   "nbconvert_exporter": "python",
   "pygments_lexer": "ipython3",
   "version": "3.6.0"
  }
 },
 "nbformat": 4,
 "nbformat_minor": 2
}
