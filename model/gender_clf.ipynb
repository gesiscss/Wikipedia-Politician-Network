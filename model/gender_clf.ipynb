{
 "cells": [
  {
   "cell_type": "code",
   "execution_count": 24,
   "metadata": {
    "collapsed": false
   },
   "outputs": [],
   "source": [
    "import sklearn\n",
    "from sklearn.model_selection import train_test_split, cross_val_score\n",
    "from sklearn.feature_extraction import DictVectorizer\n",
    "from sklearn import tree\n",
    "from sklearn.linear_model import LogisticRegression\n",
    "from sklearn import svm\n",
    "from sklearn.ensemble import RandomForestClassifier\n",
    "from sklearn.metrics import confusion_matrix, accuracy_score, classification_report\n",
    "from sklearn.ensemble import ExtraTreesClassifier, RandomForestClassifier\n",
    "from sklearn.feature_selection import RFE\n",
    "from sklearn.feature_selection import f_classif, mutual_info_classif, SelectKBest, RFE, VarianceThreshold\n",
    "from imblearn.under_sampling import RandomUnderSampler, ClusterCentroids\n",
    "import pandas as pd \n",
    "import numpy as np \n",
    "from numpy import inf\n",
    "import matplotlib.pyplot as plt\n",
    "import seaborn as sns\n",
    "import warnings\n",
    "from collections import Counter\n",
    "warnings.filterwarnings(\"ignore\")\n",
    "%matplotlib inline"
   ]
  },
  {
   "cell_type": "markdown",
   "metadata": {},
   "source": [
    "# Methods"
   ]
  },
  {
   "cell_type": "code",
   "execution_count": 23,
   "metadata": {
    "collapsed": false
   },
   "outputs": [],
   "source": [
    "def show_kbest(data_frame, target, linear_rel=True, k=4):\n",
    "    \"\"\"\n",
    "    Selecting K-Best features for classification\n",
    "    :param data_frame: A pandas dataFrame with the training data\n",
    "    :param target: target variable name in DataFrame\n",
    "    :param k: desired number of features from the data\n",
    "    :returns feature_scores: scores for each feature in the data as \n",
    "    pandas DataFrame\n",
    "    \"\"\"\n",
    "    scores = []\n",
    "    if linear_rel == True: \n",
    "        feat_selector = SelectKBest(f_classif, k=k)\n",
    "        _ = feat_selector.fit(data_frame.drop(target, axis=1), data_frame[target])\n",
    "        col_name = \"F Score\"\n",
    "    else:\n",
    "        feat_selector = SelectKBest(mutual_info_classif, k=k)\n",
    "        _ = feat_selector.fit(data_frame.drop(target, axis=1), data_frame[target])\n",
    "        col_name = \"Mutual Information\"\n",
    "    \n",
    "    feat_scores = pd.DataFrame()\n",
    "    feat_scores[col_name] = feat_selector.scores_\n",
    "    feat_scores[\"P Value\"] = feat_selector.pvalues_\n",
    "    feat_scores[\"Support\"] = feat_selector.get_support()\n",
    "    feat_scores[\"Attribute\"] = data_frame.drop(target, axis=1).columns\n",
    "    \n",
    "    return feat_scores \n",
    "\n",
    "def preprocess_data_frame(data_frame, columns):\n",
    "    \"\"\"\n",
    "    Dummifying and encoding variables of dataframe, droping rows with NAN values\n",
    "    :param data_frame: A pandas DataFrame to be processed\n",
    "    pandas DataFrame\n",
    "    :param columns: List of column names of categorical variables \n",
    "    :returns data_frame: encoded variable DataFrame\n",
    "    \"\"\"\n",
    "    data_frame = data_frame.dropna()\n",
    "    data_frame = data_frame.reset_index(drop=True)\n",
    "    \n",
    "    for col in columns:\n",
    "#         print(data_frame[col])\n",
    "        data_frame[col] = encode_variable(data_frame[col])\n",
    "#         print(data_frame[col])\n",
    "    data_frame = pd.get_dummies(data_frame)\n",
    "    return data_frame\n",
    "    \n",
    "def encode_variable(series):\n",
    "    \"\"\"\n",
    "    Encoding categorical variables to numericial values\n",
    "    :param series: A pandas Series with categorical values\n",
    "    pandas DataFrame\n",
    "    :returns data_frame: encoded variable DataFrame\n",
    "    \"\"\"\n",
    "    le = sklearn.preprocessing.LabelEncoder()\n",
    "    le.fit(series)\n",
    "    print(list(le.classes_))\n",
    "    print(set(le.transform(series))) \n",
    "    data_frame = pd.DataFrame({\n",
    "        series.name: le.transform(series)\n",
    "    })\n",
    "    return data_frame\n",
    "    \n",
    "def split_dataframe(data_frame, target):\n",
    "    \"\"\"\n",
    "    Split dataframe to predictors and target\n",
    "    :param data_frame: A pandas dataFrame with the training data\n",
    "    :param target: target variable name in DataFrame\n",
    "    :returns DataFrames: X (predictors) and y (target) dataframes \n",
    "    \"\"\"\n",
    "    X = data_frame.drop([target], axis=1)\n",
    "    y = encode_variable(data_frame[target])\n",
    "    return X, y \n",
    "\n",
    "def get_features_variance_threshold(data_frame,target=\"gender\", threshold=0.2):\n",
    "    \"\"\"\n",
    "    Returns list of features with a variance above the specified threshold\n",
    "    :param data_frame: A pandas dataFrame with the training data\n",
    "    :param threshold: float value between 0 and 1 \n",
    "    :returns feature_scores: list of features\n",
    "    \"\"\"\n",
    "    if target in data_frame.columns:\n",
    "        data_frame = data_frame.drop([target], axis=1)\n",
    "    selector = VarianceThreshold(threshold=threshold)\n",
    "    selector.fit(data_frame)\n",
    "    # Get the indices of zero variance feats\n",
    "    feat_ix_keep = selector.get_support(indices=True)\n",
    "#     print(feat_ix_keep)\n",
    "    return data_frame.columns[feat_ix_keep]\n",
    "\n",
    "def get_features_univariate(data_frame, k=5, linear=True, target=\"gender\"):\n",
    "    \"\"\"\n",
    "    Returns list of features selected using the specified univariate method\n",
    "    :param data_frame: A pandas dataFrame with the training data\n",
    "    :param k: top k features to select  \n",
    "    :returns data_frame: with selected features\n",
    "    \"\"\"\n",
    "    df = show_kbest(data_frame,target=target,linear_rel=linear, k=k)\n",
    "    df = df[df[\"Support\"] == True]\n",
    "    columns = df[\"Attribute\"].values\n",
    "    return columns\n",
    "\n",
    "def get_features_rfe(data_frame,model,k=5):\n",
    "    \"\"\"\n",
    "    Returns list of features (k specified) selected using RFE for\n",
    "    :param data_frame: A pandas dataFrame with features and labels\n",
    "    :param k: top k features to select  \n",
    "    :returns list: most relevant features \n",
    "    \"\"\"\n",
    "    X = data_frame.drop(\"gender\", axis=1)\n",
    "    y = data_frame[\"gender\"]\n",
    "    selector = RFE(model, k, step=1)\n",
    "    selector = selector.fit(X, y)\n",
    "#     print(selector.support_)\n",
    "    df = pd.DataFrame({\n",
    "        \"feature\": X.columns,\n",
    "        \"support\": selector.support_\n",
    "    })\n",
    "    return list(df[df[\"support\"] == True][\"feature\"])\n",
    "\n",
    "    \n",
    "    \n",
    "def under_sample(X,y):\n",
    "    \"\"\" Returns resampled features and labels\n",
    "    :param X: Features data frame\n",
    "    :param y: Label data frame\n",
    "    :return X_resampled, y_resampled: Numpy features array and corresponding lable array\n",
    "    \"\"\"\n",
    "    rus = RandomUnderSampler(random_state=0)\n",
    "    X_resampled, y_resampled = rus.fit_sample(X, y)\n",
    "    print(sorted(Counter(y_resampled).items()))\n",
    "    return X_resampled, y_resampled\n",
    "\n",
    "def generate_classification_report(X_train, X_test, y_train, y_test, model):\n",
    "    \"\"\" Prints classification report\n",
    "    :param X: Features data frame\n",
    "    :param y: Label data frame\n",
    "    :param model: Sklearn model object\n",
    "    \"\"\"\n",
    "#     X_train, X_test, y_train, y_test = train_test_split(X, y, test_size=0.2)\n",
    "#     y_test = list(np.array(y_test).flatten())\n",
    "#     y_train = list(np.array(y_train).flatten())\n",
    "    model.fit(X_train, y_train)\n",
    "    pred = model.predict(X_test)\n",
    "    target_names = ['female', 'male']\n",
    "    mean = cross_val_score(model, X_test, y_test, cv=10, scoring=\"accuracy\").mean()\n",
    "    var = cross_val_score(model, X_test, y_test, cv=10, scoring=\"accuracy\").var()\n",
    "#     print(\"Cross Validated Accuracy: mean - {}, var - {}\".format(mean, var))\n",
    "    print(\"Accuracy Score: {} Var: {}\".format(mean, var))\n",
    "    print(\"\\nConfusion Matrix:\\n\")\n",
    "    print(confusion_matrix(y_test, pred))\n",
    "    print(\"\\nClassification Report:\\n\")\n",
    "    print(classification_report(y_test, pred, target_names=target_names))\n",
    "    \n",
    "def change_of_evaluation_rfe(X_train, X_test,y_train,y_test,model, metric=\"precision\"):\n",
    "    \"\"\"\n",
    "    Plots accuracy with respect to the number of features left, and prints the names of features\n",
    "    :param X_train: A pandas dataFrame with train features\n",
    "    :param X_test: A pandas dataFrame with test features\n",
    "    :param y_train: A pandas dataFrame with train labels\n",
    "    :param y_test: A pandas dataFrame with test labels\n",
    "    :param model: Sklearn classification model object\n",
    "    :param metric: Metric to show: precision, recall, accuracy\n",
    "    :return num_features: Returns the top k features to be selected\n",
    "    \"\"\"\n",
    "    base = pd.concat([pd.concat([X_train,X_test]), pd.concat([y_train,y_test])], axis=1)\n",
    "    X = pd.concat([X_train,X_test])\n",
    "    y = pd.concat([y_train,y_test])\n",
    "    score = []\n",
    "    for k in range(len(X.columns),0,-1):\n",
    "        columns = get_features_rfe(base,model,k)\n",
    "        X_tr = X_train[columns]\n",
    "        X_te = X_test[columns]\n",
    "\n",
    "        model.fit(X_tr, y_train)\n",
    "        mean = cross_val_score(model, X_te, y_test, cv=10, scoring=metric).mean()\n",
    "        variance = cross_val_score(model, X_te, y_test, cv=10).var()\n",
    "\n",
    "        score.append([k, mean, variance])\n",
    "\n",
    "    df = pd.DataFrame(score, columns=[\"num_features\", \"mean\",\"variance\"])\n",
    "    sns.pointplot(df[\"num_features\"], df[\"mean\"])\n",
    "    plt.show()\n",
    "    return df.sort_values(\"mean\", ascending=False)[[\"num_features\"]].values[0][0]\n",
    "\n",
    "def change_of_evaluation_univariate_feature_selection(X_train, X_test, y_train, y_test,model, metric=\"precision\", linear=True):\n",
    "    \"\"\"\n",
    "    Plots accuracy with respect to the number of features left, and prints the names of features\n",
    "    :param X_train: A pandas dataFrame with train features\n",
    "    :param X_test: A pandas dataFrame with test features\n",
    "    :param y_train: A pandas dataFrame with train labels\n",
    "    :param y_test: A pandas dataFrame with test labels\n",
    "    :param linear: If true > F-score if false > mutual information\n",
    "    :param model: Sklearn classification model object\n",
    "    :param metric: Metric to show: precision, recall, accuracy\n",
    "    :return num_features: Returns the top k features to be selected\n",
    "    \"\"\"\n",
    "    X = pd.concat([X_train,X_test])\n",
    "    y = pd.concat([y_train,y_test])\n",
    "    data = pd.concat([X,y], axis=1)\n",
    "    score = []\n",
    "    for k in range(len(X.columns),0,-1):\n",
    "        df = show_kbest(data,\"gender\",linear_rel=linear, k=k)\n",
    "        df = df[df[\"Support\"] == True]\n",
    "        columns = df[\"Attribute\"].values\n",
    "        X_tr = X_train[columns]\n",
    "        X_ts = X_test[columns]\n",
    "\n",
    "        model.fit(X_tr, y_train)\n",
    "        mean = cross_val_score(model, X_ts, y_test, cv=10, scoring=metric).mean()\n",
    "        variance = cross_val_score(model, X_ts, y_test, cv=10).var()\n",
    "\n",
    "        score.append([k, mean, variance])\n",
    "\n",
    "    df = pd.DataFrame(score, columns=[\"num_features\", \"mean\",\"variance\"])\n",
    "    sns.pointplot(df[\"num_features\"], df[\"mean\"])\n",
    "    plt.show()\n",
    "    return df.sort_values(\"mean\", ascending=False)[[\"num_features\"]].values[0][0]\n",
    "\n",
    "def change_of_evaluation_variance_threshold(X_train, X_test, y_train, y_test,model,metric=\"precision\"):\n",
    "    \"\"\"\n",
    "    Plots accuracy with respect to the number of features left, and prints the names of features\n",
    "    :param X_train: A pandas dataFrame with train features\n",
    "    :param X_test: A pandas dataFrame with test features\n",
    "    :param y_train: A pandas dataFrame with train labels\n",
    "    :param y_test: A pandas dataFrame with test labels\n",
    "    :param model: Sklearn classification model object\n",
    "    :param metric: Metric to show: precision, recall, accuracy\n",
    "    \"\"\"\n",
    "    lst = list(np.arange(0.0, 1.0, 0.1))\n",
    "    X = pd.concat([X_train,X_test])\n",
    "    y = pd.concat([y_train,y_test])\n",
    "    score = []\n",
    "    for k in lst:\n",
    "        features = get_features_variance_threshold(X, threshold=k)\n",
    "        \n",
    "        X_train = X_train[features]\n",
    "        X_test = X_test[features]\n",
    "        \n",
    "#         print(\"Variance: {} - features: {}\".format(k,features))\n",
    "\n",
    "        model.fit(X_train, y_train)\n",
    "        mean = cross_val_score(model, X_test, y_test, cv=10).mean()\n",
    "        variance = cross_val_score(model, X_test, y_test, cv=10).var()\n",
    "        score.append([k, mean, variance])\n",
    "#     print(score)\n",
    "    df = pd.DataFrame(score, columns=[\"variance\", \"mean\", \"std\"])\n",
    "    sns.pointplot(df[\"variance\"], df[\"mean\"])\n",
    "    plt.show()\n",
    "    return df.sort_values(\"mean\", ascending=False)[[\"variance\"]].values[0][0]\n",
    "    \n",
    "def full_report(X_train, X_test, y_train, y_test, model):\n",
    "    \"\"\" Prints classification report for model over different feature selection models\n",
    "    :param X_train: A pandas dataFrame with train features\n",
    "    :param X_test: A pandas dataFrame with test features\n",
    "    :param y_train: A pandas dataFrame with train labels\n",
    "    :param y_test: A pandas dataFrame with test labels\n",
    "    :param model: Sklearn object\n",
    "    \"\"\"\n",
    "    X = pd.concat([X_train, X_test])\n",
    "    y = pd.concat([y_train, y_test])\n",
    "    \n",
    "    base = pd.concat([X,y], axis=1)\n",
    "    print(\"\"\"###############################################################\"\"\")\n",
    "    print(\"\"\"Feature Selection: F-SCORE: \\n\"\"\")\n",
    "    k = change_of_evaluation_univariate_feature_selection(X_train, X_test, y_train, y_test,\n",
    "                                                              model, metric=\"accuracy\")\n",
    "    features = get_features_univariate(base, k=k, linear=True)\n",
    "    print(\"Number of features: \", len(features))\n",
    "    print(\"Features: \", features)\n",
    "    generate_classification_report(X_train, X_test, y_train, y_test, r_forest)\n",
    "    print(\"\"\"###############################################################\"\"\")\n",
    "    print(\"\"\"Feature Selection: MUTUAL INFORMATION: \\n\"\"\")\n",
    "\n",
    "    k = change_of_evaluation_univariate_feature_selection(X_train, X_test, y_train, y_test,\n",
    "                                                              model,linear=False, metric=\"accuracy\")\n",
    "    features = get_features_univariate(base, k=k, linear=False)\n",
    "    print(\"Number of features: \", len(features))\n",
    "    print(\"Features: \", features)\n",
    "    generate_classification_report(X_train, X_test, y_train, y_test, r_forest)\n",
    "    print(\"\"\"###############################################################\"\"\")\n",
    "    print(\"\"\"Feature Selection: Variance Threshold: \\n\"\"\")\n",
    "    v = change_of_evaluation_variance_threshold(X_train, X_test, y_train, y_test,model, metric=\"accuracy\")\n",
    "#     print(v)\n",
    "    features = get_features_variance_threshold(base,threshold=v)\n",
    "    print(\"Number of features: \", len(features))\n",
    "    print(\"Features: \", features)\n",
    "    generate_classification_report(X_train, X_test, y_train, y_test, r_forest)\n",
    "    \n",
    "    print(\"\"\"###############################################################\"\"\")\n",
    "    print(\"\"\"Feature Selection: RFE: \\n\"\"\")\n",
    "    k = change_of_evaluation_rfe(X_train, X_test, y_train, y_test,\n",
    "                                 model,metric='accuracy')\n",
    "    features = get_features_rfe(base,model, k=k)\n",
    "    print(\"Number of features: \", len(features))\n",
    "    print(\"Features: \", features)\n",
    "    generate_classification_report(X_train, X_test, y_train, y_test, model)\n",
    "    \n",
    "def normalize(data_frame, columns):\n",
    "    \"\"\"\n",
    "    Normalizing (loged) column values\n",
    "    :param data_frame: A pandas DataFrame to be processed\n",
    "    :param columns: List of column names of categorical variables \n",
    "    :returns data_frame: DataFrame with normalizedcolumns\n",
    "    \"\"\"    \n",
    "    for col in columns:\n",
    "        data_frame[col] = log_colum_values(data_frame[col])\n",
    "    return data_frame\n",
    "\n",
    "def log_colum_values(series_col):\n",
    "    \"\"\"\n",
    "    Normalizing (loged) column values\n",
    "    :param series: Column of dataframe \n",
    "    :returns np array: DataFrame with normalizedcolumns\n",
    "    \"\"\"    \n",
    "    min_val = series_col.min()\n",
    "    values = [log_value(v, min_val)for v in series_col.values]\n",
    "    return values\n",
    "\n",
    "def log_value(x, min_val):\n",
    "    \"\"\"\n",
    "    Logs a value, replacing -inf with 0 and handling negative values\n",
    "    :param x: value\n",
    "    :param min_val: min value in list \n",
    "    :returns value: loged numerical value\n",
    "    \"\"\"    \n",
    "    if x>0:\n",
    "        return np.log(x)\n",
    "    if np.log(x) == -inf:\n",
    "        return 0 \n",
    "    if x < 0:\n",
    "#         print(\"na\")\n",
    "        return np.log(x + 1 - min_val)\n",
    "\n",
    "def plot_loged(data, col_name):\n",
    "    x= np.log(data[col_name])\n",
    "    x = x[~np.isnan(x)]\n",
    "    x = x[x != np.inf]\n",
    "    x = x[x != -np.inf]\n",
    "    sns.distplot(x)"
   ]
  },
  {
   "cell_type": "markdown",
   "metadata": {},
   "source": [
    "# Load the data"
   ]
  },
  {
   "cell_type": "code",
   "execution_count": 3,
   "metadata": {
    "collapsed": false
   },
   "outputs": [],
   "source": [
    "data = pd.read_pickle(\"../data/final_sets/countries/model/2016_german\")"
   ]
  },
  {
   "cell_type": "code",
   "execution_count": 4,
   "metadata": {
    "collapsed": false
   },
   "outputs": [
    {
     "data": {
      "text/html": [
       "<div>\n",
       "<table border=\"1\" class=\"dataframe\">\n",
       "  <thead>\n",
       "    <tr style=\"text-align: right;\">\n",
       "      <th></th>\n",
       "      <th>gender</th>\n",
       "      <th>entered</th>\n",
       "      <th>efficiency</th>\n",
       "      <th>eig_central</th>\n",
       "      <th>in_degree</th>\n",
       "      <th>k_core</th>\n",
       "      <th>out_degree</th>\n",
       "      <th>views</th>\n",
       "      <th>age</th>\n",
       "      <th>is_alive</th>\n",
       "      <th>distance_birth</th>\n",
       "      <th>distance_death</th>\n",
       "      <th>distance_delta</th>\n",
       "      <th>nationality_num</th>\n",
       "      <th>party_num</th>\n",
       "      <th>occupation_num</th>\n",
       "      <th>year_interval</th>\n",
       "    </tr>\n",
       "  </thead>\n",
       "  <tbody>\n",
       "    <tr>\n",
       "      <th>7</th>\n",
       "      <td>male</td>\n",
       "      <td>2011</td>\n",
       "      <td>1.000</td>\n",
       "      <td>2.021104e-19</td>\n",
       "      <td>0</td>\n",
       "      <td>1</td>\n",
       "      <td>1</td>\n",
       "      <td>1652.0</td>\n",
       "      <td>70</td>\n",
       "      <td>no</td>\n",
       "      <td>142</td>\n",
       "      <td>71</td>\n",
       "      <td>71</td>\n",
       "      <td>1</td>\n",
       "      <td>0</td>\n",
       "      <td>1</td>\n",
       "      <td>3</td>\n",
       "    </tr>\n",
       "    <tr>\n",
       "      <th>113</th>\n",
       "      <td>male</td>\n",
       "      <td>2012</td>\n",
       "      <td>0.920</td>\n",
       "      <td>2.530002e-05</td>\n",
       "      <td>2</td>\n",
       "      <td>5</td>\n",
       "      <td>3</td>\n",
       "      <td>2376.0</td>\n",
       "      <td>73</td>\n",
       "      <td>no</td>\n",
       "      <td>128</td>\n",
       "      <td>54</td>\n",
       "      <td>74</td>\n",
       "      <td>1</td>\n",
       "      <td>0</td>\n",
       "      <td>1</td>\n",
       "      <td>3</td>\n",
       "    </tr>\n",
       "    <tr>\n",
       "      <th>127</th>\n",
       "      <td>male</td>\n",
       "      <td>2009</td>\n",
       "      <td>0.625</td>\n",
       "      <td>-1.456437e-19</td>\n",
       "      <td>0</td>\n",
       "      <td>4</td>\n",
       "      <td>4</td>\n",
       "      <td>32143.0</td>\n",
       "      <td>60</td>\n",
       "      <td>no</td>\n",
       "      <td>113</td>\n",
       "      <td>53</td>\n",
       "      <td>60</td>\n",
       "      <td>1</td>\n",
       "      <td>0</td>\n",
       "      <td>2</td>\n",
       "      <td>2</td>\n",
       "    </tr>\n",
       "    <tr>\n",
       "      <th>132</th>\n",
       "      <td>male</td>\n",
       "      <td>2009</td>\n",
       "      <td>1.000</td>\n",
       "      <td>9.096369e-08</td>\n",
       "      <td>1</td>\n",
       "      <td>2</td>\n",
       "      <td>1</td>\n",
       "      <td>2268.0</td>\n",
       "      <td>71</td>\n",
       "      <td>no</td>\n",
       "      <td>103</td>\n",
       "      <td>31</td>\n",
       "      <td>72</td>\n",
       "      <td>1</td>\n",
       "      <td>0</td>\n",
       "      <td>1</td>\n",
       "      <td>2</td>\n",
       "    </tr>\n",
       "    <tr>\n",
       "      <th>158</th>\n",
       "      <td>male</td>\n",
       "      <td>2011</td>\n",
       "      <td>0.750</td>\n",
       "      <td>7.461692e-04</td>\n",
       "      <td>2</td>\n",
       "      <td>4</td>\n",
       "      <td>2</td>\n",
       "      <td>19536.0</td>\n",
       "      <td>48</td>\n",
       "      <td>no</td>\n",
       "      <td>165</td>\n",
       "      <td>117</td>\n",
       "      <td>48</td>\n",
       "      <td>1</td>\n",
       "      <td>0</td>\n",
       "      <td>1</td>\n",
       "      <td>3</td>\n",
       "    </tr>\n",
       "  </tbody>\n",
       "</table>\n",
       "</div>"
      ],
      "text/plain": [
       "    gender  entered  efficiency   eig_central  in_degree  k_core  out_degree  \\\n",
       "7     male     2011       1.000  2.021104e-19          0       1           1   \n",
       "113   male     2012       0.920  2.530002e-05          2       5           3   \n",
       "127   male     2009       0.625 -1.456437e-19          0       4           4   \n",
       "132   male     2009       1.000  9.096369e-08          1       2           1   \n",
       "158   male     2011       0.750  7.461692e-04          2       4           2   \n",
       "\n",
       "       views  age is_alive  distance_birth  distance_death  distance_delta  \\\n",
       "7     1652.0   70       no             142              71              71   \n",
       "113   2376.0   73       no             128              54              74   \n",
       "127  32143.0   60       no             113              53              60   \n",
       "132   2268.0   71       no             103              31              72   \n",
       "158  19536.0   48       no             165             117              48   \n",
       "\n",
       "     nationality_num  party_num  occupation_num year_interval  \n",
       "7                  1          0               1             3  \n",
       "113                1          0               1             3  \n",
       "127                1          0               2             2  \n",
       "132                1          0               1             2  \n",
       "158                1          0               1             3  "
      ]
     },
     "execution_count": 4,
     "metadata": {},
     "output_type": "execute_result"
    }
   ],
   "source": [
    "data.head()"
   ]
  },
  {
   "cell_type": "code",
   "execution_count": 5,
   "metadata": {
    "collapsed": false
   },
   "outputs": [
    {
     "data": {
      "text/plain": [
       "(1325, 17)"
      ]
     },
     "execution_count": 5,
     "metadata": {},
     "output_type": "execute_result"
    }
   ],
   "source": [
    "data.shape"
   ]
  },
  {
   "cell_type": "code",
   "execution_count": 6,
   "metadata": {
    "collapsed": false
   },
   "outputs": [
    {
     "data": {
      "text/plain": [
       "male      1136\n",
       "female     171\n",
       "Name: gender, dtype: int64"
      ]
     },
     "execution_count": 6,
     "metadata": {},
     "output_type": "execute_result"
    }
   ],
   "source": [
    "data.gender.value_counts()"
   ]
  },
  {
   "cell_type": "markdown",
   "metadata": {},
   "source": [
    "# Preprocesing"
   ]
  },
  {
   "cell_type": "code",
   "execution_count": 7,
   "metadata": {
    "collapsed": false
   },
   "outputs": [
    {
     "name": "stdout",
     "output_type": "stream",
     "text": [
      "['female', 'male']\n",
      "{0, 1}\n"
     ]
    }
   ],
   "source": [
    "data = preprocess_data_frame(data, [\"gender\"])\n",
    "# data[\"gender\"]"
   ]
  },
  {
   "cell_type": "code",
   "execution_count": 8,
   "metadata": {
    "collapsed": false
   },
   "outputs": [
    {
     "name": "stdout",
     "output_type": "stream",
     "text": [
      "[0, 1]\n",
      "{0, 1}\n"
     ]
    }
   ],
   "source": [
    "X,y=split_dataframe(data,\"gender\")"
   ]
  },
  {
   "cell_type": "code",
   "execution_count": 9,
   "metadata": {
    "collapsed": false
   },
   "outputs": [
    {
     "data": {
      "text/html": [
       "<div>\n",
       "<table border=\"1\" class=\"dataframe\">\n",
       "  <thead>\n",
       "    <tr style=\"text-align: right;\">\n",
       "      <th></th>\n",
       "      <th>entered</th>\n",
       "      <th>efficiency</th>\n",
       "      <th>eig_central</th>\n",
       "      <th>in_degree</th>\n",
       "      <th>k_core</th>\n",
       "      <th>out_degree</th>\n",
       "      <th>views</th>\n",
       "      <th>age</th>\n",
       "      <th>distance_birth</th>\n",
       "      <th>distance_death</th>\n",
       "      <th>distance_delta</th>\n",
       "      <th>nationality_num</th>\n",
       "      <th>party_num</th>\n",
       "      <th>occupation_num</th>\n",
       "      <th>is_alive_no</th>\n",
       "      <th>is_alive_unknown</th>\n",
       "      <th>is_alive_yes</th>\n",
       "      <th>year_interval_1</th>\n",
       "      <th>year_interval_2</th>\n",
       "      <th>year_interval_3</th>\n",
       "    </tr>\n",
       "  </thead>\n",
       "  <tbody>\n",
       "    <tr>\n",
       "      <th>0</th>\n",
       "      <td>2011</td>\n",
       "      <td>1.000</td>\n",
       "      <td>2.021104e-19</td>\n",
       "      <td>0</td>\n",
       "      <td>1</td>\n",
       "      <td>1</td>\n",
       "      <td>1652.0</td>\n",
       "      <td>70</td>\n",
       "      <td>142</td>\n",
       "      <td>71</td>\n",
       "      <td>71</td>\n",
       "      <td>1</td>\n",
       "      <td>0</td>\n",
       "      <td>1</td>\n",
       "      <td>1</td>\n",
       "      <td>0</td>\n",
       "      <td>0</td>\n",
       "      <td>0</td>\n",
       "      <td>0</td>\n",
       "      <td>1</td>\n",
       "    </tr>\n",
       "    <tr>\n",
       "      <th>1</th>\n",
       "      <td>2012</td>\n",
       "      <td>0.920</td>\n",
       "      <td>2.530002e-05</td>\n",
       "      <td>2</td>\n",
       "      <td>5</td>\n",
       "      <td>3</td>\n",
       "      <td>2376.0</td>\n",
       "      <td>73</td>\n",
       "      <td>128</td>\n",
       "      <td>54</td>\n",
       "      <td>74</td>\n",
       "      <td>1</td>\n",
       "      <td>0</td>\n",
       "      <td>1</td>\n",
       "      <td>1</td>\n",
       "      <td>0</td>\n",
       "      <td>0</td>\n",
       "      <td>0</td>\n",
       "      <td>0</td>\n",
       "      <td>1</td>\n",
       "    </tr>\n",
       "    <tr>\n",
       "      <th>2</th>\n",
       "      <td>2009</td>\n",
       "      <td>0.625</td>\n",
       "      <td>-1.456437e-19</td>\n",
       "      <td>0</td>\n",
       "      <td>4</td>\n",
       "      <td>4</td>\n",
       "      <td>32143.0</td>\n",
       "      <td>60</td>\n",
       "      <td>113</td>\n",
       "      <td>53</td>\n",
       "      <td>60</td>\n",
       "      <td>1</td>\n",
       "      <td>0</td>\n",
       "      <td>2</td>\n",
       "      <td>1</td>\n",
       "      <td>0</td>\n",
       "      <td>0</td>\n",
       "      <td>0</td>\n",
       "      <td>1</td>\n",
       "      <td>0</td>\n",
       "    </tr>\n",
       "    <tr>\n",
       "      <th>3</th>\n",
       "      <td>2009</td>\n",
       "      <td>1.000</td>\n",
       "      <td>9.096369e-08</td>\n",
       "      <td>1</td>\n",
       "      <td>2</td>\n",
       "      <td>1</td>\n",
       "      <td>2268.0</td>\n",
       "      <td>71</td>\n",
       "      <td>103</td>\n",
       "      <td>31</td>\n",
       "      <td>72</td>\n",
       "      <td>1</td>\n",
       "      <td>0</td>\n",
       "      <td>1</td>\n",
       "      <td>1</td>\n",
       "      <td>0</td>\n",
       "      <td>0</td>\n",
       "      <td>0</td>\n",
       "      <td>1</td>\n",
       "      <td>0</td>\n",
       "    </tr>\n",
       "    <tr>\n",
       "      <th>4</th>\n",
       "      <td>2011</td>\n",
       "      <td>0.750</td>\n",
       "      <td>7.461692e-04</td>\n",
       "      <td>2</td>\n",
       "      <td>4</td>\n",
       "      <td>2</td>\n",
       "      <td>19536.0</td>\n",
       "      <td>48</td>\n",
       "      <td>165</td>\n",
       "      <td>117</td>\n",
       "      <td>48</td>\n",
       "      <td>1</td>\n",
       "      <td>0</td>\n",
       "      <td>1</td>\n",
       "      <td>1</td>\n",
       "      <td>0</td>\n",
       "      <td>0</td>\n",
       "      <td>0</td>\n",
       "      <td>0</td>\n",
       "      <td>1</td>\n",
       "    </tr>\n",
       "  </tbody>\n",
       "</table>\n",
       "</div>"
      ],
      "text/plain": [
       "   entered  efficiency   eig_central  in_degree  k_core  out_degree    views  \\\n",
       "0     2011       1.000  2.021104e-19          0       1           1   1652.0   \n",
       "1     2012       0.920  2.530002e-05          2       5           3   2376.0   \n",
       "2     2009       0.625 -1.456437e-19          0       4           4  32143.0   \n",
       "3     2009       1.000  9.096369e-08          1       2           1   2268.0   \n",
       "4     2011       0.750  7.461692e-04          2       4           2  19536.0   \n",
       "\n",
       "   age  distance_birth  distance_death  distance_delta  nationality_num  \\\n",
       "0   70             142              71              71                1   \n",
       "1   73             128              54              74                1   \n",
       "2   60             113              53              60                1   \n",
       "3   71             103              31              72                1   \n",
       "4   48             165             117              48                1   \n",
       "\n",
       "   party_num  occupation_num  is_alive_no  is_alive_unknown  is_alive_yes  \\\n",
       "0          0               1            1                 0             0   \n",
       "1          0               1            1                 0             0   \n",
       "2          0               2            1                 0             0   \n",
       "3          0               1            1                 0             0   \n",
       "4          0               1            1                 0             0   \n",
       "\n",
       "   year_interval_1  year_interval_2  year_interval_3  \n",
       "0                0                0                1  \n",
       "1                0                0                1  \n",
       "2                0                1                0  \n",
       "3                0                1                0  \n",
       "4                0                0                1  "
      ]
     },
     "execution_count": 9,
     "metadata": {},
     "output_type": "execute_result"
    }
   ],
   "source": [
    "X.head()"
   ]
  },
  {
   "cell_type": "code",
   "execution_count": 10,
   "metadata": {
    "collapsed": false
   },
   "outputs": [],
   "source": [
    "# X_train, X_test, y_train, y_test = train_test_split(X, y, test_size=0.3, random_state=42)\n",
    "# y_test = list(np.array(y_test.values).flatten())\n",
    "# y_train = list(np.array(y_train.values).flatten())"
   ]
  },
  {
   "cell_type": "code",
   "execution_count": 11,
   "metadata": {
    "collapsed": false
   },
   "outputs": [
    {
     "data": {
      "image/png": "[encoded data removed]",
      "text/plain": [
       "<matplotlib.figure.Figure at 0x557a860>"
      ]
     },
     "metadata": {},
     "output_type": "display_data"
    }
   ],
   "source": [
    "plot_loged(data, \"eig_central\")"
   ]
  },
  {
   "cell_type": "code",
   "execution_count": 12,
   "metadata": {
    "collapsed": false
   },
   "outputs": [
    {
     "data": {
      "image/png": "[encoded data removed]",
      "text/plain": [
       "<matplotlib.figure.Figure at 0xc4b4940>"
      ]
     },
     "metadata": {},
     "output_type": "display_data"
    }
   ],
   "source": [
    "plot_loged(data, \"views\")"
   ]
  },
  {
   "cell_type": "code",
   "execution_count": 13,
   "metadata": {
    "collapsed": false
   },
   "outputs": [
    {
     "data": {
      "image/png": "[encoded data removed]",
      "text/plain": [
       "<matplotlib.figure.Figure at 0x4de8860>"
      ]
     },
     "metadata": {},
     "output_type": "display_data"
    }
   ],
   "source": [
    "plot_loged(data, \"efficiency\")"
   ]
  },
  {
   "cell_type": "code",
   "execution_count": 14,
   "metadata": {
    "collapsed": false
   },
   "outputs": [
    {
     "data": {
      "image/png": "[encoded data removed]",
      "text/plain": [
       "<matplotlib.figure.Figure at 0xc6f9908>"
      ]
     },
     "metadata": {},
     "output_type": "display_data"
    }
   ],
   "source": [
    "plot_loged(data, \"k_core\")"
   ]
  },
  {
   "cell_type": "code",
   "execution_count": 15,
   "metadata": {
    "collapsed": false
   },
   "outputs": [
    {
     "data": {
      "image/png": "[encoded data removed]",
      "text/plain": [
       "<matplotlib.figure.Figure at 0xc5a4e48>"
      ]
     },
     "metadata": {},
     "output_type": "display_data"
    }
   ],
   "source": [
    "plot_loged(data, \"out_degree\")"
   ]
  },
  {
   "cell_type": "code",
   "execution_count": 16,
   "metadata": {
    "collapsed": false
   },
   "outputs": [
    {
     "data": {
      "image/png": "[encoded data removed]",
      "text/plain": [
       "<matplotlib.figure.Figure at 0xc8fd048>"
      ]
     },
     "metadata": {},
     "output_type": "display_data"
    }
   ],
   "source": [
    "plot_loged(data, \"in_degree\")"
   ]
  },
  {
   "cell_type": "code",
   "execution_count": 17,
   "metadata": {
    "collapsed": false
   },
   "outputs": [
    {
     "data": {
      "text/plain": [
       "<matplotlib.axes._subplots.AxesSubplot at 0xc8bd198>"
      ]
     },
     "execution_count": 17,
     "metadata": {},
     "output_type": "execute_result"
    },
    {
     "data": {
      "image/png": "[encoded data removed]",
      "text/plain": [
       "<matplotlib.figure.Figure at 0xc9a5ef0>"
      ]
     },
     "metadata": {},
     "output_type": "display_data"
    }
   ],
   "source": [
    "sns.distplot(data[\"distance_birth\"])"
   ]
  },
  {
   "cell_type": "markdown",
   "metadata": {},
   "source": [
    "# Algorithms"
   ]
  },
  {
   "cell_type": "code",
   "execution_count": 18,
   "metadata": {
    "collapsed": false
   },
   "outputs": [],
   "source": [
    "# SVM\n",
    "s_vm = svm.SVC()\n",
    "# Logistic regression\n",
    "log_reg = LogisticRegression()\n",
    "# Decision Tree\n",
    "d_tree = tree.DecisionTreeClassifier()\n",
    "# Random Forest\n",
    "r_forest = RandomForestClassifier()"
   ]
  },
  {
   "cell_type": "markdown",
   "metadata": {},
   "source": [
    "# Undersampling"
   ]
  },
  {
   "cell_type": "code",
   "execution_count": 19,
   "metadata": {
    "collapsed": false
   },
   "outputs": [
    {
     "name": "stdout",
     "output_type": "stream",
     "text": [
      "[(0, 171), (1, 171)]\n"
     ]
    }
   ],
   "source": [
    "X_resampled, y_resampled = under_sample(X,y)\n",
    "X_resampled = pd.DataFrame(X_resampled, columns=X.columns)\n",
    "y_resampled = pd.DataFrame(y_resampled, columns=[\"gender\"])\n",
    "base = df_concat = pd.concat([X_resampled, y_resampled], axis=1)\n",
    "# base.head()"
   ]
  },
  {
   "cell_type": "code",
   "execution_count": 20,
   "metadata": {
    "collapsed": false
   },
   "outputs": [],
   "source": [
    "X_train, X_test, y_train, y_test = train_test_split(X_resampled, y_resampled, test_size=0.2)\n",
    "X_train = pd.DataFrame(X_train, columns=X_resampled.columns)\n",
    "X_test = pd.DataFrame(X_test, columns=X_resampled.columns)\n",
    "y_train = pd.DataFrame(y_train, columns=y_resampled.columns)\n",
    "y_test =pd.DataFrame(y_test, columns=y_resampled.columns)"
   ]
  },
  {
   "cell_type": "markdown",
   "metadata": {},
   "source": [
    "# SVM"
   ]
  },
  {
   "cell_type": "code",
   "execution_count": 21,
   "metadata": {
    "collapsed": false
   },
   "outputs": [
    {
     "name": "stdout",
     "output_type": "stream",
     "text": [
      "###############################################################\n",
      "Feature Selection: F-SCORE: \n",
      "\n"
     ]
    },
    {
     "data": {
      "image/png": "[encoded data removed]",
      "text/plain": [
       "<matplotlib.figure.Figure at 0xc99b518>"
      ]
     },
     "metadata": {},
     "output_type": "display_data"
    },
    {
     "name": "stdout",
     "output_type": "stream",
     "text": [
      "Number of features:  5\n",
      "Features:  ['distance_birth' 'distance_death' 'is_alive_no' 'is_alive_unknown'\n",
      " 'is_alive_yes']\n",
      "Accuracy Score: 0.6642857142857143 Var: 0.04380527210884354\n",
      "\n",
      "Confusion Matrix:\n",
      "\n",
      "[[24  8]\n",
      " [18 19]]\n",
      "\n",
      "Classification Report:\n",
      "\n",
      "             precision    recall  f1-score   support\n",
      "\n",
      "     female       0.57      0.75      0.65        32\n",
      "       male       0.70      0.51      0.59        37\n",
      "\n",
      "avg / total       0.64      0.62      0.62        69\n",
      "\n",
      "###############################################################\n",
      "Feature Selection: MUTUAL INFORMATION: \n",
      "\n"
     ]
    },
    {
     "data": {
      "image/png": "[encoded data removed]",
      "text/plain": [
       "<matplotlib.figure.Figure at 0x7c219b0>"
      ]
     },
     "metadata": {},
     "output_type": "display_data"
    },
    {
     "name": "stdout",
     "output_type": "stream",
     "text": [
      "Number of features:  8\n",
      "Features:  ['eig_central' 'in_degree' 'distance_birth' 'distance_death'\n",
      " 'nationality_num' 'is_alive_no' 'is_alive_unknown' 'is_alive_yes']\n",
      "Accuracy Score: 0.6851190476190476 Var: 0.037437641723356015\n",
      "\n",
      "Confusion Matrix:\n",
      "\n",
      "[[26  6]\n",
      " [15 22]]\n",
      "\n",
      "Classification Report:\n",
      "\n",
      "             precision    recall  f1-score   support\n",
      "\n",
      "     female       0.63      0.81      0.71        32\n",
      "       male       0.79      0.59      0.68        37\n",
      "\n",
      "avg / total       0.72      0.70      0.69        69\n",
      "\n",
      "###############################################################\n",
      "Feature Selection: Variance Threshold: \n",
      "\n"
     ]
    },
    {
     "data": {
      "image/png": "[encoded data removed]",
      "text/plain": [
       "<matplotlib.figure.Figure at 0xc8d2668>"
      ]
     },
     "metadata": {},
     "output_type": "display_data"
    },
    {
     "name": "stdout",
     "output_type": "stream",
     "text": [
      "Number of features:  20\n",
      "Features:  Index(['entered', 'efficiency', 'eig_central', 'in_degree', 'k_core',\n",
      "       'out_degree', 'views', 'age', 'distance_birth', 'distance_death',\n",
      "       'distance_delta', 'nationality_num', 'party_num', 'occupation_num',\n",
      "       'is_alive_no', 'is_alive_unknown', 'is_alive_yes', 'year_interval_1',\n",
      "       'year_interval_2', 'year_interval_3'],\n",
      "      dtype='object')\n",
      "Accuracy Score: 0.6869047619047619 Var: 0.016953302154195014\n",
      "\n",
      "Confusion Matrix:\n",
      "\n",
      "[[26  6]\n",
      " [18 19]]\n",
      "\n",
      "Classification Report:\n",
      "\n",
      "             precision    recall  f1-score   support\n",
      "\n",
      "     female       0.59      0.81      0.68        32\n",
      "       male       0.76      0.51      0.61        37\n",
      "\n",
      "avg / total       0.68      0.65      0.65        69\n",
      "\n",
      "###############################################################\n",
      "Feature Selection: RFE: \n",
      "\n"
     ]
    },
    {
     "ename": "RuntimeError",
     "evalue": "The classifier does not expose \"coef_\" or \"feature_importances_\" attributes",
     "output_type": "error",
     "traceback": [
      "\u001b[0;31m---------------------------------------------------------------------------\u001b[0m",
      "\u001b[0;31mRuntimeError\u001b[0m                              Traceback (most recent call last)",
      "\u001b[0;32m<ipython-input-21-fc175781379c>\u001b[0m in \u001b[0;36m<module>\u001b[0;34m()\u001b[0m\n\u001b[0;32m----> 1\u001b[0;31m \u001b[0mfull_report\u001b[0m\u001b[1;33m(\u001b[0m\u001b[0mX_train\u001b[0m\u001b[1;33m,\u001b[0m \u001b[0mX_test\u001b[0m\u001b[1;33m,\u001b[0m \u001b[0my_train\u001b[0m\u001b[1;33m,\u001b[0m \u001b[0my_test\u001b[0m\u001b[1;33m,\u001b[0m \u001b[0ms_vm\u001b[0m\u001b[1;33m)\u001b[0m\u001b[1;33m\u001b[0m\u001b[0m\n\u001b[0m",
      "\u001b[0;32m<ipython-input-2-7fbae5155869>\u001b[0m in \u001b[0;36mfull_report\u001b[0;34m(X_train, X_test, y_train, y_test, model)\u001b[0m\n\u001b[1;32m    289\u001b[0m     \u001b[0mprint\u001b[0m\u001b[1;33m(\u001b[0m\u001b[1;34m\"\"\"Feature Selection: RFE: \\n\"\"\"\u001b[0m\u001b[1;33m)\u001b[0m\u001b[1;33m\u001b[0m\u001b[0m\n\u001b[1;32m    290\u001b[0m     k = change_of_evaluation_rfe(X_train, X_test, y_train, y_test,\n\u001b[0;32m--> 291\u001b[0;31m                                  model,metric='accuracy')\n\u001b[0m\u001b[1;32m    292\u001b[0m     \u001b[0mfeatures\u001b[0m \u001b[1;33m=\u001b[0m \u001b[0mget_features_rfe\u001b[0m\u001b[1;33m(\u001b[0m\u001b[0mbase\u001b[0m\u001b[1;33m,\u001b[0m\u001b[0mmodel\u001b[0m\u001b[1;33m,\u001b[0m \u001b[0mk\u001b[0m\u001b[1;33m=\u001b[0m\u001b[0mk\u001b[0m\u001b[1;33m)\u001b[0m\u001b[1;33m\u001b[0m\u001b[0m\n\u001b[1;32m    293\u001b[0m     \u001b[0mprint\u001b[0m\u001b[1;33m(\u001b[0m\u001b[1;34m\"Number of features: \"\u001b[0m\u001b[1;33m,\u001b[0m \u001b[0mlen\u001b[0m\u001b[1;33m(\u001b[0m\u001b[0mfeatures\u001b[0m\u001b[1;33m)\u001b[0m\u001b[1;33m)\u001b[0m\u001b[1;33m\u001b[0m\u001b[0m\n",
      "\u001b[0;32m<ipython-input-2-7fbae5155869>\u001b[0m in \u001b[0;36mchange_of_evaluation_rfe\u001b[0;34m(X_train, X_test, y_train, y_test, model, metric)\u001b[0m\n\u001b[1;32m    167\u001b[0m     \u001b[0mscore\u001b[0m \u001b[1;33m=\u001b[0m \u001b[1;33m[\u001b[0m\u001b[1;33m]\u001b[0m\u001b[1;33m\u001b[0m\u001b[0m\n\u001b[1;32m    168\u001b[0m     \u001b[1;32mfor\u001b[0m \u001b[0mk\u001b[0m \u001b[1;32min\u001b[0m \u001b[0mrange\u001b[0m\u001b[1;33m(\u001b[0m\u001b[0mlen\u001b[0m\u001b[1;33m(\u001b[0m\u001b[0mX\u001b[0m\u001b[1;33m.\u001b[0m\u001b[0mcolumns\u001b[0m\u001b[1;33m)\u001b[0m\u001b[1;33m,\u001b[0m\u001b[1;36m0\u001b[0m\u001b[1;33m,\u001b[0m\u001b[1;33m-\u001b[0m\u001b[1;36m1\u001b[0m\u001b[1;33m)\u001b[0m\u001b[1;33m:\u001b[0m\u001b[1;33m\u001b[0m\u001b[0m\n\u001b[0;32m--> 169\u001b[0;31m         \u001b[0mcolumns\u001b[0m \u001b[1;33m=\u001b[0m \u001b[0mget_features_rfe\u001b[0m\u001b[1;33m(\u001b[0m\u001b[0mbase\u001b[0m\u001b[1;33m,\u001b[0m\u001b[0mmodel\u001b[0m\u001b[1;33m,\u001b[0m\u001b[0mk\u001b[0m\u001b[1;33m)\u001b[0m\u001b[1;33m\u001b[0m\u001b[0m\n\u001b[0m\u001b[1;32m    170\u001b[0m         \u001b[0mX_tr\u001b[0m \u001b[1;33m=\u001b[0m \u001b[0mX_train\u001b[0m\u001b[1;33m[\u001b[0m\u001b[0mcolumns\u001b[0m\u001b[1;33m]\u001b[0m\u001b[1;33m\u001b[0m\u001b[0m\n\u001b[1;32m    171\u001b[0m         \u001b[0mX_te\u001b[0m \u001b[1;33m=\u001b[0m \u001b[0mX_test\u001b[0m\u001b[1;33m[\u001b[0m\u001b[0mcolumns\u001b[0m\u001b[1;33m]\u001b[0m\u001b[1;33m\u001b[0m\u001b[0m\n",
      "\u001b[0;32m<ipython-input-2-7fbae5155869>\u001b[0m in \u001b[0;36mget_features_rfe\u001b[0;34m(data_frame, model, k)\u001b[0m\n\u001b[1;32m    109\u001b[0m     \u001b[0my\u001b[0m \u001b[1;33m=\u001b[0m \u001b[0mdata_frame\u001b[0m\u001b[1;33m[\u001b[0m\u001b[1;34m\"gender\"\u001b[0m\u001b[1;33m]\u001b[0m\u001b[1;33m\u001b[0m\u001b[0m\n\u001b[1;32m    110\u001b[0m     \u001b[0mselector\u001b[0m \u001b[1;33m=\u001b[0m \u001b[0mRFE\u001b[0m\u001b[1;33m(\u001b[0m\u001b[0mmodel\u001b[0m\u001b[1;33m,\u001b[0m \u001b[0mk\u001b[0m\u001b[1;33m,\u001b[0m \u001b[0mstep\u001b[0m\u001b[1;33m=\u001b[0m\u001b[1;36m1\u001b[0m\u001b[1;33m)\u001b[0m\u001b[1;33m\u001b[0m\u001b[0m\n\u001b[0;32m--> 111\u001b[0;31m     \u001b[0mselector\u001b[0m \u001b[1;33m=\u001b[0m \u001b[0mselector\u001b[0m\u001b[1;33m.\u001b[0m\u001b[0mfit\u001b[0m\u001b[1;33m(\u001b[0m\u001b[0mX\u001b[0m\u001b[1;33m,\u001b[0m \u001b[0my\u001b[0m\u001b[1;33m)\u001b[0m\u001b[1;33m\u001b[0m\u001b[0m\n\u001b[0m\u001b[1;32m    112\u001b[0m \u001b[1;31m#     print(selector.support_)\u001b[0m\u001b[1;33m\u001b[0m\u001b[1;33m\u001b[0m\u001b[0m\n\u001b[1;32m    113\u001b[0m     df = pd.DataFrame({\n",
      "\u001b[0;32mC:\\Users\\vujovisn\\AppData\\Local\\Continuum\\Anaconda3\\lib\\site-packages\\sklearn\\feature_selection\\rfe.py\u001b[0m in \u001b[0;36mfit\u001b[0;34m(self, X, y)\u001b[0m\n\u001b[1;32m    132\u001b[0m             \u001b[0mThe\u001b[0m \u001b[0mtarget\u001b[0m \u001b[0mvalues\u001b[0m\u001b[1;33m.\u001b[0m\u001b[1;33m\u001b[0m\u001b[0m\n\u001b[1;32m    133\u001b[0m         \"\"\"\n\u001b[0;32m--> 134\u001b[0;31m         \u001b[1;32mreturn\u001b[0m \u001b[0mself\u001b[0m\u001b[1;33m.\u001b[0m\u001b[0m_fit\u001b[0m\u001b[1;33m(\u001b[0m\u001b[0mX\u001b[0m\u001b[1;33m,\u001b[0m \u001b[0my\u001b[0m\u001b[1;33m)\u001b[0m\u001b[1;33m\u001b[0m\u001b[0m\n\u001b[0m\u001b[1;32m    135\u001b[0m \u001b[1;33m\u001b[0m\u001b[0m\n\u001b[1;32m    136\u001b[0m     \u001b[1;32mdef\u001b[0m \u001b[0m_fit\u001b[0m\u001b[1;33m(\u001b[0m\u001b[0mself\u001b[0m\u001b[1;33m,\u001b[0m \u001b[0mX\u001b[0m\u001b[1;33m,\u001b[0m \u001b[0my\u001b[0m\u001b[1;33m,\u001b[0m \u001b[0mstep_score\u001b[0m\u001b[1;33m=\u001b[0m\u001b[1;32mNone\u001b[0m\u001b[1;33m)\u001b[0m\u001b[1;33m:\u001b[0m\u001b[1;33m\u001b[0m\u001b[0m\n",
      "\u001b[0;32mC:\\Users\\vujovisn\\AppData\\Local\\Continuum\\Anaconda3\\lib\\site-packages\\sklearn\\feature_selection\\rfe.py\u001b[0m in \u001b[0;36m_fit\u001b[0;34m(self, X, y, step_score)\u001b[0m\n\u001b[1;32m    179\u001b[0m                 \u001b[0mcoefs\u001b[0m \u001b[1;33m=\u001b[0m \u001b[0mgetattr\u001b[0m\u001b[1;33m(\u001b[0m\u001b[0mestimator\u001b[0m\u001b[1;33m,\u001b[0m \u001b[1;34m'feature_importances_'\u001b[0m\u001b[1;33m,\u001b[0m \u001b[1;32mNone\u001b[0m\u001b[1;33m)\u001b[0m\u001b[1;33m\u001b[0m\u001b[0m\n\u001b[1;32m    180\u001b[0m             \u001b[1;32mif\u001b[0m \u001b[0mcoefs\u001b[0m \u001b[1;32mis\u001b[0m \u001b[1;32mNone\u001b[0m\u001b[1;33m:\u001b[0m\u001b[1;33m\u001b[0m\u001b[0m\n\u001b[0;32m--> 181\u001b[0;31m                 raise RuntimeError('The classifier does not expose '\n\u001b[0m\u001b[1;32m    182\u001b[0m                                    \u001b[1;34m'\"coef_\" or \"feature_importances_\" '\u001b[0m\u001b[1;33m\u001b[0m\u001b[0m\n\u001b[1;32m    183\u001b[0m                                    'attributes')\n",
      "\u001b[0;31mRuntimeError\u001b[0m: The classifier does not expose \"coef_\" or \"feature_importances_\" attributes"
     ]
    }
   ],
   "source": [
    "full_report(X_train, X_test, y_train, y_test, s_vm)"
   ]
  },
  {
   "cell_type": "markdown",
   "metadata": {},
   "source": [
    "# Logistic Regression"
   ]
  },
  {
   "cell_type": "code",
   "execution_count": null,
   "metadata": {
    "collapsed": false
   },
   "outputs": [],
   "source": [
    "full_report(X_train, X_test, y_train, y_test, log_reg)"
   ]
  },
  {
   "cell_type": "markdown",
   "metadata": {},
   "source": [
    "# Decision Tree "
   ]
  },
  {
   "cell_type": "code",
   "execution_count": null,
   "metadata": {
    "collapsed": false
   },
   "outputs": [],
   "source": [
    "full_report(X_train, X_test, y_train, y_test, d_tree)"
   ]
  },
  {
   "cell_type": "markdown",
   "metadata": {},
   "source": [
    "# Random Forest"
   ]
  },
  {
   "cell_type": "code",
   "execution_count": null,
   "metadata": {
    "collapsed": false
   },
   "outputs": [],
   "source": [
    "full_report(X_train, X_test, y_train, y_test, r_forest)"
   ]
  },
  {
   "cell_type": "code",
   "execution_count": null,
   "metadata": {
    "collapsed": false
   },
   "outputs": [],
   "source": [
    "# TODO: \n",
    "# 2. Figure out most accurate model\n",
    "# 4. Do the same for loged skewed values"
   ]
  },
  {
   "cell_type": "code",
   "execution_count": null,
   "metadata": {
    "collapsed": false
   },
   "outputs": [],
   "source": [
    "# train, t, test, t = train_test_split(data, test_size=0.2)"
   ]
  },
  {
   "cell_type": "markdown",
   "metadata": {},
   "source": [
    "# Normalizing the data"
   ]
  },
  {
   "cell_type": "code",
   "execution_count": null,
   "metadata": {
    "collapsed": false
   },
   "outputs": [],
   "source": [
    "X_train_norm = normalize(X_train, columns=[\"eig_central\",\"in_degree\",\"k_core\",\"out_degree\",\"views\"])\n",
    "X_test_norm = normalize(X_test, columns=[\"eig_central\",\"in_degree\",\"k_core\",\"out_degree\",\"views\"])"
   ]
  },
  {
   "cell_type": "markdown",
   "metadata": {},
   "source": [
    "# SVM"
   ]
  },
  {
   "cell_type": "code",
   "execution_count": null,
   "metadata": {
    "collapsed": false
   },
   "outputs": [],
   "source": [
    "full_report(X_train, X_test, y_train, y_test, s_vm)"
   ]
  },
  {
   "cell_type": "markdown",
   "metadata": {},
   "source": [
    "# Logistic Regression"
   ]
  },
  {
   "cell_type": "code",
   "execution_count": null,
   "metadata": {
    "collapsed": false
   },
   "outputs": [],
   "source": [
    "full_report(X_train, X_test, y_train, y_test, log_reg)"
   ]
  },
  {
   "cell_type": "markdown",
   "metadata": {},
   "source": [
    "# Decision Tree "
   ]
  },
  {
   "cell_type": "code",
   "execution_count": null,
   "metadata": {
    "collapsed": false
   },
   "outputs": [],
   "source": [
    "full_report(X_train, X_test, y_train, y_test, r_forest)"
   ]
  },
  {
   "cell_type": "markdown",
   "metadata": {},
   "source": [
    "# Random Forest"
   ]
  },
  {
   "cell_type": "code",
   "execution_count": null,
   "metadata": {
    "collapsed": false
   },
   "outputs": [],
   "source": [
    "full_report(X_train, X_test, y_train, y_test, r_forest)"
   ]
  },
  {
   "cell_type": "code",
   "execution_count": null,
   "metadata": {
    "collapsed": true
   },
   "outputs": [],
   "source": []
  }
 ],
 "metadata": {
  "kernelspec": {
   "display_name": "Python 3",
   "language": "python",
   "name": "python3"
  },
  "language_info": {
   "codemirror_mode": {
    "name": "ipython",
    "version": 3
   },
   "file_extension": ".py",
   "mimetype": "text/x-python",
   "name": "python",
   "nbconvert_exporter": "python",
   "pygments_lexer": "ipython3",
   "version": "3.6.0"
  }
 },
 "nbformat": 4,
 "nbformat_minor": 2
}
