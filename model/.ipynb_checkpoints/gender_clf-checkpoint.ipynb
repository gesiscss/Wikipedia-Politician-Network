{
 "cells": [
  {
   "cell_type": "code",
   "execution_count": 38,
   "metadata": {
    "collapsed": false
   },
   "outputs": [],
   "source": [
    "import sklearn\n",
    "from sklearn.model_selection import train_test_split, cross_val_score\n",
    "from sklearn.feature_extraction import DictVectorizer\n",
    "from sklearn import tree\n",
    "from sklearn.metrics import confusion_matrix, accuracy_score\n",
    "from sklearn.ensemble import ExtraTreesClassifier, RandomForestClassifier\n",
    "from sklearn.feature_selection import f_classif, mutual_info_classif, SelectKBest, mutual_info_classif, RFE\n",
    "import pandas as pd \n",
    "import numpy as np \n",
    "import matplotlib.pyplot as plt\n",
    "import seaborn as sns\n",
    "%matplotlib inline"
   ]
  },
  {
   "cell_type": "markdown",
   "metadata": {},
   "source": [
    "# Methods"
   ]
  },
  {
   "cell_type": "code",
   "execution_count": 86,
   "metadata": {
    "collapsed": false
   },
   "outputs": [],
   "source": [
    "def show_kbest(data_frame, target, linear_rel=True, k=4):\n",
    "    \"\"\"\n",
    "    Selecting K-Best features for classification\n",
    "    :param data_frame: A pandas dataFrame with the training data\n",
    "    :param target: target variable name in DataFrame\n",
    "    :param k: desired number of features from the data\n",
    "    :returns feature_scores: scores for each feature in the data as \n",
    "    pandas DataFrame\n",
    "    \"\"\"\n",
    "    scores = []\n",
    "    if linear_rel == True: \n",
    "        feat_selector = SelectKBest(f_classif, k=k)\n",
    "        _ = feat_selector.fit(data_frame.drop(target, axis=1), data_frame[target])\n",
    "        col_name = \"F Score\"\n",
    "    else:\n",
    "        feat_selector = SelectKBest(mutual_info_classif, k=k)\n",
    "        _ = feat_selector.fit(data_frame.drop(target, axis=1), data_frame[target])\n",
    "        col_name = \"Mutual Information\"\n",
    "    \n",
    "    feat_scores = pd.DataFrame()\n",
    "    feat_scores[col_name] = feat_selector.scores_\n",
    "    feat_scores[\"P Value\"] = feat_selector.pvalues_\n",
    "    feat_scores[\"Support\"] = feat_selector.get_support()\n",
    "    feat_scores[\"Attribute\"] = data_frame.drop(target, axis=1).columns\n",
    "    \n",
    "    return feat_scores \n",
    "\n",
    "def preprocess_data_frame(data_frame, columns):\n",
    "    \"\"\"\n",
    "    Dummifying and encoding variables of dataframe, droping rows with NAN values\n",
    "    :param data_frame: A pandas DataFrame to be processed\n",
    "    pandas DataFrame\n",
    "    :param columns: List of column names of categorical variables \n",
    "    :returns data_frame: encoded variable DataFrame\n",
    "    \"\"\"\n",
    "    data_frame = data_frame.dropna()\n",
    "    data_frame = data_frame.reset_index(drop=True)\n",
    "    \n",
    "    for col in columns:\n",
    "#         print(data_frame[col])\n",
    "        data_frame[col] = encode_variable(data_frame[col])\n",
    "#         print(data_frame[col])\n",
    "    data_frame = pd.get_dummies(data_frame)\n",
    "    return data_frame\n",
    "    \n",
    "def encode_variable(series):\n",
    "    \"\"\"\n",
    "    Encoding categorical variables to numericial values\n",
    "    :param series: A pandas Series with categorical values\n",
    "    pandas DataFrame\n",
    "    :returns data_frame: encoded variable DataFrame\n",
    "    \"\"\"\n",
    "    le = sklearn.preprocessing.LabelEncoder()\n",
    "    le.fit(series)\n",
    "    print(list(le.classes_))\n",
    "    print(set(le.transform(series))) \n",
    "    data_frame = pd.DataFrame({\n",
    "        series.name: le.transform(series)\n",
    "    })\n",
    "    return data_frame\n",
    "    \n",
    "def split_dataframe(data_frame, target):\n",
    "    \"\"\"\n",
    "    Split dataframe to predictors and target\n",
    "    :param data_frame: A pandas dataFrame with the training data\n",
    "    :param target: target variable name in DataFrame\n",
    "    :returns DataFrames: X (predictors) and y (target) dataframes \n",
    "    \"\"\"\n",
    "    X = data.drop([target], axis=1)\n",
    "    y = encode_variable(data_frame[target])\n",
    "    return X, y "
   ]
  },
  {
   "cell_type": "markdown",
   "metadata": {},
   "source": [
    "# Load the data"
   ]
  },
  {
   "cell_type": "code",
   "execution_count": 64,
   "metadata": {
    "collapsed": false
   },
   "outputs": [],
   "source": [
    "data = pd.read_pickle(\"../data/final_sets/countries/model/2016_german\")"
   ]
  },
  {
   "cell_type": "code",
   "execution_count": 65,
   "metadata": {
    "collapsed": false
   },
   "outputs": [
    {
     "data": {
      "text/html": [
       "<div>\n",
       "<style>\n",
       "    .dataframe thead tr:only-child th {\n",
       "        text-align: right;\n",
       "    }\n",
       "\n",
       "    .dataframe thead th {\n",
       "        text-align: left;\n",
       "    }\n",
       "\n",
       "    .dataframe tbody tr th {\n",
       "        vertical-align: top;\n",
       "    }\n",
       "</style>\n",
       "<table border=\"1\" class=\"dataframe\">\n",
       "  <thead>\n",
       "    <tr style=\"text-align: right;\">\n",
       "      <th></th>\n",
       "      <th>gender</th>\n",
       "      <th>entered</th>\n",
       "      <th>efficiency</th>\n",
       "      <th>eig_central</th>\n",
       "      <th>in_degree</th>\n",
       "      <th>k_core</th>\n",
       "      <th>out_degree</th>\n",
       "      <th>views</th>\n",
       "      <th>age</th>\n",
       "      <th>is_alive</th>\n",
       "      <th>distance_birth</th>\n",
       "      <th>distance_death</th>\n",
       "      <th>distance_delta</th>\n",
       "      <th>nationality_num</th>\n",
       "      <th>party_num</th>\n",
       "      <th>occupation_num</th>\n",
       "      <th>year_interval</th>\n",
       "    </tr>\n",
       "  </thead>\n",
       "  <tbody>\n",
       "    <tr>\n",
       "      <th>7</th>\n",
       "      <td>male</td>\n",
       "      <td>2011</td>\n",
       "      <td>1.000</td>\n",
       "      <td>2.021104e-19</td>\n",
       "      <td>0</td>\n",
       "      <td>1</td>\n",
       "      <td>1</td>\n",
       "      <td>1652.0</td>\n",
       "      <td>70</td>\n",
       "      <td>no</td>\n",
       "      <td>142</td>\n",
       "      <td>71</td>\n",
       "      <td>71</td>\n",
       "      <td>1</td>\n",
       "      <td>0</td>\n",
       "      <td>1</td>\n",
       "      <td>3</td>\n",
       "    </tr>\n",
       "    <tr>\n",
       "      <th>113</th>\n",
       "      <td>male</td>\n",
       "      <td>2012</td>\n",
       "      <td>0.920</td>\n",
       "      <td>2.530002e-05</td>\n",
       "      <td>2</td>\n",
       "      <td>5</td>\n",
       "      <td>3</td>\n",
       "      <td>2376.0</td>\n",
       "      <td>73</td>\n",
       "      <td>no</td>\n",
       "      <td>128</td>\n",
       "      <td>54</td>\n",
       "      <td>74</td>\n",
       "      <td>1</td>\n",
       "      <td>0</td>\n",
       "      <td>1</td>\n",
       "      <td>3</td>\n",
       "    </tr>\n",
       "    <tr>\n",
       "      <th>127</th>\n",
       "      <td>male</td>\n",
       "      <td>2009</td>\n",
       "      <td>0.625</td>\n",
       "      <td>-1.456437e-19</td>\n",
       "      <td>0</td>\n",
       "      <td>4</td>\n",
       "      <td>4</td>\n",
       "      <td>32143.0</td>\n",
       "      <td>60</td>\n",
       "      <td>no</td>\n",
       "      <td>113</td>\n",
       "      <td>53</td>\n",
       "      <td>60</td>\n",
       "      <td>1</td>\n",
       "      <td>0</td>\n",
       "      <td>2</td>\n",
       "      <td>2</td>\n",
       "    </tr>\n",
       "    <tr>\n",
       "      <th>132</th>\n",
       "      <td>male</td>\n",
       "      <td>2009</td>\n",
       "      <td>1.000</td>\n",
       "      <td>9.096369e-08</td>\n",
       "      <td>1</td>\n",
       "      <td>2</td>\n",
       "      <td>1</td>\n",
       "      <td>2268.0</td>\n",
       "      <td>71</td>\n",
       "      <td>no</td>\n",
       "      <td>103</td>\n",
       "      <td>31</td>\n",
       "      <td>72</td>\n",
       "      <td>1</td>\n",
       "      <td>0</td>\n",
       "      <td>1</td>\n",
       "      <td>2</td>\n",
       "    </tr>\n",
       "    <tr>\n",
       "      <th>158</th>\n",
       "      <td>male</td>\n",
       "      <td>2011</td>\n",
       "      <td>0.750</td>\n",
       "      <td>7.461692e-04</td>\n",
       "      <td>2</td>\n",
       "      <td>4</td>\n",
       "      <td>2</td>\n",
       "      <td>19536.0</td>\n",
       "      <td>48</td>\n",
       "      <td>no</td>\n",
       "      <td>165</td>\n",
       "      <td>117</td>\n",
       "      <td>48</td>\n",
       "      <td>1</td>\n",
       "      <td>0</td>\n",
       "      <td>1</td>\n",
       "      <td>3</td>\n",
       "    </tr>\n",
       "  </tbody>\n",
       "</table>\n",
       "</div>"
      ],
      "text/plain": [
       "    gender  entered  efficiency   eig_central  in_degree  k_core  out_degree  \\\n",
       "7     male     2011       1.000  2.021104e-19          0       1           1   \n",
       "113   male     2012       0.920  2.530002e-05          2       5           3   \n",
       "127   male     2009       0.625 -1.456437e-19          0       4           4   \n",
       "132   male     2009       1.000  9.096369e-08          1       2           1   \n",
       "158   male     2011       0.750  7.461692e-04          2       4           2   \n",
       "\n",
       "       views  age is_alive  distance_birth  distance_death  distance_delta  \\\n",
       "7     1652.0   70       no             142              71              71   \n",
       "113   2376.0   73       no             128              54              74   \n",
       "127  32143.0   60       no             113              53              60   \n",
       "132   2268.0   71       no             103              31              72   \n",
       "158  19536.0   48       no             165             117              48   \n",
       "\n",
       "     nationality_num  party_num  occupation_num year_interval  \n",
       "7                  1          0               1             3  \n",
       "113                1          0               1             3  \n",
       "127                1          0               2             2  \n",
       "132                1          0               1             2  \n",
       "158                1          0               1             3  "
      ]
     },
     "execution_count": 65,
     "metadata": {},
     "output_type": "execute_result"
    }
   ],
   "source": [
    "data.head()"
   ]
  },
  {
   "cell_type": "markdown",
   "metadata": {},
   "source": [
    "# Preprocesing"
   ]
  },
  {
   "cell_type": "code",
   "execution_count": 66,
   "metadata": {
    "collapsed": false
   },
   "outputs": [
    {
     "name": "stdout",
     "output_type": "stream",
     "text": [
      "['female', 'male']\n",
      "{0, 1}\n"
     ]
    }
   ],
   "source": [
    "data = preprocess_data_frame(data, [\"gender\"])\n",
    "# data[\"gender\"]"
   ]
  },
  {
   "cell_type": "code",
   "execution_count": 67,
   "metadata": {
    "collapsed": false
   },
   "outputs": [
    {
     "name": "stdout",
     "output_type": "stream",
     "text": [
      "[0, 1]\n",
      "{0, 1}\n"
     ]
    }
   ],
   "source": [
    "X,y=split_dataframe(data,\"gender\")"
   ]
  },
  {
   "cell_type": "code",
   "execution_count": 68,
   "metadata": {
    "collapsed": false
   },
   "outputs": [
    {
     "data": {
      "text/html": [
       "<div>\n",
       "<style>\n",
       "    .dataframe thead tr:only-child th {\n",
       "        text-align: right;\n",
       "    }\n",
       "\n",
       "    .dataframe thead th {\n",
       "        text-align: left;\n",
       "    }\n",
       "\n",
       "    .dataframe tbody tr th {\n",
       "        vertical-align: top;\n",
       "    }\n",
       "</style>\n",
       "<table border=\"1\" class=\"dataframe\">\n",
       "  <thead>\n",
       "    <tr style=\"text-align: right;\">\n",
       "      <th></th>\n",
       "      <th>entered</th>\n",
       "      <th>efficiency</th>\n",
       "      <th>eig_central</th>\n",
       "      <th>in_degree</th>\n",
       "      <th>k_core</th>\n",
       "      <th>out_degree</th>\n",
       "      <th>views</th>\n",
       "      <th>age</th>\n",
       "      <th>distance_birth</th>\n",
       "      <th>distance_death</th>\n",
       "      <th>distance_delta</th>\n",
       "      <th>nationality_num</th>\n",
       "      <th>party_num</th>\n",
       "      <th>occupation_num</th>\n",
       "      <th>is_alive_no</th>\n",
       "      <th>is_alive_unknown</th>\n",
       "      <th>is_alive_yes</th>\n",
       "      <th>year_interval_1</th>\n",
       "      <th>year_interval_2</th>\n",
       "      <th>year_interval_3</th>\n",
       "    </tr>\n",
       "  </thead>\n",
       "  <tbody>\n",
       "    <tr>\n",
       "      <th>0</th>\n",
       "      <td>2011</td>\n",
       "      <td>1.000</td>\n",
       "      <td>2.021104e-19</td>\n",
       "      <td>0</td>\n",
       "      <td>1</td>\n",
       "      <td>1</td>\n",
       "      <td>1652.0</td>\n",
       "      <td>70</td>\n",
       "      <td>142</td>\n",
       "      <td>71</td>\n",
       "      <td>71</td>\n",
       "      <td>1</td>\n",
       "      <td>0</td>\n",
       "      <td>1</td>\n",
       "      <td>1</td>\n",
       "      <td>0</td>\n",
       "      <td>0</td>\n",
       "      <td>0</td>\n",
       "      <td>0</td>\n",
       "      <td>1</td>\n",
       "    </tr>\n",
       "    <tr>\n",
       "      <th>1</th>\n",
       "      <td>2012</td>\n",
       "      <td>0.920</td>\n",
       "      <td>2.530002e-05</td>\n",
       "      <td>2</td>\n",
       "      <td>5</td>\n",
       "      <td>3</td>\n",
       "      <td>2376.0</td>\n",
       "      <td>73</td>\n",
       "      <td>128</td>\n",
       "      <td>54</td>\n",
       "      <td>74</td>\n",
       "      <td>1</td>\n",
       "      <td>0</td>\n",
       "      <td>1</td>\n",
       "      <td>1</td>\n",
       "      <td>0</td>\n",
       "      <td>0</td>\n",
       "      <td>0</td>\n",
       "      <td>0</td>\n",
       "      <td>1</td>\n",
       "    </tr>\n",
       "    <tr>\n",
       "      <th>2</th>\n",
       "      <td>2009</td>\n",
       "      <td>0.625</td>\n",
       "      <td>-1.456437e-19</td>\n",
       "      <td>0</td>\n",
       "      <td>4</td>\n",
       "      <td>4</td>\n",
       "      <td>32143.0</td>\n",
       "      <td>60</td>\n",
       "      <td>113</td>\n",
       "      <td>53</td>\n",
       "      <td>60</td>\n",
       "      <td>1</td>\n",
       "      <td>0</td>\n",
       "      <td>2</td>\n",
       "      <td>1</td>\n",
       "      <td>0</td>\n",
       "      <td>0</td>\n",
       "      <td>0</td>\n",
       "      <td>1</td>\n",
       "      <td>0</td>\n",
       "    </tr>\n",
       "    <tr>\n",
       "      <th>3</th>\n",
       "      <td>2009</td>\n",
       "      <td>1.000</td>\n",
       "      <td>9.096369e-08</td>\n",
       "      <td>1</td>\n",
       "      <td>2</td>\n",
       "      <td>1</td>\n",
       "      <td>2268.0</td>\n",
       "      <td>71</td>\n",
       "      <td>103</td>\n",
       "      <td>31</td>\n",
       "      <td>72</td>\n",
       "      <td>1</td>\n",
       "      <td>0</td>\n",
       "      <td>1</td>\n",
       "      <td>1</td>\n",
       "      <td>0</td>\n",
       "      <td>0</td>\n",
       "      <td>0</td>\n",
       "      <td>1</td>\n",
       "      <td>0</td>\n",
       "    </tr>\n",
       "    <tr>\n",
       "      <th>4</th>\n",
       "      <td>2011</td>\n",
       "      <td>0.750</td>\n",
       "      <td>7.461692e-04</td>\n",
       "      <td>2</td>\n",
       "      <td>4</td>\n",
       "      <td>2</td>\n",
       "      <td>19536.0</td>\n",
       "      <td>48</td>\n",
       "      <td>165</td>\n",
       "      <td>117</td>\n",
       "      <td>48</td>\n",
       "      <td>1</td>\n",
       "      <td>0</td>\n",
       "      <td>1</td>\n",
       "      <td>1</td>\n",
       "      <td>0</td>\n",
       "      <td>0</td>\n",
       "      <td>0</td>\n",
       "      <td>0</td>\n",
       "      <td>1</td>\n",
       "    </tr>\n",
       "  </tbody>\n",
       "</table>\n",
       "</div>"
      ],
      "text/plain": [
       "   entered  efficiency   eig_central  in_degree  k_core  out_degree    views  \\\n",
       "0     2011       1.000  2.021104e-19          0       1           1   1652.0   \n",
       "1     2012       0.920  2.530002e-05          2       5           3   2376.0   \n",
       "2     2009       0.625 -1.456437e-19          0       4           4  32143.0   \n",
       "3     2009       1.000  9.096369e-08          1       2           1   2268.0   \n",
       "4     2011       0.750  7.461692e-04          2       4           2  19536.0   \n",
       "\n",
       "   age  distance_birth  distance_death  distance_delta  nationality_num  \\\n",
       "0   70             142              71              71                1   \n",
       "1   73             128              54              74                1   \n",
       "2   60             113              53              60                1   \n",
       "3   71             103              31              72                1   \n",
       "4   48             165             117              48                1   \n",
       "\n",
       "   party_num  occupation_num  is_alive_no  is_alive_unknown  is_alive_yes  \\\n",
       "0          0               1            1                 0             0   \n",
       "1          0               1            1                 0             0   \n",
       "2          0               2            1                 0             0   \n",
       "3          0               1            1                 0             0   \n",
       "4          0               1            1                 0             0   \n",
       "\n",
       "   year_interval_1  year_interval_2  year_interval_3  \n",
       "0                0                0                1  \n",
       "1                0                0                1  \n",
       "2                0                1                0  \n",
       "3                0                1                0  \n",
       "4                0                0                1  "
      ]
     },
     "execution_count": 68,
     "metadata": {},
     "output_type": "execute_result"
    }
   ],
   "source": [
    "X.head()"
   ]
  },
  {
   "cell_type": "code",
   "execution_count": 69,
   "metadata": {
    "collapsed": false
   },
   "outputs": [
    {
     "data": {
      "text/html": [
       "<div>\n",
       "<style>\n",
       "    .dataframe thead tr:only-child th {\n",
       "        text-align: right;\n",
       "    }\n",
       "\n",
       "    .dataframe thead th {\n",
       "        text-align: left;\n",
       "    }\n",
       "\n",
       "    .dataframe tbody tr th {\n",
       "        vertical-align: top;\n",
       "    }\n",
       "</style>\n",
       "<table border=\"1\" class=\"dataframe\">\n",
       "  <thead>\n",
       "    <tr style=\"text-align: right;\">\n",
       "      <th></th>\n",
       "      <th>gender</th>\n",
       "    </tr>\n",
       "  </thead>\n",
       "  <tbody>\n",
       "    <tr>\n",
       "      <th>0</th>\n",
       "      <td>1</td>\n",
       "    </tr>\n",
       "    <tr>\n",
       "      <th>1</th>\n",
       "      <td>1</td>\n",
       "    </tr>\n",
       "    <tr>\n",
       "      <th>2</th>\n",
       "      <td>1</td>\n",
       "    </tr>\n",
       "    <tr>\n",
       "      <th>3</th>\n",
       "      <td>1</td>\n",
       "    </tr>\n",
       "    <tr>\n",
       "      <th>4</th>\n",
       "      <td>1</td>\n",
       "    </tr>\n",
       "  </tbody>\n",
       "</table>\n",
       "</div>"
      ],
      "text/plain": [
       "   gender\n",
       "0       1\n",
       "1       1\n",
       "2       1\n",
       "3       1\n",
       "4       1"
      ]
     },
     "execution_count": 69,
     "metadata": {},
     "output_type": "execute_result"
    }
   ],
   "source": [
    "y.head()"
   ]
  },
  {
   "cell_type": "code",
   "execution_count": 70,
   "metadata": {
    "collapsed": false
   },
   "outputs": [],
   "source": [
    "X_train, X_test, y_train, y_test = train_test_split(X, y, test_size=0.3, random_state=42)\n",
    "y_test = list(np.array(y_test.values).flatten())\n",
    "y_train = list(np.array(y_train.values).flatten())"
   ]
  },
  {
   "cell_type": "markdown",
   "metadata": {},
   "source": [
    "# No feature selection"
   ]
  },
  {
   "cell_type": "code",
   "execution_count": 71,
   "metadata": {
    "collapsed": false
   },
   "outputs": [],
   "source": [
    "model = tree.DecisionTreeClassifier()"
   ]
  },
  {
   "cell_type": "code",
   "execution_count": 72,
   "metadata": {
    "collapsed": false
   },
   "outputs": [
    {
     "data": {
      "text/plain": [
       "DecisionTreeClassifier(class_weight=None, criterion='gini', max_depth=None,\n",
       "            max_features=None, max_leaf_nodes=None,\n",
       "            min_impurity_split=1e-07, min_samples_leaf=1,\n",
       "            min_samples_split=2, min_weight_fraction_leaf=0.0,\n",
       "            presort=False, random_state=None, splitter='best')"
      ]
     },
     "execution_count": 72,
     "metadata": {},
     "output_type": "execute_result"
    }
   ],
   "source": [
    "model.fit(X_train, y_train)"
   ]
  },
  {
   "cell_type": "code",
   "execution_count": 73,
   "metadata": {
    "collapsed": false
   },
   "outputs": [],
   "source": [
    "p = model.predict(X_test, y_test)"
   ]
  },
  {
   "cell_type": "code",
   "execution_count": 74,
   "metadata": {
    "collapsed": false
   },
   "outputs": [
    {
     "data": {
      "text/plain": [
       "0.7913486005089059"
      ]
     },
     "execution_count": 74,
     "metadata": {},
     "output_type": "execute_result"
    }
   ],
   "source": [
    "accuracy_score(y_test, p)"
   ]
  },
  {
   "cell_type": "code",
   "execution_count": 75,
   "metadata": {
    "collapsed": false
   },
   "outputs": [
    {
     "data": {
      "text/plain": [
       "array([0.87804878, 0.75      , 0.79487179, 0.87179487, 0.82051282,\n",
       "       0.74358974, 0.82051282, 0.87179487, 0.87179487, 0.79487179])"
      ]
     },
     "execution_count": 75,
     "metadata": {},
     "output_type": "execute_result"
    }
   ],
   "source": [
    "scores = cross_val_score(model, X_test, y_test, cv=10)\n",
    "scores"
   ]
  },
  {
   "cell_type": "code",
   "execution_count": 76,
   "metadata": {
    "collapsed": false
   },
   "outputs": [],
   "source": [
    "def plot_loged(data, col_name):\n",
    "    x= np.log(data[col_name])\n",
    "    x = x[~np.isnan(x)]\n",
    "    x = x[x != np.inf]\n",
    "    x = x[x != -np.inf]\n",
    "    sns.distplot(x)"
   ]
  },
  {
   "cell_type": "code",
   "execution_count": 77,
   "metadata": {
    "collapsed": false
   },
   "outputs": [
    {
     "name": "stderr",
     "output_type": "stream",
     "text": [
      "C:\\Users\\Latitude E7450\\Anaconda3\\lib\\site-packages\\ipykernel\\__main__.py:2: RuntimeWarning: invalid value encountered in log\n",
      "  from ipykernel import kernelapp as app\n"
     ]
    },
    {
     "data": {
      "image/png": "[encoded data removed]",
      "text/plain": [
       "<matplotlib.figure.Figure at 0x23c24bac780>"
      ]
     },
     "metadata": {},
     "output_type": "display_data"
    }
   ],
   "source": [
    "plot_loged(data, \"eig_central\")"
   ]
  },
  {
   "cell_type": "code",
   "execution_count": 78,
   "metadata": {
    "collapsed": false
   },
   "outputs": [
    {
     "data": {
      "image/png": "[encoded data removed]",
      "text/plain": [
       "<matplotlib.figure.Figure at 0x23c24e9c438>"
      ]
     },
     "metadata": {},
     "output_type": "display_data"
    }
   ],
   "source": [
    "plot_loged(data, \"views\")"
   ]
  },
  {
   "cell_type": "code",
   "execution_count": 79,
   "metadata": {
    "collapsed": false
   },
   "outputs": [
    {
     "data": {
      "image/png": "[encoded data removed]",
      "text/plain": [
       "<matplotlib.figure.Figure at 0x23c24bdc198>"
      ]
     },
     "metadata": {},
     "output_type": "display_data"
    }
   ],
   "source": [
    "plot_loged(data, \"efficiency\")"
   ]
  },
  {
   "cell_type": "code",
   "execution_count": 80,
   "metadata": {
    "collapsed": false
   },
   "outputs": [
    {
     "data": {
      "image/png": "[encoded data removed]",
      "text/plain": [
       "<matplotlib.figure.Figure at 0x23c24ea5cf8>"
      ]
     },
     "metadata": {},
     "output_type": "display_data"
    }
   ],
   "source": [
    "plot_loged(data, \"k_core\")"
   ]
  },
  {
   "cell_type": "code",
   "execution_count": 81,
   "metadata": {
    "collapsed": false
   },
   "outputs": [
    {
     "name": "stderr",
     "output_type": "stream",
     "text": [
      "C:\\Users\\Latitude E7450\\Anaconda3\\lib\\site-packages\\ipykernel\\__main__.py:2: RuntimeWarning: divide by zero encountered in log\n",
      "  from ipykernel import kernelapp as app\n"
     ]
    },
    {
     "data": {
      "image/png": "[encoded data removed]",
      "text/plain": [
       "<matplotlib.figure.Figure at 0x23c24fcdeb8>"
      ]
     },
     "metadata": {},
     "output_type": "display_data"
    }
   ],
   "source": [
    "plot_loged(data, \"out_degree\")"
   ]
  },
  {
   "cell_type": "code",
   "execution_count": 82,
   "metadata": {
    "collapsed": false
   },
   "outputs": [
    {
     "name": "stderr",
     "output_type": "stream",
     "text": [
      "C:\\Users\\Latitude E7450\\Anaconda3\\lib\\site-packages\\ipykernel\\__main__.py:2: RuntimeWarning: divide by zero encountered in log\n",
      "  from ipykernel import kernelapp as app\n"
     ]
    },
    {
     "data": {
      "image/png": "[encoded data removed]",
      "text/plain": [
       "<matplotlib.figure.Figure at 0x23c24f7f4a8>"
      ]
     },
     "metadata": {},
     "output_type": "display_data"
    }
   ],
   "source": [
    "plot_loged(data, \"in_degree\")"
   ]
  },
  {
   "cell_type": "code",
   "execution_count": 83,
   "metadata": {
    "collapsed": false
   },
   "outputs": [
    {
     "data": {
      "text/plain": [
       "<matplotlib.axes._subplots.AxesSubplot at 0x23c24f20cf8>"
      ]
     },
     "execution_count": 83,
     "metadata": {},
     "output_type": "execute_result"
    },
    {
     "data": {
      "image/png": "[encoded data removed]",
      "text/plain": [
       "<matplotlib.figure.Figure at 0x23c249768d0>"
      ]
     },
     "metadata": {},
     "output_type": "display_data"
    }
   ],
   "source": [
    "sns.distplot(data[\"distance_birth\"])"
   ]
  },
  {
   "cell_type": "markdown",
   "metadata": {
    "collapsed": true
   },
   "source": [
    "# Feature Selection"
   ]
  },
  {
   "cell_type": "code",
   "execution_count": 84,
   "metadata": {
    "collapsed": false
   },
   "outputs": [
    {
     "name": "stderr",
     "output_type": "stream",
     "text": [
      "C:\\Users\\Latitude E7450\\Anaconda3\\lib\\site-packages\\sklearn\\utils\\__init__.py:54: FutureWarning: Conversion of the second argument of issubdtype from `int` to `np.signedinteger` is deprecated. In future, it will be treated as `np.int32 == np.dtype(int).type`.\n",
      "  if np.issubdtype(mask.dtype, np.int):\n"
     ]
    },
    {
     "data": {
      "text/html": [
       "<div>\n",
       "<style>\n",
       "    .dataframe thead tr:only-child th {\n",
       "        text-align: right;\n",
       "    }\n",
       "\n",
       "    .dataframe thead th {\n",
       "        text-align: left;\n",
       "    }\n",
       "\n",
       "    .dataframe tbody tr th {\n",
       "        vertical-align: top;\n",
       "    }\n",
       "</style>\n",
       "<table border=\"1\" class=\"dataframe\">\n",
       "  <thead>\n",
       "    <tr style=\"text-align: right;\">\n",
       "      <th></th>\n",
       "      <th>F Score</th>\n",
       "      <th>P Value</th>\n",
       "      <th>Support</th>\n",
       "      <th>Attribute</th>\n",
       "    </tr>\n",
       "  </thead>\n",
       "  <tbody>\n",
       "    <tr>\n",
       "      <th>0</th>\n",
       "      <td>23.908937</td>\n",
       "      <td>1.135522e-06</td>\n",
       "      <td>True</td>\n",
       "      <td>entered</td>\n",
       "    </tr>\n",
       "    <tr>\n",
       "      <th>1</th>\n",
       "      <td>0.598027</td>\n",
       "      <td>4.394718e-01</td>\n",
       "      <td>False</td>\n",
       "      <td>efficiency</td>\n",
       "    </tr>\n",
       "    <tr>\n",
       "      <th>2</th>\n",
       "      <td>0.413772</td>\n",
       "      <td>5.201741e-01</td>\n",
       "      <td>False</td>\n",
       "      <td>eig_central</td>\n",
       "    </tr>\n",
       "    <tr>\n",
       "      <th>3</th>\n",
       "      <td>0.348300</td>\n",
       "      <td>5.551794e-01</td>\n",
       "      <td>False</td>\n",
       "      <td>in_degree</td>\n",
       "    </tr>\n",
       "    <tr>\n",
       "      <th>4</th>\n",
       "      <td>0.639989</td>\n",
       "      <td>4.238605e-01</td>\n",
       "      <td>False</td>\n",
       "      <td>k_core</td>\n",
       "    </tr>\n",
       "    <tr>\n",
       "      <th>5</th>\n",
       "      <td>0.000055</td>\n",
       "      <td>9.940962e-01</td>\n",
       "      <td>False</td>\n",
       "      <td>out_degree</td>\n",
       "    </tr>\n",
       "    <tr>\n",
       "      <th>6</th>\n",
       "      <td>0.143939</td>\n",
       "      <td>7.044576e-01</td>\n",
       "      <td>False</td>\n",
       "      <td>views</td>\n",
       "    </tr>\n",
       "    <tr>\n",
       "      <th>7</th>\n",
       "      <td>0.075327</td>\n",
       "      <td>7.837766e-01</td>\n",
       "      <td>False</td>\n",
       "      <td>age</td>\n",
       "    </tr>\n",
       "    <tr>\n",
       "      <th>8</th>\n",
       "      <td>60.065530</td>\n",
       "      <td>1.834737e-14</td>\n",
       "      <td>True</td>\n",
       "      <td>distance_birth</td>\n",
       "    </tr>\n",
       "    <tr>\n",
       "      <th>9</th>\n",
       "      <td>73.230951</td>\n",
       "      <td>3.190713e-17</td>\n",
       "      <td>True</td>\n",
       "      <td>distance_death</td>\n",
       "    </tr>\n",
       "    <tr>\n",
       "      <th>10</th>\n",
       "      <td>0.877358</td>\n",
       "      <td>3.490997e-01</td>\n",
       "      <td>True</td>\n",
       "      <td>distance_delta</td>\n",
       "    </tr>\n",
       "    <tr>\n",
       "      <th>11</th>\n",
       "      <td>0.786778</td>\n",
       "      <td>3.752397e-01</td>\n",
       "      <td>False</td>\n",
       "      <td>nationality_num</td>\n",
       "    </tr>\n",
       "    <tr>\n",
       "      <th>12</th>\n",
       "      <td>4.283901</td>\n",
       "      <td>3.867134e-02</td>\n",
       "      <td>True</td>\n",
       "      <td>party_num</td>\n",
       "    </tr>\n",
       "    <tr>\n",
       "      <th>13</th>\n",
       "      <td>0.201207</td>\n",
       "      <td>6.538227e-01</td>\n",
       "      <td>False</td>\n",
       "      <td>occupation_num</td>\n",
       "    </tr>\n",
       "    <tr>\n",
       "      <th>14</th>\n",
       "      <td>112.653665</td>\n",
       "      <td>2.670150e-25</td>\n",
       "      <td>True</td>\n",
       "      <td>is_alive_no</td>\n",
       "    </tr>\n",
       "    <tr>\n",
       "      <th>15</th>\n",
       "      <td>4.649752</td>\n",
       "      <td>3.124026e-02</td>\n",
       "      <td>True</td>\n",
       "      <td>is_alive_unknown</td>\n",
       "    </tr>\n",
       "    <tr>\n",
       "      <th>16</th>\n",
       "      <td>171.099872</td>\n",
       "      <td>7.894471e-37</td>\n",
       "      <td>True</td>\n",
       "      <td>is_alive_yes</td>\n",
       "    </tr>\n",
       "    <tr>\n",
       "      <th>17</th>\n",
       "      <td>6.864499</td>\n",
       "      <td>8.894511e-03</td>\n",
       "      <td>True</td>\n",
       "      <td>year_interval_1</td>\n",
       "    </tr>\n",
       "    <tr>\n",
       "      <th>18</th>\n",
       "      <td>0.497351</td>\n",
       "      <td>4.807924e-01</td>\n",
       "      <td>False</td>\n",
       "      <td>year_interval_2</td>\n",
       "    </tr>\n",
       "    <tr>\n",
       "      <th>19</th>\n",
       "      <td>12.223038</td>\n",
       "      <td>4.878628e-04</td>\n",
       "      <td>True</td>\n",
       "      <td>year_interval_3</td>\n",
       "    </tr>\n",
       "  </tbody>\n",
       "</table>\n",
       "</div>"
      ],
      "text/plain": [
       "       F Score       P Value  Support         Attribute\n",
       "0    23.908937  1.135522e-06     True           entered\n",
       "1     0.598027  4.394718e-01    False        efficiency\n",
       "2     0.413772  5.201741e-01    False       eig_central\n",
       "3     0.348300  5.551794e-01    False         in_degree\n",
       "4     0.639989  4.238605e-01    False            k_core\n",
       "5     0.000055  9.940962e-01    False        out_degree\n",
       "6     0.143939  7.044576e-01    False             views\n",
       "7     0.075327  7.837766e-01    False               age\n",
       "8    60.065530  1.834737e-14     True    distance_birth\n",
       "9    73.230951  3.190713e-17     True    distance_death\n",
       "10    0.877358  3.490997e-01     True    distance_delta\n",
       "11    0.786778  3.752397e-01    False   nationality_num\n",
       "12    4.283901  3.867134e-02     True         party_num\n",
       "13    0.201207  6.538227e-01    False    occupation_num\n",
       "14  112.653665  2.670150e-25     True       is_alive_no\n",
       "15    4.649752  3.124026e-02     True  is_alive_unknown\n",
       "16  171.099872  7.894471e-37     True      is_alive_yes\n",
       "17    6.864499  8.894511e-03     True   year_interval_1\n",
       "18    0.497351  4.807924e-01    False   year_interval_2\n",
       "19   12.223038  4.878628e-04     True   year_interval_3"
      ]
     },
     "execution_count": 84,
     "metadata": {},
     "output_type": "execute_result"
    }
   ],
   "source": [
    "show_kbest(data,\"gender\",linear_rel=True, k=10)"
   ]
  },
  {
   "cell_type": "code",
   "execution_count": 87,
   "metadata": {
    "collapsed": false
   },
   "outputs": [
    {
     "data": {
      "text/html": [
       "<div>\n",
       "<style>\n",
       "    .dataframe thead tr:only-child th {\n",
       "        text-align: right;\n",
       "    }\n",
       "\n",
       "    .dataframe thead th {\n",
       "        text-align: left;\n",
       "    }\n",
       "\n",
       "    .dataframe tbody tr th {\n",
       "        vertical-align: top;\n",
       "    }\n",
       "</style>\n",
       "<table border=\"1\" class=\"dataframe\">\n",
       "  <thead>\n",
       "    <tr style=\"text-align: right;\">\n",
       "      <th></th>\n",
       "      <th>Mutual Information</th>\n",
       "      <th>P Value</th>\n",
       "      <th>Support</th>\n",
       "      <th>Attribute</th>\n",
       "    </tr>\n",
       "  </thead>\n",
       "  <tbody>\n",
       "    <tr>\n",
       "      <th>0</th>\n",
       "      <td>0.000000</td>\n",
       "      <td>None</td>\n",
       "      <td>False</td>\n",
       "      <td>entered</td>\n",
       "    </tr>\n",
       "    <tr>\n",
       "      <th>1</th>\n",
       "      <td>0.008780</td>\n",
       "      <td>None</td>\n",
       "      <td>True</td>\n",
       "      <td>efficiency</td>\n",
       "    </tr>\n",
       "    <tr>\n",
       "      <th>2</th>\n",
       "      <td>0.001628</td>\n",
       "      <td>None</td>\n",
       "      <td>False</td>\n",
       "      <td>eig_central</td>\n",
       "    </tr>\n",
       "    <tr>\n",
       "      <th>3</th>\n",
       "      <td>0.003309</td>\n",
       "      <td>None</td>\n",
       "      <td>False</td>\n",
       "      <td>in_degree</td>\n",
       "    </tr>\n",
       "    <tr>\n",
       "      <th>4</th>\n",
       "      <td>0.000000</td>\n",
       "      <td>None</td>\n",
       "      <td>False</td>\n",
       "      <td>k_core</td>\n",
       "    </tr>\n",
       "    <tr>\n",
       "      <th>5</th>\n",
       "      <td>0.008439</td>\n",
       "      <td>None</td>\n",
       "      <td>False</td>\n",
       "      <td>out_degree</td>\n",
       "    </tr>\n",
       "    <tr>\n",
       "      <th>6</th>\n",
       "      <td>0.000000</td>\n",
       "      <td>None</td>\n",
       "      <td>False</td>\n",
       "      <td>views</td>\n",
       "    </tr>\n",
       "    <tr>\n",
       "      <th>7</th>\n",
       "      <td>0.011173</td>\n",
       "      <td>None</td>\n",
       "      <td>True</td>\n",
       "      <td>age</td>\n",
       "    </tr>\n",
       "    <tr>\n",
       "      <th>8</th>\n",
       "      <td>0.059153</td>\n",
       "      <td>None</td>\n",
       "      <td>True</td>\n",
       "      <td>distance_birth</td>\n",
       "    </tr>\n",
       "    <tr>\n",
       "      <th>9</th>\n",
       "      <td>0.042509</td>\n",
       "      <td>None</td>\n",
       "      <td>True</td>\n",
       "      <td>distance_death</td>\n",
       "    </tr>\n",
       "    <tr>\n",
       "      <th>10</th>\n",
       "      <td>0.008890</td>\n",
       "      <td>None</td>\n",
       "      <td>True</td>\n",
       "      <td>distance_delta</td>\n",
       "    </tr>\n",
       "    <tr>\n",
       "      <th>11</th>\n",
       "      <td>0.000000</td>\n",
       "      <td>None</td>\n",
       "      <td>False</td>\n",
       "      <td>nationality_num</td>\n",
       "    </tr>\n",
       "    <tr>\n",
       "      <th>12</th>\n",
       "      <td>0.000000</td>\n",
       "      <td>None</td>\n",
       "      <td>False</td>\n",
       "      <td>party_num</td>\n",
       "    </tr>\n",
       "    <tr>\n",
       "      <th>13</th>\n",
       "      <td>0.010480</td>\n",
       "      <td>None</td>\n",
       "      <td>True</td>\n",
       "      <td>occupation_num</td>\n",
       "    </tr>\n",
       "    <tr>\n",
       "      <th>14</th>\n",
       "      <td>0.028576</td>\n",
       "      <td>None</td>\n",
       "      <td>True</td>\n",
       "      <td>is_alive_no</td>\n",
       "    </tr>\n",
       "    <tr>\n",
       "      <th>15</th>\n",
       "      <td>0.019270</td>\n",
       "      <td>None</td>\n",
       "      <td>True</td>\n",
       "      <td>is_alive_unknown</td>\n",
       "    </tr>\n",
       "    <tr>\n",
       "      <th>16</th>\n",
       "      <td>0.049958</td>\n",
       "      <td>None</td>\n",
       "      <td>True</td>\n",
       "      <td>is_alive_yes</td>\n",
       "    </tr>\n",
       "    <tr>\n",
       "      <th>17</th>\n",
       "      <td>0.000466</td>\n",
       "      <td>None</td>\n",
       "      <td>False</td>\n",
       "      <td>year_interval_1</td>\n",
       "    </tr>\n",
       "    <tr>\n",
       "      <th>18</th>\n",
       "      <td>0.000000</td>\n",
       "      <td>None</td>\n",
       "      <td>False</td>\n",
       "      <td>year_interval_2</td>\n",
       "    </tr>\n",
       "    <tr>\n",
       "      <th>19</th>\n",
       "      <td>0.024284</td>\n",
       "      <td>None</td>\n",
       "      <td>True</td>\n",
       "      <td>year_interval_3</td>\n",
       "    </tr>\n",
       "  </tbody>\n",
       "</table>\n",
       "</div>"
      ],
      "text/plain": [
       "    Mutual Information P Value  Support         Attribute\n",
       "0             0.000000    None    False           entered\n",
       "1             0.008780    None     True        efficiency\n",
       "2             0.001628    None    False       eig_central\n",
       "3             0.003309    None    False         in_degree\n",
       "4             0.000000    None    False            k_core\n",
       "5             0.008439    None    False        out_degree\n",
       "6             0.000000    None    False             views\n",
       "7             0.011173    None     True               age\n",
       "8             0.059153    None     True    distance_birth\n",
       "9             0.042509    None     True    distance_death\n",
       "10            0.008890    None     True    distance_delta\n",
       "11            0.000000    None    False   nationality_num\n",
       "12            0.000000    None    False         party_num\n",
       "13            0.010480    None     True    occupation_num\n",
       "14            0.028576    None     True       is_alive_no\n",
       "15            0.019270    None     True  is_alive_unknown\n",
       "16            0.049958    None     True      is_alive_yes\n",
       "17            0.000466    None    False   year_interval_1\n",
       "18            0.000000    None    False   year_interval_2\n",
       "19            0.024284    None     True   year_interval_3"
      ]
     },
     "execution_count": 87,
     "metadata": {},
     "output_type": "execute_result"
    }
   ],
   "source": [
    "show_kbest(data,\"gender\",linear_rel=False, k=10)"
   ]
  },
  {
   "cell_type": "code",
   "execution_count": null,
   "metadata": {
    "collapsed": false
   },
   "outputs": [],
   "source": [
    "X_new = SelectKBest(k=10).fit_transform(X, y)\n",
    "X_new.shape"
   ]
  },
  {
   "cell_type": "code",
   "execution_count": null,
   "metadata": {
    "collapsed": false
   },
   "outputs": [],
   "source": [
    "X, y = split_dataframe(data, \"gender\")"
   ]
  },
  {
   "cell_type": "code",
   "execution_count": null,
   "metadata": {
    "collapsed": false
   },
   "outputs": [],
   "source": [
    "show_kbest(X,\"gender\",k=10)"
   ]
  },
  {
   "cell_type": "code",
   "execution_count": null,
   "metadata": {
    "collapsed": true
   },
   "outputs": [],
   "source": []
  }
 ],
 "metadata": {
  "kernelspec": {
   "display_name": "Python 3",
   "language": "python",
   "name": "python3"
  },
  "language_info": {
   "codemirror_mode": {
    "name": "ipython",
    "version": 3
   },
   "file_extension": ".py",
   "mimetype": "text/x-python",
   "name": "python",
   "nbconvert_exporter": "python",
   "pygments_lexer": "ipython3",
   "version": "3.6.0"
  }
 },
 "nbformat": 4,
 "nbformat_minor": 2
}
