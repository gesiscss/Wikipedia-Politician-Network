{
 "cells": [
  {
   "cell_type": "code",
   "execution_count": 92,
   "metadata": {
    "collapsed": true
   },
   "outputs": [],
   "source": [
    "import pandas as pd\n",
    "from datetime import datetime\n",
    "from matplotlib import pyplot as plt\n",
    "from itertools import groupby"
   ]
  },
  {
   "cell_type": "code",
   "execution_count": 2,
   "metadata": {
    "collapsed": false
   },
   "outputs": [],
   "source": [
    "df = pd.read_pickle(\"../data/connected_sources/2016\")"
   ]
  },
  {
   "cell_type": "code",
   "execution_count": 3,
   "metadata": {
    "collapsed": false
   },
   "outputs": [
    {
     "data": {
      "text/html": [
       "<div>\n",
       "<table border=\"1\" class=\"dataframe\">\n",
       "  <thead>\n",
       "    <tr style=\"text-align: right;\">\n",
       "      <th></th>\n",
       "      <th>#DBpURL</th>\n",
       "      <th>ID</th>\n",
       "      <th>WikiURL</th>\n",
       "      <th>birthDate</th>\n",
       "      <th>deathDate</th>\n",
       "      <th>first_name</th>\n",
       "      <th>full_name</th>\n",
       "      <th>gender</th>\n",
       "      <th>name</th>\n",
       "      <th>nationality</th>\n",
       "      <th>...</th>\n",
       "      <th>party</th>\n",
       "      <th>entered</th>\n",
       "      <th>efficiency</th>\n",
       "      <th>eig_central</th>\n",
       "      <th>id</th>\n",
       "      <th>in_degree</th>\n",
       "      <th>k_core</th>\n",
       "      <th>out_degree</th>\n",
       "      <th>name_u</th>\n",
       "      <th>views</th>\n",
       "    </tr>\n",
       "  </thead>\n",
       "  <tbody>\n",
       "    <tr>\n",
       "      <th>0</th>\n",
       "      <td>http://dbpedia.org/resource/Nizamettin_Erkmen</td>\n",
       "      <td>144</td>\n",
       "      <td>http://en.wikipedia.org/wiki/Nizamettin_Erkmen</td>\n",
       "      <td>None</td>\n",
       "      <td>1990-10-24 00:00:00</td>\n",
       "      <td>nizamettin</td>\n",
       "      <td>Nizamettin+Erkmen</td>\n",
       "      <td>male</td>\n",
       "      <td>[ erkmen nizamettin ]</td>\n",
       "      <td>[turkish]</td>\n",
       "      <td>...</td>\n",
       "      <td>[]</td>\n",
       "      <td>2007</td>\n",
       "      <td>0.760000</td>\n",
       "      <td>0.000046</td>\n",
       "      <td>144</td>\n",
       "      <td>2</td>\n",
       "      <td>4</td>\n",
       "      <td>3</td>\n",
       "      <td>Nizamettin_Erkmen</td>\n",
       "      <td>916.0</td>\n",
       "    </tr>\n",
       "    <tr>\n",
       "      <th>1</th>\n",
       "      <td>http://dbpedia.org/resource/Claudio_Scajola</td>\n",
       "      <td>183</td>\n",
       "      <td>http://en.wikipedia.org/wiki/Claudio_Scajola</td>\n",
       "      <td>1948-01-15 00:00:00</td>\n",
       "      <td>None</td>\n",
       "      <td>claudio</td>\n",
       "      <td>Claudio+Scajola</td>\n",
       "      <td>male</td>\n",
       "      <td>[ claudio scajola ]</td>\n",
       "      <td>[italian]</td>\n",
       "      <td>...</td>\n",
       "      <td>[ forza italia (2013) ]</td>\n",
       "      <td>2005</td>\n",
       "      <td>0.899654</td>\n",
       "      <td>0.000801</td>\n",
       "      <td>183</td>\n",
       "      <td>9</td>\n",
       "      <td>10</td>\n",
       "      <td>8</td>\n",
       "      <td>Claudio_Scajola</td>\n",
       "      <td>4100.0</td>\n",
       "    </tr>\n",
       "    <tr>\n",
       "      <th>2</th>\n",
       "      <td>http://dbpedia.org/resource/Thomas_Clausen_(Lo...</td>\n",
       "      <td>246</td>\n",
       "      <td>http://en.wikipedia.org/wiki/Thomas_Clausen_(L...</td>\n",
       "      <td>1939-12-22 00:00:00</td>\n",
       "      <td>2002-02-20 00:00:00</td>\n",
       "      <td>thomas</td>\n",
       "      <td>Thomas+Clausen+(Louisiana)</td>\n",
       "      <td>male</td>\n",
       "      <td>[ thomas greenwood clausen ,  clausen thomas g...</td>\n",
       "      <td>[american]</td>\n",
       "      <td>...</td>\n",
       "      <td>[ democratic party (united states) ]</td>\n",
       "      <td>2013</td>\n",
       "      <td>0.734694</td>\n",
       "      <td>0.000040</td>\n",
       "      <td>246</td>\n",
       "      <td>2</td>\n",
       "      <td>7</td>\n",
       "      <td>5</td>\n",
       "      <td>Thomas_Clausen_(Louisiana)</td>\n",
       "      <td>1651.0</td>\n",
       "    </tr>\n",
       "    <tr>\n",
       "      <th>3</th>\n",
       "      <td>http://dbpedia.org/resource/Yang_Ti-liang</td>\n",
       "      <td>248</td>\n",
       "      <td>http://en.wikipedia.org/wiki/Yang_Ti-liang</td>\n",
       "      <td>1929-06-30 00:00:00</td>\n",
       "      <td>None</td>\n",
       "      <td>yang</td>\n",
       "      <td>Yang+Ti-liang</td>\n",
       "      <td>male</td>\n",
       "      <td>[ ti-liang yang ]</td>\n",
       "      <td>[]</td>\n",
       "      <td>...</td>\n",
       "      <td>[]</td>\n",
       "      <td>2007</td>\n",
       "      <td>1.000000</td>\n",
       "      <td>0.000007</td>\n",
       "      <td>248</td>\n",
       "      <td>2</td>\n",
       "      <td>5</td>\n",
       "      <td>4</td>\n",
       "      <td>Yang_Ti-liang</td>\n",
       "      <td>6671.0</td>\n",
       "    </tr>\n",
       "    <tr>\n",
       "      <th>4</th>\n",
       "      <td>http://dbpedia.org/resource/Mohammad_Natsir</td>\n",
       "      <td>259</td>\n",
       "      <td>http://en.wikipedia.org/wiki/Mohammad_Natsir</td>\n",
       "      <td>1908-07-17 00:00:00</td>\n",
       "      <td>1993-03-14 00:00:00</td>\n",
       "      <td>mohammad</td>\n",
       "      <td>Mohammad+Natsir</td>\n",
       "      <td>male</td>\n",
       "      <td>[ mohammad natsir ,  natsir mohammad ]</td>\n",
       "      <td>[indonesian]</td>\n",
       "      <td>...</td>\n",
       "      <td>[ masyumi party ]</td>\n",
       "      <td>2007</td>\n",
       "      <td>0.814815</td>\n",
       "      <td>0.000068</td>\n",
       "      <td>259</td>\n",
       "      <td>4</td>\n",
       "      <td>4</td>\n",
       "      <td>5</td>\n",
       "      <td>Mohammad_Natsir</td>\n",
       "      <td>7825.0</td>\n",
       "    </tr>\n",
       "  </tbody>\n",
       "</table>\n",
       "<p>5 rows × 21 columns</p>\n",
       "</div>"
      ],
      "text/plain": [
       "                                             #DBpURL   ID  \\\n",
       "0      http://dbpedia.org/resource/Nizamettin_Erkmen  144   \n",
       "1        http://dbpedia.org/resource/Claudio_Scajola  183   \n",
       "2  http://dbpedia.org/resource/Thomas_Clausen_(Lo...  246   \n",
       "3          http://dbpedia.org/resource/Yang_Ti-liang  248   \n",
       "4        http://dbpedia.org/resource/Mohammad_Natsir  259   \n",
       "\n",
       "                                             WikiURL            birthDate  \\\n",
       "0     http://en.wikipedia.org/wiki/Nizamettin_Erkmen                 None   \n",
       "1       http://en.wikipedia.org/wiki/Claudio_Scajola  1948-01-15 00:00:00   \n",
       "2  http://en.wikipedia.org/wiki/Thomas_Clausen_(L...  1939-12-22 00:00:00   \n",
       "3         http://en.wikipedia.org/wiki/Yang_Ti-liang  1929-06-30 00:00:00   \n",
       "4       http://en.wikipedia.org/wiki/Mohammad_Natsir  1908-07-17 00:00:00   \n",
       "\n",
       "             deathDate  first_name                   full_name gender  \\\n",
       "0  1990-10-24 00:00:00  nizamettin           Nizamettin+Erkmen   male   \n",
       "1                 None     claudio             Claudio+Scajola   male   \n",
       "2  2002-02-20 00:00:00      thomas  Thomas+Clausen+(Louisiana)   male   \n",
       "3                 None        yang               Yang+Ti-liang   male   \n",
       "4  1993-03-14 00:00:00    mohammad             Mohammad+Natsir   male   \n",
       "\n",
       "                                                name   nationality   ...    \\\n",
       "0                              [ erkmen nizamettin ]     [turkish]   ...     \n",
       "1                                [ claudio scajola ]     [italian]   ...     \n",
       "2  [ thomas greenwood clausen ,  clausen thomas g...    [american]   ...     \n",
       "3                                  [ ti-liang yang ]            []   ...     \n",
       "4             [ mohammad natsir ,  natsir mohammad ]  [indonesian]   ...     \n",
       "\n",
       "                                  party entered  efficiency  eig_central   id  \\\n",
       "0                                    []    2007    0.760000     0.000046  144   \n",
       "1               [ forza italia (2013) ]    2005    0.899654     0.000801  183   \n",
       "2  [ democratic party (united states) ]    2013    0.734694     0.000040  246   \n",
       "3                                    []    2007    1.000000     0.000007  248   \n",
       "4                     [ masyumi party ]    2007    0.814815     0.000068  259   \n",
       "\n",
       "   in_degree  k_core  out_degree                      name_u   views  \n",
       "0          2       4           3           Nizamettin_Erkmen   916.0  \n",
       "1          9      10           8             Claudio_Scajola  4100.0  \n",
       "2          2       7           5  Thomas_Clausen_(Louisiana)  1651.0  \n",
       "3          2       5           4               Yang_Ti-liang  6671.0  \n",
       "4          4       4           5             Mohammad_Natsir  7825.0  \n",
       "\n",
       "[5 rows x 21 columns]"
      ]
     },
     "execution_count": 3,
     "metadata": {},
     "output_type": "execute_result"
    }
   ],
   "source": [
    "df.head()"
   ]
  },
  {
   "cell_type": "code",
   "execution_count": 4,
   "metadata": {
    "collapsed": true
   },
   "outputs": [],
   "source": [
    "def drop_columns(df, lst):\n",
    "    \"\"\" Removes dataframe columns specified in lst\n",
    "    \"\"\"\n",
    "    df = df.drop(lst, axis=1)\n",
    "    return df "
   ]
  },
  {
   "cell_type": "code",
   "execution_count": 5,
   "metadata": {
    "collapsed": false
   },
   "outputs": [],
   "source": [
    "# def get_age(x, thres=110):\n",
    "#     \"\"\" Calculates age of politicians, if birth unknown age is by default=0\n",
    "#     \"\"\"\n",
    "#     birth = x[\"birthDate\"]\n",
    "#     death = x[\"deathDate\"]\n",
    "#     if birth == None:\n",
    "#         return 0 # we don't know age of birt\n",
    "#     if death == None:\n",
    "#         delta = datetime.now() - birth\n",
    "#         age = int(delta.days/365)\n",
    "#         if age < thres and age > 17.5:\n",
    "#             return age\n",
    "#         return -1 # we are not sure when and if the person died \n",
    "#     elif death != None and birth!= None:\n",
    "#         delta = death - birth\n",
    "#         if death < birth:\n",
    "# #             age = abs(int(delta.days/365))\n",
    "# #             if age < thres:\n",
    "# #                 return age\n",
    "# #             else:\n",
    "#             return -1 # we are not sure when and if the person died\n",
    "#         age = abs(int(delta.days/365))\n",
    "#         if age < thres and age > 17.5:\n",
    "#             return int(delta.days/365)\n",
    "#         else:\n",
    "#             return -1"
   ]
  },
  {
   "cell_type": "code",
   "execution_count": 6,
   "metadata": {
    "collapsed": true
   },
   "outputs": [],
   "source": [
    "def get_age(x, thres=110):\n",
    "    \"\"\" Calculates age of politicians, if birth unknown age is by default=0\n",
    "    \"\"\"\n",
    "    birth = x[\"birthDate\"]\n",
    "    death = x[\"deathDate\"]\n",
    "    \n",
    "    if birth == None and death == None:\n",
    "        return 0\n",
    "    if birth != None and death == None:\n",
    "        delta = datetime.now() - birth\n",
    "        age = int(delta.days/365)\n",
    "        if age < 18:\n",
    "            return 0\n",
    "        if age < thres:\n",
    "            return age\n",
    "        else:\n",
    "            return 0\n",
    "    if birth != None and death != None:\n",
    "        # it might happen that death is before birth.. \n",
    "        delta = death - birth\n",
    "        if death < birth:\n",
    "            return -1\n",
    "        else: \n",
    "            age = abs(int(delta.days/365))    \n",
    "            if age < thres and age >= 18:\n",
    "                return int(delta.days/365)\n",
    "            else:\n",
    "                return 0\n",
    "    if birth == None and death != None:\n",
    "        return 0 "
   ]
  },
  {
   "cell_type": "code",
   "execution_count": 7,
   "metadata": {
    "collapsed": false
   },
   "outputs": [],
   "source": [
    "def is_alive(x, thres=110):\n",
    "    \"\"\" Returns yes / no / unknown depending on if the politician is alive/dead\n",
    "    \"\"\"\n",
    "    birth = x[\"birthDate\"]\n",
    "    death = x[\"deathDate\"]\n",
    "    age = x[\"age\"]\n",
    "    \n",
    "    if birth != None and death != None:\n",
    "        if age != -1:\n",
    "            return \"no\"\n",
    "        else:\n",
    "            return \"unknown\"        \n",
    "    if birth == None and death != None:\n",
    "        return \"no\"\n",
    "    if birth != None and death == None:\n",
    "        if age > 0:\n",
    "            return \"yes\"\n",
    "        elif age == 0 and int((datetime.now() - birth).days/365) < thres:\n",
    "            return \"unknown\"\n",
    "        elif age == 0 and int((datetime.now() - birth).days/365) >= thres:\n",
    "            return \"no\"\n",
    "    if birth == None and death == None:\n",
    "        return \"unknown\"\n",
    "#     if birth != None and death != None:\n",
    "#         if age != -1:\n",
    "#             return \"no\"\n",
    "#         else:\n",
    "#             return \"unknown\"\n",
    "#     if age == -1 and int((datetime.now() - birth).days/365) < 110:\n",
    "#         return \"unknown\"\n",
    "#     elif age == -1 and int((datetime.now() - birth).days/365) > 110:\n",
    "#         return \"no\"\n",
    "#     elif death != None:\n",
    "#         return \"no\"\n",
    "#     elif death == None and birth == None:\n",
    "#         return \"unknown\"\n",
    "#     elif age > 0:\n",
    "#         return \"yes\"\n",
    "        \n",
    "        "
   ]
  },
  {
   "cell_type": "code",
   "execution_count": 8,
   "metadata": {
    "collapsed": true
   },
   "outputs": [],
   "source": [
    "def add_age(df):\n",
    "    \"\"\" Adds age column to dataframe\n",
    "    \"\"\"\n",
    "    df[\"age\"] = df.apply(lambda x: get_age(x), axis=1)\n",
    "    return df"
   ]
  },
  {
   "cell_type": "code",
   "execution_count": 9,
   "metadata": {
    "collapsed": true
   },
   "outputs": [],
   "source": [
    "def add_alive_status(df):\n",
    "    df[\"is_alive\"] = df.apply(lambda x: is_alive(x), axis=1)\n",
    "    return df"
   ]
  },
  {
   "cell_type": "code",
   "execution_count": 10,
   "metadata": {
    "collapsed": true
   },
   "outputs": [],
   "source": [
    "def age_distance(date):\n",
    "    \"\"\" Calculates distance from given date to present, if the distance is negative\n",
    "    it results as a default value -1 \n",
    "    \"\"\"\n",
    "#     print(date)\n",
    "    if date == None:\n",
    "        return -1\n",
    "    else:\n",
    "        delta = datetime.now() - date\n",
    "        distance = int(delta.days/365)\n",
    "        if distance > 0:\n",
    "            return int(delta.days/365)\n",
    "        else:\n",
    "            return -1"
   ]
  },
  {
   "cell_type": "code",
   "execution_count": 11,
   "metadata": {
    "collapsed": false
   },
   "outputs": [],
   "source": [
    "def add_distance(df):\n",
    "    \"\"\" Adds 2 columns [\"distance_birth\"] and [\"distance_death\"] \n",
    "    \"\"\"\n",
    "#     if birth_death == \"birth\":\n",
    "    df[\"distance_birth\"] = df.apply(lambda x: age_distance(x[\"birthDate\"]),axis=1)\n",
    "#     elif birth_death == \"death\":\n",
    "    df[\"distance_death\"] = df.apply(lambda x: age_distance(x[\"deathDate\"]),axis=1)\n",
    "    return df"
   ]
  },
  {
   "cell_type": "code",
   "execution_count": 12,
   "metadata": {
    "collapsed": true
   },
   "outputs": [],
   "source": [
    "def delta_birth_death(x):\n",
    "    birth = x[\"distance_birth\"]\n",
    "    death = x[\"distance_death\"]\n",
    "    return birth - death"
   ]
  },
  {
   "cell_type": "code",
   "execution_count": 13,
   "metadata": {
    "collapsed": false
   },
   "outputs": [],
   "source": [
    "def add_delta(df):\n",
    "    df[\"distance_delta\"] = df.apply(lambda x: delta_birth_death(x), axis=1)\n",
    "    return df"
   ]
  },
  {
   "cell_type": "markdown",
   "metadata": {},
   "source": [
    "# Remove redundant columns"
   ]
  },
  {
   "cell_type": "code",
   "execution_count": 14,
   "metadata": {
    "collapsed": false
   },
   "outputs": [
    {
     "data": {
      "text/plain": [
       "Index(['#DBpURL', 'ID', 'WikiURL', 'birthDate', 'deathDate', 'first_name',\n",
       "       'full_name', 'gender', 'name', 'nationality', 'occupation', 'party',\n",
       "       'entered', 'efficiency', 'eig_central', 'id', 'in_degree', 'k_core',\n",
       "       'out_degree', 'name_u', 'views'],\n",
       "      dtype='object')"
      ]
     },
     "execution_count": 14,
     "metadata": {},
     "output_type": "execute_result"
    }
   ],
   "source": [
    "df.columns"
   ]
  },
  {
   "cell_type": "code",
   "execution_count": 15,
   "metadata": {
    "collapsed": false
   },
   "outputs": [],
   "source": [
    "df = drop_columns(df, [\"first_name\", \"full_name\",\"name\", \"id\"])"
   ]
  },
  {
   "cell_type": "code",
   "execution_count": 16,
   "metadata": {
    "collapsed": false
   },
   "outputs": [],
   "source": [
    "df = add_age(df)\n",
    "# df[\"age\"].describe()"
   ]
  },
  {
   "cell_type": "code",
   "execution_count": 17,
   "metadata": {
    "collapsed": false
   },
   "outputs": [],
   "source": [
    "df = add_alive_status(df)\n",
    "# df[\"is_alive\"].value_counts()"
   ]
  },
  {
   "cell_type": "code",
   "execution_count": 18,
   "metadata": {
    "collapsed": false
   },
   "outputs": [],
   "source": [
    "df = add_distance(df)"
   ]
  },
  {
   "cell_type": "code",
   "execution_count": 19,
   "metadata": {
    "collapsed": false
   },
   "outputs": [],
   "source": [
    "df = add_delta(df)"
   ]
  },
  {
   "cell_type": "code",
   "execution_count": 20,
   "metadata": {
    "collapsed": false
   },
   "outputs": [
    {
     "data": {
      "text/plain": [
       "Index(['#DBpURL', 'ID', 'WikiURL', 'birthDate', 'deathDate', 'gender',\n",
       "       'nationality', 'occupation', 'party', 'entered', 'efficiency',\n",
       "       'eig_central', 'in_degree', 'k_core', 'out_degree', 'name_u', 'views',\n",
       "       'age', 'is_alive', 'distance_birth', 'distance_death',\n",
       "       'distance_delta'],\n",
       "      dtype='object')"
      ]
     },
     "execution_count": 20,
     "metadata": {},
     "output_type": "execute_result"
    }
   ],
   "source": [
    "df.columns"
   ]
  },
  {
   "cell_type": "code",
   "execution_count": 22,
   "metadata": {
    "collapsed": false
   },
   "outputs": [],
   "source": [
    "df = drop_columns(df, ['#DBpURL', 'ID', 'WikiURL', 'birthDate', 'deathDate',\"name_u\"])"
   ]
  },
  {
   "cell_type": "code",
   "execution_count": 23,
   "metadata": {
    "collapsed": false
   },
   "outputs": [
    {
     "data": {
      "text/plain": [
       "Index(['gender', 'nationality', 'occupation', 'party', 'entered', 'efficiency',\n",
       "       'eig_central', 'in_degree', 'k_core', 'out_degree', 'views', 'age',\n",
       "       'is_alive', 'distance_birth', 'distance_death', 'distance_delta'],\n",
       "      dtype='object')"
      ]
     },
     "execution_count": 23,
     "metadata": {},
     "output_type": "execute_result"
    }
   ],
   "source": [
    "df.columns"
   ]
  },
  {
   "cell_type": "code",
   "execution_count": 101,
   "metadata": {
    "collapsed": false
   },
   "outputs": [],
   "source": [
    "def get_bar_categorical(column_name, title=\"Politician nationality values distribution\"):\n",
    "    num = sorted([len(i) for i in df[column_name].values.flatten()])\n",
    "    num = [len(list(group)) for key, group in groupby(num)]\n",
    "    print(num)\n",
    "    label = range(0, len(num))\n",
    "    plt.bar(label, num)\n",
    "    plt.xlabel(\"Number of nationalities\")\n",
    "    plt.ylabel(\"Frequency\")\n",
    "    plt.title(title)\n",
    "    plt.show()"
   ]
  },
  {
   "cell_type": "code",
   "execution_count": 103,
   "metadata": {
    "collapsed": false
   },
   "outputs": [
    {
     "name": "stdout",
     "output_type": "stream",
     "text": [
      "[15996, 27057, 2082, 138, 9, 3, 1]\n"
     ]
    },
    {
     "data": {
      "image/png": "[encoded data removed]",
      "text/plain": [
       "<matplotlib.figure.Figure at 0xab3f278>"
      ]
     },
     "metadata": {},
     "output_type": "display_data"
    }
   ],
   "source": [
    "get_bar_categorical(\"nationality\")"
   ]
  },
  {
   "cell_type": "code",
   "execution_count": 104,
   "metadata": {
    "collapsed": false
   },
   "outputs": [
    {
     "name": "stdout",
     "output_type": "stream",
     "text": [
      "[20699, 21575, 2035, 653, 213, 72, 23, 11, 5]\n"
     ]
    },
    {
     "data": {
      "image/png": "[encoded data removed]",
      "text/plain": [
       "<matplotlib.figure.Figure at 0xad20780>"
      ]
     },
     "metadata": {},
     "output_type": "display_data"
    }
   ],
   "source": [
    "get_bar_categorical(\"party\", title=\"Politician party values distribution\")"
   ]
  },
  {
   "cell_type": "code",
   "execution_count": 88,
   "metadata": {
    "collapsed": false
   },
   "outputs": [
    {
     "data": {
      "text/plain": [
       "[0, 0, 0, 0, 0, 0, 0, 0, 0, 0]"
      ]
     },
     "execution_count": 88,
     "metadata": {},
     "output_type": "execute_result"
    }
   ],
   "source": [
    "num_nationalities = sorted([len(i) for i in df.party.values.flatten()])\n",
    "num_nationalities[:10]"
   ]
  },
  {
   "cell_type": "code",
   "execution_count": null,
   "metadata": {
    "collapsed": false
   },
   "outputs": [],
   "source": [
    "# df[(df[\"is_alive\"] == \"no\")][\"distance_delta\"].describe()"
   ]
  },
  {
   "cell_type": "code",
   "execution_count": null,
   "metadata": {
    "collapsed": false
   },
   "outputs": [],
   "source": [
    "# df[\"age\"].describe()"
   ]
  },
  {
   "cell_type": "code",
   "execution_count": null,
   "metadata": {
    "collapsed": false
   },
   "outputs": [],
   "source": [
    "# datetime.now() - datetime(1,1,1,1,0,0)"
   ]
  },
  {
   "cell_type": "code",
   "execution_count": null,
   "metadata": {
    "collapsed": true
   },
   "outputs": [],
   "source": [
    "### TODO: Prepare categorical data \n",
    "# categorical variables handling\n",
    "# "
   ]
  },
  {
   "cell_type": "code",
   "execution_count": 50,
   "metadata": {
    "collapsed": false
   },
   "outputs": [
    {
     "data": {
      "text/plain": [
       "['nationality']"
      ]
     },
     "execution_count": 50,
     "metadata": {},
     "output_type": "execute_result"
    }
   ],
   "source": [
    "[\"nationality\"]"
   ]
  },
  {
   "cell_type": "code",
   "execution_count": 63,
   "metadata": {
    "collapsed": false
   },
   "outputs": [
    {
     "data": {
      "text/plain": [
       "500                 [indian]\n",
       "501                       []\n",
       "502             [ecuadorian]\n",
       "503              [filipinos]\n",
       "504               [american]\n",
       "505               [american]\n",
       "506              [malaysian]\n",
       "507             [australian]\n",
       "508                [italian]\n",
       "509              [icelandic]\n",
       "510                       []\n",
       "511                       []\n",
       "512                [british]\n",
       "513                       []\n",
       "514                [spanish]\n",
       "515               [macanese]\n",
       "516             [australian]\n",
       "517                 [german]\n",
       "518                 [indian]\n",
       "519                [belgian]\n",
       "520               [american]\n",
       "521                       []\n",
       "522                       []\n",
       "523                 [indian]\n",
       "524                 [polish]\n",
       "525                       []\n",
       "526               [american]\n",
       "527                       []\n",
       "528             [australian]\n",
       "529                       []\n",
       "               ...          \n",
       "570                       []\n",
       "571                [italian]\n",
       "572                 [indian]\n",
       "573               [american]\n",
       "574                       []\n",
       "575                 [german]\n",
       "576                       []\n",
       "577            [singaporean]\n",
       "578              [pakistani]\n",
       "579                 [indian]\n",
       "580                       []\n",
       "581                       []\n",
       "582                  [swiss]\n",
       "583              [norwegian]\n",
       "584                 [danish]\n",
       "585     [russian, ukrainian]\n",
       "586                [chinese]\n",
       "587               [american]\n",
       "588                       []\n",
       "589                       []\n",
       "590                       []\n",
       "591                       []\n",
       "592                  [dutch]\n",
       "593                 [indian]\n",
       "594                       []\n",
       "595    [wallachia, romanian]\n",
       "596                       []\n",
       "597                       []\n",
       "598        [irish, american]\n",
       "599                       []\n",
       "Name: nationality, dtype: object"
      ]
     },
     "execution_count": 63,
     "metadata": {},
     "output_type": "execute_result"
    }
   ],
   "source": [
    "df[\"nationality\"][500:]"
   ]
  },
  {
   "cell_type": "code",
   "execution_count": null,
   "metadata": {
    "collapsed": true
   },
   "outputs": [],
   "source": []
  }
 ],
 "metadata": {
  "kernelspec": {
   "display_name": "Python 3",
   "language": "python",
   "name": "python3"
  },
  "language_info": {
   "codemirror_mode": {
    "name": "ipython",
    "version": 3
   },
   "file_extension": ".py",
   "mimetype": "text/x-python",
   "name": "python",
   "nbconvert_exporter": "python",
   "pygments_lexer": "ipython3",
   "version": "3.6.0"
  }
 },
 "nbformat": 4,
 "nbformat_minor": 2
}
