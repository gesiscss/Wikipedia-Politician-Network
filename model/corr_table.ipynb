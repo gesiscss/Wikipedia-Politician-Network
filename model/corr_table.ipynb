{
 "cells": [
  {
   "cell_type": "code",
   "execution_count": 1,
   "metadata": {},
   "outputs": [],
   "source": [
    "import pandas as pd \n",
    "import os "
   ]
  },
  {
   "cell_type": "code",
   "execution_count": 2,
   "metadata": {},
   "outputs": [],
   "source": [
    "country_dict = {\n",
    "    \"USA\": \"2016_american\",\n",
    "    \"Germany\": \"2016_german\",\n",
    "    \"France\": \"2016_french\",\n",
    "    \"GB\": \"2016_british\",\n",
    "    \"Russia\": \"2016_russian\",\n",
    "} \n",
    "\n",
    "def print_latex(df, col_format=\"|c|c|c|c|c|\"):\n",
    "    \"\"\" Prints the latex syntax equivalent to the passed dataframe\n",
    "    :param df: Pandas dataframe \n",
    "    :col_format : String indicating the format of columns\n",
    "    \"\"\"\n",
    "    df = df.round(2)\n",
    "    latex = df.to_latex(column_format=col_format, index=False).replace('toprule',\n",
    "                                            \"hline\").replace('midrule',\n",
    "                                            \"hline\").replace('bottomrule',\n",
    "                                            \"hline\").replace(\"\\\\\\\\\\n\",\n",
    "                                            \"\\\\\\\\\\n\\\\hline\").replace(\"\\hline\\hline\",\"\\hline\")\n",
    "    print(latex)\n",
    "    \n",
    "def country_correlations(country_dict, path, features, target):\n",
    "    \"\"\" Returns dataframe with correlation coeficients \n",
    "    :param country_dict: country_name > file_name \n",
    "    :param path : Where country files are stored\n",
    "    :param features : list of column names \n",
    "    :param target: target column name\n",
    "    :return data_frame: Dataframe with correlatiosn for each country in respect to the target\n",
    "    \"\"\"\n",
    "    lst = []\n",
    "    for k,v in country_dict.items():\n",
    "        df = pd.read_pickle(os.path.join(path,v))\n",
    "        correlation_df = df[features].corr().head(len(features)-1)[target]\n",
    "        correlation_df.name = k\n",
    "        lst.append(correlation_df)\n",
    "    df = pd.concat(lst,axis=1)\n",
    "    return df"
   ]
  },
  {
   "cell_type": "code",
   "execution_count": 3,
   "metadata": {},
   "outputs": [],
   "source": [
    "path = \"../data/final_sets/countries/model_large\"\n",
    "features = [\"efficiency\", \"eig_central\", \"in_degree\", \"k_core\", \"out_degree\", \"views\"]"
   ]
  },
  {
   "cell_type": "code",
   "execution_count": 8,
   "metadata": {},
   "outputs": [],
   "source": [
    "def country_correlations(country_dict, path, features, target):\n",
    "    lst = []\n",
    "    print(features[:-1])\n",
    "    lst.append(pd.DataFrame(features[:-1], columns=[\"views\"],index=features[:-1]).head(len(features)-1))\n",
    "    for k,v in country_dict.items():\n",
    "        df = pd.read_pickle(os.path.join(path,v))\n",
    "        correlation_df = df[features].corr().head(len(features)-1)[target]\n",
    "        correlation_df.name = k\n",
    "        lst.append(correlation_df)\n",
    "    df = pd.concat(lst,axis=1)\n",
    "    return df"
   ]
  },
  {
   "cell_type": "code",
   "execution_count": 9,
   "metadata": {},
   "outputs": [
    {
     "name": "stdout",
     "output_type": "stream",
     "text": [
      "['efficiency', 'eig_central', 'in_degree', 'k_core', 'out_degree']\n"
     ]
    },
    {
     "data": {
      "text/html": [
       "<div>\n",
       "<style scoped>\n",
       "    .dataframe tbody tr th:only-of-type {\n",
       "        vertical-align: middle;\n",
       "    }\n",
       "\n",
       "    .dataframe tbody tr th {\n",
       "        vertical-align: top;\n",
       "    }\n",
       "\n",
       "    .dataframe thead th {\n",
       "        text-align: right;\n",
       "    }\n",
       "</style>\n",
       "<table border=\"1\" class=\"dataframe\">\n",
       "  <thead>\n",
       "    <tr style=\"text-align: right;\">\n",
       "      <th></th>\n",
       "      <th>views</th>\n",
       "      <th>USA</th>\n",
       "      <th>Germany</th>\n",
       "      <th>France</th>\n",
       "      <th>GB</th>\n",
       "      <th>Russia</th>\n",
       "    </tr>\n",
       "  </thead>\n",
       "  <tbody>\n",
       "    <tr>\n",
       "      <th>efficiency</th>\n",
       "      <td>efficiency</td>\n",
       "      <td>0.023479</td>\n",
       "      <td>0.035232</td>\n",
       "      <td>0.037495</td>\n",
       "      <td>0.025201</td>\n",
       "      <td>0.070529</td>\n",
       "    </tr>\n",
       "    <tr>\n",
       "      <th>eig_central</th>\n",
       "      <td>eig_central</td>\n",
       "      <td>0.471653</td>\n",
       "      <td>0.785431</td>\n",
       "      <td>0.286714</td>\n",
       "      <td>0.580289</td>\n",
       "      <td>0.864336</td>\n",
       "    </tr>\n",
       "    <tr>\n",
       "      <th>in_degree</th>\n",
       "      <td>in_degree</td>\n",
       "      <td>0.439660</td>\n",
       "      <td>0.903796</td>\n",
       "      <td>0.501570</td>\n",
       "      <td>0.589932</td>\n",
       "      <td>0.961047</td>\n",
       "    </tr>\n",
       "    <tr>\n",
       "      <th>k_core</th>\n",
       "      <td>k_core</td>\n",
       "      <td>0.280151</td>\n",
       "      <td>0.355190</td>\n",
       "      <td>0.270164</td>\n",
       "      <td>0.427128</td>\n",
       "      <td>0.652708</td>\n",
       "    </tr>\n",
       "    <tr>\n",
       "      <th>out_degree</th>\n",
       "      <td>out_degree</td>\n",
       "      <td>0.259269</td>\n",
       "      <td>0.325702</td>\n",
       "      <td>0.266777</td>\n",
       "      <td>0.364478</td>\n",
       "      <td>0.578643</td>\n",
       "    </tr>\n",
       "  </tbody>\n",
       "</table>\n",
       "</div>"
      ],
      "text/plain": [
       "                   views       USA   Germany    France        GB    Russia\n",
       "efficiency    efficiency  0.023479  0.035232  0.037495  0.025201  0.070529\n",
       "eig_central  eig_central  0.471653  0.785431  0.286714  0.580289  0.864336\n",
       "in_degree      in_degree  0.439660  0.903796  0.501570  0.589932  0.961047\n",
       "k_core            k_core  0.280151  0.355190  0.270164  0.427128  0.652708\n",
       "out_degree    out_degree  0.259269  0.325702  0.266777  0.364478  0.578643"
      ]
     },
     "execution_count": 9,
     "metadata": {},
     "output_type": "execute_result"
    }
   ],
   "source": [
    "country_correlations(country_dict, path, features, \"views\")"
   ]
  },
  {
   "cell_type": "code",
   "execution_count": 10,
   "metadata": {},
   "outputs": [
    {
     "name": "stdout",
     "output_type": "stream",
     "text": [
      "['efficiency', 'eig_central', 'in_degree', 'k_core', 'out_degree']\n",
      "\\begin{tabular}{|c|c|c|c|c|}\n",
      "\\hline\n",
      "       views &   USA &  Germany &  France &    GB &  Russia \\\\\n",
      "\\hline\n",
      "  efficiency &  0.02 &     0.04 &    0.04 &  0.03 &    0.07 \\\\\n",
      "\\hline eig\\_central &  0.47 &     0.79 &    0.29 &  0.58 &    0.86 \\\\\n",
      "\\hline   in\\_degree &  0.44 &     0.90 &    0.50 &  0.59 &    0.96 \\\\\n",
      "\\hline      k\\_core &  0.28 &     0.36 &    0.27 &  0.43 &    0.65 \\\\\n",
      "\\hline  out\\_degree &  0.26 &     0.33 &    0.27 &  0.36 &    0.58 \\\\\n",
      "\\hline\n",
      "\\end{tabular}\n",
      "\n"
     ]
    }
   ],
   "source": [
    "print_latex(country_correlations(country_dict, path, features, \"views\"))"
   ]
  },
  {
   "cell_type": "code",
   "execution_count": null,
   "metadata": {},
   "outputs": [],
   "source": [
    "[1,2,3][:-1]"
   ]
  },
  {
   "cell_type": "code",
   "execution_count": null,
   "metadata": {},
   "outputs": [],
   "source": []
  }
 ],
 "metadata": {
  "kernelspec": {
   "display_name": "Python 3",
   "language": "python",
   "name": "python3"
  },
  "language_info": {
   "codemirror_mode": {
    "name": "ipython",
    "version": 3
   },
   "file_extension": ".py",
   "mimetype": "text/x-python",
   "name": "python",
   "nbconvert_exporter": "python",
   "pygments_lexer": "ipython3",
   "version": "3.6.5"
  }
 },
 "nbformat": 4,
 "nbformat_minor": 2
}
