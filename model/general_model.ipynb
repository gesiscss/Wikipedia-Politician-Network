{
 "cells": [
  {
   "cell_type": "code",
   "execution_count": 1,
   "metadata": {
    "collapsed": false
   },
   "outputs": [],
   "source": [
    "import statsmodels.api as sm\n",
    "import pandas as pd \n",
    "import numpy as np"
   ]
  },
  {
   "cell_type": "markdown",
   "metadata": {},
   "source": [
    "# Load Data"
   ]
  },
  {
   "cell_type": "code",
   "execution_count": 2,
   "metadata": {
    "collapsed": true
   },
   "outputs": [],
   "source": [
    "data = pd.read_pickle(\"../data/final_sets/model/2016\")"
   ]
  },
  {
   "cell_type": "code",
   "execution_count": 3,
   "metadata": {
    "collapsed": true
   },
   "outputs": [],
   "source": [
    "data = data.dropna()"
   ]
  },
  {
   "cell_type": "code",
   "execution_count": 4,
   "metadata": {
    "collapsed": false
   },
   "outputs": [
    {
     "data": {
      "text/html": [
       "<div>\n",
       "<table border=\"1\" class=\"dataframe\">\n",
       "  <thead>\n",
       "    <tr style=\"text-align: right;\">\n",
       "      <th></th>\n",
       "      <th>gender</th>\n",
       "      <th>entered</th>\n",
       "      <th>efficiency</th>\n",
       "      <th>eig_central</th>\n",
       "      <th>in_degree</th>\n",
       "      <th>k_core</th>\n",
       "      <th>out_degree</th>\n",
       "      <th>views</th>\n",
       "      <th>age</th>\n",
       "      <th>is_alive</th>\n",
       "      <th>distance_birth</th>\n",
       "      <th>distance_death</th>\n",
       "      <th>distance_delta</th>\n",
       "      <th>nationality_num</th>\n",
       "      <th>party_num</th>\n",
       "      <th>occupation_num</th>\n",
       "      <th>year_interval</th>\n",
       "    </tr>\n",
       "  </thead>\n",
       "  <tbody>\n",
       "    <tr>\n",
       "      <th>0</th>\n",
       "      <td>male</td>\n",
       "      <td>2007</td>\n",
       "      <td>0.760000</td>\n",
       "      <td>0.000046</td>\n",
       "      <td>2</td>\n",
       "      <td>4</td>\n",
       "      <td>3</td>\n",
       "      <td>916.0</td>\n",
       "      <td>0</td>\n",
       "      <td>no</td>\n",
       "      <td>-1</td>\n",
       "      <td>27</td>\n",
       "      <td>-28</td>\n",
       "      <td>1</td>\n",
       "      <td>0</td>\n",
       "      <td>1</td>\n",
       "      <td>2</td>\n",
       "    </tr>\n",
       "    <tr>\n",
       "      <th>1</th>\n",
       "      <td>male</td>\n",
       "      <td>2005</td>\n",
       "      <td>0.899654</td>\n",
       "      <td>0.000801</td>\n",
       "      <td>9</td>\n",
       "      <td>10</td>\n",
       "      <td>8</td>\n",
       "      <td>4100.0</td>\n",
       "      <td>70</td>\n",
       "      <td>yes</td>\n",
       "      <td>70</td>\n",
       "      <td>-1</td>\n",
       "      <td>71</td>\n",
       "      <td>1</td>\n",
       "      <td>1</td>\n",
       "      <td>1</td>\n",
       "      <td>1</td>\n",
       "    </tr>\n",
       "    <tr>\n",
       "      <th>2</th>\n",
       "      <td>male</td>\n",
       "      <td>2013</td>\n",
       "      <td>0.734694</td>\n",
       "      <td>0.000040</td>\n",
       "      <td>2</td>\n",
       "      <td>7</td>\n",
       "      <td>5</td>\n",
       "      <td>1651.0</td>\n",
       "      <td>62</td>\n",
       "      <td>no</td>\n",
       "      <td>78</td>\n",
       "      <td>16</td>\n",
       "      <td>62</td>\n",
       "      <td>1</td>\n",
       "      <td>1</td>\n",
       "      <td>1</td>\n",
       "      <td>3</td>\n",
       "    </tr>\n",
       "    <tr>\n",
       "      <th>3</th>\n",
       "      <td>male</td>\n",
       "      <td>2007</td>\n",
       "      <td>1.000000</td>\n",
       "      <td>0.000007</td>\n",
       "      <td>2</td>\n",
       "      <td>5</td>\n",
       "      <td>4</td>\n",
       "      <td>6671.0</td>\n",
       "      <td>88</td>\n",
       "      <td>yes</td>\n",
       "      <td>88</td>\n",
       "      <td>-1</td>\n",
       "      <td>89</td>\n",
       "      <td>0</td>\n",
       "      <td>0</td>\n",
       "      <td>1</td>\n",
       "      <td>2</td>\n",
       "    </tr>\n",
       "    <tr>\n",
       "      <th>4</th>\n",
       "      <td>male</td>\n",
       "      <td>2007</td>\n",
       "      <td>0.814815</td>\n",
       "      <td>0.000068</td>\n",
       "      <td>4</td>\n",
       "      <td>4</td>\n",
       "      <td>5</td>\n",
       "      <td>7825.0</td>\n",
       "      <td>84</td>\n",
       "      <td>no</td>\n",
       "      <td>109</td>\n",
       "      <td>25</td>\n",
       "      <td>84</td>\n",
       "      <td>1</td>\n",
       "      <td>1</td>\n",
       "      <td>1</td>\n",
       "      <td>2</td>\n",
       "    </tr>\n",
       "  </tbody>\n",
       "</table>\n",
       "</div>"
      ],
      "text/plain": [
       "  gender  entered  efficiency  eig_central  in_degree  k_core  out_degree  \\\n",
       "0   male     2007    0.760000     0.000046          2       4           3   \n",
       "1   male     2005    0.899654     0.000801          9      10           8   \n",
       "2   male     2013    0.734694     0.000040          2       7           5   \n",
       "3   male     2007    1.000000     0.000007          2       5           4   \n",
       "4   male     2007    0.814815     0.000068          4       4           5   \n",
       "\n",
       "    views  age is_alive  distance_birth  distance_death  distance_delta  \\\n",
       "0   916.0    0       no              -1              27             -28   \n",
       "1  4100.0   70      yes              70              -1              71   \n",
       "2  1651.0   62       no              78              16              62   \n",
       "3  6671.0   88      yes              88              -1              89   \n",
       "4  7825.0   84       no             109              25              84   \n",
       "\n",
       "   nationality_num  party_num  occupation_num year_interval  \n",
       "0                1          0               1             2  \n",
       "1                1          1               1             1  \n",
       "2                1          1               1             3  \n",
       "3                0          0               1             2  \n",
       "4                1          1               1             2  "
      ]
     },
     "execution_count": 4,
     "metadata": {},
     "output_type": "execute_result"
    }
   ],
   "source": [
    "data.head()"
   ]
  },
  {
   "cell_type": "code",
   "execution_count": 5,
   "metadata": {
    "collapsed": false
   },
   "outputs": [
    {
     "data": {
      "text/html": [
       "<div>\n",
       "<table border=\"1\" class=\"dataframe\">\n",
       "  <thead>\n",
       "    <tr style=\"text-align: right;\">\n",
       "      <th></th>\n",
       "      <th>entered</th>\n",
       "      <th>efficiency</th>\n",
       "      <th>eig_central</th>\n",
       "      <th>in_degree</th>\n",
       "      <th>k_core</th>\n",
       "      <th>out_degree</th>\n",
       "      <th>views</th>\n",
       "      <th>age</th>\n",
       "      <th>distance_birth</th>\n",
       "      <th>distance_death</th>\n",
       "      <th>distance_delta</th>\n",
       "      <th>nationality_num</th>\n",
       "      <th>party_num</th>\n",
       "      <th>occupation_num</th>\n",
       "      <th>year_interval</th>\n",
       "      <th>gender_female</th>\n",
       "      <th>gender_male</th>\n",
       "      <th>is_alive_no</th>\n",
       "      <th>is_alive_unknown</th>\n",
       "      <th>is_alive_yes</th>\n",
       "    </tr>\n",
       "  </thead>\n",
       "  <tbody>\n",
       "    <tr>\n",
       "      <th>0</th>\n",
       "      <td>2007</td>\n",
       "      <td>0.760000</td>\n",
       "      <td>0.000046</td>\n",
       "      <td>2</td>\n",
       "      <td>4</td>\n",
       "      <td>3</td>\n",
       "      <td>916.0</td>\n",
       "      <td>0</td>\n",
       "      <td>-1</td>\n",
       "      <td>27</td>\n",
       "      <td>-28</td>\n",
       "      <td>1</td>\n",
       "      <td>0</td>\n",
       "      <td>1</td>\n",
       "      <td>2</td>\n",
       "      <td>0</td>\n",
       "      <td>1</td>\n",
       "      <td>1</td>\n",
       "      <td>0</td>\n",
       "      <td>0</td>\n",
       "    </tr>\n",
       "    <tr>\n",
       "      <th>1</th>\n",
       "      <td>2005</td>\n",
       "      <td>0.899654</td>\n",
       "      <td>0.000801</td>\n",
       "      <td>9</td>\n",
       "      <td>10</td>\n",
       "      <td>8</td>\n",
       "      <td>4100.0</td>\n",
       "      <td>70</td>\n",
       "      <td>70</td>\n",
       "      <td>-1</td>\n",
       "      <td>71</td>\n",
       "      <td>1</td>\n",
       "      <td>1</td>\n",
       "      <td>1</td>\n",
       "      <td>1</td>\n",
       "      <td>0</td>\n",
       "      <td>1</td>\n",
       "      <td>0</td>\n",
       "      <td>0</td>\n",
       "      <td>1</td>\n",
       "    </tr>\n",
       "    <tr>\n",
       "      <th>2</th>\n",
       "      <td>2013</td>\n",
       "      <td>0.734694</td>\n",
       "      <td>0.000040</td>\n",
       "      <td>2</td>\n",
       "      <td>7</td>\n",
       "      <td>5</td>\n",
       "      <td>1651.0</td>\n",
       "      <td>62</td>\n",
       "      <td>78</td>\n",
       "      <td>16</td>\n",
       "      <td>62</td>\n",
       "      <td>1</td>\n",
       "      <td>1</td>\n",
       "      <td>1</td>\n",
       "      <td>3</td>\n",
       "      <td>0</td>\n",
       "      <td>1</td>\n",
       "      <td>1</td>\n",
       "      <td>0</td>\n",
       "      <td>0</td>\n",
       "    </tr>\n",
       "    <tr>\n",
       "      <th>3</th>\n",
       "      <td>2007</td>\n",
       "      <td>1.000000</td>\n",
       "      <td>0.000007</td>\n",
       "      <td>2</td>\n",
       "      <td>5</td>\n",
       "      <td>4</td>\n",
       "      <td>6671.0</td>\n",
       "      <td>88</td>\n",
       "      <td>88</td>\n",
       "      <td>-1</td>\n",
       "      <td>89</td>\n",
       "      <td>0</td>\n",
       "      <td>0</td>\n",
       "      <td>1</td>\n",
       "      <td>2</td>\n",
       "      <td>0</td>\n",
       "      <td>1</td>\n",
       "      <td>0</td>\n",
       "      <td>0</td>\n",
       "      <td>1</td>\n",
       "    </tr>\n",
       "    <tr>\n",
       "      <th>4</th>\n",
       "      <td>2007</td>\n",
       "      <td>0.814815</td>\n",
       "      <td>0.000068</td>\n",
       "      <td>4</td>\n",
       "      <td>4</td>\n",
       "      <td>5</td>\n",
       "      <td>7825.0</td>\n",
       "      <td>84</td>\n",
       "      <td>109</td>\n",
       "      <td>25</td>\n",
       "      <td>84</td>\n",
       "      <td>1</td>\n",
       "      <td>1</td>\n",
       "      <td>1</td>\n",
       "      <td>2</td>\n",
       "      <td>0</td>\n",
       "      <td>1</td>\n",
       "      <td>1</td>\n",
       "      <td>0</td>\n",
       "      <td>0</td>\n",
       "    </tr>\n",
       "  </tbody>\n",
       "</table>\n",
       "</div>"
      ],
      "text/plain": [
       "   entered  efficiency  eig_central  in_degree  k_core  out_degree   views  \\\n",
       "0     2007    0.760000     0.000046          2       4           3   916.0   \n",
       "1     2005    0.899654     0.000801          9      10           8  4100.0   \n",
       "2     2013    0.734694     0.000040          2       7           5  1651.0   \n",
       "3     2007    1.000000     0.000007          2       5           4  6671.0   \n",
       "4     2007    0.814815     0.000068          4       4           5  7825.0   \n",
       "\n",
       "   age  distance_birth  distance_death  distance_delta  nationality_num  \\\n",
       "0    0              -1              27             -28                1   \n",
       "1   70              70              -1              71                1   \n",
       "2   62              78              16              62                1   \n",
       "3   88              88              -1              89                0   \n",
       "4   84             109              25              84                1   \n",
       "\n",
       "   party_num  occupation_num year_interval  gender_female  gender_male  \\\n",
       "0          0               1             2              0            1   \n",
       "1          1               1             1              0            1   \n",
       "2          1               1             3              0            1   \n",
       "3          0               1             2              0            1   \n",
       "4          1               1             2              0            1   \n",
       "\n",
       "   is_alive_no  is_alive_unknown  is_alive_yes  \n",
       "0            1                 0             0  \n",
       "1            0                 0             1  \n",
       "2            1                 0             0  \n",
       "3            0                 0             1  \n",
       "4            1                 0             0  "
      ]
     },
     "execution_count": 5,
     "metadata": {},
     "output_type": "execute_result"
    }
   ],
   "source": [
    "data = pd.get_dummies(data, columns=['gender', \"is_alive\"])\n",
    "data.head()"
   ]
  },
  {
   "cell_type": "code",
   "execution_count": 8,
   "metadata": {
    "collapsed": false
   },
   "outputs": [],
   "source": [
    "X = np.matrix(data.drop(\"views\", axis=1).values, dtype=\"float\")\n",
    "# y = np.matrix(data[\"views\"].values, dtype=\"float\")\n",
    "y = data[\"views\"].values"
   ]
  },
  {
   "cell_type": "code",
   "execution_count": 9,
   "metadata": {
    "collapsed": false
   },
   "outputs": [],
   "source": [
    "results = sm.OLS(y,X).fit()"
   ]
  },
  {
   "cell_type": "code",
   "execution_count": 10,
   "metadata": {
    "collapsed": false
   },
   "outputs": [
    {
     "data": {
      "text/plain": [
       "<statsmodels.regression.linear_model.RegressionResultsWrapper at 0xa456eb8>"
      ]
     },
     "execution_count": 10,
     "metadata": {},
     "output_type": "execute_result"
    }
   ],
   "source": [
    "results"
   ]
  },
  {
   "cell_type": "code",
   "execution_count": 11,
   "metadata": {
    "collapsed": false
   },
   "outputs": [
    {
     "name": "stdout",
     "output_type": "stream",
     "text": [
      "                            OLS Regression Results                            \n",
      "==============================================================================\n",
      "Dep. Variable:                      y   R-squared:                       0.223\n",
      "Model:                            OLS   Adj. R-squared:                  0.223\n",
      "Method:                 Least Squares   F-statistic:                     753.8\n",
      "Date:                Thu, 17 May 2018   Prob (F-statistic):               0.00\n",
      "Time:                        17:47:43   Log-Likelihood:            -6.0113e+05\n",
      "No. Observations:               41934   AIC:                         1.202e+06\n",
      "Df Residuals:                   41917   BIC:                         1.202e+06\n",
      "Df Model:                          16                                         \n",
      "Covariance Type:            nonrobust                                         \n",
      "==============================================================================\n",
      "                 coef    std err          t      P>|t|      [95.0% Conf. Int.]\n",
      "------------------------------------------------------------------------------\n",
      "x1           483.9497   1411.456      0.343      0.732     -2282.533  3250.433\n",
      "x2         -6922.8711    1.3e+04     -0.531      0.595     -3.25e+04  1.86e+04\n",
      "x3          3.368e+07   6.85e+05     49.201      0.000      3.23e+07   3.5e+07\n",
      "x4          7310.8148    350.285     20.871      0.000      6624.249  7997.380\n",
      "x5         -3971.9967   1362.924     -2.914      0.004     -6643.357 -1300.637\n",
      "x6         -4385.9455   1124.258     -3.901      0.000     -6589.515 -2182.377\n",
      "x7          -324.3364    131.711     -2.462      0.014      -582.493   -66.180\n",
      "x8            32.4034     32.463      0.998      0.318       -31.224    96.031\n",
      "x9            61.1356     27.561      2.218      0.027         7.116   115.155\n",
      "x10          -28.7321     35.261     -0.815      0.415       -97.845    40.381\n",
      "x11        -1724.3027   3575.988     -0.482      0.630     -8733.313  5284.708\n",
      "x12         6959.6715   2963.292      2.349      0.019      1151.559  1.28e+04\n",
      "x13          1.31e+04   2112.241      6.200      0.000      8956.887  1.72e+04\n",
      "x14        -6359.0238   7024.889     -0.905      0.365     -2.01e+04  7409.903\n",
      "x15        -5.587e+05   1.69e+06     -0.330      0.741     -3.88e+06  2.76e+06\n",
      "x16          -5.7e+05   1.69e+06     -0.337      0.736     -3.89e+06  2.75e+06\n",
      "x17         -3.83e+05   1.13e+06     -0.339      0.734      -2.6e+06  1.83e+06\n",
      "x18        -3.852e+05   1.13e+06     -0.341      0.733      -2.6e+06  1.83e+06\n",
      "x19        -3.606e+05   1.13e+06     -0.319      0.749     -2.57e+06  1.85e+06\n",
      "==============================================================================\n",
      "Omnibus:                   186816.192   Durbin-Watson:                   1.999\n",
      "Prob(Omnibus):                  0.000   Jarque-Bera (JB):    1166216785449.272\n",
      "Skew:                         145.093   Prob(JB):                         0.00\n",
      "Kurtosis:                   25836.588   Cond. No.                     8.94e+18\n",
      "==============================================================================\n",
      "\n",
      "Warnings:\n",
      "[1] Standard Errors assume that the covariance matrix of the errors is correctly specified.\n",
      "[2] The smallest eigenvalue is 2.13e-27. This might indicate that there are\n",
      "strong multicollinearity problems or that the design matrix is singular.\n"
     ]
    }
   ],
   "source": [
    "print(results.summary())"
   ]
  },
  {
   "cell_type": "code",
   "execution_count": null,
   "metadata": {
    "collapsed": false
   },
   "outputs": [],
   "source": []
  },
  {
   "cell_type": "code",
   "execution_count": null,
   "metadata": {
    "collapsed": true
   },
   "outputs": [],
   "source": []
  }
 ],
 "metadata": {
  "kernelspec": {
   "display_name": "Python 3",
   "language": "python",
   "name": "python3"
  },
  "language_info": {
   "codemirror_mode": {
    "name": "ipython",
    "version": 3
   },
   "file_extension": ".py",
   "mimetype": "text/x-python",
   "name": "python",
   "nbconvert_exporter": "python",
   "pygments_lexer": "ipython3",
   "version": "3.6.0"
  }
 },
 "nbformat": 4,
 "nbformat_minor": 2
}
