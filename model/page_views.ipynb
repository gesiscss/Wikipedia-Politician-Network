{
 "cells": [
  {
   "cell_type": "code",
   "execution_count": 1,
   "metadata": {
    "collapsed": true
   },
   "outputs": [],
   "source": [
    "import requests\n",
    "import pandas as pd \n",
    "import json\n",
    "import numpy as np\n",
    "from datetime import datetime"
   ]
  },
  {
   "cell_type": "code",
   "execution_count": 2,
   "metadata": {
    "collapsed": false
   },
   "outputs": [],
   "source": [
    "# endpoint = \"https://wikimedia.org/api/rest_v1\""
   ]
  },
  {
   "cell_type": "code",
   "execution_count": 3,
   "metadata": {
    "collapsed": false
   },
   "outputs": [],
   "source": [
    "# def return_url(article_name):\n",
    "#     \"\"\" Returns url for specified name\n",
    "#     \"\"\"\n",
    "#     project = \"en.wikipedia.org\"\n",
    "#     access = \"all-access\"\n",
    "#     agent = \"all-agents\"\n",
    "#     article = article_name\n",
    "#     granularity = \"monthly\"\n",
    "#     start = \"20010101\"\n",
    "#     end = \"20170101\"\n",
    "#     params = \"/metrics/pageviews/per-article/{}/{}/{}/{}/{}/{}/{}\".format(project,access,\n",
    "#     agent, article, granularity, start, end)\n",
    "#     return params"
   ]
  },
  {
   "cell_type": "code",
   "execution_count": 4,
   "metadata": {
    "collapsed": false
   },
   "outputs": [],
   "source": [
    "# headers = {'content-type': 'application/json'}\n",
    "# r = requests.get(endpoint+return_params(\"Adolf_Hitler\"), headers = headers)"
   ]
  },
  {
   "cell_type": "code",
   "execution_count": 5,
   "metadata": {
    "collapsed": false
   },
   "outputs": [],
   "source": [
    "# print(r.content.decode())\n",
    "# resp_dict = json.loads(r.content.decode())"
   ]
  },
  {
   "cell_type": "code",
   "execution_count": 2,
   "metadata": {
    "collapsed": true
   },
   "outputs": [],
   "source": [
    "def get_views(name): \n",
    "    \"\"\" Returns dictionary with monthly view numbers\n",
    "    \"\"\"\n",
    "    headers = {'content-type': 'application/json'}\n",
    "    r = requests.get(endpoint+return_url(name), headers = headers)\n",
    "    resp_dict = json.loads(r.content.decode())\n",
    "    return resp_dict"
   ]
  },
  {
   "cell_type": "code",
   "execution_count": 3,
   "metadata": {
    "collapsed": true
   },
   "outputs": [],
   "source": [
    "def month_views(resp_dict, month, year):\n",
    "    time = str(year)+str(month)+\"0100\"\n",
    "    if 'items' not in resp_dict.keys():\n",
    "#         print(resp_dict)\n",
    "        return 0\n",
    "    for dic in resp_dict['items']:\n",
    "#         print(dic['timestamp'])\n",
    "#         print(\"{} - {}\".format(dic['timestamp'], time))\n",
    "        if dic['timestamp'] == time:\n",
    "            return dic['views']\n",
    "    return 0 "
   ]
  },
  {
   "cell_type": "code",
   "execution_count": 4,
   "metadata": {
    "collapsed": false
   },
   "outputs": [],
   "source": [
    "def cum_views(resp_dict, year):\n",
    "    \"\"\" Retruns cumulative number of views for page in specified year\n",
    "    \"\"\"\n",
    "    if 'items' not in resp_dict.keys():\n",
    "#         print(resp_dict)\n",
    "        return 0\n",
    "    views = 0\n",
    "    for dic in resp_dict['items']:\n",
    "        if dic['timestamp'][:4] == str(year):\n",
    "            views += dic['views']\n",
    "    return views"
   ]
  },
  {
   "cell_type": "code",
   "execution_count": 5,
   "metadata": {
    "collapsed": false
   },
   "outputs": [],
   "source": [
    "data = pd.read_json(\"../data/politicians_with_gender.json\")\n",
    "# wiki_urls = pd.read_json(\"../data/politicians_with_gender.json\").WikiURL.values\n",
    "# wiki_urls[1].split(\"/wiki/\")[1]"
   ]
  },
  {
   "cell_type": "code",
   "execution_count": 6,
   "metadata": {
    "collapsed": false
   },
   "outputs": [],
   "source": [
    "data[\"url_name\"] = data[\"WikiURL\"].apply(lambda x: x.split(\"/wiki/\")[1])"
   ]
  },
  {
   "cell_type": "code",
   "execution_count": 7,
   "metadata": {
    "collapsed": false
   },
   "outputs": [
    {
     "data": {
      "text/plain": [
       "69179"
      ]
     },
     "execution_count": 7,
     "metadata": {},
     "output_type": "execute_result"
    }
   ],
   "source": [
    "names_df = data[[\"ID\", \"url_name\"]]\n",
    "len(names_df)"
   ]
  },
  {
   "cell_type": "code",
   "execution_count": 12,
   "metadata": {
    "collapsed": true
   },
   "outputs": [],
   "source": [
    "# article_names = [url.split(\"/wiki/\")[1] for url in wiki_urls]"
   ]
  },
  {
   "cell_type": "code",
   "execution_count": 13,
   "metadata": {
    "collapsed": false
   },
   "outputs": [],
   "source": [
    "# names_df[\"url_name\"].values"
   ]
  },
  {
   "cell_type": "code",
   "execution_count": 8,
   "metadata": {
    "collapsed": true
   },
   "outputs": [],
   "source": [
    "df1, df2, df3, df4 = np.array_split(names_df, 4)"
   ]
  },
  {
   "cell_type": "code",
   "execution_count": 15,
   "metadata": {
    "collapsed": false
   },
   "outputs": [],
   "source": [
    "# len(df4)"
   ]
  },
  {
   "cell_type": "code",
   "execution_count": 16,
   "metadata": {
    "collapsed": true
   },
   "outputs": [],
   "source": [
    "# df1.to_csv(\"set1.csv\", index=False, encoding=\"utf-8\")\n",
    "# df2.to_csv(\"set2.csv\", index=False, encoding=\"utf-8\")\n",
    "# df3.to_csv(\"set3.csv\", index=False, encoding=\"utf-8\")\n",
    "# df4.to_csv(\"set4.csv\", index=False, encoding=\"utf-8\")"
   ]
  },
  {
   "cell_type": "code",
   "execution_count": 17,
   "metadata": {
    "collapsed": false
   },
   "outputs": [],
   "source": [
    "# path = \"set1.csv\"\n",
    "\n",
    "# names = pd.read_csv(path)[\"url_name\"].values"
   ]
  },
  {
   "cell_type": "code",
   "execution_count": 18,
   "metadata": {
    "collapsed": false
   },
   "outputs": [],
   "source": [
    "# count = 1\n",
    "# lst = []\n",
    "# for name in names[:100]:\n",
    "#     dic = get_views(name)\n",
    "# #     print(cum_views(dic, 2016))\n",
    "#     sublst = [name, dic]\n",
    "#     lst.append(sublst)\n",
    "#     print(\"{} - {} - {}\".format(count ,datetime.now(), name))\n",
    "#     count = count + 1"
   ]
  },
  {
   "cell_type": "code",
   "execution_count": 19,
   "metadata": {
    "collapsed": true
   },
   "outputs": [],
   "source": [
    "# get_views('Barack_Obama')"
   ]
  },
  {
   "cell_type": "code",
   "execution_count": 20,
   "metadata": {
    "collapsed": false
   },
   "outputs": [],
   "source": [
    "# pd.DataFrame(lst)"
   ]
  },
  {
   "cell_type": "code",
   "execution_count": 9,
   "metadata": {
    "collapsed": false
   },
   "outputs": [],
   "source": [
    "set1 = pd.read_json(\"set1.json\")"
   ]
  },
  {
   "cell_type": "code",
   "execution_count": 10,
   "metadata": {
    "collapsed": true
   },
   "outputs": [],
   "source": [
    "set2 = pd.read_json(\"set2.json\")"
   ]
  },
  {
   "cell_type": "code",
   "execution_count": 11,
   "metadata": {
    "collapsed": true
   },
   "outputs": [],
   "source": [
    "set3 = pd.read_json(\"set3.json\")"
   ]
  },
  {
   "cell_type": "code",
   "execution_count": 12,
   "metadata": {
    "collapsed": true
   },
   "outputs": [],
   "source": [
    "set4 = pd.read_json(\"set4.json\")"
   ]
  },
  {
   "cell_type": "code",
   "execution_count": 13,
   "metadata": {
    "collapsed": true
   },
   "outputs": [],
   "source": [
    "page_views = pd.concat([set1, set2, set3, set4])"
   ]
  },
  {
   "cell_type": "code",
   "execution_count": 14,
   "metadata": {
    "collapsed": false
   },
   "outputs": [],
   "source": [
    "page_views.columns = [\"url_name\", \"view_dict\"]"
   ]
  },
  {
   "cell_type": "code",
   "execution_count": 15,
   "metadata": {
    "collapsed": false
   },
   "outputs": [],
   "source": [
    "page_views[\"views\"] = page_views[\"view_dict\"].apply(lambda x: cum_views(x, 2016))"
   ]
  },
  {
   "cell_type": "code",
   "execution_count": 16,
   "metadata": {
    "collapsed": false
   },
   "outputs": [],
   "source": [
    "page_views[\"dec2016\"] = page_views['view_dict'].apply(lambda x: month_views(x, 12, 2016))"
   ]
  },
  {
   "cell_type": "code",
   "execution_count": 17,
   "metadata": {
    "collapsed": false
   },
   "outputs": [
    {
     "data": {
      "text/html": [
       "<div>\n",
       "<table border=\"1\" class=\"dataframe\">\n",
       "  <thead>\n",
       "    <tr style=\"text-align: right;\">\n",
       "      <th></th>\n",
       "      <th>url_name</th>\n",
       "      <th>view_dict</th>\n",
       "      <th>views</th>\n",
       "      <th>dec2016</th>\n",
       "    </tr>\n",
       "  </thead>\n",
       "  <tbody>\n",
       "    <tr>\n",
       "      <th>0</th>\n",
       "      <td>Quincy_Timberlake</td>\n",
       "      <td>{'items': [{'project': 'en.wikipedia', 'articl...</td>\n",
       "      <td>5106</td>\n",
       "      <td>262</td>\n",
       "    </tr>\n",
       "    <tr>\n",
       "      <th>1</th>\n",
       "      <td>Fanny_Edelman</td>\n",
       "      <td>{'items': [{'project': 'en.wikipedia', 'articl...</td>\n",
       "      <td>5228</td>\n",
       "      <td>564</td>\n",
       "    </tr>\n",
       "    <tr>\n",
       "      <th>10</th>\n",
       "      <td>Luis_Cabrera_Lobato</td>\n",
       "      <td>{'items': [{'project': 'en.wikipedia', 'articl...</td>\n",
       "      <td>4492</td>\n",
       "      <td>334</td>\n",
       "    </tr>\n",
       "    <tr>\n",
       "      <th>100</th>\n",
       "      <td>Aishat_Ismail</td>\n",
       "      <td>{'items': [{'project': 'en.wikipedia', 'articl...</td>\n",
       "      <td>1755</td>\n",
       "      <td>147</td>\n",
       "    </tr>\n",
       "    <tr>\n",
       "      <th>1000</th>\n",
       "      <td>Henry_Tang</td>\n",
       "      <td>{'items': [{'project': 'en.wikipedia', 'articl...</td>\n",
       "      <td>19589</td>\n",
       "      <td>2264</td>\n",
       "    </tr>\n",
       "  </tbody>\n",
       "</table>\n",
       "</div>"
      ],
      "text/plain": [
       "                 url_name                                          view_dict  \\\n",
       "0       Quincy_Timberlake  {'items': [{'project': 'en.wikipedia', 'articl...   \n",
       "1           Fanny_Edelman  {'items': [{'project': 'en.wikipedia', 'articl...   \n",
       "10    Luis_Cabrera_Lobato  {'items': [{'project': 'en.wikipedia', 'articl...   \n",
       "100         Aishat_Ismail  {'items': [{'project': 'en.wikipedia', 'articl...   \n",
       "1000           Henry_Tang  {'items': [{'project': 'en.wikipedia', 'articl...   \n",
       "\n",
       "      views  dec2016  \n",
       "0      5106      262  \n",
       "1      5228      564  \n",
       "10     4492      334  \n",
       "100    1755      147  \n",
       "1000  19589     2264  "
      ]
     },
     "execution_count": 17,
     "metadata": {},
     "output_type": "execute_result"
    }
   ],
   "source": [
    "page_views.head()"
   ]
  },
  {
   "cell_type": "code",
   "execution_count": 18,
   "metadata": {
    "collapsed": false
   },
   "outputs": [],
   "source": [
    "# page_views = page_views.reset_index()\n",
    "page_views.to_pickle(\"page_views\")"
   ]
  },
  {
   "cell_type": "code",
   "execution_count": 22,
   "metadata": {
    "collapsed": false
   },
   "outputs": [
    {
     "data": {
      "text/html": [
       "<div>\n",
       "<table border=\"1\" class=\"dataframe\">\n",
       "  <thead>\n",
       "    <tr style=\"text-align: right;\">\n",
       "      <th></th>\n",
       "      <th>#DBpURL</th>\n",
       "      <th>ID</th>\n",
       "      <th>WikiURL</th>\n",
       "      <th>birthDate</th>\n",
       "      <th>deathDate</th>\n",
       "      <th>first_name</th>\n",
       "      <th>fpp_gender</th>\n",
       "      <th>full_name</th>\n",
       "      <th>gender</th>\n",
       "      <th>genderize</th>\n",
       "      <th>name</th>\n",
       "      <th>nationality</th>\n",
       "      <th>occupation</th>\n",
       "      <th>party</th>\n",
       "      <th>url_name</th>\n",
       "      <th>views</th>\n",
       "      <th>dec2016</th>\n",
       "    </tr>\n",
       "  </thead>\n",
       "  <tbody>\n",
       "    <tr>\n",
       "      <th>0</th>\n",
       "      <td>http://dbpedia.org/resource/Quincy_Timberlake</td>\n",
       "      <td>11</td>\n",
       "      <td>http://en.wikipedia.org/wiki/Quincy_Timberlake</td>\n",
       "      <td>3.252096e+11</td>\n",
       "      <td>NaN</td>\n",
       "      <td>quincy</td>\n",
       "      <td>None</td>\n",
       "      <td>Quincy+Timberlake</td>\n",
       "      <td>male</td>\n",
       "      <td>None</td>\n",
       "      <td>[ quincy timberlake ,  timberlake quincy ]</td>\n",
       "      <td>[kenyan]</td>\n",
       "      <td>[politician]</td>\n",
       "      <td>[]</td>\n",
       "      <td>Quincy_Timberlake</td>\n",
       "      <td>5106</td>\n",
       "      <td>262</td>\n",
       "    </tr>\n",
       "    <tr>\n",
       "      <th>1</th>\n",
       "      <td>http://dbpedia.org/resource/Fanny_Edelman</td>\n",
       "      <td>29</td>\n",
       "      <td>http://en.wikipedia.org/wiki/Fanny_Edelman</td>\n",
       "      <td>-1.856995e+12</td>\n",
       "      <td>1.320106e+12</td>\n",
       "      <td>fanny</td>\n",
       "      <td>None</td>\n",
       "      <td>Fanny+Edelman</td>\n",
       "      <td>female</td>\n",
       "      <td>None</td>\n",
       "      <td>[ fanny edelman ,  edelman fanny ]</td>\n",
       "      <td>[argentine]</td>\n",
       "      <td>[politician]</td>\n",
       "      <td>[]</td>\n",
       "      <td>Fanny_Edelman</td>\n",
       "      <td>5228</td>\n",
       "      <td>564</td>\n",
       "    </tr>\n",
       "    <tr>\n",
       "      <th>2</th>\n",
       "      <td>http://dbpedia.org/resource/Georges_Colombier</td>\n",
       "      <td>252</td>\n",
       "      <td>http://en.wikipedia.org/wiki/Georges_Colombier</td>\n",
       "      <td>-9.409824e+11</td>\n",
       "      <td>NaN</td>\n",
       "      <td>georges</td>\n",
       "      <td>None</td>\n",
       "      <td>Georges+Colombier</td>\n",
       "      <td>male</td>\n",
       "      <td>None</td>\n",
       "      <td>[ colombier georges ]</td>\n",
       "      <td>[french]</td>\n",
       "      <td>[politician]</td>\n",
       "      <td>[ union for a popular movement ]</td>\n",
       "      <td>Georges_Colombier</td>\n",
       "      <td>841</td>\n",
       "      <td>94</td>\n",
       "    </tr>\n",
       "    <tr>\n",
       "      <th>3</th>\n",
       "      <td>http://dbpedia.org/resource/Mira_Spivak</td>\n",
       "      <td>1858</td>\n",
       "      <td>http://en.wikipedia.org/wiki/Mira_Spivak</td>\n",
       "      <td>-1.119485e+12</td>\n",
       "      <td>NaN</td>\n",
       "      <td>mira</td>\n",
       "      <td>None</td>\n",
       "      <td>Mira+Spivak</td>\n",
       "      <td>female</td>\n",
       "      <td>None</td>\n",
       "      <td>[ mira spivak ]</td>\n",
       "      <td>[canadian, ukrainian]</td>\n",
       "      <td>[politician]</td>\n",
       "      <td>[ progressive conservative party of canada ]</td>\n",
       "      <td>Mira_Spivak</td>\n",
       "      <td>1762</td>\n",
       "      <td>180</td>\n",
       "    </tr>\n",
       "    <tr>\n",
       "      <th>4</th>\n",
       "      <td>http://dbpedia.org/resource/Auguste_Beernaert</td>\n",
       "      <td>16847</td>\n",
       "      <td>http://en.wikipedia.org/wiki/Auguste_Beernaert</td>\n",
       "      <td>-4.431715e+12</td>\n",
       "      <td>-1.806278e+12</td>\n",
       "      <td>auguste</td>\n",
       "      <td>None</td>\n",
       "      <td>Auguste+Beernaert</td>\n",
       "      <td>male</td>\n",
       "      <td>male</td>\n",
       "      <td>[ auguste beernaert ]</td>\n",
       "      <td>[belgian]</td>\n",
       "      <td>[politician]</td>\n",
       "      <td>[ catholic party (belgium) ]</td>\n",
       "      <td>Auguste_Beernaert</td>\n",
       "      <td>14868</td>\n",
       "      <td>1229</td>\n",
       "    </tr>\n",
       "  </tbody>\n",
       "</table>\n",
       "</div>"
      ],
      "text/plain": [
       "                                         #DBpURL     ID  \\\n",
       "0  http://dbpedia.org/resource/Quincy_Timberlake     11   \n",
       "1      http://dbpedia.org/resource/Fanny_Edelman     29   \n",
       "2  http://dbpedia.org/resource/Georges_Colombier    252   \n",
       "3        http://dbpedia.org/resource/Mira_Spivak   1858   \n",
       "4  http://dbpedia.org/resource/Auguste_Beernaert  16847   \n",
       "\n",
       "                                          WikiURL     birthDate     deathDate  \\\n",
       "0  http://en.wikipedia.org/wiki/Quincy_Timberlake  3.252096e+11           NaN   \n",
       "1      http://en.wikipedia.org/wiki/Fanny_Edelman -1.856995e+12  1.320106e+12   \n",
       "2  http://en.wikipedia.org/wiki/Georges_Colombier -9.409824e+11           NaN   \n",
       "3        http://en.wikipedia.org/wiki/Mira_Spivak -1.119485e+12           NaN   \n",
       "4  http://en.wikipedia.org/wiki/Auguste_Beernaert -4.431715e+12 -1.806278e+12   \n",
       "\n",
       "  first_name fpp_gender          full_name  gender genderize  \\\n",
       "0     quincy       None  Quincy+Timberlake    male      None   \n",
       "1      fanny       None      Fanny+Edelman  female      None   \n",
       "2    georges       None  Georges+Colombier    male      None   \n",
       "3       mira       None        Mira+Spivak  female      None   \n",
       "4    auguste       None  Auguste+Beernaert    male      male   \n",
       "\n",
       "                                         name            nationality  \\\n",
       "0  [ quincy timberlake ,  timberlake quincy ]               [kenyan]   \n",
       "1          [ fanny edelman ,  edelman fanny ]            [argentine]   \n",
       "2                       [ colombier georges ]               [french]   \n",
       "3                             [ mira spivak ]  [canadian, ukrainian]   \n",
       "4                       [ auguste beernaert ]              [belgian]   \n",
       "\n",
       "     occupation                                         party  \\\n",
       "0  [politician]                                            []   \n",
       "1  [politician]                                            []   \n",
       "2  [politician]              [ union for a popular movement ]   \n",
       "3  [politician]  [ progressive conservative party of canada ]   \n",
       "4  [politician]                  [ catholic party (belgium) ]   \n",
       "\n",
       "            url_name  views  dec2016  \n",
       "0  Quincy_Timberlake   5106      262  \n",
       "1      Fanny_Edelman   5228      564  \n",
       "2  Georges_Colombier    841       94  \n",
       "3        Mira_Spivak   1762      180  \n",
       "4  Auguste_Beernaert  14868     1229  "
      ]
     },
     "execution_count": 22,
     "metadata": {},
     "output_type": "execute_result"
    }
   ],
   "source": [
    "result = pd.merge(data, page_views, on=['url_name', 'url_name'])\n",
    "result = result.drop([\"view_dict\"], axis=1)\n",
    "result.head()"
   ]
  },
  {
   "cell_type": "code",
   "execution_count": null,
   "metadata": {
    "collapsed": false
   },
   "outputs": [],
   "source": [
    "# result.drop([\"view_dict\"],1)\n",
    "# result.to_json(\"page_views.json\")"
   ]
  },
  {
   "cell_type": "code",
   "execution_count": 19,
   "metadata": {
    "collapsed": false
   },
   "outputs": [],
   "source": [
    "# result.view_dict.to_json(\"page_views_dict.json\")\n",
    "# result.drop([\"view_dict\"],1)\n",
    "# result.to_json(\"page_views.json\")"
   ]
  },
  {
   "cell_type": "code",
   "execution_count": 20,
   "metadata": {
    "collapsed": false
   },
   "outputs": [],
   "source": [
    "# with open('page_views_dict.json', 'w') as fp:\n",
    "#     json.dump(dic, fp)"
   ]
  },
  {
   "cell_type": "code",
   "execution_count": 23,
   "metadata": {
    "collapsed": true
   },
   "outputs": [],
   "source": [
    "result.to_json(\"politicians_pw.json\")"
   ]
  },
  {
   "cell_type": "code",
   "execution_count": null,
   "metadata": {
    "collapsed": true
   },
   "outputs": [],
   "source": []
  }
 ],
 "metadata": {
  "kernelspec": {
   "display_name": "Python 3",
   "language": "python",
   "name": "python3"
  },
  "language_info": {
   "codemirror_mode": {
    "name": "ipython",
    "version": 3
   },
   "file_extension": ".py",
   "mimetype": "text/x-python",
   "name": "python",
   "nbconvert_exporter": "python",
   "pygments_lexer": "ipython3",
   "version": "3.6.0"
  }
 },
 "nbformat": 4,
 "nbformat_minor": 2
}
