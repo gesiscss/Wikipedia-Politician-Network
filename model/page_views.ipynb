{
 "cells": [
  {
   "cell_type": "code",
   "execution_count": 1,
   "metadata": {
    "collapsed": true
   },
   "outputs": [],
   "source": [
    "import requests\n",
    "import pandas as pd \n",
    "import json\n",
    "import numpy as np\n",
    "from datetime import datetime"
   ]
  },
  {
   "cell_type": "code",
   "execution_count": 2,
   "metadata": {
    "collapsed": false
   },
   "outputs": [],
   "source": [
    "endpoint = \"https://wikimedia.org/api/rest_v1\""
   ]
  },
  {
   "cell_type": "code",
   "execution_count": 3,
   "metadata": {
    "collapsed": false
   },
   "outputs": [],
   "source": [
    "def return_url(article_name):\n",
    "    \"\"\" Returns url for specified name\n",
    "    \"\"\"\n",
    "    project = \"en.wikipedia.org\"\n",
    "    access = \"all-access\"\n",
    "    agent = \"all-agents\"\n",
    "    article = article_name\n",
    "    granularity = \"monthly\"\n",
    "    start = \"20010101\"\n",
    "    end = \"20170101\"\n",
    "    params = \"/metrics/pageviews/per-article/{}/{}/{}/{}/{}/{}/{}\".format(project,access,\n",
    "    agent, article, granularity, start, end)\n",
    "    return params"
   ]
  },
  {
   "cell_type": "code",
   "execution_count": 4,
   "metadata": {
    "collapsed": false
   },
   "outputs": [],
   "source": [
    "# headers = {'content-type': 'application/json'}\n",
    "# r = requests.get(endpoint+return_params(\"Adolf_Hitler\"), headers = headers)"
   ]
  },
  {
   "cell_type": "code",
   "execution_count": 5,
   "metadata": {
    "collapsed": false
   },
   "outputs": [],
   "source": [
    "# print(r.content.decode())\n",
    "# resp_dict = json.loads(r.content.decode())"
   ]
  },
  {
   "cell_type": "code",
   "execution_count": 6,
   "metadata": {
    "collapsed": true
   },
   "outputs": [],
   "source": [
    "def get_views(name): \n",
    "    \"\"\" Returns dictionary with monthly view numbers\n",
    "    \"\"\"\n",
    "    headers = {'content-type': 'application/json'}\n",
    "    r = requests.get(endpoint+return_url(name), headers = headers)\n",
    "    resp_dict = json.loads(r.content.decode())\n",
    "    return resp_dict"
   ]
  },
  {
   "cell_type": "code",
   "execution_count": 7,
   "metadata": {
    "collapsed": true
   },
   "outputs": [],
   "source": [
    "def month_views(resp_dict, month, year):\n",
    "    time = str(year)+str(month)+\"0100\"\n",
    "    if 'items' not in resp_dict.keys():\n",
    "#         print(resp_dict)\n",
    "        return 0\n",
    "    for dic in resp_dict['items']:\n",
    "#         print(dic['timestamp'])\n",
    "#         print(\"{} - {}\".format(dic['timestamp'], time))\n",
    "        if dic['timestamp'] == time:\n",
    "            return dic['views']\n",
    "    return 0 "
   ]
  },
  {
   "cell_type": "code",
   "execution_count": 8,
   "metadata": {
    "collapsed": false
   },
   "outputs": [],
   "source": [
    "def cum_views(resp_dict, year):\n",
    "    \"\"\" Retruns cumulative number of views for page in specified year\n",
    "    \"\"\"\n",
    "    if 'items' not in resp_dict.keys():\n",
    "#         print(resp_dict)\n",
    "        return 0\n",
    "    views = 0\n",
    "    for dic in resp_dict['items']:\n",
    "        if dic['timestamp'][:4] == str(year):\n",
    "            views += dic['views']\n",
    "    return views"
   ]
  },
  {
   "cell_type": "code",
   "execution_count": 9,
   "metadata": {
    "collapsed": false
   },
   "outputs": [],
   "source": [
    "data = pd.read_json(\"../data/politicians_with_gender.json\")\n",
    "# wiki_urls = pd.read_json(\"../data/politicians_with_gender.json\").WikiURL.values\n",
    "# wiki_urls[1].split(\"/wiki/\")[1]"
   ]
  },
  {
   "cell_type": "code",
   "execution_count": 10,
   "metadata": {
    "collapsed": false
   },
   "outputs": [],
   "source": [
    "data[\"url_name\"] = data[\"WikiURL\"].apply(lambda x: x.split(\"/wiki/\")[1])"
   ]
  },
  {
   "cell_type": "code",
   "execution_count": 11,
   "metadata": {
    "collapsed": false
   },
   "outputs": [
    {
     "data": {
      "text/plain": [
       "69179"
      ]
     },
     "execution_count": 11,
     "metadata": {},
     "output_type": "execute_result"
    }
   ],
   "source": [
    "names_df = data[[\"ID\", \"url_name\"]]\n",
    "len(names_df)"
   ]
  },
  {
   "cell_type": "code",
   "execution_count": 12,
   "metadata": {
    "collapsed": true
   },
   "outputs": [],
   "source": [
    "# article_names = [url.split(\"/wiki/\")[1] for url in wiki_urls]"
   ]
  },
  {
   "cell_type": "code",
   "execution_count": 13,
   "metadata": {
    "collapsed": false
   },
   "outputs": [],
   "source": [
    "# names_df[\"url_name\"].values"
   ]
  },
  {
   "cell_type": "code",
   "execution_count": 14,
   "metadata": {
    "collapsed": true
   },
   "outputs": [],
   "source": [
    "df1, df2, df3, df4 = np.array_split(names_df, 4)"
   ]
  },
  {
   "cell_type": "code",
   "execution_count": 15,
   "metadata": {
    "collapsed": false
   },
   "outputs": [],
   "source": [
    "# len(df4)"
   ]
  },
  {
   "cell_type": "code",
   "execution_count": 16,
   "metadata": {
    "collapsed": true
   },
   "outputs": [],
   "source": [
    "# df1.to_csv(\"set1.csv\", index=False, encoding=\"utf-8\")\n",
    "# df2.to_csv(\"set2.csv\", index=False, encoding=\"utf-8\")\n",
    "# df3.to_csv(\"set3.csv\", index=False, encoding=\"utf-8\")\n",
    "# df4.to_csv(\"set4.csv\", index=False, encoding=\"utf-8\")"
   ]
  },
  {
   "cell_type": "code",
   "execution_count": 17,
   "metadata": {
    "collapsed": false
   },
   "outputs": [],
   "source": [
    "# path = \"set1.csv\"\n",
    "\n",
    "# names = pd.read_csv(path)[\"url_name\"].values"
   ]
  },
  {
   "cell_type": "code",
   "execution_count": 18,
   "metadata": {
    "collapsed": false
   },
   "outputs": [],
   "source": [
    "# count = 1\n",
    "# lst = []\n",
    "# for name in names[:100]:\n",
    "#     dic = get_views(name)\n",
    "# #     print(cum_views(dic, 2016))\n",
    "#     sublst = [name, dic]\n",
    "#     lst.append(sublst)\n",
    "#     print(\"{} - {} - {}\".format(count ,datetime.now(), name))\n",
    "#     count = count + 1"
   ]
  },
  {
   "cell_type": "code",
   "execution_count": 19,
   "metadata": {
    "collapsed": true
   },
   "outputs": [],
   "source": [
    "# get_views('Barack_Obama')"
   ]
  },
  {
   "cell_type": "code",
   "execution_count": 20,
   "metadata": {
    "collapsed": false
   },
   "outputs": [],
   "source": [
    "# pd.DataFrame(lst)"
   ]
  },
  {
   "cell_type": "code",
   "execution_count": 21,
   "metadata": {
    "collapsed": false
   },
   "outputs": [],
   "source": [
    "set1 = pd.read_json(\"set1.json\")"
   ]
  },
  {
   "cell_type": "code",
   "execution_count": 22,
   "metadata": {
    "collapsed": true
   },
   "outputs": [],
   "source": [
    "set2 = pd.read_json(\"set2.json\")"
   ]
  },
  {
   "cell_type": "code",
   "execution_count": 23,
   "metadata": {
    "collapsed": true
   },
   "outputs": [],
   "source": [
    "set3 = pd.read_json(\"set3.json\")"
   ]
  },
  {
   "cell_type": "code",
   "execution_count": 24,
   "metadata": {
    "collapsed": true
   },
   "outputs": [],
   "source": [
    "set4 = pd.read_json(\"set4.json\")"
   ]
  },
  {
   "cell_type": "code",
   "execution_count": 25,
   "metadata": {
    "collapsed": true
   },
   "outputs": [],
   "source": [
    "page_views = pd.concat([set1, set2, set3, set4])"
   ]
  },
  {
   "cell_type": "code",
   "execution_count": 26,
   "metadata": {
    "collapsed": false
   },
   "outputs": [],
   "source": [
    "page_views.columns = [\"url_name\", \"view_dict\"]"
   ]
  },
  {
   "cell_type": "code",
   "execution_count": 27,
   "metadata": {
    "collapsed": false
   },
   "outputs": [],
   "source": [
    "page_views[\"views\"] = page_views[\"view_dict\"].apply(lambda x: cum_views(x, 2016))"
   ]
  },
  {
   "cell_type": "code",
   "execution_count": 28,
   "metadata": {
    "collapsed": false
   },
   "outputs": [],
   "source": [
    "page_views[\"dec2016\"] = page_views['view_dict'].apply(lambda x: month_views(x, 12, 2016))"
   ]
  },
  {
   "cell_type": "code",
   "execution_count": 29,
   "metadata": {
    "collapsed": false
   },
   "outputs": [
    {
     "data": {
      "text/html": [
       "<div>\n",
       "<table border=\"1\" class=\"dataframe\">\n",
       "  <thead>\n",
       "    <tr style=\"text-align: right;\">\n",
       "      <th></th>\n",
       "      <th>url_name</th>\n",
       "      <th>view_dict</th>\n",
       "      <th>views</th>\n",
       "      <th>dec2016</th>\n",
       "    </tr>\n",
       "  </thead>\n",
       "  <tbody>\n",
       "    <tr>\n",
       "      <th>0</th>\n",
       "      <td>Quincy_Timberlake</td>\n",
       "      <td>{'items': [{'project': 'en.wikipedia', 'articl...</td>\n",
       "      <td>5106</td>\n",
       "      <td>262</td>\n",
       "    </tr>\n",
       "    <tr>\n",
       "      <th>1</th>\n",
       "      <td>Fanny_Edelman</td>\n",
       "      <td>{'items': [{'project': 'en.wikipedia', 'articl...</td>\n",
       "      <td>5228</td>\n",
       "      <td>564</td>\n",
       "    </tr>\n",
       "    <tr>\n",
       "      <th>10</th>\n",
       "      <td>Luis_Cabrera_Lobato</td>\n",
       "      <td>{'items': [{'project': 'en.wikipedia', 'articl...</td>\n",
       "      <td>4492</td>\n",
       "      <td>334</td>\n",
       "    </tr>\n",
       "    <tr>\n",
       "      <th>100</th>\n",
       "      <td>Aishat_Ismail</td>\n",
       "      <td>{'items': [{'project': 'en.wikipedia', 'articl...</td>\n",
       "      <td>1755</td>\n",
       "      <td>147</td>\n",
       "    </tr>\n",
       "    <tr>\n",
       "      <th>1000</th>\n",
       "      <td>Henry_Tang</td>\n",
       "      <td>{'items': [{'project': 'en.wikipedia', 'articl...</td>\n",
       "      <td>19589</td>\n",
       "      <td>2264</td>\n",
       "    </tr>\n",
       "    <tr>\n",
       "      <th>10000</th>\n",
       "      <td>Juan_Gabriel_Uribe_Vegalara</td>\n",
       "      <td>{'items': [{'project': 'en.wikipedia', 'articl...</td>\n",
       "      <td>1384</td>\n",
       "      <td>137</td>\n",
       "    </tr>\n",
       "    <tr>\n",
       "      <th>10001</th>\n",
       "      <td>Carolyn_Maloney</td>\n",
       "      <td>{'items': [{'project': 'en.wikipedia', 'articl...</td>\n",
       "      <td>61987</td>\n",
       "      <td>3773</td>\n",
       "    </tr>\n",
       "    <tr>\n",
       "      <th>10002</th>\n",
       "      <td>Carmencita_Hederman</td>\n",
       "      <td>{'items': [{'project': 'en.wikipedia', 'articl...</td>\n",
       "      <td>2632</td>\n",
       "      <td>295</td>\n",
       "    </tr>\n",
       "    <tr>\n",
       "      <th>10003</th>\n",
       "      <td>Moses_Katjiuongua</td>\n",
       "      <td>{'items': [{'project': 'en.wikipedia', 'articl...</td>\n",
       "      <td>1023</td>\n",
       "      <td>84</td>\n",
       "    </tr>\n",
       "    <tr>\n",
       "      <th>10004</th>\n",
       "      <td>Nikolay_Yusupov</td>\n",
       "      <td>{'items': [{'project': 'en.wikipedia', 'articl...</td>\n",
       "      <td>3259</td>\n",
       "      <td>251</td>\n",
       "    </tr>\n",
       "    <tr>\n",
       "      <th>10005</th>\n",
       "      <td>Brinsley_Butler,_2nd_Earl_of_Lanesborough</td>\n",
       "      <td>{'items': [{'project': 'en.wikipedia', 'articl...</td>\n",
       "      <td>987</td>\n",
       "      <td>86</td>\n",
       "    </tr>\n",
       "    <tr>\n",
       "      <th>10006</th>\n",
       "      <td>John_Morse_(British_politician)</td>\n",
       "      <td>{'items': [{'project': 'en.wikipedia', 'articl...</td>\n",
       "      <td>2874</td>\n",
       "      <td>254</td>\n",
       "    </tr>\n",
       "    <tr>\n",
       "      <th>10007</th>\n",
       "      <td>K._A._Vezhavendan</td>\n",
       "      <td>{'items': [{'project': 'en.wikipedia', 'articl...</td>\n",
       "      <td>667</td>\n",
       "      <td>49</td>\n",
       "    </tr>\n",
       "    <tr>\n",
       "      <th>10008</th>\n",
       "      <td>Chen_Gui_(politician)</td>\n",
       "      <td>{'items': [{'project': 'en.wikipedia', 'articl...</td>\n",
       "      <td>1567</td>\n",
       "      <td>161</td>\n",
       "    </tr>\n",
       "    <tr>\n",
       "      <th>10009</th>\n",
       "      <td>Aleksander_Sulkiewicz</td>\n",
       "      <td>{'items': [{'project': 'en.wikipedia', 'articl...</td>\n",
       "      <td>3791</td>\n",
       "      <td>308</td>\n",
       "    </tr>\n",
       "    <tr>\n",
       "      <th>1001</th>\n",
       "      <td>Xu_Ai</td>\n",
       "      <td>{'items': [{'project': 'en.wikipedia', 'articl...</td>\n",
       "      <td>1151</td>\n",
       "      <td>120</td>\n",
       "    </tr>\n",
       "    <tr>\n",
       "      <th>10010</th>\n",
       "      <td>Vasco_Cordeiro</td>\n",
       "      <td>{'items': [{'project': 'en.wikipedia', 'articl...</td>\n",
       "      <td>5087</td>\n",
       "      <td>424</td>\n",
       "    </tr>\n",
       "    <tr>\n",
       "      <th>10011</th>\n",
       "      <td>Richard_Gomez</td>\n",
       "      <td>{'items': [{'project': 'en.wikipedia', 'articl...</td>\n",
       "      <td>82678</td>\n",
       "      <td>4986</td>\n",
       "    </tr>\n",
       "    <tr>\n",
       "      <th>10012</th>\n",
       "      <td>Samuel_Holland_(politician)</td>\n",
       "      <td>{'items': [{'project': 'en.wikipedia', 'articl...</td>\n",
       "      <td>1212</td>\n",
       "      <td>120</td>\n",
       "    </tr>\n",
       "    <tr>\n",
       "      <th>10013</th>\n",
       "      <td>Mansour_Mohamed_El-Kikhia</td>\n",
       "      <td>{'items': [{'project': 'en.wikipedia', 'articl...</td>\n",
       "      <td>1311</td>\n",
       "      <td>114</td>\n",
       "    </tr>\n",
       "    <tr>\n",
       "      <th>10014</th>\n",
       "      <td>Jethro_Mutti</td>\n",
       "      <td>{'items': [{'project': 'en.wikipedia', 'articl...</td>\n",
       "      <td>790</td>\n",
       "      <td>65</td>\n",
       "    </tr>\n",
       "    <tr>\n",
       "      <th>10015</th>\n",
       "      <td>Rudy_Marconi</td>\n",
       "      <td>{'items': [{'project': 'en.wikipedia', 'articl...</td>\n",
       "      <td>1093</td>\n",
       "      <td>0</td>\n",
       "    </tr>\n",
       "    <tr>\n",
       "      <th>10016</th>\n",
       "      <td>Fred_Costello</td>\n",
       "      <td>{'items': [{'project': 'en.wikipedia', 'articl...</td>\n",
       "      <td>4968</td>\n",
       "      <td>192</td>\n",
       "    </tr>\n",
       "    <tr>\n",
       "      <th>10017</th>\n",
       "      <td>Richard_O'Neill_(politician)</td>\n",
       "      <td>{'items': [{'project': 'en.wikipedia', 'articl...</td>\n",
       "      <td>506</td>\n",
       "      <td>44</td>\n",
       "    </tr>\n",
       "    <tr>\n",
       "      <th>10018</th>\n",
       "      <td>George_Pabey</td>\n",
       "      <td>{'items': [{'project': 'en.wikipedia', 'articl...</td>\n",
       "      <td>2342</td>\n",
       "      <td>159</td>\n",
       "    </tr>\n",
       "    <tr>\n",
       "      <th>10019</th>\n",
       "      <td>Rémy_Pagani</td>\n",
       "      <td>{'items': [{'project': 'en.wikipedia', 'articl...</td>\n",
       "      <td>2648</td>\n",
       "      <td>244</td>\n",
       "    </tr>\n",
       "    <tr>\n",
       "      <th>1002</th>\n",
       "      <td>Rabindra_Pratap_Shah</td>\n",
       "      <td>{'items': [{'project': 'en.wikipedia', 'articl...</td>\n",
       "      <td>1908</td>\n",
       "      <td>155</td>\n",
       "    </tr>\n",
       "    <tr>\n",
       "      <th>10020</th>\n",
       "      <td>Facundo_Ynsfrán</td>\n",
       "      <td>{'items': [{'project': 'en.wikipedia', 'articl...</td>\n",
       "      <td>680</td>\n",
       "      <td>76</td>\n",
       "    </tr>\n",
       "    <tr>\n",
       "      <th>10021</th>\n",
       "      <td>Michel_Elefteriades</td>\n",
       "      <td>{'items': [{'project': 'en.wikipedia', 'articl...</td>\n",
       "      <td>14545</td>\n",
       "      <td>867</td>\n",
       "    </tr>\n",
       "    <tr>\n",
       "      <th>10022</th>\n",
       "      <td>Eric_Hoskins</td>\n",
       "      <td>{'items': [{'project': 'en.wikipedia', 'articl...</td>\n",
       "      <td>27713</td>\n",
       "      <td>2047</td>\n",
       "    </tr>\n",
       "    <tr>\n",
       "      <th>...</th>\n",
       "      <td>...</td>\n",
       "      <td>...</td>\n",
       "      <td>...</td>\n",
       "      <td>...</td>\n",
       "    </tr>\n",
       "    <tr>\n",
       "      <th>9972</th>\n",
       "      <td>Ingvard_Sverdrup</td>\n",
       "      <td>{'items': [{'project': 'en.wikipedia', 'articl...</td>\n",
       "      <td>516</td>\n",
       "      <td>66</td>\n",
       "    </tr>\n",
       "    <tr>\n",
       "      <th>9973</th>\n",
       "      <td>Börje_Hörnlund</td>\n",
       "      <td>{'items': [{'project': 'en.wikipedia', 'articl...</td>\n",
       "      <td>787</td>\n",
       "      <td>71</td>\n",
       "    </tr>\n",
       "    <tr>\n",
       "      <th>9974</th>\n",
       "      <td>Mauricio_Solaún</td>\n",
       "      <td>{'items': [{'project': 'en.wikipedia', 'articl...</td>\n",
       "      <td>1260</td>\n",
       "      <td>103</td>\n",
       "    </tr>\n",
       "    <tr>\n",
       "      <th>9975</th>\n",
       "      <td>Antoine-Jean-Marie_Thévenard</td>\n",
       "      <td>{'items': [{'project': 'en.wikipedia', 'articl...</td>\n",
       "      <td>1632</td>\n",
       "      <td>132</td>\n",
       "    </tr>\n",
       "    <tr>\n",
       "      <th>9976</th>\n",
       "      <td>Rinzin_Jamtsho</td>\n",
       "      <td>{'items': [{'project': 'en.wikipedia', 'articl...</td>\n",
       "      <td>534</td>\n",
       "      <td>69</td>\n",
       "    </tr>\n",
       "    <tr>\n",
       "      <th>9977</th>\n",
       "      <td>Patsy_Mink</td>\n",
       "      <td>{'items': [{'project': 'en.wikipedia', 'articl...</td>\n",
       "      <td>60956</td>\n",
       "      <td>5153</td>\n",
       "    </tr>\n",
       "    <tr>\n",
       "      <th>9978</th>\n",
       "      <td>Swami_Prasad_Maurya</td>\n",
       "      <td>{'items': [{'project': 'en.wikipedia', 'articl...</td>\n",
       "      <td>36210</td>\n",
       "      <td>1472</td>\n",
       "    </tr>\n",
       "    <tr>\n",
       "      <th>9979</th>\n",
       "      <td>John_Maynard_(died_1658)</td>\n",
       "      <td>{'items': [{'project': 'en.wikipedia', 'articl...</td>\n",
       "      <td>810</td>\n",
       "      <td>64</td>\n",
       "    </tr>\n",
       "    <tr>\n",
       "      <th>998</th>\n",
       "      <td>Nabin_Chandra_Bardoloi</td>\n",
       "      <td>{'items': [{'project': 'en.wikipedia', 'articl...</td>\n",
       "      <td>2459</td>\n",
       "      <td>189</td>\n",
       "    </tr>\n",
       "    <tr>\n",
       "      <th>9980</th>\n",
       "      <td>Azwar_Abubakar</td>\n",
       "      <td>{'items': [{'project': 'en.wikipedia', 'articl...</td>\n",
       "      <td>2225</td>\n",
       "      <td>201</td>\n",
       "    </tr>\n",
       "    <tr>\n",
       "      <th>9981</th>\n",
       "      <td>Marianne_Birthler</td>\n",
       "      <td>{'items': [{'project': 'en.wikipedia', 'articl...</td>\n",
       "      <td>7519</td>\n",
       "      <td>1079</td>\n",
       "    </tr>\n",
       "    <tr>\n",
       "      <th>9982</th>\n",
       "      <td>Michael_Twomey</td>\n",
       "      <td>{'items': [{'project': 'en.wikipedia', 'articl...</td>\n",
       "      <td>3252</td>\n",
       "      <td>74</td>\n",
       "    </tr>\n",
       "    <tr>\n",
       "      <th>9983</th>\n",
       "      <td>Nele_Lijnen</td>\n",
       "      <td>{'items': [{'project': 'en.wikipedia', 'articl...</td>\n",
       "      <td>788</td>\n",
       "      <td>62</td>\n",
       "    </tr>\n",
       "    <tr>\n",
       "      <th>9984</th>\n",
       "      <td>Godfrey_Mark_Palmer</td>\n",
       "      <td>{'items': [{'project': 'en.wikipedia', 'articl...</td>\n",
       "      <td>994</td>\n",
       "      <td>79</td>\n",
       "    </tr>\n",
       "    <tr>\n",
       "      <th>9985</th>\n",
       "      <td>Ghulam_Mohammad_Rigi</td>\n",
       "      <td>{'items': [{'project': 'en.wikipedia', 'articl...</td>\n",
       "      <td>797</td>\n",
       "      <td>56</td>\n",
       "    </tr>\n",
       "    <tr>\n",
       "      <th>9986</th>\n",
       "      <td>Ernst_von_Plener</td>\n",
       "      <td>{'items': [{'project': 'en.wikipedia', 'articl...</td>\n",
       "      <td>935</td>\n",
       "      <td>92</td>\n",
       "    </tr>\n",
       "    <tr>\n",
       "      <th>9987</th>\n",
       "      <td>José_María_Michavila</td>\n",
       "      <td>{'items': [{'project': 'en.wikipedia', 'articl...</td>\n",
       "      <td>1800</td>\n",
       "      <td>165</td>\n",
       "    </tr>\n",
       "    <tr>\n",
       "      <th>9988</th>\n",
       "      <td>Óscar_Berger</td>\n",
       "      <td>{'items': [{'project': 'en.wikipedia', 'articl...</td>\n",
       "      <td>7639</td>\n",
       "      <td>662</td>\n",
       "    </tr>\n",
       "    <tr>\n",
       "      <th>9989</th>\n",
       "      <td>Alfonso_Othón_Bello_Pérez</td>\n",
       "      <td>{'items': [{'project': 'en.wikipedia', 'articl...</td>\n",
       "      <td>981</td>\n",
       "      <td>136</td>\n",
       "    </tr>\n",
       "    <tr>\n",
       "      <th>999</th>\n",
       "      <td>Alec_Beechman</td>\n",
       "      <td>{'items': [{'project': 'en.wikipedia', 'articl...</td>\n",
       "      <td>1319</td>\n",
       "      <td>101</td>\n",
       "    </tr>\n",
       "    <tr>\n",
       "      <th>9990</th>\n",
       "      <td>Andrea_Ossoinack</td>\n",
       "      <td>{'items': [{'project': 'en.wikipedia', 'articl...</td>\n",
       "      <td>1418</td>\n",
       "      <td>122</td>\n",
       "    </tr>\n",
       "    <tr>\n",
       "      <th>9991</th>\n",
       "      <td>Jiang_Chunfang</td>\n",
       "      <td>{'items': [{'project': 'en.wikipedia', 'articl...</td>\n",
       "      <td>816</td>\n",
       "      <td>89</td>\n",
       "    </tr>\n",
       "    <tr>\n",
       "      <th>9992</th>\n",
       "      <td>Alex_Tettey-Enyo</td>\n",
       "      <td>{'items': [{'project': 'en.wikipedia', 'articl...</td>\n",
       "      <td>1740</td>\n",
       "      <td>168</td>\n",
       "    </tr>\n",
       "    <tr>\n",
       "      <th>9993</th>\n",
       "      <td>Alberto_Fujimori</td>\n",
       "      <td>{'items': [{'project': 'en.wikipedia', 'articl...</td>\n",
       "      <td>501984</td>\n",
       "      <td>19885</td>\n",
       "    </tr>\n",
       "    <tr>\n",
       "      <th>9994</th>\n",
       "      <td>Stephen_K._Yamashiro</td>\n",
       "      <td>{'items': [{'project': 'en.wikipedia', 'articl...</td>\n",
       "      <td>2012</td>\n",
       "      <td>181</td>\n",
       "    </tr>\n",
       "    <tr>\n",
       "      <th>9995</th>\n",
       "      <td>Robert_R._Bishop</td>\n",
       "      <td>{'items': [{'project': 'en.wikipedia', 'articl...</td>\n",
       "      <td>820</td>\n",
       "      <td>77</td>\n",
       "    </tr>\n",
       "    <tr>\n",
       "      <th>9996</th>\n",
       "      <td>Mark_Trafton</td>\n",
       "      <td>{'items': [{'project': 'en.wikipedia', 'articl...</td>\n",
       "      <td>3825</td>\n",
       "      <td>353</td>\n",
       "    </tr>\n",
       "    <tr>\n",
       "      <th>9997</th>\n",
       "      <td>Paresh_Rawal</td>\n",
       "      <td>{'items': [{'project': 'en.wikipedia', 'articl...</td>\n",
       "      <td>583201</td>\n",
       "      <td>40641</td>\n",
       "    </tr>\n",
       "    <tr>\n",
       "      <th>9998</th>\n",
       "      <td>B._B._Lyngdoh</td>\n",
       "      <td>{'items': [{'project': 'en.wikipedia', 'articl...</td>\n",
       "      <td>1661</td>\n",
       "      <td>147</td>\n",
       "    </tr>\n",
       "    <tr>\n",
       "      <th>9999</th>\n",
       "      <td>Samuel_Nuqingaq</td>\n",
       "      <td>{'items': [{'project': 'en.wikipedia', 'articl...</td>\n",
       "      <td>1091</td>\n",
       "      <td>96</td>\n",
       "    </tr>\n",
       "  </tbody>\n",
       "</table>\n",
       "<p>69179 rows × 4 columns</p>\n",
       "</div>"
      ],
      "text/plain": [
       "                                        url_name  \\\n",
       "0                              Quincy_Timberlake   \n",
       "1                                  Fanny_Edelman   \n",
       "10                           Luis_Cabrera_Lobato   \n",
       "100                                Aishat_Ismail   \n",
       "1000                                  Henry_Tang   \n",
       "10000                Juan_Gabriel_Uribe_Vegalara   \n",
       "10001                            Carolyn_Maloney   \n",
       "10002                        Carmencita_Hederman   \n",
       "10003                          Moses_Katjiuongua   \n",
       "10004                            Nikolay_Yusupov   \n",
       "10005  Brinsley_Butler,_2nd_Earl_of_Lanesborough   \n",
       "10006            John_Morse_(British_politician)   \n",
       "10007                          K._A._Vezhavendan   \n",
       "10008                      Chen_Gui_(politician)   \n",
       "10009                      Aleksander_Sulkiewicz   \n",
       "1001                                       Xu_Ai   \n",
       "10010                             Vasco_Cordeiro   \n",
       "10011                              Richard_Gomez   \n",
       "10012                Samuel_Holland_(politician)   \n",
       "10013                  Mansour_Mohamed_El-Kikhia   \n",
       "10014                               Jethro_Mutti   \n",
       "10015                               Rudy_Marconi   \n",
       "10016                              Fred_Costello   \n",
       "10017               Richard_O'Neill_(politician)   \n",
       "10018                               George_Pabey   \n",
       "10019                                Rémy_Pagani   \n",
       "1002                        Rabindra_Pratap_Shah   \n",
       "10020                            Facundo_Ynsfrán   \n",
       "10021                        Michel_Elefteriades   \n",
       "10022                               Eric_Hoskins   \n",
       "...                                          ...   \n",
       "9972                            Ingvard_Sverdrup   \n",
       "9973                              Börje_Hörnlund   \n",
       "9974                             Mauricio_Solaún   \n",
       "9975                Antoine-Jean-Marie_Thévenard   \n",
       "9976                              Rinzin_Jamtsho   \n",
       "9977                                  Patsy_Mink   \n",
       "9978                         Swami_Prasad_Maurya   \n",
       "9979                    John_Maynard_(died_1658)   \n",
       "998                       Nabin_Chandra_Bardoloi   \n",
       "9980                              Azwar_Abubakar   \n",
       "9981                           Marianne_Birthler   \n",
       "9982                              Michael_Twomey   \n",
       "9983                                 Nele_Lijnen   \n",
       "9984                         Godfrey_Mark_Palmer   \n",
       "9985                        Ghulam_Mohammad_Rigi   \n",
       "9986                            Ernst_von_Plener   \n",
       "9987                        José_María_Michavila   \n",
       "9988                                Óscar_Berger   \n",
       "9989                   Alfonso_Othón_Bello_Pérez   \n",
       "999                                Alec_Beechman   \n",
       "9990                            Andrea_Ossoinack   \n",
       "9991                              Jiang_Chunfang   \n",
       "9992                            Alex_Tettey-Enyo   \n",
       "9993                            Alberto_Fujimori   \n",
       "9994                        Stephen_K._Yamashiro   \n",
       "9995                            Robert_R._Bishop   \n",
       "9996                                Mark_Trafton   \n",
       "9997                                Paresh_Rawal   \n",
       "9998                               B._B._Lyngdoh   \n",
       "9999                             Samuel_Nuqingaq   \n",
       "\n",
       "                                               view_dict   views  dec2016  \n",
       "0      {'items': [{'project': 'en.wikipedia', 'articl...    5106      262  \n",
       "1      {'items': [{'project': 'en.wikipedia', 'articl...    5228      564  \n",
       "10     {'items': [{'project': 'en.wikipedia', 'articl...    4492      334  \n",
       "100    {'items': [{'project': 'en.wikipedia', 'articl...    1755      147  \n",
       "1000   {'items': [{'project': 'en.wikipedia', 'articl...   19589     2264  \n",
       "10000  {'items': [{'project': 'en.wikipedia', 'articl...    1384      137  \n",
       "10001  {'items': [{'project': 'en.wikipedia', 'articl...   61987     3773  \n",
       "10002  {'items': [{'project': 'en.wikipedia', 'articl...    2632      295  \n",
       "10003  {'items': [{'project': 'en.wikipedia', 'articl...    1023       84  \n",
       "10004  {'items': [{'project': 'en.wikipedia', 'articl...    3259      251  \n",
       "10005  {'items': [{'project': 'en.wikipedia', 'articl...     987       86  \n",
       "10006  {'items': [{'project': 'en.wikipedia', 'articl...    2874      254  \n",
       "10007  {'items': [{'project': 'en.wikipedia', 'articl...     667       49  \n",
       "10008  {'items': [{'project': 'en.wikipedia', 'articl...    1567      161  \n",
       "10009  {'items': [{'project': 'en.wikipedia', 'articl...    3791      308  \n",
       "1001   {'items': [{'project': 'en.wikipedia', 'articl...    1151      120  \n",
       "10010  {'items': [{'project': 'en.wikipedia', 'articl...    5087      424  \n",
       "10011  {'items': [{'project': 'en.wikipedia', 'articl...   82678     4986  \n",
       "10012  {'items': [{'project': 'en.wikipedia', 'articl...    1212      120  \n",
       "10013  {'items': [{'project': 'en.wikipedia', 'articl...    1311      114  \n",
       "10014  {'items': [{'project': 'en.wikipedia', 'articl...     790       65  \n",
       "10015  {'items': [{'project': 'en.wikipedia', 'articl...    1093        0  \n",
       "10016  {'items': [{'project': 'en.wikipedia', 'articl...    4968      192  \n",
       "10017  {'items': [{'project': 'en.wikipedia', 'articl...     506       44  \n",
       "10018  {'items': [{'project': 'en.wikipedia', 'articl...    2342      159  \n",
       "10019  {'items': [{'project': 'en.wikipedia', 'articl...    2648      244  \n",
       "1002   {'items': [{'project': 'en.wikipedia', 'articl...    1908      155  \n",
       "10020  {'items': [{'project': 'en.wikipedia', 'articl...     680       76  \n",
       "10021  {'items': [{'project': 'en.wikipedia', 'articl...   14545      867  \n",
       "10022  {'items': [{'project': 'en.wikipedia', 'articl...   27713     2047  \n",
       "...                                                  ...     ...      ...  \n",
       "9972   {'items': [{'project': 'en.wikipedia', 'articl...     516       66  \n",
       "9973   {'items': [{'project': 'en.wikipedia', 'articl...     787       71  \n",
       "9974   {'items': [{'project': 'en.wikipedia', 'articl...    1260      103  \n",
       "9975   {'items': [{'project': 'en.wikipedia', 'articl...    1632      132  \n",
       "9976   {'items': [{'project': 'en.wikipedia', 'articl...     534       69  \n",
       "9977   {'items': [{'project': 'en.wikipedia', 'articl...   60956     5153  \n",
       "9978   {'items': [{'project': 'en.wikipedia', 'articl...   36210     1472  \n",
       "9979   {'items': [{'project': 'en.wikipedia', 'articl...     810       64  \n",
       "998    {'items': [{'project': 'en.wikipedia', 'articl...    2459      189  \n",
       "9980   {'items': [{'project': 'en.wikipedia', 'articl...    2225      201  \n",
       "9981   {'items': [{'project': 'en.wikipedia', 'articl...    7519     1079  \n",
       "9982   {'items': [{'project': 'en.wikipedia', 'articl...    3252       74  \n",
       "9983   {'items': [{'project': 'en.wikipedia', 'articl...     788       62  \n",
       "9984   {'items': [{'project': 'en.wikipedia', 'articl...     994       79  \n",
       "9985   {'items': [{'project': 'en.wikipedia', 'articl...     797       56  \n",
       "9986   {'items': [{'project': 'en.wikipedia', 'articl...     935       92  \n",
       "9987   {'items': [{'project': 'en.wikipedia', 'articl...    1800      165  \n",
       "9988   {'items': [{'project': 'en.wikipedia', 'articl...    7639      662  \n",
       "9989   {'items': [{'project': 'en.wikipedia', 'articl...     981      136  \n",
       "999    {'items': [{'project': 'en.wikipedia', 'articl...    1319      101  \n",
       "9990   {'items': [{'project': 'en.wikipedia', 'articl...    1418      122  \n",
       "9991   {'items': [{'project': 'en.wikipedia', 'articl...     816       89  \n",
       "9992   {'items': [{'project': 'en.wikipedia', 'articl...    1740      168  \n",
       "9993   {'items': [{'project': 'en.wikipedia', 'articl...  501984    19885  \n",
       "9994   {'items': [{'project': 'en.wikipedia', 'articl...    2012      181  \n",
       "9995   {'items': [{'project': 'en.wikipedia', 'articl...     820       77  \n",
       "9996   {'items': [{'project': 'en.wikipedia', 'articl...    3825      353  \n",
       "9997   {'items': [{'project': 'en.wikipedia', 'articl...  583201    40641  \n",
       "9998   {'items': [{'project': 'en.wikipedia', 'articl...    1661      147  \n",
       "9999   {'items': [{'project': 'en.wikipedia', 'articl...    1091       96  \n",
       "\n",
       "[69179 rows x 4 columns]"
      ]
     },
     "execution_count": 29,
     "metadata": {},
     "output_type": "execute_result"
    }
   ],
   "source": [
    "page_views"
   ]
  },
  {
   "cell_type": "code",
   "execution_count": 30,
   "metadata": {
    "collapsed": true
   },
   "outputs": [],
   "source": [
    "result = pd.merge(data, page_views, on=['url_name', 'url_name'])"
   ]
  },
  {
   "cell_type": "code",
   "execution_count": 32,
   "metadata": {
    "collapsed": false
   },
   "outputs": [],
   "source": [
    "result.to_json(\"page_views.json\")"
   ]
  },
  {
   "cell_type": "code",
   "execution_count": null,
   "metadata": {
    "collapsed": true
   },
   "outputs": [],
   "source": []
  }
 ],
 "metadata": {
  "kernelspec": {
   "display_name": "Python 3",
   "language": "python",
   "name": "python3"
  },
  "language_info": {
   "codemirror_mode": {
    "name": "ipython",
    "version": 3
   },
   "file_extension": ".py",
   "mimetype": "text/x-python",
   "name": "python",
   "nbconvert_exporter": "python",
   "pygments_lexer": "ipython3",
   "version": "3.6.0"
  }
 },
 "nbformat": 4,
 "nbformat_minor": 2
}
