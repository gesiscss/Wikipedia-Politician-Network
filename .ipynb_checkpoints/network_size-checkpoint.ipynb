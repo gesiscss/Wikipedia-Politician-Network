{
 "cells": [
  {
   "cell_type": "code",
   "execution_count": 1,
   "metadata": {
    "collapsed": false
   },
   "outputs": [],
   "source": [
    "import numpy as np\n",
    "import pandas as pd \n",
    "import networkx as nx \n",
    "import stats\n",
    "import matplotlib.pyplot as plt\n",
    "from os import listdir\n",
    "from os.path import isfile, join"
   ]
  },
  {
   "cell_type": "code",
   "execution_count": 2,
   "metadata": {
    "collapsed": false
   },
   "outputs": [
    {
     "data": {
      "text/plain": [
       "['2001_06',\n",
       " '2001_12',\n",
       " '2002_06',\n",
       " '2002_12',\n",
       " '2003_06',\n",
       " '2003_12',\n",
       " '2004_06',\n",
       " '2004_12',\n",
       " '2005_06',\n",
       " '2005_12',\n",
       " '2006_06',\n",
       " '2006_12',\n",
       " '2007_06',\n",
       " '2007_12',\n",
       " '2008_06',\n",
       " '2008_12',\n",
       " '2009_06',\n",
       " '2009_12',\n",
       " '2010_06',\n",
       " '2010_12',\n",
       " '2011_06',\n",
       " '2011_12',\n",
       " '2012_06',\n",
       " '2012_12',\n",
       " '2013_06',\n",
       " '2013_12',\n",
       " '2014_06',\n",
       " '2014_12',\n",
       " '2015_06',\n",
       " '2015_12',\n",
       " '2016_06',\n",
       " '2016_12']"
      ]
     },
     "execution_count": 2,
     "metadata": {},
     "output_type": "execute_result"
    }
   ],
   "source": [
    "files = stats.get_files(\"data/graphs\")[:-1]\n",
    "files = [file for file in files if file.endswith(\"_06\") or file.endswith(\"_12\")]\n",
    "files"
   ]
  },
  {
   "cell_type": "code",
   "execution_count": 7,
   "metadata": {
    "collapsed": true
   },
   "outputs": [],
   "source": [
    "# mG = stats.filter_graph(G,\"gender\",\"male\")\n",
    "# fG = stats.filter_graph(G,\"gender\",\"female\")"
   ]
  },
  {
   "cell_type": "code",
   "execution_count": 8,
   "metadata": {
    "collapsed": false
   },
   "outputs": [],
   "source": [
    "# stats.network_size(mG)"
   ]
  },
  {
   "cell_type": "code",
   "execution_count": 9,
   "metadata": {
    "collapsed": false
   },
   "outputs": [],
   "source": [
    "# stats.network_size(fG)"
   ]
  },
  {
   "cell_type": "code",
   "execution_count": 10,
   "metadata": {
    "collapsed": false
   },
   "outputs": [],
   "source": [
    "# lst = []\n",
    "# for file in files:\n",
    "#     G = nx.read_gpickle(\"data/graphs\"+\"/\"+file)\n",
    "#     mG = stats.filter_graph(G,\"gender\",\"male\")\n",
    "#     fG = stats.filter_graph(G,\"gender\",\"female\")\n",
    "#     sub =[file,stats.network_size(fG), stats.network_size(mG)]\n",
    "#     lst.append(sub)\n",
    "    \n",
    "# df = pd.DataFrame(lst)"
   ]
  },
  {
   "cell_type": "code",
   "execution_count": 11,
   "metadata": {
    "collapsed": false
   },
   "outputs": [],
   "source": [
    "# df.columns = [\"file\",\"f_nodes\",\"m_nodes\"]\n",
    "# df"
   ]
  },
  {
   "cell_type": "code",
   "execution_count": 3,
   "metadata": {
    "collapsed": true
   },
   "outputs": [],
   "source": [
    "def save_network_size(files, path_save):\n",
    "    \"\"\" Returns a dataframe with two columns, one with the number of female nodes\n",
    "        and one with the number of male nodes. \n",
    "        Input parameters: \n",
    "        1. files - pickled network files\n",
    "        2. path_save - directory where the dataframe with node counts should be saved\n",
    "    \"\"\"\n",
    "    lst = []\n",
    "    for file in files:\n",
    "        G = nx.read_gpickle(\"data/graphs\"+\"/\"+file)\n",
    "#         print(\"read\")\n",
    "        mG = stats.filter_graph(G,\"gender\",\"male\")\n",
    "        fG = stats.filter_graph(G,\"gender\",\"female\")\n",
    "        sub =[file,stats.network_size(fG), stats.network_size(mG)]\n",
    "        lst.append(sub)\n",
    "\n",
    "    df = pd.DataFrame(lst)\n",
    "    df.columns = [\"file\",\"f_nodes\",\"m_nodes\"]\n",
    "    df.to_json(path_save)\n",
    "    print(\"Saved to: \", path_save)\n",
    "    return df"
   ]
  },
  {
   "cell_type": "code",
   "execution_count": 4,
   "metadata": {
    "collapsed": true
   },
   "outputs": [],
   "source": [
    "def save_network_size_per(attribute, value, files, path_save):\n",
    "    \"\"\" Returns a dataframe with two columns, one with the number of female nodes\n",
    "        and one with the number of male nodes. However, the networks are filtered by\n",
    "        a specified attribute.\n",
    "        Input parameters:\n",
    "        1. attribute - name of the attribute\n",
    "        2. value - value of attribute to which the graph is filtered  \n",
    "        3. files - pickled network files\n",
    "        4. path_save - directory where the dataframe with node counts should be saved\n",
    "        \n",
    "    \"\"\"\n",
    "    lst = []\n",
    "    for file in files:\n",
    "        G = nx.read_gpickle(\"data/graphs\"+\"/\"+file)\n",
    "        mG = stats.filter_graph(G,\"gender\",\"male\")\n",
    "        mG = stats.filter_graph(mG,attribute, value)\n",
    "        fG = stats.filter_graph(G,\"gender\",\"female\")\n",
    "        fG = stats.filter_graph(fG,attribute, value)\n",
    "        sub =[file,stats.network_size(fG), stats.network_size(mG)]\n",
    "        lst.append(sub)\n",
    "\n",
    "    df = pd.DataFrame(lst)\n",
    "    df.columns = [\"file\",\"f_nodes\",\"m_nodes\"]\n",
    "    df.to_json(path_save)\n",
    "    print(\"Saved to: \", path_save)\n",
    "    return df"
   ]
  },
  {
   "cell_type": "code",
   "execution_count": 5,
   "metadata": {
    "collapsed": false
   },
   "outputs": [],
   "source": [
    "def plot_genders(df, name ,scale):\n",
    "    \"\"\" Plots number of male and female nodes through time. \n",
    "        Saves a figure in \"plots/network_size{sufix} directory with a specified name\"\n",
    "        Input parameters:\n",
    "        1. df - dataframe with numbers of male/female nodes\n",
    "        2. name - sufix which is added to the path\n",
    "        3. scale - log or linear for y axis\n",
    "    \"\"\"\n",
    "    m_nodes = df.m_nodes.values\n",
    "    f_nodes = df.f_nodes.values\n",
    "    fig = plt.figure(figsize=(10,8))\n",
    "    ax = fig.add_subplot(111)\n",
    "    plt.plot(np.arange(1,33),m_nodes,marker=\">\", label=\"male\")\n",
    "    plt.plot(np.arange(1,33),f_nodes, marker=\"X\",label=\"female\")\n",
    "    plt.legend(loc='upper left')\n",
    "    plt.yscale(scale)\n",
    "    plt.xlabel(\"year_month\")\n",
    "    ax.set_xticklabels(['2001_06','2001_06','2003_06','2005_12','2008_06','2010_12','2013_06','2015_12'],rotation='vertical')\n",
    "    ax.set_xticks(np.arange(1,33,1),minor=True)\n",
    "    plt.ylabel(\"number of politicians\")\n",
    "    fig.savefig(\"plots/network_size_\"+name)\n",
    "    plt.show()"
   ]
  },
  {
   "cell_type": "code",
   "execution_count": 6,
   "metadata": {
    "collapsed": true
   },
   "outputs": [],
   "source": [
    "def plot_gender_ratio(df,name):\n",
    "    fig = plt.figure(figsize=(8,6))\n",
    "    ax = fig.add_subplot(111)\n",
    "    plt.plot(np.arange(1,33),stats.male_to_female_ratio(df),marker=\"o\", label=\"ratio\",color=\"black\")\n",
    "    plt.legend(loc='upper right')\n",
    "    plt.ylim([0,30])\n",
    "    plt.yscale('linear')\n",
    "    plt.xlabel(\"year_month\")\n",
    "    ax.set_xticklabels(['2001_06','2003_06','2005_12','2008_06','2010_12','2013_06','2015_12'],rotation='vertical')\n",
    "    ax.set_xticks(np.arange(1,33,1),minor=True)\n",
    "    plt.ylabel(\"male to female ratio\")\n",
    "    fig.savefig(\"plots/ratio_\"+name)\n",
    "    plt.show()"
   ]
  },
  {
   "cell_type": "code",
   "execution_count": 7,
   "metadata": {
    "collapsed": false
   },
   "outputs": [
    {
     "name": "stdout",
     "output_type": "stream",
     "text": [
      "Saved to:  data/stats/net_size.json\n"
     ]
    }
   ],
   "source": [
    "net_size = save_network_size(files, \"data/stats/net_size.json\")\n",
    "# net_size = pd.read_json(\"data/stats/net_size.json\")\n",
    "# pd.read_pickle(\"data/graphs/2001_06\")"
   ]
  },
  {
   "cell_type": "code",
   "execution_count": 8,
   "metadata": {
    "collapsed": false
   },
   "outputs": [
    {
     "name": "stdout",
     "output_type": "stream",
     "text": [
      "Saved to:  data/stats/net_size_ger.json\n",
      "Saved to:  data/stats/net_size_us.json\n",
      "Saved to:  data/stats/net_size_ru.json\n",
      "Saved to:  data/stats/net_size_gb.json\n",
      "Saved to:  data/stats/net_size_fr.json\n"
     ]
    }
   ],
   "source": [
    "ns_de = save_network_size_per(\"nationality\", \"german\", files, \"data/stats/net_size_ger.json\")\n",
    "ns_us = save_network_size_per(\"nationality\", \"american\", files, \"data/stats/net_size_us.json\")\n",
    "ns_ru = save_network_size_per(\"nationality\", \"russian\", files, \"data/stats/net_size_ru.json\")\n",
    "ns_gb = save_network_size_per(\"nationality\", \"british\", files, \"data/stats/net_size_gb.json\")\n",
    "ns_fr = save_network_size_per(\"nationality\", \"french\", files, \"data/stats/net_size_fr.json\")\n",
    "# ns_de = pd.read_json(\"data/stats/net_size_ger.json\").sort_values(\"file\")\n",
    "# ns_us = pd.read_json(\"data/stats/net_size_us.json\").sort_values(\"file\")\n",
    "# ns_ru = pd.read_json(\"data/stats/net_size_ru.json\").sort_values(\"file\")\n",
    "# ns_gb = pd.read_json(\"data/stats/net_size_gb.json\").sort_values(\"file\")\n",
    "# ns_fr = pd.read_json(\"data/stats/net_size_fr.json\").sort_values(\"file\")"
   ]
  },
  {
   "cell_type": "code",
   "execution_count": 17,
   "metadata": {
    "collapsed": false
   },
   "outputs": [],
   "source": [
    "# nets = [net_size, net_size_de, net_size_fr, net_size_gb, net_size_ru, net_size_us]\n",
    "# names = [\"all\",\"de\",\"fr\",\"gb\",\"ru\",\"us\"]"
   ]
  },
  {
   "cell_type": "code",
   "execution_count": 18,
   "metadata": {
    "collapsed": false
   },
   "outputs": [],
   "source": [
    "# i = 0\n",
    "# for net in nets:\n",
    "#     print(names[i])\n",
    "#     plot_genders(net,names[i]+\"_log\",\"log\")\n",
    "#     i = i +1"
   ]
  },
  {
   "cell_type": "code",
   "execution_count": 19,
   "metadata": {
    "collapsed": false
   },
   "outputs": [],
   "source": [
    "# i = 0\n",
    "# for net in nets:\n",
    "#     print(names[i])\n",
    "#     plot_genders(net,names[i],\"linear\")\n",
    "#     i = i +1"
   ]
  },
  {
   "cell_type": "code",
   "execution_count": 20,
   "metadata": {
    "collapsed": false
   },
   "outputs": [],
   "source": [
    "# plot_gender_ratio(net_size,\"all\")"
   ]
  },
  {
   "cell_type": "code",
   "execution_count": 21,
   "metadata": {
    "collapsed": false
   },
   "outputs": [],
   "source": [
    "# plot_gender_ratio(net_size_de,\"de\")\n",
    "# plot_gender_ratio(net_size_us,\"us\")\n",
    "# plot_gender_ratio(net_size_gb,\"gb\")\n",
    "# plot_gender_ratio(net_size_fr,\"fr\")\n",
    "# plot_gender_ratio(net_size_ru,\"ru\")"
   ]
  },
  {
   "cell_type": "code",
   "execution_count": 9,
   "metadata": {
    "collapsed": false
   },
   "outputs": [],
   "source": [
    "def plot_size_ratio(df, title, path_save,scale=\"linear\"):\n",
    "    fig,ax = plt.subplots(figsize=(16,12))\n",
    "    m_nodes = df.m_nodes.values\n",
    "    f_nodes = df.f_nodes.values\n",
    "    \n",
    "    ###### subplot\n",
    "    left, bottom, width, height = [0.18, 0.60, 0.25, 0.25]\n",
    "    ax2 = fig.add_axes([left, bottom, width, height])\n",
    "    ax2.plot(np.arange(1,33),stats.male_to_female_ratio(df),marker=\"o\", label=\"ratio\",color=\"black\")\n",
    "#     ax2.set_legend(loc='upper right')\n",
    "    ax2.set_ylim([0,30])\n",
    "    ax2.set_yscale('linear')\n",
    "    ax2.set_xlabel(\"year and month\", fontsize=13)\n",
    "    ax2.set_xticklabels(['2001_06','2003_06','2005_12','2008_06','2010_12','2013_06','2015_12'],rotation='vertical')\n",
    "#     ax2.set_xticks(np.arange(1,33,1),minor=True)\n",
    "    ax2.set_ylabel(\"male to female ratio\", fontsize=13)\n",
    "    \n",
    "    ###### main plot\n",
    "    ax.plot(np.arange(1,33),m_nodes,marker=\">\", label=\"male\")\n",
    "    ax.plot(np.arange(1,33),f_nodes, marker=\"X\",label=\"female\")\n",
    "    ax.legend(loc='lower right')\n",
    "    ax.set_yscale(scale)\n",
    "    ax.set_xlabel(\"year_month\", fontsize=20)\n",
    "    ax.set_xticklabels(['2001_06','2001_06','2003_06','2005_12','2008_06','2010_12','2013_06','2015_12'],rotation='vertical')\n",
    "    ax.set_xticks(np.arange(1,33,1),minor=True)\n",
    "    ax.set_ylabel(\"number of politicians\", fontsize=20)\n",
    "    ax.set_title(title, fontsize=33)\n",
    "    path = path_save+\"/\"+title+\".png\"\n",
    "    plt.savefig(path)\n",
    "#     plt.show()"
   ]
  },
  {
   "cell_type": "code",
   "execution_count": 11,
   "metadata": {
    "collapsed": false
   },
   "outputs": [],
   "source": [
    "# nets = [net_size, net_size_de, net_size_fr, net_size_gb, net_size_ru, net_size_us]\n",
    "# names = [\"all\",\"de\",\"fr\",\"gb\",\"ru\",\"us\"]\n",
    "# ratio_all = stats.male_to_female_ratio(net_size)\n",
    "# ratio_de = stats.male_to_female_ratio(net_size_de)\n",
    "# ratio_fr = stats.male_to_female_ratio(net_size_fr)\n",
    "# ratio_gb = stats.male_to_female_ratio(net_size_gb)\n",
    "# ratio_ru = stats.male_to_female_ratio(net_size_ru)\n",
    "# ratio_us = stats.male_to_female_ratio(net_size_us)\n",
    "\n",
    "# ratio_df = pd.DataFrame({\n",
    "#     'all': ratio_all,\n",
    "#     'de': ratio_de,\n",
    "#     'fr': ratio_fr,\n",
    "#     'gb': ratio_gb,\n",
    "#     'ru': ratio_ru,\n",
    "#     'us': ratio_us\n",
    "# })\n",
    "\n",
    "# ratio_df.to_json(\"data/stats/ratio.json\")"
   ]
  },
  {
   "cell_type": "code",
   "execution_count": 12,
   "metadata": {
    "collapsed": false
   },
   "outputs": [],
   "source": [
    "path = \"plots/network_size/\"\n",
    "plot_size_ratio(net_size, \"Global\",path)\n",
    "plot_size_ratio(ns_ru, \"Russia\",path)\n",
    "plot_size_ratio(ns_us, \"USA\",path)\n",
    "plot_size_ratio(ns_de, \"Germany\",path)\n",
    "plot_size_ratio(ns_fr, \"France\",path)\n",
    "plot_size_ratio(ns_gb, \"Great Britain\",path)"
   ]
  },
  {
   "cell_type": "code",
   "execution_count": 61,
   "metadata": {
    "collapsed": true
   },
   "outputs": [],
   "source": [
    "def plot_multi_ratio(df_dict, title, path_save,scale=\"linear\"):\n",
    "    df = df_dict\n",
    "    fig,ax = plt.subplots(figsize=(16,12))\n",
    "    m_nodes = df['all'].m_nodes.values\n",
    "    f_nodes = df['all'].f_nodes.values\n",
    "    \n",
    "    ###### subplot\n",
    "    left, bottom, width, height = [0.18, 0.50, 0.25, 0.25]\n",
    "    ax2 = fig.add_axes([left, bottom, width, height])\n",
    "    ### unpack df_dict\n",
    "    ax2.plot(np.arange(1,33),stats.male_to_female_ratio(df['all']),marker=\"o\", label=\"Global\",color=\"black\")\n",
    "    ax2.plot(np.arange(1,33),stats.male_to_female_ratio(df['us']),marker=\"*\", label=\"US\",color=\"red\")\n",
    "    ax2.plot(np.arange(1,33),stats.male_to_female_ratio(df['fr']),marker=\"*\", label=\"FRA\",color=\"blue\")\n",
    "    ax2.plot(np.arange(1,33),stats.male_to_female_ratio(df['de']),marker=\"*\", label=\"DE\",color=\"orange\")\n",
    "    ax2.plot(np.arange(1,33),stats.male_to_female_ratio(df['ru']),marker=\"*\", label=\"RUS\",color=\"green\")\n",
    "    ax2.plot(np.arange(1,33),stats.male_to_female_ratio(df['gb']),marker=\"*\", label=\"GB\",color=\"gray\")\n",
    "#     ax2.set_legend(loc='upper right')\n",
    "    ax2.set_ylim([0,0.2])\n",
    "    ax2.set_yscale('linear')\n",
    "    ax2.set_xlabel(\"year and month\", fontsize=13)\n",
    "    ax2.set_xticklabels(['2001_06','2003_06','2005_12','2008_06','2010_12','2013_06','2015_12'],rotation='vertical')\n",
    "#     ax2.set_xticks(np.arange(1,33,1),minor=True)\n",
    "    ax2.set_ylabel(\"female to male ratio\", fontsize=13)\n",
    "    ax2.set_xticks(np.arange(1,33,1),minor=True)\n",
    "    ax2.legend(loc='lower right')\n",
    "    \n",
    "    ###### main plot\n",
    "    ax.plot(np.arange(1,33),m_nodes,marker=\">\", label=\"male\")\n",
    "    ax.plot(np.arange(1,33),f_nodes, marker=\"X\",label=\"female\")\n",
    "    ax.legend(loc='lower right')\n",
    "    ax.set_yscale(scale)\n",
    "    ax.set_xlabel(\"year_month\", fontsize=20)\n",
    "    ax.set_xticklabels(['2001_06','2001_06','2003_06','2005_12','2008_06','2010_12','2013_06','2015_12'],rotation='vertical')\n",
    "    ax.set_xticks(np.arange(1,33,1),minor=True)\n",
    "    ax.set_ylabel(\"number of politicians\", fontsize=20)\n",
    "    ax.set_title(title, fontsize=33)\n",
    "    path = path_save+\"/\"+title+\".png\"\n",
    "    plt.savefig(path)\n",
    "#     plt.show()"
   ]
  },
  {
   "cell_type": "code",
   "execution_count": 62,
   "metadata": {
    "collapsed": false
   },
   "outputs": [],
   "source": [
    "path = \"plots/network_size/\"\n",
    "df_dict = {\n",
    "    'all': net_size,\n",
    "    'us': ns_us,\n",
    "    'de': ns_de,\n",
    "    'gb': ns_gb,\n",
    "    'ru': ns_ru,\n",
    "    'fr': ns_fr\n",
    "}"
   ]
  },
  {
   "cell_type": "code",
   "execution_count": 63,
   "metadata": {
    "collapsed": false
   },
   "outputs": [
    {
     "name": "stderr",
     "output_type": "stream",
     "text": [
      "C:\\Users\\vujovisn\\AppData\\Local\\Continuum\\Anaconda3\\lib\\site-packages\\matplotlib\\pyplot.py:524: RuntimeWarning: More than 20 figures have been opened. Figures created through the pyplot interface (`matplotlib.pyplot.figure`) are retained until explicitly closed and may consume too much memory. (To control this warning, see the rcParam `figure.max_open_warning`).\n",
      "  max_open_warning, RuntimeWarning)\n"
     ]
    }
   ],
   "source": [
    "plot_multi_ratio(df_dict, \"Global Network Size with Ratio (Global, US, DE, RU, FR, GB)\", path)"
   ]
  },
  {
   "cell_type": "code",
   "execution_count": null,
   "metadata": {
    "collapsed": true
   },
   "outputs": [],
   "source": []
  }
 ],
 "metadata": {
  "kernelspec": {
   "display_name": "Python 3",
   "language": "python",
   "name": "python3"
  },
  "language_info": {
   "codemirror_mode": {
    "name": "ipython",
    "version": 3
   },
   "file_extension": ".py",
   "mimetype": "text/x-python",
   "name": "python",
   "nbconvert_exporter": "python",
   "pygments_lexer": "ipython3",
   "version": "3.6.0"
  }
 },
 "nbformat": 4,
 "nbformat_minor": 2
}
