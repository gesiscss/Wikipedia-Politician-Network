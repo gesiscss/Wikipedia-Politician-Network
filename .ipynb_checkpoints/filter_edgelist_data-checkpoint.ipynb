{
 "cells": [
  {
   "cell_type": "code",
   "execution_count": 45,
   "metadata": {
    "collapsed": true
   },
   "outputs": [],
   "source": [
    "import pandas as pd \n",
    "import networkx\n",
    "import pickle\n",
    "from os import listdir\n",
    "from os.path import isfile, join\n",
    "from shutil import copyfile"
   ]
  },
  {
   "cell_type": "code",
   "execution_count": 5,
   "metadata": {
    "collapsed": true
   },
   "outputs": [],
   "source": [
    "def get_files(path):\n",
    "    \"\"\" Returns a list of files in a directory\n",
    "        Input parameter: path to directory\n",
    "    \"\"\"\n",
    "    mypath = \"data/edge-list/\"\n",
    "    complete = [f for f in listdir(mypath) if isfile(join(mypath, f))]\n",
    "    return complete"
   ]
  },
  {
   "cell_type": "code",
   "execution_count": 36,
   "metadata": {
    "collapsed": false
   },
   "outputs": [],
   "source": [
    "files = get_files(\"data/edge-list/\")"
   ]
  },
  {
   "cell_type": "code",
   "execution_count": 37,
   "metadata": {
    "collapsed": false
   },
   "outputs": [],
   "source": [
    "def filter_files(interval):\n",
    "    \"\"\" Returns filtered list of files \n",
    "        Input parameter: interval (\"4m\", \"6m\", \"12m\")\n",
    "    \"\"\"\n",
    "    if interval == \"4m\":\n",
    "        return [file for file in files if file.endswith(\"_01.csv\") or file.endswith(\"_04.csv\") or \n",
    "                file.endswith(\"_08.csv\") or file.endswith(\"_12.csv\")]\n",
    "    if interval == \"6m\":\n",
    "        return [file for file in files if file.endswith(\"_06.csv\") or file.endswith(\"_12.csv\")]\n",
    "    if interval == \"12m\":\n",
    "        return [file for file in files if file.endswith(\"_01.csv\")]"
   ]
  },
  {
   "cell_type": "code",
   "execution_count": 43,
   "metadata": {
    "collapsed": false
   },
   "outputs": [],
   "source": [
    "# filter_files('12m')"
   ]
  },
  {
   "cell_type": "code",
   "execution_count": 41,
   "metadata": {
    "collapsed": true
   },
   "outputs": [],
   "source": [
    "def number_of_files(file_lst):\n",
    "    return len(file_lst)"
   ]
  },
  {
   "cell_type": "code",
   "execution_count": 44,
   "metadata": {
    "collapsed": false
   },
   "outputs": [],
   "source": [
    "# number_of_files(filter_files('12m'))"
   ]
  },
  {
   "cell_type": "code",
   "execution_count": 49,
   "metadata": {
    "collapsed": false
   },
   "outputs": [],
   "source": [
    "def copy_files(files, path_copy, path_paste):\n",
    "    for file in files:\n",
    "        copyfile(path_copy+\"/\"+file, path_paste+\"/\"+file)\n",
    "    print(\"Files successfully copied\")"
   ]
  },
  {
   "cell_type": "code",
   "execution_count": 51,
   "metadata": {
    "collapsed": false
   },
   "outputs": [],
   "source": [
    "f = files[:2]"
   ]
  },
  {
   "cell_type": "code",
   "execution_count": 52,
   "metadata": {
    "collapsed": true
   },
   "outputs": [],
   "source": [
    "copy_files(f, \"data/edge-list/\", \"data/filtered_edge_list/\")"
   ]
  },
  {
   "cell_type": "code",
   "execution_count": null,
   "metadata": {
    "collapsed": true
   },
   "outputs": [],
   "source": []
  }
 ],
 "metadata": {
  "kernelspec": {
   "display_name": "Python 3",
   "language": "python",
   "name": "python3"
  },
  "language_info": {
   "codemirror_mode": {
    "name": "ipython",
    "version": 3
   },
   "file_extension": ".py",
   "mimetype": "text/x-python",
   "name": "python",
   "nbconvert_exporter": "python",
   "pygments_lexer": "ipython3",
   "version": "3.6.0"
  }
 },
 "nbformat": 4,
 "nbformat_minor": 2
}
