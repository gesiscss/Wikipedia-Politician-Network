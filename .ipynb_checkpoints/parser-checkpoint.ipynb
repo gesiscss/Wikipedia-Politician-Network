{
 "cells": [
  {
   "cell_type": "code",
   "execution_count": 1,
   "metadata": {
    "collapsed": false
   },
   "outputs": [],
   "source": [
    "import os\n",
    "from os import listdir\n",
    "from os import listdir\n",
    "from os.path import isfile, join\n",
    "from mwviews.utilities import aggregate\n",
    "from mwviews import page_view_count\n",
    "import gzip\n",
    "import pandas as pd\n",
    "from urllib.parse import quote, unquote"
   ]
  },
  {
   "cell_type": "markdown",
   "metadata": {},
   "source": [
    "# Paths"
   ]
  },
  {
   "cell_type": "code",
   "execution_count": 2,
   "metadata": {
    "collapsed": true
   },
   "outputs": [],
   "source": [
    "files_path = \"/bigdata/vujovic/Wikipedia-Politician-Network/pageviews/files/2009/\""
   ]
  },
  {
   "cell_type": "markdown",
   "metadata": {},
   "source": [
    "# Getting file paths"
   ]
  },
  {
   "cell_type": "code",
   "execution_count": 3,
   "metadata": {
    "collapsed": false
   },
   "outputs": [],
   "source": [
    "def get_files(path):\n",
    "    \"\"\" Returns a list of files in a directory\n",
    "        Input parameter: path to directory\n",
    "    \"\"\"\n",
    "    mypath = path\n",
    "    complete = [f for f in listdir(mypath) if isfile(join(mypath, f))]\n",
    "    return complete"
   ]
  },
  {
   "cell_type": "code",
   "execution_count": 4,
   "metadata": {
    "collapsed": false
   },
   "outputs": [],
   "source": [
    "lst = get_files(files_path)"
   ]
  },
  {
   "cell_type": "code",
   "execution_count": 5,
   "metadata": {
    "collapsed": false
   },
   "outputs": [],
   "source": [
    "file_paths = [files_path+f for f in lst]"
   ]
  },
  {
   "cell_type": "markdown",
   "metadata": {},
   "source": [
    "# Loading files"
   ]
  },
  {
   "cell_type": "code",
   "execution_count": 6,
   "metadata": {
    "collapsed": true
   },
   "outputs": [],
   "source": [
    "hour_files = [aggregate.open_hour_file(f) for f in file_paths[:10]]"
   ]
  },
  {
   "cell_type": "code",
   "execution_count": 7,
   "metadata": {
    "collapsed": false
   },
   "outputs": [
    {
     "data": {
      "text/plain": [
       "[<_io.TextIOWrapper name='/bigdata/vujovic/Wikipedia-Politician-Network/pageviews/files/2009/pagecounts-20090217-070000.gz' encoding='utf-8'>,\n",
       " <_io.TextIOWrapper name='/bigdata/vujovic/Wikipedia-Politician-Network/pageviews/files/2009/pagecounts-20090130-190000.gz' encoding='utf-8'>,\n",
       " <_io.TextIOWrapper name='/bigdata/vujovic/Wikipedia-Politician-Network/pageviews/files/2009/pagecounts-20090531-020000.gz' encoding='utf-8'>,\n",
       " <_io.TextIOWrapper name='/bigdata/vujovic/Wikipedia-Politician-Network/pageviews/files/2009/pagecounts-20091011-160000.gz' encoding='utf-8'>,\n",
       " <_io.TextIOWrapper name='/bigdata/vujovic/Wikipedia-Politician-Network/pageviews/files/2009/pagecounts-20090513-090000.gz' encoding='utf-8'>,\n",
       " <_io.TextIOWrapper name='/bigdata/vujovic/Wikipedia-Politician-Network/pageviews/files/2009/pagecounts-20090918-030000.gz' encoding='utf-8'>,\n",
       " <_io.TextIOWrapper name='/bigdata/vujovic/Wikipedia-Politician-Network/pageviews/files/2009/pagecounts-20090805-160000.gz' encoding='utf-8'>,\n",
       " <_io.TextIOWrapper name='/bigdata/vujovic/Wikipedia-Politician-Network/pageviews/files/2009/pagecounts-20090212-200000.gz' encoding='utf-8'>,\n",
       " <_io.TextIOWrapper name='/bigdata/vujovic/Wikipedia-Politician-Network/pageviews/files/2009/pagecounts-20091226-130000.gz' encoding='utf-8'>,\n",
       " <_io.TextIOWrapper name='/bigdata/vujovic/Wikipedia-Politician-Network/pageviews/files/2009/pagecounts-20091202-200000.gz' encoding='utf-8'>]"
      ]
     },
     "execution_count": 7,
     "metadata": {},
     "output_type": "execute_result"
    }
   ],
   "source": [
    "hour_files"
   ]
  },
  {
   "cell_type": "markdown",
   "metadata": {},
   "source": [
    "# Preparing output file"
   ]
  },
  {
   "cell_type": "code",
   "execution_count": 8,
   "metadata": {
    "collapsed": true
   },
   "outputs": [],
   "source": [
    "# output_file = open(\"proba\", \"w\")"
   ]
  },
  {
   "cell_type": "markdown",
   "metadata": {},
   "source": [
    "# Aggregating"
   ]
  },
  {
   "cell_type": "code",
   "execution_count": 9,
   "metadata": {
    "collapsed": false
   },
   "outputs": [],
   "source": [
    "# aggregate.run(hour_files,set([\"en\"]),output_file,False)"
   ]
  },
  {
   "cell_type": "markdown",
   "metadata": {},
   "source": [
    "# Filtering with Gzip"
   ]
  },
  {
   "cell_type": "code",
   "execution_count": 10,
   "metadata": {
    "collapsed": false
   },
   "outputs": [],
   "source": [
    "def filter_gzip(path_old, path_new):\n",
    "    fo = gzip.open('output.gz', 'w')\n",
    "    f = gzip.open(file_paths[6], 'rb')\n",
    "    for line in f.readlines():\n",
    "        #     if line.split(\" \")[0] == \"en\".encode():\n",
    "        if line.decode().split(\" \")[0] == \"en\":\n",
    "            fo.write(line)\n",
    "    f.close()\n",
    "    fo.close()\n",
    "    print(\"{} > {}, DONE! \".format(path_old, path_new))"
   ]
  },
  {
   "cell_type": "code",
   "execution_count": 11,
   "metadata": {
    "collapsed": true
   },
   "outputs": [],
   "source": [
    "# %timeit filter_gzip(file_paths[4], \"output.gz\") # this filters down just to EN wikipedia"
   ]
  },
  {
   "cell_type": "code",
   "execution_count": 12,
   "metadata": {
    "collapsed": false
   },
   "outputs": [],
   "source": [
    "# %timeit filter_gzip(file_paths[4], \"output.gz\")"
   ]
  },
  {
   "cell_type": "code",
   "execution_count": 13,
   "metadata": {
    "collapsed": false
   },
   "outputs": [],
   "source": [
    "# file_paths"
   ]
  },
  {
   "cell_type": "markdown",
   "metadata": {},
   "source": [
    "# Filtering with Pandas"
   ]
  },
  {
   "cell_type": "code",
   "execution_count": 14,
   "metadata": {
    "collapsed": true
   },
   "outputs": [],
   "source": [
    "# df = pd.read_csv(\"output.gz\", sep = \" \")"
   ]
  },
  {
   "cell_type": "code",
   "execution_count": 15,
   "metadata": {
    "collapsed": true
   },
   "outputs": [],
   "source": [
    "# df.columns = [\"project\", \"name\", \"views\", \"size\"]\n",
    "# df.head()"
   ]
  },
  {
   "cell_type": "code",
   "execution_count": 16,
   "metadata": {
    "collapsed": false
   },
   "outputs": [
    {
     "data": {
      "text/html": [
       "<div>\n",
       "<style scoped>\n",
       "    .dataframe tbody tr th:only-of-type {\n",
       "        vertical-align: middle;\n",
       "    }\n",
       "\n",
       "    .dataframe tbody tr th {\n",
       "        vertical-align: top;\n",
       "    }\n",
       "\n",
       "    .dataframe thead th {\n",
       "        text-align: right;\n",
       "    }\n",
       "</style>\n",
       "<table border=\"1\" class=\"dataframe\">\n",
       "  <thead>\n",
       "    <tr style=\"text-align: right;\">\n",
       "      <th></th>\n",
       "      <th>Nizamettin_Erkmen</th>\n",
       "    </tr>\n",
       "  </thead>\n",
       "  <tbody>\n",
       "    <tr>\n",
       "      <th>0</th>\n",
       "      <td>Claudio_Scajola</td>\n",
       "    </tr>\n",
       "    <tr>\n",
       "      <th>1</th>\n",
       "      <td>Yang_Ti-liang</td>\n",
       "    </tr>\n",
       "    <tr>\n",
       "      <th>2</th>\n",
       "      <td>Mohammad_Natsir</td>\n",
       "    </tr>\n",
       "    <tr>\n",
       "      <th>3</th>\n",
       "      <td>Carolyn_Maloney</td>\n",
       "    </tr>\n",
       "    <tr>\n",
       "      <th>4</th>\n",
       "      <td>Todd_Rokita</td>\n",
       "    </tr>\n",
       "  </tbody>\n",
       "</table>\n",
       "</div>"
      ],
      "text/plain": [
       "  Nizamettin_Erkmen\n",
       "0   Claudio_Scajola\n",
       "1     Yang_Ti-liang\n",
       "2   Mohammad_Natsir\n",
       "3   Carolyn_Maloney\n",
       "4       Todd_Rokita"
      ]
     },
     "execution_count": 16,
     "metadata": {},
     "output_type": "execute_result"
    }
   ],
   "source": [
    "df = pd.read_csv(\"../data/cohort/wiki_page_cohorts/2009.csv\")\n",
    "df.head()"
   ]
  },
  {
   "cell_type": "code",
   "execution_count": 17,
   "metadata": {
    "collapsed": true
   },
   "outputs": [],
   "source": [
    "def qoute_lst(lst):\n",
    "    \"\"\" Changes normal characters in names to %c4%87 because, for example:\n",
    "        'Slavica_Đukić_Dejanović' > 'Slavica_%C4%90uki%C4%87_Dejanovi%C4%87'\n",
    "    \"\"\"\n",
    "    return [quote(name) for name in lst]"
   ]
  },
  {
   "cell_type": "markdown",
   "metadata": {},
   "source": [
    "# This needs to be modified"
   ]
  },
  {
   "cell_type": "code",
   "execution_count": 37,
   "metadata": {
    "collapsed": false
   },
   "outputs": [],
   "source": [
    "s_politicians = df[df.columns[0]]\n",
    "l_politicians = s_politicians.values\n",
    "# l_politicians\n",
    "l_politicians = qoute_lst(l_politicians)\n",
    "l_politicians[:100]\n",
    "s_politicians = pd.Series(l_politicians)\n",
    "# s_politicians"
   ]
  },
  {
   "cell_type": "code",
   "execution_count": 19,
   "metadata": {
    "collapsed": false
   },
   "outputs": [],
   "source": [
    "# def filter_gzip_pd(path_old, path_new, names, method=\"series\"):\n",
    "#     df = pd.read_csv(path_old, sep=\" \")\n",
    "#     df.columns = [\"project\", \"name\", \"views\", \"size\"]\n",
    "#     if method == \"series\":\n",
    "#         df = df.join(names)\n",
    "#     elif method == \"list\":\n",
    "#         df = df[df[\"name\"].isin(names)]\n",
    "# #     df = df[df[\"project\"] == \"en\"]\n",
    "#     df.to_csv(path_new, sep=\" \",compression=\"gzip\", index=False, header=False)\n",
    "#     print(\"{} > {}, DONE! \".format(path_old, path_new))"
   ]
  },
  {
   "cell_type": "code",
   "execution_count": 20,
   "metadata": {
    "collapsed": false
   },
   "outputs": [],
   "source": [
    "# %timeit filter_gzip_pd(file_paths[4], \"output.gz\",s_politicians)"
   ]
  },
  {
   "cell_type": "code",
   "execution_count": 44,
   "metadata": {
    "collapsed": true
   },
   "outputs": [],
   "source": [
    "def filter_gzip_pd(path_old, path_new, names, method=\"join\"):\n",
    "    names.name=\"names\"\n",
    "    print(names)\n",
    "    df = pd.read_csv(path_old, sep=\" \")\n",
    "    df.columns = [\"project\", \"name\", \"views\", \"size\"]\n",
    "    df = df.drop([\"size\"], axis=1)\n",
    "    if method == \"join\":\n",
    "        df = df.set_index(\"name\",drop=True)\n",
    "        df = df.join(names, how='inner')\n",
    "    elif method == \"isin\":\n",
    "        df = df[df[\"name\"].isin(names)]\n",
    "    df = df[df[\"project\"] == \"en\"]\n",
    "    df = df.drop([\"project\"], axis=1)\n",
    "    print(df.head())\n",
    "    print(df.shape)\n",
    "    df.to_csv(path_new, sep=\" \",compression=\"gzip\", header=False)\n",
    "    print(\"{} > {}, DONE! \".format(path_old, path_new))"
   ]
  },
  {
   "cell_type": "code",
   "execution_count": 45,
   "metadata": {
    "collapsed": false
   },
   "outputs": [
    {
     "name": "stdout",
     "output_type": "stream",
     "text": [
      "0                                  Claudio_Scajola\n",
      "1                                    Yang_Ti-liang\n",
      "2                                  Mohammad_Natsir\n",
      "3                                  Carolyn_Maloney\n",
      "4                                      Todd_Rokita\n",
      "5                                Massimo_Giorgetti\n",
      "6                                    Brice_Lalonde\n",
      "7           Slavica_%C4%90uki%C4%87_Dejanovi%C4%87\n",
      "8                                     Bruce_Jesson\n",
      "9                                   Thomas_Ravenel\n",
      "10                                  Akhilesh_Yadav\n",
      "11                                    Luc_Recordon\n",
      "12                                 Gustaw_Przeczek\n",
      "13                                  Jacques_Lavoie\n",
      "14                                  Nessa_Childers\n",
      "15                                    Tunji_Olurin\n",
      "16                             Jalagam_Vengala_Rao\n",
      "17                              Mohammad_Reza_Aref\n",
      "18                     Ali_Ahsan_Mohammad_Mojaheed\n",
      "19                           Rigoberta_Mench%C3%BA\n",
      "20                                   Lucie_Leblanc\n",
      "21                             David_Milwyn_Duggan\n",
      "22                                     Mark_Souder\n",
      "23                                     Paul_Janson\n",
      "24            Iain_Smith_%28Scottish_politician%29\n",
      "25                                        Al_Smith\n",
      "26                                     Sachin_Ahir\n",
      "27                                       Tom_Tauke\n",
      "28                             Wojciech_Olejniczak\n",
      "29                            Samuel_Miller_Quincy\n",
      "                           ...                    \n",
      "26174                        Jean_Ybarn%C3%A9garay\n",
      "26175                   Jos%C3%A9_Gervasio_Artigas\n",
      "26176                         Washington_Lu%C3%ADs\n",
      "26177               Jun_Matsumoto_%28politician%29\n",
      "26178                        Jan_Christiaan_Heunis\n",
      "26179                            Jos%C3%A9_Pampuro\n",
      "26180                     Fernando_G%C3%B3mez_Mont\n",
      "26181                Jacob_van_Zuylen_van_Nijevelt\n",
      "26182                   Alejandro_Zapata_Perogordo\n",
      "26183                        Istv%C3%A1n_Stadinger\n",
      "26184             Sir_Anthony_Meyer%2C_3rd_Baronet\n",
      "26185                     Aarno_Yrj%C3%B6-Koskinen\n",
      "26186                      Ram%C3%B3n_Briones_Luco\n",
      "26187                         Nikola_Koljevi%C4%87\n",
      "26188                                Donald_Trahan\n",
      "26189                        Nicol%C3%A1s_Esguerra\n",
      "26190                      Chaudhry_Ali_Akbar_Khan\n",
      "26191                              Leung_Chun-ying\n",
      "26192     Pawe%C5%82_Wojciechowski_%28economist%29\n",
      "26193    Zoran_%C5%BDivkovi%C4%87_%28politician%29\n",
      "26194        Prince_Adolf_zu_Hohenlohe-Ingelfingen\n",
      "26195                Cearbhall_%C3%93_D%C3%A1laigh\n",
      "26196                                       Xu_Wen\n",
      "26197                            B._Y._Raghavendra\n",
      "26198                                Terry_Bankert\n",
      "26199                           Se%C3%A1n_Mac_Eoin\n",
      "26200              Sir_James_Duncan%2C_1st_Baronet\n",
      "26201                                Albert_Rollit\n",
      "26202            Sir_Raymond_Greene%2C_2nd_Baronet\n",
      "26203                                    Li_Shidao\n",
      "Name: names, Length: 26204, dtype: object\n",
      "Empty DataFrame\n",
      "Columns: [views, names]\n",
      "Index: []\n",
      "(0, 2)\n",
      "/bigdata/vujovic/Wikipedia-Politician-Network/pageviews/files/2009/pagecounts-20090513-090000.gz > output.gz, DONE! \n"
     ]
    }
   ],
   "source": [
    "filter_gzip_pd(file_paths[4], \"output.gz\",s_politicians)"
   ]
  },
  {
   "cell_type": "code",
   "execution_count": 22,
   "metadata": {
    "collapsed": false
   },
   "outputs": [],
   "source": [
    "# %timeit filter_gzip_pd(file_paths[4], \"output.gz\",s_politicians)"
   ]
  },
  {
   "cell_type": "code",
   "execution_count": 23,
   "metadata": {
    "collapsed": true
   },
   "outputs": [],
   "source": [
    "def filter_gzip_pd(path_old, path_new, names, method=\"series\"):\n",
    "    df = pd.read_csv(path_old, sep=\" \")\n",
    "    df.columns = [\"project\", \"name\", \"views\", \"size\"]\n",
    "    df = df[df[\"project\"] == \"en\"]\n",
    "    if method == \"series\":\n",
    "        df = df.join(names)\n",
    "    elif method == \"list\":\n",
    "        df = df[df[\"name\"].isin(names)]\n",
    "#     df = df[df[\"project\"] == \"en\"]\n",
    "    df.to_csv(path_new, sep=\" \",compression=\"gzip\", index=False, header=False)\n",
    "    print(\"{} > {}, DONE! \".format(path_old, path_new))"
   ]
  },
  {
   "cell_type": "code",
   "execution_count": 24,
   "metadata": {
    "collapsed": false
   },
   "outputs": [],
   "source": [
    "# %timeit filter_gzip_pd(file_paths[4], \"output.gz\",s_politicians)"
   ]
  },
  {
   "cell_type": "code",
   "execution_count": 25,
   "metadata": {
    "collapsed": true
   },
   "outputs": [],
   "source": [
    "def filter_gzip_pd(path_old, path_new, names, method=\"series\"):\n",
    "    df = pd.read_csv(path_old, sep=\" \", encoding=\"utf-8\")\n",
    "    df.columns = [\"project\", \"name\", \"views\", \"size\"]\n",
    "    if method == \"series\":\n",
    "        df = df.join(names)\n",
    "    elif method == \"list\":\n",
    "        df = df[df[\"name\"].isin(names)]\n",
    "    df = df[df[\"project\"] == \"en\"]\n",
    "    df.to_csv(path_new, sep=\" \",compression=\"gzip\", index=False, header=False)\n",
    "    print(\"{} > {}, DONE! \".format(path_old, path_new))"
   ]
  },
  {
   "cell_type": "code",
   "execution_count": 26,
   "metadata": {
    "collapsed": false
   },
   "outputs": [],
   "source": [
    "# %timeit filter_gzip_pd(file_paths[4], \"output.gz\",l_politicians, method=\"list\")"
   ]
  },
  {
   "cell_type": "code",
   "execution_count": 27,
   "metadata": {
    "collapsed": false
   },
   "outputs": [],
   "source": [
    "# l_politicians[:100]"
   ]
  },
  {
   "cell_type": "code",
   "execution_count": 28,
   "metadata": {
    "collapsed": false
   },
   "outputs": [],
   "source": [
    "# s_politicians[7].encode(\"unicode\",\"replace\")"
   ]
  },
  {
   "cell_type": "code",
   "execution_count": 30,
   "metadata": {
    "collapsed": false
   },
   "outputs": [],
   "source": [
    "# df = pd.read_csv(file_paths[4], sep=\" \",encoding=\"unicood\")"
   ]
  },
  {
   "cell_type": "code",
   "execution_count": 31,
   "metadata": {
    "collapsed": false
   },
   "outputs": [],
   "source": [
    "# df.columns = [\"project\", \"name\", \"views\", \"size\"]\n",
    "# df = df[df[\"project\"]== \"en\"]"
   ]
  },
  {
   "cell_type": "code",
   "execution_count": 32,
   "metadata": {
    "collapsed": false
   },
   "outputs": [],
   "source": [
    "# strange_name = df[df[\"name\"].isin([\"Slavica_%C4%86uktera%C5%A1\"])][\"name\"].values[0]"
   ]
  },
  {
   "cell_type": "code",
   "execution_count": 33,
   "metadata": {
    "collapsed": false
   },
   "outputs": [],
   "source": [
    "# import unicode\n",
    "# \"Slavica_Đukić_Dejanović\".encode('utf-8')"
   ]
  },
  {
   "cell_type": "code",
   "execution_count": 34,
   "metadata": {
    "collapsed": false
   },
   "outputs": [],
   "source": [
    "# strange_name.encode('utf-8').decode('iso-8859-1') "
   ]
  },
  {
   "cell_type": "code",
   "execution_count": 35,
   "metadata": {
    "collapsed": true
   },
   "outputs": [],
   "source": [
    "from urllib.parse import quote, unquote"
   ]
  },
  {
   "cell_type": "code",
   "execution_count": 36,
   "metadata": {
    "collapsed": false
   },
   "outputs": [
    {
     "data": {
      "text/plain": [
       "'Slavica_%C4%90uki%C4%87_Dejanovi%C4%87'"
      ]
     },
     "execution_count": 36,
     "metadata": {},
     "output_type": "execute_result"
    }
   ],
   "source": [
    "quote(\"Slavica_Đukić_Dejanović\")"
   ]
  },
  {
   "cell_type": "code",
   "execution_count": 37,
   "metadata": {
    "collapsed": false
   },
   "outputs": [
    {
     "data": {
      "text/plain": [
       "'Slavica_Đukić_Dejanović'"
      ]
     },
     "execution_count": 37,
     "metadata": {},
     "output_type": "execute_result"
    }
   ],
   "source": [
    "unquote('Slavica_%C4%90uki%C4%87_Dejanovi%C4%87')"
   ]
  },
  {
   "cell_type": "code",
   "execution_count": 38,
   "metadata": {
    "collapsed": false
   },
   "outputs": [],
   "source": [
    "# df = pd.read_csv(file_paths[4], sep=\" \")\n",
    "# df.columns = [\"project\", \"name\", \"views\", \"size\"]\n",
    "# # df.drop([\"size\"],axis=1)\n",
    "# df = df.set_index(\"name\")\n",
    "# df.head()"
   ]
  },
  {
   "cell_type": "code",
   "execution_count": 39,
   "metadata": {
    "collapsed": false
   },
   "outputs": [],
   "source": [
    "# filter_gzip_pd(file_paths[5000], \"output1.gz\",l_politicians, method=\"list\")"
   ]
  },
  {
   "cell_type": "code",
   "execution_count": 40,
   "metadata": {
    "collapsed": false
   },
   "outputs": [],
   "source": [
    "# filter_gzip_pd(file_paths[8000], \"output2.gz\",l_politicians, method=\"list\")"
   ]
  },
  {
   "cell_type": "code",
   "execution_count": 41,
   "metadata": {
    "collapsed": false
   },
   "outputs": [],
   "source": [
    "# filter_gzip_pd(file_paths[3000], \"output3.gz\",l_politicians, method=\"list\")"
   ]
  },
  {
   "cell_type": "code",
   "execution_count": null,
   "metadata": {
    "collapsed": false
   },
   "outputs": [],
   "source": [
    "# filter_gzip_pd(file_paths[1000], \"output4.gz\",l_politicians, method=\"list\")\n",
    "# filter_gzip_pd(file_paths[100], \"output5.gz\",l_politicians, method=\"list\")\n",
    "# filter_gzip_pd(file_paths[10], \"output6.gz\",l_politicians, method=\"list\")\n",
    "# filter_gzip_pd(file_paths[1098], \"output7.gz\",l_politicians, method=\"list\")\n",
    "# filter_gzip_pd(file_paths[150], \"output8.gz\",l_politicians, method=\"list\")\n",
    "# filter_gzip_pd(file_paths[4658], \"output9.gz\",l_politicians, method=\"list\")\n",
    "# filter_gzip_pd(file_paths[7000], \"output10.gz\",l_politicians, method=\"list\")"
   ]
  },
  {
   "cell_type": "markdown",
   "metadata": {},
   "source": [
    "# Group by"
   ]
  },
  {
   "cell_type": "code",
   "execution_count": null,
   "metadata": {
    "collapsed": false
   },
   "outputs": [],
   "source": [
    "dfs = []\n",
    "for i in range(1,11):\n",
    "    df = pd.read_csv(\"output{}.gz\".format(i), sep=\" \")\n",
    "    df.columns = [\"project\", \"name\", \"views\", \"size\"]\n",
    "    dfs.append(df)\n",
    "ten_dfs = pd.concat(dfs)"
   ]
  },
  {
   "cell_type": "code",
   "execution_count": null,
   "metadata": {
    "collapsed": false
   },
   "outputs": [],
   "source": [
    "ten_dfs.head()"
   ]
  },
  {
   "cell_type": "code",
   "execution_count": null,
   "metadata": {
    "collapsed": false
   },
   "outputs": [],
   "source": [
    "df = ten_dfs.groupby(by=\"name\")[\"views\"].sum()\n",
    "df.index"
   ]
  },
  {
   "cell_type": "code",
   "execution_count": null,
   "metadata": {
    "collapsed": true
   },
   "outputs": [],
   "source": []
  }
 ],
 "metadata": {
  "kernelspec": {
   "display_name": "Python 3",
   "language": "python",
   "name": "python3"
  },
  "language_info": {
   "codemirror_mode": {
    "name": "ipython",
    "version": 3
   },
   "file_extension": ".py",
   "mimetype": "text/x-python",
   "name": "python",
   "nbconvert_exporter": "python",
   "pygments_lexer": "ipython3",
   "version": "3.5.2"
  }
 },
 "nbformat": 4,
 "nbformat_minor": 2
}
