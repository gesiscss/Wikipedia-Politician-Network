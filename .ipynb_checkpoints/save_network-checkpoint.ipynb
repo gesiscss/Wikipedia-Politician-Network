{
 "cells": [
  {
   "cell_type": "code",
   "execution_count": 1,
   "metadata": {
    "collapsed": true
   },
   "outputs": [],
   "source": [
    "import pandas as pd \n",
    "import networkx as nx\n",
    "import pickle\n",
    "from os import listdir\n",
    "from os.path import isfile, join\n",
    "import sys\n",
    "import math\n",
    "import ast"
   ]
  },
  {
   "cell_type": "code",
   "execution_count": 2,
   "metadata": {
    "collapsed": false
   },
   "outputs": [],
   "source": [
    "politician_data = pd.read_csv(\"data/politician-data.csv\",quotechar='\"',sep=\"\\t\",converters=\n",
    "                              {\"occupation\":ast.literal_eval})"
   ]
  },
  {
   "cell_type": "code",
   "execution_count": 3,
   "metadata": {
    "collapsed": true
   },
   "outputs": [],
   "source": [
    "def clean(x):\n",
    "    \"\"\" Converts string to list\n",
    "    \"\"\"\n",
    "    if type(x) == float:\n",
    "        return []\n",
    "    else: \n",
    "        return ast.literal_eval(x)"
   ]
  },
  {
   "cell_type": "code",
   "execution_count": 4,
   "metadata": {
    "collapsed": true
   },
   "outputs": [],
   "source": [
    "politician_data[\"party\"] = politician_data[\"party\"].apply(clean)"
   ]
  },
  {
   "cell_type": "code",
   "execution_count": 5,
   "metadata": {
    "collapsed": false
   },
   "outputs": [],
   "source": [
    "politician_data[\"nationality\"] = politician_data[\"nationality\"].apply(clean)"
   ]
  },
  {
   "cell_type": "code",
   "execution_count": 6,
   "metadata": {
    "collapsed": false
   },
   "outputs": [],
   "source": [
    "politician_data[\"name\"] = politician_data[\"name\"].apply(clean)"
   ]
  },
  {
   "cell_type": "code",
   "execution_count": 7,
   "metadata": {
    "collapsed": false
   },
   "outputs": [],
   "source": [
    "# politician_data"
   ]
  },
  {
   "cell_type": "code",
   "execution_count": 8,
   "metadata": {
    "collapsed": true
   },
   "outputs": [],
   "source": [
    "politician_data.to_json(\"data/politician-data.json\")"
   ]
  },
  {
   "cell_type": "code",
   "execution_count": 9,
   "metadata": {
    "collapsed": true
   },
   "outputs": [],
   "source": [
    "def get_files(path):\n",
    "    \"\"\" Returns a list of files in a directory\n",
    "        Input parameter: path to directory\n",
    "    \"\"\"\n",
    "    mypath = path\n",
    "    complete = [f for f in listdir(mypath) if isfile(join(mypath, f))]\n",
    "    return complete"
   ]
  },
  {
   "cell_type": "code",
   "execution_count": 10,
   "metadata": {
    "collapsed": false
   },
   "outputs": [],
   "source": [
    "files = get_files(\"data/filtered_edge_list\")"
   ]
  },
  {
   "cell_type": "code",
   "execution_count": 11,
   "metadata": {
    "collapsed": true
   },
   "outputs": [],
   "source": [
    "def load_df(path, file):\n",
    "    \"\"\" Loads a csv file, returns a dataframe\n",
    "        Input parameters:\n",
    "        1. path - to directory containing a file\n",
    "        2. file - name of the file\n",
    "    \"\"\"\n",
    "    return pd.read_csv(path+\"/\"+file)"
   ]
  },
  {
   "cell_type": "code",
   "execution_count": 12,
   "metadata": {
    "collapsed": true
   },
   "outputs": [],
   "source": [
    "# net = load_df(\"data/filtered_edge_list/\",files[7])"
   ]
  },
  {
   "cell_type": "code",
   "execution_count": 13,
   "metadata": {
    "collapsed": false
   },
   "outputs": [],
   "source": [
    "# net"
   ]
  },
  {
   "cell_type": "code",
   "execution_count": 14,
   "metadata": {
    "collapsed": false
   },
   "outputs": [],
   "source": [
    "# G = nx.from_pandas_dataframe(net,'from','to')"
   ]
  },
  {
   "cell_type": "code",
   "execution_count": 15,
   "metadata": {
    "collapsed": false
   },
   "outputs": [],
   "source": [
    "# len(G.nodes())\n",
    "# node_list = G.nodes()\n",
    "# data = politician_data[politician_data[\"ID\"].isin(node_list)]\n",
    "# name_data = data[[\"ID\",\"name\"]].set_index('ID')['name'].to_dict()\n",
    "# gender_data = data[[\"ID\",\"gender\"]].set_index('ID')['gender'].to_dict()\n",
    "# occupation_data = data[[\"ID\",\"occupation\"]].set_index('ID')['occupation'].to_dict()\n",
    "# nationality_data = data[[\"ID\",\"nationality\"]].set_index('ID')['nationality'].to_dict()\n",
    "# party_data = data[[\"ID\",\"party\"]].set_index('ID')['party'].to_dict()"
   ]
  },
  {
   "cell_type": "code",
   "execution_count": 16,
   "metadata": {
    "collapsed": true
   },
   "outputs": [],
   "source": [
    "def set_attributes(dataframe, attribute_dataframe, graph_type = 'dir'):\n",
    "    \"\"\" Returns a network with attributes assigned to each node\n",
    "        Input parameters:\n",
    "        1. dataframe - edge list\n",
    "        3. attribute_dataframe - contains node id, and attributes (name, parrty, nationality, occupation, gender)\n",
    "    \"\"\"\n",
    "    \n",
    "    # load dataframe as graph\n",
    "    if graph_type == 'dir':\n",
    "        G = nx.from_pandas_dataframe(dataframe,'from','to', edge_attr=False, create_using=nx.DiGraph())\n",
    "    elif graph_type == 'undir':\n",
    "        G = nx.from_pandas_dataframe(dataframe,'from','to', edge_attr=False, create_using=nx.Graph())\n",
    "    \n",
    "    \n",
    "#     G = nx.from_pandas_dataframe(dataframe,'from','to')\n",
    "    # get list of nodes\n",
    "    node_list = G.nodes()\n",
    "    # create dictionaries\n",
    "    data = attribute_dataframe[attribute_dataframe[\"ID\"].isin(node_list)]\n",
    "    name_data = data[[\"ID\",\"name\"]].set_index('ID')['name'].to_dict()\n",
    "    gender_data = data[[\"ID\",\"gender\"]].set_index('ID')['gender'].to_dict()\n",
    "    occupation_data = data[[\"ID\",\"occupation\"]].set_index('ID')['occupation'].to_dict()\n",
    "    nationality_data = data[[\"ID\",\"nationality\"]].set_index('ID')['nationality'].to_dict()\n",
    "    party_data = data[[\"ID\",\"party\"]].set_index('ID')['party'].to_dict()\n",
    "    # set attributes \n",
    "    nx.set_node_attributes(G, 'gender', gender_data)\n",
    "    nx.set_node_attributes(G, 'name', name_data)\n",
    "    nx.set_node_attributes(G, 'occupation', occupation_data)\n",
    "    nx.set_node_attributes(G, 'nationality', nationality_data)\n",
    "    nx.set_node_attributes(G, 'party', party_data)\n",
    "    \n",
    "    #print stuff\n",
    "    num_n = len(G.nodes())\n",
    "    num_e = len(G.edges())\n",
    "    print(\"Number of nodes: \", num_n)\n",
    "    print(\"Number of edges: \", num_e)\n",
    "    \n",
    "    return G, num_n, num_e "
   ]
  },
  {
   "cell_type": "code",
   "execution_count": 17,
   "metadata": {
    "collapsed": false
   },
   "outputs": [],
   "source": [
    "# output: \n",
    "# G.node[606]\n",
    "# {'gender': 'male',\n",
    "#  'name': [' brice lalonde '],\n",
    "#  'nationality': ['french'],\n",
    "#  'occupation': ['politician'],\n",
    "#  'party': []}"
   ]
  },
  {
   "cell_type": "code",
   "execution_count": 18,
   "metadata": {
    "collapsed": false
   },
   "outputs": [],
   "source": [
    "# nx.write_gpickle(G,\"data/graphs/x\")"
   ]
  },
  {
   "cell_type": "code",
   "execution_count": 19,
   "metadata": {
    "collapsed": true
   },
   "outputs": [],
   "source": [
    "# k = nx.read_gpickle(\"data/graphs/x\")"
   ]
  },
  {
   "cell_type": "code",
   "execution_count": 20,
   "metadata": {
    "collapsed": true
   },
   "outputs": [],
   "source": [
    "def save_network(G, path_save,file):\n",
    "    \"\"\" Saves network on specified path as PICKLE\n",
    "        Input parameters:\n",
    "        1. Graph\n",
    "        2. path_save - path to directory\n",
    "        3. file name\n",
    "    \"\"\"\n",
    "    print(\"Network saved as pickle on PATH: \", path_save+\"/\"+file)\n",
    "    nx.write_gpickle(G,path_save+\"/\"+file)"
   ]
  },
  {
   "cell_type": "code",
   "execution_count": 21,
   "metadata": {
    "collapsed": false
   },
   "outputs": [],
   "source": [
    "# lst = []\n",
    "# for file in files[:5]:\n",
    "#     print(file)\n",
    "#     net_df = load_df(\"data/filtered_edge_list\",file)\n",
    "#     G, num_n, num_e = set_attributes(net_df, politician_data)\n",
    "#     sub_lst = [file,num_n, num_e]\n",
    "#     lst.append(sub_lst)\n",
    "#     save_network(G,\"data/graphs\",file.replace(\".csv\",\"\"))\n",
    "# df = pd.DataFrame(lst)\n",
    "# df.columns = [\"file\",\"nodes\",\"edges\"]\n",
    "# df.to_csv(\"data/graphs/stats.csv\")"
   ]
  },
  {
   "cell_type": "code",
   "execution_count": 22,
   "metadata": {
    "collapsed": false
   },
   "outputs": [
    {
     "name": "stdout",
     "output_type": "stream",
     "text": [
      "Number of nodes:  954\n",
      "Number of edges:  1123\n"
     ]
    }
   ],
   "source": [
    "net_df = load_df(\"data/filtered_edge_list\",\"2003_06.csv\")\n",
    "G, num_n, num_e = set_attributes(net_df, politician_data)\n"
   ]
  },
  {
   "cell_type": "code",
   "execution_count": 23,
   "metadata": {
    "collapsed": false
   },
   "outputs": [
    {
     "data": {
      "text/plain": [
       "networkx.classes.graph.Graph"
      ]
     },
     "execution_count": 23,
     "metadata": {},
     "output_type": "execute_result"
    }
   ],
   "source": [
    "type(G)"
   ]
  },
  {
   "cell_type": "code",
   "execution_count": 24,
   "metadata": {
    "collapsed": true
   },
   "outputs": [],
   "source": [
    "# G = nx.DiGraph()"
   ]
  },
  {
   "cell_type": "code",
   "execution_count": 25,
   "metadata": {
    "collapsed": false
   },
   "outputs": [],
   "source": [
    "# G.is_directed()"
   ]
  },
  {
   "cell_type": "code",
   "execution_count": null,
   "metadata": {
    "collapsed": true
   },
   "outputs": [],
   "source": []
  }
 ],
 "metadata": {
  "kernelspec": {
   "display_name": "Python 3",
   "language": "python",
   "name": "python3"
  },
  "language_info": {
   "codemirror_mode": {
    "name": "ipython",
    "version": 3
   },
   "file_extension": ".py",
   "mimetype": "text/x-python",
   "name": "python",
   "nbconvert_exporter": "python",
   "pygments_lexer": "ipython3",
   "version": "3.6.0"
  }
 },
 "nbformat": 4,
 "nbformat_minor": 2
}
