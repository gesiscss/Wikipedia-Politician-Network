{
 "cells": [
  {
   "cell_type": "code",
   "execution_count": 12,
   "metadata": {
    "collapsed": true
   },
   "outputs": [],
   "source": [
    "import pandas as pd\n",
    "import ast\n",
    "from datetime import datetime"
   ]
  },
  {
   "cell_type": "code",
   "execution_count": 13,
   "metadata": {
    "collapsed": true
   },
   "outputs": [],
   "source": [
    "def clean(x):\n",
    "    \"\"\" Converts string to list\n",
    "    \"\"\"\n",
    "    if type(x) == float:\n",
    "        return []\n",
    "    else: \n",
    "        return ast.literal_eval(x)\n",
    "\n",
    "def convert_date(date_lst):\n",
    "    \"\"\" Converts a string type date into a datetime type date\n",
    "    \"\"\"\n",
    "    if date_lst == []:\n",
    "        return None\n",
    "    date = date_lst[0].strip(\" \")\n",
    "    try:\n",
    "        date = datetime.strptime(date, '%Y-%m-%d')\n",
    "        return date\n",
    "    except:\n",
    "#         print(date)\n",
    "        return None"
   ]
  },
  {
   "cell_type": "code",
   "execution_count": 14,
   "metadata": {
    "collapsed": false
   },
   "outputs": [],
   "source": [
    "politician_data = pd.read_csv(\"data/politician-data.csv\",quotechar='\"',sep=\"\\t\",converters={\"occupation\":ast.literal_eval})\n",
    "\n",
    "politician_data[\"party\"] = politician_data[\"party\"].apply(clean)\n",
    "\n",
    "\n",
    "politician_data[\"nationality\"] = politician_data[\"nationality\"].apply(clean)\n",
    "\n",
    "politician_data[\"name\"] = politician_data[\"name\"].apply(clean)\n",
    "\n",
    "politician_data[\"birthDate\"] = politician_data[\"birthDate\"].apply(clean)\n",
    "politician_data[\"deathDate\"] = politician_data[\"deathDate\"].apply(clean)\n",
    "\n",
    "politician_data[\"birthDate\"] = politician_data[\"birthDate\"].apply(convert_date)\n",
    "politician_data[\"deathDate\"] = politician_data[\"deathDate\"].apply(convert_date)"
   ]
  },
  {
   "cell_type": "code",
   "execution_count": 16,
   "metadata": {
    "collapsed": false
   },
   "outputs": [],
   "source": [
    "politician_data.to_json(\"data/politician-data.json\")"
   ]
  },
  {
   "cell_type": "code",
   "execution_count": null,
   "metadata": {
    "collapsed": true
   },
   "outputs": [],
   "source": []
  }
 ],
 "metadata": {
  "kernelspec": {
   "display_name": "Python 3",
   "language": "python",
   "name": "python3"
  },
  "language_info": {
   "codemirror_mode": {
    "name": "ipython",
    "version": 3
   },
   "file_extension": ".py",
   "mimetype": "text/x-python",
   "name": "python",
   "nbconvert_exporter": "python",
   "pygments_lexer": "ipython3",
   "version": "3.6.0"
  }
 },
 "nbformat": 4,
 "nbformat_minor": 2
}
