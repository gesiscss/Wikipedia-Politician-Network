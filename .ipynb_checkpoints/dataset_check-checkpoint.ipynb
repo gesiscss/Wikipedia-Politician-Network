{
 "cells": [
  {
   "cell_type": "code",
   "execution_count": 1,
   "metadata": {
    "collapsed": true
   },
   "outputs": [],
   "source": [
    "import pandas as pd \n",
    "import filter_edgelist_data as flt"
   ]
  },
  {
   "cell_type": "code",
   "execution_count": 2,
   "metadata": {
    "collapsed": true
   },
   "outputs": [],
   "source": [
    "import numpy as np"
   ]
  },
  {
   "cell_type": "markdown",
   "metadata": {},
   "source": [
    "# Loading edge lists"
   ]
  },
  {
   "cell_type": "code",
   "execution_count": 3,
   "metadata": {
    "collapsed": true
   },
   "outputs": [],
   "source": [
    "path = \"data/edge-list/\""
   ]
  },
  {
   "cell_type": "code",
   "execution_count": 4,
   "metadata": {
    "collapsed": false
   },
   "outputs": [
    {
     "name": "stdout",
     "output_type": "stream",
     "text": [
      "['2001_01.csv', '2001_02.csv', '2001_03.csv', '2001_04.csv', '2001_05.csv', '2001_06.csv', '2001_07.csv', '2001_08.csv', '2001_09.csv', '2001_10.csv', '2001_11.csv', '2001_12.csv', '2002_01.csv', '2002_02.csv', '2002_03.csv', '2002_04.csv', '2002_05.csv', '2002_06.csv', '2002_07.csv', '2002_08.csv', '2002_09.csv', '2002_10.csv', '2002_11.csv', '2002_12.csv', '2003_01.csv', '2003_02.csv', '2003_03.csv', '2003_04.csv', '2003_05.csv', '2003_06.csv', '2003_07.csv', '2003_08.csv', '2003_09.csv', '2003_10.csv', '2003_11.csv', '2003_12.csv', '2004_01.csv', '2004_02.csv', '2004_03.csv', '2004_04.csv', '2004_05.csv', '2004_06.csv', '2004_07.csv', '2004_08.csv', '2004_09.csv', '2004_10.csv', '2004_11.csv', '2004_12.csv', '2005_01.csv', '2005_02.csv', '2005_03.csv', '2005_04.csv', '2005_05.csv', '2005_06.csv', '2005_07.csv', '2005_08.csv', '2005_09.csv', '2005_10.csv', '2005_11.csv', '2005_12.csv', '2006_01.csv', '2006_02.csv', '2006_03.csv', '2006_04.csv', '2006_05.csv', '2006_06.csv', '2006_07.csv', '2006_08.csv', '2006_09.csv', '2006_10.csv', '2006_11.csv', '2006_12.csv', '2007_01.csv', '2007_02.csv', '2007_03.csv', '2007_04.csv', '2007_05.csv', '2007_06.csv', '2007_07.csv', '2007_08.csv', '2007_09.csv', '2007_10.csv', '2007_11.csv', '2007_12.csv', '2008_01.csv', '2008_02.csv', '2008_03.csv', '2008_04.csv', '2008_05.csv', '2008_06.csv', '2008_07.csv', '2008_08.csv', '2008_09.csv', '2008_10.csv', '2008_11.csv', '2008_12.csv', '2009_01.csv', '2009_02.csv', '2009_03.csv', '2009_04.csv', '2009_05.csv', '2009_06.csv', '2009_07.csv', '2009_08.csv', '2009_09.csv', '2009_10.csv', '2009_11.csv', '2009_12.csv', '2010_01.csv', '2010_02.csv', '2010_03.csv', '2010_04.csv', '2010_05.csv', '2010_06.csv', '2010_07.csv', '2010_08.csv', '2010_09.csv', '2010_10.csv', '2010_11.csv', '2010_12.csv', '2011_01.csv', '2011_02.csv', '2011_03.csv', '2011_04.csv', '2011_05.csv', '2011_06.csv', '2011_07.csv', '2011_08.csv', '2011_09.csv', '2011_10.csv', '2011_11.csv', '2011_12.csv', '2012_01.csv', '2012_02.csv', '2012_03.csv', '2012_04.csv', '2012_05.csv', '2012_06.csv', '2012_07.csv', '2012_08.csv', '2012_09.csv', '2012_10.csv', '2012_11.csv', '2012_12.csv', '2013_01.csv', '2013_02.csv', '2013_03.csv', '2013_04.csv', '2013_05.csv', '2013_06.csv', '2013_07.csv', '2013_08.csv', '2013_09.csv', '2013_10.csv', '2013_11.csv', '2013_12.csv', '2014_01.csv', '2014_02.csv', '2014_03.csv', '2014_04.csv', '2014_05.csv', '2014_06.csv', '2014_07.csv', '2014_08.csv', '2014_09.csv', '2014_10.csv', '2014_11.csv', '2014_12.csv', '2015_01.csv', '2015_02.csv', '2015_03.csv', '2015_04.csv', '2015_05.csv', '2015_06.csv', '2015_07.csv', '2015_08.csv', '2015_09.csv', '2015_10.csv', '2015_11.csv', '2015_12.csv', '2016_01.csv', '2016_02.csv', '2016_03.csv', '2016_04.csv', '2016_05.csv', '2016_06.csv', '2016_07.csv', '2016_08.csv', '2016_09.csv', '2016_10.csv', '2016_11.csv', '2016_12.csv']\n"
     ]
    }
   ],
   "source": [
    "files = flt.get_files(path)\n",
    "print(files)"
   ]
  },
  {
   "cell_type": "markdown",
   "metadata": {},
   "source": [
    "# Concatination of edge list data frames into one "
   ]
  },
  {
   "cell_type": "code",
   "execution_count": 5,
   "metadata": {
    "collapsed": true
   },
   "outputs": [],
   "source": [
    "df_list = []"
   ]
  },
  {
   "cell_type": "code",
   "execution_count": 6,
   "metadata": {
    "collapsed": false
   },
   "outputs": [
    {
     "name": "stdout",
     "output_type": "stream",
     "text": [
      "Number of edge lsit files:  192\n",
      "DataFrame list size:  192\n"
     ]
    }
   ],
   "source": [
    "for f in files:\n",
    "    df = pd.read_csv(path+f)\n",
    "    df_list.append(df)\n",
    "print(\"Number of edge lsit files: \",len(files))\n",
    "print(\"DataFrame list size: \",len(df_list))"
   ]
  },
  {
   "cell_type": "code",
   "execution_count": 7,
   "metadata": {
    "collapsed": false
   },
   "outputs": [
    {
     "data": {
      "text/html": [
       "<div>\n",
       "<table border=\"1\" class=\"dataframe\">\n",
       "  <thead>\n",
       "    <tr style=\"text-align: right;\">\n",
       "      <th></th>\n",
       "      <th>from</th>\n",
       "      <th>to</th>\n",
       "    </tr>\n",
       "  </thead>\n",
       "  <tbody>\n",
       "    <tr>\n",
       "      <th>0</th>\n",
       "      <td>803946.0</td>\n",
       "      <td>554382.0</td>\n",
       "    </tr>\n",
       "    <tr>\n",
       "      <th>1</th>\n",
       "      <td>803946.0</td>\n",
       "      <td>843335.0</td>\n",
       "    </tr>\n",
       "    <tr>\n",
       "      <th>0</th>\n",
       "      <td>1143861.0</td>\n",
       "      <td>81474.0</td>\n",
       "    </tr>\n",
       "    <tr>\n",
       "      <th>1</th>\n",
       "      <td>803946.0</td>\n",
       "      <td>554382.0</td>\n",
       "    </tr>\n",
       "    <tr>\n",
       "      <th>2</th>\n",
       "      <td>803946.0</td>\n",
       "      <td>843335.0</td>\n",
       "    </tr>\n",
       "  </tbody>\n",
       "</table>\n",
       "</div>"
      ],
      "text/plain": [
       "        from        to\n",
       "0   803946.0  554382.0\n",
       "1   803946.0  843335.0\n",
       "0  1143861.0   81474.0\n",
       "1   803946.0  554382.0\n",
       "2   803946.0  843335.0"
      ]
     },
     "execution_count": 7,
     "metadata": {},
     "output_type": "execute_result"
    }
   ],
   "source": [
    "all_dfs = pd.concat(df_list)\n",
    "all_dfs.head()"
   ]
  },
  {
   "cell_type": "markdown",
   "metadata": {},
   "source": [
    "# Extracting unique IDs"
   ]
  },
  {
   "cell_type": "code",
   "execution_count": 8,
   "metadata": {
    "collapsed": false
   },
   "outputs": [],
   "source": [
    "unique_ids = pd.unique(all_dfs[['from', 'to']].values.ravel())"
   ]
  },
  {
   "cell_type": "code",
   "execution_count": 9,
   "metadata": {
    "collapsed": false
   },
   "outputs": [
    {
     "data": {
      "text/plain": [
       "46479"
      ]
     },
     "execution_count": 9,
     "metadata": {},
     "output_type": "execute_result"
    }
   ],
   "source": [
    "len(unique_ids)"
   ]
  },
  {
   "cell_type": "markdown",
   "metadata": {},
   "source": [
    "# Politician information dataset"
   ]
  },
  {
   "cell_type": "code",
   "execution_count": 10,
   "metadata": {
    "collapsed": true
   },
   "outputs": [],
   "source": [
    "politicians = pd.read_pickle(\"data/politicians_with_gender\")"
   ]
  },
  {
   "cell_type": "code",
   "execution_count": 11,
   "metadata": {
    "collapsed": false
   },
   "outputs": [
    {
     "data": {
      "text/html": [
       "<div>\n",
       "<table border=\"1\" class=\"dataframe\">\n",
       "  <thead>\n",
       "    <tr style=\"text-align: right;\">\n",
       "      <th></th>\n",
       "      <th>#DBpURL</th>\n",
       "      <th>ID</th>\n",
       "      <th>WikiURL</th>\n",
       "      <th>birthDate</th>\n",
       "      <th>deathDate</th>\n",
       "      <th>first_name</th>\n",
       "      <th>fpp_gender</th>\n",
       "      <th>full_name</th>\n",
       "      <th>gender</th>\n",
       "      <th>genderize</th>\n",
       "      <th>name</th>\n",
       "      <th>nationality</th>\n",
       "      <th>occupation</th>\n",
       "      <th>party</th>\n",
       "    </tr>\n",
       "  </thead>\n",
       "  <tbody>\n",
       "    <tr>\n",
       "      <th>0</th>\n",
       "      <td>http://dbpedia.org/resource/Quincy_Timberlake</td>\n",
       "      <td>11</td>\n",
       "      <td>http://en.wikipedia.org/wiki/Quincy_Timberlake</td>\n",
       "      <td>1980-04-22 00:00:00</td>\n",
       "      <td>None</td>\n",
       "      <td>quincy</td>\n",
       "      <td>NaN</td>\n",
       "      <td>Quincy+Timberlake</td>\n",
       "      <td>male</td>\n",
       "      <td>NaN</td>\n",
       "      <td>[ quincy timberlake ,  timberlake quincy ]</td>\n",
       "      <td>[kenyan]</td>\n",
       "      <td>[politician]</td>\n",
       "      <td>[]</td>\n",
       "    </tr>\n",
       "    <tr>\n",
       "      <th>1</th>\n",
       "      <td>http://dbpedia.org/resource/Fanny_Edelman</td>\n",
       "      <td>29</td>\n",
       "      <td>http://en.wikipedia.org/wiki/Fanny_Edelman</td>\n",
       "      <td>1911-02-27 00:00:00</td>\n",
       "      <td>2011-11-01 00:00:00</td>\n",
       "      <td>fanny</td>\n",
       "      <td>NaN</td>\n",
       "      <td>Fanny+Edelman</td>\n",
       "      <td>female</td>\n",
       "      <td>NaN</td>\n",
       "      <td>[ fanny edelman ,  edelman fanny ]</td>\n",
       "      <td>[argentine]</td>\n",
       "      <td>[politician]</td>\n",
       "      <td>[]</td>\n",
       "    </tr>\n",
       "    <tr>\n",
       "      <th>3</th>\n",
       "      <td>http://dbpedia.org/resource/Paul_Scheffer</td>\n",
       "      <td>102</td>\n",
       "      <td>http://en.wikipedia.org/wiki/Paul_Scheffer</td>\n",
       "      <td>1954-09-03 00:00:00</td>\n",
       "      <td>None</td>\n",
       "      <td>paul</td>\n",
       "      <td>NaN</td>\n",
       "      <td>Paul+Scheffer</td>\n",
       "      <td>male</td>\n",
       "      <td>NaN</td>\n",
       "      <td>[ scheffer paul ]</td>\n",
       "      <td>[]</td>\n",
       "      <td>[politician]</td>\n",
       "      <td>[]</td>\n",
       "    </tr>\n",
       "    <tr>\n",
       "      <th>4</th>\n",
       "      <td>http://dbpedia.org/resource/Ed_Robb</td>\n",
       "      <td>127</td>\n",
       "      <td>http://en.wikipedia.org/wiki/Ed_Robb</td>\n",
       "      <td>None</td>\n",
       "      <td>None</td>\n",
       "      <td>ed</td>\n",
       "      <td>NaN</td>\n",
       "      <td>Ed+Robb</td>\n",
       "      <td>male</td>\n",
       "      <td>NaN</td>\n",
       "      <td>[]</td>\n",
       "      <td>[american]</td>\n",
       "      <td>[politician]</td>\n",
       "      <td>[]</td>\n",
       "    </tr>\n",
       "    <tr>\n",
       "      <th>5</th>\n",
       "      <td>http://dbpedia.org/resource/Nizamettin_Erkmen</td>\n",
       "      <td>144</td>\n",
       "      <td>http://en.wikipedia.org/wiki/Nizamettin_Erkmen</td>\n",
       "      <td>None</td>\n",
       "      <td>1990-10-24 00:00:00</td>\n",
       "      <td>nizamettin</td>\n",
       "      <td>NaN</td>\n",
       "      <td>Nizamettin+Erkmen</td>\n",
       "      <td>male</td>\n",
       "      <td>NaN</td>\n",
       "      <td>[ erkmen nizamettin ]</td>\n",
       "      <td>[turkish]</td>\n",
       "      <td>[politician]</td>\n",
       "      <td>[]</td>\n",
       "    </tr>\n",
       "  </tbody>\n",
       "</table>\n",
       "</div>"
      ],
      "text/plain": [
       "                                         #DBpURL   ID  \\\n",
       "0  http://dbpedia.org/resource/Quincy_Timberlake   11   \n",
       "1      http://dbpedia.org/resource/Fanny_Edelman   29   \n",
       "3      http://dbpedia.org/resource/Paul_Scheffer  102   \n",
       "4            http://dbpedia.org/resource/Ed_Robb  127   \n",
       "5  http://dbpedia.org/resource/Nizamettin_Erkmen  144   \n",
       "\n",
       "                                          WikiURL            birthDate  \\\n",
       "0  http://en.wikipedia.org/wiki/Quincy_Timberlake  1980-04-22 00:00:00   \n",
       "1      http://en.wikipedia.org/wiki/Fanny_Edelman  1911-02-27 00:00:00   \n",
       "3      http://en.wikipedia.org/wiki/Paul_Scheffer  1954-09-03 00:00:00   \n",
       "4            http://en.wikipedia.org/wiki/Ed_Robb                 None   \n",
       "5  http://en.wikipedia.org/wiki/Nizamettin_Erkmen                 None   \n",
       "\n",
       "             deathDate  first_name fpp_gender          full_name  gender  \\\n",
       "0                 None      quincy        NaN  Quincy+Timberlake    male   \n",
       "1  2011-11-01 00:00:00       fanny        NaN      Fanny+Edelman  female   \n",
       "3                 None        paul        NaN      Paul+Scheffer    male   \n",
       "4                 None          ed        NaN            Ed+Robb    male   \n",
       "5  1990-10-24 00:00:00  nizamettin        NaN  Nizamettin+Erkmen    male   \n",
       "\n",
       "  genderize                                        name  nationality  \\\n",
       "0       NaN  [ quincy timberlake ,  timberlake quincy ]     [kenyan]   \n",
       "1       NaN          [ fanny edelman ,  edelman fanny ]  [argentine]   \n",
       "3       NaN                           [ scheffer paul ]           []   \n",
       "4       NaN                                          []   [american]   \n",
       "5       NaN                       [ erkmen nizamettin ]    [turkish]   \n",
       "\n",
       "     occupation party  \n",
       "0  [politician]    []  \n",
       "1  [politician]    []  \n",
       "3  [politician]    []  \n",
       "4  [politician]    []  \n",
       "5  [politician]    []  "
      ]
     },
     "execution_count": 11,
     "metadata": {},
     "output_type": "execute_result"
    }
   ],
   "source": [
    "politicians.head()"
   ]
  },
  {
   "cell_type": "markdown",
   "metadata": {},
   "source": [
    "# Counting politicians inside/outside the network"
   ]
  },
  {
   "cell_type": "code",
   "execution_count": 12,
   "metadata": {
    "collapsed": false
   },
   "outputs": [
    {
     "name": "stdout",
     "output_type": "stream",
     "text": [
      "Number of IDs that are not a part of the network:  22700\n"
     ]
    }
   ],
   "source": [
    "not_in_network = politicians[~politicians[\"ID\"].isin(unique_ids)]\n",
    "print(\"Number of IDs that are not a part of the network: \", len(not_in_network))"
   ]
  },
  {
   "cell_type": "code",
   "execution_count": 13,
   "metadata": {
    "collapsed": false
   },
   "outputs": [
    {
     "name": "stdout",
     "output_type": "stream",
     "text": [
      "Number of IDs that are a part of the network:  46479\n"
     ]
    }
   ],
   "source": [
    "politicians = politicians[politicians[\"ID\"].isin(unique_ids)]\n",
    "print(\"Number of IDs that are a part of the network: \", len(politicians))"
   ]
  },
  {
   "cell_type": "markdown",
   "metadata": {},
   "source": [
    "# Saving IDs outside/inside network"
   ]
  },
  {
   "cell_type": "code",
   "execution_count": 14,
   "metadata": {
    "collapsed": false
   },
   "outputs": [],
   "source": [
    "not_in_network[\"ID\"].to_csv(\"data/ids_outside.csv\")\n",
    "politicians[\"ID\"].to_csv(\"data/ids_inside.csv\")"
   ]
  },
  {
   "cell_type": "markdown",
   "metadata": {},
   "source": [
    "# Saving Polititians outside/inside network"
   ]
  },
  {
   "cell_type": "code",
   "execution_count": 15,
   "metadata": {
    "collapsed": true
   },
   "outputs": [],
   "source": [
    "not_in_network.to_pickle(\"data/politician_data_outside\")\n",
    "politicians.to_pickle(\"data/politician_data_inside\")"
   ]
  },
  {
   "cell_type": "markdown",
   "metadata": {},
   "source": [
    "# Gender information on politicians in the network"
   ]
  },
  {
   "cell_type": "code",
   "execution_count": 20,
   "metadata": {
    "collapsed": false
   },
   "outputs": [
    {
     "data": {
      "text/plain": [
       "male      37282\n",
       "female     5754\n",
       "Name: gender, dtype: int64"
      ]
     },
     "execution_count": 20,
     "metadata": {},
     "output_type": "execute_result"
    }
   ],
   "source": [
    "politicians.gender.value_counts()"
   ]
  },
  {
   "cell_type": "code",
   "execution_count": 19,
   "metadata": {
    "collapsed": false
   },
   "outputs": [
    {
     "data": {
      "text/plain": [
       "male      0.866298\n",
       "female    0.133702\n",
       "Name: gender, dtype: float64"
      ]
     },
     "execution_count": 19,
     "metadata": {},
     "output_type": "execute_result"
    }
   ],
   "source": [
    "politicians.gender.value_counts(normalize=True)"
   ]
  },
  {
   "cell_type": "code",
   "execution_count": null,
   "metadata": {
    "collapsed": true
   },
   "outputs": [],
   "source": []
  }
 ],
 "metadata": {
  "kernelspec": {
   "display_name": "Python 3",
   "language": "python",
   "name": "python3"
  },
  "language_info": {
   "codemirror_mode": {
    "name": "ipython",
    "version": 3
   },
   "file_extension": ".py",
   "mimetype": "text/x-python",
   "name": "python",
   "nbconvert_exporter": "python",
   "pygments_lexer": "ipython3",
   "version": "3.6.0"
  }
 },
 "nbformat": 4,
 "nbformat_minor": 2
}
