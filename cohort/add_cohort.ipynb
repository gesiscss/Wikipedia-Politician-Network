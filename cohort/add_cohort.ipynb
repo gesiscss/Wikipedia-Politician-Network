{
 "cells": [
  {
   "cell_type": "code",
   "execution_count": 1,
   "metadata": {
    "collapsed": true
   },
   "outputs": [],
   "source": [
    "import pandas as pd "
   ]
  },
  {
   "cell_type": "markdown",
   "metadata": {},
   "source": [
    "# Paths"
   ]
  },
  {
   "cell_type": "code",
   "execution_count": 2,
   "metadata": {
    "collapsed": true
   },
   "outputs": [],
   "source": [
    "data_path = \"../data/politician_data_inside\"\n",
    "# ids_inside = \"../data/ids_inside.csv\"\n",
    "cohort_path = \"../data/cohort/all_cohorts.csv\"\n",
    "save_dir = \"../data/cohort/wiki_page_cohorts/\""
   ]
  },
  {
   "cell_type": "markdown",
   "metadata": {},
   "source": [
    "# Load"
   ]
  },
  {
   "cell_type": "code",
   "execution_count": 3,
   "metadata": {
    "collapsed": false
   },
   "outputs": [],
   "source": [
    "data = pd.read_pickle(data_path)"
   ]
  },
  {
   "cell_type": "markdown",
   "metadata": {},
   "source": [
    "# EXTRACT WIKI PAGE NAME"
   ]
  },
  {
   "cell_type": "code",
   "execution_count": 4,
   "metadata": {
    "collapsed": false
   },
   "outputs": [],
   "source": [
    "# data.WikiURL.values[0].split(\"/\")[-1]"
   ]
  },
  {
   "cell_type": "code",
   "execution_count": 5,
   "metadata": {
    "collapsed": true
   },
   "outputs": [],
   "source": [
    "cohorts = pd.read_csv(cohort_path)"
   ]
  },
  {
   "cell_type": "code",
   "execution_count": 6,
   "metadata": {
    "collapsed": false
   },
   "outputs": [
    {
     "data": {
      "text/html": [
       "<div>\n",
       "<style>\n",
       "    .dataframe thead tr:only-child th {\n",
       "        text-align: right;\n",
       "    }\n",
       "\n",
       "    .dataframe thead th {\n",
       "        text-align: left;\n",
       "    }\n",
       "\n",
       "    .dataframe tbody tr th {\n",
       "        vertical-align: top;\n",
       "    }\n",
       "</style>\n",
       "<table border=\"1\" class=\"dataframe\">\n",
       "  <thead>\n",
       "    <tr style=\"text-align: right;\">\n",
       "      <th></th>\n",
       "      <th>node</th>\n",
       "      <th>year</th>\n",
       "    </tr>\n",
       "  </thead>\n",
       "  <tbody>\n",
       "    <tr>\n",
       "      <th>0</th>\n",
       "      <td>803946.0</td>\n",
       "      <td>2001</td>\n",
       "    </tr>\n",
       "    <tr>\n",
       "      <th>1</th>\n",
       "      <td>554382.0</td>\n",
       "      <td>2001</td>\n",
       "    </tr>\n",
       "    <tr>\n",
       "      <th>2</th>\n",
       "      <td>843335.0</td>\n",
       "      <td>2001</td>\n",
       "    </tr>\n",
       "    <tr>\n",
       "      <th>3</th>\n",
       "      <td>1143861.0</td>\n",
       "      <td>2001</td>\n",
       "    </tr>\n",
       "    <tr>\n",
       "      <th>4</th>\n",
       "      <td>81474.0</td>\n",
       "      <td>2001</td>\n",
       "    </tr>\n",
       "  </tbody>\n",
       "</table>\n",
       "</div>"
      ],
      "text/plain": [
       "        node  year\n",
       "0   803946.0  2001\n",
       "1   554382.0  2001\n",
       "2   843335.0  2001\n",
       "3  1143861.0  2001\n",
       "4    81474.0  2001"
      ]
     },
     "execution_count": 6,
     "metadata": {},
     "output_type": "execute_result"
    }
   ],
   "source": [
    "cohorts.head()"
   ]
  },
  {
   "cell_type": "code",
   "execution_count": 7,
   "metadata": {
    "collapsed": false
   },
   "outputs": [
    {
     "data": {
      "text/html": [
       "<div>\n",
       "<style>\n",
       "    .dataframe thead tr:only-child th {\n",
       "        text-align: right;\n",
       "    }\n",
       "\n",
       "    .dataframe thead th {\n",
       "        text-align: left;\n",
       "    }\n",
       "\n",
       "    .dataframe tbody tr th {\n",
       "        vertical-align: top;\n",
       "    }\n",
       "</style>\n",
       "<table border=\"1\" class=\"dataframe\">\n",
       "  <thead>\n",
       "    <tr style=\"text-align: right;\">\n",
       "      <th></th>\n",
       "      <th>#DBpURL</th>\n",
       "      <th>ID</th>\n",
       "      <th>WikiURL</th>\n",
       "      <th>birthDate</th>\n",
       "      <th>deathDate</th>\n",
       "      <th>first_name</th>\n",
       "      <th>fpp_gender</th>\n",
       "      <th>full_name</th>\n",
       "      <th>gender</th>\n",
       "      <th>genderize</th>\n",
       "      <th>name</th>\n",
       "      <th>nationality</th>\n",
       "      <th>occupation</th>\n",
       "      <th>party</th>\n",
       "      <th>wiki_page_name</th>\n",
       "    </tr>\n",
       "  </thead>\n",
       "  <tbody>\n",
       "    <tr>\n",
       "      <th>0</th>\n",
       "      <td>http://dbpedia.org/resource/Quincy_Timberlake</td>\n",
       "      <td>11</td>\n",
       "      <td>http://en.wikipedia.org/wiki/Quincy_Timberlake</td>\n",
       "      <td>1980-04-22 00:00:00</td>\n",
       "      <td>None</td>\n",
       "      <td>quincy</td>\n",
       "      <td>NaN</td>\n",
       "      <td>Quincy+Timberlake</td>\n",
       "      <td>male</td>\n",
       "      <td>NaN</td>\n",
       "      <td>[ quincy timberlake ,  timberlake quincy ]</td>\n",
       "      <td>[kenyan]</td>\n",
       "      <td>[politician]</td>\n",
       "      <td>[]</td>\n",
       "      <td>Quincy_Timberlake</td>\n",
       "    </tr>\n",
       "    <tr>\n",
       "      <th>5</th>\n",
       "      <td>http://dbpedia.org/resource/Nizamettin_Erkmen</td>\n",
       "      <td>144</td>\n",
       "      <td>http://en.wikipedia.org/wiki/Nizamettin_Erkmen</td>\n",
       "      <td>None</td>\n",
       "      <td>1990-10-24 00:00:00</td>\n",
       "      <td>nizamettin</td>\n",
       "      <td>NaN</td>\n",
       "      <td>Nizamettin+Erkmen</td>\n",
       "      <td>male</td>\n",
       "      <td>NaN</td>\n",
       "      <td>[ erkmen nizamettin ]</td>\n",
       "      <td>[turkish]</td>\n",
       "      <td>[politician]</td>\n",
       "      <td>[]</td>\n",
       "      <td>Nizamettin_Erkmen</td>\n",
       "    </tr>\n",
       "    <tr>\n",
       "      <th>6</th>\n",
       "      <td>http://dbpedia.org/resource/Claudio_Scajola</td>\n",
       "      <td>183</td>\n",
       "      <td>http://en.wikipedia.org/wiki/Claudio_Scajola</td>\n",
       "      <td>1948-01-15 00:00:00</td>\n",
       "      <td>None</td>\n",
       "      <td>claudio</td>\n",
       "      <td>NaN</td>\n",
       "      <td>Claudio+Scajola</td>\n",
       "      <td>male</td>\n",
       "      <td>NaN</td>\n",
       "      <td>[ claudio scajola ]</td>\n",
       "      <td>[italian]</td>\n",
       "      <td>[politician]</td>\n",
       "      <td>[ forza italia (2013) ]</td>\n",
       "      <td>Claudio_Scajola</td>\n",
       "    </tr>\n",
       "    <tr>\n",
       "      <th>8</th>\n",
       "      <td>http://dbpedia.org/resource/Thomas_Clausen_(Lo...</td>\n",
       "      <td>246</td>\n",
       "      <td>http://en.wikipedia.org/wiki/Thomas_Clausen_(L...</td>\n",
       "      <td>1939-12-22 00:00:00</td>\n",
       "      <td>2002-02-20 00:00:00</td>\n",
       "      <td>thomas</td>\n",
       "      <td>NaN</td>\n",
       "      <td>Thomas+Clausen+(Louisiana)</td>\n",
       "      <td>male</td>\n",
       "      <td>NaN</td>\n",
       "      <td>[ thomas greenwood clausen ,  clausen thomas g...</td>\n",
       "      <td>[american]</td>\n",
       "      <td>[politician]</td>\n",
       "      <td>[ democratic party (united states) ]</td>\n",
       "      <td>Thomas_Clausen_(Louisiana)</td>\n",
       "    </tr>\n",
       "    <tr>\n",
       "      <th>9</th>\n",
       "      <td>http://dbpedia.org/resource/Yang_Ti-liang</td>\n",
       "      <td>248</td>\n",
       "      <td>http://en.wikipedia.org/wiki/Yang_Ti-liang</td>\n",
       "      <td>1929-06-30 00:00:00</td>\n",
       "      <td>None</td>\n",
       "      <td>yang</td>\n",
       "      <td>NaN</td>\n",
       "      <td>Yang+Ti-liang</td>\n",
       "      <td>male</td>\n",
       "      <td>NaN</td>\n",
       "      <td>[ ti-liang yang ]</td>\n",
       "      <td>[]</td>\n",
       "      <td>[politician]</td>\n",
       "      <td>[]</td>\n",
       "      <td>Yang_Ti-liang</td>\n",
       "    </tr>\n",
       "  </tbody>\n",
       "</table>\n",
       "</div>"
      ],
      "text/plain": [
       "                                             #DBpURL   ID  \\\n",
       "0      http://dbpedia.org/resource/Quincy_Timberlake   11   \n",
       "5      http://dbpedia.org/resource/Nizamettin_Erkmen  144   \n",
       "6        http://dbpedia.org/resource/Claudio_Scajola  183   \n",
       "8  http://dbpedia.org/resource/Thomas_Clausen_(Lo...  246   \n",
       "9          http://dbpedia.org/resource/Yang_Ti-liang  248   \n",
       "\n",
       "                                             WikiURL            birthDate  \\\n",
       "0     http://en.wikipedia.org/wiki/Quincy_Timberlake  1980-04-22 00:00:00   \n",
       "5     http://en.wikipedia.org/wiki/Nizamettin_Erkmen                 None   \n",
       "6       http://en.wikipedia.org/wiki/Claudio_Scajola  1948-01-15 00:00:00   \n",
       "8  http://en.wikipedia.org/wiki/Thomas_Clausen_(L...  1939-12-22 00:00:00   \n",
       "9         http://en.wikipedia.org/wiki/Yang_Ti-liang  1929-06-30 00:00:00   \n",
       "\n",
       "             deathDate  first_name fpp_gender                   full_name  \\\n",
       "0                 None      quincy        NaN           Quincy+Timberlake   \n",
       "5  1990-10-24 00:00:00  nizamettin        NaN           Nizamettin+Erkmen   \n",
       "6                 None     claudio        NaN             Claudio+Scajola   \n",
       "8  2002-02-20 00:00:00      thomas        NaN  Thomas+Clausen+(Louisiana)   \n",
       "9                 None        yang        NaN               Yang+Ti-liang   \n",
       "\n",
       "  gender genderize                                               name  \\\n",
       "0   male       NaN         [ quincy timberlake ,  timberlake quincy ]   \n",
       "5   male       NaN                              [ erkmen nizamettin ]   \n",
       "6   male       NaN                                [ claudio scajola ]   \n",
       "8   male       NaN  [ thomas greenwood clausen ,  clausen thomas g...   \n",
       "9   male       NaN                                  [ ti-liang yang ]   \n",
       "\n",
       "  nationality    occupation                                 party  \\\n",
       "0    [kenyan]  [politician]                                    []   \n",
       "5   [turkish]  [politician]                                    []   \n",
       "6   [italian]  [politician]               [ forza italia (2013) ]   \n",
       "8  [american]  [politician]  [ democratic party (united states) ]   \n",
       "9          []  [politician]                                    []   \n",
       "\n",
       "               wiki_page_name  \n",
       "0           Quincy_Timberlake  \n",
       "5           Nizamettin_Erkmen  \n",
       "6             Claudio_Scajola  \n",
       "8  Thomas_Clausen_(Louisiana)  \n",
       "9               Yang_Ti-liang  "
      ]
     },
     "execution_count": 7,
     "metadata": {},
     "output_type": "execute_result"
    }
   ],
   "source": [
    "data[\"wiki_page_name\"] = data.WikiURL.apply(lambda x: x.split(\"/\")[-1])\n",
    "data.head()"
   ]
  },
  {
   "cell_type": "markdown",
   "metadata": {},
   "source": [
    "# Save Wikpiedia Page Cohorts"
   ]
  },
  {
   "cell_type": "code",
   "execution_count": 8,
   "metadata": {
    "collapsed": false
   },
   "outputs": [],
   "source": [
    "def get_id_for_year(year, cohorts):\n",
    "    \"\"\" Returns politician ID's for politicians that are a part of the cohort year\n",
    "    \"\"\"\n",
    "    cohorts = cohorts[cohorts[\"year\"] <= year]\n",
    "    return cohorts[\"node\"].values"
   ]
  },
  {
   "cell_type": "code",
   "execution_count": 17,
   "metadata": {
    "collapsed": false
   },
   "outputs": [
    {
     "data": {
      "text/plain": [
       "array([803946., 554382., 843335., ..., 989570., 959158., 996822.])"
      ]
     },
     "execution_count": 17,
     "metadata": {},
     "output_type": "execute_result"
    }
   ],
   "source": [
    "get_id_for_year(2008, cohorts)"
   ]
  },
  {
   "cell_type": "code",
   "execution_count": 18,
   "metadata": {
    "collapsed": false
   },
   "outputs": [],
   "source": [
    "ids = pd.Series(get_id_for_year(2008, cohorts))\n",
    "ids_lst = get_id_for_year(2008, cohorts)"
   ]
  },
  {
   "cell_type": "code",
   "execution_count": 22,
   "metadata": {
    "collapsed": false
   },
   "outputs": [],
   "source": [
    "# %timeit d1 = data[data[\"ID\"].isin(ids_lst)] "
   ]
  },
  {
   "cell_type": "code",
   "execution_count": 21,
   "metadata": {
    "collapsed": false
   },
   "outputs": [],
   "source": [
    "# ids.name=\"ids\"\n",
    "# %timeit d2 = data.join(ids)"
   ]
  },
  {
   "cell_type": "code",
   "execution_count": 13,
   "metadata": {
    "collapsed": false
   },
   "outputs": [],
   "source": [
    "def get_wiki_pages(id_lst, data):\n",
    "    d = data[data[\"ID\"].isin(id_lst)] \n",
    "#     print(d.head())\n",
    "    return d[\"wiki_page_name\"].values"
   ]
  },
  {
   "cell_type": "code",
   "execution_count": 14,
   "metadata": {
    "collapsed": false
   },
   "outputs": [],
   "source": [
    "# get_wiki_pages(ids_lst, data)"
   ]
  },
  {
   "cell_type": "code",
   "execution_count": 15,
   "metadata": {
    "collapsed": false
   },
   "outputs": [
    {
     "name": "stdout",
     "output_type": "stream",
     "text": [
      "Year 2008, number of pages: 21770\n",
      "Saved at ../data/cohort/wiki_page_cohorts/2008.csv\n",
      "Year 2009, number of pages: 26205\n",
      "Saved at ../data/cohort/wiki_page_cohorts/2009.csv\n",
      "Year 2010, number of pages: 30268\n",
      "Saved at ../data/cohort/wiki_page_cohorts/2010.csv\n",
      "Year 2011, number of pages: 33700\n",
      "Saved at ../data/cohort/wiki_page_cohorts/2011.csv\n",
      "Year 2012, number of pages: 36476\n",
      "Saved at ../data/cohort/wiki_page_cohorts/2012.csv\n",
      "Year 2013, number of pages: 39377\n",
      "Saved at ../data/cohort/wiki_page_cohorts/2013.csv\n",
      "Year 2014, number of pages: 42472\n",
      "Saved at ../data/cohort/wiki_page_cohorts/2014.csv\n"
     ]
    }
   ],
   "source": [
    "years = range(2008,2015)\n",
    "for year in years:\n",
    "    ids = get_id_for_year(year, cohorts)\n",
    "    pages = get_wiki_pages(ids, data)\n",
    "    print(\"Year {}, number of pages: {}\".format(year, len(pages)))\n",
    "    df = pd.DataFrame(pages)\n",
    "    path = \"{}{}.csv\".format(save_dir, year)\n",
    "    df.to_csv(path, index=False, header=False, encoding=\"utf-8\")\n",
    "    print(\"Saved at {}\".format(path)) "
   ]
  },
  {
   "cell_type": "code",
   "execution_count": 16,
   "metadata": {
    "collapsed": false
   },
   "outputs": [
    {
     "data": {
      "text/plain": [
       "42472"
      ]
     },
     "execution_count": 16,
     "metadata": {},
     "output_type": "execute_result"
    }
   ],
   "source": [
    "len(get_id_for_year(2014, cohorts))"
   ]
  },
  {
   "cell_type": "code",
   "execution_count": null,
   "metadata": {
    "collapsed": true
   },
   "outputs": [],
   "source": []
  }
 ],
 "metadata": {
  "kernelspec": {
   "display_name": "Python 3",
   "language": "python",
   "name": "python3"
  },
  "language_info": {
   "codemirror_mode": {
    "name": "ipython",
    "version": 3
   },
   "file_extension": ".py",
   "mimetype": "text/x-python",
   "name": "python",
   "nbconvert_exporter": "python",
   "pygments_lexer": "ipython3",
   "version": "3.6.0"
  }
 },
 "nbformat": 4,
 "nbformat_minor": 2
}
