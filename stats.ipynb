{
 "cells": [
  {
   "cell_type": "code",
   "execution_count": 2,
   "metadata": {
    "collapsed": true
   },
   "outputs": [],
   "source": [
    "import pandas as pd \n",
    "import networkx as nx\n",
    "import pickle\n",
    "from os import listdir\n",
    "from os.path import isfile, join\n",
    "import sys\n",
    "import math"
   ]
  },
  {
   "cell_type": "code",
   "execution_count": 2,
   "metadata": {
    "collapsed": true
   },
   "outputs": [],
   "source": [
    "def get_files(path):\n",
    "    \"\"\" Returns a list of files in a directory\n",
    "        Input parameter: path to directory\n",
    "    \"\"\"\n",
    "    mypath = path\n",
    "    complete = [f for f in listdir(mypath) if isfile(join(mypath, f))]\n",
    "    return complete"
   ]
  },
  {
   "cell_type": "code",
   "execution_count": 22,
   "metadata": {
    "collapsed": true
   },
   "outputs": [],
   "source": [
    "def avg_degree(G):\n",
    "    \"\"\" Returns average degree of the graph and the number of nodes\n",
    "        Input parameter: G - graph\n",
    "    \"\"\"\n",
    "    degree_values = list(G.degree().values())\n",
    "    degree_sum = sum(degree_values)\n",
    "    node_num = len(degree_values)\n",
    "    avg_degree = degree_sum/node_num\n",
    "    return avg_degree, node_num"
   ]
  },
  {
   "cell_type": "code",
   "execution_count": 25,
   "metadata": {
    "collapsed": true
   },
   "outputs": [],
   "source": [
    "files_path = \"data/graphs\""
   ]
  },
  {
   "cell_type": "code",
   "execution_count": 26,
   "metadata": {
    "collapsed": false
   },
   "outputs": [],
   "source": [
    "files = get_files(files_path)[:-1]"
   ]
  },
  {
   "cell_type": "code",
   "execution_count": 28,
   "metadata": {
    "collapsed": false
   },
   "outputs": [],
   "source": [
    "# for file in files:\n",
    "#     G = nx.read_gpickle(files_path+\"/\"+file)\n",
    "#     print(avg_degree(G))"
   ]
  },
  {
   "cell_type": "code",
   "execution_count": 29,
   "metadata": {
    "collapsed": true
   },
   "outputs": [],
   "source": [
    "# def filter_graph():"
   ]
  },
  {
   "cell_type": "code",
   "execution_count": 62,
   "metadata": {
    "collapsed": false
   },
   "outputs": [],
   "source": [
    "# import math \n",
    "# math.isnan(G.node[320122][\"gender\"])\n",
    "# SG=G.subgraph( [n for n,attrdict in G.node.items() if attrdict['gender'] != attrdict['gender'] ] )"
   ]
  },
  {
   "cell_type": "code",
   "execution_count": 57,
   "metadata": {
    "collapsed": false
   },
   "outputs": [],
   "source": [
    "# SG.node.items()"
   ]
  },
  {
   "cell_type": "code",
   "execution_count": 56,
   "metadata": {
    "collapsed": true
   },
   "outputs": [],
   "source": [
    "def filter_gender(G,gender):\n",
    "    \"\"\" Returns a filtered subgraph containing nodes with specified gender\n",
    "        Input parameters:\n",
    "        1. G - graph\n",
    "        2. gender - 'male' or 'female'\n",
    "    \"\"\"\n",
    "    return G.subgraph( [n for n,attrdict in G.node.items() if attrdict['gender'] == gender] )"
   ]
  },
  {
   "cell_type": "code",
   "execution_count": 61,
   "metadata": {
    "collapsed": false
   },
   "outputs": [],
   "source": [
    "# filter_gender(G, 'female')"
   ]
  },
  {
   "cell_type": "code",
   "execution_count": 85,
   "metadata": {
    "collapsed": false
   },
   "outputs": [],
   "source": [
    "def filter_graph(G, attribute, value):\n",
    "    \"\"\" Returns a filtered subgraph containing nodes with specified attribute\n",
    "        Input parameters:\n",
    "        1. G - graph\n",
    "        2. attribute - filter by this attribute: {gender, occupation, party, nationality}\n",
    "        3. value - filter by this value, for example 'female' in the case of gender \n",
    "    \"\"\"\n",
    "    if attribute == \"gender\":\n",
    "        return G.subgraph( [n for n,attrdict in G.node.items() if attrdict['gender'] == value] )\n",
    "    else:\n",
    "        return G.subgraph( [n for n,attrdict in G.node.items() if value in attrdict[attribute]] )"
   ]
  },
  {
   "cell_type": "code",
   "execution_count": 87,
   "metadata": {
    "collapsed": false
   },
   "outputs": [],
   "source": [
    "# for n,attrdict in filter_graph(G, \"gender\", \"female\").node.items():\n",
    "#     print(attrdict)"
   ]
  },
  {
   "cell_type": "code",
   "execution_count": 5,
   "metadata": {
    "collapsed": false
   },
   "outputs": [
    {
     "data": {
      "text/html": [
       "<div>\n",
       "<table border=\"1\" class=\"dataframe\">\n",
       "  <thead>\n",
       "    <tr style=\"text-align: right;\">\n",
       "      <th></th>\n",
       "      <th>{\"file\":{\"0\":\"2001_06\"</th>\n",
       "      <th>1:\"2001_12\"</th>\n",
       "      <th>2:\"2002_06\"</th>\n",
       "      <th>3:\"2002_12\"</th>\n",
       "      <th>4:\"2003_06\"</th>\n",
       "      <th>5:\"2003_12\"</th>\n",
       "      <th>6:\"2004_06\"</th>\n",
       "      <th>7:\"2004_12\"</th>\n",
       "      <th>8:\"2005_06\"</th>\n",
       "      <th>9:\"2005_12\"</th>\n",
       "      <th>...</th>\n",
       "      <th>22:659</th>\n",
       "      <th>23:679</th>\n",
       "      <th>24:689</th>\n",
       "      <th>25:703</th>\n",
       "      <th>26:719</th>\n",
       "      <th>27:734</th>\n",
       "      <th>28:743</th>\n",
       "      <th>29:758</th>\n",
       "      <th>30:759</th>\n",
       "      <th>31:765}}</th>\n",
       "    </tr>\n",
       "  </thead>\n",
       "  <tbody>\n",
       "  </tbody>\n",
       "</table>\n",
       "<p>0 rows × 96 columns</p>\n",
       "</div>"
      ],
      "text/plain": [
       "Empty DataFrame\n",
       "Columns: [{\"file\":{\"0\":\"2001_06\", 1:\"2001_12\", 2:\"2002_06\", 3:\"2002_12\", 4:\"2003_06\", 5:\"2003_12\", 6:\"2004_06\", 7:\"2004_12\", 8:\"2005_06\", 9:\"2005_12\", 10:\"2006_06\", 11:\"2006_12\", 12:\"2007_06\", 13:\"2007_12\", 14:\"2008_06\", 15:\"2008_12\", 16:\"2009_06\", 17:\"2009_12\", 18:\"2010_06\", 19:\"2010_12\", 20:\"2011_06\", 21:\"2011_12\", 22:\"2012_06\", 23:\"2012_12\", 24:\"2013_06\", 25:\"2013_12\", 26:\"2014_06\", 27:\"2014_12\", 28:\"2015_06\", 29:\"2015_12\", 30:\"2016_06\", 31:\"2016_12\"}, f_nodes:{\"0\":0, 1:0, 2:0, 3:0, 4:0, 5:1, 6:7, 7:17, 8:20, 9:26, 10:32, 11:39, 12:50, 13:58, 14:62, 15:64, 16:73, 17:85, 18:87, 19:90, 20:97, 21:101, 22:103, 23:111, 24:113, 25:116, 26:120, 27:121, 28:123, 29:131, 30:133, 31:134}, m_nodes:{\"0\":2, 1:2, 2:7, 3:15, 4:49, 5:73, 6:133, 7:256, 8:285, 9:313, 10:338, 11:358, 12:405, 13:436, 14:455, 15:480, 16:506, 17:543, 18:573, 19:585, 20:604, 21:624, 22:659, 23:679, 24:689, 25:703, 26:719, 27:734, 28:743, 29:758, 30:759, 31:765}}]\n",
       "Index: []\n",
       "\n",
       "[0 rows x 96 columns]"
      ]
     },
     "execution_count": 5,
     "metadata": {},
     "output_type": "execute_result"
    }
   ],
   "source": [
    "df = pd.read_csv(\"data/stats/net_size_fr.csv\")\n",
    "df \n",
    "# def male_to_female_ratio()"
   ]
  },
  {
   "cell_type": "code",
   "execution_count": null,
   "metadata": {
    "collapsed": true
   },
   "outputs": [],
   "source": []
  }
 ],
 "metadata": {
  "kernelspec": {
   "display_name": "Python 3",
   "language": "python",
   "name": "python3"
  },
  "language_info": {
   "codemirror_mode": {
    "name": "ipython",
    "version": 3
   },
   "file_extension": ".py",
   "mimetype": "text/x-python",
   "name": "python",
   "nbconvert_exporter": "python",
   "pygments_lexer": "ipython3",
   "version": "3.6.0"
  }
 },
 "nbformat": 4,
 "nbformat_minor": 2
}
