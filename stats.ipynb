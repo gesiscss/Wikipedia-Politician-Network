{
 "cells": [
  {
   "cell_type": "code",
   "execution_count": 2,
   "metadata": {
    "collapsed": true
   },
   "outputs": [],
   "source": [
    "import pandas as pd \n",
    "import networkx as nx\n",
    "import pickle\n",
    "from os import listdir\n",
    "from os.path import isfile, join\n",
    "import sys\n",
    "import math"
   ]
  },
  {
   "cell_type": "code",
   "execution_count": 2,
   "metadata": {
    "collapsed": true
   },
   "outputs": [],
   "source": [
    "def get_files(path):\n",
    "    \"\"\" Returns a list of files in a directory\n",
    "        Input parameter: path to directory\n",
    "    \"\"\"\n",
    "    mypath = path\n",
    "    complete = [f for f in listdir(mypath) if isfile(join(mypath, f))]\n",
    "    return complete"
   ]
  },
  {
   "cell_type": "code",
   "execution_count": 22,
   "metadata": {
    "collapsed": true
   },
   "outputs": [],
   "source": [
    "def avg_degree(G):\n",
    "    \"\"\" Returns average degree of the graph and the number of nodes\n",
    "        Input parameter: G - graph\n",
    "    \"\"\"\n",
    "    degree_values = list(G.degree().values())\n",
    "    degree_sum = sum(degree_values)\n",
    "    node_num = len(degree_values)\n",
    "    avg_degree = degree_sum/node_num\n",
    "    return avg_degree, node_num"
   ]
  },
  {
   "cell_type": "code",
   "execution_count": 25,
   "metadata": {
    "collapsed": true
   },
   "outputs": [],
   "source": [
    "files_path = \"data/graphs\""
   ]
  },
  {
   "cell_type": "code",
   "execution_count": 26,
   "metadata": {
    "collapsed": false
   },
   "outputs": [],
   "source": [
    "files = get_files(files_path)[:-1]"
   ]
  },
  {
   "cell_type": "code",
   "execution_count": 28,
   "metadata": {
    "collapsed": false
   },
   "outputs": [],
   "source": [
    "# for file in files:\n",
    "#     G = nx.read_gpickle(files_path+\"/\"+file)\n",
    "#     print(avg_degree(G))"
   ]
  },
  {
   "cell_type": "code",
   "execution_count": 29,
   "metadata": {
    "collapsed": true
   },
   "outputs": [],
   "source": [
    "# def filter_graph():"
   ]
  },
  {
   "cell_type": "code",
   "execution_count": 62,
   "metadata": {
    "collapsed": false
   },
   "outputs": [],
   "source": [
    "# import math \n",
    "# math.isnan(G.node[320122][\"gender\"])\n",
    "# SG=G.subgraph( [n for n,attrdict in G.node.items() if attrdict['gender'] != attrdict['gender'] ] )"
   ]
  },
  {
   "cell_type": "code",
   "execution_count": 57,
   "metadata": {
    "collapsed": false
   },
   "outputs": [],
   "source": [
    "# SG.node.items()"
   ]
  },
  {
   "cell_type": "code",
   "execution_count": 56,
   "metadata": {
    "collapsed": true
   },
   "outputs": [],
   "source": [
    "def filter_gender(G,gender):\n",
    "    \"\"\" Returns a filtered subgraph containing nodes with specified gender\n",
    "        Input parameters:\n",
    "        1. G - graph\n",
    "        2. gender - 'male' or 'female'\n",
    "    \"\"\"\n",
    "    return G.subgraph( [n for n,attrdict in G.node.items() if attrdict['gender'] == gender] )"
   ]
  },
  {
   "cell_type": "code",
   "execution_count": 61,
   "metadata": {
    "collapsed": false
   },
   "outputs": [],
   "source": [
    "# filter_gender(G, 'female')"
   ]
  },
  {
   "cell_type": "code",
   "execution_count": 85,
   "metadata": {
    "collapsed": false
   },
   "outputs": [],
   "source": [
    "def filter_graph(G, attribute, value):\n",
    "    \"\"\" Returns a filtered subgraph containing nodes with specified attribute\n",
    "        Input parameters:\n",
    "        1. G - graph\n",
    "        2. attribute - filter by this attribute: {gender, occupation, party, nationality}\n",
    "        3. value - filter by this value, for example 'female' in the case of gender \n",
    "    \"\"\"\n",
    "    if attribute == \"gender\":\n",
    "        return G.subgraph( [n for n,attrdict in G.node.items() if attrdict['gender'] == value] )\n",
    "    else:\n",
    "        return G.subgraph( [n for n,attrdict in G.node.items() if value in attrdict[attribute]] )"
   ]
  },
  {
   "cell_type": "code",
   "execution_count": 87,
   "metadata": {
    "collapsed": false
   },
   "outputs": [],
   "source": [
    "# for n,attrdict in filter_graph(G, \"gender\", \"female\").node.items():\n",
    "#     print(attrdict)"
   ]
  },
  {
   "cell_type": "code",
   "execution_count": 44,
   "metadata": {
    "collapsed": false
   },
   "outputs": [],
   "source": [
    "# def male_to_female_ratio(df):\n",
    "#     df[\"ratio\"] = df.apply(lambda x: x['m_nodes']/x['f_nodes'], axis=1)\n",
    "#     df = df.sort_values(\"file\")\n",
    "#     ratio = df.ratio.values\n",
    "#     return ratio"
   ]
  },
  {
   "cell_type": "code",
   "execution_count": 31,
   "metadata": {
    "collapsed": false
   },
   "outputs": [],
   "source": [
    "# def male_to_female_ratio()\n",
    "# df[\"ratio\"] = df.apply(lambda x: x['m_nodes']/x['f_nodes'], axis=1)"
   ]
  },
  {
   "cell_type": "code",
   "execution_count": 39,
   "metadata": {
    "collapsed": false
   },
   "outputs": [],
   "source": [
    "# import matplotlib.pyplot as plt\n",
    "# import numpy as np\n",
    "# # df.rato.values\n",
    "# fig = plt.figure(figsize=(8,6))\n",
    "# ax = fig.add_subplot(111)\n",
    "# plt.plot(np.arange(1,33),male_to_female_ratio(df),marker=\"o\", label=\"ratio\",color=\"black\")\n",
    "# #     plt.plot(np.arange(1,33),f_nodes, marker=\"X\",label=\"female\")\n",
    "# plt.legend(loc='upper right')\n",
    "# plt.ylim([0,30])\n",
    "# plt.yscale('linear')\n",
    "# plt.xlabel(\"year_month\")\n",
    "# ax.set_xticklabels(['2001_06','2003_06','2005_12','2008_06','2010_12','2013_06','2015_12'],rotation='vertical')\n",
    "# ax.set_xticks(np.arange(1,33,1),minor=True)\n",
    "# plt.ylabel(\"male to female ratio\")\n",
    "# # fig.savefig(\"plots/network_size_\"+name)\n",
    "# plt.show()"
   ]
  },
  {
   "cell_type": "code",
   "execution_count": 47,
   "metadata": {
    "collapsed": true
   },
   "outputs": [],
   "source": [
    "def get_ratio(x):\n",
    "    if x['f_nodes'] == 0:\n",
    "        return float('Inf')\n",
    "    else:\n",
    "        return x['m_nodes']/x['f_nodes']\n",
    "\n",
    "def male_to_female_ratio(df):\n",
    "    \"\"\" Returns ratio for number of male nodes and female nodes\n",
    "    \"\"\"\n",
    "    df[\"ratio\"] = df.apply(get_ratio, axis=1)\n",
    "    df = df.sort_values(\"file\")\n",
    "    ratio = df.ratio.values\n",
    "    return ratio"
   ]
  },
  {
   "cell_type": "code",
   "execution_count": 48,
   "metadata": {
    "collapsed": false
   },
   "outputs": [
    {
     "data": {
      "text/plain": [
       "array([         inf,          inf,  26.        ,  11.66666667,\n",
       "        10.4       ,  13.57142857,  13.54545455,   8.07407407,\n",
       "         9.625     ,   8.42424242,   9.25      ,   9.39473684,\n",
       "         8.77777778,   8.71428571,   7.89830508,   7.64179104,\n",
       "         7.87142857,   7.57317073,   7.38461538,   7.08      ,\n",
       "         7.27184466,   7.24528302,   7.07142857,   7.19642857,\n",
       "         6.85      ,   6.75609756,   6.49612403,   6.26666667,\n",
       "         5.98601399,   5.94482759,   5.85810811,   5.64935065])"
      ]
     },
     "execution_count": 48,
     "metadata": {},
     "output_type": "execute_result"
    }
   ],
   "source": [
    "male_to_female_ratio(df)"
   ]
  },
  {
   "cell_type": "code",
   "execution_count": null,
   "metadata": {
    "collapsed": true
   },
   "outputs": [],
   "source": []
  }
 ],
 "metadata": {
  "kernelspec": {
   "display_name": "Python 3",
   "language": "python",
   "name": "python3"
  },
  "language_info": {
   "codemirror_mode": {
    "name": "ipython",
    "version": 3
   },
   "file_extension": ".py",
   "mimetype": "text/x-python",
   "name": "python",
   "nbconvert_exporter": "python",
   "pygments_lexer": "ipython3",
   "version": "3.6.0"
  }
 },
 "nbformat": 4,
 "nbformat_minor": 2
}
