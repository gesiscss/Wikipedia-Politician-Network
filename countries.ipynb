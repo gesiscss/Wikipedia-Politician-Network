{
 "cells": [
  {
   "cell_type": "code",
   "execution_count": 1,
   "metadata": {
    "collapsed": true
   },
   "outputs": [],
   "source": [
    "import pandas as pd"
   ]
  },
  {
   "cell_type": "code",
   "execution_count": 2,
   "metadata": {
    "collapsed": true
   },
   "outputs": [],
   "source": [
    "data = pd.read_json(\"data/politicians_with_gender.json\")"
   ]
  },
  {
   "cell_type": "code",
   "execution_count": 3,
   "metadata": {
    "collapsed": false
   },
   "outputs": [
    {
     "data": {
      "text/html": [
       "<div>\n",
       "<table border=\"1\" class=\"dataframe\">\n",
       "  <thead>\n",
       "    <tr style=\"text-align: right;\">\n",
       "      <th></th>\n",
       "      <th>#DBpURL</th>\n",
       "      <th>ID</th>\n",
       "      <th>WikiURL</th>\n",
       "      <th>birthDate</th>\n",
       "      <th>deathDate</th>\n",
       "      <th>first_name</th>\n",
       "      <th>fpp_gender</th>\n",
       "      <th>full_name</th>\n",
       "      <th>gender</th>\n",
       "      <th>genderize</th>\n",
       "      <th>name</th>\n",
       "      <th>nationality</th>\n",
       "      <th>occupation</th>\n",
       "      <th>party</th>\n",
       "    </tr>\n",
       "  </thead>\n",
       "  <tbody>\n",
       "    <tr>\n",
       "      <th>0</th>\n",
       "      <td>http://dbpedia.org/resource/Quincy_Timberlake</td>\n",
       "      <td>11</td>\n",
       "      <td>http://en.wikipedia.org/wiki/Quincy_Timberlake</td>\n",
       "      <td>3.252096e+11</td>\n",
       "      <td>NaN</td>\n",
       "      <td>quincy</td>\n",
       "      <td>None</td>\n",
       "      <td>Quincy+Timberlake</td>\n",
       "      <td>male</td>\n",
       "      <td>None</td>\n",
       "      <td>[ quincy timberlake ,  timberlake quincy ]</td>\n",
       "      <td>[kenyan]</td>\n",
       "      <td>[politician]</td>\n",
       "      <td>[]</td>\n",
       "    </tr>\n",
       "    <tr>\n",
       "      <th>1</th>\n",
       "      <td>http://dbpedia.org/resource/Fanny_Edelman</td>\n",
       "      <td>29</td>\n",
       "      <td>http://en.wikipedia.org/wiki/Fanny_Edelman</td>\n",
       "      <td>-1.856995e+12</td>\n",
       "      <td>1.320106e+12</td>\n",
       "      <td>fanny</td>\n",
       "      <td>None</td>\n",
       "      <td>Fanny+Edelman</td>\n",
       "      <td>female</td>\n",
       "      <td>None</td>\n",
       "      <td>[ fanny edelman ,  edelman fanny ]</td>\n",
       "      <td>[argentine]</td>\n",
       "      <td>[politician]</td>\n",
       "      <td>[]</td>\n",
       "    </tr>\n",
       "    <tr>\n",
       "      <th>10</th>\n",
       "      <td>http://dbpedia.org/resource/Georges_Colombier</td>\n",
       "      <td>252</td>\n",
       "      <td>http://en.wikipedia.org/wiki/Georges_Colombier</td>\n",
       "      <td>-9.409824e+11</td>\n",
       "      <td>NaN</td>\n",
       "      <td>georges</td>\n",
       "      <td>None</td>\n",
       "      <td>Georges+Colombier</td>\n",
       "      <td>male</td>\n",
       "      <td>None</td>\n",
       "      <td>[ colombier georges ]</td>\n",
       "      <td>[french]</td>\n",
       "      <td>[politician]</td>\n",
       "      <td>[ union for a popular movement ]</td>\n",
       "    </tr>\n",
       "    <tr>\n",
       "      <th>100</th>\n",
       "      <td>http://dbpedia.org/resource/Mira_Spivak</td>\n",
       "      <td>1858</td>\n",
       "      <td>http://en.wikipedia.org/wiki/Mira_Spivak</td>\n",
       "      <td>-1.119485e+12</td>\n",
       "      <td>NaN</td>\n",
       "      <td>mira</td>\n",
       "      <td>None</td>\n",
       "      <td>Mira+Spivak</td>\n",
       "      <td>female</td>\n",
       "      <td>None</td>\n",
       "      <td>[ mira spivak ]</td>\n",
       "      <td>[canadian, ukrainian]</td>\n",
       "      <td>[politician]</td>\n",
       "      <td>[ progressive conservative party of canada ]</td>\n",
       "    </tr>\n",
       "    <tr>\n",
       "      <th>1000</th>\n",
       "      <td>http://dbpedia.org/resource/Auguste_Beernaert</td>\n",
       "      <td>16847</td>\n",
       "      <td>http://en.wikipedia.org/wiki/Auguste_Beernaert</td>\n",
       "      <td>-4.431715e+12</td>\n",
       "      <td>-1.806278e+12</td>\n",
       "      <td>auguste</td>\n",
       "      <td>None</td>\n",
       "      <td>Auguste+Beernaert</td>\n",
       "      <td>male</td>\n",
       "      <td>male</td>\n",
       "      <td>[ auguste beernaert ]</td>\n",
       "      <td>[belgian]</td>\n",
       "      <td>[politician]</td>\n",
       "      <td>[ catholic party (belgium) ]</td>\n",
       "    </tr>\n",
       "  </tbody>\n",
       "</table>\n",
       "</div>"
      ],
      "text/plain": [
       "                                            #DBpURL     ID  \\\n",
       "0     http://dbpedia.org/resource/Quincy_Timberlake     11   \n",
       "1         http://dbpedia.org/resource/Fanny_Edelman     29   \n",
       "10    http://dbpedia.org/resource/Georges_Colombier    252   \n",
       "100         http://dbpedia.org/resource/Mira_Spivak   1858   \n",
       "1000  http://dbpedia.org/resource/Auguste_Beernaert  16847   \n",
       "\n",
       "                                             WikiURL     birthDate  \\\n",
       "0     http://en.wikipedia.org/wiki/Quincy_Timberlake  3.252096e+11   \n",
       "1         http://en.wikipedia.org/wiki/Fanny_Edelman -1.856995e+12   \n",
       "10    http://en.wikipedia.org/wiki/Georges_Colombier -9.409824e+11   \n",
       "100         http://en.wikipedia.org/wiki/Mira_Spivak -1.119485e+12   \n",
       "1000  http://en.wikipedia.org/wiki/Auguste_Beernaert -4.431715e+12   \n",
       "\n",
       "         deathDate first_name fpp_gender          full_name  gender genderize  \\\n",
       "0              NaN     quincy       None  Quincy+Timberlake    male      None   \n",
       "1     1.320106e+12      fanny       None      Fanny+Edelman  female      None   \n",
       "10             NaN    georges       None  Georges+Colombier    male      None   \n",
       "100            NaN       mira       None        Mira+Spivak  female      None   \n",
       "1000 -1.806278e+12    auguste       None  Auguste+Beernaert    male      male   \n",
       "\n",
       "                                            name            nationality  \\\n",
       "0     [ quincy timberlake ,  timberlake quincy ]               [kenyan]   \n",
       "1             [ fanny edelman ,  edelman fanny ]            [argentine]   \n",
       "10                         [ colombier georges ]               [french]   \n",
       "100                              [ mira spivak ]  [canadian, ukrainian]   \n",
       "1000                       [ auguste beernaert ]              [belgian]   \n",
       "\n",
       "        occupation                                         party  \n",
       "0     [politician]                                            []  \n",
       "1     [politician]                                            []  \n",
       "10    [politician]              [ union for a popular movement ]  \n",
       "100   [politician]  [ progressive conservative party of canada ]  \n",
       "1000  [politician]                  [ catholic party (belgium) ]  "
      ]
     },
     "execution_count": 3,
     "metadata": {},
     "output_type": "execute_result"
    }
   ],
   "source": [
    "data.head()"
   ]
  },
  {
   "cell_type": "code",
   "execution_count": 6,
   "metadata": {
    "collapsed": false
   },
   "outputs": [],
   "source": [
    "nation_list = data.nationality.values"
   ]
  },
  {
   "cell_type": "code",
   "execution_count": 7,
   "metadata": {
    "collapsed": true
   },
   "outputs": [],
   "source": [
    "lst_nations = [x for sublist in nation_list for x in sublist]"
   ]
  },
  {
   "cell_type": "code",
   "execution_count": 10,
   "metadata": {
    "collapsed": false
   },
   "outputs": [
    {
     "data": {
      "text/html": [
       "<div>\n",
       "<table border=\"1\" class=\"dataframe\">\n",
       "  <thead>\n",
       "    <tr style=\"text-align: right;\">\n",
       "      <th></th>\n",
       "      <th>name</th>\n",
       "    </tr>\n",
       "  </thead>\n",
       "  <tbody>\n",
       "    <tr>\n",
       "      <th>0</th>\n",
       "      <td>kenyan</td>\n",
       "    </tr>\n",
       "    <tr>\n",
       "      <th>1</th>\n",
       "      <td>argentine</td>\n",
       "    </tr>\n",
       "    <tr>\n",
       "      <th>2</th>\n",
       "      <td>french</td>\n",
       "    </tr>\n",
       "    <tr>\n",
       "      <th>3</th>\n",
       "      <td>canadian</td>\n",
       "    </tr>\n",
       "    <tr>\n",
       "      <th>4</th>\n",
       "      <td>ukrainian</td>\n",
       "    </tr>\n",
       "  </tbody>\n",
       "</table>\n",
       "</div>"
      ],
      "text/plain": [
       "        name\n",
       "0     kenyan\n",
       "1  argentine\n",
       "2     french\n",
       "3   canadian\n",
       "4  ukrainian"
      ]
     },
     "execution_count": 10,
     "metadata": {},
     "output_type": "execute_result"
    }
   ],
   "source": [
    "nations = pd.DataFrame(lst_nations)\n",
    "nations.columns = [\"name\"]\n",
    "nations.head()"
   ]
  },
  {
   "cell_type": "code",
   "execution_count": 15,
   "metadata": {
    "collapsed": false
   },
   "outputs": [
    {
     "name": "stdout",
     "output_type": "stream",
     "text": [
      "Number of nations: 367\n"
     ]
    }
   ],
   "source": [
    "print(\"Number of nations:\", len(nations.name.unique()))"
   ]
  },
  {
   "cell_type": "code",
   "execution_count": 29,
   "metadata": {
    "collapsed": false
   },
   "outputs": [
    {
     "data": {
      "text/html": [
       "<div>\n",
       "<table border=\"1\" class=\"dataframe\">\n",
       "  <thead>\n",
       "    <tr style=\"text-align: right;\">\n",
       "      <th></th>\n",
       "      <th>name</th>\n",
       "      <th>nationality</th>\n",
       "    </tr>\n",
       "  </thead>\n",
       "  <tbody>\n",
       "    <tr>\n",
       "      <th>0</th>\n",
       "      <td>6080</td>\n",
       "      <td>american</td>\n",
       "    </tr>\n",
       "    <tr>\n",
       "      <th>1</th>\n",
       "      <td>3259</td>\n",
       "      <td>indian</td>\n",
       "    </tr>\n",
       "    <tr>\n",
       "      <th>2</th>\n",
       "      <td>2442</td>\n",
       "      <td>mexican</td>\n",
       "    </tr>\n",
       "    <tr>\n",
       "      <th>3</th>\n",
       "      <td>2419</td>\n",
       "      <td>french</td>\n",
       "    </tr>\n",
       "    <tr>\n",
       "      <th>4</th>\n",
       "      <td>1927</td>\n",
       "      <td>norwegian</td>\n",
       "    </tr>\n",
       "  </tbody>\n",
       "</table>\n",
       "</div>"
      ],
      "text/plain": [
       "   name nationality\n",
       "0  6080    american\n",
       "1  3259      indian\n",
       "2  2442     mexican\n",
       "3  2419      french\n",
       "4  1927   norwegian"
      ]
     },
     "execution_count": 29,
     "metadata": {},
     "output_type": "execute_result"
    }
   ],
   "source": [
    "x = pd.DataFrame(nations.name.value_counts())\n",
    "x['nationality'] = x.index\n",
    "x.reset_index(level=0, inplace=True)\n",
    "x = x.drop(\"index\", axis=1)\n",
    "x.head()"
   ]
  },
  {
   "cell_type": "code",
   "execution_count": 30,
   "metadata": {
    "collapsed": true
   },
   "outputs": [],
   "source": [
    "x.to_csv(\"data/nationalities.csv\")"
   ]
  },
  {
   "cell_type": "code",
   "execution_count": null,
   "metadata": {
    "collapsed": true
   },
   "outputs": [],
   "source": []
  }
 ],
 "metadata": {
  "kernelspec": {
   "display_name": "Python 3",
   "language": "python",
   "name": "python3"
  },
  "language_info": {
   "codemirror_mode": {
    "name": "ipython",
    "version": 3
   },
   "file_extension": ".py",
   "mimetype": "text/x-python",
   "name": "python",
   "nbconvert_exporter": "python",
   "pygments_lexer": "ipython3",
   "version": "3.6.0"
  }
 },
 "nbformat": 4,
 "nbformat_minor": 2
}
