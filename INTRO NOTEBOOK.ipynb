{
 "cells": [
  {
   "cell_type": "code",
   "execution_count": 7,
   "metadata": {},
   "outputs": [],
   "source": [
    "import pandas as pd \n",
    "%matplotlib inline"
   ]
  },
  {
   "cell_type": "markdown",
   "metadata": {},
   "source": [
    "This is a notebook with the project overview, explaining important files, notebooks and scripts to be considered when exploring the code."
   ]
  },
  {
   "cell_type": "markdown",
   "metadata": {},
   "source": [
    "# WORKFLOW"
   ]
  },
  {
   "cell_type": "markdown",
   "metadata": {},
   "source": [
    "The data source is available on the following repository https://datorium.gesis.org/xmlui/handle/10.7802/1515. There are two datasources to consider:\n",
    "* edge-list \n",
    "* politician metadata"
   ]
  },
  {
   "cell_type": "markdown",
   "metadata": {},
   "source": [
    "The **edge-list** directory contains csv files. In each of these files, an edge list with node ID's can be found, noting which nodes are connected by an edge and how is the edge directed. The node from which the edge is directed can be found in the first column, and the node to which the edge is directed can be found in the second column."
   ]
  },
  {
   "cell_type": "code",
   "execution_count": 4,
   "metadata": {},
   "outputs": [
    {
     "data": {
      "text/html": [
       "<div>\n",
       "<style scoped>\n",
       "    .dataframe tbody tr th:only-of-type {\n",
       "        vertical-align: middle;\n",
       "    }\n",
       "\n",
       "    .dataframe tbody tr th {\n",
       "        vertical-align: top;\n",
       "    }\n",
       "\n",
       "    .dataframe thead th {\n",
       "        text-align: right;\n",
       "    }\n",
       "</style>\n",
       "<table border=\"1\" class=\"dataframe\">\n",
       "  <thead>\n",
       "    <tr style=\"text-align: right;\">\n",
       "      <th></th>\n",
       "      <th>from</th>\n",
       "      <th>to</th>\n",
       "    </tr>\n",
       "  </thead>\n",
       "  <tbody>\n",
       "    <tr>\n",
       "      <th>0</th>\n",
       "      <td>1143861</td>\n",
       "      <td>81474</td>\n",
       "    </tr>\n",
       "    <tr>\n",
       "      <th>1</th>\n",
       "      <td>204249</td>\n",
       "      <td>786492</td>\n",
       "    </tr>\n",
       "    <tr>\n",
       "      <th>2</th>\n",
       "      <td>204249</td>\n",
       "      <td>168402</td>\n",
       "    </tr>\n",
       "    <tr>\n",
       "      <th>3</th>\n",
       "      <td>421871</td>\n",
       "      <td>168402</td>\n",
       "    </tr>\n",
       "    <tr>\n",
       "      <th>4</th>\n",
       "      <td>421871</td>\n",
       "      <td>438519</td>\n",
       "    </tr>\n",
       "  </tbody>\n",
       "</table>\n",
       "</div>"
      ],
      "text/plain": [
       "      from      to\n",
       "0  1143861   81474\n",
       "1   204249  786492\n",
       "2   204249  168402\n",
       "3   421871  168402\n",
       "4   421871  438519"
      ]
     },
     "execution_count": 4,
     "metadata": {},
     "output_type": "execute_result"
    }
   ],
   "source": [
    "pd.read_csv(\"data/edge-list/2001_06.csv\").head()"
   ]
  },
  {
   "cell_type": "markdown",
   "metadata": {},
   "source": [
    "The metadata file contains information on politicians found in DBPedia. However, not all of (their ID's) them are contained in the edge-list files. For example, in the metadata file, there is a politician with ID xxxx, but it can not be found in any of the edge-list files. Therefore, the metadata file was filtered, and the politician_data_inside was created and saved as a pickle.  "
   ]
  },
  {
   "cell_type": "code",
   "execution_count": 5,
   "metadata": {},
   "outputs": [
    {
     "data": {
      "text/html": [
       "<div>\n",
       "<style scoped>\n",
       "    .dataframe tbody tr th:only-of-type {\n",
       "        vertical-align: middle;\n",
       "    }\n",
       "\n",
       "    .dataframe tbody tr th {\n",
       "        vertical-align: top;\n",
       "    }\n",
       "\n",
       "    .dataframe thead th {\n",
       "        text-align: right;\n",
       "    }\n",
       "</style>\n",
       "<table border=\"1\" class=\"dataframe\">\n",
       "  <thead>\n",
       "    <tr style=\"text-align: right;\">\n",
       "      <th></th>\n",
       "      <th>#DBpURL</th>\n",
       "      <th>ID</th>\n",
       "      <th>WikiURL</th>\n",
       "      <th>birthDate</th>\n",
       "      <th>deathDate</th>\n",
       "      <th>first_name</th>\n",
       "      <th>fpp_gender</th>\n",
       "      <th>full_name</th>\n",
       "      <th>gender</th>\n",
       "      <th>genderize</th>\n",
       "      <th>name</th>\n",
       "      <th>nationality</th>\n",
       "      <th>occupation</th>\n",
       "      <th>party</th>\n",
       "    </tr>\n",
       "  </thead>\n",
       "  <tbody>\n",
       "    <tr>\n",
       "      <th>0</th>\n",
       "      <td>http://dbpedia.org/resource/Quincy_Timberlake</td>\n",
       "      <td>11</td>\n",
       "      <td>http://en.wikipedia.org/wiki/Quincy_Timberlake</td>\n",
       "      <td>1980-04-22 00:00:00</td>\n",
       "      <td>None</td>\n",
       "      <td>quincy</td>\n",
       "      <td>NaN</td>\n",
       "      <td>Quincy+Timberlake</td>\n",
       "      <td>male</td>\n",
       "      <td>NaN</td>\n",
       "      <td>[ quincy timberlake ,  timberlake quincy ]</td>\n",
       "      <td>[kenyan]</td>\n",
       "      <td>[politician]</td>\n",
       "      <td>[]</td>\n",
       "    </tr>\n",
       "    <tr>\n",
       "      <th>5</th>\n",
       "      <td>http://dbpedia.org/resource/Nizamettin_Erkmen</td>\n",
       "      <td>144</td>\n",
       "      <td>http://en.wikipedia.org/wiki/Nizamettin_Erkmen</td>\n",
       "      <td>None</td>\n",
       "      <td>1990-10-24 00:00:00</td>\n",
       "      <td>nizamettin</td>\n",
       "      <td>NaN</td>\n",
       "      <td>Nizamettin+Erkmen</td>\n",
       "      <td>male</td>\n",
       "      <td>NaN</td>\n",
       "      <td>[ erkmen nizamettin ]</td>\n",
       "      <td>[turkish]</td>\n",
       "      <td>[politician]</td>\n",
       "      <td>[]</td>\n",
       "    </tr>\n",
       "    <tr>\n",
       "      <th>6</th>\n",
       "      <td>http://dbpedia.org/resource/Claudio_Scajola</td>\n",
       "      <td>183</td>\n",
       "      <td>http://en.wikipedia.org/wiki/Claudio_Scajola</td>\n",
       "      <td>1948-01-15 00:00:00</td>\n",
       "      <td>None</td>\n",
       "      <td>claudio</td>\n",
       "      <td>NaN</td>\n",
       "      <td>Claudio+Scajola</td>\n",
       "      <td>male</td>\n",
       "      <td>NaN</td>\n",
       "      <td>[ claudio scajola ]</td>\n",
       "      <td>[italian]</td>\n",
       "      <td>[politician]</td>\n",
       "      <td>[ forza italia (2013) ]</td>\n",
       "    </tr>\n",
       "    <tr>\n",
       "      <th>8</th>\n",
       "      <td>http://dbpedia.org/resource/Thomas_Clausen_(Lo...</td>\n",
       "      <td>246</td>\n",
       "      <td>http://en.wikipedia.org/wiki/Thomas_Clausen_(L...</td>\n",
       "      <td>1939-12-22 00:00:00</td>\n",
       "      <td>2002-02-20 00:00:00</td>\n",
       "      <td>thomas</td>\n",
       "      <td>NaN</td>\n",
       "      <td>Thomas+Clausen+(Louisiana)</td>\n",
       "      <td>male</td>\n",
       "      <td>NaN</td>\n",
       "      <td>[ thomas greenwood clausen ,  clausen thomas g...</td>\n",
       "      <td>[american]</td>\n",
       "      <td>[politician]</td>\n",
       "      <td>[ democratic party (united states) ]</td>\n",
       "    </tr>\n",
       "    <tr>\n",
       "      <th>9</th>\n",
       "      <td>http://dbpedia.org/resource/Yang_Ti-liang</td>\n",
       "      <td>248</td>\n",
       "      <td>http://en.wikipedia.org/wiki/Yang_Ti-liang</td>\n",
       "      <td>1929-06-30 00:00:00</td>\n",
       "      <td>None</td>\n",
       "      <td>yang</td>\n",
       "      <td>NaN</td>\n",
       "      <td>Yang+Ti-liang</td>\n",
       "      <td>male</td>\n",
       "      <td>NaN</td>\n",
       "      <td>[ ti-liang yang ]</td>\n",
       "      <td>[]</td>\n",
       "      <td>[politician]</td>\n",
       "      <td>[]</td>\n",
       "    </tr>\n",
       "  </tbody>\n",
       "</table>\n",
       "</div>"
      ],
      "text/plain": [
       "                                             #DBpURL   ID  \\\n",
       "0      http://dbpedia.org/resource/Quincy_Timberlake   11   \n",
       "5      http://dbpedia.org/resource/Nizamettin_Erkmen  144   \n",
       "6        http://dbpedia.org/resource/Claudio_Scajola  183   \n",
       "8  http://dbpedia.org/resource/Thomas_Clausen_(Lo...  246   \n",
       "9          http://dbpedia.org/resource/Yang_Ti-liang  248   \n",
       "\n",
       "                                             WikiURL            birthDate  \\\n",
       "0     http://en.wikipedia.org/wiki/Quincy_Timberlake  1980-04-22 00:00:00   \n",
       "5     http://en.wikipedia.org/wiki/Nizamettin_Erkmen                 None   \n",
       "6       http://en.wikipedia.org/wiki/Claudio_Scajola  1948-01-15 00:00:00   \n",
       "8  http://en.wikipedia.org/wiki/Thomas_Clausen_(L...  1939-12-22 00:00:00   \n",
       "9         http://en.wikipedia.org/wiki/Yang_Ti-liang  1929-06-30 00:00:00   \n",
       "\n",
       "             deathDate  first_name fpp_gender                   full_name  \\\n",
       "0                 None      quincy        NaN           Quincy+Timberlake   \n",
       "5  1990-10-24 00:00:00  nizamettin        NaN           Nizamettin+Erkmen   \n",
       "6                 None     claudio        NaN             Claudio+Scajola   \n",
       "8  2002-02-20 00:00:00      thomas        NaN  Thomas+Clausen+(Louisiana)   \n",
       "9                 None        yang        NaN               Yang+Ti-liang   \n",
       "\n",
       "  gender genderize                                               name  \\\n",
       "0   male       NaN         [ quincy timberlake ,  timberlake quincy ]   \n",
       "5   male       NaN                              [ erkmen nizamettin ]   \n",
       "6   male       NaN                                [ claudio scajola ]   \n",
       "8   male       NaN  [ thomas greenwood clausen ,  clausen thomas g...   \n",
       "9   male       NaN                                  [ ti-liang yang ]   \n",
       "\n",
       "  nationality    occupation                                 party  \n",
       "0    [kenyan]  [politician]                                    []  \n",
       "5   [turkish]  [politician]                                    []  \n",
       "6   [italian]  [politician]               [ forza italia (2013) ]  \n",
       "8  [american]  [politician]  [ democratic party (united states) ]  \n",
       "9          []  [politician]                                    []  "
      ]
     },
     "execution_count": 5,
     "metadata": {},
     "output_type": "execute_result"
    }
   ],
   "source": [
    "pd.read_pickle(\"data/politician_data_inside\").head()"
   ]
  },
  {
   "cell_type": "markdown",
   "metadata": {},
   "source": [
    "# Steps for preparing the data"
   ]
  },
  {
   "cell_type": "markdown",
   "metadata": {},
   "source": [
    "1. As we do not need a network for every month, we first need to filter the edge lists according to preference. This is done with the script:\n",
    "```python\n",
    "python filter_edgelist_data.py [edge_list_dir_path] [path_save] [interval]\n",
    "```\n",
    "Every file contains an edge lists for a specific month, i.e. 2016_5.csv - this is May 2016. Sometimes it is neded to filter out the files to a monthly **interval** 4m (every 4 months),6m (every 6 months),12m (every 12 months). Runing this script one should get all files in specified folder (**edge_list_dir_path**), filter them according to the specified **interval**, and store them in the appropriate directory **path save**\n",
    "\n",
    "\n",
    "2. Now that the edge-list files are filtered, we can build directed graphs: \n",
    "\n",
    "```python\n",
    "python save_network.py [path_files] [path_save] [graph_type]\n",
    "```\n",
    "\n",
    "The script iterates through the specified edge list files (**path_files**) , loads them as networkx graphs, and assignes attributes to all nodes of the graph. Finnaly, it saves each graph in a pickle in the specified location (**save_path**). It is also posible to choose the type of graph (**graph_type**) 'dir' for directed or 'undir' for undirected. Additionaly, a graph size (number of nodes and edges) statistic is generated in the end.\n",
    "\n",
    "The attributes for each politician are storred on this path: **data/politicians_with_gender**\n",
    "\n",
    "\n",
    "3. In case of need to filter specific graphs, there is a scrpit: \n",
    "```python\n",
    "python filter_graphs.py [path_copy] [path_paste] [filter.csv]\n",
    "```\n",
    "This script copies files from **path_copy** to **path_paste**. The files to be copied are specified in the **filter.csv** file.\n",
    "\n",
    "\n",
    "4. To calculate the network properties (in-degree, out-degree, eigenvector cenntrality, k-core) for each node and save them as attributes we use the following notebook: **add_stats_to_network.ipynb**\n",
    "\n",
    "\n",
    "5. To add the **efficiency** attribute to the nodes, we need to calculate the efficiency by using a Python 2 implementation using the graph tool. This contains a few steps and pieces of code \n",
    "\n",
    "The script **calculate_efficiency.py** uses **graph_tool** which has Python 2 support only. The methods from this script are used in the notebook: **add_efficiency.ipynb**\n",
    "\n",
    "6. To add the year when the page was added to wikipedia, we can use the edge-list files, because we can see when an ID has first sown up. Using this data we build cohorts of ID's that have entered Wikipedia in the same year. The cohorts are created and stored using the notebook below:\n",
    "\n",
    "    **cohorts.ipynb**\n",
    "    \n",
    "7. The metadata file stores everything (dates, lists etc.) as strings, this is handled (converted back to proper data type) using:\n",
    "\n",
    "    **initial_clean.ipynb**\n",
    "    \n",
    "8. Finnaly all the additionaly added information can is combined with this notebook:\n",
    "\n",
    "    **connecting_data.ipynb**"
   ]
  },
  {
   "cell_type": "markdown",
   "metadata": {},
   "source": [
    "# Exploratory analysis"
   ]
  },
  {
   "cell_type": "markdown",
   "metadata": {},
   "source": [
    "Different explorations can be found in:\n",
    "* /exploration/\n",
    "* /pageviews/pageviews_exploration.ipynb\n",
    "* /model/explore.ipynb\n",
    "* exploration/dataset_check.ipynb\n",
    "* arcticle_length.ipynb"
   ]
  },
  {
   "cell_type": "markdown",
   "metadata": {},
   "source": [
    "# Kolmogorov-Smirnov Test "
   ]
  },
  {
   "cell_type": "markdown",
   "metadata": {},
   "source": [
    "We use this to find the difference betwwen the distributions of network properties (in-degree, out-degree, k-core, eigenvector centrality) using the code in the notebook below:\n",
    "*  **d_test.ipynb**"
   ]
  },
  {
   "cell_type": "markdown",
   "metadata": {},
   "source": [
    "# Pageview prediction and Gender Classification"
   ]
  },
  {
   "cell_type": "markdown",
   "metadata": {},
   "source": [
    "This is done in the following notebooks:\n",
    "* model/views_prediction.ipynb\n",
    "* model/gender_clf.ipynb"
   ]
  },
  {
   "cell_type": "markdown",
   "metadata": {},
   "source": [
    "The prepared data is divided into general data and data per country, so if you want all the data:\n",
    "* **data/final_sets/model or data/final_sets/model_large**\n",
    "If you want to train the model on specific countries, then use (the example is for american politicians in 2016): \n",
    "* **data/final_sets/countires/2016_american**"
   ]
  },
  {
   "cell_type": "markdown",
   "metadata": {},
   "source": [
    "# Network Size plots"
   ]
  },
  {
   "cell_type": "markdown",
   "metadata": {},
   "source": [
    "To produce plots like the one below, use the following:\n",
    "* network_size.ipynb "
   ]
  },
  {
   "cell_type": "markdown",
   "metadata": {},
   "source": [
    "<img src=\"plots/network_size/Ratio (Global, US, FRA, GER, RUS, GB) and Network size.png\">"
   ]
  },
  {
   "cell_type": "markdown",
   "metadata": {},
   "source": [
    "# Other"
   ]
  },
  {
   "cell_type": "markdown",
   "metadata": {},
   "source": [
    "Exploration about unidirectional links can be found in the notebook: \n",
    "* **exploration/unidirectional_links.ipynb**"
   ]
  },
  {
   "cell_type": "markdown",
   "metadata": {},
   "source": [
    "Gender detection is done using the software from **https://github.com/gesiscss/image-gender-inference**"
   ]
  },
  {
   "cell_type": "markdown",
   "metadata": {},
   "source": [
    "Downloading Pageview data is done with the software from: **https://github.com/gesiscss/wiki-download-parse-page-views**"
   ]
  },
  {
   "cell_type": "markdown",
   "metadata": {},
   "source": [
    "# FILES"
   ]
  },
  {
   "cell_type": "code",
   "execution_count": null,
   "metadata": {},
   "outputs": [],
   "source": [
    "NOTEBOOKS"
   ]
  }
 ],
 "metadata": {
  "kernelspec": {
   "display_name": "Python 3",
   "language": "python",
   "name": "python3"
  },
  "language_info": {
   "codemirror_mode": {
    "name": "ipython",
    "version": 3
   },
   "file_extension": ".py",
   "mimetype": "text/x-python",
   "name": "python",
   "nbconvert_exporter": "python",
   "pygments_lexer": "ipython3",
   "version": "3.6.5"
  }
 },
 "nbformat": 4,
 "nbformat_minor": 2
}
