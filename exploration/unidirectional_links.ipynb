{
 "cells": [
  {
   "cell_type": "code",
   "execution_count": 1,
   "metadata": {},
   "outputs": [],
   "source": [
    "import pandas as pd \n",
    "import networkx as nx\n",
    "from os import listdir\n",
    "from os.path import isfile, join\n",
    "import seaborn as sns"
   ]
  },
  {
   "cell_type": "code",
   "execution_count": 2,
   "metadata": {},
   "outputs": [],
   "source": [
    "def get_files(path,sufix):\n",
    "    \"\"\" Returns list of files on specified path with specified sufix\n",
    "    \"\"\"\n",
    "    mypath = path\n",
    "    return [f for f in listdir(mypath) if isfile(join(mypath, f)) and f.endswith(sufix)]"
   ]
  },
  {
   "cell_type": "code",
   "execution_count": 3,
   "metadata": {},
   "outputs": [],
   "source": [
    "def is_unidirectional(graph, node1, node2):\n",
    "    if graph.has_edge(node1, node2) == graph.has_edge(node2, node1):\n",
    "        return False\n",
    "    return True"
   ]
  },
  {
   "cell_type": "code",
   "execution_count": 4,
   "metadata": {},
   "outputs": [],
   "source": [
    "def count_unidirectional_pairs(d_graph):\n",
    "    edges = d_graph.edges()\n",
    "    count = 0\n",
    "    for edge_pair in edges:\n",
    "        if is_unidirectional(d_graph, edge_pair[0], edge_pair[1]) == True:\n",
    "            count += 1 \n",
    "    return count"
   ]
  },
  {
   "cell_type": "code",
   "execution_count": 5,
   "metadata": {},
   "outputs": [],
   "source": [
    "def fraction_unidirected_pairs(d_graph):\n",
    "    return round(count_unidirectional_pairs(d_graph)/len(d_graph.edges()),2)"
   ]
  },
  {
   "cell_type": "markdown",
   "metadata": {},
   "source": [
    "# Fraction of unidirectional links in the network over time (General)"
   ]
  },
  {
   "cell_type": "code",
   "execution_count": 6,
   "metadata": {},
   "outputs": [],
   "source": [
    "files = get_files(\"../data/graphs/\", \"dir\")"
   ]
  },
  {
   "cell_type": "code",
   "execution_count": 7,
   "metadata": {},
   "outputs": [],
   "source": [
    "lst = []\n",
    "for file in files: \n",
    "    d_graph = nx.read_gpickle(join(\"../data/graphs\", file))\n",
    "    lst.append(fraction_unidirected_pairs(d_graph))"
   ]
  },
  {
   "cell_type": "code",
   "execution_count": 8,
   "metadata": {},
   "outputs": [
    {
     "data": {
      "image/png": "[encoded data removed]",
      "text/plain": [
       "<Figure size 432x288 with 1 Axes>"
      ]
     },
     "metadata": {},
     "output_type": "display_data"
    }
   ],
   "source": [
    "g = sns.pointplot([files.index(i) for i in files], lst)"
   ]
  },
  {
   "cell_type": "markdown",
   "metadata": {},
   "source": [
    "# Fraction of unidirectional links (Male to Female and Female to Male) in the network over time (General)"
   ]
  },
  {
   "cell_type": "code",
   "execution_count": 45,
   "metadata": {},
   "outputs": [],
   "source": [
    "d_graph = nx.read_gpickle(join(\"../data/graphs\", files[7]))"
   ]
  },
  {
   "cell_type": "code",
   "execution_count": 47,
   "metadata": {},
   "outputs": [],
   "source": [
    "def filter_for_gender(d_graph, gender_from, gender_to):\n",
    "    edges = d_graph.edges()\n",
    "    print(len(edges))\n",
    "    for edge_pair in edges:\n",
    "        if d_graph.node[edge_pair[0]][\"gender\"] != gender_from or d_graph.node[edge_pair[1]][\"gender\"] != gender_to:\n",
    "            edges.remove(edge_pair)\n",
    "    print(len(edges))\n",
    "    return edges"
   ]
  },
  {
   "cell_type": "code",
   "execution_count": 48,
   "metadata": {},
   "outputs": [],
   "source": [
    "# g = nx.DiGraph(filter_for_gender(d_graph, \"female\", \"male\"))"
   ]
  },
  {
   "cell_type": "code",
   "execution_count": 49,
   "metadata": {},
   "outputs": [],
   "source": [
    "def fraction_unidirected_pairs_gender(graph, gender_from, gender_to):\n",
    "    edges = filter_for_gender(graph, gender_from, gender_to)\n",
    "    dg = nx.DiGraph(edges)\n",
    "    return fraction_unidirected_pairs(dg)"
   ]
  },
  {
   "cell_type": "code",
   "execution_count": 50,
   "metadata": {},
   "outputs": [],
   "source": [
    "# g.nodes()"
   ]
  },
  {
   "cell_type": "code",
   "execution_count": 51,
   "metadata": {},
   "outputs": [
    {
     "name": "stdout",
     "output_type": "stream",
     "text": [
      "9586\n",
      "4904\n"
     ]
    },
    {
     "data": {
      "text/plain": [
       "0.8"
      ]
     },
     "execution_count": 51,
     "metadata": {},
     "output_type": "execute_result"
    }
   ],
   "source": [
    "fraction_unidirected_pairs_gender(d_graph, \"male\", \"female\")"
   ]
  },
  {
   "cell_type": "code",
   "execution_count": 52,
   "metadata": {},
   "outputs": [
    {
     "name": "stdout",
     "output_type": "stream",
     "text": [
      "9586\n",
      "5008\n"
     ]
    },
    {
     "data": {
      "text/plain": [
       "0.83"
      ]
     },
     "execution_count": 52,
     "metadata": {},
     "output_type": "execute_result"
    }
   ],
   "source": [
    "fraction_unidirected_pairs_gender(d_graph, \"female\", \"male\")"
   ]
  },
  {
   "cell_type": "code",
   "execution_count": 53,
   "metadata": {},
   "outputs": [],
   "source": [
    "def gender_fractions_over_time(files, gender_from, gender_to):\n",
    "    lst = []\n",
    "    for file in files: \n",
    "        d_graph = nx.read_gpickle(join(\"../data/graphs\", file))\n",
    "        lst.append(fraction_unidirected_pairs_gender(d_graph, gender_from, gender_to))\n",
    "    return lst"
   ]
  },
  {
   "cell_type": "code",
   "execution_count": 54,
   "metadata": {},
   "outputs": [
    {
     "name": "stdout",
     "output_type": "stream",
     "text": [
      "9\n",
      "4\n",
      "160\n",
      "80\n",
      "341\n",
      "174\n",
      "612\n",
      "312\n",
      "1286\n",
      "658\n",
      "2618\n",
      "1341\n",
      "5327\n",
      "2720\n",
      "9586\n",
      "4904\n",
      "13356\n",
      "6842\n",
      "17911\n",
      "9192\n",
      "23434\n",
      "12024\n",
      "29435\n",
      "15146\n",
      "36992\n",
      "19040\n",
      "44396\n",
      "22868\n",
      "51686\n",
      "26660\n",
      "58244\n",
      "30023\n",
      "64673\n",
      "33365\n",
      "72215\n",
      "37274\n",
      "79753\n",
      "41172\n",
      "86358\n",
      "44582\n",
      "92762\n",
      "47896\n",
      "98856\n",
      "51052\n",
      "104747\n",
      "54106\n",
      "110482\n",
      "57084\n",
      "116788\n",
      "60346\n",
      "121831\n",
      "62944\n",
      "128891\n",
      "66625\n",
      "134963\n",
      "69767\n",
      "141871\n",
      "73333\n",
      "147809\n",
      "76443\n",
      "152537\n",
      "78902\n",
      "155605\n",
      "80502\n"
     ]
    }
   ],
   "source": [
    "m_f_lst = gender_fractions_over_time(files, \"male\", \"female\")"
   ]
  },
  {
   "cell_type": "code",
   "execution_count": 55,
   "metadata": {},
   "outputs": [
    {
     "data": {
      "text/plain": [
       "[1.0,\n",
       " 0.78,\n",
       " 0.86,\n",
       " 0.87,\n",
       " 0.88,\n",
       " 0.84,\n",
       " 0.81,\n",
       " 0.8,\n",
       " 0.8,\n",
       " 0.79,\n",
       " 0.8,\n",
       " 0.79,\n",
       " 0.8,\n",
       " 0.79,\n",
       " 0.78,\n",
       " 0.78,\n",
       " 0.79,\n",
       " 0.78,\n",
       " 0.78,\n",
       " 0.78,\n",
       " 0.78,\n",
       " 0.77,\n",
       " 0.78,\n",
       " 0.77,\n",
       " 0.78,\n",
       " 0.78,\n",
       " 0.77,\n",
       " 0.77,\n",
       " 0.77,\n",
       " 0.77,\n",
       " 0.77,\n",
       " 0.77]"
      ]
     },
     "execution_count": 55,
     "metadata": {},
     "output_type": "execute_result"
    }
   ],
   "source": [
    "m_f_lst"
   ]
  },
  {
   "cell_type": "code",
   "execution_count": null,
   "metadata": {},
   "outputs": [],
   "source": []
  }
 ],
 "metadata": {
  "kernelspec": {
   "display_name": "Python 3",
   "language": "python",
   "name": "python3"
  },
  "language_info": {
   "codemirror_mode": {
    "name": "ipython",
    "version": 3
   },
   "file_extension": ".py",
   "mimetype": "text/x-python",
   "name": "python",
   "nbconvert_exporter": "python",
   "pygments_lexer": "ipython3",
   "version": "3.6.5"
  }
 },
 "nbformat": 4,
 "nbformat_minor": 2
}
