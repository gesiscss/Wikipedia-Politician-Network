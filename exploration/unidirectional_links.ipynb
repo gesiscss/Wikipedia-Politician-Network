{
 "cells": [
  {
   "cell_type": "code",
   "execution_count": null,
   "metadata": {},
   "outputs": [],
   "source": [
    "import pandas as pd \n",
    "import networkx as nx\n",
    "from os import listdir\n",
    "from os.path import isfile, join\n",
    "import seaborn as sns\n",
    "import matplotlib.pyplot as plt"
   ]
  },
  {
   "cell_type": "code",
   "execution_count": 2,
   "metadata": {},
   "outputs": [],
   "source": [
    "def get_files(path,sufix):\n",
    "    \"\"\" Returns list of files on specified path with specified sufix\n",
    "    \"\"\"\n",
    "    mypath = path\n",
    "    return [f for f in listdir(mypath) if isfile(join(mypath, f)) and f.endswith(sufix)]"
   ]
  },
  {
   "cell_type": "code",
   "execution_count": 3,
   "metadata": {},
   "outputs": [],
   "source": [
    "def is_unidirectional(graph, node1, node2):\n",
    "    if graph.has_edge(node1, node2) == graph.has_edge(node2, node1):\n",
    "        return False\n",
    "    return True"
   ]
  },
  {
   "cell_type": "code",
   "execution_count": 4,
   "metadata": {},
   "outputs": [],
   "source": [
    "def count_unidirectional_pairs(d_graph):\n",
    "    edges = d_graph.edges()\n",
    "    count = 0\n",
    "    for edge_pair in edges:\n",
    "        if is_unidirectional(d_graph, edge_pair[0], edge_pair[1]) == True:\n",
    "            count += 1 \n",
    "    return count"
   ]
  },
  {
   "cell_type": "code",
   "execution_count": 5,
   "metadata": {},
   "outputs": [],
   "source": [
    "def fraction_unidirected_pairs(d_graph):\n",
    "    return round(count_unidirectional_pairs(d_graph)/len(d_graph.edges()),2)"
   ]
  },
  {
   "cell_type": "markdown",
   "metadata": {},
   "source": [
    "# Fraction of unidirectional links in the network over time (General)"
   ]
  },
  {
   "cell_type": "code",
   "execution_count": 6,
   "metadata": {},
   "outputs": [],
   "source": [
    "files = get_files(\"../data/graphs/\", \"12_dir\")"
   ]
  },
  {
   "cell_type": "code",
   "execution_count": 7,
   "metadata": {},
   "outputs": [],
   "source": [
    "lst = []\n",
    "for file in files: \n",
    "    d_graph = nx.read_gpickle(join(\"../data/graphs\", file))\n",
    "    lst.append(fraction_unidirected_pairs(d_graph))"
   ]
  },
  {
   "cell_type": "code",
   "execution_count": 8,
   "metadata": {},
   "outputs": [
    {
     "data": {
      "image/png": "[encoded data removed]",
      "text/plain": [
       "<Figure size 432x288 with 1 Axes>"
      ]
     },
     "metadata": {},
     "output_type": "display_data"
    }
   ],
   "source": [
    "g = sns.pointplot([files.index(i) for i in files], lst)"
   ]
  },
  {
   "cell_type": "markdown",
   "metadata": {},
   "source": [
    "# Fraction of unidirectional links (Male to Female and Female to Male) in the network over time (General)"
   ]
  },
  {
   "cell_type": "code",
   "execution_count": 9,
   "metadata": {},
   "outputs": [],
   "source": [
    "d_graph = nx.read_gpickle(join(\"../data/graphs\", files[15]))"
   ]
  },
  {
   "cell_type": "code",
   "execution_count": 10,
   "metadata": {},
   "outputs": [],
   "source": [
    "def filter_for_gender(d_graph, gender_from, gender_to):\n",
    "    edges = d_graph.edges()\n",
    "#     print(len(edges))\n",
    "    for edge_pair in edges:\n",
    "        if d_graph.node[edge_pair[0]][\"gender\"] != gender_from or d_graph.node[edge_pair[1]][\"gender\"] != gender_to:\n",
    "            edges.remove(edge_pair)\n",
    "#     print(len(edges))\n",
    "    return edges"
   ]
  },
  {
   "cell_type": "code",
   "execution_count": 11,
   "metadata": {},
   "outputs": [],
   "source": [
    "def fraction_unidirected_pairs_gender(graph, gender_from, gender_to):\n",
    "    edges = filter_for_gender(graph, gender_from, gender_to)\n",
    "    dg = nx.DiGraph(edges)\n",
    "    return count_unidirectional_pairs(dg)/count_unidirectional_pairs(graph)"
   ]
  },
  {
   "cell_type": "code",
   "execution_count": 12,
   "metadata": {},
   "outputs": [],
   "source": [
    "def gender_fractions_over_time(files, gender_from, gender_to):\n",
    "    lst = []\n",
    "    for file in files: \n",
    "        d_graph = nx.read_gpickle(join(\"../data/graphs\", file))\n",
    "        lst.append(fraction_unidirected_pairs_gender(d_graph, gender_from, gender_to))\n",
    "    return lst"
   ]
  },
  {
   "cell_type": "code",
   "execution_count": 13,
   "metadata": {},
   "outputs": [
    {
     "data": {
      "text/plain": [
       "0.723724534726707"
      ]
     },
     "execution_count": 13,
     "metadata": {},
     "output_type": "execute_result"
    }
   ],
   "source": [
    "fraction_unidirected_pairs_gender(d_graph, \"male\", \"female\")"
   ]
  },
  {
   "cell_type": "code",
   "execution_count": 14,
   "metadata": {},
   "outputs": [
    {
     "data": {
      "text/plain": [
       "0.7475253918863383"
      ]
     },
     "execution_count": 14,
     "metadata": {},
     "output_type": "execute_result"
    }
   ],
   "source": [
    "fraction_unidirected_pairs_gender(d_graph, \"female\", \"male\")"
   ]
  },
  {
   "cell_type": "code",
   "execution_count": null,
   "metadata": {},
   "outputs": [],
   "source": [
    "m_f_lst = gender_fractions_over_time(files, \"male\", \"female\")"
   ]
  },
  {
   "cell_type": "code",
   "execution_count": null,
   "metadata": {},
   "outputs": [],
   "source": [
    "m_f_lst"
   ]
  },
  {
   "cell_type": "code",
   "execution_count": null,
   "metadata": {},
   "outputs": [],
   "source": [
    "fig,ax = plt.plot()\n",
    "m_nodes = df['all'].m_nodes.values\n",
    "f_nodes = df['all'].f_nodes.values\n",
    "\n",
    "ax.plot(np.arange(1,33),stats.get_ratio_array(df['all']),marker=\"o\", label=\"Global\",color=\"black\")\n",
    "ax.plot(np.arange(1,33),stats.get_ratio_array(df['us']),marker=\"*\", label=\"US\",color=\"red\")\n",
    "\n",
    "#     ax2.set_legend(loc='upper right')\n",
    "ax.set_ylim([0,0.18])\n",
    "ax.set_yscale('linear')\n",
    "ax.set_xlabel(\"year and month\", fontsize=22)\n",
    "ax.set_xticklabels(['2001_06','2003_06','2005_12','2008_06','2010_12','2013_06','2015_12'],rotation='vertical')\n",
    "#     ax2.set_xticks(np.arange(1,33,1),minor=True)\n",
    "ax.set_ylabel(\"female to male ratio\", fontsize=22)\n",
    "ax.set_xticks(np.arange(1,33,1),minor=True)\n",
    "ax.legend(loc='lower left', fontsize=15)"
   ]
  }
 ],
 "metadata": {
  "kernelspec": {
   "display_name": "Python 3",
   "language": "python",
   "name": "python3"
  },
  "language_info": {
   "codemirror_mode": {
    "name": "ipython",
    "version": 3
   },
   "file_extension": ".py",
   "mimetype": "text/x-python",
   "name": "python",
   "nbconvert_exporter": "python",
   "pygments_lexer": "ipython3",
   "version": "3.6.5"
  }
 },
 "nbformat": 4,
 "nbformat_minor": 2
}
