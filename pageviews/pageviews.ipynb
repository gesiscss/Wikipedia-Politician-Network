{
 "cells": [
  {
   "cell_type": "code",
   "execution_count": 1,
   "metadata": {
    "collapsed": true
   },
   "outputs": [],
   "source": [
    "import numpy as np \n",
    "import pandas as pd"
   ]
  },
  {
   "cell_type": "markdown",
   "metadata": {},
   "source": [
    "This is data on page views at 23h on 31.12.2015"
   ]
  },
  {
   "cell_type": "code",
   "execution_count": 2,
   "metadata": {
    "collapsed": false
   },
   "outputs": [],
   "source": [
    "data = pd.read_table(\"pagecounts-20151231-230000\", sep=\" \")"
   ]
  },
  {
   "cell_type": "markdown",
   "metadata": {},
   "source": [
    "# Pageviews data"
   ]
  },
  {
   "cell_type": "markdown",
   "metadata": {},
   "source": [
    "* first column: **project name**, example: en - english wikipedia\n",
    "* second column: **page**, example: Barak_Obama\n",
    "* third column: **number of views**, exampe: 361\n",
    "* fourth column: **size of content returned**, exampe: 3614429\n",
    "\n",
    "[source](https://dumps.wikimedia.org/other/pagecounts-raw/)"
   ]
  },
  {
   "cell_type": "markdown",
   "metadata": {},
   "source": [
    "# Wikipedia for one hour"
   ]
  },
  {
   "cell_type": "code",
   "execution_count": 3,
   "metadata": {
    "collapsed": false
   },
   "outputs": [
    {
     "data": {
      "text/plain": [
       "5439754"
      ]
     },
     "execution_count": 3,
     "metadata": {},
     "output_type": "execute_result"
    }
   ],
   "source": [
    "data.columns = [\"project_name\", \"page\", \"requests\", \"size\"]\n",
    "len(data)"
   ]
  },
  {
   "cell_type": "markdown",
   "metadata": {},
   "source": [
    "# English Wikipedia for one hour"
   ]
  },
  {
   "cell_type": "code",
   "execution_count": 4,
   "metadata": {
    "collapsed": false
   },
   "outputs": [
    {
     "data": {
      "text/plain": [
       "2035453"
      ]
     },
     "execution_count": 4,
     "metadata": {},
     "output_type": "execute_result"
    }
   ],
   "source": [
    "data = data[data['project_name']==\"en\"]\n",
    "len(data)"
   ]
  },
  {
   "cell_type": "code",
   "execution_count": 5,
   "metadata": {
    "collapsed": false
   },
   "outputs": [
    {
     "data": {
      "text/html": [
       "<div>\n",
       "<table border=\"1\" class=\"dataframe\">\n",
       "  <thead>\n",
       "    <tr style=\"text-align: right;\">\n",
       "      <th></th>\n",
       "      <th>project_name</th>\n",
       "      <th>page</th>\n",
       "      <th>requests</th>\n",
       "      <th>size</th>\n",
       "    </tr>\n",
       "  </thead>\n",
       "  <tbody>\n",
       "    <tr>\n",
       "      <th>765604</th>\n",
       "      <td>en</td>\n",
       "      <td>NaN</td>\n",
       "      <td>361</td>\n",
       "      <td>3614429</td>\n",
       "    </tr>\n",
       "    <tr>\n",
       "      <th>765605</th>\n",
       "      <td>en</td>\n",
       "      <td>!!!</td>\n",
       "      <td>6</td>\n",
       "      <td>103373</td>\n",
       "    </tr>\n",
       "    <tr>\n",
       "      <th>765606</th>\n",
       "      <td>en</td>\n",
       "      <td>!!!!Los_De_La_Rumba!!!!</td>\n",
       "      <td>1</td>\n",
       "      <td>6686</td>\n",
       "    </tr>\n",
       "    <tr>\n",
       "      <th>765607</th>\n",
       "      <td>en</td>\n",
       "      <td>!!!_(album)</td>\n",
       "      <td>1</td>\n",
       "      <td>0</td>\n",
       "    </tr>\n",
       "    <tr>\n",
       "      <th>765608</th>\n",
       "      <td>en</td>\n",
       "      <td>!!Destroy-Oh-Boy!!</td>\n",
       "      <td>1</td>\n",
       "      <td>11269</td>\n",
       "    </tr>\n",
       "  </tbody>\n",
       "</table>\n",
       "</div>"
      ],
      "text/plain": [
       "       project_name                     page  requests     size\n",
       "765604           en                      NaN       361  3614429\n",
       "765605           en                      !!!         6   103373\n",
       "765606           en  !!!!Los_De_La_Rumba!!!!         1     6686\n",
       "765607           en              !!!_(album)         1        0\n",
       "765608           en       !!Destroy-Oh-Boy!!         1    11269"
      ]
     },
     "execution_count": 5,
     "metadata": {},
     "output_type": "execute_result"
    }
   ],
   "source": [
    "data.head()"
   ]
  },
  {
   "cell_type": "markdown",
   "metadata": {},
   "source": [
    "# Removing size and project"
   ]
  },
  {
   "cell_type": "code",
   "execution_count": 6,
   "metadata": {
    "collapsed": false
   },
   "outputs": [
    {
     "data": {
      "text/html": [
       "<div>\n",
       "<table border=\"1\" class=\"dataframe\">\n",
       "  <thead>\n",
       "    <tr style=\"text-align: right;\">\n",
       "      <th></th>\n",
       "      <th>page</th>\n",
       "      <th>requests</th>\n",
       "    </tr>\n",
       "  </thead>\n",
       "  <tbody>\n",
       "    <tr>\n",
       "      <th>765604</th>\n",
       "      <td>NaN</td>\n",
       "      <td>361</td>\n",
       "    </tr>\n",
       "    <tr>\n",
       "      <th>765605</th>\n",
       "      <td>!!!</td>\n",
       "      <td>6</td>\n",
       "    </tr>\n",
       "    <tr>\n",
       "      <th>765606</th>\n",
       "      <td>!!!!Los_De_La_Rumba!!!!</td>\n",
       "      <td>1</td>\n",
       "    </tr>\n",
       "    <tr>\n",
       "      <th>765607</th>\n",
       "      <td>!!!_(album)</td>\n",
       "      <td>1</td>\n",
       "    </tr>\n",
       "    <tr>\n",
       "      <th>765608</th>\n",
       "      <td>!!Destroy-Oh-Boy!!</td>\n",
       "      <td>1</td>\n",
       "    </tr>\n",
       "  </tbody>\n",
       "</table>\n",
       "</div>"
      ],
      "text/plain": [
       "                           page  requests\n",
       "765604                      NaN       361\n",
       "765605                      !!!         6\n",
       "765606  !!!!Los_De_La_Rumba!!!!         1\n",
       "765607              !!!_(album)         1\n",
       "765608       !!Destroy-Oh-Boy!!         1"
      ]
     },
     "execution_count": 6,
     "metadata": {},
     "output_type": "execute_result"
    }
   ],
   "source": [
    "data = data.drop([\"project_name\",\"size\"], axis=1)\n",
    "data.head()"
   ]
  },
  {
   "cell_type": "markdown",
   "metadata": {},
   "source": [
    "# Geting number of views for politicians"
   ]
  },
  {
   "cell_type": "code",
   "execution_count": 26,
   "metadata": {
    "collapsed": true
   },
   "outputs": [],
   "source": [
    "def get_page(wikiURL):\n",
    "    url_split = wikiURL.split(\"/\")\n",
    "    return url_split[-1]"
   ]
  },
  {
   "cell_type": "code",
   "execution_count": 27,
   "metadata": {
    "collapsed": false
   },
   "outputs": [],
   "source": [
    "politicians = pd.read_pickle(\"../data/politicians_with_gender\")"
   ]
  },
  {
   "cell_type": "code",
   "execution_count": 28,
   "metadata": {
    "collapsed": false
   },
   "outputs": [],
   "source": [
    "politicians[\"page\"] = politicians[\"WikiURL\"].apply(get_page)"
   ]
  },
  {
   "cell_type": "code",
   "execution_count": 29,
   "metadata": {
    "collapsed": false
   },
   "outputs": [
    {
     "data": {
      "text/html": [
       "<div>\n",
       "<table border=\"1\" class=\"dataframe\">\n",
       "  <thead>\n",
       "    <tr style=\"text-align: right;\">\n",
       "      <th></th>\n",
       "      <th>#DBpURL</th>\n",
       "      <th>ID</th>\n",
       "      <th>WikiURL</th>\n",
       "      <th>birthDate</th>\n",
       "      <th>deathDate</th>\n",
       "      <th>first_name</th>\n",
       "      <th>fpp_gender</th>\n",
       "      <th>full_name</th>\n",
       "      <th>gender</th>\n",
       "      <th>genderize</th>\n",
       "      <th>name</th>\n",
       "      <th>nationality</th>\n",
       "      <th>occupation</th>\n",
       "      <th>party</th>\n",
       "      <th>page</th>\n",
       "    </tr>\n",
       "  </thead>\n",
       "  <tbody>\n",
       "    <tr>\n",
       "      <th>0</th>\n",
       "      <td>http://dbpedia.org/resource/Quincy_Timberlake</td>\n",
       "      <td>11</td>\n",
       "      <td>http://en.wikipedia.org/wiki/Quincy_Timberlake</td>\n",
       "      <td>1980-04-22 00:00:00</td>\n",
       "      <td>None</td>\n",
       "      <td>quincy</td>\n",
       "      <td>NaN</td>\n",
       "      <td>Quincy+Timberlake</td>\n",
       "      <td>male</td>\n",
       "      <td>NaN</td>\n",
       "      <td>[ quincy timberlake ,  timberlake quincy ]</td>\n",
       "      <td>[kenyan]</td>\n",
       "      <td>[politician]</td>\n",
       "      <td>[]</td>\n",
       "      <td>Quincy_Timberlake</td>\n",
       "    </tr>\n",
       "    <tr>\n",
       "      <th>1</th>\n",
       "      <td>http://dbpedia.org/resource/Fanny_Edelman</td>\n",
       "      <td>29</td>\n",
       "      <td>http://en.wikipedia.org/wiki/Fanny_Edelman</td>\n",
       "      <td>1911-02-27 00:00:00</td>\n",
       "      <td>2011-11-01 00:00:00</td>\n",
       "      <td>fanny</td>\n",
       "      <td>NaN</td>\n",
       "      <td>Fanny+Edelman</td>\n",
       "      <td>female</td>\n",
       "      <td>NaN</td>\n",
       "      <td>[ fanny edelman ,  edelman fanny ]</td>\n",
       "      <td>[argentine]</td>\n",
       "      <td>[politician]</td>\n",
       "      <td>[]</td>\n",
       "      <td>Fanny_Edelman</td>\n",
       "    </tr>\n",
       "    <tr>\n",
       "      <th>3</th>\n",
       "      <td>http://dbpedia.org/resource/Paul_Scheffer</td>\n",
       "      <td>102</td>\n",
       "      <td>http://en.wikipedia.org/wiki/Paul_Scheffer</td>\n",
       "      <td>1954-09-03 00:00:00</td>\n",
       "      <td>None</td>\n",
       "      <td>paul</td>\n",
       "      <td>NaN</td>\n",
       "      <td>Paul+Scheffer</td>\n",
       "      <td>male</td>\n",
       "      <td>NaN</td>\n",
       "      <td>[ scheffer paul ]</td>\n",
       "      <td>[]</td>\n",
       "      <td>[politician]</td>\n",
       "      <td>[]</td>\n",
       "      <td>Paul_Scheffer</td>\n",
       "    </tr>\n",
       "    <tr>\n",
       "      <th>4</th>\n",
       "      <td>http://dbpedia.org/resource/Ed_Robb</td>\n",
       "      <td>127</td>\n",
       "      <td>http://en.wikipedia.org/wiki/Ed_Robb</td>\n",
       "      <td>None</td>\n",
       "      <td>None</td>\n",
       "      <td>ed</td>\n",
       "      <td>NaN</td>\n",
       "      <td>Ed+Robb</td>\n",
       "      <td>male</td>\n",
       "      <td>NaN</td>\n",
       "      <td>[]</td>\n",
       "      <td>[american]</td>\n",
       "      <td>[politician]</td>\n",
       "      <td>[]</td>\n",
       "      <td>Ed_Robb</td>\n",
       "    </tr>\n",
       "    <tr>\n",
       "      <th>5</th>\n",
       "      <td>http://dbpedia.org/resource/Nizamettin_Erkmen</td>\n",
       "      <td>144</td>\n",
       "      <td>http://en.wikipedia.org/wiki/Nizamettin_Erkmen</td>\n",
       "      <td>None</td>\n",
       "      <td>1990-10-24 00:00:00</td>\n",
       "      <td>nizamettin</td>\n",
       "      <td>NaN</td>\n",
       "      <td>Nizamettin+Erkmen</td>\n",
       "      <td>male</td>\n",
       "      <td>NaN</td>\n",
       "      <td>[ erkmen nizamettin ]</td>\n",
       "      <td>[turkish]</td>\n",
       "      <td>[politician]</td>\n",
       "      <td>[]</td>\n",
       "      <td>Nizamettin_Erkmen</td>\n",
       "    </tr>\n",
       "  </tbody>\n",
       "</table>\n",
       "</div>"
      ],
      "text/plain": [
       "                                         #DBpURL   ID  \\\n",
       "0  http://dbpedia.org/resource/Quincy_Timberlake   11   \n",
       "1      http://dbpedia.org/resource/Fanny_Edelman   29   \n",
       "3      http://dbpedia.org/resource/Paul_Scheffer  102   \n",
       "4            http://dbpedia.org/resource/Ed_Robb  127   \n",
       "5  http://dbpedia.org/resource/Nizamettin_Erkmen  144   \n",
       "\n",
       "                                          WikiURL            birthDate  \\\n",
       "0  http://en.wikipedia.org/wiki/Quincy_Timberlake  1980-04-22 00:00:00   \n",
       "1      http://en.wikipedia.org/wiki/Fanny_Edelman  1911-02-27 00:00:00   \n",
       "3      http://en.wikipedia.org/wiki/Paul_Scheffer  1954-09-03 00:00:00   \n",
       "4            http://en.wikipedia.org/wiki/Ed_Robb                 None   \n",
       "5  http://en.wikipedia.org/wiki/Nizamettin_Erkmen                 None   \n",
       "\n",
       "             deathDate  first_name fpp_gender          full_name  gender  \\\n",
       "0                 None      quincy        NaN  Quincy+Timberlake    male   \n",
       "1  2011-11-01 00:00:00       fanny        NaN      Fanny+Edelman  female   \n",
       "3                 None        paul        NaN      Paul+Scheffer    male   \n",
       "4                 None          ed        NaN            Ed+Robb    male   \n",
       "5  1990-10-24 00:00:00  nizamettin        NaN  Nizamettin+Erkmen    male   \n",
       "\n",
       "  genderize                                        name  nationality  \\\n",
       "0       NaN  [ quincy timberlake ,  timberlake quincy ]     [kenyan]   \n",
       "1       NaN          [ fanny edelman ,  edelman fanny ]  [argentine]   \n",
       "3       NaN                           [ scheffer paul ]           []   \n",
       "4       NaN                                          []   [american]   \n",
       "5       NaN                       [ erkmen nizamettin ]    [turkish]   \n",
       "\n",
       "     occupation party               page  \n",
       "0  [politician]    []  Quincy_Timberlake  \n",
       "1  [politician]    []      Fanny_Edelman  \n",
       "3  [politician]    []      Paul_Scheffer  \n",
       "4  [politician]    []            Ed_Robb  \n",
       "5  [politician]    []  Nizamettin_Erkmen  "
      ]
     },
     "execution_count": 29,
     "metadata": {},
     "output_type": "execute_result"
    }
   ],
   "source": [
    "politicians.head()"
   ]
  },
  {
   "cell_type": "markdown",
   "metadata": {},
   "source": [
    "# Number of politicians"
   ]
  },
  {
   "cell_type": "code",
   "execution_count": 33,
   "metadata": {
    "collapsed": false
   },
   "outputs": [
    {
     "data": {
      "text/plain": [
       "69179"
      ]
     },
     "execution_count": 33,
     "metadata": {},
     "output_type": "execute_result"
    }
   ],
   "source": [
    "page_list = politicians.page.values\n",
    "len(page_list)"
   ]
  },
  {
   "cell_type": "code",
   "execution_count": 34,
   "metadata": {
    "collapsed": true
   },
   "outputs": [],
   "source": [
    "data = data[data[\"page\"].isin(page_list)]"
   ]
  },
  {
   "cell_type": "markdown",
   "metadata": {},
   "source": [
    "# Number of politician pages found"
   ]
  },
  {
   "cell_type": "code",
   "execution_count": 37,
   "metadata": {
    "collapsed": true
   },
   "outputs": [],
   "source": [
    "# This should be around 40k"
   ]
  },
  {
   "cell_type": "code",
   "execution_count": 36,
   "metadata": {
    "collapsed": false
   },
   "outputs": [
    {
     "data": {
      "text/plain": [
       "11678"
      ]
     },
     "execution_count": 36,
     "metadata": {},
     "output_type": "execute_result"
    }
   ],
   "source": [
    "len(data)"
   ]
  },
  {
   "cell_type": "code",
   "execution_count": 38,
   "metadata": {
    "collapsed": false
   },
   "outputs": [
    {
     "data": {
      "text/html": [
       "<div>\n",
       "<table border=\"1\" class=\"dataframe\">\n",
       "  <thead>\n",
       "    <tr style=\"text-align: right;\">\n",
       "      <th></th>\n",
       "      <th>page</th>\n",
       "      <th>requests</th>\n",
       "    </tr>\n",
       "  </thead>\n",
       "  <tbody>\n",
       "    <tr>\n",
       "      <th>849029</th>\n",
       "      <td>A.N._Shamseer</td>\n",
       "      <td>1</td>\n",
       "    </tr>\n",
       "    <tr>\n",
       "      <th>849134</th>\n",
       "      <td>A._Anwhar_Raajhaa</td>\n",
       "      <td>1</td>\n",
       "    </tr>\n",
       "    <tr>\n",
       "      <th>849147</th>\n",
       "      <td>A._B._Shetty</td>\n",
       "      <td>1</td>\n",
       "    </tr>\n",
       "    <tr>\n",
       "      <th>849182</th>\n",
       "      <td>A._DeWade_Langley</td>\n",
       "      <td>5</td>\n",
       "    </tr>\n",
       "    <tr>\n",
       "      <th>849209</th>\n",
       "      <td>A._G._Crowe</td>\n",
       "      <td>1</td>\n",
       "    </tr>\n",
       "  </tbody>\n",
       "</table>\n",
       "</div>"
      ],
      "text/plain": [
       "                     page  requests\n",
       "849029      A.N._Shamseer         1\n",
       "849134  A._Anwhar_Raajhaa         1\n",
       "849147       A._B._Shetty         1\n",
       "849182  A._DeWade_Langley         5\n",
       "849209        A._G._Crowe         1"
      ]
     },
     "execution_count": 38,
     "metadata": {},
     "output_type": "execute_result"
    }
   ],
   "source": [
    "data.head()"
   ]
  },
  {
   "cell_type": "code",
   "execution_count": null,
   "metadata": {
    "collapsed": true
   },
   "outputs": [],
   "source": []
  }
 ],
 "metadata": {
  "kernelspec": {
   "display_name": "Python 3",
   "language": "python",
   "name": "python3"
  },
  "language_info": {
   "codemirror_mode": {
    "name": "ipython",
    "version": 3
   },
   "file_extension": ".py",
   "mimetype": "text/x-python",
   "name": "python",
   "nbconvert_exporter": "python",
   "pygments_lexer": "ipython3",
   "version": "3.6.0"
  }
 },
 "nbformat": 4,
 "nbformat_minor": 2
}
