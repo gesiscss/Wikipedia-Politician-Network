{
 "cells": [
  {
   "cell_type": "code",
   "execution_count": 32,
   "metadata": {
    "collapsed": true
   },
   "outputs": [],
   "source": [
    "import requests\n",
    "from bs4 import BeautifulSoup\n",
    "import pandas as pd"
   ]
  },
  {
   "cell_type": "code",
   "execution_count": 34,
   "metadata": {
    "collapsed": false
   },
   "outputs": [],
   "source": [
    "host_path = \"https://dumps.wikimedia.org/other/pagecounts-raw/\"\n",
    "\n",
    "#list of years to loop over: 2008-2014\n",
    "years = range(2008,2015)\n",
    "#list of months to loop over: 01 - 12\n",
    "months = [\"%.2d\" % i for i in range(1, 13)]\n",
    "# month[-1]"
   ]
  },
  {
   "cell_type": "code",
   "execution_count": 31,
   "metadata": {
    "collapsed": false
   },
   "outputs": [
    {
     "data": {
      "text/plain": [
       "'https://dumps.wikimedia.org/other/pagecounts-raw/2008/2008-01'"
      ]
     },
     "execution_count": 31,
     "metadata": {},
     "output_type": "execute_result"
    }
   ],
   "source": [
    "# example of forming url:\n",
    "def form_url(year, month,file_name=\"\"):\n",
    "    \"\"\" Returns url for specified year and month\n",
    "    \"\"\"\n",
    "    return host_path+str(year)+\"/\"+str(year)+\"-\"+str(month)+file_name\n",
    "form_url(2008,'01')"
   ]
  },
  {
   "cell_type": "code",
   "execution_count": 28,
   "metadata": {
    "collapsed": false
   },
   "outputs": [],
   "source": [
    "# url = host_path+str(year[0])+\"/\"+str(year[0])+\"-\"+str(month[0])\n",
    "\n",
    "def get_files(url):\n",
    "    \"\"\" Returns all files from given url as a list\n",
    "    \"\"\"\n",
    "    resp = requests.get(url)\n",
    "    soup = BeautifulSoup(resp.content,\"html.parser\")\n",
    "    list_elements = soup.find_all(\"li\")\n",
    "    list_elements = [li.a.get(\"href\") for li in list_elements]\n",
    "    return list_elements\n",
    "\n",
    "# get_files(url)"
   ]
  },
  {
   "cell_type": "markdown",
   "metadata": {},
   "source": [
    "# Save files for every year"
   ]
  },
  {
   "cell_type": "code",
   "execution_count": 48,
   "metadata": {
    "collapsed": false
   },
   "outputs": [
    {
     "name": "stdout",
     "output_type": "stream",
     "text": [
      "File saved:2008.csv\n",
      "(8762, 1)\n",
      "File saved:2009.csv\n",
      "(8510, 1)\n",
      "File saved:2010.csv\n",
      "(8616, 1)\n",
      "File saved:2011.csv\n",
      "(8760, 1)\n",
      "File saved:2012.csv\n",
      "(8784, 1)\n",
      "File saved:2013.csv\n",
      "(8766, 1)\n",
      "File saved:2014.csv\n",
      "(8756, 1)\n"
     ]
    }
   ],
   "source": [
    "for year in years:\n",
    "    year_lst = []\n",
    "    for month in months:\n",
    "        url = form_url(year, month)\n",
    "        files = get_files(url)\n",
    "        year_lst.append(files)\n",
    "    year_lst = sum(year_lst, [])\n",
    "    year_lst = [file for file in year_lst if file.startswith(\"pagecounts\")]\n",
    "    df = pd.DataFrame(year_lst)\n",
    "    path = str(year)+\".csv\"\n",
    "    df.to_csv(path,header=False,index=False)\n",
    "    print(\"File saved:\"+path)\n",
    "    print(df.shape)"
   ]
  },
  {
   "cell_type": "code",
   "execution_count": 50,
   "metadata": {
    "collapsed": false
   },
   "outputs": [
    {
     "data": {
      "text/html": [
       "<div>\n",
       "<table border=\"1\" class=\"dataframe\">\n",
       "  <thead>\n",
       "    <tr style=\"text-align: right;\">\n",
       "      <th></th>\n",
       "      <th>pagecounts-20080101-000000.gz</th>\n",
       "    </tr>\n",
       "  </thead>\n",
       "  <tbody>\n",
       "    <tr>\n",
       "      <th>0</th>\n",
       "      <td>pagecounts-20080101-010000.gz</td>\n",
       "    </tr>\n",
       "    <tr>\n",
       "      <th>1</th>\n",
       "      <td>pagecounts-20080101-020000.gz</td>\n",
       "    </tr>\n",
       "    <tr>\n",
       "      <th>2</th>\n",
       "      <td>pagecounts-20080101-030001.gz</td>\n",
       "    </tr>\n",
       "    <tr>\n",
       "      <th>3</th>\n",
       "      <td>pagecounts-20080101-040000.gz</td>\n",
       "    </tr>\n",
       "    <tr>\n",
       "      <th>4</th>\n",
       "      <td>pagecounts-20080101-050000.gz</td>\n",
       "    </tr>\n",
       "  </tbody>\n",
       "</table>\n",
       "</div>"
      ],
      "text/plain": [
       "   pagecounts-20080101-000000.gz\n",
       "0  pagecounts-20080101-010000.gz\n",
       "1  pagecounts-20080101-020000.gz\n",
       "2  pagecounts-20080101-030001.gz\n",
       "3  pagecounts-20080101-040000.gz\n",
       "4  pagecounts-20080101-050000.gz"
      ]
     },
     "execution_count": 50,
     "metadata": {},
     "output_type": "execute_result"
    }
   ],
   "source": [
    "pd.read_csv(\"2008.csv\").head()"
   ]
  },
  {
   "cell_type": "code",
   "execution_count": null,
   "metadata": {
    "collapsed": true
   },
   "outputs": [],
   "source": []
  },
  {
   "cell_type": "code",
   "execution_count": null,
   "metadata": {
    "collapsed": true
   },
   "outputs": [],
   "source": [
    "def download_file(url):\n",
    "    local_filename = url.split('/')[-1]\n",
    "    # NOTE the stream=True parameter\n",
    "    r = requests.get(url, stream=True)\n",
    "    with open(local_filename, 'wb') as f:\n",
    "        for chunk in r.iter_content(chunk_size=1024): \n",
    "            if chunk: # filter out keep-alive new chunks\n",
    "                f.write(chunk)\n",
    "                #f.flush() commented by recommendation from J.F.Sebastian\n",
    "    return local_filename"
   ]
  }
 ],
 "metadata": {
  "kernelspec": {
   "display_name": "Python 3",
   "language": "python",
   "name": "python3"
  },
  "language_info": {
   "codemirror_mode": {
    "name": "ipython",
    "version": 3
   },
   "file_extension": ".py",
   "mimetype": "text/x-python",
   "name": "python",
   "nbconvert_exporter": "python",
   "pygments_lexer": "ipython3",
   "version": "3.6.0"
  }
 },
 "nbformat": 4,
 "nbformat_minor": 2
}
