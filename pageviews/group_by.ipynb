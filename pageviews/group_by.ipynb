{
 "cells": [
  {
   "cell_type": "code",
   "execution_count": 73,
   "metadata": {
    "collapsed": true
   },
   "outputs": [],
   "source": [
    "import pandas as pd \n",
    "import os\n",
    "from os import listdir\n",
    "from os import listdir\n",
    "from os.path import isfile, join\n",
    "import tqdm\n",
    "from urllib.parse import quote, unquote"
   ]
  },
  {
   "cell_type": "markdown",
   "metadata": {},
   "source": [
    "# Paths"
   ]
  },
  {
   "cell_type": "code",
   "execution_count": 65,
   "metadata": {
    "collapsed": true
   },
   "outputs": [],
   "source": [
    "file_path = \"filtered_files/2009/\"\n",
    "path_save = \"test.csv\""
   ]
  },
  {
   "cell_type": "markdown",
   "metadata": {},
   "source": [
    "# Get files"
   ]
  },
  {
   "cell_type": "code",
   "execution_count": 5,
   "metadata": {
    "collapsed": true
   },
   "outputs": [],
   "source": [
    "def get_files(path):\n",
    "    \"\"\" Returns a list of files in a directory\n",
    "        Input parameter: path to directory\n",
    "    \"\"\"\n",
    "    mypath = path\n",
    "    complete = [f for f in listdir(mypath) if isfile(join(mypath, f))]\n",
    "    return complete"
   ]
  },
  {
   "cell_type": "code",
   "execution_count": 8,
   "metadata": {
    "collapsed": false
   },
   "outputs": [],
   "source": [
    "files = get_files(file_path)\n",
    "file_paths = [file_path+file for file in files]"
   ]
  },
  {
   "cell_type": "code",
   "execution_count": 44,
   "metadata": {
    "collapsed": true
   },
   "outputs": [],
   "source": [
    "def load_files_to_lst(file_paths):\n",
    "    \"\"\" Loads all files into pandas dataframe and adds them to list\n",
    "    \"\"\"\n",
    "    df_lst = []\n",
    "    for file in tqdm.tqdm(file_paths):\n",
    "        df = pd.read_csv(file, sep=\" \")\n",
    "        df.columns = ['name', 'views']\n",
    "#         print(df.head(2))\n",
    "        df_lst.append(df)\n",
    "    return df_lst"
   ]
  },
  {
   "cell_type": "code",
   "execution_count": 45,
   "metadata": {
    "collapsed": false
   },
   "outputs": [
    {
     "name": "stderr",
     "output_type": "stream",
     "text": [
      "100%|███████████████████████████████████████████████████████████████████████████████████████████████████████████████████████████████████████████████████████████████████████████████████████████████████████| 87/87 [00:00<00:00, 135.92it/s]\n"
     ]
    }
   ],
   "source": [
    "lst = load_files_to_lst(file_paths)"
   ]
  },
  {
   "cell_type": "markdown",
   "metadata": {},
   "source": [
    "# Concatinate"
   ]
  },
  {
   "cell_type": "code",
   "execution_count": 46,
   "metadata": {
    "collapsed": true
   },
   "outputs": [],
   "source": [
    "def concate_to_df(lst):\n",
    "    \"\"\" Concats all dataframes to one\n",
    "    \"\"\"\n",
    "    df = pd.concat(lst,ignore_index=True)\n",
    "    print(df.info())\n",
    "    return df"
   ]
  },
  {
   "cell_type": "code",
   "execution_count": 47,
   "metadata": {
    "collapsed": false
   },
   "outputs": [
    {
     "name": "stdout",
     "output_type": "stream",
     "text": [
      "<class 'pandas.core.frame.DataFrame'>\n",
      "RangeIndex: 604676 entries, 0 to 604675\n",
      "Data columns (total 2 columns):\n",
      "name     604676 non-null object\n",
      "views    604676 non-null int64\n",
      "dtypes: int64(1), object(1)\n",
      "memory usage: 9.2+ MB\n",
      "None\n"
     ]
    }
   ],
   "source": [
    "df = concate_to_df(lst)"
   ]
  },
  {
   "cell_type": "markdown",
   "metadata": {},
   "source": [
    "# GroupBy"
   ]
  },
  {
   "cell_type": "code",
   "execution_count": 57,
   "metadata": {
    "collapsed": false
   },
   "outputs": [],
   "source": [
    "agr = df.groupby(by=\"name\")[\"views\"].sum()"
   ]
  },
  {
   "cell_type": "code",
   "execution_count": 71,
   "metadata": {
    "collapsed": false
   },
   "outputs": [
    {
     "data": {
      "text/plain": [
       "Index(['%C3%81ine_Brady', '%C3%81kos_Birtalan', '%C3%81lvaro_Alsogaray',\n",
       "       '%C3%81lvaro_Ara%C3%BAjo_Castro', '%C3%81lvaro_Arz%C3%BA',\n",
       "       '%C3%81lvaro_Colom', '%C3%81lvaro_Cunhal',\n",
       "       '%C3%81lvaro_G%C3%B3mez_Hurtado', '%C3%81lvaro_Garc%C3%ADa_Linera',\n",
       "       '%C3%81lvaro_Noboa',\n",
       "       ...\n",
       "       'Zuzana_Martin%C3%A1kov%C3%A1', 'Zvi_Hendel', 'Zvi_Zilker',\n",
       "       'Zvi_Zimmerman', 'Zviad_Gamsakhurdia', 'Zvonimir_%C5%A0eparovi%C4%87',\n",
       "       'Zweli_Mkhize', 'Zygmunt_Balicki', 'Zygmunt_Marek', 'Zyta_Gilowska'],\n",
       "      dtype='object', name='name', length=23155)"
      ]
     },
     "execution_count": 71,
     "metadata": {},
     "output_type": "execute_result"
    }
   ],
   "source": [
    "# agr.index"
   ]
  },
  {
   "cell_type": "code",
   "execution_count": 72,
   "metadata": {
    "collapsed": false
   },
   "outputs": [
    {
     "data": {
      "text/plain": [
       "array([16,  6, 13, ..., 16,  6, 20], dtype=int64)"
      ]
     },
     "execution_count": 72,
     "metadata": {},
     "output_type": "execute_result"
    }
   ],
   "source": [
    "# agr.values"
   ]
  },
  {
   "cell_type": "code",
   "execution_count": 81,
   "metadata": {
    "collapsed": true
   },
   "outputs": [],
   "source": [
    "def save_aggregation(agr, path):\n",
    "    name_q = agr.index\n",
    "    views = agr.values\n",
    "    name_u =[unquote(i) for i in agr.index]\n",
    "    df = pd.DataFrame({\n",
    "        \"name_q\":name_q,\n",
    "        \"name_u\":name_u,\n",
    "        \"views\":views,\n",
    "    })\n",
    "    print(\"File saved at {}\".format(path))\n",
    "    df.to_csv(path, encoding=\"utf-8\")"
   ]
  },
  {
   "cell_type": "code",
   "execution_count": 82,
   "metadata": {
    "collapsed": false
   },
   "outputs": [
    {
     "name": "stdout",
     "output_type": "stream",
     "text": [
      "File saved at test.csv\n"
     ]
    }
   ],
   "source": [
    "save_aggregation(agr, \"test.csv\")"
   ]
  },
  {
   "cell_type": "code",
   "execution_count": 86,
   "metadata": {
    "collapsed": false
   },
   "outputs": [],
   "source": [
    "# d = pd.read_csv(\"test.csv\")"
   ]
  },
  {
   "cell_type": "code",
   "execution_count": 87,
   "metadata": {
    "collapsed": false
   },
   "outputs": [],
   "source": [
    "# d.head()"
   ]
  },
  {
   "cell_type": "code",
   "execution_count": null,
   "metadata": {
    "collapsed": true
   },
   "outputs": [],
   "source": []
  }
 ],
 "metadata": {
  "kernelspec": {
   "display_name": "Python 3",
   "language": "python",
   "name": "python3"
  },
  "language_info": {
   "codemirror_mode": {
    "name": "ipython",
    "version": 3
   },
   "file_extension": ".py",
   "mimetype": "text/x-python",
   "name": "python",
   "nbconvert_exporter": "python",
   "pygments_lexer": "ipython3",
   "version": "3.6.0"
  }
 },
 "nbformat": 4,
 "nbformat_minor": 2
}
