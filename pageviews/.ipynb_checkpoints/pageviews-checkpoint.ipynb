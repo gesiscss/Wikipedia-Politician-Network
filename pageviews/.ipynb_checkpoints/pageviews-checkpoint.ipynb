{
 "cells": [
  {
   "cell_type": "code",
   "execution_count": 1,
   "metadata": {
    "collapsed": true
   },
   "outputs": [],
   "source": [
    "import numpy as np \n",
    "import pandas as pd"
   ]
  },
  {
   "cell_type": "code",
   "execution_count": 2,
   "metadata": {
    "collapsed": false
   },
   "outputs": [],
   "source": [
    "data = pd.read_table(\"pagecounts-20151231-230000\", sep=\" \")"
   ]
  },
  {
   "cell_type": "markdown",
   "metadata": {},
   "source": [
    "# Pageviews data"
   ]
  },
  {
   "cell_type": "markdown",
   "metadata": {},
   "source": [
    "* first column: **project name**, example: en - english wikipedia\n",
    "* second column: **page**, example: Barak_Obama\n",
    "* third column: **number of views**, exampe: 361\n",
    "* fourth column: **size of content returned**, exampe: 3614429\n",
    "\n",
    "[source](https://dumps.wikimedia.org/other/pagecounts-raw/)"
   ]
  },
  {
   "cell_type": "markdown",
   "metadata": {},
   "source": [
    "# Wikipedia for one hour"
   ]
  },
  {
   "cell_type": "code",
   "execution_count": 3,
   "metadata": {
    "collapsed": false
   },
   "outputs": [
    {
     "data": {
      "text/plain": [
       "5439754"
      ]
     },
     "execution_count": 3,
     "metadata": {},
     "output_type": "execute_result"
    }
   ],
   "source": [
    "data.columns = [\"project_name\", \"page\", \"requests\", \"size\"]\n",
    "len(data)"
   ]
  },
  {
   "cell_type": "markdown",
   "metadata": {},
   "source": [
    "# English Wikipedia for one hour"
   ]
  },
  {
   "cell_type": "code",
   "execution_count": 4,
   "metadata": {
    "collapsed": false
   },
   "outputs": [
    {
     "data": {
      "text/plain": [
       "2035453"
      ]
     },
     "execution_count": 4,
     "metadata": {},
     "output_type": "execute_result"
    }
   ],
   "source": [
    "data = data[data['project_name']==\"en\"]\n",
    "len(data)"
   ]
  },
  {
   "cell_type": "code",
   "execution_count": 5,
   "metadata": {
    "collapsed": false
   },
   "outputs": [
    {
     "data": {
      "text/html": [
       "<div>\n",
       "<table border=\"1\" class=\"dataframe\">\n",
       "  <thead>\n",
       "    <tr style=\"text-align: right;\">\n",
       "      <th></th>\n",
       "      <th>project_name</th>\n",
       "      <th>page</th>\n",
       "      <th>requests</th>\n",
       "      <th>size</th>\n",
       "    </tr>\n",
       "  </thead>\n",
       "  <tbody>\n",
       "    <tr>\n",
       "      <th>765604</th>\n",
       "      <td>en</td>\n",
       "      <td>NaN</td>\n",
       "      <td>361</td>\n",
       "      <td>3614429</td>\n",
       "    </tr>\n",
       "    <tr>\n",
       "      <th>765605</th>\n",
       "      <td>en</td>\n",
       "      <td>!!!</td>\n",
       "      <td>6</td>\n",
       "      <td>103373</td>\n",
       "    </tr>\n",
       "    <tr>\n",
       "      <th>765606</th>\n",
       "      <td>en</td>\n",
       "      <td>!!!!Los_De_La_Rumba!!!!</td>\n",
       "      <td>1</td>\n",
       "      <td>6686</td>\n",
       "    </tr>\n",
       "    <tr>\n",
       "      <th>765607</th>\n",
       "      <td>en</td>\n",
       "      <td>!!!_(album)</td>\n",
       "      <td>1</td>\n",
       "      <td>0</td>\n",
       "    </tr>\n",
       "    <tr>\n",
       "      <th>765608</th>\n",
       "      <td>en</td>\n",
       "      <td>!!Destroy-Oh-Boy!!</td>\n",
       "      <td>1</td>\n",
       "      <td>11269</td>\n",
       "    </tr>\n",
       "  </tbody>\n",
       "</table>\n",
       "</div>"
      ],
      "text/plain": [
       "       project_name                     page  requests     size\n",
       "765604           en                      NaN       361  3614429\n",
       "765605           en                      !!!         6   103373\n",
       "765606           en  !!!!Los_De_La_Rumba!!!!         1     6686\n",
       "765607           en              !!!_(album)         1        0\n",
       "765608           en       !!Destroy-Oh-Boy!!         1    11269"
      ]
     },
     "execution_count": 5,
     "metadata": {},
     "output_type": "execute_result"
    }
   ],
   "source": [
    "data.head()"
   ]
  },
  {
   "cell_type": "code",
   "execution_count": 6,
   "metadata": {
    "collapsed": false
   },
   "outputs": [
    {
     "data": {
      "text/html": [
       "<div>\n",
       "<table border=\"1\" class=\"dataframe\">\n",
       "  <thead>\n",
       "    <tr style=\"text-align: right;\">\n",
       "      <th></th>\n",
       "      <th>page</th>\n",
       "      <th>requests</th>\n",
       "    </tr>\n",
       "  </thead>\n",
       "  <tbody>\n",
       "    <tr>\n",
       "      <th>765604</th>\n",
       "      <td>NaN</td>\n",
       "      <td>361</td>\n",
       "    </tr>\n",
       "    <tr>\n",
       "      <th>765605</th>\n",
       "      <td>!!!</td>\n",
       "      <td>6</td>\n",
       "    </tr>\n",
       "    <tr>\n",
       "      <th>765606</th>\n",
       "      <td>!!!!Los_De_La_Rumba!!!!</td>\n",
       "      <td>1</td>\n",
       "    </tr>\n",
       "    <tr>\n",
       "      <th>765607</th>\n",
       "      <td>!!!_(album)</td>\n",
       "      <td>1</td>\n",
       "    </tr>\n",
       "    <tr>\n",
       "      <th>765608</th>\n",
       "      <td>!!Destroy-Oh-Boy!!</td>\n",
       "      <td>1</td>\n",
       "    </tr>\n",
       "  </tbody>\n",
       "</table>\n",
       "</div>"
      ],
      "text/plain": [
       "                           page  requests\n",
       "765604                      NaN       361\n",
       "765605                      !!!         6\n",
       "765606  !!!!Los_De_La_Rumba!!!!         1\n",
       "765607              !!!_(album)         1\n",
       "765608       !!Destroy-Oh-Boy!!         1"
      ]
     },
     "execution_count": 6,
     "metadata": {},
     "output_type": "execute_result"
    }
   ],
   "source": [
    "data = data.drop([\"project_name\",\"size\"], axis=1)\n",
    "data.head()"
   ]
  }
 ],
 "metadata": {
  "kernelspec": {
   "display_name": "Python 3",
   "language": "python",
   "name": "python3"
  },
  "language_info": {
   "codemirror_mode": {
    "name": "ipython",
    "version": 3
   },
   "file_extension": ".py",
   "mimetype": "text/x-python",
   "name": "python",
   "nbconvert_exporter": "python",
   "pygments_lexer": "ipython3",
   "version": "3.6.0"
  }
 },
 "nbformat": 4,
 "nbformat_minor": 2
}
