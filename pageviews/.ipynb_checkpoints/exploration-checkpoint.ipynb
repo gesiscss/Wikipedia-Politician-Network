{
 "cells": [
  {
   "cell_type": "code",
   "execution_count": 87,
   "metadata": {
    "collapsed": true
   },
   "outputs": [],
   "source": [
    "import pandas as pd \n",
    "from os.path import join\n",
    "from matplotlib import pyplot as plt \n",
    "import seaborn as sns"
   ]
  },
  {
   "cell_type": "markdown",
   "metadata": {},
   "source": [
    "# Paths"
   ]
  },
  {
   "cell_type": "code",
   "execution_count": 79,
   "metadata": {
    "collapsed": true
   },
   "outputs": [],
   "source": [
    "pw_files = \"../data/pageviews/\""
   ]
  },
  {
   "cell_type": "code",
   "execution_count": 80,
   "metadata": {
    "collapsed": true
   },
   "outputs": [],
   "source": [
    "def get_views_ordered(year, files_path):\n",
    "    df = pd.read_csv(join(files_path, \"{}.csv\").format(year))\n",
    "    df = df.sort_values(\"views\", ascending=False)\n",
    "    return df[\"views\"].values"
   ]
  },
  {
   "cell_type": "code",
   "execution_count": 81,
   "metadata": {
    "collapsed": false
   },
   "outputs": [],
   "source": [
    "def plot_pageview_distribution(views, year, yscale=\"log\", xscale=\"linear\"):\n",
    "    plt.plot(views_sorted)\n",
    "    plt.yscale(yscale)\n",
    "    plt.xscale(xscale)\n",
    "    plt.title(\"Distribution of Pageviews - Year {}\".format(year))\n",
    "    plt.ylabel(\"Pageview count\")\n",
    "    plt.xlabel(\"Number of politicians\")\n",
    "    plt.show()"
   ]
  },
  {
   "cell_type": "code",
   "execution_count": 82,
   "metadata": {
    "collapsed": true
   },
   "outputs": [],
   "source": [
    "def get_stats(year, files_path):\n",
    "    df = pd.read_csv(join(files_path, \"{}.csv\").format(year))\n",
    "#     print(df.head())\n",
    "    df = df[\"views\"].describe()\n",
    "    pd.set_option('display.float_format', lambda x: '%.3f' % x)\n",
    "#     print(df)\n",
    "    return df"
   ]
  },
  {
   "cell_type": "code",
   "execution_count": 83,
   "metadata": {
    "collapsed": false
   },
   "outputs": [],
   "source": [
    "views_sorted = get_views_ordered(2016,pw_files)"
   ]
  },
  {
   "cell_type": "code",
   "execution_count": 84,
   "metadata": {
    "collapsed": false
   },
   "outputs": [
    {
     "data": {
      "image/png": "[encoded data removed]",
      "text/plain": [
       "<matplotlib.figure.Figure at 0xd864e10>"
      ]
     },
     "metadata": {},
     "output_type": "display_data"
    }
   ],
   "source": [
    "plot_pageview_distribution(views_sorted, 2016)"
   ]
  },
  {
   "cell_type": "code",
   "execution_count": 85,
   "metadata": {
    "collapsed": false
   },
   "outputs": [
    {
     "data": {
      "text/plain": [
       "count      46479.000\n",
       "mean       27210.676\n",
       "std       438717.877\n",
       "min          304.000\n",
       "25%         1434.000\n",
       "50%         2833.000\n",
       "75%         7502.500\n",
       "max     78237414.000\n",
       "Name: views, dtype: float64"
      ]
     },
     "execution_count": 85,
     "metadata": {},
     "output_type": "execute_result"
    }
   ],
   "source": [
    "get_stats(2016, pw_files)"
   ]
  },
  {
   "cell_type": "code",
   "execution_count": 92,
   "metadata": {
    "collapsed": false
   },
   "outputs": [],
   "source": [
    "# %matplotlib inline\n",
    "# sns.distplot(views_sorted)"
   ]
  },
  {
   "cell_type": "code",
   "execution_count": null,
   "metadata": {
    "collapsed": true
   },
   "outputs": [],
   "source": []
  }
 ],
 "metadata": {
  "kernelspec": {
   "display_name": "Python 3",
   "language": "python",
   "name": "python3"
  },
  "language_info": {
   "codemirror_mode": {
    "name": "ipython",
    "version": 3
   },
   "file_extension": ".py",
   "mimetype": "text/x-python",
   "name": "python",
   "nbconvert_exporter": "python",
   "pygments_lexer": "ipython3",
   "version": "3.6.0"
  }
 },
 "nbformat": 4,
 "nbformat_minor": 2
}
