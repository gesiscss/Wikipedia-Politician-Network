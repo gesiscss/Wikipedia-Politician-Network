{
 "cells": [
  {
   "cell_type": "code",
   "execution_count": 1,
   "metadata": {
    "collapsed": false
   },
   "outputs": [],
   "source": [
    "import os\n",
    "from os import listdir\n",
    "from os import listdir\n",
    "from os.path import isfile, join\n",
    "from mwviews.utilities import aggregate\n",
    "from mwviews import page_view_count\n",
    "import gzip\n",
    "import pandas as pd\n",
    "from urllib.parse import quote, unquote"
   ]
  },
  {
   "cell_type": "markdown",
   "metadata": {},
   "source": [
    "# Paths"
   ]
  },
  {
   "cell_type": "code",
   "execution_count": 2,
   "metadata": {
    "collapsed": true
   },
   "outputs": [],
   "source": [
    "files_path = \"/bigdata/vujovic/Wikipedia-Politician-Network/pageviews/files/2009/\""
   ]
  },
  {
   "cell_type": "markdown",
   "metadata": {},
   "source": [
    "# Getting file paths"
   ]
  },
  {
   "cell_type": "code",
   "execution_count": 3,
   "metadata": {
    "collapsed": false
   },
   "outputs": [],
   "source": [
    "def get_files(path):\n",
    "    \"\"\" Returns a list of files in a directory\n",
    "        Input parameter: path to directory\n",
    "    \"\"\"\n",
    "    mypath = path\n",
    "    complete = [f for f in listdir(mypath) if isfile(join(mypath, f))]\n",
    "    return complete"
   ]
  },
  {
   "cell_type": "code",
   "execution_count": 4,
   "metadata": {
    "collapsed": false
   },
   "outputs": [],
   "source": [
    "lst = get_files(files_path)"
   ]
  },
  {
   "cell_type": "code",
   "execution_count": 5,
   "metadata": {
    "collapsed": false
   },
   "outputs": [],
   "source": [
    "file_paths = [files_path+f for f in lst]"
   ]
  },
  {
   "cell_type": "markdown",
   "metadata": {},
   "source": [
    "# Loading files"
   ]
  },
  {
   "cell_type": "code",
   "execution_count": 6,
   "metadata": {
    "collapsed": true
   },
   "outputs": [],
   "source": [
    "hour_files = [aggregate.open_hour_file(f) for f in file_paths[:10]]"
   ]
  },
  {
   "cell_type": "code",
   "execution_count": 7,
   "metadata": {
    "collapsed": false
   },
   "outputs": [
    {
     "data": {
      "text/plain": [
       "[<_io.TextIOWrapper name='/bigdata/vujovic/Wikipedia-Politician-Network/pageviews/files/2009/pagecounts-20090217-070000.gz' encoding='utf-8'>,\n",
       " <_io.TextIOWrapper name='/bigdata/vujovic/Wikipedia-Politician-Network/pageviews/files/2009/pagecounts-20090130-190000.gz' encoding='utf-8'>,\n",
       " <_io.TextIOWrapper name='/bigdata/vujovic/Wikipedia-Politician-Network/pageviews/files/2009/pagecounts-20090531-020000.gz' encoding='utf-8'>,\n",
       " <_io.TextIOWrapper name='/bigdata/vujovic/Wikipedia-Politician-Network/pageviews/files/2009/pagecounts-20091011-160000.gz' encoding='utf-8'>,\n",
       " <_io.TextIOWrapper name='/bigdata/vujovic/Wikipedia-Politician-Network/pageviews/files/2009/pagecounts-20090513-090000.gz' encoding='utf-8'>,\n",
       " <_io.TextIOWrapper name='/bigdata/vujovic/Wikipedia-Politician-Network/pageviews/files/2009/pagecounts-20090918-030000.gz' encoding='utf-8'>,\n",
       " <_io.TextIOWrapper name='/bigdata/vujovic/Wikipedia-Politician-Network/pageviews/files/2009/pagecounts-20090805-160000.gz' encoding='utf-8'>,\n",
       " <_io.TextIOWrapper name='/bigdata/vujovic/Wikipedia-Politician-Network/pageviews/files/2009/pagecounts-20090212-200000.gz' encoding='utf-8'>,\n",
       " <_io.TextIOWrapper name='/bigdata/vujovic/Wikipedia-Politician-Network/pageviews/files/2009/pagecounts-20091226-130000.gz' encoding='utf-8'>,\n",
       " <_io.TextIOWrapper name='/bigdata/vujovic/Wikipedia-Politician-Network/pageviews/files/2009/pagecounts-20091202-200000.gz' encoding='utf-8'>]"
      ]
     },
     "execution_count": 7,
     "metadata": {},
     "output_type": "execute_result"
    }
   ],
   "source": [
    "hour_files"
   ]
  },
  {
   "cell_type": "markdown",
   "metadata": {},
   "source": [
    "# Preparing output file"
   ]
  },
  {
   "cell_type": "code",
   "execution_count": 8,
   "metadata": {
    "collapsed": true
   },
   "outputs": [],
   "source": [
    "# output_file = open(\"proba\", \"w\")"
   ]
  },
  {
   "cell_type": "markdown",
   "metadata": {},
   "source": [
    "# Aggregating"
   ]
  },
  {
   "cell_type": "code",
   "execution_count": 9,
   "metadata": {
    "collapsed": false
   },
   "outputs": [],
   "source": [
    "# aggregate.run(hour_files,set([\"en\"]),output_file,False)"
   ]
  },
  {
   "cell_type": "markdown",
   "metadata": {},
   "source": [
    "# Filtering with Gzip"
   ]
  },
  {
   "cell_type": "code",
   "execution_count": 10,
   "metadata": {
    "collapsed": false
   },
   "outputs": [],
   "source": [
    "def filter_gzip(path_old, path_new):\n",
    "    fo = gzip.open('output.gz', 'w')\n",
    "    f = gzip.open(file_paths[6], 'rb')\n",
    "    for line in f.readlines():\n",
    "        #     if line.split(\" \")[0] == \"en\".encode():\n",
    "        if line.decode().split(\" \")[0] == \"en\":\n",
    "            fo.write(line)\n",
    "    f.close()\n",
    "    fo.close()\n",
    "    print(\"{} > {}, DONE! \".format(path_old, path_new))"
   ]
  },
  {
   "cell_type": "code",
   "execution_count": 11,
   "metadata": {
    "collapsed": true
   },
   "outputs": [],
   "source": [
    "# %timeit filter_gzip(file_paths[4], \"output.gz\") # this filters down just to EN wikipedia"
   ]
  },
  {
   "cell_type": "code",
   "execution_count": 12,
   "metadata": {
    "collapsed": false
   },
   "outputs": [],
   "source": [
    "# %timeit filter_gzip(file_paths[4], \"output.gz\")"
   ]
  },
  {
   "cell_type": "code",
   "execution_count": 13,
   "metadata": {
    "collapsed": false
   },
   "outputs": [],
   "source": [
    "# file_paths"
   ]
  },
  {
   "cell_type": "markdown",
   "metadata": {},
   "source": [
    "# Filtering with Pandas"
   ]
  },
  {
   "cell_type": "code",
   "execution_count": 14,
   "metadata": {
    "collapsed": true
   },
   "outputs": [],
   "source": [
    "# df = pd.read_csv(\"output.gz\", sep = \" \")"
   ]
  },
  {
   "cell_type": "code",
   "execution_count": 15,
   "metadata": {
    "collapsed": true
   },
   "outputs": [],
   "source": [
    "# df.columns = [\"project\", \"name\", \"views\", \"size\"]\n",
    "# df.head()"
   ]
  },
  {
   "cell_type": "code",
   "execution_count": 16,
   "metadata": {
    "collapsed": false
   },
   "outputs": [
    {
     "data": {
      "text/html": [
       "<div>\n",
       "<style scoped>\n",
       "    .dataframe tbody tr th:only-of-type {\n",
       "        vertical-align: middle;\n",
       "    }\n",
       "\n",
       "    .dataframe tbody tr th {\n",
       "        vertical-align: top;\n",
       "    }\n",
       "\n",
       "    .dataframe thead th {\n",
       "        text-align: right;\n",
       "    }\n",
       "</style>\n",
       "<table border=\"1\" class=\"dataframe\">\n",
       "  <thead>\n",
       "    <tr style=\"text-align: right;\">\n",
       "      <th></th>\n",
       "      <th>names_u</th>\n",
       "      <th>names_q</th>\n",
       "    </tr>\n",
       "  </thead>\n",
       "  <tbody>\n",
       "    <tr>\n",
       "      <th>0</th>\n",
       "      <td>Nizamettin_Erkmen</td>\n",
       "      <td>Nizamettin_Erkmen</td>\n",
       "    </tr>\n",
       "    <tr>\n",
       "      <th>1</th>\n",
       "      <td>Claudio_Scajola</td>\n",
       "      <td>Claudio_Scajola</td>\n",
       "    </tr>\n",
       "    <tr>\n",
       "      <th>2</th>\n",
       "      <td>Yang_Ti-liang</td>\n",
       "      <td>Yang_Ti-liang</td>\n",
       "    </tr>\n",
       "    <tr>\n",
       "      <th>3</th>\n",
       "      <td>Mohammad_Natsir</td>\n",
       "      <td>Mohammad_Natsir</td>\n",
       "    </tr>\n",
       "    <tr>\n",
       "      <th>4</th>\n",
       "      <td>Carolyn_Maloney</td>\n",
       "      <td>Carolyn_Maloney</td>\n",
       "    </tr>\n",
       "  </tbody>\n",
       "</table>\n",
       "</div>"
      ],
      "text/plain": [
       "             names_u            names_q\n",
       "0  Nizamettin_Erkmen  Nizamettin_Erkmen\n",
       "1    Claudio_Scajola    Claudio_Scajola\n",
       "2      Yang_Ti-liang      Yang_Ti-liang\n",
       "3    Mohammad_Natsir    Mohammad_Natsir\n",
       "4    Carolyn_Maloney    Carolyn_Maloney"
      ]
     },
     "execution_count": 16,
     "metadata": {},
     "output_type": "execute_result"
    }
   ],
   "source": [
    "df = pd.read_csv(\"../data/cohort/wiki_page_cohorts/2009.csv\")\n",
    "df.head()"
   ]
  },
  {
   "cell_type": "code",
   "execution_count": 17,
   "metadata": {
    "collapsed": true
   },
   "outputs": [],
   "source": [
    "def qoute_lst(lst):\n",
    "    \"\"\" Changes normal characters in names to %c4%87 because, for example:\n",
    "        'Slavica_Đukić_Dejanović' > 'Slavica_%C4%90uki%C4%87_Dejanovi%C4%87'\n",
    "    \"\"\"\n",
    "    return [quote(name) for name in lst]"
   ]
  },
  {
   "cell_type": "markdown",
   "metadata": {},
   "source": [
    "# Input params"
   ]
  },
  {
   "cell_type": "code",
   "execution_count": 18,
   "metadata": {
    "collapsed": false
   },
   "outputs": [],
   "source": [
    "s_politicians = df[\"names_q\"]\n",
    "pol_df = df.drop([\"names_u\"], axis=1)\n",
    "# s_politicians.name = \"name\"\n",
    "# pol_df = pd.DataFrame(s_politicians)\n",
    "# s_politicians"
   ]
  },
  {
   "cell_type": "code",
   "execution_count": 19,
   "metadata": {
    "collapsed": false
   },
   "outputs": [],
   "source": [
    "# %timeit filter_gzip_pd(file_paths[4], \"output.gz\",s_politicians)"
   ]
  },
  {
   "cell_type": "markdown",
   "metadata": {},
   "source": [
    "# Merge variations "
   ]
  },
  {
   "cell_type": "markdown",
   "metadata": {},
   "source": [
    "Faster than isin() and faster when filtering for project is done before the matching"
   ]
  },
  {
   "cell_type": "code",
   "execution_count": 20,
   "metadata": {
    "collapsed": true
   },
   "outputs": [],
   "source": [
    "def filter_gzip_pd_a(path_old, path_new, names, method=\"merge\"):\n",
    "    \n",
    "    df = pd.read_csv(path_old, sep=\" \")\n",
    "    df.columns = [\"project\", \"name\", \"views\", \"size\"]\n",
    "    df = df.drop([\"size\"], axis=1)\n",
    "    if method == \"merge\":\n",
    "        names.name=\"name\"\n",
    "        pol_df = pd.DataFrame(s_politicians)\n",
    "#         df = df.set_index(\"name\",drop=True)\n",
    "#         df = df.join(names, how='inner')\n",
    "        df = df.merge(pol_df, on=[\"name\"])\n",
    "    elif method == \"list\":\n",
    "        df = df[df[\"name\"].isin(names)]\n",
    "    df = df[df[\"project\"] == \"en\"]\n",
    "    df = df.drop([\"project\"], axis=1)\n",
    "#     print(df.head())\n",
    "#     print(df.shape)\n",
    "    df.to_csv(path_new, sep=\" \",compression=\"gzip\", index=False, header=False)\n",
    "    print(\"{} > {}, DONE! \".format(path_old, path_new))"
   ]
  },
  {
   "cell_type": "code",
   "execution_count": 21,
   "metadata": {
    "collapsed": false
   },
   "outputs": [
    {
     "name": "stdout",
     "output_type": "stream",
     "text": [
      "/bigdata/vujovic/Wikipedia-Politician-Network/pageviews/files/2009/pagecounts-20090513-090000.gz > output.gz, DONE! \n",
      "/bigdata/vujovic/Wikipedia-Politician-Network/pageviews/files/2009/pagecounts-20090513-090000.gz > output.gz, DONE! \n",
      "/bigdata/vujovic/Wikipedia-Politician-Network/pageviews/files/2009/pagecounts-20090513-090000.gz > output.gz, DONE! \n",
      "/bigdata/vujovic/Wikipedia-Politician-Network/pageviews/files/2009/pagecounts-20090513-090000.gz > output.gz, DONE! \n",
      "/bigdata/vujovic/Wikipedia-Politician-Network/pageviews/files/2009/pagecounts-20090513-090000.gz > output.gz, DONE! \n",
      "/bigdata/vujovic/Wikipedia-Politician-Network/pageviews/files/2009/pagecounts-20090513-090000.gz > output.gz, DONE! \n",
      "/bigdata/vujovic/Wikipedia-Politician-Network/pageviews/files/2009/pagecounts-20090513-090000.gz > output.gz, DONE! \n",
      "/bigdata/vujovic/Wikipedia-Politician-Network/pageviews/files/2009/pagecounts-20090513-090000.gz > output.gz, DONE! \n",
      "8.17 s ± 545 ms per loop (mean ± std. dev. of 7 runs, 1 loop each)\n"
     ]
    }
   ],
   "source": [
    "%timeit filter_gzip_pd_a(file_paths[4], \"output.gz\",s_politicians)"
   ]
  },
  {
   "cell_type": "code",
   "execution_count": 23,
   "metadata": {
    "collapsed": false
   },
   "outputs": [],
   "source": [
    "def filter_gzip_pd_b(path_old, path_new, names, method=\"merge\"):\n",
    "    \n",
    "    df = pd.read_csv(path_old, sep=\" \")\n",
    "    df.columns = [\"project\", \"name\", \"views\", \"size\"]\n",
    "    df = df[df[\"project\"] == \"en\"]\n",
    "    df = df.drop([\"size\",\"project\"], axis=1)\n",
    "#     df = df.drop([\"project\"], axis=1)\n",
    "    if method == \"merge\":\n",
    "        names.name=\"name\"\n",
    "        pol_df = pd.DataFrame(s_politicians)\n",
    "#         df = df.set_index(\"name\",drop=True)\n",
    "#         df = df.join(names, how='inner')\n",
    "        df = df.merge(pol_df, on=[\"name\"])\n",
    "    elif method == \"list\":\n",
    "        df = df[df[\"name\"].isin(names)]\n",
    "#     print(df.head())\n",
    "#     print(df.shape)\n",
    "    df.to_csv(path_new, sep=\" \",compression=\"gzip\", index=False, header=False)\n",
    "    print(\"{} > {}, DONE! \".format(path_old, path_new))"
   ]
  },
  {
   "cell_type": "code",
   "execution_count": 24,
   "metadata": {
    "collapsed": false
   },
   "outputs": [
    {
     "name": "stdout",
     "output_type": "stream",
     "text": [
      "/bigdata/vujovic/Wikipedia-Politician-Network/pageviews/files/2009/pagecounts-20090513-090000.gz > output.gz, DONE! \n",
      "/bigdata/vujovic/Wikipedia-Politician-Network/pageviews/files/2009/pagecounts-20090513-090000.gz > output.gz, DONE! \n",
      "/bigdata/vujovic/Wikipedia-Politician-Network/pageviews/files/2009/pagecounts-20090513-090000.gz > output.gz, DONE! \n",
      "/bigdata/vujovic/Wikipedia-Politician-Network/pageviews/files/2009/pagecounts-20090513-090000.gz > output.gz, DONE! \n",
      "/bigdata/vujovic/Wikipedia-Politician-Network/pageviews/files/2009/pagecounts-20090513-090000.gz > output.gz, DONE! \n",
      "/bigdata/vujovic/Wikipedia-Politician-Network/pageviews/files/2009/pagecounts-20090513-090000.gz > output.gz, DONE! \n",
      "/bigdata/vujovic/Wikipedia-Politician-Network/pageviews/files/2009/pagecounts-20090513-090000.gz > output.gz, DONE! \n",
      "/bigdata/vujovic/Wikipedia-Politician-Network/pageviews/files/2009/pagecounts-20090513-090000.gz > output.gz, DONE! \n",
      "6.66 s ± 402 ms per loop (mean ± std. dev. of 7 runs, 1 loop each)\n"
     ]
    }
   ],
   "source": [
    "%timeit filter_gzip_pd_b(file_paths[4], \"output.gz\",s_politicians)"
   ]
  },
  {
   "cell_type": "markdown",
   "metadata": {},
   "source": [
    "# Isin variations"
   ]
  },
  {
   "cell_type": "markdown",
   "metadata": {},
   "source": [
    "In the case of using isin(), two things are interesting, it works faster if: \n",
    "* numpy array is passed rather than a series\n",
    "* filtering by project is done after rather than before the matching "
   ]
  },
  {
   "cell_type": "code",
   "execution_count": 25,
   "metadata": {
    "collapsed": false
   },
   "outputs": [
    {
     "name": "stdout",
     "output_type": "stream",
     "text": [
      "/bigdata/vujovic/Wikipedia-Politician-Network/pageviews/files/2009/pagecounts-20090513-090000.gz > output.gz, DONE! \n",
      "/bigdata/vujovic/Wikipedia-Politician-Network/pageviews/files/2009/pagecounts-20090513-090000.gz > output.gz, DONE! \n",
      "/bigdata/vujovic/Wikipedia-Politician-Network/pageviews/files/2009/pagecounts-20090513-090000.gz > output.gz, DONE! \n",
      "/bigdata/vujovic/Wikipedia-Politician-Network/pageviews/files/2009/pagecounts-20090513-090000.gz > output.gz, DONE! \n",
      "/bigdata/vujovic/Wikipedia-Politician-Network/pageviews/files/2009/pagecounts-20090513-090000.gz > output.gz, DONE! \n",
      "/bigdata/vujovic/Wikipedia-Politician-Network/pageviews/files/2009/pagecounts-20090513-090000.gz > output.gz, DONE! \n",
      "/bigdata/vujovic/Wikipedia-Politician-Network/pageviews/files/2009/pagecounts-20090513-090000.gz > output.gz, DONE! \n",
      "/bigdata/vujovic/Wikipedia-Politician-Network/pageviews/files/2009/pagecounts-20090513-090000.gz > output.gz, DONE! \n",
      "15.3 s ± 688 ms per loop (mean ± std. dev. of 7 runs, 1 loop each)\n"
     ]
    }
   ],
   "source": [
    "%timeit filter_gzip_pd_a(file_paths[4], \"output.gz\",s_politicians, method=\"isin\")"
   ]
  },
  {
   "cell_type": "code",
   "execution_count": 26,
   "metadata": {
    "collapsed": false
   },
   "outputs": [
    {
     "name": "stdout",
     "output_type": "stream",
     "text": [
      "/bigdata/vujovic/Wikipedia-Politician-Network/pageviews/files/2009/pagecounts-20090513-090000.gz > output.gz, DONE! \n",
      "/bigdata/vujovic/Wikipedia-Politician-Network/pageviews/files/2009/pagecounts-20090513-090000.gz > output.gz, DONE! \n",
      "/bigdata/vujovic/Wikipedia-Politician-Network/pageviews/files/2009/pagecounts-20090513-090000.gz > output.gz, DONE! \n",
      "/bigdata/vujovic/Wikipedia-Politician-Network/pageviews/files/2009/pagecounts-20090513-090000.gz > output.gz, DONE! \n",
      "/bigdata/vujovic/Wikipedia-Politician-Network/pageviews/files/2009/pagecounts-20090513-090000.gz > output.gz, DONE! \n",
      "/bigdata/vujovic/Wikipedia-Politician-Network/pageviews/files/2009/pagecounts-20090513-090000.gz > output.gz, DONE! \n",
      "/bigdata/vujovic/Wikipedia-Politician-Network/pageviews/files/2009/pagecounts-20090513-090000.gz > output.gz, DONE! \n",
      "/bigdata/vujovic/Wikipedia-Politician-Network/pageviews/files/2009/pagecounts-20090513-090000.gz > output.gz, DONE! \n",
      "16.8 s ± 647 ms per loop (mean ± std. dev. of 7 runs, 1 loop each)\n"
     ]
    }
   ],
   "source": [
    "%timeit filter_gzip_pd_b(file_paths[4], \"output.gz\",s_politicians, method=\"isin\")"
   ]
  },
  {
   "cell_type": "code",
   "execution_count": 27,
   "metadata": {
    "collapsed": false
   },
   "outputs": [],
   "source": [
    "lst = s_politicians.values"
   ]
  },
  {
   "cell_type": "code",
   "execution_count": 28,
   "metadata": {
    "collapsed": false
   },
   "outputs": [
    {
     "name": "stdout",
     "output_type": "stream",
     "text": [
      "/bigdata/vujovic/Wikipedia-Politician-Network/pageviews/files/2009/pagecounts-20090513-090000.gz > output.gz, DONE! \n",
      "/bigdata/vujovic/Wikipedia-Politician-Network/pageviews/files/2009/pagecounts-20090513-090000.gz > output.gz, DONE! \n",
      "/bigdata/vujovic/Wikipedia-Politician-Network/pageviews/files/2009/pagecounts-20090513-090000.gz > output.gz, DONE! \n",
      "/bigdata/vujovic/Wikipedia-Politician-Network/pageviews/files/2009/pagecounts-20090513-090000.gz > output.gz, DONE! \n",
      "/bigdata/vujovic/Wikipedia-Politician-Network/pageviews/files/2009/pagecounts-20090513-090000.gz > output.gz, DONE! \n",
      "/bigdata/vujovic/Wikipedia-Politician-Network/pageviews/files/2009/pagecounts-20090513-090000.gz > output.gz, DONE! \n",
      "/bigdata/vujovic/Wikipedia-Politician-Network/pageviews/files/2009/pagecounts-20090513-090000.gz > output.gz, DONE! \n",
      "/bigdata/vujovic/Wikipedia-Politician-Network/pageviews/files/2009/pagecounts-20090513-090000.gz > output.gz, DONE! \n",
      "16.7 s ± 29.3 ms per loop (mean ± std. dev. of 7 runs, 1 loop each)\n"
     ]
    }
   ],
   "source": [
    "%timeit filter_gzip_pd_a(file_paths[4], \"output.gz\",lst, method=\"isin\")"
   ]
  },
  {
   "cell_type": "code",
   "execution_count": 29,
   "metadata": {
    "collapsed": false
   },
   "outputs": [
    {
     "name": "stdout",
     "output_type": "stream",
     "text": [
      "/bigdata/vujovic/Wikipedia-Politician-Network/pageviews/files/2009/pagecounts-20090513-090000.gz > output.gz, DONE! \n",
      "/bigdata/vujovic/Wikipedia-Politician-Network/pageviews/files/2009/pagecounts-20090513-090000.gz > output.gz, DONE! \n",
      "/bigdata/vujovic/Wikipedia-Politician-Network/pageviews/files/2009/pagecounts-20090513-090000.gz > output.gz, DONE! \n",
      "/bigdata/vujovic/Wikipedia-Politician-Network/pageviews/files/2009/pagecounts-20090513-090000.gz > output.gz, DONE! \n",
      "/bigdata/vujovic/Wikipedia-Politician-Network/pageviews/files/2009/pagecounts-20090513-090000.gz > output.gz, DONE! \n",
      "/bigdata/vujovic/Wikipedia-Politician-Network/pageviews/files/2009/pagecounts-20090513-090000.gz > output.gz, DONE! \n",
      "/bigdata/vujovic/Wikipedia-Politician-Network/pageviews/files/2009/pagecounts-20090513-090000.gz > output.gz, DONE! \n",
      "/bigdata/vujovic/Wikipedia-Politician-Network/pageviews/files/2009/pagecounts-20090513-090000.gz > output.gz, DONE! \n",
      "16.4 s ± 57.2 ms per loop (mean ± std. dev. of 7 runs, 1 loop each)\n"
     ]
    }
   ],
   "source": [
    "%timeit filter_gzip_pd_b(file_paths[4], \"output.gz\",lst, method=\"isin\")"
   ]
  },
  {
   "cell_type": "markdown",
   "metadata": {},
   "source": [
    "# Join vs Merge"
   ]
  },
  {
   "cell_type": "markdown",
   "metadata": {},
   "source": [
    "merge is faster and more convinient"
   ]
  },
  {
   "cell_type": "code",
   "execution_count": 30,
   "metadata": {
    "collapsed": false
   },
   "outputs": [],
   "source": [
    "df = pd.read_csv(file_paths[4], sep=\" \",index_col=1)\n",
    "df.columns = [\"project\", \"views\", \"size\"]\n",
    "df = df[df[\"project\"] == \"en\"]\n",
    "df = df.drop([\"size\",\"project\"], axis=1)"
   ]
  },
  {
   "cell_type": "code",
   "execution_count": 31,
   "metadata": {
    "collapsed": false
   },
   "outputs": [],
   "source": [
    "# type(df.index.values.)"
   ]
  },
  {
   "cell_type": "code",
   "execution_count": 32,
   "metadata": {
    "collapsed": true
   },
   "outputs": [],
   "source": [
    "# %timeit df = df.merge(pol_df, on=[\"name\"])\n"
   ]
  },
  {
   "cell_type": "code",
   "execution_count": 37,
   "metadata": {
    "collapsed": false
   },
   "outputs": [
    {
     "data": {
      "text/html": [
       "<div>\n",
       "<style scoped>\n",
       "    .dataframe tbody tr th:only-of-type {\n",
       "        vertical-align: middle;\n",
       "    }\n",
       "\n",
       "    .dataframe tbody tr th {\n",
       "        vertical-align: top;\n",
       "    }\n",
       "\n",
       "    .dataframe thead th {\n",
       "        text-align: right;\n",
       "    }\n",
       "</style>\n",
       "<table border=\"1\" class=\"dataframe\">\n",
       "  <thead>\n",
       "    <tr style=\"text-align: right;\">\n",
       "      <th></th>\n",
       "      <th>views</th>\n",
       "      <th>name</th>\n",
       "    </tr>\n",
       "  </thead>\n",
       "  <tbody>\n",
       "    <tr>\n",
       "      <th>%27Abd_al-Ilah</th>\n",
       "      <td>1</td>\n",
       "      <td>%27Abd_al-Ilah</td>\n",
       "    </tr>\n",
       "    <tr>\n",
       "      <th>%C3%81ine_Brady</th>\n",
       "      <td>1</td>\n",
       "      <td>%C3%81ine_Brady</td>\n",
       "    </tr>\n",
       "    <tr>\n",
       "      <th>%C3%81lvaro_Arz%C3%BA</th>\n",
       "      <td>2</td>\n",
       "      <td>%C3%81lvaro_Arz%C3%BA</td>\n",
       "    </tr>\n",
       "    <tr>\n",
       "      <th>%C3%81lvaro_Colom</th>\n",
       "      <td>64</td>\n",
       "      <td>%C3%81lvaro_Colom</td>\n",
       "    </tr>\n",
       "    <tr>\n",
       "      <th>%C3%81lvaro_Cunhal</th>\n",
       "      <td>1</td>\n",
       "      <td>%C3%81lvaro_Cunhal</td>\n",
       "    </tr>\n",
       "  </tbody>\n",
       "</table>\n",
       "</div>"
      ],
      "text/plain": [
       "                       views                   name\n",
       "%27Abd_al-Ilah             1         %27Abd_al-Ilah\n",
       "%C3%81ine_Brady            1        %C3%81ine_Brady\n",
       "%C3%81lvaro_Arz%C3%BA      2  %C3%81lvaro_Arz%C3%BA\n",
       "%C3%81lvaro_Colom         64      %C3%81lvaro_Colom\n",
       "%C3%81lvaro_Cunhal         1     %C3%81lvaro_Cunhal"
      ]
     },
     "execution_count": 37,
     "metadata": {},
     "output_type": "execute_result"
    }
   ],
   "source": [
    "s_politicians.index = s_politicians.values\n",
    "s_politicians\n",
    "df.join(s_politicians, how='inner').head()"
   ]
  },
  {
   "cell_type": "code",
   "execution_count": 38,
   "metadata": {
    "collapsed": false
   },
   "outputs": [
    {
     "name": "stdout",
     "output_type": "stream",
     "text": [
      "4.07 s ± 88 ms per loop (mean ± std. dev. of 7 runs, 1 loop each)\n"
     ]
    }
   ],
   "source": [
    "%timeit df.join(s_politicians, how='inner')"
   ]
  },
  {
   "cell_type": "code",
   "execution_count": 39,
   "metadata": {
    "collapsed": false
   },
   "outputs": [],
   "source": [
    "df = pd.read_csv(file_paths[4], sep=\" \")\n",
    "df.columns = [\"project\", \"name\" ,\"views\", \"size\"]\n",
    "df = df[df[\"project\"] == \"en\"]\n",
    "df = df.drop([\"size\",\"project\"], axis=1)\n",
    "x = pol_df\n",
    "x.columns = [\"name\"]"
   ]
  },
  {
   "cell_type": "code",
   "execution_count": 40,
   "metadata": {
    "collapsed": false
   },
   "outputs": [
    {
     "name": "stdout",
     "output_type": "stream",
     "text": [
      "719 ms ± 4.96 ms per loop (mean ± std. dev. of 7 runs, 1 loop each)\n"
     ]
    }
   ],
   "source": [
    "%timeit df.merge(pol_df, on=[\"name\"])"
   ]
  },
  {
   "cell_type": "markdown",
   "metadata": {},
   "source": [
    "# Final "
   ]
  },
  {
   "cell_type": "code",
   "execution_count": 42,
   "metadata": {
    "collapsed": true
   },
   "outputs": [],
   "source": [
    "pol_df.columns = [\"name\"]"
   ]
  },
  {
   "cell_type": "code",
   "execution_count": 41,
   "metadata": {
    "collapsed": true
   },
   "outputs": [],
   "source": [
    "def parse(path_old, path_new, names_df):\n",
    "    \"\"\" Reads file, eliminates unneeded data, filters for project \"en\" and sspecified names\n",
    "    \"\"\"\n",
    "    df = pd.read_csv(path_old, sep=\" \")\n",
    "    df.columns = [\"project\", \"name\", \"views\", \"size\"]\n",
    "    df = df[df[\"project\"] == \"en\"]\n",
    "    df = df.drop([\"size\",\"project\"], axis=1)\n",
    "    df = df.merge(names_df, on=[\"name\"])\n",
    "    df.to_csv(path_new, sep=\" \",compression=\"gzip\", index=False, header=False)\n",
    "    print(\"{} > {}, DONE! \".format(path_old, path_new))"
   ]
  },
  {
   "cell_type": "code",
   "execution_count": 45,
   "metadata": {
    "collapsed": false
   },
   "outputs": [
    {
     "name": "stdout",
     "output_type": "stream",
     "text": [
      "/bigdata/vujovic/Wikipedia-Politician-Network/pageviews/files/2009/pagecounts-20090513-090000.gz > output.gz, DONE! \n",
      "/bigdata/vujovic/Wikipedia-Politician-Network/pageviews/files/2009/pagecounts-20090513-090000.gz > output.gz, DONE! \n",
      "/bigdata/vujovic/Wikipedia-Politician-Network/pageviews/files/2009/pagecounts-20090513-090000.gz > output.gz, DONE! \n",
      "/bigdata/vujovic/Wikipedia-Politician-Network/pageviews/files/2009/pagecounts-20090513-090000.gz > output.gz, DONE! \n",
      "/bigdata/vujovic/Wikipedia-Politician-Network/pageviews/files/2009/pagecounts-20090513-090000.gz > output.gz, DONE! \n",
      "/bigdata/vujovic/Wikipedia-Politician-Network/pageviews/files/2009/pagecounts-20090513-090000.gz > output.gz, DONE! \n",
      "/bigdata/vujovic/Wikipedia-Politician-Network/pageviews/files/2009/pagecounts-20090513-090000.gz > output.gz, DONE! \n",
      "/bigdata/vujovic/Wikipedia-Politician-Network/pageviews/files/2009/pagecounts-20090513-090000.gz > output.gz, DONE! \n",
      "6.32 s ± 38.5 ms per loop (mean ± std. dev. of 7 runs, 1 loop each)\n"
     ]
    }
   ],
   "source": [
    "%timeit parse(file_paths[4],'output.gz', pol_df)"
   ]
  },
  {
   "cell_type": "markdown",
   "metadata": {},
   "source": [
    "# Group by"
   ]
  },
  {
   "cell_type": "code",
   "execution_count": null,
   "metadata": {
    "collapsed": false
   },
   "outputs": [],
   "source": [
    "# filter_gzip_pd(file_paths[1000], \"output4.gz\",l_politicians, method=\"list\")\n",
    "# filter_gzip_pd(file_paths[100], \"output5.gz\",l_politicians, method=\"list\")\n",
    "# filter_gzip_pd(file_paths[10], \"output6.gz\",l_politicians, method=\"list\")\n",
    "# filter_gzip_pd(file_paths[1098], \"output7.gz\",l_politicians, method=\"list\")\n",
    "# filter_gzip_pd(file_paths[150], \"output8.gz\",l_politicians, method=\"list\")\n",
    "# filter_gzip_pd(file_paths[4658], \"output9.gz\",l_politicians, method=\"list\")\n",
    "# filter_gzip_pd(file_paths[7000], \"output10.gz\",l_politicians, method=\"list\")"
   ]
  },
  {
   "cell_type": "code",
   "execution_count": null,
   "metadata": {
    "collapsed": false
   },
   "outputs": [],
   "source": [
    "dfs = []\n",
    "for i in range(1,11):\n",
    "    df = pd.read_csv(\"output{}.gz\".format(i), sep=\" \")\n",
    "    df.columns = [\"name\", \"views\"]\n",
    "    dfs.append(df)\n",
    "ten_dfs = pd.concat(dfs)"
   ]
  },
  {
   "cell_type": "code",
   "execution_count": null,
   "metadata": {
    "collapsed": false
   },
   "outputs": [],
   "source": [
    "ten_dfs.head()"
   ]
  },
  {
   "cell_type": "code",
   "execution_count": null,
   "metadata": {
    "collapsed": false
   },
   "outputs": [],
   "source": [
    "df = ten_dfs.groupby(by=\"name\")[\"views\"].sum()\n",
    "df.index"
   ]
  },
  {
   "cell_type": "code",
   "execution_count": null,
   "metadata": {
    "collapsed": true
   },
   "outputs": [],
   "source": []
  }
 ],
 "metadata": {
  "kernelspec": {
   "display_name": "Python 3",
   "language": "python",
   "name": "python3"
  },
  "language_info": {
   "codemirror_mode": {
    "name": "ipython",
    "version": 3
   },
   "file_extension": ".py",
   "mimetype": "text/x-python",
   "name": "python",
   "nbconvert_exporter": "python",
   "pygments_lexer": "ipython3",
   "version": "3.5.2"
  }
 },
 "nbformat": 4,
 "nbformat_minor": 2
}
