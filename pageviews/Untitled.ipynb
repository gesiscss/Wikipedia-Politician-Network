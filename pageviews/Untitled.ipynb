{
 "cells": [
  {
   "cell_type": "code",
   "execution_count": 69,
   "metadata": {
    "collapsed": false
   },
   "outputs": [],
   "source": [
    "import requests\n",
    "# import unicode\n",
    "import io"
   ]
  },
  {
   "cell_type": "code",
   "execution_count": 73,
   "metadata": {
    "collapsed": false
   },
   "outputs": [],
   "source": [
    "# url = \"https://dumps.wikimedia.org/other/pagecounts-raw/2009/2009-01/pagecounts-20090101-000000.gz\"\n",
    "# r = requests.get(url, stream=True)\n",
    "# #     if r.status_code != 200:\n",
    "# #             # next_run.append(url)\n",
    "# #             q.put(url)\n",
    "# #             print(\"Server did not response correctly, url added to the end of queue\")\n",
    "# #             # print(\"Added {} to NEW ROUND (bach size: {})\".format(f_name, len(next_run)))\n",
    "        \n",
    "# #         print(\"Downloading {}\".format(url))\n",
    "# print(r.encoding)\n",
    "# with open(\"tf.gz\", 'rt', encoding='utf-8') as f:\n",
    "#     i = 0\n",
    "#     for chunk in r.iter_content(chunk_size=1024):\n",
    "        \n",
    "#         if chunk and i <300:\n",
    "# #             chunk = chunk.decode('utf-8', errors='ignore')\n",
    "# #             f.write(chunk)\n",
    "#             print(chunk.decode('ISO-8859-1'))\n",
    "#     i = i+1\n",
    "            "
   ]
  },
  {
   "cell_type": "code",
   "execution_count": 74,
   "metadata": {
    "collapsed": false
   },
   "outputs": [],
   "source": [
    "# url = \"https://dumps.wikimedia.org/other/pagecounts-raw/2009/2009-01/pagecounts-20090101-000000.gz\"\n",
    "# r = requests.get(url, stream=True)\n",
    "# #     if r.status_code != 200:\n",
    "# #             # next_run.append(url)\n",
    "# #             q.put(url)\n",
    "# #             print(\"Server did not response correctly, url added to the end of queue\")\n",
    "# #             # print(\"Added {} to NEW ROUND (bach size: {})\".format(f_name, len(next_run)))\n",
    "        \n",
    "# #         print(\"Downloading {}\".format(url))\n",
    "# print(r.encoding)"
   ]
  },
  {
   "cell_type": "code",
   "execution_count": null,
   "metadata": {
    "collapsed": false
   },
   "outputs": [],
   "source": [
    "# import gzip\n",
    "# fp = gzip.open('files/2009/pagecounts-20090101-050000(1).gz')\n",
    "# contents = fp.read() # contents now has the uncompressed bytes of foo.gz\n",
    "# fp.close()\n",
    "# u_str = contents.decode()"
   ]
  },
  {
   "cell_type": "code",
   "execution_count": null,
   "metadata": {
    "collapsed": true
   },
   "outputs": [],
   "source": [
    "# import gzip\n",
    "# zf = gzip.open('files/2009/pagecounts-20090101-050000.gz', 'rt', encoding='utf-8')"
   ]
  },
  {
   "cell_type": "code",
   "execution_count": null,
   "metadata": {
    "collapsed": false
   },
   "outputs": [],
   "source": [
    "# import codecs\n",
    "# zf = gzip.open('files/2009/pagecounts-20090101-050000.gz', 'rb')\n",
    "# reader = codecs.getreader(\"utf-8\")\n",
    "# contents = reader(zf)\n",
    "# for line in contents:\n",
    "#     pass"
   ]
  },
  {
   "cell_type": "code",
   "execution_count": null,
   "metadata": {
    "collapsed": true
   },
   "outputs": [],
   "source": []
  }
 ],
 "metadata": {
  "kernelspec": {
   "display_name": "Python 3",
   "language": "python",
   "name": "python3"
  },
  "language_info": {
   "codemirror_mode": {
    "name": "ipython",
    "version": 3
   },
   "file_extension": ".py",
   "mimetype": "text/x-python",
   "name": "python",
   "nbconvert_exporter": "python",
   "pygments_lexer": "ipython3",
   "version": "3.6.0"
  }
 },
 "nbformat": 4,
 "nbformat_minor": 2
}
