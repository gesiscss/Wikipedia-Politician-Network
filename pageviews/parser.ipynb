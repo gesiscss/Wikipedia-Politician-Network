{
 "cells": [
  {
   "cell_type": "code",
   "execution_count": 1,
   "metadata": {
    "collapsed": false
   },
   "outputs": [],
   "source": [
    "import os\n",
    "from os import listdir\n",
    "from os import listdir\n",
    "from os.path import isfile, join\n",
    "from mwviews.utilities import aggregate\n",
    "from mwviews import page_view_count\n",
    "import gzip\n",
    "import pandas as pd\n",
    "from urllib.parse import quote, unquote"
   ]
  },
  {
   "cell_type": "markdown",
   "metadata": {},
   "source": [
    "# Paths"
   ]
  },
  {
   "cell_type": "code",
   "execution_count": 2,
   "metadata": {
    "collapsed": true
   },
   "outputs": [],
   "source": [
    "files_path = \"/bigdata/vujovic/Wikipedia-Politician-Network/pageviews/files/2009/\""
   ]
  },
  {
   "cell_type": "markdown",
   "metadata": {},
   "source": [
    "# Getting file paths"
   ]
  },
  {
   "cell_type": "code",
   "execution_count": 3,
   "metadata": {
    "collapsed": false
   },
   "outputs": [],
   "source": [
    "def get_files(path):\n",
    "    \"\"\" Returns a list of files in a directory\n",
    "        Input parameter: path to directory\n",
    "    \"\"\"\n",
    "    mypath = path\n",
    "    complete = [f for f in listdir(mypath) if isfile(join(mypath, f))]\n",
    "    return complete"
   ]
  },
  {
   "cell_type": "code",
   "execution_count": 4,
   "metadata": {
    "collapsed": false
   },
   "outputs": [],
   "source": [
    "lst = get_files(files_path)"
   ]
  },
  {
   "cell_type": "code",
   "execution_count": 5,
   "metadata": {
    "collapsed": false
   },
   "outputs": [],
   "source": [
    "file_paths = [files_path+f for f in lst]"
   ]
  },
  {
   "cell_type": "markdown",
   "metadata": {},
   "source": [
    "# Loading files"
   ]
  },
  {
   "cell_type": "code",
   "execution_count": 6,
   "metadata": {
    "collapsed": true
   },
   "outputs": [],
   "source": [
    "hour_files = [aggregate.open_hour_file(f) for f in file_paths[:10]]"
   ]
  },
  {
   "cell_type": "code",
   "execution_count": 7,
   "metadata": {
    "collapsed": false
   },
   "outputs": [
    {
     "data": {
      "text/plain": [
       "[<_io.TextIOWrapper name='/bigdata/vujovic/Wikipedia-Politician-Network/pageviews/files/2009/pagecounts-20090217-070000.gz' encoding='utf-8'>,\n",
       " <_io.TextIOWrapper name='/bigdata/vujovic/Wikipedia-Politician-Network/pageviews/files/2009/pagecounts-20090130-190000.gz' encoding='utf-8'>,\n",
       " <_io.TextIOWrapper name='/bigdata/vujovic/Wikipedia-Politician-Network/pageviews/files/2009/pagecounts-20090531-020000.gz' encoding='utf-8'>,\n",
       " <_io.TextIOWrapper name='/bigdata/vujovic/Wikipedia-Politician-Network/pageviews/files/2009/pagecounts-20091011-160000.gz' encoding='utf-8'>,\n",
       " <_io.TextIOWrapper name='/bigdata/vujovic/Wikipedia-Politician-Network/pageviews/files/2009/pagecounts-20090513-090000.gz' encoding='utf-8'>,\n",
       " <_io.TextIOWrapper name='/bigdata/vujovic/Wikipedia-Politician-Network/pageviews/files/2009/pagecounts-20090918-030000.gz' encoding='utf-8'>,\n",
       " <_io.TextIOWrapper name='/bigdata/vujovic/Wikipedia-Politician-Network/pageviews/files/2009/pagecounts-20090805-160000.gz' encoding='utf-8'>,\n",
       " <_io.TextIOWrapper name='/bigdata/vujovic/Wikipedia-Politician-Network/pageviews/files/2009/pagecounts-20090212-200000.gz' encoding='utf-8'>,\n",
       " <_io.TextIOWrapper name='/bigdata/vujovic/Wikipedia-Politician-Network/pageviews/files/2009/pagecounts-20091226-130000.gz' encoding='utf-8'>,\n",
       " <_io.TextIOWrapper name='/bigdata/vujovic/Wikipedia-Politician-Network/pageviews/files/2009/pagecounts-20091202-200000.gz' encoding='utf-8'>]"
      ]
     },
     "execution_count": 7,
     "metadata": {},
     "output_type": "execute_result"
    }
   ],
   "source": [
    "hour_files"
   ]
  },
  {
   "cell_type": "markdown",
   "metadata": {},
   "source": [
    "# Preparing output file"
   ]
  },
  {
   "cell_type": "code",
   "execution_count": 8,
   "metadata": {
    "collapsed": true
   },
   "outputs": [],
   "source": [
    "# output_file = open(\"proba\", \"w\")"
   ]
  },
  {
   "cell_type": "markdown",
   "metadata": {},
   "source": [
    "# Aggregating"
   ]
  },
  {
   "cell_type": "code",
   "execution_count": 9,
   "metadata": {
    "collapsed": false
   },
   "outputs": [],
   "source": [
    "# aggregate.run(hour_files,set([\"en\"]),output_file,False)"
   ]
  },
  {
   "cell_type": "markdown",
   "metadata": {},
   "source": [
    "# Filtering with Gzip"
   ]
  },
  {
   "cell_type": "code",
   "execution_count": 10,
   "metadata": {
    "collapsed": false
   },
   "outputs": [],
   "source": [
    "def filter_gzip(path_old, path_new):\n",
    "    fo = gzip.open('output.gz', 'w')\n",
    "    f = gzip.open(file_paths[6], 'rb')\n",
    "    for line in f.readlines():\n",
    "        #     if line.split(\" \")[0] == \"en\".encode():\n",
    "        if line.decode().split(\" \")[0] == \"en\":\n",
    "            fo.write(line)\n",
    "    f.close()\n",
    "    fo.close()\n",
    "    print(\"{} > {}, DONE! \".format(path_old, path_new))"
   ]
  },
  {
   "cell_type": "code",
   "execution_count": 11,
   "metadata": {
    "collapsed": true
   },
   "outputs": [],
   "source": [
    "# %timeit filter_gzip(file_paths[4], \"output.gz\") # this filters down just to EN wikipedia"
   ]
  },
  {
   "cell_type": "code",
   "execution_count": 12,
   "metadata": {
    "collapsed": false
   },
   "outputs": [],
   "source": [
    "# %timeit filter_gzip(file_paths[4], \"output.gz\")"
   ]
  },
  {
   "cell_type": "code",
   "execution_count": 13,
   "metadata": {
    "collapsed": false
   },
   "outputs": [],
   "source": [
    "# file_paths"
   ]
  },
  {
   "cell_type": "markdown",
   "metadata": {},
   "source": [
    "# Filtering with Pandas"
   ]
  },
  {
   "cell_type": "code",
   "execution_count": 14,
   "metadata": {
    "collapsed": true
   },
   "outputs": [],
   "source": [
    "# df = pd.read_csv(\"output.gz\", sep = \" \")"
   ]
  },
  {
   "cell_type": "code",
   "execution_count": 15,
   "metadata": {
    "collapsed": true
   },
   "outputs": [],
   "source": [
    "# df.columns = [\"project\", \"name\", \"views\", \"size\"]\n",
    "# df.head()"
   ]
  },
  {
   "cell_type": "code",
   "execution_count": 16,
   "metadata": {
    "collapsed": false
   },
   "outputs": [
    {
     "data": {
      "text/html": [
       "<div>\n",
       "<style scoped>\n",
       "    .dataframe tbody tr th:only-of-type {\n",
       "        vertical-align: middle;\n",
       "    }\n",
       "\n",
       "    .dataframe tbody tr th {\n",
       "        vertical-align: top;\n",
       "    }\n",
       "\n",
       "    .dataframe thead th {\n",
       "        text-align: right;\n",
       "    }\n",
       "</style>\n",
       "<table border=\"1\" class=\"dataframe\">\n",
       "  <thead>\n",
       "    <tr style=\"text-align: right;\">\n",
       "      <th></th>\n",
       "      <th>names_u</th>\n",
       "      <th>names_q</th>\n",
       "    </tr>\n",
       "  </thead>\n",
       "  <tbody>\n",
       "    <tr>\n",
       "      <th>0</th>\n",
       "      <td>Nizamettin_Erkmen</td>\n",
       "      <td>Nizamettin_Erkmen</td>\n",
       "    </tr>\n",
       "    <tr>\n",
       "      <th>1</th>\n",
       "      <td>Claudio_Scajola</td>\n",
       "      <td>Claudio_Scajola</td>\n",
       "    </tr>\n",
       "    <tr>\n",
       "      <th>2</th>\n",
       "      <td>Yang_Ti-liang</td>\n",
       "      <td>Yang_Ti-liang</td>\n",
       "    </tr>\n",
       "    <tr>\n",
       "      <th>3</th>\n",
       "      <td>Mohammad_Natsir</td>\n",
       "      <td>Mohammad_Natsir</td>\n",
       "    </tr>\n",
       "    <tr>\n",
       "      <th>4</th>\n",
       "      <td>Carolyn_Maloney</td>\n",
       "      <td>Carolyn_Maloney</td>\n",
       "    </tr>\n",
       "  </tbody>\n",
       "</table>\n",
       "</div>"
      ],
      "text/plain": [
       "             names_u            names_q\n",
       "0  Nizamettin_Erkmen  Nizamettin_Erkmen\n",
       "1    Claudio_Scajola    Claudio_Scajola\n",
       "2      Yang_Ti-liang      Yang_Ti-liang\n",
       "3    Mohammad_Natsir    Mohammad_Natsir\n",
       "4    Carolyn_Maloney    Carolyn_Maloney"
      ]
     },
     "execution_count": 16,
     "metadata": {},
     "output_type": "execute_result"
    }
   ],
   "source": [
    "df = pd.read_csv(\"../data/cohort/wiki_page_cohorts/2009.csv\")\n",
    "df.head()"
   ]
  },
  {
   "cell_type": "code",
   "execution_count": 17,
   "metadata": {
    "collapsed": true
   },
   "outputs": [],
   "source": [
    "def qoute_lst(lst):\n",
    "    \"\"\" Changes normal characters in names to %c4%87 because, for example:\n",
    "        'Slavica_Đukić_Dejanović' > 'Slavica_%C4%90uki%C4%87_Dejanovi%C4%87'\n",
    "    \"\"\"\n",
    "    return [quote(name) for name in lst]"
   ]
  },
  {
   "cell_type": "markdown",
   "metadata": {},
   "source": [
    "# Input params"
   ]
  },
  {
   "cell_type": "code",
   "execution_count": 18,
   "metadata": {
    "collapsed": false
   },
   "outputs": [],
   "source": [
    "s_politicians = df[\"names_q\"]\n",
    "pol_df = df.drop([\"names_u\"], axis=1)\n",
    "# s_politicians.name = \"name\"\n",
    "# pol_df = pd.DataFrame(s_politicians)\n",
    "# s_politicians"
   ]
  },
  {
   "cell_type": "code",
   "execution_count": 19,
   "metadata": {
    "collapsed": false
   },
   "outputs": [],
   "source": [
    "# %timeit filter_gzip_pd(file_paths[4], \"output.gz\",s_politicians)"
   ]
  },
  {
   "cell_type": "markdown",
   "metadata": {},
   "source": [
    "# Merge variations "
   ]
  },
  {
   "cell_type": "markdown",
   "metadata": {},
   "source": [
    "Faster than isin() and faster when filtering for project is done before the matching"
   ]
  },
  {
   "cell_type": "code",
   "execution_count": 20,
   "metadata": {
    "collapsed": true
   },
   "outputs": [],
   "source": [
    "def filter_gzip_pd_a(path_old, path_new, names, method=\"merge\"):\n",
    "    \n",
    "    df = pd.read_csv(path_old, sep=\" \")\n",
    "    df.columns = [\"project\", \"name\", \"views\", \"size\"]\n",
    "    df = df.drop([\"size\"], axis=1)\n",
    "    if method == \"merge\":\n",
    "        names.name=\"name\"\n",
    "        pol_df = pd.DataFrame(s_politicians)\n",
    "#         df = df.set_index(\"name\",drop=True)\n",
    "#         df = df.join(names, how='inner')\n",
    "        df = df.merge(pol_df, on=[\"name\"])\n",
    "    elif method == \"list\":\n",
    "        df = df[df[\"name\"].isin(names)]\n",
    "    df = df[df[\"project\"] == \"en\"]\n",
    "    df = df.drop([\"project\"], axis=1)\n",
    "#     print(df.head())\n",
    "#     print(df.shape)\n",
    "    df.to_csv(path_new, sep=\" \",compression=\"gzip\", index=False, header=False)\n",
    "    print(\"{} > {}, DONE! \".format(path_old, path_new))"
   ]
  },
  {
   "cell_type": "code",
   "execution_count": 21,
   "metadata": {
    "collapsed": false
   },
   "outputs": [
    {
     "name": "stdout",
     "output_type": "stream",
     "text": [
      "/bigdata/vujovic/Wikipedia-Politician-Network/pageviews/files/2009/pagecounts-20090513-090000.gz > output.gz, DONE! \n",
      "/bigdata/vujovic/Wikipedia-Politician-Network/pageviews/files/2009/pagecounts-20090513-090000.gz > output.gz, DONE! \n",
      "/bigdata/vujovic/Wikipedia-Politician-Network/pageviews/files/2009/pagecounts-20090513-090000.gz > output.gz, DONE! \n",
      "/bigdata/vujovic/Wikipedia-Politician-Network/pageviews/files/2009/pagecounts-20090513-090000.gz > output.gz, DONE! \n",
      "/bigdata/vujovic/Wikipedia-Politician-Network/pageviews/files/2009/pagecounts-20090513-090000.gz > output.gz, DONE! \n",
      "/bigdata/vujovic/Wikipedia-Politician-Network/pageviews/files/2009/pagecounts-20090513-090000.gz > output.gz, DONE! \n",
      "/bigdata/vujovic/Wikipedia-Politician-Network/pageviews/files/2009/pagecounts-20090513-090000.gz > output.gz, DONE! \n",
      "/bigdata/vujovic/Wikipedia-Politician-Network/pageviews/files/2009/pagecounts-20090513-090000.gz > output.gz, DONE! \n",
      "8.17 s ± 545 ms per loop (mean ± std. dev. of 7 runs, 1 loop each)\n"
     ]
    }
   ],
   "source": [
    "%timeit filter_gzip_pd_a(file_paths[4], \"output.gz\",s_politicians)"
   ]
  },
  {
   "cell_type": "code",
   "execution_count": 23,
   "metadata": {
    "collapsed": false
   },
   "outputs": [],
   "source": [
    "def filter_gzip_pd_b(path_old, path_new, names, method=\"merge\"):\n",
    "    \n",
    "    df = pd.read_csv(path_old, sep=\" \")\n",
    "    df.columns = [\"project\", \"name\", \"views\", \"size\"]\n",
    "    df = df[df[\"project\"] == \"en\"]\n",
    "    df = df.drop([\"size\",\"project\"], axis=1)\n",
    "#     df = df.drop([\"project\"], axis=1)\n",
    "    if method == \"merge\":\n",
    "        names.name=\"name\"\n",
    "        pol_df = pd.DataFrame(s_politicians)\n",
    "#         df = df.set_index(\"name\",drop=True)\n",
    "#         df = df.join(names, how='inner')\n",
    "        df = df.merge(pol_df, on=[\"name\"])\n",
    "    elif method == \"list\":\n",
    "        df = df[df[\"name\"].isin(names)]\n",
    "#     print(df.head())\n",
    "#     print(df.shape)\n",
    "    df.to_csv(path_new, sep=\" \",compression=\"gzip\", index=False, header=False)\n",
    "    print(\"{} > {}, DONE! \".format(path_old, path_new))"
   ]
  },
  {
   "cell_type": "code",
   "execution_count": 24,
   "metadata": {
    "collapsed": false
   },
   "outputs": [
    {
     "name": "stdout",
     "output_type": "stream",
     "text": [
      "/bigdata/vujovic/Wikipedia-Politician-Network/pageviews/files/2009/pagecounts-20090513-090000.gz > output.gz, DONE! \n",
      "/bigdata/vujovic/Wikipedia-Politician-Network/pageviews/files/2009/pagecounts-20090513-090000.gz > output.gz, DONE! \n",
      "/bigdata/vujovic/Wikipedia-Politician-Network/pageviews/files/2009/pagecounts-20090513-090000.gz > output.gz, DONE! \n",
      "/bigdata/vujovic/Wikipedia-Politician-Network/pageviews/files/2009/pagecounts-20090513-090000.gz > output.gz, DONE! \n",
      "/bigdata/vujovic/Wikipedia-Politician-Network/pageviews/files/2009/pagecounts-20090513-090000.gz > output.gz, DONE! \n",
      "/bigdata/vujovic/Wikipedia-Politician-Network/pageviews/files/2009/pagecounts-20090513-090000.gz > output.gz, DONE! \n",
      "/bigdata/vujovic/Wikipedia-Politician-Network/pageviews/files/2009/pagecounts-20090513-090000.gz > output.gz, DONE! \n",
      "/bigdata/vujovic/Wikipedia-Politician-Network/pageviews/files/2009/pagecounts-20090513-090000.gz > output.gz, DONE! \n",
      "6.66 s ± 402 ms per loop (mean ± std. dev. of 7 runs, 1 loop each)\n"
     ]
    }
   ],
   "source": [
    "%timeit filter_gzip_pd_b(file_paths[4], \"output.gz\",s_politicians)"
   ]
  },
  {
   "cell_type": "markdown",
   "metadata": {},
   "source": [
    "# Isin variations"
   ]
  },
  {
   "cell_type": "markdown",
   "metadata": {},
   "source": [
    "In the case of using isin(), two things are interesting, it works faster if: \n",
    "* numpy array is passed rather than a series\n",
    "* filtering by project is done after rather than before the matching "
   ]
  },
  {
   "cell_type": "code",
   "execution_count": 25,
   "metadata": {
    "collapsed": false
   },
   "outputs": [
    {
     "name": "stdout",
     "output_type": "stream",
     "text": [
      "/bigdata/vujovic/Wikipedia-Politician-Network/pageviews/files/2009/pagecounts-20090513-090000.gz > output.gz, DONE! \n",
      "/bigdata/vujovic/Wikipedia-Politician-Network/pageviews/files/2009/pagecounts-20090513-090000.gz > output.gz, DONE! \n",
      "/bigdata/vujovic/Wikipedia-Politician-Network/pageviews/files/2009/pagecounts-20090513-090000.gz > output.gz, DONE! \n",
      "/bigdata/vujovic/Wikipedia-Politician-Network/pageviews/files/2009/pagecounts-20090513-090000.gz > output.gz, DONE! \n",
      "/bigdata/vujovic/Wikipedia-Politician-Network/pageviews/files/2009/pagecounts-20090513-090000.gz > output.gz, DONE! \n",
      "/bigdata/vujovic/Wikipedia-Politician-Network/pageviews/files/2009/pagecounts-20090513-090000.gz > output.gz, DONE! \n",
      "/bigdata/vujovic/Wikipedia-Politician-Network/pageviews/files/2009/pagecounts-20090513-090000.gz > output.gz, DONE! \n",
      "/bigdata/vujovic/Wikipedia-Politician-Network/pageviews/files/2009/pagecounts-20090513-090000.gz > output.gz, DONE! \n",
      "15.3 s ± 688 ms per loop (mean ± std. dev. of 7 runs, 1 loop each)\n"
     ]
    }
   ],
   "source": [
    "%timeit filter_gzip_pd_a(file_paths[4], \"output.gz\",s_politicians, method=\"isin\")"
   ]
  },
  {
   "cell_type": "code",
   "execution_count": 26,
   "metadata": {
    "collapsed": false
   },
   "outputs": [
    {
     "name": "stdout",
     "output_type": "stream",
     "text": [
      "/bigdata/vujovic/Wikipedia-Politician-Network/pageviews/files/2009/pagecounts-20090513-090000.gz > output.gz, DONE! \n",
      "/bigdata/vujovic/Wikipedia-Politician-Network/pageviews/files/2009/pagecounts-20090513-090000.gz > output.gz, DONE! \n",
      "/bigdata/vujovic/Wikipedia-Politician-Network/pageviews/files/2009/pagecounts-20090513-090000.gz > output.gz, DONE! \n",
      "/bigdata/vujovic/Wikipedia-Politician-Network/pageviews/files/2009/pagecounts-20090513-090000.gz > output.gz, DONE! \n",
      "/bigdata/vujovic/Wikipedia-Politician-Network/pageviews/files/2009/pagecounts-20090513-090000.gz > output.gz, DONE! \n",
      "/bigdata/vujovic/Wikipedia-Politician-Network/pageviews/files/2009/pagecounts-20090513-090000.gz > output.gz, DONE! \n",
      "/bigdata/vujovic/Wikipedia-Politician-Network/pageviews/files/2009/pagecounts-20090513-090000.gz > output.gz, DONE! \n",
      "/bigdata/vujovic/Wikipedia-Politician-Network/pageviews/files/2009/pagecounts-20090513-090000.gz > output.gz, DONE! \n",
      "16.8 s ± 647 ms per loop (mean ± std. dev. of 7 runs, 1 loop each)\n"
     ]
    }
   ],
   "source": [
    "%timeit filter_gzip_pd_b(file_paths[4], \"output.gz\",s_politicians, method=\"isin\")"
   ]
  },
  {
   "cell_type": "code",
   "execution_count": 27,
   "metadata": {
    "collapsed": false
   },
   "outputs": [],
   "source": [
    "lst = s_politicians.values"
   ]
  },
  {
   "cell_type": "code",
   "execution_count": 28,
   "metadata": {
    "collapsed": false
   },
   "outputs": [
    {
     "name": "stdout",
     "output_type": "stream",
     "text": [
      "/bigdata/vujovic/Wikipedia-Politician-Network/pageviews/files/2009/pagecounts-20090513-090000.gz > output.gz, DONE! \n",
      "/bigdata/vujovic/Wikipedia-Politician-Network/pageviews/files/2009/pagecounts-20090513-090000.gz > output.gz, DONE! \n",
      "/bigdata/vujovic/Wikipedia-Politician-Network/pageviews/files/2009/pagecounts-20090513-090000.gz > output.gz, DONE! \n",
      "/bigdata/vujovic/Wikipedia-Politician-Network/pageviews/files/2009/pagecounts-20090513-090000.gz > output.gz, DONE! \n",
      "/bigdata/vujovic/Wikipedia-Politician-Network/pageviews/files/2009/pagecounts-20090513-090000.gz > output.gz, DONE! \n",
      "/bigdata/vujovic/Wikipedia-Politician-Network/pageviews/files/2009/pagecounts-20090513-090000.gz > output.gz, DONE! \n",
      "/bigdata/vujovic/Wikipedia-Politician-Network/pageviews/files/2009/pagecounts-20090513-090000.gz > output.gz, DONE! \n",
      "/bigdata/vujovic/Wikipedia-Politician-Network/pageviews/files/2009/pagecounts-20090513-090000.gz > output.gz, DONE! \n",
      "16.7 s ± 29.3 ms per loop (mean ± std. dev. of 7 runs, 1 loop each)\n"
     ]
    }
   ],
   "source": [
    "%timeit filter_gzip_pd_a(file_paths[4], \"output.gz\",lst, method=\"isin\")"
   ]
  },
  {
   "cell_type": "code",
   "execution_count": 29,
   "metadata": {
    "collapsed": false
   },
   "outputs": [
    {
     "name": "stdout",
     "output_type": "stream",
     "text": [
      "/bigdata/vujovic/Wikipedia-Politician-Network/pageviews/files/2009/pagecounts-20090513-090000.gz > output.gz, DONE! \n",
      "/bigdata/vujovic/Wikipedia-Politician-Network/pageviews/files/2009/pagecounts-20090513-090000.gz > output.gz, DONE! \n",
      "/bigdata/vujovic/Wikipedia-Politician-Network/pageviews/files/2009/pagecounts-20090513-090000.gz > output.gz, DONE! \n",
      "/bigdata/vujovic/Wikipedia-Politician-Network/pageviews/files/2009/pagecounts-20090513-090000.gz > output.gz, DONE! \n",
      "/bigdata/vujovic/Wikipedia-Politician-Network/pageviews/files/2009/pagecounts-20090513-090000.gz > output.gz, DONE! \n",
      "/bigdata/vujovic/Wikipedia-Politician-Network/pageviews/files/2009/pagecounts-20090513-090000.gz > output.gz, DONE! \n",
      "/bigdata/vujovic/Wikipedia-Politician-Network/pageviews/files/2009/pagecounts-20090513-090000.gz > output.gz, DONE! \n",
      "/bigdata/vujovic/Wikipedia-Politician-Network/pageviews/files/2009/pagecounts-20090513-090000.gz > output.gz, DONE! \n",
      "16.4 s ± 57.2 ms per loop (mean ± std. dev. of 7 runs, 1 loop each)\n"
     ]
    }
   ],
   "source": [
    "%timeit filter_gzip_pd_b(file_paths[4], \"output.gz\",lst, method=\"isin\")"
   ]
  },
  {
   "cell_type": "markdown",
   "metadata": {},
   "source": [
    "# Join vs Merge"
   ]
  },
  {
   "cell_type": "markdown",
   "metadata": {},
   "source": [
    "merge is faster and more convinient"
   ]
  },
  {
   "cell_type": "code",
   "execution_count": 30,
   "metadata": {
    "collapsed": false
   },
   "outputs": [],
   "source": [
    "df = pd.read_csv(file_paths[4], sep=\" \",index_col=1)\n",
    "df.columns = [\"project\", \"views\", \"size\"]\n",
    "df = df[df[\"project\"] == \"en\"]\n",
    "df = df.drop([\"size\",\"project\"], axis=1)"
   ]
  },
  {
   "cell_type": "code",
   "execution_count": 31,
   "metadata": {
    "collapsed": false
   },
   "outputs": [],
   "source": [
    "# type(df.index.values.)"
   ]
  },
  {
   "cell_type": "code",
   "execution_count": 32,
   "metadata": {
    "collapsed": true
   },
   "outputs": [],
   "source": [
    "# %timeit df = df.merge(pol_df, on=[\"name\"])\n"
   ]
  },
  {
   "cell_type": "code",
   "execution_count": 37,
   "metadata": {
    "collapsed": false
   },
   "outputs": [
    {
     "data": {
      "text/html": [
       "<div>\n",
       "<style scoped>\n",
       "    .dataframe tbody tr th:only-of-type {\n",
       "        vertical-align: middle;\n",
       "    }\n",
       "\n",
       "    .dataframe tbody tr th {\n",
       "        vertical-align: top;\n",
       "    }\n",
       "\n",
       "    .dataframe thead th {\n",
       "        text-align: right;\n",
       "    }\n",
       "</style>\n",
       "<table border=\"1\" class=\"dataframe\">\n",
       "  <thead>\n",
       "    <tr style=\"text-align: right;\">\n",
       "      <th></th>\n",
       "      <th>views</th>\n",
       "      <th>name</th>\n",
       "    </tr>\n",
       "  </thead>\n",
       "  <tbody>\n",
       "    <tr>\n",
       "      <th>%27Abd_al-Ilah</th>\n",
       "      <td>1</td>\n",
       "      <td>%27Abd_al-Ilah</td>\n",
       "    </tr>\n",
       "    <tr>\n",
       "      <th>%C3%81ine_Brady</th>\n",
       "      <td>1</td>\n",
       "      <td>%C3%81ine_Brady</td>\n",
       "    </tr>\n",
       "    <tr>\n",
       "      <th>%C3%81lvaro_Arz%C3%BA</th>\n",
       "      <td>2</td>\n",
       "      <td>%C3%81lvaro_Arz%C3%BA</td>\n",
       "    </tr>\n",
       "    <tr>\n",
       "      <th>%C3%81lvaro_Colom</th>\n",
       "      <td>64</td>\n",
       "      <td>%C3%81lvaro_Colom</td>\n",
       "    </tr>\n",
       "    <tr>\n",
       "      <th>%C3%81lvaro_Cunhal</th>\n",
       "      <td>1</td>\n",
       "      <td>%C3%81lvaro_Cunhal</td>\n",
       "    </tr>\n",
       "  </tbody>\n",
       "</table>\n",
       "</div>"
      ],
      "text/plain": [
       "                       views                   name\n",
       "%27Abd_al-Ilah             1         %27Abd_al-Ilah\n",
       "%C3%81ine_Brady            1        %C3%81ine_Brady\n",
       "%C3%81lvaro_Arz%C3%BA      2  %C3%81lvaro_Arz%C3%BA\n",
       "%C3%81lvaro_Colom         64      %C3%81lvaro_Colom\n",
       "%C3%81lvaro_Cunhal         1     %C3%81lvaro_Cunhal"
      ]
     },
     "execution_count": 37,
     "metadata": {},
     "output_type": "execute_result"
    }
   ],
   "source": [
    "s_politicians.index = s_politicians.values\n",
    "s_politicians\n",
    "df.join(s_politicians, how='inner').head()"
   ]
  },
  {
   "cell_type": "code",
   "execution_count": 38,
   "metadata": {
    "collapsed": false
   },
   "outputs": [
    {
     "name": "stdout",
     "output_type": "stream",
     "text": [
      "4.07 s ± 88 ms per loop (mean ± std. dev. of 7 runs, 1 loop each)\n"
     ]
    }
   ],
   "source": [
    "%timeit df.join(s_politicians, how='inner')"
   ]
  },
  {
   "cell_type": "code",
   "execution_count": 39,
   "metadata": {
    "collapsed": false
   },
   "outputs": [],
   "source": [
    "df = pd.read_csv(file_paths[4], sep=\" \")\n",
    "df.columns = [\"project\", \"name\" ,\"views\", \"size\"]\n",
    "df = df[df[\"project\"] == \"en\"]\n",
    "df = df.drop([\"size\",\"project\"], axis=1)\n",
    "x = pol_df\n",
    "x.columns = [\"name\"]"
   ]
  },
  {
   "cell_type": "code",
   "execution_count": 40,
   "metadata": {
    "collapsed": false
   },
   "outputs": [
    {
     "name": "stdout",
     "output_type": "stream",
     "text": [
      "719 ms ± 4.96 ms per loop (mean ± std. dev. of 7 runs, 1 loop each)\n"
     ]
    }
   ],
   "source": [
    "%timeit df.merge(pol_df, on=[\"name\"])"
   ]
  },
  {
   "cell_type": "markdown",
   "metadata": {},
   "source": [
    "# Final "
   ]
  },
  {
   "cell_type": "code",
   "execution_count": 42,
   "metadata": {
    "collapsed": true
   },
   "outputs": [],
   "source": [
    "pol_df.columns = [\"name\"]"
   ]
  },
  {
   "cell_type": "code",
   "execution_count": 41,
   "metadata": {
    "collapsed": true
   },
   "outputs": [],
   "source": [
    "def parse(path_old, path_new, names_df):\n",
    "    \"\"\" Reads file, eliminates unneeded data, filters for project \"en\" and sspecified names\n",
    "    \"\"\"\n",
    "    df = pd.read_csv(path_old, sep=\" \")\n",
    "    df.columns = [\"project\", \"name\", \"views\", \"size\"]\n",
    "    df = df[df[\"project\"] == \"en\"]\n",
    "    df = df.drop([\"size\",\"project\"], axis=1)\n",
    "    df = df.merge(names_df, on=[\"name\"])\n",
    "    df.to_csv(path_new, sep=\" \",compression=\"gzip\", index=False, header=False)\n",
    "    print(\"{} > {}, DONE! \".format(path_old, path_new))"
   ]
  },
  {
   "cell_type": "code",
   "execution_count": 45,
   "metadata": {
    "collapsed": false
   },
   "outputs": [
    {
     "name": "stdout",
     "output_type": "stream",
     "text": [
      "/bigdata/vujovic/Wikipedia-Politician-Network/pageviews/files/2009/pagecounts-20090513-090000.gz > output.gz, DONE! \n",
      "/bigdata/vujovic/Wikipedia-Politician-Network/pageviews/files/2009/pagecounts-20090513-090000.gz > output.gz, DONE! \n",
      "/bigdata/vujovic/Wikipedia-Politician-Network/pageviews/files/2009/pagecounts-20090513-090000.gz > output.gz, DONE! \n",
      "/bigdata/vujovic/Wikipedia-Politician-Network/pageviews/files/2009/pagecounts-20090513-090000.gz > output.gz, DONE! \n",
      "/bigdata/vujovic/Wikipedia-Politician-Network/pageviews/files/2009/pagecounts-20090513-090000.gz > output.gz, DONE! \n",
      "/bigdata/vujovic/Wikipedia-Politician-Network/pageviews/files/2009/pagecounts-20090513-090000.gz > output.gz, DONE! \n",
      "/bigdata/vujovic/Wikipedia-Politician-Network/pageviews/files/2009/pagecounts-20090513-090000.gz > output.gz, DONE! \n",
      "/bigdata/vujovic/Wikipedia-Politician-Network/pageviews/files/2009/pagecounts-20090513-090000.gz > output.gz, DONE! \n",
      "6.32 s ± 38.5 ms per loop (mean ± std. dev. of 7 runs, 1 loop each)\n"
     ]
    }
   ],
   "source": [
    "%timeit parse(file_paths[4],'output.gz', pol_df)"
   ]
  },
  {
   "cell_type": "markdown",
   "metadata": {},
   "source": [
    "# Group by"
   ]
  },
  {
   "cell_type": "code",
   "execution_count": null,
   "metadata": {
    "collapsed": false
   },
   "outputs": [],
   "source": [
    "# filter_gzip_pd(file_paths[1000], \"output4.gz\",l_politicians, method=\"list\")\n",
    "# filter_gzip_pd(file_paths[100], \"output5.gz\",l_politicians, method=\"list\")\n",
    "# filter_gzip_pd(file_paths[10], \"output6.gz\",l_politicians, method=\"list\")\n",
    "# filter_gzip_pd(file_paths[1098], \"output7.gz\",l_politicians, method=\"list\")\n",
    "# filter_gzip_pd(file_paths[150], \"output8.gz\",l_politicians, method=\"list\")\n",
    "# filter_gzip_pd(file_paths[4658], \"output9.gz\",l_politicians, method=\"list\")\n",
    "# filter_gzip_pd(file_paths[7000], \"output10.gz\",l_politicians, method=\"list\")"
   ]
  },
  {
   "cell_type": "code",
   "execution_count": null,
   "metadata": {
    "collapsed": false
   },
   "outputs": [],
   "source": [
    "dfs = []\n",
    "for i in range(1,11):\n",
    "    df = pd.read_csv(\"output{}.gz\".format(i), sep=\" \")\n",
    "    df.columns = [\"name\", \"views\"]\n",
    "    dfs.append(df)\n",
    "ten_dfs = pd.concat(dfs)"
   ]
  },
  {
   "cell_type": "code",
   "execution_count": null,
   "metadata": {
    "collapsed": false
   },
   "outputs": [],
   "source": [
    "ten_dfs.head()"
   ]
  },
  {
   "cell_type": "code",
   "execution_count": null,
   "metadata": {
    "collapsed": false
   },
   "outputs": [],
   "source": [
    "df = ten_dfs.groupby(by=\"name\")[\"views\"].sum()\n",
    "df.index"
   ]
  },
  {
   "cell_type": "code",
   "execution_count": 1,
   "metadata": {
    "collapsed": true
   },
   "outputs": [],
   "source": [
    "import pandas as pd"
   ]
  },
  {
   "cell_type": "code",
   "execution_count": 5,
   "metadata": {
    "collapsed": false
   },
   "outputs": [
    {
     "data": {
      "text/html": [
       "<div>\n",
       "<table border=\"1\" class=\"dataframe\">\n",
       "  <thead>\n",
       "    <tr style=\"text-align: right;\">\n",
       "      <th></th>\n",
       "      <th>ar.s</th>\n",
       "      <th>%D9%85%D9%82%D8%AF%D9%85%D8%A9_%D8%A7%D8%A8%D9%86_%D8%A7%D9%84%D8%B5%D9%84%D8%A7%D8%AD/%D8%A7%D9%84%D9%86%D9%88%D8%B9_%D8%A7%D9%84%D8%AB%D8%A7%D9%85%D9%86_%D9%88%D8%A7%D9%84%D8%AE%D9%85%D8%B3%D9%88%D9%86</th>\n",
       "      <th>1</th>\n",
       "      <th>10595</th>\n",
       "    </tr>\n",
       "  </thead>\n",
       "  <tbody>\n",
       "    <tr>\n",
       "      <th>0</th>\n",
       "      <td>ar</td>\n",
       "      <td>%D8%A3%D9%87%D9%84_%D8%A7%D9%84%D8%A8%D9%8A%D8%AA</td>\n",
       "      <td>1</td>\n",
       "      <td>15365</td>\n",
       "    </tr>\n",
       "    <tr>\n",
       "      <th>1</th>\n",
       "      <td>ar</td>\n",
       "      <td>%D8%A7%D9%84%D8%B5%D9%81%D8%AD%D8%A9_%D8%A7%D9...</td>\n",
       "      <td>1</td>\n",
       "      <td>20325</td>\n",
       "    </tr>\n",
       "    <tr>\n",
       "      <th>2</th>\n",
       "      <td>ar</td>\n",
       "      <td>%D8%A8%D8%B1%D8%AC_%D8%A7%D9%84%D8%B3%D8%B1%D8...</td>\n",
       "      <td>1</td>\n",
       "      <td>21010</td>\n",
       "    </tr>\n",
       "    <tr>\n",
       "      <th>3</th>\n",
       "      <td>ar</td>\n",
       "      <td>%D8%AE%D8%A7%D8%B5:%D9%85%D8%A7%D8%B0%D8%A7_%D...</td>\n",
       "      <td>1</td>\n",
       "      <td>6660</td>\n",
       "    </tr>\n",
       "    <tr>\n",
       "      <th>4</th>\n",
       "      <td>ar</td>\n",
       "      <td>%D8%B9%D8%A8%D8%AF_%D8%A7%D9%84%D8%B9%D8%B2%D9...</td>\n",
       "      <td>1</td>\n",
       "      <td>30030</td>\n",
       "    </tr>\n",
       "    <tr>\n",
       "      <th>5</th>\n",
       "      <td>ar</td>\n",
       "      <td>خاص:بحث/Columbus,_Ohio</td>\n",
       "      <td>1</td>\n",
       "      <td>21141</td>\n",
       "    </tr>\n",
       "    <tr>\n",
       "      <th>6</th>\n",
       "      <td>be-x-old</td>\n",
       "      <td>%D0%93%D1%96%D0%BC%D0%BD_%D0%92%D1%83%D0%B3%D0...</td>\n",
       "      <td>1</td>\n",
       "      <td>13320</td>\n",
       "    </tr>\n",
       "    <tr>\n",
       "      <th>7</th>\n",
       "      <td>be</td>\n",
       "      <td>%D0%93%D0%BE%D1%80%D0%B0%D0%B4_%D0%90%D0%BA%D1...</td>\n",
       "      <td>1</td>\n",
       "      <td>9286</td>\n",
       "    </tr>\n",
       "    <tr>\n",
       "      <th>8</th>\n",
       "      <td>beta.v</td>\n",
       "      <td>Special:RecentChangesLinked/%EB%AA%A8%EC%97%90...</td>\n",
       "      <td>1</td>\n",
       "      <td>5215</td>\n",
       "    </tr>\n",
       "    <tr>\n",
       "      <th>9</th>\n",
       "      <td>bg</td>\n",
       "      <td>%D0%A0%D0%BE%D1%81%D1%82%D0%B8%D1%81%D0%BB%D0%...</td>\n",
       "      <td>1</td>\n",
       "      <td>709</td>\n",
       "    </tr>\n",
       "    <tr>\n",
       "      <th>10</th>\n",
       "      <td>bg</td>\n",
       "      <td>%D0%A5%D1%80%D0%B8%D1%81%D1%82%D0%B8%D1%8F%D0%...</td>\n",
       "      <td>1</td>\n",
       "      <td>34148</td>\n",
       "    </tr>\n",
       "    <tr>\n",
       "      <th>11</th>\n",
       "      <td>ca</td>\n",
       "      <td>Boleslau_I_de_Pol%C3%B2nia</td>\n",
       "      <td>1</td>\n",
       "      <td>51703</td>\n",
       "    </tr>\n",
       "    <tr>\n",
       "      <th>12</th>\n",
       "      <td>ca</td>\n",
       "      <td>Regne_de_Pol%C3%B2nia</td>\n",
       "      <td>1</td>\n",
       "      <td>51558</td>\n",
       "    </tr>\n",
       "    <tr>\n",
       "      <th>13</th>\n",
       "      <td>commons.m</td>\n",
       "      <td>COM:FU</td>\n",
       "      <td>1</td>\n",
       "      <td>228399</td>\n",
       "    </tr>\n",
       "    <tr>\n",
       "      <th>14</th>\n",
       "      <td>commons.m</td>\n",
       "      <td>Category:Compositions_by_Wolfgang_Amadeus_Mozart</td>\n",
       "      <td>1</td>\n",
       "      <td>15445</td>\n",
       "    </tr>\n",
       "    <tr>\n",
       "      <th>15</th>\n",
       "      <td>commons.m</td>\n",
       "      <td>Category:Democratic_Republic_of_the_Congo</td>\n",
       "      <td>1</td>\n",
       "      <td>13279</td>\n",
       "    </tr>\n",
       "    <tr>\n",
       "      <th>16</th>\n",
       "      <td>commons.m</td>\n",
       "      <td>Category:Female_genitalia</td>\n",
       "      <td>1</td>\n",
       "      <td>9668</td>\n",
       "    </tr>\n",
       "    <tr>\n",
       "      <th>17</th>\n",
       "      <td>commons.m</td>\n",
       "      <td>Category:Hitler_in_Allied_propaganda</td>\n",
       "      <td>1</td>\n",
       "      <td>5595</td>\n",
       "    </tr>\n",
       "    <tr>\n",
       "      <th>18</th>\n",
       "      <td>commons.m</td>\n",
       "      <td>Category:N._C._Wyeth</td>\n",
       "      <td>1</td>\n",
       "      <td>8313</td>\n",
       "    </tr>\n",
       "    <tr>\n",
       "      <th>19</th>\n",
       "      <td>commons.m</td>\n",
       "      <td>Category:Nature_of_Mallorca</td>\n",
       "      <td>1</td>\n",
       "      <td>6121</td>\n",
       "    </tr>\n",
       "    <tr>\n",
       "      <th>20</th>\n",
       "      <td>commons.m</td>\n",
       "      <td>Category:Pantographs</td>\n",
       "      <td>1</td>\n",
       "      <td>515</td>\n",
       "    </tr>\n",
       "    <tr>\n",
       "      <th>21</th>\n",
       "      <td>commons.m</td>\n",
       "      <td>Category:Roland_Monument_in_%C5%9Aroda_%C5%9Al...</td>\n",
       "      <td>1</td>\n",
       "      <td>5654</td>\n",
       "    </tr>\n",
       "    <tr>\n",
       "      <th>22</th>\n",
       "      <td>commons.m</td>\n",
       "      <td>File:Bryce_Canyon_panorama_01.jpg</td>\n",
       "      <td>1</td>\n",
       "      <td>9912</td>\n",
       "    </tr>\n",
       "    <tr>\n",
       "      <th>23</th>\n",
       "      <td>commons.m</td>\n",
       "      <td>File:Bundesarchiv_B_145_Bild-F064715-0022,_Bon...</td>\n",
       "      <td>1</td>\n",
       "      <td>35649</td>\n",
       "    </tr>\n",
       "    <tr>\n",
       "      <th>24</th>\n",
       "      <td>commons.m</td>\n",
       "      <td>File:Bundesarchiv_Bild_101I-278-0898-11,_Russl...</td>\n",
       "      <td>1</td>\n",
       "      <td>10167</td>\n",
       "    </tr>\n",
       "    <tr>\n",
       "      <th>25</th>\n",
       "      <td>commons.m</td>\n",
       "      <td>File:Burg_Sooneck.jpg</td>\n",
       "      <td>1</td>\n",
       "      <td>509</td>\n",
       "    </tr>\n",
       "    <tr>\n",
       "      <th>26</th>\n",
       "      <td>commons.m</td>\n",
       "      <td>File:C.setto_s.agata_by_Stefano_Bolognini.JPG</td>\n",
       "      <td>1</td>\n",
       "      <td>10339</td>\n",
       "    </tr>\n",
       "    <tr>\n",
       "      <th>27</th>\n",
       "      <td>commons.m</td>\n",
       "      <td>File:Celts_800-400BC.PNG</td>\n",
       "      <td>1</td>\n",
       "      <td>10273</td>\n",
       "    </tr>\n",
       "    <tr>\n",
       "      <th>28</th>\n",
       "      <td>commons.m</td>\n",
       "      <td>File:Cinema_Strenge_Castle_Party_2008_09.jpg</td>\n",
       "      <td>1</td>\n",
       "      <td>11715</td>\n",
       "    </tr>\n",
       "    <tr>\n",
       "      <th>29</th>\n",
       "      <td>commons.m</td>\n",
       "      <td>File:Dorothy_Lamour,_Bing_Crosby,_Jane_Russell...</td>\n",
       "      <td>1</td>\n",
       "      <td>28320</td>\n",
       "    </tr>\n",
       "    <tr>\n",
       "      <th>...</th>\n",
       "      <td>...</td>\n",
       "      <td>...</td>\n",
       "      <td>...</td>\n",
       "      <td>...</td>\n",
       "    </tr>\n",
       "    <tr>\n",
       "      <th>2634</th>\n",
       "      <td>tr</td>\n",
       "      <td>%C3%96zel:Ara</td>\n",
       "      <td>1</td>\n",
       "      <td>6482</td>\n",
       "    </tr>\n",
       "    <tr>\n",
       "      <th>2635</th>\n",
       "      <td>tr</td>\n",
       "      <td>%C4%B0brahim_Tatl%C4%B1ses</td>\n",
       "      <td>1</td>\n",
       "      <td>10808</td>\n",
       "    </tr>\n",
       "    <tr>\n",
       "      <th>2636</th>\n",
       "      <td>tr</td>\n",
       "      <td>%C4%B0slam_mezhepleri</td>\n",
       "      <td>1</td>\n",
       "      <td>13646</td>\n",
       "    </tr>\n",
       "    <tr>\n",
       "      <th>2637</th>\n",
       "      <td>tr</td>\n",
       "      <td>Ana_Sayfa</td>\n",
       "      <td>1</td>\n",
       "      <td>19298</td>\n",
       "    </tr>\n",
       "    <tr>\n",
       "      <th>2638</th>\n",
       "      <td>tr</td>\n",
       "      <td>Diego_Lugano</td>\n",
       "      <td>1</td>\n",
       "      <td>10546</td>\n",
       "    </tr>\n",
       "    <tr>\n",
       "      <th>2639</th>\n",
       "      <td>tr</td>\n",
       "      <td>Gimme_More</td>\n",
       "      <td>1</td>\n",
       "      <td>512</td>\n",
       "    </tr>\n",
       "    <tr>\n",
       "      <th>2640</th>\n",
       "      <td>tr</td>\n",
       "      <td>Higgs_bozonu</td>\n",
       "      <td>1</td>\n",
       "      <td>10102</td>\n",
       "    </tr>\n",
       "    <tr>\n",
       "      <th>2641</th>\n",
       "      <td>tr</td>\n",
       "      <td>Horta_da_Vilari%C3%A7a</td>\n",
       "      <td>1</td>\n",
       "      <td>7525</td>\n",
       "    </tr>\n",
       "    <tr>\n",
       "      <th>2642</th>\n",
       "      <td>tr</td>\n",
       "      <td>Kriptoloji</td>\n",
       "      <td>1</td>\n",
       "      <td>10181</td>\n",
       "    </tr>\n",
       "    <tr>\n",
       "      <th>2643</th>\n",
       "      <td>tr</td>\n",
       "      <td>Resim:Gimme_More.jpg</td>\n",
       "      <td>1</td>\n",
       "      <td>506</td>\n",
       "    </tr>\n",
       "    <tr>\n",
       "      <th>2644</th>\n",
       "      <td>tr</td>\n",
       "      <td>Resim:Malatya_districts.png</td>\n",
       "      <td>1</td>\n",
       "      <td>8621</td>\n",
       "    </tr>\n",
       "    <tr>\n",
       "      <th>2645</th>\n",
       "      <td>uk</td>\n",
       "      <td>%D0%A0%D0%BE%D0%BA%D0%B8%D1%82%D0%BD%D0%B5</td>\n",
       "      <td>1</td>\n",
       "      <td>8050</td>\n",
       "    </tr>\n",
       "    <tr>\n",
       "      <th>2646</th>\n",
       "      <td>uk</td>\n",
       "      <td>%D0%A1%D0%BF%D0%B5%D1%86%D1%96%D0%B0%D0%BB%D1%...</td>\n",
       "      <td>1</td>\n",
       "      <td>1196</td>\n",
       "    </tr>\n",
       "    <tr>\n",
       "      <th>2647</th>\n",
       "      <td>vi</td>\n",
       "      <td>High_School_Musical_3</td>\n",
       "      <td>1</td>\n",
       "      <td>24444</td>\n",
       "    </tr>\n",
       "    <tr>\n",
       "      <th>2648</th>\n",
       "      <td>vi</td>\n",
       "      <td>T%C3%A2y_Nguy%C3%AAn</td>\n",
       "      <td>1</td>\n",
       "      <td>20875</td>\n",
       "    </tr>\n",
       "    <tr>\n",
       "      <th>2649</th>\n",
       "      <td>vi</td>\n",
       "      <td>Th%E1%BB%83_lo%E1%BA%A1i:Huy%E1%BB%87n_duy%C3%...</td>\n",
       "      <td>1</td>\n",
       "      <td>6382</td>\n",
       "    </tr>\n",
       "    <tr>\n",
       "      <th>2650</th>\n",
       "      <td>www.w</td>\n",
       "      <td>MediaWiki/pt</td>\n",
       "      <td>1</td>\n",
       "      <td>11378</td>\n",
       "    </tr>\n",
       "    <tr>\n",
       "      <th>2651</th>\n",
       "      <td>www.w</td>\n",
       "      <td>Special:WhatLinksHere/Manual:$wgDBservers</td>\n",
       "      <td>1</td>\n",
       "      <td>5653</td>\n",
       "    </tr>\n",
       "    <tr>\n",
       "      <th>2652</th>\n",
       "      <td>zh-min-nan</td>\n",
       "      <td>Image:Hui-lu%CC%8Dt-pin_kok-hui.png</td>\n",
       "      <td>1</td>\n",
       "      <td>1038</td>\n",
       "    </tr>\n",
       "    <tr>\n",
       "      <th>2653</th>\n",
       "      <td>zh</td>\n",
       "      <td>%E4%B8%80%E7%9C%89%E9%81%93%E4%BA%BA</td>\n",
       "      <td>1</td>\n",
       "      <td>11133</td>\n",
       "    </tr>\n",
       "    <tr>\n",
       "      <th>2654</th>\n",
       "      <td>zh</td>\n",
       "      <td>%E4%B9%A1%E7%BA%A7%E8%A1%8C%E6%94%BF%E5%8C%BA</td>\n",
       "      <td>1</td>\n",
       "      <td>481</td>\n",
       "    </tr>\n",
       "    <tr>\n",
       "      <th>2655</th>\n",
       "      <td>zh</td>\n",
       "      <td>%E5%8D%97%E8%8D%B7%E8%98%AD%E7%9C%81</td>\n",
       "      <td>1</td>\n",
       "      <td>68650</td>\n",
       "    </tr>\n",
       "    <tr>\n",
       "      <th>2656</th>\n",
       "      <td>zh</td>\n",
       "      <td>%E5%98%89%E6%B3%B0</td>\n",
       "      <td>1</td>\n",
       "      <td>25144</td>\n",
       "    </tr>\n",
       "    <tr>\n",
       "      <th>2657</th>\n",
       "      <td>zh</td>\n",
       "      <td>%E5%A4%AA%E5%B9%B3%E7%B4%B3%E5%A3%AB</td>\n",
       "      <td>1</td>\n",
       "      <td>12030</td>\n",
       "    </tr>\n",
       "    <tr>\n",
       "      <th>2658</th>\n",
       "      <td>zh</td>\n",
       "      <td>%E5%B7%A5%E4%B8%9A%E5%8C%96</td>\n",
       "      <td>1</td>\n",
       "      <td>463</td>\n",
       "    </tr>\n",
       "    <tr>\n",
       "      <th>2659</th>\n",
       "      <td>zh</td>\n",
       "      <td>%E6%B3%A2%E5%87%BD%E6%95%B8%E5%A1%8C%E7%B8%AE</td>\n",
       "      <td>1</td>\n",
       "      <td>469</td>\n",
       "    </tr>\n",
       "    <tr>\n",
       "      <th>2660</th>\n",
       "      <td>zh</td>\n",
       "      <td>%E8%91%89%E5%95%8F</td>\n",
       "      <td>1</td>\n",
       "      <td>12342</td>\n",
       "    </tr>\n",
       "    <tr>\n",
       "      <th>2661</th>\n",
       "      <td>zh</td>\n",
       "      <td>%E8%B4%AD%E4%B9%B0%E5%8A%9B%E5%B9%B3%E4%BB%B7</td>\n",
       "      <td>1</td>\n",
       "      <td>467</td>\n",
       "    </tr>\n",
       "    <tr>\n",
       "      <th>2662</th>\n",
       "      <td>zh</td>\n",
       "      <td>%E8%B7%AF%E8%BF%87%E5%BC%8F%E4%B8%8B%E8%BD%BD</td>\n",
       "      <td>1</td>\n",
       "      <td>481</td>\n",
       "    </tr>\n",
       "    <tr>\n",
       "      <th>2663</th>\n",
       "      <td>zh</td>\n",
       "      <td>Special:Search/%E5%8D%83%E5%B9%B4%E5%A5%B3%E7%...</td>\n",
       "      <td>1</td>\n",
       "      <td>7112</td>\n",
       "    </tr>\n",
       "  </tbody>\n",
       "</table>\n",
       "<p>2664 rows × 4 columns</p>\n",
       "</div>"
      ],
      "text/plain": [
       "            ar.s  \\\n",
       "0             ar   \n",
       "1             ar   \n",
       "2             ar   \n",
       "3             ar   \n",
       "4             ar   \n",
       "5             ar   \n",
       "6       be-x-old   \n",
       "7             be   \n",
       "8         beta.v   \n",
       "9             bg   \n",
       "10            bg   \n",
       "11            ca   \n",
       "12            ca   \n",
       "13     commons.m   \n",
       "14     commons.m   \n",
       "15     commons.m   \n",
       "16     commons.m   \n",
       "17     commons.m   \n",
       "18     commons.m   \n",
       "19     commons.m   \n",
       "20     commons.m   \n",
       "21     commons.m   \n",
       "22     commons.m   \n",
       "23     commons.m   \n",
       "24     commons.m   \n",
       "25     commons.m   \n",
       "26     commons.m   \n",
       "27     commons.m   \n",
       "28     commons.m   \n",
       "29     commons.m   \n",
       "...          ...   \n",
       "2634          tr   \n",
       "2635          tr   \n",
       "2636          tr   \n",
       "2637          tr   \n",
       "2638          tr   \n",
       "2639          tr   \n",
       "2640          tr   \n",
       "2641          tr   \n",
       "2642          tr   \n",
       "2643          tr   \n",
       "2644          tr   \n",
       "2645          uk   \n",
       "2646          uk   \n",
       "2647          vi   \n",
       "2648          vi   \n",
       "2649          vi   \n",
       "2650       www.w   \n",
       "2651       www.w   \n",
       "2652  zh-min-nan   \n",
       "2653          zh   \n",
       "2654          zh   \n",
       "2655          zh   \n",
       "2656          zh   \n",
       "2657          zh   \n",
       "2658          zh   \n",
       "2659          zh   \n",
       "2660          zh   \n",
       "2661          zh   \n",
       "2662          zh   \n",
       "2663          zh   \n",
       "\n",
       "     %D9%85%D9%82%D8%AF%D9%85%D8%A9_%D8%A7%D8%A8%D9%86_%D8%A7%D9%84%D8%B5%D9%84%D8%A7%D8%AD/%D8%A7%D9%84%D9%86%D9%88%D8%B9_%D8%A7%D9%84%D8%AB%D8%A7%D9%85%D9%86_%D9%88%D8%A7%D9%84%D8%AE%D9%85%D8%B3%D9%88%D9%86  \\\n",
       "0     %D8%A3%D9%87%D9%84_%D8%A7%D9%84%D8%A8%D9%8A%D8%AA                                                                                                                                                            \n",
       "1     %D8%A7%D9%84%D8%B5%D9%81%D8%AD%D8%A9_%D8%A7%D9...                                                                                                                                                            \n",
       "2     %D8%A8%D8%B1%D8%AC_%D8%A7%D9%84%D8%B3%D8%B1%D8...                                                                                                                                                            \n",
       "3     %D8%AE%D8%A7%D8%B5:%D9%85%D8%A7%D8%B0%D8%A7_%D...                                                                                                                                                            \n",
       "4     %D8%B9%D8%A8%D8%AF_%D8%A7%D9%84%D8%B9%D8%B2%D9...                                                                                                                                                            \n",
       "5                                خاص:بحث/Columbus,_Ohio                                                                                                                                                            \n",
       "6     %D0%93%D1%96%D0%BC%D0%BD_%D0%92%D1%83%D0%B3%D0...                                                                                                                                                            \n",
       "7     %D0%93%D0%BE%D1%80%D0%B0%D0%B4_%D0%90%D0%BA%D1...                                                                                                                                                            \n",
       "8     Special:RecentChangesLinked/%EB%AA%A8%EC%97%90...                                                                                                                                                            \n",
       "9     %D0%A0%D0%BE%D1%81%D1%82%D0%B8%D1%81%D0%BB%D0%...                                                                                                                                                            \n",
       "10    %D0%A5%D1%80%D0%B8%D1%81%D1%82%D0%B8%D1%8F%D0%...                                                                                                                                                            \n",
       "11                           Boleslau_I_de_Pol%C3%B2nia                                                                                                                                                            \n",
       "12                                Regne_de_Pol%C3%B2nia                                                                                                                                                            \n",
       "13                                               COM:FU                                                                                                                                                            \n",
       "14     Category:Compositions_by_Wolfgang_Amadeus_Mozart                                                                                                                                                            \n",
       "15            Category:Democratic_Republic_of_the_Congo                                                                                                                                                            \n",
       "16                            Category:Female_genitalia                                                                                                                                                            \n",
       "17                 Category:Hitler_in_Allied_propaganda                                                                                                                                                            \n",
       "18                                 Category:N._C._Wyeth                                                                                                                                                            \n",
       "19                          Category:Nature_of_Mallorca                                                                                                                                                            \n",
       "20                                 Category:Pantographs                                                                                                                                                            \n",
       "21    Category:Roland_Monument_in_%C5%9Aroda_%C5%9Al...                                                                                                                                                            \n",
       "22                    File:Bryce_Canyon_panorama_01.jpg                                                                                                                                                            \n",
       "23    File:Bundesarchiv_B_145_Bild-F064715-0022,_Bon...                                                                                                                                                            \n",
       "24    File:Bundesarchiv_Bild_101I-278-0898-11,_Russl...                                                                                                                                                            \n",
       "25                                File:Burg_Sooneck.jpg                                                                                                                                                            \n",
       "26        File:C.setto_s.agata_by_Stefano_Bolognini.JPG                                                                                                                                                            \n",
       "27                             File:Celts_800-400BC.PNG                                                                                                                                                            \n",
       "28         File:Cinema_Strenge_Castle_Party_2008_09.jpg                                                                                                                                                            \n",
       "29    File:Dorothy_Lamour,_Bing_Crosby,_Jane_Russell...                                                                                                                                                            \n",
       "...                                                 ...                                                                                                                                                            \n",
       "2634                                      %C3%96zel:Ara                                                                                                                                                            \n",
       "2635                         %C4%B0brahim_Tatl%C4%B1ses                                                                                                                                                            \n",
       "2636                              %C4%B0slam_mezhepleri                                                                                                                                                            \n",
       "2637                                          Ana_Sayfa                                                                                                                                                            \n",
       "2638                                       Diego_Lugano                                                                                                                                                            \n",
       "2639                                         Gimme_More                                                                                                                                                            \n",
       "2640                                       Higgs_bozonu                                                                                                                                                            \n",
       "2641                             Horta_da_Vilari%C3%A7a                                                                                                                                                            \n",
       "2642                                         Kriptoloji                                                                                                                                                            \n",
       "2643                               Resim:Gimme_More.jpg                                                                                                                                                            \n",
       "2644                        Resim:Malatya_districts.png                                                                                                                                                            \n",
       "2645         %D0%A0%D0%BE%D0%BA%D0%B8%D1%82%D0%BD%D0%B5                                                                                                                                                            \n",
       "2646  %D0%A1%D0%BF%D0%B5%D1%86%D1%96%D0%B0%D0%BB%D1%...                                                                                                                                                            \n",
       "2647                              High_School_Musical_3                                                                                                                                                            \n",
       "2648                               T%C3%A2y_Nguy%C3%AAn                                                                                                                                                            \n",
       "2649  Th%E1%BB%83_lo%E1%BA%A1i:Huy%E1%BB%87n_duy%C3%...                                                                                                                                                            \n",
       "2650                                       MediaWiki/pt                                                                                                                                                            \n",
       "2651          Special:WhatLinksHere/Manual:$wgDBservers                                                                                                                                                            \n",
       "2652                Image:Hui-lu%CC%8Dt-pin_kok-hui.png                                                                                                                                                            \n",
       "2653               %E4%B8%80%E7%9C%89%E9%81%93%E4%BA%BA                                                                                                                                                            \n",
       "2654      %E4%B9%A1%E7%BA%A7%E8%A1%8C%E6%94%BF%E5%8C%BA                                                                                                                                                            \n",
       "2655               %E5%8D%97%E8%8D%B7%E8%98%AD%E7%9C%81                                                                                                                                                            \n",
       "2656                                 %E5%98%89%E6%B3%B0                                                                                                                                                            \n",
       "2657               %E5%A4%AA%E5%B9%B3%E7%B4%B3%E5%A3%AB                                                                                                                                                            \n",
       "2658                        %E5%B7%A5%E4%B8%9A%E5%8C%96                                                                                                                                                            \n",
       "2659      %E6%B3%A2%E5%87%BD%E6%95%B8%E5%A1%8C%E7%B8%AE                                                                                                                                                            \n",
       "2660                                 %E8%91%89%E5%95%8F                                                                                                                                                            \n",
       "2661      %E8%B4%AD%E4%B9%B0%E5%8A%9B%E5%B9%B3%E4%BB%B7                                                                                                                                                            \n",
       "2662      %E8%B7%AF%E8%BF%87%E5%BC%8F%E4%B8%8B%E8%BD%BD                                                                                                                                                            \n",
       "2663  Special:Search/%E5%8D%83%E5%B9%B4%E5%A5%B3%E7%...                                                                                                                                                            \n",
       "\n",
       "      1   10595  \n",
       "0     1   15365  \n",
       "1     1   20325  \n",
       "2     1   21010  \n",
       "3     1    6660  \n",
       "4     1   30030  \n",
       "5     1   21141  \n",
       "6     1   13320  \n",
       "7     1    9286  \n",
       "8     1    5215  \n",
       "9     1     709  \n",
       "10    1   34148  \n",
       "11    1   51703  \n",
       "12    1   51558  \n",
       "13    1  228399  \n",
       "14    1   15445  \n",
       "15    1   13279  \n",
       "16    1    9668  \n",
       "17    1    5595  \n",
       "18    1    8313  \n",
       "19    1    6121  \n",
       "20    1     515  \n",
       "21    1    5654  \n",
       "22    1    9912  \n",
       "23    1   35649  \n",
       "24    1   10167  \n",
       "25    1     509  \n",
       "26    1   10339  \n",
       "27    1   10273  \n",
       "28    1   11715  \n",
       "29    1   28320  \n",
       "...  ..     ...  \n",
       "2634  1    6482  \n",
       "2635  1   10808  \n",
       "2636  1   13646  \n",
       "2637  1   19298  \n",
       "2638  1   10546  \n",
       "2639  1     512  \n",
       "2640  1   10102  \n",
       "2641  1    7525  \n",
       "2642  1   10181  \n",
       "2643  1     506  \n",
       "2644  1    8621  \n",
       "2645  1    8050  \n",
       "2646  1    1196  \n",
       "2647  1   24444  \n",
       "2648  1   20875  \n",
       "2649  1    6382  \n",
       "2650  1   11378  \n",
       "2651  1    5653  \n",
       "2652  1    1038  \n",
       "2653  1   11133  \n",
       "2654  1     481  \n",
       "2655  1   68650  \n",
       "2656  1   25144  \n",
       "2657  1   12030  \n",
       "2658  1     463  \n",
       "2659  1     469  \n",
       "2660  1   12342  \n",
       "2661  1     467  \n",
       "2662  1     481  \n",
       "2663  1    7112  \n",
       "\n",
       "[2664 rows x 4 columns]"
      ]
     },
     "execution_count": 5,
     "metadata": {},
     "output_type": "execute_result"
    }
   ],
   "source": [
    "pd.read_csv(\"files/2009/pagecounts-20090101-000000.gz\", sep=\" \")"
   ]
  },
  {
   "cell_type": "code",
   "execution_count": null,
   "metadata": {
    "collapsed": true
   },
   "outputs": [],
   "source": []
  }
 ],
 "metadata": {
  "kernelspec": {
   "display_name": "Python 3",
   "language": "python",
   "name": "python3"
  },
  "language_info": {
   "codemirror_mode": {
    "name": "ipython",
    "version": 3
   },
   "file_extension": ".py",
   "mimetype": "text/x-python",
   "name": "python",
   "nbconvert_exporter": "python",
   "pygments_lexer": "ipython3",
   "version": "3.6.0"
  }
 },
 "nbformat": 4,
 "nbformat_minor": 2
}
