{
 "cells": [
  {
   "cell_type": "code",
   "execution_count": 92,
   "metadata": {
    "collapsed": false
   },
   "outputs": [],
   "source": [
    "import os\n",
    "from os import listdir\n",
    "from os import listdir\n",
    "from os.path import isfile, join\n",
    "from mwviews.utilities import aggregate\n",
    "from mwviews import page_view_count\n",
    "import gzip\n",
    "import pandas as pd\n",
    "from urllib.parse import quote, unquote"
   ]
  },
  {
   "cell_type": "markdown",
   "metadata": {},
   "source": [
    "# Paths"
   ]
  },
  {
   "cell_type": "code",
   "execution_count": 2,
   "metadata": {
    "collapsed": true
   },
   "outputs": [],
   "source": [
    "files_path = \"/bigdata/vujovic/Wikipedia-Politician-Network/pageviews/files/2009/\""
   ]
  },
  {
   "cell_type": "markdown",
   "metadata": {},
   "source": [
    "# Getting file paths"
   ]
  },
  {
   "cell_type": "code",
   "execution_count": 3,
   "metadata": {
    "collapsed": false
   },
   "outputs": [],
   "source": [
    "def get_files(path):\n",
    "    \"\"\" Returns a list of files in a directory\n",
    "        Input parameter: path to directory\n",
    "    \"\"\"\n",
    "    mypath = path\n",
    "    complete = [f for f in listdir(mypath) if isfile(join(mypath, f))]\n",
    "    return complete"
   ]
  },
  {
   "cell_type": "code",
   "execution_count": 4,
   "metadata": {
    "collapsed": false
   },
   "outputs": [],
   "source": [
    "lst = get_files(files_path)"
   ]
  },
  {
   "cell_type": "code",
   "execution_count": 5,
   "metadata": {
    "collapsed": false
   },
   "outputs": [],
   "source": [
    "file_paths = [files_path+f for f in lst]"
   ]
  },
  {
   "cell_type": "markdown",
   "metadata": {},
   "source": [
    "# Loading files"
   ]
  },
  {
   "cell_type": "code",
   "execution_count": 6,
   "metadata": {
    "collapsed": true
   },
   "outputs": [],
   "source": [
    "hour_files = [aggregate.open_hour_file(f) for f in file_paths[:10]]"
   ]
  },
  {
   "cell_type": "code",
   "execution_count": 7,
   "metadata": {
    "collapsed": false
   },
   "outputs": [
    {
     "data": {
      "text/plain": [
       "[<_io.TextIOWrapper name='/bigdata/vujovic/Wikipedia-Politician-Network/pageviews/files/2009/pagecounts-20090217-070000.gz' encoding='utf-8'>,\n",
       " <_io.TextIOWrapper name='/bigdata/vujovic/Wikipedia-Politician-Network/pageviews/files/2009/pagecounts-20090130-190000.gz' encoding='utf-8'>,\n",
       " <_io.TextIOWrapper name='/bigdata/vujovic/Wikipedia-Politician-Network/pageviews/files/2009/pagecounts-20090531-020000.gz' encoding='utf-8'>,\n",
       " <_io.TextIOWrapper name='/bigdata/vujovic/Wikipedia-Politician-Network/pageviews/files/2009/pagecounts-20091011-160000.gz' encoding='utf-8'>,\n",
       " <_io.TextIOWrapper name='/bigdata/vujovic/Wikipedia-Politician-Network/pageviews/files/2009/pagecounts-20090513-090000.gz' encoding='utf-8'>,\n",
       " <_io.TextIOWrapper name='/bigdata/vujovic/Wikipedia-Politician-Network/pageviews/files/2009/pagecounts-20090918-030000.gz' encoding='utf-8'>,\n",
       " <_io.TextIOWrapper name='/bigdata/vujovic/Wikipedia-Politician-Network/pageviews/files/2009/pagecounts-20090805-160000.gz' encoding='utf-8'>,\n",
       " <_io.TextIOWrapper name='/bigdata/vujovic/Wikipedia-Politician-Network/pageviews/files/2009/pagecounts-20090212-200000.gz' encoding='utf-8'>,\n",
       " <_io.TextIOWrapper name='/bigdata/vujovic/Wikipedia-Politician-Network/pageviews/files/2009/pagecounts-20091226-130000.gz' encoding='utf-8'>,\n",
       " <_io.TextIOWrapper name='/bigdata/vujovic/Wikipedia-Politician-Network/pageviews/files/2009/pagecounts-20091202-200000.gz' encoding='utf-8'>]"
      ]
     },
     "execution_count": 7,
     "metadata": {},
     "output_type": "execute_result"
    }
   ],
   "source": [
    "hour_files"
   ]
  },
  {
   "cell_type": "markdown",
   "metadata": {},
   "source": [
    "# Preparing output file"
   ]
  },
  {
   "cell_type": "code",
   "execution_count": 8,
   "metadata": {
    "collapsed": true
   },
   "outputs": [],
   "source": [
    "output_file = open(\"proba\", \"w\")"
   ]
  },
  {
   "cell_type": "markdown",
   "metadata": {},
   "source": [
    "# Aggregating"
   ]
  },
  {
   "cell_type": "code",
   "execution_count": 9,
   "metadata": {
    "collapsed": false
   },
   "outputs": [],
   "source": [
    "# aggregate.run(hour_files,set([\"en\"]),output_file,False)"
   ]
  },
  {
   "cell_type": "markdown",
   "metadata": {},
   "source": [
    "# Filtering with Gzip"
   ]
  },
  {
   "cell_type": "code",
   "execution_count": 10,
   "metadata": {
    "collapsed": false
   },
   "outputs": [],
   "source": [
    "def filter_gzip(path_old, path_new):\n",
    "    fo = gzip.open('output.gz', 'w')\n",
    "    f = gzip.open(file_paths[6], 'rb')\n",
    "    for line in f.readlines():\n",
    "        #     if line.split(\" \")[0] == \"en\".encode():\n",
    "        if line.decode().split(\" \")[0] == \"en\":\n",
    "            fo.write(line)\n",
    "    f.close()\n",
    "    fo.close()\n",
    "    print(\"{} > {}, DONE! \".format(path_old, path_new))"
   ]
  },
  {
   "cell_type": "code",
   "execution_count": 11,
   "metadata": {
    "collapsed": true
   },
   "outputs": [],
   "source": [
    "# %timeit filter_gzip(file_paths[4], \"output.gz\") # this filters down just to EN wikipedia"
   ]
  },
  {
   "cell_type": "code",
   "execution_count": 12,
   "metadata": {
    "collapsed": false
   },
   "outputs": [
    {
     "name": "stdout",
     "output_type": "stream",
     "text": [
      "/bigdata/vujovic/Wikipedia-Politician-Network/pageviews/files/2009/pagecounts-20090513-090000.gz > output.gz, DONE! \n",
      "/bigdata/vujovic/Wikipedia-Politician-Network/pageviews/files/2009/pagecounts-20090513-090000.gz > output.gz, DONE! \n",
      "/bigdata/vujovic/Wikipedia-Politician-Network/pageviews/files/2009/pagecounts-20090513-090000.gz > output.gz, DONE! \n",
      "/bigdata/vujovic/Wikipedia-Politician-Network/pageviews/files/2009/pagecounts-20090513-090000.gz > output.gz, DONE! \n",
      "/bigdata/vujovic/Wikipedia-Politician-Network/pageviews/files/2009/pagecounts-20090513-090000.gz > output.gz, DONE! \n",
      "/bigdata/vujovic/Wikipedia-Politician-Network/pageviews/files/2009/pagecounts-20090513-090000.gz > output.gz, DONE! \n",
      "/bigdata/vujovic/Wikipedia-Politician-Network/pageviews/files/2009/pagecounts-20090513-090000.gz > output.gz, DONE! \n",
      "/bigdata/vujovic/Wikipedia-Politician-Network/pageviews/files/2009/pagecounts-20090513-090000.gz > output.gz, DONE! \n",
      "27.1 s ± 438 ms per loop (mean ± std. dev. of 7 runs, 1 loop each)\n"
     ]
    }
   ],
   "source": [
    "%timeit filter_gzip(file_paths[4], \"output.gz\")"
   ]
  },
  {
   "cell_type": "code",
   "execution_count": 13,
   "metadata": {
    "collapsed": false
   },
   "outputs": [],
   "source": [
    "# file_paths"
   ]
  },
  {
   "cell_type": "markdown",
   "metadata": {},
   "source": [
    "# Filtering with Pandas"
   ]
  },
  {
   "cell_type": "code",
   "execution_count": 14,
   "metadata": {
    "collapsed": true
   },
   "outputs": [],
   "source": [
    "# df = pd.read_csv(\"output.gz\", sep = \" \")"
   ]
  },
  {
   "cell_type": "code",
   "execution_count": 15,
   "metadata": {
    "collapsed": true
   },
   "outputs": [],
   "source": [
    "# df.columns = [\"project\", \"name\", \"views\", \"size\"]\n",
    "# df.head()"
   ]
  },
  {
   "cell_type": "code",
   "execution_count": 98,
   "metadata": {
    "collapsed": false
   },
   "outputs": [
    {
     "data": {
      "text/html": [
       "<div>\n",
       "<style scoped>\n",
       "    .dataframe tbody tr th:only-of-type {\n",
       "        vertical-align: middle;\n",
       "    }\n",
       "\n",
       "    .dataframe tbody tr th {\n",
       "        vertical-align: top;\n",
       "    }\n",
       "\n",
       "    .dataframe thead th {\n",
       "        text-align: right;\n",
       "    }\n",
       "</style>\n",
       "<table border=\"1\" class=\"dataframe\">\n",
       "  <thead>\n",
       "    <tr style=\"text-align: right;\">\n",
       "      <th></th>\n",
       "      <th>Nizamettin_Erkmen</th>\n",
       "    </tr>\n",
       "  </thead>\n",
       "  <tbody>\n",
       "    <tr>\n",
       "      <th>0</th>\n",
       "      <td>Claudio_Scajola</td>\n",
       "    </tr>\n",
       "    <tr>\n",
       "      <th>1</th>\n",
       "      <td>Yang_Ti-liang</td>\n",
       "    </tr>\n",
       "    <tr>\n",
       "      <th>2</th>\n",
       "      <td>Mohammad_Natsir</td>\n",
       "    </tr>\n",
       "    <tr>\n",
       "      <th>3</th>\n",
       "      <td>Carolyn_Maloney</td>\n",
       "    </tr>\n",
       "    <tr>\n",
       "      <th>4</th>\n",
       "      <td>Todd_Rokita</td>\n",
       "    </tr>\n",
       "  </tbody>\n",
       "</table>\n",
       "</div>"
      ],
      "text/plain": [
       "  Nizamettin_Erkmen\n",
       "0   Claudio_Scajola\n",
       "1     Yang_Ti-liang\n",
       "2   Mohammad_Natsir\n",
       "3   Carolyn_Maloney\n",
       "4       Todd_Rokita"
      ]
     },
     "execution_count": 98,
     "metadata": {},
     "output_type": "execute_result"
    }
   ],
   "source": [
    "df = pd.read_csv(\"../data/cohort/wiki_page_cohorts/2009.csv\")\n",
    "df.head()"
   ]
  },
  {
   "cell_type": "code",
   "execution_count": 99,
   "metadata": {
    "collapsed": true
   },
   "outputs": [],
   "source": [
    "def qoute_lst(lst):\n",
    "    \"\"\" Changes normal characters in names to %c4%87 because, for example:\n",
    "        'Slavica_Đukić_Dejanović' > 'Slavica_%C4%90uki%C4%87_Dejanovi%C4%87'\n",
    "    \"\"\"\n",
    "    return [quote(name) for name in lst]"
   ]
  },
  {
   "cell_type": "code",
   "execution_count": 103,
   "metadata": {
    "collapsed": false
   },
   "outputs": [],
   "source": [
    "s_politicians = df[df.columns[0]]\n",
    "l_politicians = s_politicians.values\n",
    "# l_politicians\n",
    "l_politicians = qoute_lst(l_politicians)\n",
    "l_politicians[:100]\n",
    "s_politicians = pd.Series(l_politicians)\n",
    "# s_politicians"
   ]
  },
  {
   "cell_type": "code",
   "execution_count": 90,
   "metadata": {
    "collapsed": false
   },
   "outputs": [],
   "source": [
    "# def filter_gzip_pd(path_old, path_new, names, method=\"series\"):\n",
    "#     df = pd.read_csv(path_old, sep=\" \")\n",
    "#     df.columns = [\"project\", \"name\", \"views\", \"size\"]\n",
    "#     if method == \"series\":\n",
    "#         df = df.join(names)\n",
    "#     elif method == \"list\":\n",
    "#         df = df[df[\"name\"].isin(names)]\n",
    "# #     df = df[df[\"project\"] == \"en\"]\n",
    "#     df.to_csv(path_new, sep=\" \",compression=\"gzip\", index=False, header=False)\n",
    "#     print(\"{} > {}, DONE! \".format(path_old, path_new))"
   ]
  },
  {
   "cell_type": "code",
   "execution_count": 91,
   "metadata": {
    "collapsed": false
   },
   "outputs": [],
   "source": [
    "# %timeit filter_gzip_pd(file_paths[4], \"output.gz\",s_politicians)"
   ]
  },
  {
   "cell_type": "code",
   "execution_count": 108,
   "metadata": {
    "collapsed": true
   },
   "outputs": [],
   "source": [
    "def filter_gzip_pd(path_old, path_new, names, method=\"series\"):\n",
    "    names.name=\"names\"\n",
    "    df = pd.read_csv(path_old, sep=\" \")\n",
    "    df.set_index()\n",
    "    df.columns = [\"project\", \"name\", \"views\", \"size\"]\n",
    "    if method == \"series\":\n",
    "        df = df.join(names)\n",
    "    elif method == \"list\":\n",
    "        df = df[df[\"name\"].isin(names)]\n",
    "    df = df[df[\"project\"] == \"en\"]\n",
    "    df.to_csv(path_new, sep=\" \",compression=\"gzip\", index=False, header=False)\n",
    "    print(\"{} > {}, DONE! \".format(path_old, path_new))"
   ]
  },
  {
   "cell_type": "code",
   "execution_count": 109,
   "metadata": {
    "collapsed": false
   },
   "outputs": [
    {
     "name": "stdout",
     "output_type": "stream",
     "text": [
      "/bigdata/vujovic/Wikipedia-Politician-Network/pageviews/files/2009/pagecounts-20090513-090000.gz > output.gz, DONE! \n",
      "/bigdata/vujovic/Wikipedia-Politician-Network/pageviews/files/2009/pagecounts-20090513-090000.gz > output.gz, DONE! \n",
      "/bigdata/vujovic/Wikipedia-Politician-Network/pageviews/files/2009/pagecounts-20090513-090000.gz > output.gz, DONE! \n",
      "/bigdata/vujovic/Wikipedia-Politician-Network/pageviews/files/2009/pagecounts-20090513-090000.gz > output.gz, DONE! \n",
      "/bigdata/vujovic/Wikipedia-Politician-Network/pageviews/files/2009/pagecounts-20090513-090000.gz > output.gz, DONE! \n",
      "/bigdata/vujovic/Wikipedia-Politician-Network/pageviews/files/2009/pagecounts-20090513-090000.gz > output.gz, DONE! \n",
      "/bigdata/vujovic/Wikipedia-Politician-Network/pageviews/files/2009/pagecounts-20090513-090000.gz > output.gz, DONE! \n",
      "/bigdata/vujovic/Wikipedia-Politician-Network/pageviews/files/2009/pagecounts-20090513-090000.gz > output.gz, DONE! \n",
      "29.8 s ± 263 ms per loop (mean ± std. dev. of 7 runs, 1 loop each)\n"
     ]
    }
   ],
   "source": [
    "%timeit filter_gzip_pd(file_paths[4], \"output.gz\",s_politicians)"
   ]
  },
  {
   "cell_type": "code",
   "execution_count": null,
   "metadata": {
    "collapsed": true
   },
   "outputs": [],
   "source": [
    "def filter_gzip_pd(path_old, path_new, names, method=\"series\"):\n",
    "    df = pd.read_csv(path_old, sep=\" \")\n",
    "    df.columns = [\"project\", \"name\", \"views\", \"size\"]\n",
    "    df = df[df[\"project\"] == \"en\"]\n",
    "    if method == \"series\":\n",
    "        df = df.join(names)\n",
    "    elif method == \"list\":\n",
    "        df = df[df[\"name\"].isin(names)]\n",
    "#     df = df[df[\"project\"] == \"en\"]\n",
    "    df.to_csv(path_new, sep=\" \",compression=\"gzip\", index=False, header=False)\n",
    "    print(\"{} > {}, DONE! \".format(path_old, path_new))"
   ]
  },
  {
   "cell_type": "code",
   "execution_count": null,
   "metadata": {
    "collapsed": false
   },
   "outputs": [],
   "source": [
    "%timeit filter_gzip_pd(file_paths[4], \"output.gz\",s_politicians)"
   ]
  },
  {
   "cell_type": "code",
   "execution_count": 125,
   "metadata": {
    "collapsed": true
   },
   "outputs": [],
   "source": [
    "def filter_gzip_pd(path_old, path_new, names, method=\"series\"):\n",
    "    df = pd.read_csv(path_old, sep=\" \", encoding=\"utf-8\")\n",
    "    df.columns = [\"project\", \"name\", \"views\", \"size\"]\n",
    "    if method == \"series\":\n",
    "        df = df.join(names)\n",
    "    elif method == \"list\":\n",
    "        df = df[df[\"name\"].isin(names)]\n",
    "    df = df[df[\"project\"] == \"en\"]\n",
    "    df.to_csv(path_new, sep=\" \",compression=\"gzip\", index=False, header=False)\n",
    "    print(\"{} > {}, DONE! \".format(path_old, path_new))"
   ]
  },
  {
   "cell_type": "code",
   "execution_count": 126,
   "metadata": {
    "collapsed": false
   },
   "outputs": [
    {
     "name": "stdout",
     "output_type": "stream",
     "text": [
      "/bigdata/vujovic/Wikipedia-Politician-Network/pageviews/files/2009/pagecounts-20090513-090000.gz > output.gz, DONE! \n",
      "/bigdata/vujovic/Wikipedia-Politician-Network/pageviews/files/2009/pagecounts-20090513-090000.gz > output.gz, DONE! \n",
      "/bigdata/vujovic/Wikipedia-Politician-Network/pageviews/files/2009/pagecounts-20090513-090000.gz > output.gz, DONE! \n",
      "/bigdata/vujovic/Wikipedia-Politician-Network/pageviews/files/2009/pagecounts-20090513-090000.gz > output.gz, DONE! \n",
      "/bigdata/vujovic/Wikipedia-Politician-Network/pageviews/files/2009/pagecounts-20090513-090000.gz > output.gz, DONE! \n",
      "/bigdata/vujovic/Wikipedia-Politician-Network/pageviews/files/2009/pagecounts-20090513-090000.gz > output.gz, DONE! \n",
      "/bigdata/vujovic/Wikipedia-Politician-Network/pageviews/files/2009/pagecounts-20090513-090000.gz > output.gz, DONE! \n",
      "/bigdata/vujovic/Wikipedia-Politician-Network/pageviews/files/2009/pagecounts-20090513-090000.gz > output.gz, DONE! \n",
      "9.76 s ± 51.5 ms per loop (mean ± std. dev. of 7 runs, 1 loop each)\n"
     ]
    }
   ],
   "source": [
    "%timeit filter_gzip_pd(file_paths[4], \"output.gz\",l_politicians, method=\"list\")"
   ]
  },
  {
   "cell_type": "code",
   "execution_count": 34,
   "metadata": {
    "collapsed": false
   },
   "outputs": [
    {
     "data": {
      "text/plain": [
       "array(['Claudio_Scajola', 'Yang_Ti-liang', 'Mohammad_Natsir',\n",
       "       'Carolyn_Maloney', 'Todd_Rokita', 'Massimo_Giorgetti',\n",
       "       'Brice_Lalonde', 'Slavica_Đukić_Dejanović', 'Bruce_Jesson',\n",
       "       'Thomas_Ravenel', 'Akhilesh_Yadav', 'Luc_Recordon',\n",
       "       'Gustaw_Przeczek', 'Jacques_Lavoie', 'Nessa_Childers',\n",
       "       'Tunji_Olurin', 'Jalagam_Vengala_Rao', 'Mohammad_Reza_Aref',\n",
       "       'Ali_Ahsan_Mohammad_Mojaheed', 'Rigoberta_Menchú', 'Lucie_Leblanc',\n",
       "       'David_Milwyn_Duggan', 'Mark_Souder', 'Paul_Janson',\n",
       "       'Iain_Smith_(Scottish_politician)', 'Al_Smith', 'Sachin_Ahir',\n",
       "       'Tom_Tauke', 'Wojciech_Olejniczak', 'Samuel_Miller_Quincy',\n",
       "       'V._J._Sukselainen', 'Walter_E._Fauntroy', 'Leopold_De_Wael',\n",
       "       'Mira_Spivak', 'Brody_Sweeney', 'G._M._Syed', 'James_W._Mott',\n",
       "       'Daggubati_Venkateswara_Rao', \"Arthur_O'Neill\",\n",
       "       'George_D._Perkins', 'Francis_W._Eppes', 'Deendayal_Upadhyaya',\n",
       "       'Rod_Donald', 'Adolf_Fischhof', 'Francis_Burdett',\n",
       "       'Emmanuel_Erskine', 'Dingiri_Banda_Wijetunga', 'Vida_Goldstein',\n",
       "       'Christian_K._Wedemeyer', 'Chiu_Chuang-huan',\n",
       "       'Mariliza_Xenogiannakopoulou', 'Thomas_Starr_King',\n",
       "       'Antonio_Martino', 'Graciliano_Ramos', 'Guo_Jinlong', 'Wenxiang',\n",
       "       'Vakha_Arsanov', 'Seamus_Mallon', 'Parker_Griffith',\n",
       "       'Raul_Manglapus', 'Carmencita_Hederman', 'Carlos_Duque',\n",
       "       'Hilda_Mason', 'Vicki_Berger', 'Wilson_Hungerford',\n",
       "       \"Marcello_Dell'Utri\", 'Ryan_Frazier', 'Volodymyr_Ohryzko',\n",
       "       'Bill_Rosendahl', 'Barry_Campbell', 'Antonio_Bajamonti',\n",
       "       'Xie_Xide', 'Vicente_Riva_Palacio', 'Jim_Sillars',\n",
       "       'Wijeyananda_Dahanayake', 'Howard_Baker', 'Ottaviano_Del_Turco',\n",
       "       'Emil_Boc', 'Dmitry_Manuilsky', 'Jann_Stuckey',\n",
       "       'Jean-Jacques_Susini', 'Robert_Libman', 'Heinz_Jost',\n",
       "       'Shamsul_Huq', 'Manuel_Fraga_Iribarne', 'Zhang_Jian_(politician)',\n",
       "       'Heinz_Neukirchen', 'Vasile_Stati', 'B._D._Lakshman',\n",
       "       'Tina_Molinari', 'Francesco_De_Martino', 'Charlotte_Anita_Whitney',\n",
       "       'Pedro_Montt', 'Johan_Christian_Heuch', 'Jalila_Jefferson-Bullock',\n",
       "       'Tan_Yankai', 'Vilja_Toomast', 'Subramaniam_Sathasivam',\n",
       "       'Mark_Fredriksen', 'Jia_Zhibang'], dtype=object)"
      ]
     },
     "execution_count": 34,
     "metadata": {},
     "output_type": "execute_result"
    }
   ],
   "source": [
    "l_politicians[:100]"
   ]
  },
  {
   "cell_type": "code",
   "execution_count": 44,
   "metadata": {
    "collapsed": false
   },
   "outputs": [
    {
     "ename": "LookupError",
     "evalue": "unknown encoding: unicode",
     "output_type": "error",
     "traceback": [
      "\u001b[0;31m---------------------------------------------------------------------------\u001b[0m",
      "\u001b[0;31mLookupError\u001b[0m                               Traceback (most recent call last)",
      "\u001b[0;32m<ipython-input-44-737c2a1c2ce6>\u001b[0m in \u001b[0;36m<module>\u001b[0;34m()\u001b[0m\n\u001b[0;32m----> 1\u001b[0;31m \u001b[0ms_politicians\u001b[0m\u001b[0;34m[\u001b[0m\u001b[0;36m7\u001b[0m\u001b[0;34m]\u001b[0m\u001b[0;34m.\u001b[0m\u001b[0mencode\u001b[0m\u001b[0;34m(\u001b[0m\u001b[0;34m\"unicode\"\u001b[0m\u001b[0;34m,\u001b[0m\u001b[0;34m\"replace\"\u001b[0m\u001b[0;34m)\u001b[0m\u001b[0;34m\u001b[0m\u001b[0m\n\u001b[0m",
      "\u001b[0;31mLookupError\u001b[0m: unknown encoding: unicode"
     ]
    }
   ],
   "source": [
    "s_politicians[7].encode(\"unicode\",\"replace\")"
   ]
  },
  {
   "cell_type": "code",
   "execution_count": 40,
   "metadata": {
    "collapsed": true
   },
   "outputs": [],
   "source": [
    "df = pd.read_csv(file_paths[4], sep=\" \",encoding=\"unicood\")"
   ]
  },
  {
   "cell_type": "code",
   "execution_count": 42,
   "metadata": {
    "collapsed": false
   },
   "outputs": [],
   "source": [
    "df.columns = [\"project\", \"name\", \"views\", \"size\"]\n",
    "df = df[df[\"project\"]== \"en\"]"
   ]
  },
  {
   "cell_type": "code",
   "execution_count": 76,
   "metadata": {
    "collapsed": false
   },
   "outputs": [],
   "source": [
    "strange_name = df[df[\"name\"].isin([\"Slavica_%C4%86uktera%C5%A1\"])][\"name\"].values[0]"
   ]
  },
  {
   "cell_type": "code",
   "execution_count": 72,
   "metadata": {
    "collapsed": false
   },
   "outputs": [
    {
     "data": {
      "text/plain": [
       "b'Slavica_\\xc4\\x90uki\\xc4\\x87_Dejanovi\\xc4\\x87'"
      ]
     },
     "execution_count": 72,
     "metadata": {},
     "output_type": "execute_result"
    }
   ],
   "source": [
    "# import unicode\n",
    "\"Slavica_Đukić_Dejanović\".encode('utf-8')"
   ]
  },
  {
   "cell_type": "code",
   "execution_count": 80,
   "metadata": {
    "collapsed": false
   },
   "outputs": [],
   "source": [
    "# strange_name.encode('utf-8').decode('iso-8859-1') "
   ]
  },
  {
   "cell_type": "code",
   "execution_count": 84,
   "metadata": {
    "collapsed": true
   },
   "outputs": [],
   "source": [
    "from urllib.parse import quote, unquote"
   ]
  },
  {
   "cell_type": "code",
   "execution_count": 95,
   "metadata": {
    "collapsed": false
   },
   "outputs": [
    {
     "data": {
      "text/plain": [
       "'Slavica_%C4%90uki%C4%87_Dejanovi%C4%87'"
      ]
     },
     "execution_count": 95,
     "metadata": {},
     "output_type": "execute_result"
    }
   ],
   "source": [
    "quote(\"Slavica_Đukić_Dejanović\")"
   ]
  },
  {
   "cell_type": "code",
   "execution_count": 86,
   "metadata": {
    "collapsed": false
   },
   "outputs": [
    {
     "data": {
      "text/plain": [
       "'Slavica_Đukić_Dejanović'"
      ]
     },
     "execution_count": 86,
     "metadata": {},
     "output_type": "execute_result"
    }
   ],
   "source": [
    "unquote('Slavica_%C4%90uki%C4%87_Dejanovi%C4%87')"
   ]
  },
  {
   "cell_type": "code",
   "execution_count": 124,
   "metadata": {
    "collapsed": false
   },
   "outputs": [
    {
     "data": {
      "text/html": [
       "<div>\n",
       "<style scoped>\n",
       "    .dataframe tbody tr th:only-of-type {\n",
       "        vertical-align: middle;\n",
       "    }\n",
       "\n",
       "    .dataframe tbody tr th {\n",
       "        vertical-align: top;\n",
       "    }\n",
       "\n",
       "    .dataframe thead th {\n",
       "        text-align: right;\n",
       "    }\n",
       "</style>\n",
       "<table border=\"1\" class=\"dataframe\">\n",
       "  <thead>\n",
       "    <tr style=\"text-align: right;\">\n",
       "      <th>name</th>\n",
       "      <th>User:RCBot</th>\n",
       "      <th>?22UAJPGlwyJVw</th>\n",
       "      <th>?25hRzeZ1KC8BM</th>\n",
       "      <th>?26WQ6fUZbU5k%2E</th>\n",
       "      <th>?32OQ2Rrbop7qg</th>\n",
       "      <th>?64ozls3mTu6RY</th>\n",
       "      <th>?71G4Bo1cAdWyg</th>\n",
       "      <th>Main_Page</th>\n",
       "      <th>Special:Watchlist</th>\n",
       "      <th>Template:User_fr-1</th>\n",
       "      <th>...</th>\n",
       "      <th>Special:WhatLinksHere/Zulu_kaNtombhela</th>\n",
       "      <th>Talk:Ikhasi_Elikhulu/</th>\n",
       "      <th>Template:Gauteng_infobox</th>\n",
       "      <th>Template:IFleyistata_infobox</th>\n",
       "      <th>Template:Limpopo_infobox</th>\n",
       "      <th>Template:Mpuma-Koloni_infobox</th>\n",
       "      <th>Ubukrestu</th>\n",
       "      <th>User:Chobot</th>\n",
       "      <th>User:Sebleouf</th>\n",
       "      <th>W/w/index.php</th>\n",
       "    </tr>\n",
       "  </thead>\n",
       "  <tbody>\n",
       "    <tr>\n",
       "      <th>project</th>\n",
       "      <td>aa.d</td>\n",
       "      <td>aa</td>\n",
       "      <td>aa</td>\n",
       "      <td>aa</td>\n",
       "      <td>aa</td>\n",
       "      <td>aa</td>\n",
       "      <td>aa</td>\n",
       "      <td>aa</td>\n",
       "      <td>aa</td>\n",
       "      <td>aa</td>\n",
       "      <td>...</td>\n",
       "      <td>zu</td>\n",
       "      <td>zu</td>\n",
       "      <td>zu</td>\n",
       "      <td>zu</td>\n",
       "      <td>zu</td>\n",
       "      <td>zu</td>\n",
       "      <td>zu</td>\n",
       "      <td>zu</td>\n",
       "      <td>zu</td>\n",
       "      <td>zu</td>\n",
       "    </tr>\n",
       "    <tr>\n",
       "      <th>views</th>\n",
       "      <td>1</td>\n",
       "      <td>1</td>\n",
       "      <td>1</td>\n",
       "      <td>1</td>\n",
       "      <td>1</td>\n",
       "      <td>1</td>\n",
       "      <td>1</td>\n",
       "      <td>2</td>\n",
       "      <td>1</td>\n",
       "      <td>1</td>\n",
       "      <td>...</td>\n",
       "      <td>1</td>\n",
       "      <td>1</td>\n",
       "      <td>1</td>\n",
       "      <td>1</td>\n",
       "      <td>1</td>\n",
       "      <td>1</td>\n",
       "      <td>1</td>\n",
       "      <td>1</td>\n",
       "      <td>1</td>\n",
       "      <td>1</td>\n",
       "    </tr>\n",
       "    <tr>\n",
       "      <th>size</th>\n",
       "      <td>8076</td>\n",
       "      <td>13288</td>\n",
       "      <td>13288</td>\n",
       "      <td>13291</td>\n",
       "      <td>13284</td>\n",
       "      <td>13291</td>\n",
       "      <td>13294</td>\n",
       "      <td>10064</td>\n",
       "      <td>4453</td>\n",
       "      <td>9960</td>\n",
       "      <td>...</td>\n",
       "      <td>5131</td>\n",
       "      <td>14447</td>\n",
       "      <td>5951</td>\n",
       "      <td>6262</td>\n",
       "      <td>5921</td>\n",
       "      <td>6267</td>\n",
       "      <td>10673</td>\n",
       "      <td>53861</td>\n",
       "      <td>11113</td>\n",
       "      <td>13937</td>\n",
       "    </tr>\n",
       "  </tbody>\n",
       "</table>\n",
       "<p>3 rows × 4969669 columns</p>\n",
       "</div>"
      ],
      "text/plain": [
       "name    User:RCBot ?22UAJPGlwyJVw ?25hRzeZ1KC8BM ?26WQ6fUZbU5k%2E  \\\n",
       "project       aa.d             aa             aa               aa   \n",
       "views            1              1              1                1   \n",
       "size          8076          13288          13288            13291   \n",
       "\n",
       "name    ?32OQ2Rrbop7qg ?64ozls3mTu6RY ?71G4Bo1cAdWyg Main_Page  \\\n",
       "project             aa             aa             aa        aa   \n",
       "views                1              1              1         2   \n",
       "size             13284          13291          13294     10064   \n",
       "\n",
       "name    Special:Watchlist Template:User_fr-1      ...       \\\n",
       "project                aa                 aa      ...        \n",
       "views                   1                  1      ...        \n",
       "size                 4453               9960      ...        \n",
       "\n",
       "name    Special:WhatLinksHere/Zulu_kaNtombhela Talk:Ikhasi_Elikhulu/  \\\n",
       "project                                     zu                    zu   \n",
       "views                                        1                     1   \n",
       "size                                      5131                 14447   \n",
       "\n",
       "name    Template:Gauteng_infobox Template:IFleyistata_infobox  \\\n",
       "project                       zu                           zu   \n",
       "views                          1                            1   \n",
       "size                        5951                         6262   \n",
       "\n",
       "name    Template:Limpopo_infobox Template:Mpuma-Koloni_infobox Ubukrestu  \\\n",
       "project                       zu                            zu        zu   \n",
       "views                          1                             1         1   \n",
       "size                        5921                          6267     10673   \n",
       "\n",
       "name    User:Chobot User:Sebleouf W/w/index.php  \n",
       "project          zu            zu            zu  \n",
       "views             1             1             1  \n",
       "size          53861         11113         13937  \n",
       "\n",
       "[3 rows x 4969669 columns]"
      ]
     },
     "execution_count": 124,
     "metadata": {},
     "output_type": "execute_result"
    }
   ],
   "source": [
    "# df = pd.read_csv(file_paths[4], sep=\" \")\n",
    "# df.columns = [\"project\", \"name\", \"views\", \"size\"]\n",
    "# # df.drop([\"size\"],axis=1)\n",
    "# df = df.set_index(\"name\")\n",
    "# df.head()"
   ]
  },
  {
   "cell_type": "code",
   "execution_count": 134,
   "metadata": {
    "collapsed": false
   },
   "outputs": [
    {
     "name": "stdout",
     "output_type": "stream",
     "text": [
      "/bigdata/vujovic/Wikipedia-Politician-Network/pageviews/files/2009/pagecounts-20090308-000000.gz > output1.gz, DONE! \n"
     ]
    }
   ],
   "source": [
    "filter_gzip_pd(file_paths[5000], \"output1.gz\",l_politicians, method=\"list\")"
   ]
  },
  {
   "cell_type": "code",
   "execution_count": 137,
   "metadata": {
    "collapsed": false
   },
   "outputs": [
    {
     "name": "stdout",
     "output_type": "stream",
     "text": [
      "/bigdata/vujovic/Wikipedia-Politician-Network/pageviews/files/2009/pagecounts-20091014-040000.gz > output2.gz, DONE! \n"
     ]
    }
   ],
   "source": [
    "filter_gzip_pd(file_paths[8000], \"output2.gz\",l_politicians, method=\"list\")"
   ]
  },
  {
   "cell_type": "code",
   "execution_count": 129,
   "metadata": {
    "collapsed": false
   },
   "outputs": [
    {
     "name": "stdout",
     "output_type": "stream",
     "text": [
      "/bigdata/vujovic/Wikipedia-Politician-Network/pageviews/files/2009/pagecounts-20090704-020000.gz > output3.gz, DONE! \n"
     ]
    }
   ],
   "source": [
    "filter_gzip_pd(file_paths[3000], \"output3.gz\",l_politicians, method=\"list\")"
   ]
  },
  {
   "cell_type": "code",
   "execution_count": 130,
   "metadata": {
    "collapsed": false
   },
   "outputs": [
    {
     "name": "stdout",
     "output_type": "stream",
     "text": [
      "/bigdata/vujovic/Wikipedia-Politician-Network/pageviews/files/2009/pagecounts-20090809-170000.gz > output4.gz, DONE! \n",
      "/bigdata/vujovic/Wikipedia-Politician-Network/pageviews/files/2009/pagecounts-20090401-040000.gz > output5.gz, DONE! \n",
      "/bigdata/vujovic/Wikipedia-Politician-Network/pageviews/files/2009/pagecounts-20090831-120000.gz > output6.gz, DONE! \n",
      "/bigdata/vujovic/Wikipedia-Politician-Network/pageviews/files/2009/pagecounts-20090807-040000.gz > output7.gz, DONE! \n",
      "/bigdata/vujovic/Wikipedia-Politician-Network/pageviews/files/2009/pagecounts-20091108-040000.gz > output8.gz, DONE! \n",
      "/bigdata/vujovic/Wikipedia-Politician-Network/pageviews/files/2009/pagecounts-20090910-050000.gz > output9.gz, DONE! \n",
      "/bigdata/vujovic/Wikipedia-Politician-Network/pageviews/files/2009/pagecounts-20090316-150000.gz > output10.gz, DONE! \n"
     ]
    }
   ],
   "source": [
    "filter_gzip_pd(file_paths[1000], \"output4.gz\",l_politicians, method=\"list\")\n",
    "filter_gzip_pd(file_paths[100], \"output5.gz\",l_politicians, method=\"list\")\n",
    "filter_gzip_pd(file_paths[10], \"output6.gz\",l_politicians, method=\"list\")\n",
    "filter_gzip_pd(file_paths[1098], \"output7.gz\",l_politicians, method=\"list\")\n",
    "filter_gzip_pd(file_paths[150], \"output8.gz\",l_politicians, method=\"list\")\n",
    "filter_gzip_pd(file_paths[4658], \"output9.gz\",l_politicians, method=\"list\")\n",
    "filter_gzip_pd(file_paths[7000], \"output10.gz\",l_politicians, method=\"list\")"
   ]
  },
  {
   "cell_type": "code",
   "execution_count": 141,
   "metadata": {
    "collapsed": false
   },
   "outputs": [],
   "source": [
    "dfs = []\n",
    "for i in range(1,11):\n",
    "    df = pd.read_csv(\"output{}.gz\".format(i), sep=\" \")\n",
    "    df.columns = [\"project\", \"name\", \"views\", \"size\"]\n",
    "    dfs.append(df)\n",
    "ten_dfs = pd.concat(dfs)"
   ]
  },
  {
   "cell_type": "code",
   "execution_count": 142,
   "metadata": {
    "collapsed": false
   },
   "outputs": [
    {
     "data": {
      "text/html": [
       "<div>\n",
       "<style scoped>\n",
       "    .dataframe tbody tr th:only-of-type {\n",
       "        vertical-align: middle;\n",
       "    }\n",
       "\n",
       "    .dataframe tbody tr th {\n",
       "        vertical-align: top;\n",
       "    }\n",
       "\n",
       "    .dataframe thead th {\n",
       "        text-align: right;\n",
       "    }\n",
       "</style>\n",
       "<table border=\"1\" class=\"dataframe\">\n",
       "  <thead>\n",
       "    <tr style=\"text-align: right;\">\n",
       "      <th></th>\n",
       "      <th>project</th>\n",
       "      <th>name</th>\n",
       "      <th>views</th>\n",
       "      <th>size</th>\n",
       "    </tr>\n",
       "  </thead>\n",
       "  <tbody>\n",
       "    <tr>\n",
       "      <th>0</th>\n",
       "      <td>en</td>\n",
       "      <td>%C3%81ine_Brady</td>\n",
       "      <td>1</td>\n",
       "      <td>8950</td>\n",
       "    </tr>\n",
       "    <tr>\n",
       "      <th>1</th>\n",
       "      <td>en</td>\n",
       "      <td>%C3%81lvaro_Colom</td>\n",
       "      <td>5</td>\n",
       "      <td>40391</td>\n",
       "    </tr>\n",
       "    <tr>\n",
       "      <th>2</th>\n",
       "      <td>en</td>\n",
       "      <td>%C3%81lvaro_Cunhal</td>\n",
       "      <td>5</td>\n",
       "      <td>23600</td>\n",
       "    </tr>\n",
       "    <tr>\n",
       "      <th>3</th>\n",
       "      <td>en</td>\n",
       "      <td>%C3%81lvaro_Garc%C3%ADa_Linera</td>\n",
       "      <td>1</td>\n",
       "      <td>8489</td>\n",
       "    </tr>\n",
       "    <tr>\n",
       "      <th>4</th>\n",
       "      <td>en</td>\n",
       "      <td>%C3%81lvaro_Noboa</td>\n",
       "      <td>1</td>\n",
       "      <td>21223</td>\n",
       "    </tr>\n",
       "  </tbody>\n",
       "</table>\n",
       "</div>"
      ],
      "text/plain": [
       "  project                            name  views   size\n",
       "0      en                 %C3%81ine_Brady      1   8950\n",
       "1      en               %C3%81lvaro_Colom      5  40391\n",
       "2      en              %C3%81lvaro_Cunhal      5  23600\n",
       "3      en  %C3%81lvaro_Garc%C3%ADa_Linera      1   8489\n",
       "4      en               %C3%81lvaro_Noboa      1  21223"
      ]
     },
     "execution_count": 142,
     "metadata": {},
     "output_type": "execute_result"
    }
   ],
   "source": [
    "ten_dfs.head()"
   ]
  },
  {
   "cell_type": "code",
   "execution_count": 150,
   "metadata": {
    "collapsed": false
   },
   "outputs": [
    {
     "data": {
      "text/plain": [
       "Index(['%C3%81ine_Brady', '%C3%81lvaro_Arz%C3%BA', '%C3%81lvaro_Colom',\n",
       "       '%C3%81lvaro_Cunhal', '%C3%81lvaro_G%C3%B3mez_Hurtado',\n",
       "       '%C3%81lvaro_Garc%C3%ADa_Linera', '%C3%81lvaro_Noboa',\n",
       "       '%C3%81lvaro_Obreg%C3%B3n', '%C3%81lvaro_Uribe', '%C3%81ngel_Borlenghi',\n",
       "       ...\n",
       "       'Zurab_Adeishvili', 'Zurab_Kokoyev', 'Zurab_Noghaideli',\n",
       "       'Zurab_Zhvania', 'Zvi_Hendel', 'Zvi_Zilker', 'Zviad_Gamsakhurdia',\n",
       "       'Zweli_Mkhize', 'Zygmunt_Marek', 'Zyta_Gilowska'],\n",
       "      dtype='object', name='name', length=17647)"
      ]
     },
     "execution_count": 150,
     "metadata": {},
     "output_type": "execute_result"
    }
   ],
   "source": [
    "df = ten_dfs.groupby(by=\"name\")[\"views\"].sum()\n",
    "df.index"
   ]
  },
  {
   "cell_type": "code",
   "execution_count": null,
   "metadata": {
    "collapsed": true
   },
   "outputs": [],
   "source": []
  }
 ],
 "metadata": {
  "kernelspec": {
   "display_name": "Python 3",
   "language": "python",
   "name": "python3"
  },
  "language_info": {
   "codemirror_mode": {
    "name": "ipython",
    "version": 3
   },
   "file_extension": ".py",
   "mimetype": "text/x-python",
   "name": "python",
   "nbconvert_exporter": "python",
   "pygments_lexer": "ipython3",
   "version": "3.5.2"
  }
 },
 "nbformat": 4,
 "nbformat_minor": 2
}
