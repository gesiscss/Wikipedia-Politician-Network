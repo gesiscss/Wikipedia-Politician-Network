{
 "cells": [
  {
   "cell_type": "code",
   "execution_count": 1,
   "metadata": {
    "collapsed": true
   },
   "outputs": [],
   "source": [
    "from mwviews.api import PageviewsClient\n",
    "from datetime import datetime\n",
    "import pandas as pd"
   ]
  },
  {
   "cell_type": "code",
   "execution_count": 2,
   "metadata": {
    "collapsed": true
   },
   "outputs": [],
   "source": [
    "# p = PageviewsClient('Mozilla/5.0')"
   ]
  },
  {
   "cell_type": "code",
   "execution_count": 3,
   "metadata": {
    "collapsed": false
   },
   "outputs": [],
   "source": [
    "# k_dict = {}\n",
    "# months = [\"jan\",\"feb\",\"mar\", \"apr\",\"may\",\"jun\",\"jul\", \"aug\", \"sep\", \"oct\",\"nov\",\"dec\"]\n",
    "# for count in range(1,13):\n",
    "#     k_dict[months[count-1]] = datetime(2016, count, 1, 0, 0)"
   ]
  },
  {
   "cell_type": "code",
   "execution_count": 4,
   "metadata": {
    "collapsed": false
   },
   "outputs": [],
   "source": [
    "# k_dict"
   ]
  },
  {
   "cell_type": "code",
   "execution_count": 5,
   "metadata": {
    "collapsed": true
   },
   "outputs": [],
   "source": [
    "# page_views = p.article_views('en.wikipedia', ['Cat', \"Dog\"], granularity='monthly', start='20160101', end='20161231')"
   ]
  },
  {
   "cell_type": "code",
   "execution_count": 6,
   "metadata": {
    "collapsed": false
   },
   "outputs": [],
   "source": [
    "# page_views[]"
   ]
  },
  {
   "cell_type": "code",
   "execution_count": 7,
   "metadata": {
    "collapsed": false
   },
   "outputs": [],
   "source": [
    "# page_views = p.article_views('en.wikipedia', ['Cat', \"Ragija\", \"F117\", \"Seme\"], granularity='monthly', start='20160101', end='20161231')"
   ]
  },
  {
   "cell_type": "code",
   "execution_count": 8,
   "metadata": {
    "collapsed": false
   },
   "outputs": [],
   "source": [
    "# pd.DataFrame(page_views).apply(lambda x: x.sum(), axis=1)"
   ]
  },
  {
   "cell_type": "code",
   "execution_count": 9,
   "metadata": {
    "collapsed": true
   },
   "outputs": [],
   "source": [
    "# politician_names = pd.read_csv(\"../data/cohort/wiki_page_cohorts/2016.csv\")"
   ]
  },
  {
   "cell_type": "code",
   "execution_count": 10,
   "metadata": {
    "collapsed": false
   },
   "outputs": [],
   "source": [
    "# # names_lst = politician_names[\"names_u\"][:1000]\n",
    "# names_lst = politician_names[\"names_u\"]\n",
    "# names_lst = names_lst.values\n",
    "# # names_lst"
   ]
  },
  {
   "cell_type": "code",
   "execution_count": 11,
   "metadata": {
    "collapsed": false
   },
   "outputs": [],
   "source": [
    "# %timeit page_views = p.article_views('en.wikipedia', names_lst, granularity='monthly', start='20160101', end='20161231')"
   ]
  },
  {
   "cell_type": "code",
   "execution_count": 27,
   "metadata": {
    "collapsed": true
   },
   "outputs": [],
   "source": [
    "def save(df, path):\n",
    "    \"\"\" Save dataframe on specified path\n",
    "    \"\"\"\n",
    "    print(\"File saved at {}\".format(path))\n",
    "    df.to_csv(path, encoding=\"utf-8\", index=False)"
   ]
  },
  {
   "cell_type": "code",
   "execution_count": 13,
   "metadata": {
    "collapsed": true
   },
   "outputs": [],
   "source": [
    "def series_to_df(series):\n",
    "    names = series.index\n",
    "    views = series.values\n",
    "    df = pd.DataFrame({\n",
    "        \"name_u\": names,\n",
    "        \"views\": views\n",
    "    })\n",
    "    return df"
   ]
  },
  {
   "cell_type": "code",
   "execution_count": 23,
   "metadata": {
    "collapsed": true
   },
   "outputs": [],
   "source": [
    "def fetch_views(names_lst, batch_size=500):\n",
    "    \"\"\" Returns a dataframe with politician names (specified in names_lst) and number of their pageviews\n",
    "    \"\"\"\n",
    "    pw_obj = PageviewsClient('Mozilla/5.0')\n",
    "    df_lst = []\n",
    "    for i in range(0,len(names_lst),batch_size):\n",
    "        query_lst = names_lst[i:i + batch_size]\n",
    "#         print(query_lst)\n",
    "        page_views = pw_obj.article_views('en.wikipedia', query_lst,\n",
    "                                     granularity='monthly', start='20160101', end='20161231')\n",
    "        print(\"Fetched {} - {} \".format(datetime.now(),i+batch_size))\n",
    "        series = pd.DataFrame(page_views).apply(lambda x: x.sum(), axis=1)\n",
    "        df = series_to_df(series)\n",
    "        df_lst.append(df)\n",
    "        \n",
    "    df = pd.concat(df_lst,ignore_index=True)\n",
    "    return df"
   ]
  },
  {
   "cell_type": "code",
   "execution_count": 29,
   "metadata": {
    "collapsed": true
   },
   "outputs": [],
   "source": [
    "def load_names(file_path):\n",
    "    \"\"\" Load file with politician names as a list \n",
    "    \"\"\"\n",
    "    politician_names = pd.read_csv(file_path)\n",
    "    names_lst = politician_names[\"names_u\"]\n",
    "    names_lst = names_lst.values\n",
    "    print(\"Names loaded! \\n\")\n",
    "    print(\"Numner of names {} \\n\".format(len(names_lst)))\n",
    "    return names_lst"
   ]
  },
  {
   "cell_type": "code",
   "execution_count": 21,
   "metadata": {
    "collapsed": false
   },
   "outputs": [
    {
     "name": "stdout",
     "output_type": "stream",
     "text": [
      "Names loaded! \n",
      "\n",
      "Numner of names 46479 \n",
      "\n"
     ]
    }
   ],
   "source": [
    "names_lst = load_names(\"../data/cohort/wiki_page_cohorts/2016.csv\")"
   ]
  },
  {
   "cell_type": "code",
   "execution_count": 22,
   "metadata": {
    "collapsed": false
   },
   "outputs": [
    {
     "name": "stdout",
     "output_type": "stream",
     "text": [
      "Fetched 2018-03-05 18:04:40.668128 - 1000 \n",
      "Fetched 2018-03-05 18:04:47.146128 - 1500 \n",
      "Fetched 2018-03-05 18:04:53.785128 - 2000 \n",
      "Fetched 2018-03-05 18:05:00.276128 - 2500 \n",
      "Fetched 2018-03-05 18:05:06.772128 - 3000 \n",
      "Fetched 2018-03-05 18:05:13.315128 - 3500 \n",
      "Fetched 2018-03-05 18:05:20.774128 - 4000 \n",
      "Fetched 2018-03-05 18:05:27.293128 - 4500 \n",
      "Fetched 2018-03-05 18:05:33.769128 - 5000 \n",
      "Fetched 2018-03-05 18:05:40.263128 - 5500 \n",
      "Fetched 2018-03-05 18:05:47.031128 - 6000 \n",
      "Fetched 2018-03-05 18:05:53.725128 - 6500 \n",
      "Fetched 2018-03-05 18:06:00.194128 - 7000 \n",
      "Fetched 2018-03-05 18:06:06.712128 - 7500 \n",
      "Fetched 2018-03-05 18:06:13.264128 - 8000 \n",
      "Fetched 2018-03-05 18:06:19.664128 - 8500 \n",
      "Fetched 2018-03-05 18:06:26.498128 - 9000 \n",
      "Fetched 2018-03-05 18:06:33.051128 - 9500 \n",
      "Fetched 2018-03-05 18:06:39.538128 - 10000 \n",
      "Fetched 2018-03-05 18:06:46.123128 - 10500 \n",
      "Fetched 2018-03-05 18:06:59.667128 - 11000 \n",
      "Fetched 2018-03-05 18:07:13.100128 - 11500 \n",
      "Fetched 2018-03-05 18:07:26.368128 - 12000 \n",
      "Fetched 2018-03-05 18:07:39.887128 - 12500 \n",
      "Fetched 2018-03-05 18:07:53.405128 - 13000 \n",
      "Fetched 2018-03-05 18:08:06.829128 - 13500 \n",
      "Fetched 2018-03-05 18:08:20.813128 - 14000 \n",
      "Fetched 2018-03-05 18:08:34.362128 - 14500 \n",
      "Fetched 2018-03-05 18:08:47.776128 - 15000 \n",
      "Fetched 2018-03-05 18:09:01.245128 - 15500 \n",
      "Fetched 2018-03-05 18:09:15.085128 - 16000 \n",
      "Fetched 2018-03-05 18:09:28.631128 - 16500 \n",
      "Fetched 2018-03-05 18:09:42.445128 - 17000 \n",
      "Fetched 2018-03-05 18:09:56.088128 - 17500 \n",
      "Fetched 2018-03-05 18:10:09.926128 - 18000 \n",
      "Fetched 2018-03-05 18:10:24.259128 - 18500 \n",
      "Fetched 2018-03-05 18:10:38.286128 - 19000 \n",
      "Fetched 2018-03-05 18:10:53.987128 - 19500 \n",
      "Fetched 2018-03-05 18:11:07.841128 - 20000 \n",
      "Fetched 2018-03-05 18:11:22.057128 - 20500 \n",
      "Fetched 2018-03-05 18:11:35.473128 - 21000 \n",
      "Fetched 2018-03-05 18:11:49.685128 - 21500 \n",
      "Fetched 2018-03-05 18:12:03.801128 - 22000 \n",
      "Fetched 2018-03-05 18:12:17.709128 - 22500 \n",
      "Fetched 2018-03-05 18:12:31.986128 - 23000 \n",
      "Fetched 2018-03-05 18:12:46.747128 - 23500 \n",
      "Fetched 2018-03-05 18:13:01.289128 - 24000 \n",
      "Fetched 2018-03-05 18:13:14.728128 - 24500 \n",
      "Fetched 2018-03-05 18:13:29.295128 - 25000 \n",
      "Fetched 2018-03-05 18:13:43.172128 - 25500 \n",
      "Fetched 2018-03-05 18:13:57.081128 - 26000 \n",
      "Fetched 2018-03-05 18:14:11.725128 - 26500 \n",
      "Fetched 2018-03-05 18:14:26.176128 - 27000 \n",
      "Fetched 2018-03-05 18:14:39.871128 - 27500 \n",
      "Fetched 2018-03-05 18:14:53.463128 - 28000 \n",
      "Fetched 2018-03-05 18:15:07.534128 - 28500 \n",
      "Fetched 2018-03-05 18:15:21.118128 - 29000 \n",
      "Fetched 2018-03-05 18:15:35.207128 - 29500 \n",
      "Fetched 2018-03-05 18:15:49.912128 - 30000 \n",
      "Fetched 2018-03-05 18:16:04.154128 - 30500 \n",
      "Fetched 2018-03-05 18:16:17.819128 - 31000 \n",
      "Fetched 2018-03-05 18:16:32.400128 - 31500 \n",
      "Fetched 2018-03-05 18:16:46.520128 - 32000 \n",
      "Fetched 2018-03-05 18:16:59.871128 - 32500 \n",
      "Fetched 2018-03-05 18:17:13.417128 - 33000 \n",
      "Fetched 2018-03-05 18:17:26.845128 - 33500 \n",
      "Fetched 2018-03-05 18:17:40.763128 - 34000 \n",
      "Fetched 2018-03-05 18:17:54.938128 - 34500 \n",
      "Fetched 2018-03-05 18:18:08.468128 - 35000 \n",
      "Fetched 2018-03-05 18:18:21.984128 - 35500 \n",
      "Fetched 2018-03-05 18:18:35.846128 - 36000 \n",
      "Fetched 2018-03-05 18:18:49.450128 - 36500 \n",
      "Fetched 2018-03-05 18:19:03.193128 - 37000 \n",
      "Fetched 2018-03-05 18:19:16.557128 - 37500 \n",
      "Fetched 2018-03-05 18:19:30.608128 - 38000 \n",
      "Fetched 2018-03-05 18:19:44.250128 - 38500 \n",
      "Fetched 2018-03-05 18:19:57.838897 - 39000 \n",
      "Fetched 2018-03-05 18:20:11.551379 - 39500 \n",
      "Fetched 2018-03-05 18:20:25.099797 - 40000 \n",
      "Fetched 2018-03-05 18:20:38.561179 - 40500 \n",
      "Fetched 2018-03-05 18:20:52.550773 - 41000 \n",
      "Fetched 2018-03-05 18:21:06.028161 - 41500 \n",
      "Fetched 2018-03-05 18:21:19.103389 - 42000 \n",
      "Fetched 2018-03-05 18:21:33.724235 - 42500 \n",
      "Fetched 2018-03-05 18:21:47.200624 - 43000 \n",
      "Fetched 2018-03-05 18:22:00.749041 - 43500 \n",
      "Fetched 2018-03-05 18:22:15.441916 - 44000 \n",
      "Fetched 2018-03-05 18:22:29.236431 - 44500 \n",
      "Fetched 2018-03-05 18:22:43.235029 - 45000 \n",
      "Fetched 2018-03-05 18:22:57.101573 - 45500 \n",
      "Fetched 2018-03-05 18:23:10.515937 - 46000 \n",
      "Fetched 2018-03-05 18:23:24.139384 - 46500 \n",
      "Fetched 2018-03-05 18:23:36.946505 - 47000 \n"
     ]
    }
   ],
   "source": [
    "df = fetch_views(names_lst)"
   ]
  },
  {
   "cell_type": "code",
   "execution_count": 28,
   "metadata": {
    "collapsed": false
   },
   "outputs": [
    {
     "name": "stdout",
     "output_type": "stream",
     "text": [
      "File saved at views/2016.csv\n"
     ]
    }
   ],
   "source": [
    "save(df, \"views/2016.csv\")"
   ]
  },
  {
   "cell_type": "code",
   "execution_count": null,
   "metadata": {
    "collapsed": true
   },
   "outputs": [],
   "source": []
  }
 ],
 "metadata": {
  "kernelspec": {
   "display_name": "Python 3",
   "language": "python",
   "name": "python3"
  },
  "language_info": {
   "codemirror_mode": {
    "name": "ipython",
    "version": 3
   },
   "file_extension": ".py",
   "mimetype": "text/x-python",
   "name": "python",
   "nbconvert_exporter": "python",
   "pygments_lexer": "ipython3",
   "version": "3.6.0"
  }
 },
 "nbformat": 4,
 "nbformat_minor": 2
}
