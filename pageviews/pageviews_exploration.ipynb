{
 "cells": [
  {
   "cell_type": "code",
   "execution_count": 15,
   "metadata": {
    "collapsed": false
   },
   "outputs": [],
   "source": [
    "import pandas as pd \n",
    "from matplotlib import pyplot as plt \n",
    "import seaborn as sns\n",
    "import numpy as np\n",
    "%matplotlib inline"
   ]
  },
  {
   "cell_type": "markdown",
   "metadata": {},
   "source": [
    "# Paths"
   ]
  },
  {
   "cell_type": "code",
   "execution_count": 2,
   "metadata": {
    "collapsed": true
   },
   "outputs": [],
   "source": [
    "pageviews_dir = \"../data/pageviews/\""
   ]
  },
  {
   "cell_type": "code",
   "execution_count": 7,
   "metadata": {
    "collapsed": false
   },
   "outputs": [],
   "source": [
    "df_8 = pd.read_csv(pageviews_dir+\"2008\"+\".csv\")\n",
    "df_9 = pd.read_csv(pageviews_dir+\"2009\"+\".csv\")\n",
    "df_10 = pd.read_csv(pageviews_dir+\"2010\"+\".csv\")\n",
    "df_11 = pd.read_csv(pageviews_dir+\"2011\"+\".csv\")\n",
    "df_12 = pd.read_csv(pageviews_dir+\"2012\"+\".csv\")\n",
    "df_14 = pd.read_csv(pageviews_dir+\"2014\"+\".csv\")\n",
    "df_13 = pd.read_csv(pageviews_dir+\"2013\"+\".csv\")\n",
    "df_16 = pd.read_csv(pageviews_dir+\"2016\"+\".csv\")"
   ]
  },
  {
   "cell_type": "code",
   "execution_count": 9,
   "metadata": {
    "collapsed": false
   },
   "outputs": [
    {
     "data": {
      "text/html": [
       "<div>\n",
       "<table border=\"1\" class=\"dataframe\">\n",
       "  <thead>\n",
       "    <tr style=\"text-align: right;\">\n",
       "      <th></th>\n",
       "      <th>name_q</th>\n",
       "      <th>name_u</th>\n",
       "      <th>views</th>\n",
       "    </tr>\n",
       "  </thead>\n",
       "  <tbody>\n",
       "    <tr>\n",
       "      <th>0</th>\n",
       "      <td>%27Abd_al-Ilah</td>\n",
       "      <td>'Abd_al-Ilah</td>\n",
       "      <td>55.0</td>\n",
       "    </tr>\n",
       "    <tr>\n",
       "      <th>1</th>\n",
       "      <td>%C3%81ine_Brady</td>\n",
       "      <td>Áine_Brady</td>\n",
       "      <td>646.0</td>\n",
       "    </tr>\n",
       "    <tr>\n",
       "      <th>2</th>\n",
       "      <td>%C3%81kos_Birtalan</td>\n",
       "      <td>Ákos_Birtalan</td>\n",
       "      <td>543.0</td>\n",
       "    </tr>\n",
       "    <tr>\n",
       "      <th>3</th>\n",
       "      <td>%C3%81lvaro_Alsogaray</td>\n",
       "      <td>Álvaro_Alsogaray</td>\n",
       "      <td>694.0</td>\n",
       "    </tr>\n",
       "    <tr>\n",
       "      <th>4</th>\n",
       "      <td>%C3%81lvaro_Ara%C3%BAjo_Castro</td>\n",
       "      <td>Álvaro_Araújo_Castro</td>\n",
       "      <td>697.0</td>\n",
       "    </tr>\n",
       "  </tbody>\n",
       "</table>\n",
       "</div>"
      ],
      "text/plain": [
       "                           name_q                name_u  views\n",
       "0                  %27Abd_al-Ilah          'Abd_al-Ilah   55.0\n",
       "1                 %C3%81ine_Brady            Áine_Brady  646.0\n",
       "2              %C3%81kos_Birtalan         Ákos_Birtalan  543.0\n",
       "3           %C3%81lvaro_Alsogaray      Álvaro_Alsogaray  694.0\n",
       "4  %C3%81lvaro_Ara%C3%BAjo_Castro  Álvaro_Araújo_Castro  697.0"
      ]
     },
     "execution_count": 9,
     "metadata": {},
     "output_type": "execute_result"
    }
   ],
   "source": [
    "df_8.head()"
   ]
  },
  {
   "cell_type": "code",
   "execution_count": 13,
   "metadata": {
    "collapsed": false
   },
   "outputs": [
    {
     "name": "stderr",
     "output_type": "stream",
     "text": [
      "C:\\Users\\vujovisn\\AppData\\Local\\Continuum\\Anaconda3\\lib\\site-packages\\statsmodels\\nonparametric\\kdetools.py:20: VisibleDeprecationWarning: using a non-integer number instead of an integer will result in an error in the future\n",
      "  y = X[:m/2+1] + np.r_[0,X[m/2+1:],0]*1j\n"
     ]
    },
    {
     "data": {
      "text/plain": [
       "<matplotlib.axes._subplots.AxesSubplot at 0xdd48f60>"
      ]
     },
     "execution_count": 13,
     "metadata": {},
     "output_type": "execute_result"
    },
    {
     "data": {
      "image/png": "[encoded data removed]",
      "text/plain": [
       "<matplotlib.figure.Figure at 0xda2e940>"
      ]
     },
     "metadata": {},
     "output_type": "display_data"
    }
   ],
   "source": [
    "sns.distplot(df_8.views)"
   ]
  },
  {
   "cell_type": "code",
   "execution_count": 16,
   "metadata": {
    "collapsed": true
   },
   "outputs": [],
   "source": [
    "def gini(array):\n",
    "    \"\"\"Calculate the Gini coefficient of a numpy array.\"\"\"\n",
    "    # based on bottom eq: http://www.statsdirect.com/help/content/image/stat0206_wmf.gif\n",
    "    # from: http://www.statsdirect.com/help/default.htm#nonparametric_methods/gini.htm\n",
    "    array = array.flatten() #all values are treated equally, arrays must be 1d\n",
    "    if np.amin(array) < 0:\n",
    "        array -= np.amin(array) #values cannot be negative\n",
    "    array += 0.0000001 #values cannot be 0\n",
    "    array = np.sort(array) #values must be sorted\n",
    "    index = np.arange(1,array.shape[0]+1) #index per array element\n",
    "    n = array.shape[0]#number of array elements\n",
    "    return ((np.sum((2 * index - n  - 1) * array)) / (n * np.sum(array))) #Gini coefficient"
   ]
  },
  {
   "cell_type": "code",
   "execution_count": 19,
   "metadata": {
    "collapsed": false
   },
   "outputs": [],
   "source": [
    "df_lst = [df_8,df_9, df_10, df_11, df_12, df_13, df_14, df_16]\n",
    "df_dict = {\n",
    "    2008 : df_8,\n",
    "    2009 : df_9,\n",
    "    2010 : df_10,\n",
    "    2011: df_11,\n",
    "    2012: df_12,\n",
    "    2013: df_13,\n",
    "    2014: df_14,\n",
    "    2016: df_16\n",
    "}"
   ]
  },
  {
   "cell_type": "markdown",
   "metadata": {},
   "source": [
    "# Inequaly distributed:"
   ]
  },
  {
   "cell_type": "code",
   "execution_count": 32,
   "metadata": {
    "collapsed": false
   },
   "outputs": [
    {
     "name": "stdout",
     "output_type": "stream",
     "text": [
      "GINI 2008 : 0.8979029110518093\n",
      "GINI 2009 : 0.8958330827706914\n",
      "GINI 2010 : 0.866134537756055\n",
      "GINI 2011 : 0.8871964944220658\n",
      "GINI 2012 : 0.8844797518792556\n",
      "GINI 2013 : 0.8855313907582936\n",
      "GINI 2014 : 0.8586170734729023\n",
      "GINI 2016 : 0.8856628413602134\n"
     ]
    }
   ],
   "source": [
    "for year,df in df_dict.items():\n",
    "    print(\"GINI {} : {}\".format(year, gini(df['views'].values.astype(float))))"
   ]
  },
  {
   "cell_type": "code",
   "execution_count": 30,
   "metadata": {
    "collapsed": false
   },
   "outputs": [
    {
     "data": {
      "text/plain": [
       "name_q    object\n",
       "name_u    object\n",
       "views      int64\n",
       "dtype: object"
      ]
     },
     "execution_count": 30,
     "metadata": {},
     "output_type": "execute_result"
    }
   ],
   "source": [
    "df_9.dtypes"
   ]
  },
  {
   "cell_type": "code",
   "execution_count": null,
   "metadata": {
    "collapsed": true
   },
   "outputs": [],
   "source": []
  }
 ],
 "metadata": {
  "kernelspec": {
   "display_name": "Python 3",
   "language": "python",
   "name": "python3"
  },
  "language_info": {
   "codemirror_mode": {
    "name": "ipython",
    "version": 3
   },
   "file_extension": ".py",
   "mimetype": "text/x-python",
   "name": "python",
   "nbconvert_exporter": "python",
   "pygments_lexer": "ipython3",
   "version": "3.6.0"
  }
 },
 "nbformat": 4,
 "nbformat_minor": 2
}
