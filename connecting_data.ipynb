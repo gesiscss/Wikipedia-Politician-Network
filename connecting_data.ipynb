{
 "cells": [
  {
   "cell_type": "code",
   "execution_count": 35,
   "metadata": {
    "collapsed": true
   },
   "outputs": [],
   "source": [
    "import pandas as pd \n",
    "import networkx as nx "
   ]
  },
  {
   "cell_type": "markdown",
   "metadata": {},
   "source": [
    "# Paths"
   ]
  },
  {
   "cell_type": "code",
   "execution_count": 36,
   "metadata": {
    "collapsed": true
   },
   "outputs": [],
   "source": [
    "base_data = \"data/politician_data_inside\"\n",
    "cohort_data = \"data/cohort/all_cohorts.csv\"\n",
    "pageviews_path = \"data/pageviews/\"\n",
    "net_stats_path = \"data/graphs_eff/\""
   ]
  },
  {
   "cell_type": "markdown",
   "metadata": {},
   "source": [
    "# Load data"
   ]
  },
  {
   "cell_type": "code",
   "execution_count": 37,
   "metadata": {
    "collapsed": true
   },
   "outputs": [],
   "source": [
    "data = pd.read_pickle(base_data)"
   ]
  },
  {
   "cell_type": "code",
   "execution_count": 38,
   "metadata": {},
   "outputs": [
    {
     "data": {
      "text/html": [
       "<div>\n",
       "<table border=\"1\" class=\"dataframe\">\n",
       "  <thead>\n",
       "    <tr style=\"text-align: right;\">\n",
       "      <th></th>\n",
       "      <th>#DBpURL</th>\n",
       "      <th>ID</th>\n",
       "      <th>WikiURL</th>\n",
       "      <th>birthDate</th>\n",
       "      <th>deathDate</th>\n",
       "      <th>first_name</th>\n",
       "      <th>fpp_gender</th>\n",
       "      <th>full_name</th>\n",
       "      <th>gender</th>\n",
       "      <th>genderize</th>\n",
       "      <th>name</th>\n",
       "      <th>nationality</th>\n",
       "      <th>occupation</th>\n",
       "      <th>party</th>\n",
       "    </tr>\n",
       "  </thead>\n",
       "  <tbody>\n",
       "    <tr>\n",
       "      <th>0</th>\n",
       "      <td>http://dbpedia.org/resource/Quincy_Timberlake</td>\n",
       "      <td>11</td>\n",
       "      <td>http://en.wikipedia.org/wiki/Quincy_Timberlake</td>\n",
       "      <td>1980-04-22 00:00:00</td>\n",
       "      <td>None</td>\n",
       "      <td>quincy</td>\n",
       "      <td>NaN</td>\n",
       "      <td>Quincy+Timberlake</td>\n",
       "      <td>male</td>\n",
       "      <td>NaN</td>\n",
       "      <td>[ quincy timberlake ,  timberlake quincy ]</td>\n",
       "      <td>[kenyan]</td>\n",
       "      <td>[politician]</td>\n",
       "      <td>[]</td>\n",
       "    </tr>\n",
       "    <tr>\n",
       "      <th>5</th>\n",
       "      <td>http://dbpedia.org/resource/Nizamettin_Erkmen</td>\n",
       "      <td>144</td>\n",
       "      <td>http://en.wikipedia.org/wiki/Nizamettin_Erkmen</td>\n",
       "      <td>None</td>\n",
       "      <td>1990-10-24 00:00:00</td>\n",
       "      <td>nizamettin</td>\n",
       "      <td>NaN</td>\n",
       "      <td>Nizamettin+Erkmen</td>\n",
       "      <td>male</td>\n",
       "      <td>NaN</td>\n",
       "      <td>[ erkmen nizamettin ]</td>\n",
       "      <td>[turkish]</td>\n",
       "      <td>[politician]</td>\n",
       "      <td>[]</td>\n",
       "    </tr>\n",
       "    <tr>\n",
       "      <th>6</th>\n",
       "      <td>http://dbpedia.org/resource/Claudio_Scajola</td>\n",
       "      <td>183</td>\n",
       "      <td>http://en.wikipedia.org/wiki/Claudio_Scajola</td>\n",
       "      <td>1948-01-15 00:00:00</td>\n",
       "      <td>None</td>\n",
       "      <td>claudio</td>\n",
       "      <td>NaN</td>\n",
       "      <td>Claudio+Scajola</td>\n",
       "      <td>male</td>\n",
       "      <td>NaN</td>\n",
       "      <td>[ claudio scajola ]</td>\n",
       "      <td>[italian]</td>\n",
       "      <td>[politician]</td>\n",
       "      <td>[ forza italia (2013) ]</td>\n",
       "    </tr>\n",
       "    <tr>\n",
       "      <th>8</th>\n",
       "      <td>http://dbpedia.org/resource/Thomas_Clausen_(Lo...</td>\n",
       "      <td>246</td>\n",
       "      <td>http://en.wikipedia.org/wiki/Thomas_Clausen_(L...</td>\n",
       "      <td>1939-12-22 00:00:00</td>\n",
       "      <td>2002-02-20 00:00:00</td>\n",
       "      <td>thomas</td>\n",
       "      <td>NaN</td>\n",
       "      <td>Thomas+Clausen+(Louisiana)</td>\n",
       "      <td>male</td>\n",
       "      <td>NaN</td>\n",
       "      <td>[ thomas greenwood clausen ,  clausen thomas g...</td>\n",
       "      <td>[american]</td>\n",
       "      <td>[politician]</td>\n",
       "      <td>[ democratic party (united states) ]</td>\n",
       "    </tr>\n",
       "    <tr>\n",
       "      <th>9</th>\n",
       "      <td>http://dbpedia.org/resource/Yang_Ti-liang</td>\n",
       "      <td>248</td>\n",
       "      <td>http://en.wikipedia.org/wiki/Yang_Ti-liang</td>\n",
       "      <td>1929-06-30 00:00:00</td>\n",
       "      <td>None</td>\n",
       "      <td>yang</td>\n",
       "      <td>NaN</td>\n",
       "      <td>Yang+Ti-liang</td>\n",
       "      <td>male</td>\n",
       "      <td>NaN</td>\n",
       "      <td>[ ti-liang yang ]</td>\n",
       "      <td>[]</td>\n",
       "      <td>[politician]</td>\n",
       "      <td>[]</td>\n",
       "    </tr>\n",
       "  </tbody>\n",
       "</table>\n",
       "</div>"
      ],
      "text/plain": [
       "                                             #DBpURL   ID  \\\n",
       "0      http://dbpedia.org/resource/Quincy_Timberlake   11   \n",
       "5      http://dbpedia.org/resource/Nizamettin_Erkmen  144   \n",
       "6        http://dbpedia.org/resource/Claudio_Scajola  183   \n",
       "8  http://dbpedia.org/resource/Thomas_Clausen_(Lo...  246   \n",
       "9          http://dbpedia.org/resource/Yang_Ti-liang  248   \n",
       "\n",
       "                                             WikiURL            birthDate  \\\n",
       "0     http://en.wikipedia.org/wiki/Quincy_Timberlake  1980-04-22 00:00:00   \n",
       "5     http://en.wikipedia.org/wiki/Nizamettin_Erkmen                 None   \n",
       "6       http://en.wikipedia.org/wiki/Claudio_Scajola  1948-01-15 00:00:00   \n",
       "8  http://en.wikipedia.org/wiki/Thomas_Clausen_(L...  1939-12-22 00:00:00   \n",
       "9         http://en.wikipedia.org/wiki/Yang_Ti-liang  1929-06-30 00:00:00   \n",
       "\n",
       "             deathDate  first_name fpp_gender                   full_name  \\\n",
       "0                 None      quincy        NaN           Quincy+Timberlake   \n",
       "5  1990-10-24 00:00:00  nizamettin        NaN           Nizamettin+Erkmen   \n",
       "6                 None     claudio        NaN             Claudio+Scajola   \n",
       "8  2002-02-20 00:00:00      thomas        NaN  Thomas+Clausen+(Louisiana)   \n",
       "9                 None        yang        NaN               Yang+Ti-liang   \n",
       "\n",
       "  gender genderize                                               name  \\\n",
       "0   male       NaN         [ quincy timberlake ,  timberlake quincy ]   \n",
       "5   male       NaN                              [ erkmen nizamettin ]   \n",
       "6   male       NaN                                [ claudio scajola ]   \n",
       "8   male       NaN  [ thomas greenwood clausen ,  clausen thomas g...   \n",
       "9   male       NaN                                  [ ti-liang yang ]   \n",
       "\n",
       "  nationality    occupation                                 party  \n",
       "0    [kenyan]  [politician]                                    []  \n",
       "5   [turkish]  [politician]                                    []  \n",
       "6   [italian]  [politician]               [ forza italia (2013) ]  \n",
       "8  [american]  [politician]  [ democratic party (united states) ]  \n",
       "9          []  [politician]                                    []  "
      ]
     },
     "execution_count": 38,
     "metadata": {},
     "output_type": "execute_result"
    }
   ],
   "source": [
    "data.head()"
   ]
  },
  {
   "cell_type": "code",
   "execution_count": 39,
   "metadata": {
    "collapsed": true
   },
   "outputs": [],
   "source": [
    "cohort = pd.read_csv(cohort_data)"
   ]
  },
  {
   "cell_type": "code",
   "execution_count": 40,
   "metadata": {},
   "outputs": [
    {
     "data": {
      "text/html": [
       "<div>\n",
       "<table border=\"1\" class=\"dataframe\">\n",
       "  <thead>\n",
       "    <tr style=\"text-align: right;\">\n",
       "      <th></th>\n",
       "      <th>node</th>\n",
       "      <th>year</th>\n",
       "    </tr>\n",
       "  </thead>\n",
       "  <tbody>\n",
       "    <tr>\n",
       "      <th>0</th>\n",
       "      <td>803946.0</td>\n",
       "      <td>2001</td>\n",
       "    </tr>\n",
       "    <tr>\n",
       "      <th>1</th>\n",
       "      <td>554382.0</td>\n",
       "      <td>2001</td>\n",
       "    </tr>\n",
       "    <tr>\n",
       "      <th>2</th>\n",
       "      <td>843335.0</td>\n",
       "      <td>2001</td>\n",
       "    </tr>\n",
       "    <tr>\n",
       "      <th>3</th>\n",
       "      <td>1143861.0</td>\n",
       "      <td>2001</td>\n",
       "    </tr>\n",
       "    <tr>\n",
       "      <th>4</th>\n",
       "      <td>81474.0</td>\n",
       "      <td>2001</td>\n",
       "    </tr>\n",
       "  </tbody>\n",
       "</table>\n",
       "</div>"
      ],
      "text/plain": [
       "        node  year\n",
       "0   803946.0  2001\n",
       "1   554382.0  2001\n",
       "2   843335.0  2001\n",
       "3  1143861.0  2001\n",
       "4    81474.0  2001"
      ]
     },
     "execution_count": 40,
     "metadata": {},
     "output_type": "execute_result"
    }
   ],
   "source": [
    "cohort.head()"
   ]
  },
  {
   "cell_type": "markdown",
   "metadata": {},
   "source": [
    "# Add cohort data"
   ]
  },
  {
   "cell_type": "code",
   "execution_count": 41,
   "metadata": {
    "collapsed": true
   },
   "outputs": [],
   "source": [
    "def add_cohort_data(data, cohort):\n",
    "    \"\"\" Merge cohort data with politician data\n",
    "    \"\"\"\n",
    "    cohort_merged = data.merge(cohort, left_on=[\"ID\"], right_on=[\"node\"])\n",
    "    cohort_merged = cohort_merged.drop([\"node\",\"fpp_gender\",\"genderize\"], axis=1)\n",
    "    cohort_merged = cohort_merged.rename(index=str, columns={\"year\": \"entered\"})\n",
    "    return cohort_merged"
   ]
  },
  {
   "cell_type": "code",
   "execution_count": 42,
   "metadata": {},
   "outputs": [
    {
     "data": {
      "text/plain": [
       "(46479, 14)"
      ]
     },
     "execution_count": 42,
     "metadata": {},
     "output_type": "execute_result"
    }
   ],
   "source": [
    "data.shape"
   ]
  },
  {
   "cell_type": "code",
   "execution_count": 43,
   "metadata": {},
   "outputs": [
    {
     "data": {
      "text/plain": [
       "(46479, 2)"
      ]
     },
     "execution_count": 43,
     "metadata": {},
     "output_type": "execute_result"
    }
   ],
   "source": [
    "cohort.shape"
   ]
  },
  {
   "cell_type": "code",
   "execution_count": 44,
   "metadata": {},
   "outputs": [],
   "source": [
    "# cohort_merged = data.merge(cohort, left_on=[\"ID\"], right_on=[\"node\"])\n",
    "# cohort_merged = cohort_merged.drop([\"node\",\"fpp_gender\",\"genderize\"], axis=1)"
   ]
  },
  {
   "cell_type": "code",
   "execution_count": 45,
   "metadata": {},
   "outputs": [],
   "source": [
    "# cohort_merged = cohort_merged.rename(index=str, columns={\"year\": \"entered\"})\n",
    "# cohort_merged.head()\n",
    "# cohort_merged.columns"
   ]
  },
  {
   "cell_type": "code",
   "execution_count": 46,
   "metadata": {
    "collapsed": true
   },
   "outputs": [],
   "source": [
    "cohort_merged = add_cohort_data(data, cohort)"
   ]
  },
  {
   "cell_type": "markdown",
   "metadata": {},
   "source": [
    "# Join cohorts with pageviews and statistics"
   ]
  },
  {
   "cell_type": "code",
   "execution_count": 47,
   "metadata": {},
   "outputs": [
    {
     "data": {
      "text/html": [
       "<div>\n",
       "<table border=\"1\" class=\"dataframe\">\n",
       "  <thead>\n",
       "    <tr style=\"text-align: right;\">\n",
       "      <th></th>\n",
       "      <th>name_u</th>\n",
       "      <th>views</th>\n",
       "    </tr>\n",
       "  </thead>\n",
       "  <tbody>\n",
       "    <tr>\n",
       "      <th>0</th>\n",
       "      <td>A._K._Antony</td>\n",
       "      <td>76364.0</td>\n",
       "    </tr>\n",
       "    <tr>\n",
       "      <th>1</th>\n",
       "      <td>A._T._M._Abdul_Mateen</td>\n",
       "      <td>3766.0</td>\n",
       "    </tr>\n",
       "    <tr>\n",
       "      <th>2</th>\n",
       "      <td>Abdul_Rahman_Mustafa</td>\n",
       "      <td>2096.0</td>\n",
       "    </tr>\n",
       "    <tr>\n",
       "      <th>3</th>\n",
       "      <td>Adam_Marshall</td>\n",
       "      <td>4105.0</td>\n",
       "    </tr>\n",
       "    <tr>\n",
       "      <th>4</th>\n",
       "      <td>Adnan_Kassar</td>\n",
       "      <td>3899.0</td>\n",
       "    </tr>\n",
       "  </tbody>\n",
       "</table>\n",
       "</div>"
      ],
      "text/plain": [
       "                  name_u    views\n",
       "0           A._K._Antony  76364.0\n",
       "1  A._T._M._Abdul_Mateen   3766.0\n",
       "2   Abdul_Rahman_Mustafa   2096.0\n",
       "3          Adam_Marshall   4105.0\n",
       "4           Adnan_Kassar   3899.0"
      ]
     },
     "execution_count": 47,
     "metadata": {},
     "output_type": "execute_result"
    }
   ],
   "source": [
    "pageviews = pd.read_csv(pageviews_path+\"2016.csv\")\n",
    "pageviews.head()"
   ]
  },
  {
   "cell_type": "code",
   "execution_count": 48,
   "metadata": {},
   "outputs": [
    {
     "data": {
      "text/plain": [
       "(46479, 2)"
      ]
     },
     "execution_count": 48,
     "metadata": {},
     "output_type": "execute_result"
    }
   ],
   "source": [
    "pageviews.shape"
   ]
  },
  {
   "cell_type": "code",
   "execution_count": 49,
   "metadata": {},
   "outputs": [],
   "source": [
    "def graph_to_df(net_stats_path, year):\n",
    "    \"\"\" Reads pcikeled graph and returns it as a dataframe\n",
    "    \"\"\"\n",
    "    G = nx.read_gpickle(\"{}/{}_12_dir\".format(net_stats_path, year))\n",
    "    id_lst = [n for n,d in G.nodes_iter(data=True)]\n",
    "    prop_lst = [d for n,d in G.nodes_iter(data=True)]\n",
    "    ids = pd.DataFrame(id_lst)\n",
    "    props = pd.DataFrame(prop_lst)\n",
    "    data = ids.join(props).rename(columns={0:'id'})\n",
    "    return data"
   ]
  },
  {
   "cell_type": "code",
   "execution_count": 50,
   "metadata": {},
   "outputs": [],
   "source": [
    "# gdf = graph_to_df(net_stats_path, 2016)\n",
    "# gdf.head()"
   ]
  },
  {
   "cell_type": "code",
   "execution_count": 51,
   "metadata": {},
   "outputs": [],
   "source": [
    "# cols_to_use = gdf.columns.difference(cohort_merged.columns)\n",
    "# cols_to_use"
   ]
  },
  {
   "cell_type": "code",
   "execution_count": 52,
   "metadata": {},
   "outputs": [],
   "source": [
    "# mdf = pd.merge(cohort_merged, gdf[cols_to_use], left_on=[\"ID\"], right_on=[\"id\"])\n",
    "# mdf.head()"
   ]
  },
  {
   "cell_type": "code",
   "execution_count": 53,
   "metadata": {},
   "outputs": [],
   "source": [
    "# mdf[\"name_u\"] = mdf.apply(lambda x: x[\"full_name\"].replace(\"+\", \"_\"), axis=1)"
   ]
  },
  {
   "cell_type": "code",
   "execution_count": 54,
   "metadata": {},
   "outputs": [],
   "source": [
    "# pd.merge(mdf, pageviews, left_on=[\"name_u\"], right_on=[\"name_u\"])"
   ]
  },
  {
   "cell_type": "code",
   "execution_count": 55,
   "metadata": {},
   "outputs": [],
   "source": [
    "# pageviews"
   ]
  },
  {
   "cell_type": "code",
   "execution_count": 56,
   "metadata": {
    "collapsed": true
   },
   "outputs": [],
   "source": [
    "def add_pw_stats(year, df, net_stats_path, pageviews_path):\n",
    "    \"\"\" Joins network stats and pageviews with politician data\n",
    "    \"\"\"\n",
    "    gdf = graph_to_df(net_stats_path, 2016)\n",
    "    pageviews = pd.read_csv(pageviews_path+\"{}.csv\".format(year))\n",
    "    stats = pd.read_pickle(net_stats_path+\"{}_12_dir\".format(year))\n",
    "#     df = df[\"entered\" == year]\n",
    "    cols_to_use = gdf.columns.difference(df.columns)\n",
    "    mdf = pd.merge(df, gdf[cols_to_use], left_on=[\"ID\"], right_on=[\"id\"])\n",
    "    mdf[\"name_u\"] = mdf.apply(lambda x: x[\"full_name\"].replace(\"+\", \"_\"), axis=1)\n",
    "    df_final = pd.merge(mdf, pageviews, left_on=[\"name_u\"], right_on=[\"name_u\"])\n",
    "    return df_final"
   ]
  },
  {
   "cell_type": "markdown",
   "metadata": {},
   "source": [
    "# Save for specific years"
   ]
  },
  {
   "cell_type": "code",
   "execution_count": 57,
   "metadata": {
    "collapsed": true
   },
   "outputs": [],
   "source": [
    "save_path = \"data/connected_sources/\""
   ]
  },
  {
   "cell_type": "code",
   "execution_count": 58,
   "metadata": {},
   "outputs": [],
   "source": [
    "def save(df, path,year):\n",
    "    \"\"\" Saves df as pcikle\n",
    "    \"\"\"\n",
    "    path = path+str(year)\n",
    "    df.to_pickle(path)\n",
    "    print(\"File saved at {}\".format(path))"
   ]
  },
  {
   "cell_type": "code",
   "execution_count": 59,
   "metadata": {},
   "outputs": [],
   "source": [
    "# df = add_pw_stats(2008, cohort_merged, net_stats_path, pageviews_path)"
   ]
  },
  {
   "cell_type": "code",
   "execution_count": 60,
   "metadata": {},
   "outputs": [],
   "source": [
    "# save(df, save_path, 2008)"
   ]
  },
  {
   "cell_type": "code",
   "execution_count": 61,
   "metadata": {
    "collapsed": true
   },
   "outputs": [],
   "source": [
    "# df = add_pw_stats(2016, cohort_merged, net_stats_path, pageviews_path)"
   ]
  },
  {
   "cell_type": "code",
   "execution_count": 62,
   "metadata": {},
   "outputs": [],
   "source": [
    "# save(df, save_path, 2016)"
   ]
  },
  {
   "cell_type": "code",
   "execution_count": 63,
   "metadata": {},
   "outputs": [],
   "source": [
    "# df = add_pw_stats(2009, cohort_merged, net_stats_path, pageviews_path)\n",
    "# save(df, save_path, 2009)"
   ]
  },
  {
   "cell_type": "code",
   "execution_count": 64,
   "metadata": {
    "collapsed": true
   },
   "outputs": [],
   "source": [
    "# years = [2008,2009,2010,2011,2012,2013,2014,2016]\n",
    "years = [2008,2009,2010,2012,2014,2016]"
   ]
  },
  {
   "cell_type": "code",
   "execution_count": 65,
   "metadata": {},
   "outputs": [
    {
     "name": "stdout",
     "output_type": "stream",
     "text": [
      "File saved at data/connected_sources/2008\n",
      "File saved at data/connected_sources/2009\n",
      "File saved at data/connected_sources/2010\n",
      "File saved at data/connected_sources/2012\n",
      "File saved at data/connected_sources/2014\n",
      "File saved at data/connected_sources/2016\n"
     ]
    }
   ],
   "source": [
    "for year in years:\n",
    "    df = add_pw_stats(year, cohort_merged, net_stats_path, pageviews_path)\n",
    "    save(df, save_path, year)"
   ]
  },
  {
   "cell_type": "code",
   "execution_count": null,
   "metadata": {
    "collapsed": true
   },
   "outputs": [],
   "source": [
    "pd.read_csv()"
   ]
  }
 ],
 "metadata": {
  "kernelspec": {
   "display_name": "Python 3",
   "language": "python",
   "name": "python3"
  },
  "language_info": {
   "codemirror_mode": {
    "name": "ipython",
    "version": 3
   },
   "file_extension": ".py",
   "mimetype": "text/x-python",
   "name": "python",
   "nbconvert_exporter": "python",
   "pygments_lexer": "ipython3",
   "version": "3.6.5"
  }
 },
 "nbformat": 4,
 "nbformat_minor": 2
}
