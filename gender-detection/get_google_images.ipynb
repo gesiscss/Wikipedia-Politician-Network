{
 "cells": [
  {
   "cell_type": "code",
   "execution_count": 67,
   "metadata": {
    "collapsed": false
   },
   "outputs": [],
   "source": [
    "from bs4 import BeautifulSoup\n",
    "import requests\n",
    "import re\n",
    "import os\n",
    "import http.cookiejar\n",
    "import json\n",
    "import pandas as pd\n",
    "from datetime import datetime"
   ]
  },
  {
   "cell_type": "code",
   "execution_count": 14,
   "metadata": {
    "collapsed": false
   },
   "outputs": [],
   "source": [
    "def get_soup(url,header):\n",
    "    resp = requests.get(url,headers=header)\n",
    "    return BeautifulSoup(resp.content,'html.parser')\n",
    "\n",
    "\n",
    "query = \"Nikola+Tesla\" # you can change the query for the image  here\n",
    "image_type=\"ActiOn\"\n",
    "url=\"https://www.google.co.in/search?q=\"+query+\"&source=lnms&tbm=isch\"\n",
    "# print(url)\n",
    "#add the directory for your image here\n",
    "# DIR=\"Pictures\"\n",
    "header={\n",
    "    'User-Agent':\n",
    "    \"Mozilla/5.0 (Windows NT 6.1; WOW64)AppleWebKit/537.36 (KHTML, like Gecko)Chrome/43.0.2357.134 Safari/537.36\"\n",
    "}\n",
    "soup = get_soup(url,header)"
   ]
  },
  {
   "cell_type": "code",
   "execution_count": 37,
   "metadata": {
    "collapsed": true
   },
   "outputs": [],
   "source": [
    "def get_soup(url,header):\n",
    "    \"\"\" Returns beautiful soup object for specified url\n",
    "    \"\"\"\n",
    "    resp = requests.get(url,headers=header)\n",
    "    return BeautifulSoup(resp.content,'html.parser')"
   ]
  },
  {
   "cell_type": "code",
   "execution_count": 17,
   "metadata": {
    "collapsed": true
   },
   "outputs": [],
   "source": [
    "# actual_images=[] \n",
    "# for a in soup.find_all(\"div\",{\"class\":\"rg_meta\"})[:5]:\n",
    "#     link = json.loads(a.text)[\"ou\"]\n",
    "# #     link , Type =json.loads(a.text)[\"ou\"]  ,json.loads(a.text)[\"ity\"]\n",
    "#     actual_images.append((link))"
   ]
  },
  {
   "cell_type": "code",
   "execution_count": 38,
   "metadata": {
    "collapsed": false
   },
   "outputs": [],
   "source": [
    "def get_url_list(soup, num): \n",
    "    \"\"\" Returns top 'num' image URLs\n",
    "    \"\"\"\n",
    "    actual_images=[] \n",
    "    for a in soup.find_all(\"div\",{\"class\":\"rg_meta\"})[:num]:\n",
    "        link = json.loads(a.text)[\"ou\"]\n",
    "    #     link , Type =json.loads(a.text)[\"ou\"]  ,json.loads(a.text)[\"ity\"]\n",
    "        actual_images.append((link))\n",
    "    return actual_images"
   ]
  },
  {
   "cell_type": "code",
   "execution_count": 35,
   "metadata": {
    "collapsed": false
   },
   "outputs": [],
   "source": [
    "# get_url_list(soup)"
   ]
  },
  {
   "cell_type": "code",
   "execution_count": 29,
   "metadata": {
    "collapsed": false
   },
   "outputs": [],
   "source": [
    "def load_list(path,col,typ=\"csv\"):\n",
    "    \"\"\" Returns list of unique names \n",
    "    \"\"\"\n",
    "    if typ == \"csv\":\n",
    "        df = pd.read_csv(path)\n",
    "        return df[col].unique()\n",
    "    if typ == \"json\":\n",
    "        df = pd.read_json(path)\n",
    "        return df[col].unique()\n",
    "    return []"
   ]
  },
  {
   "cell_type": "code",
   "execution_count": 34,
   "metadata": {
    "collapsed": false
   },
   "outputs": [],
   "source": [
    "# names = load_list(\"full_names.csv\",\"name\")\n",
    "# len(names)"
   ]
  },
  {
   "cell_type": "code",
   "execution_count": 36,
   "metadata": {
    "collapsed": true
   },
   "outputs": [],
   "source": [
    "def get_query(name):\n",
    "    \"\"\" Returns query url for specified name\n",
    "    \"\"\"\n",
    "    return \"https://www.google.co.in/search?q=\"+name+\"&source=lnms&tbm=isch\""
   ]
  },
  {
   "cell_type": "code",
   "execution_count": 113,
   "metadata": {
    "collapsed": false
   },
   "outputs": [],
   "source": [
    "# path = \"full_names.csv\"\n",
    "\n",
    "def return_url_df(path, path_save):\n",
    "    names = load_list(path, \"name\")\n",
    "    print(str(len(names))+\" names loaded!\")\n",
    "#     lst = list(names)\n",
    "\n",
    "    header={\n",
    "        'User-Agent':\n",
    "        \"Mozilla/5.0 (Windows NT 6.1; WOW64)AppleWebKit/537.36 (KHTML, like Gecko)Chrome/43.0.2357.134 Safari/537.36\"\n",
    "    }\n",
    "\n",
    "    url1, url2, url3, url4, url5 = [],[],[],[],[]\n",
    "    num = 1\n",
    "    for name in names:\n",
    "        url = get_query(name)\n",
    "        soup = get_soup(url, header)\n",
    "        link1, link2, link3, link4, link5 = get_url_list(soup,5)\n",
    "        url1.append(link1)\n",
    "        url2.append(link2)\n",
    "        url3.append(link3)\n",
    "        url4.append(link4)\n",
    "        url5.append(link5)\n",
    "        \n",
    "        print(\"{} - {} - {}\".format(num, str(datetime.now()), name))\n",
    "        \n",
    "        num = num + 1\n",
    "#         print(len(url1), len(url2), len(url3), len(url4), len(url5))\n",
    "    df = pd.DataFrame({\n",
    "        'name': names,\n",
    "        'url1':url1,\n",
    "        'url2':url2,\n",
    "        'url3':url3,\n",
    "        'url4':url4,\n",
    "        'url5':url5\n",
    "    })\n",
    "    \n",
    "    df.to_csv(path_save, header=False, index=False, encoding=\"utf-8\")\n",
    "    print(\"Dataframe saved at: \"+path_save)\n",
    "    return df"
   ]
  },
  {
   "cell_type": "code",
   "execution_count": 111,
   "metadata": {
    "collapsed": false
   },
   "outputs": [
    {
     "name": "stdout",
     "output_type": "stream",
     "text": [
      "5 names loaded!\n",
      "1 - 2017-10-27 15:45:03.288075 - Fereydun+Ebrahimi\n",
      "2 - 2017-10-27 15:45:11.373883 - Patrice+Gélard\n",
      "3 - 2017-10-27 15:45:19.362682 - Pierre-André+Kombila\n",
      "4 - 2017-10-27 15:45:27.396486 - Jean+Moreau+de+Séchelles\n",
      "5 - 2017-10-27 15:45:34.860232 - Zhang+Hao+(Wu)\n",
      "Dataframe saved at: test.csv\n"
     ]
    },
    {
     "data": {
      "text/html": [
       "<div>\n",
       "<table border=\"1\" class=\"dataframe\">\n",
       "  <thead>\n",
       "    <tr style=\"text-align: right;\">\n",
       "      <th></th>\n",
       "      <th>name</th>\n",
       "      <th>url1</th>\n",
       "      <th>url2</th>\n",
       "      <th>url3</th>\n",
       "      <th>url4</th>\n",
       "      <th>url5</th>\n",
       "    </tr>\n",
       "  </thead>\n",
       "  <tbody>\n",
       "    <tr>\n",
       "      <th>0</th>\n",
       "      <td>Fereydun+Ebrahimi</td>\n",
       "      <td>https://upload.wikimedia.org/wikipedia/commons...</td>\n",
       "      <td>https://alchetron.com/cdn/Habitat-film-images-...</td>\n",
       "      <td>https://s-media-cache-ak0.pinimg.com/236x/8f/2...</td>\n",
       "      <td>https://images-na.ssl-images-amazon.com/images...</td>\n",
       "      <td>https://upload.wikimedia.org/wikipedia/commons...</td>\n",
       "    </tr>\n",
       "    <tr>\n",
       "      <th>1</th>\n",
       "      <td>Patrice+Gélard</td>\n",
       "      <td>http://referentiel.nouvelobs.com/file/4831178-...</td>\n",
       "      <td>https://www.senat.fr/senimg/gelard_patrice9503...</td>\n",
       "      <td>http://yagg.com/files/2013/03/Patrice-Gelard.jpg</td>\n",
       "      <td>http://www.lexpress.fr/pictures/942/482469_le-...</td>\n",
       "      <td>http://www.paris-normandie.fr/documents/10157/...</td>\n",
       "    </tr>\n",
       "    <tr>\n",
       "      <th>2</th>\n",
       "      <td>Pierre-André+Kombila</td>\n",
       "      <td>http://gabonreview.com/wp-content/uploads/Pier...</td>\n",
       "      <td>https://pbs.twimg.com/media/B7Id_jgIQAAuUFM.jpg</td>\n",
       "      <td>http://timesgabon.com/wp-content/uploads/2015/...</td>\n",
       "      <td>http://www.gabonactu.com/wp-content/uploads/20...</td>\n",
       "      <td>http://www.ogooueinfos.com/IMG/jpg/1250705061-...</td>\n",
       "    </tr>\n",
       "    <tr>\n",
       "      <th>3</th>\n",
       "      <td>Jean+Moreau+de+Séchelles</td>\n",
       "      <td>https://upload.wikimedia.org/wikipedia/commons...</td>\n",
       "      <td>https://upload.wikimedia.org/wikipedia/commons...</td>\n",
       "      <td>http://photos.geni.com/p13/57/56/e8/be/5344483...</td>\n",
       "      <td>https://gw.geneanet.org/public/img/media/depos...</td>\n",
       "      <td>http://www.assemblee-nationale.fr/sycomore/bio...</td>\n",
       "    </tr>\n",
       "    <tr>\n",
       "      <th>4</th>\n",
       "      <td>Zhang+Hao+(Wu)</td>\n",
       "      <td>http://wulab.tch.harvard.edu/Members/Hao.jpg</td>\n",
       "      <td>http://www.atpworldtour.com/-/media/tennis/pla...</td>\n",
       "      <td>http://www.mccormick.northwestern.edu/images/r...</td>\n",
       "      <td>http://wulab.tch.harvard.edu/images/Members/Li...</td>\n",
       "      <td>https://image.slidesharecdn.com/f5b184ee-005f-...</td>\n",
       "    </tr>\n",
       "  </tbody>\n",
       "</table>\n",
       "</div>"
      ],
      "text/plain": [
       "                       name  \\\n",
       "0         Fereydun+Ebrahimi   \n",
       "1            Patrice+Gélard   \n",
       "2      Pierre-André+Kombila   \n",
       "3  Jean+Moreau+de+Séchelles   \n",
       "4            Zhang+Hao+(Wu)   \n",
       "\n",
       "                                                url1  \\\n",
       "0  https://upload.wikimedia.org/wikipedia/commons...   \n",
       "1  http://referentiel.nouvelobs.com/file/4831178-...   \n",
       "2  http://gabonreview.com/wp-content/uploads/Pier...   \n",
       "3  https://upload.wikimedia.org/wikipedia/commons...   \n",
       "4       http://wulab.tch.harvard.edu/Members/Hao.jpg   \n",
       "\n",
       "                                                url2  \\\n",
       "0  https://alchetron.com/cdn/Habitat-film-images-...   \n",
       "1  https://www.senat.fr/senimg/gelard_patrice9503...   \n",
       "2    https://pbs.twimg.com/media/B7Id_jgIQAAuUFM.jpg   \n",
       "3  https://upload.wikimedia.org/wikipedia/commons...   \n",
       "4  http://www.atpworldtour.com/-/media/tennis/pla...   \n",
       "\n",
       "                                                url3  \\\n",
       "0  https://s-media-cache-ak0.pinimg.com/236x/8f/2...   \n",
       "1   http://yagg.com/files/2013/03/Patrice-Gelard.jpg   \n",
       "2  http://timesgabon.com/wp-content/uploads/2015/...   \n",
       "3  http://photos.geni.com/p13/57/56/e8/be/5344483...   \n",
       "4  http://www.mccormick.northwestern.edu/images/r...   \n",
       "\n",
       "                                                url4  \\\n",
       "0  https://images-na.ssl-images-amazon.com/images...   \n",
       "1  http://www.lexpress.fr/pictures/942/482469_le-...   \n",
       "2  http://www.gabonactu.com/wp-content/uploads/20...   \n",
       "3  https://gw.geneanet.org/public/img/media/depos...   \n",
       "4  http://wulab.tch.harvard.edu/images/Members/Li...   \n",
       "\n",
       "                                                url5  \n",
       "0  https://upload.wikimedia.org/wikipedia/commons...  \n",
       "1  http://www.paris-normandie.fr/documents/10157/...  \n",
       "2  http://www.ogooueinfos.com/IMG/jpg/1250705061-...  \n",
       "3  http://www.assemblee-nationale.fr/sycomore/bio...  \n",
       "4  https://image.slidesharecdn.com/f5b184ee-005f-...  "
      ]
     },
     "execution_count": 111,
     "metadata": {},
     "output_type": "execute_result"
    }
   ],
   "source": [
    "df = return_url_df(path, \"test.csv\")"
   ]
  },
  {
   "cell_type": "code",
   "execution_count": 80,
   "metadata": {
    "collapsed": false
   },
   "outputs": [],
   "source": [
    "# pd.read_csv(\"C:/Users/vujovisn/Documents/dev/altmetrics-twitter/gender_detection/google_img/out_gend_formal.csv\")"
   ]
  },
  {
   "cell_type": "code",
   "execution_count": null,
   "metadata": {
    "collapsed": true
   },
   "outputs": [],
   "source": []
  }
 ],
 "metadata": {
  "kernelspec": {
   "display_name": "Python 3",
   "language": "python",
   "name": "python3"
  },
  "language_info": {
   "codemirror_mode": {
    "name": "ipython",
    "version": 3
   },
   "file_extension": ".py",
   "mimetype": "text/x-python",
   "name": "python",
   "nbconvert_exporter": "python",
   "pygments_lexer": "ipython3",
   "version": "3.6.0"
  }
 },
 "nbformat": 4,
 "nbformat_minor": 2
}
