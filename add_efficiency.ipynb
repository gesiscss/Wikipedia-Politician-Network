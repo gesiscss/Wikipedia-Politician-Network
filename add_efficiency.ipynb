{
 "cells": [
  {
   "cell_type": "code",
   "execution_count": 18,
   "metadata": {
    "collapsed": true
   },
   "outputs": [],
   "source": [
    "import pandas as pd \n",
    "import networkx as nx\n",
    "import save_network as sn\n",
    "from os import listdir\n",
    "from os.path import isfile, join"
   ]
  },
  {
   "cell_type": "code",
   "execution_count": 19,
   "metadata": {
    "collapsed": true
   },
   "outputs": [],
   "source": [
    "path=\"gt_efficiency/\"\n",
    "path_save = \"data/graphs_eff\""
   ]
  },
  {
   "cell_type": "code",
   "execution_count": 20,
   "metadata": {
    "collapsed": false
   },
   "outputs": [],
   "source": [
    "def get_files(path,sufix):\n",
    "    \"\"\" Returns list of files on specified path with specified sufix\n",
    "    \"\"\"\n",
    "    mypath = path\n",
    "    return [f for f in listdir(mypath) if isfile(join(mypath, f)) and f.endswith(sufix)]"
   ]
  },
  {
   "cell_type": "code",
   "execution_count": 21,
   "metadata": {
    "collapsed": true
   },
   "outputs": [],
   "source": [
    "def get_dict(path, file):\n",
    "    \"\"\" Returns dictionary where KEY is node ID and value is node EFFICIENCY\n",
    "    \"\"\"\n",
    "    df = pd.read_csv(path+file)\n",
    "    df.columns = [\"ID\", \"efficiency\"]\n",
    "    return df[[\"ID\",\"efficiency\"]].set_index('ID')[\"efficiency\"].to_dict()"
   ]
  },
  {
   "cell_type": "code",
   "execution_count": 22,
   "metadata": {
    "collapsed": false
   },
   "outputs": [],
   "source": [
    "eff_files = sorted(get_files(path,\"eff.csv\"))"
   ]
  },
  {
   "cell_type": "code",
   "execution_count": 23,
   "metadata": {
    "collapsed": false
   },
   "outputs": [],
   "source": [
    "net_files = sorted(get_files(path,\"dir\"))"
   ]
  },
  {
   "cell_type": "code",
   "execution_count": 24,
   "metadata": {
    "collapsed": false
   },
   "outputs": [],
   "source": [
    "combined_list = list(zip(eff_files, net_files))"
   ]
  },
  {
   "cell_type": "code",
   "execution_count": 25,
   "metadata": {
    "collapsed": false
   },
   "outputs": [
    {
     "name": "stdout",
     "output_type": "stream",
     "text": [
      "Saved to: data/graphs_eff/2003_12_dir\n",
      "Saved to: data/graphs_eff/2006_12_dir\n",
      "Saved to: data/graphs_eff/2008_12_dir\n",
      "Saved to: data/graphs_eff/2011_12_dir\n",
      "Saved to: data/graphs_eff/2013_12_dir\n",
      "Saved to: data/graphs_eff/2016_12_dir\n"
     ]
    }
   ],
   "source": [
    "for row in combined_list:\n",
    "    eff_file = row[0]\n",
    "    net_file = row[1]\n",
    "    eff = get_dict(path,eff_file)\n",
    "    G = nx.read_gpickle(path+net_file)\n",
    "    nx.set_node_attributes(G, 'efficiency', eff)\n",
    "    nx.write_gpickle(G, path_save+\"/\"+net_file, protocol=2)\n",
    "    print(\"Saved to: \"+path_save+\"/\"+net_file)\n",
    "#     print(get_dict(path,eff_file))"
   ]
  },
  {
   "cell_type": "code",
   "execution_count": 26,
   "metadata": {
    "collapsed": false
   },
   "outputs": [],
   "source": [
    "G = nx.read_gpickle(\"data/graphs_eff/2016_12_dir\")"
   ]
  },
  {
   "cell_type": "code",
   "execution_count": 27,
   "metadata": {
    "collapsed": false
   },
   "outputs": [
    {
     "data": {
      "text/plain": [
       "1000016"
      ]
     },
     "execution_count": 27,
     "metadata": {},
     "output_type": "execute_result"
    }
   ],
   "source": [
    "G.nodes()[0]"
   ]
  },
  {
   "cell_type": "code",
   "execution_count": 17,
   "metadata": {
    "collapsed": false
   },
   "outputs": [
    {
     "data": {
      "text/plain": [
       "{'birthDate': datetime.datetime(1884, 5, 8, 0, 0),\n",
       " 'deathDate': datetime.datetime(1972, 12, 26, 0, 0),\n",
       " 'efficiency': 0.95722242512799993,\n",
       " 'eig_central': 0.14365042814911705,\n",
       " 'gender': 'male',\n",
       " 'in_degree': 120,\n",
       " 'k_core': 33,\n",
       " 'name': [' harry s truman '],\n",
       " 'nationality': ['american'],\n",
       " 'occupation': ['writer', 'politician'],\n",
       " 'out_degree': 28,\n",
       " 'party': [' democratic party (united states) ']}"
      ]
     },
     "execution_count": 17,
     "metadata": {},
     "output_type": "execute_result"
    }
   ],
   "source": [
    "G.node[G.nodes()[66]]"
   ]
  },
  {
   "cell_type": "code",
   "execution_count": null,
   "metadata": {
    "collapsed": true
   },
   "outputs": [],
   "source": []
  }
 ],
 "metadata": {
  "kernelspec": {
   "display_name": "Python 3",
   "language": "python",
   "name": "python3"
  },
  "language_info": {
   "codemirror_mode": {
    "name": "ipython",
    "version": 3
   },
   "file_extension": ".py",
   "mimetype": "text/x-python",
   "name": "python",
   "nbconvert_exporter": "python",
   "pygments_lexer": "ipython3",
   "version": "3.6.0"
  }
 },
 "nbformat": 4,
 "nbformat_minor": 2
}
