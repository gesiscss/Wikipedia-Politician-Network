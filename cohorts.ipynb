{
 "cells": [
  {
   "cell_type": "code",
   "execution_count": 16,
   "metadata": {},
   "outputs": [],
   "source": [
    "import pandas as pd\n",
    "import numpy as np\n",
    "import filter_edgelist_data as flt"
   ]
  },
  {
   "cell_type": "code",
   "execution_count": 17,
   "metadata": {
    "collapsed": true
   },
   "outputs": [],
   "source": [
    "def flatten_df(df, columns):\n",
    "    \"\"\" Returns flat list of elements in specified array of columns of the passed dataframe \n",
    "    \"\"\"\n",
    "    return pd.unique(df[columns].values.ravel())"
   ]
  },
  {
   "cell_type": "code",
   "execution_count": 18,
   "metadata": {},
   "outputs": [],
   "source": [
    "files = flt.get_files(\"data/edge-list/\")"
   ]
  },
  {
   "cell_type": "code",
   "execution_count": 19,
   "metadata": {},
   "outputs": [],
   "source": [
    "def files_starting(files, year):\n",
    "    return [file for file in files if file.startswith(str(year))]"
   ]
  },
  {
   "cell_type": "code",
   "execution_count": 20,
   "metadata": {},
   "outputs": [],
   "source": [
    "years = range(2001, 2017)\n",
    "path = \"data/edge-list/\""
   ]
  },
  {
   "cell_type": "code",
   "execution_count": 22,
   "metadata": {},
   "outputs": [
    {
     "name": "stdout",
     "output_type": "stream",
     "text": [
      "12\n",
      "Number of rows in DF:  485\n",
      "12\n",
      "Number of rows in DF:  4307\n",
      "12\n",
      "Number of rows in DF:  18078\n",
      "12\n",
      "Number of rows in DF:  72989\n",
      "12\n",
      "Number of rows in DF:  165888\n",
      "12\n",
      "Number of rows in DF:  288308\n",
      "12\n",
      "Number of rows in DF:  450924\n",
      "12\n",
      "Number of rows in DF:  625500\n",
      "12\n",
      "Number of rows in DF:  785937\n",
      "12\n",
      "Number of rows in DF:  962711\n",
      "12\n",
      "Number of rows in DF:  1117703\n",
      "12\n",
      "Number of rows in DF:  1263796\n",
      "12\n",
      "Number of rows in DF:  1403785\n",
      "12\n",
      "Number of rows in DF:  1550318\n",
      "12\n",
      "Number of rows in DF:  1706845\n",
      "12\n",
      "Number of rows in DF:  1831511\n"
     ]
    }
   ],
   "source": [
    "for year in years:\n",
    "    file_group = files_starting(files, year)\n",
    "    df_lst = []\n",
    "    for f in file_group:\n",
    "        df = pd.read_csv(path+f)\n",
    "        df_lst.append(df)\n",
    "    print(len(df_lst))\n",
    "    df = pd.concat(df_lst)\n",
    "#     df = pd.unique(df[['from','to']])\n",
    "#     print(year)\n",
    "    print(\"Number of rows in DF: \", len(df))\n",
    "    df.to_csv(\"data/cohort/concat/\"+str(year)+\".csv\", encoding=\"utf-8\", index=False)"
   ]
  },
  {
   "cell_type": "code",
   "execution_count": 29,
   "metadata": {
    "collapsed": true
   },
   "outputs": [],
   "source": [
    "lst = []\n",
    "path = \"data/cohort/concat\""
   ]
  },
  {
   "cell_type": "code",
   "execution_count": 30,
   "metadata": {},
   "outputs": [
    {
     "data": {
      "text/plain": [
       "['2001.csv',\n",
       " '2002.csv',\n",
       " '2003.csv',\n",
       " '2004.csv',\n",
       " '2005.csv',\n",
       " '2006.csv',\n",
       " '2007.csv',\n",
       " '2008.csv',\n",
       " '2009.csv',\n",
       " '2010.csv',\n",
       " '2011.csv',\n",
       " '2012.csv',\n",
       " '2013.csv',\n",
       " '2014.csv',\n",
       " '2015.csv',\n",
       " '2016.csv']"
      ]
     },
     "execution_count": 30,
     "metadata": {},
     "output_type": "execute_result"
    }
   ],
   "source": [
    "files = flt.get_files(path)\n",
    "files"
   ]
  },
  {
   "cell_type": "code",
   "execution_count": 31,
   "metadata": {},
   "outputs": [
    {
     "name": "stdout",
     "output_type": "stream",
     "text": [
      "Total number of nodes so far: 119\n",
      "Number of new nodes:  119\n",
      "Total number of nodes so far: 119\n",
      "Number of new nodes:  382\n",
      "Total number of nodes so far: 501\n",
      "Number of new nodes:  1144\n",
      "Total number of nodes so far: 1645\n",
      "Number of new nodes:  3051\n",
      "Total number of nodes so far: 4696\n",
      "Number of new nodes:  3266\n",
      "Total number of nodes so far: 7962\n",
      "Number of new nodes:  4276\n",
      "Total number of nodes so far: 12238\n",
      "Number of new nodes:  5217\n",
      "Total number of nodes so far: 17455\n",
      "Number of new nodes:  4315\n",
      "Total number of nodes so far: 21770\n",
      "Number of new nodes:  4435\n",
      "Total number of nodes so far: 26205\n",
      "Number of new nodes:  4063\n",
      "Total number of nodes so far: 30268\n",
      "Number of new nodes:  3432\n",
      "Total number of nodes so far: 33700\n",
      "Number of new nodes:  2776\n",
      "Total number of nodes so far: 36476\n",
      "Number of new nodes:  2901\n",
      "Total number of nodes so far: 39377\n",
      "Number of new nodes:  3095\n",
      "Total number of nodes so far: 42472\n",
      "Number of new nodes:  2834\n",
      "Total number of nodes so far: 45306\n",
      "Number of new nodes:  1173\n"
     ]
    }
   ],
   "source": [
    "for file in files:\n",
    "    # loading nodes from file\n",
    "    temp_df = pd.read_csv(\"data/cohort/concat/\"+file)\n",
    "    # making a list with unique nodes\n",
    "    new_lst = flatten_df(temp_df, [\"from\",\"to\"])\n",
    "    # converting to df\n",
    "    new_df = pd.DataFrame(new_lst)\n",
    "    new_df.columns = ['node']\n",
    "    \n",
    "    # checking if this is the first list\n",
    "    if len(lst) == 0:\n",
    "        new_df.to_csv(\"data/cohort/final/\"+file,encoding=\"utf-8\", index=False)\n",
    "        # adding new nodes to lst\n",
    "        lst = list(new_lst)\n",
    "        print(\"Total number of nodes so far:\",len(lst))\n",
    "        print(\"Number of new nodes: \",len(lst))\n",
    "    else: \n",
    "        print(\"Total number of nodes so far:\",len(lst))\n",
    "        # checking which nodes are not in lst already \n",
    "        new_nodes = new_df[~new_df['node'].isin(lst)]\n",
    "        new_nodes.to_csv(\"data/cohort/final/\"+file,encoding=\"utf-8\", index=False)\n",
    "        new_nodes = flatten_df(new_nodes,[\"node\"])\n",
    "        print(\"Number of new nodes: \",len(new_nodes))\n",
    "        # adding new nodes to lst\n",
    "        lst = list(lst)+list(new_nodes)\n",
    "    "
   ]
  },
  {
   "cell_type": "code",
   "execution_count": null,
   "metadata": {},
   "outputs": [],
   "source": [
    "# if len(lst) == 0:\n",
    "#     df = pd.DataFrame(new_lst)\n",
    "#     df.columns = [\"node\"]\n",
    "#     df.to_csv(\"data/cohort/\"+file,encoding=\"utf-8\")\n",
    "#     lst = list(new_lst)\n",
    "# else: \n",
    "#     print(\"Total number of nodes so far:\",len(lst))\n",
    "#     new_nodes = new_df[~new_df['node'].isin(lst)]\n",
    "#     new_nodes = flatten_df(new_nodes,[\"node\"])\n",
    "#     print(\"Number of new nodes: \",len(new_nodes))\n",
    "#     lst = list(lst)+list(new_nodes)\n",
    "# #     print(len(lst))"
   ]
  },
  {
   "cell_type": "code",
   "execution_count": 33,
   "metadata": {},
   "outputs": [
    {
     "data": {
      "text/plain": [
       "['2001.csv',\n",
       " '2002.csv',\n",
       " '2003.csv',\n",
       " '2004.csv',\n",
       " '2005.csv',\n",
       " '2006.csv',\n",
       " '2007.csv',\n",
       " '2008.csv',\n",
       " '2009.csv',\n",
       " '2010.csv',\n",
       " '2011.csv',\n",
       " '2012.csv',\n",
       " '2013.csv',\n",
       " '2014.csv',\n",
       " '2015.csv',\n",
       " '2016.csv']"
      ]
     },
     "execution_count": 33,
     "metadata": {},
     "output_type": "execute_result"
    }
   ],
   "source": [
    "files = flt.get_files(\"data/cohort/final\")\n",
    "files"
   ]
  },
  {
   "cell_type": "code",
   "execution_count": 34,
   "metadata": {
    "collapsed": true
   },
   "outputs": [],
   "source": [
    "df_lst = []\n",
    "for file in files:\n",
    "    df = pd.read_csv(\"data/cohort/final/\"+file)\n",
    "    year = file.split(\".\")[0]\n",
    "    df[\"year\"] = [year]*len(df)\n",
    "    df_lst.append(df)"
   ]
  },
  {
   "cell_type": "code",
   "execution_count": 37,
   "metadata": {},
   "outputs": [],
   "source": [
    "alles = pd.concat(df_lst)"
   ]
  },
  {
   "cell_type": "code",
   "execution_count": 39,
   "metadata": {},
   "outputs": [
    {
     "data": {
      "text/plain": [
       "46479"
      ]
     },
     "execution_count": 39,
     "metadata": {},
     "output_type": "execute_result"
    }
   ],
   "source": [
    "len(alles)"
   ]
  },
  {
   "cell_type": "code",
   "execution_count": 40,
   "metadata": {
    "collapsed": true
   },
   "outputs": [],
   "source": [
    "alles.to_csv(\"data/cohort/all_cohorts.csv\",encoding=\"utf-8\",index=False)"
   ]
  },
  {
   "cell_type": "code",
   "execution_count": null,
   "metadata": {
    "collapsed": true
   },
   "outputs": [],
   "source": []
  }
 ],
 "metadata": {
  "kernelspec": {
   "display_name": "Python 3",
   "language": "python",
   "name": "python3"
  },
  "language_info": {
   "codemirror_mode": {
    "name": "ipython",
    "version": 3
   },
   "file_extension": ".py",
   "mimetype": "text/x-python",
   "name": "python",
   "nbconvert_exporter": "python",
   "pygments_lexer": "ipython3",
   "version": "3.6.5"
  }
 },
 "nbformat": 4,
 "nbformat_minor": 2
}
