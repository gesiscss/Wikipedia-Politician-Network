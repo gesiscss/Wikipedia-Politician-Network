{
 "cells": [
  {
   "cell_type": "code",
   "execution_count": 123,
   "metadata": {
    "collapsed": true
   },
   "outputs": [],
   "source": [
    "import networkx as nx \n",
    "from os import listdir\n",
    "from os.path import isfile, join\n",
    "import save_network as snet"
   ]
  },
  {
   "cell_type": "code",
   "execution_count": 70,
   "metadata": {
    "collapsed": true
   },
   "outputs": [],
   "source": [
    "G = nx.read_gpickle(\"data/graphs/2012_12_dir\")"
   ]
  },
  {
   "cell_type": "code",
   "execution_count": 110,
   "metadata": {
    "collapsed": true
   },
   "outputs": [],
   "source": [
    "# remove self loops, if node is pointing to self\n",
    "G.remove_edges_from(G.selfloop_edges())"
   ]
  },
  {
   "cell_type": "code",
   "execution_count": 102,
   "metadata": {
    "collapsed": true
   },
   "outputs": [],
   "source": [
    "# gender_data = data[[\"ID\",\"gender\"]].set_index('ID')['gender'].to_dict()"
   ]
  },
  {
   "cell_type": "code",
   "execution_count": 107,
   "metadata": {
    "collapsed": false
   },
   "outputs": [],
   "source": [
    "nx.set_node_attributes(G, 'in_degree', G.in_degree())\n",
    "nx.set_node_attributes(G, 'out_degree', G.out_degree())\n",
    "nx.set_node_attributes(G, 'k_core', nx.core_number(G))\n",
    "nx.set_node_attributes(G, 'eig_central', nx.eigenvector_centrality(G))"
   ]
  },
  {
   "cell_type": "code",
   "execution_count": 108,
   "metadata": {
    "collapsed": false
   },
   "outputs": [
    {
     "data": {
      "text/plain": [
       "{'eig_central': 2.6561894702452105e-24,\n",
       " 'gender': 'male',\n",
       " 'in_degree': 1,\n",
       " 'k_core': 3,\n",
       " 'name': [' sebastian arcos bergnes ', ' arcos bergnes sebastian '],\n",
       " 'nationality': ['cuban'],\n",
       " 'occupation': ['dentist', 'politician'],\n",
       " 'out_degree': 3,\n",
       " 'party': []}"
      ]
     },
     "execution_count": 108,
     "metadata": {},
     "output_type": "execute_result"
    }
   ],
   "source": [
    "G.node[1000016]"
   ]
  },
  {
   "cell_type": "code",
   "execution_count": 109,
   "metadata": {
    "collapsed": true
   },
   "outputs": [],
   "source": [
    "# https://coderwall.com/p/ohk6cg/remote-access-to-ipython-notebooks-via-ssh usefull link :) "
   ]
  },
  {
   "cell_type": "code",
   "execution_count": 118,
   "metadata": {
    "collapsed": false
   },
   "outputs": [
    {
     "data": {
      "text/plain": [
       "['2001_06_dir',\n",
       " '2001_12_dir',\n",
       " '2002_06_dir',\n",
       " '2002_12_dir',\n",
       " '2003_06_dir',\n",
       " '2003_12_dir',\n",
       " '2004_06_dir',\n",
       " '2004_12_dir',\n",
       " '2005_06_dir',\n",
       " '2005_12_dir',\n",
       " '2006_06_dir',\n",
       " '2006_12_dir',\n",
       " '2007_06_dir',\n",
       " '2007_12_dir',\n",
       " '2008_06_dir',\n",
       " '2008_12_dir',\n",
       " '2009_06_dir',\n",
       " '2009_12_dir',\n",
       " '2010_06_dir',\n",
       " '2010_12_dir',\n",
       " '2011_06_dir',\n",
       " '2011_12_dir',\n",
       " '2012_06_dir',\n",
       " '2012_12_dir',\n",
       " '2013_06_dir',\n",
       " '2013_12_dir',\n",
       " '2014_06_dir',\n",
       " '2014_12_dir',\n",
       " '2015_06_dir',\n",
       " '2015_12_dir',\n",
       " '2016_06_dir',\n",
       " '2016_12_dir']"
      ]
     },
     "execution_count": 118,
     "metadata": {},
     "output_type": "execute_result"
    }
   ],
   "source": [
    "mypath = \"data/graphs\"\n",
    "files = [f for f in listdir(mypath) if isfile(join(mypath, f)) and  f.endswith(\"dir\")]\n",
    "files"
   ]
  },
  {
   "cell_type": "code",
   "execution_count": 120,
   "metadata": {
    "collapsed": true
   },
   "outputs": [],
   "source": [
    "def get_files(path, ends_with):\n",
    "    \"\"\" Returns a list of files in a directory\n",
    "        Input parameter: path to directory\n",
    "    \"\"\"\n",
    "    mypath = path\n",
    "    complete = [f for f in listdir(mypath) if isfile(join(mypath, f)) and  f.endswith(ends_with)]\n",
    "    return complete"
   ]
  },
  {
   "cell_type": "code",
   "execution_count": 128,
   "metadata": {
    "collapsed": false
   },
   "outputs": [],
   "source": [
    "files = get_files(mypath, \"dir\")"
   ]
  },
  {
   "cell_type": "code",
   "execution_count": 136,
   "metadata": {
    "collapsed": false
   },
   "outputs": [
    {
     "name": "stdout",
     "output_type": "stream",
     "text": [
      "Graph 2003_12_dir stats computed.\n",
      "Network saved as pickle on PATH:  data/graphs2/2003_12_dir_dir\n",
      "Graph 2004_06_dir stats computed.\n",
      "Network saved as pickle on PATH:  data/graphs2/2004_06_dir_dir\n",
      "Graph 2004_12_dir stats computed.\n",
      "Network saved as pickle on PATH:  data/graphs2/2004_12_dir_dir\n",
      "Graph 2005_06_dir stats computed.\n",
      "Network saved as pickle on PATH:  data/graphs2/2005_06_dir_dir\n",
      "Graph 2005_12_dir stats computed.\n",
      "Network saved as pickle on PATH:  data/graphs2/2005_12_dir_dir\n",
      "Graph 2006_06_dir stats computed.\n",
      "Network saved as pickle on PATH:  data/graphs2/2006_06_dir_dir\n",
      "Graph 2006_12_dir stats computed.\n",
      "Network saved as pickle on PATH:  data/graphs2/2006_12_dir_dir\n",
      "Graph 2007_06_dir stats computed.\n",
      "Network saved as pickle on PATH:  data/graphs2/2007_06_dir_dir\n",
      "Graph 2007_12_dir stats computed.\n",
      "Network saved as pickle on PATH:  data/graphs2/2007_12_dir_dir\n",
      "Graph 2008_06_dir stats computed.\n",
      "Network saved as pickle on PATH:  data/graphs2/2008_06_dir_dir\n",
      "Graph 2008_12_dir stats computed.\n",
      "Network saved as pickle on PATH:  data/graphs2/2008_12_dir_dir\n",
      "Graph 2009_06_dir stats computed.\n",
      "Network saved as pickle on PATH:  data/graphs2/2009_06_dir_dir\n",
      "Graph 2009_12_dir stats computed.\n",
      "Network saved as pickle on PATH:  data/graphs2/2009_12_dir_dir\n",
      "Graph 2010_06_dir stats computed.\n",
      "Network saved as pickle on PATH:  data/graphs2/2010_06_dir_dir\n",
      "Graph 2010_12_dir stats computed.\n",
      "Network saved as pickle on PATH:  data/graphs2/2010_12_dir_dir\n",
      "Graph 2011_06_dir stats computed.\n",
      "Network saved as pickle on PATH:  data/graphs2/2011_06_dir_dir\n",
      "Graph 2011_12_dir stats computed.\n",
      "Network saved as pickle on PATH:  data/graphs2/2011_12_dir_dir\n",
      "Graph 2012_06_dir stats computed.\n",
      "Network saved as pickle on PATH:  data/graphs2/2012_06_dir_dir\n",
      "Graph 2012_12_dir stats computed.\n",
      "Network saved as pickle on PATH:  data/graphs2/2012_12_dir_dir\n",
      "Graph 2013_06_dir stats computed.\n",
      "Network saved as pickle on PATH:  data/graphs2/2013_06_dir_dir\n",
      "Graph 2013_12_dir stats computed.\n",
      "Network saved as pickle on PATH:  data/graphs2/2013_12_dir_dir\n",
      "Graph 2014_06_dir stats computed.\n",
      "Network saved as pickle on PATH:  data/graphs2/2014_06_dir_dir\n",
      "Graph 2014_12_dir stats computed.\n",
      "Network saved as pickle on PATH:  data/graphs2/2014_12_dir_dir\n",
      "Graph 2015_06_dir stats computed.\n",
      "Network saved as pickle on PATH:  data/graphs2/2015_06_dir_dir\n",
      "Graph 2015_12_dir stats computed.\n",
      "Network saved as pickle on PATH:  data/graphs2/2015_12_dir_dir\n",
      "Graph 2016_06_dir stats computed.\n",
      "Network saved as pickle on PATH:  data/graphs2/2016_06_dir_dir\n",
      "Graph 2016_12_dir stats computed.\n",
      "Network saved as pickle on PATH:  data/graphs2/2016_12_dir_dir\n"
     ]
    }
   ],
   "source": [
    "for file in files: \n",
    "    G = nx.read_gpickle(mypath+\"/\"+file)\n",
    "    G.remove_edges_from(G.selfloop_edges())\n",
    "    nx.set_node_attributes(G, 'in_degree', G.in_degree())\n",
    "    nx.set_node_attributes(G, 'out_degree', G.out_degree())\n",
    "    nx.set_node_attributes(G, 'k_core', nx.core_number(G))\n",
    "    nx.set_node_attributes(G, 'eig_central', nx.eigenvector_centrality_numpy(G))\n",
    "    print(\"Graph {} stats computed.\".format(file))\n",
    "    snet.save_network(G, \"data/graphs2\", file, \"dir\")"
   ]
  },
  {
   "cell_type": "code",
   "execution_count": 130,
   "metadata": {
    "collapsed": false
   },
   "outputs": [],
   "source": [
    "# files"
   ]
  },
  {
   "cell_type": "code",
   "execution_count": 138,
   "metadata": {
    "collapsed": false
   },
   "outputs": [],
   "source": [
    "G = nx.read_gpickle(\"data/graphs2/2003_12_dir_dir\")"
   ]
  },
  {
   "cell_type": "code",
   "execution_count": 140,
   "metadata": {
    "collapsed": false
   },
   "outputs": [
    {
     "data": {
      "text/plain": [
       "1000371"
      ]
     },
     "execution_count": 140,
     "metadata": {},
     "output_type": "execute_result"
    }
   ],
   "source": [
    "G.nodes()[0]"
   ]
  },
  {
   "cell_type": "code",
   "execution_count": 144,
   "metadata": {
    "collapsed": false
   },
   "outputs": [
    {
     "data": {
      "text/plain": [
       "{'eig_central': 0.028374873055327515,\n",
       " 'gender': 'male',\n",
       " 'in_degree': 26,\n",
       " 'k_core': 6,\n",
       " 'name': [' saddam hussein '],\n",
       " 'nationality': ['iraqi'],\n",
       " 'occupation': ['novelist', 'writer', 'politician'],\n",
       " 'out_degree': 7,\n",
       " 'party': [\" ba'ath party \", \" arab socialist ba'ath party – iraq region \"]}"
      ]
     },
     "execution_count": 144,
     "metadata": {},
     "output_type": "execute_result"
    }
   ],
   "source": [
    "G.node[G.nodes()[8]]"
   ]
  },
  {
   "cell_type": "code",
   "execution_count": null,
   "metadata": {
    "collapsed": true
   },
   "outputs": [],
   "source": []
  }
 ],
 "metadata": {
  "kernelspec": {
   "display_name": "Python 3",
   "language": "python",
   "name": "python3"
  },
  "language_info": {
   "codemirror_mode": {
    "name": "ipython",
    "version": 3
   },
   "file_extension": ".py",
   "mimetype": "text/x-python",
   "name": "python",
   "nbconvert_exporter": "python",
   "pygments_lexer": "ipython3",
   "version": "3.6.0"
  }
 },
 "nbformat": 4,
 "nbformat_minor": 2
}
